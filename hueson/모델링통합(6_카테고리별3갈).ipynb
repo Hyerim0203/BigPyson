{
  "nbformat": 4,
  "nbformat_minor": 0,
  "metadata": {
    "colab": {
      "name": "모델링통합(6.카테고리별3갈).ipynb",
      "provenance": [],
      "collapsed_sections": [
        "A3QPyARfkcuO",
        "5W896oTckftT",
        "49vM5SEZknLy"
      ],
      "toc_visible": true
    },
    "kernelspec": {
      "name": "python3",
      "display_name": "Python 3"
    }
  },
  "cells": [
    {
      "cell_type": "code",
      "metadata": {
        "id": "j-_kGvx0j4K9",
        "colab_type": "code",
        "colab": {
          "base_uri": "https://localhost:8080/",
          "height": 72
        },
        "outputId": "e2e8f3c1-3cc4-4ae7-ed44-b8a86110d773"
      },
      "source": [
        "\n",
        "import matplotlib.pyplot as plt\n",
        "import numpy as np\n",
        "import pandas as pd\n",
        "import datetime as dt\n",
        "import seaborn as sns\n",
        "from scipy import stats\n",
        "import math"
      ],
      "execution_count": 1,
      "outputs": [
        {
          "output_type": "stream",
          "text": [
            "/usr/local/lib/python3.6/dist-packages/statsmodels/tools/_testing.py:19: FutureWarning: pandas.util.testing is deprecated. Use the functions in the public API at pandas.testing instead.\n",
            "  import pandas.util.testing as tm\n"
          ],
          "name": "stderr"
        }
      ]
    },
    {
      "cell_type": "code",
      "metadata": {
        "id": "QFYDzaGnyaCU",
        "colab_type": "code",
        "colab": {
          "base_uri": "https://localhost:8080/",
          "height": 650
        },
        "outputId": "6bc0bc77-5e29-4e81-9f34-ecadee1ad4e9"
      },
      "source": [
        "#나눔 폰트 설치\n",
        "!sudo apt-get install -y fonts-nanum\n",
        "!sudo fc-cache -fv\n",
        "!rm ~/.cache/matplotlib -rf"
      ],
      "execution_count": 2,
      "outputs": [
        {
          "output_type": "stream",
          "text": [
            "Reading package lists... Done\n",
            "Building dependency tree       \n",
            "Reading state information... Done\n",
            "The following NEW packages will be installed:\n",
            "  fonts-nanum\n",
            "0 upgraded, 1 newly installed, 0 to remove and 11 not upgraded.\n",
            "Need to get 9,604 kB of archives.\n",
            "After this operation, 29.5 MB of additional disk space will be used.\n",
            "Get:1 http://archive.ubuntu.com/ubuntu bionic/universe amd64 fonts-nanum all 20170925-1 [9,604 kB]\n",
            "Fetched 9,604 kB in 1s (7,695 kB/s)\n",
            "debconf: unable to initialize frontend: Dialog\n",
            "debconf: (No usable dialog-like program is installed, so the dialog based frontend cannot be used. at /usr/share/perl5/Debconf/FrontEnd/Dialog.pm line 76, <> line 1.)\n",
            "debconf: falling back to frontend: Readline\n",
            "debconf: unable to initialize frontend: Readline\n",
            "debconf: (This frontend requires a controlling tty.)\n",
            "debconf: falling back to frontend: Teletype\n",
            "dpkg-preconfigure: unable to re-open stdin: \n",
            "Selecting previously unselected package fonts-nanum.\n",
            "(Reading database ... 144676 files and directories currently installed.)\n",
            "Preparing to unpack .../fonts-nanum_20170925-1_all.deb ...\n",
            "Unpacking fonts-nanum (20170925-1) ...\n",
            "Setting up fonts-nanum (20170925-1) ...\n",
            "Processing triggers for fontconfig (2.12.6-0ubuntu2) ...\n",
            "/usr/share/fonts: caching, new cache contents: 0 fonts, 1 dirs\n",
            "/usr/share/fonts/truetype: caching, new cache contents: 0 fonts, 3 dirs\n",
            "/usr/share/fonts/truetype/humor-sans: caching, new cache contents: 1 fonts, 0 dirs\n",
            "/usr/share/fonts/truetype/liberation: caching, new cache contents: 16 fonts, 0 dirs\n",
            "/usr/share/fonts/truetype/nanum: caching, new cache contents: 10 fonts, 0 dirs\n",
            "/usr/local/share/fonts: caching, new cache contents: 0 fonts, 0 dirs\n",
            "/root/.local/share/fonts: skipping, no such directory\n",
            "/root/.fonts: skipping, no such directory\n",
            "/var/cache/fontconfig: cleaning cache directory\n",
            "/root/.cache/fontconfig: not cleaning non-existent cache directory\n",
            "/root/.fontconfig: not cleaning non-existent cache directory\n",
            "fc-cache: succeeded\n"
          ],
          "name": "stdout"
        }
      ]
    },
    {
      "cell_type": "code",
      "metadata": {
        "id": "fGxK4qvvyex6",
        "colab_type": "code",
        "colab": {}
      },
      "source": [
        "#한글폰트 지정\n",
        "plt.rc('font', family='NanumBarunGothic') "
      ],
      "execution_count": 3,
      "outputs": []
    },
    {
      "cell_type": "code",
      "metadata": {
        "id": "Be9_eP7WLHjY",
        "colab_type": "code",
        "colab": {}
      },
      "source": [
        "total = pd.read_excel('/content/drive/My Drive/빅콘폴더/2020_bigcontest_champion_performance.xlsx', header=1)\n",
        "total = total[total['상품군']!='무형'] \n",
        "total = total[total['판매단가'] < total['취급액']]\n",
        "total['날짜'] = pd.to_datetime(total['방송일시']).dt.date\n",
        "total['날짜'] = pd.to_datetime(total['날짜'])\n",
        "total['주문량'] = total['취급액']/total['판매단가']\n",
        "total[\"요일\"]=total[\"방송일시\"].dt.dayofweek # 요일\n",
        "total[\"시\"]=total[\"방송일시\"].dt.hour # 시\n",
        "total['월'] = total['방송일시'].dt.month # 월"
      ],
      "execution_count": 4,
      "outputs": []
    },
    {
      "cell_type": "code",
      "metadata": {
        "id": "UW0jUuX9LIJR",
        "colab_type": "code",
        "colab": {}
      },
      "source": [
        "total = total.fillna(method='ffill')"
      ],
      "execution_count": 5,
      "outputs": []
    },
    {
      "cell_type": "code",
      "metadata": {
        "id": "LHm8MWhCLpCt",
        "colab_type": "code",
        "colab": {
          "base_uri": "https://localhost:8080/",
          "height": 586
        },
        "outputId": "2ad36763-dd1c-4fe4-feb0-b0eb1e070466"
      },
      "source": [
        "total = total[total['취급액']!=50000]\n",
        "total.reindex(range(len(total)))"
      ],
      "execution_count": 6,
      "outputs": [
        {
          "output_type": "execute_result",
          "data": {
            "text/html": [
              "<div>\n",
              "<style scoped>\n",
              "    .dataframe tbody tr th:only-of-type {\n",
              "        vertical-align: middle;\n",
              "    }\n",
              "\n",
              "    .dataframe tbody tr th {\n",
              "        vertical-align: top;\n",
              "    }\n",
              "\n",
              "    .dataframe thead th {\n",
              "        text-align: right;\n",
              "    }\n",
              "</style>\n",
              "<table border=\"1\" class=\"dataframe\">\n",
              "  <thead>\n",
              "    <tr style=\"text-align: right;\">\n",
              "      <th></th>\n",
              "      <th>방송일시</th>\n",
              "      <th>노출(분)</th>\n",
              "      <th>마더코드</th>\n",
              "      <th>상품코드</th>\n",
              "      <th>상품명</th>\n",
              "      <th>상품군</th>\n",
              "      <th>판매단가</th>\n",
              "      <th>취급액</th>\n",
              "      <th>날짜</th>\n",
              "      <th>주문량</th>\n",
              "      <th>요일</th>\n",
              "      <th>시</th>\n",
              "      <th>월</th>\n",
              "    </tr>\n",
              "  </thead>\n",
              "  <tbody>\n",
              "    <tr>\n",
              "      <th>0</th>\n",
              "      <td>2019-01-01 06:00:00</td>\n",
              "      <td>20.0</td>\n",
              "      <td>100346.0</td>\n",
              "      <td>201072.0</td>\n",
              "      <td>테이트 남성 셀린니트3종</td>\n",
              "      <td>의류</td>\n",
              "      <td>39900.0</td>\n",
              "      <td>2099000.0</td>\n",
              "      <td>2019-01-01</td>\n",
              "      <td>52.606516</td>\n",
              "      <td>1.0</td>\n",
              "      <td>6.0</td>\n",
              "      <td>1.0</td>\n",
              "    </tr>\n",
              "    <tr>\n",
              "      <th>1</th>\n",
              "      <td>2019-01-01 06:00:00</td>\n",
              "      <td>20.0</td>\n",
              "      <td>100346.0</td>\n",
              "      <td>201079.0</td>\n",
              "      <td>테이트 여성 셀린니트3종</td>\n",
              "      <td>의류</td>\n",
              "      <td>39900.0</td>\n",
              "      <td>4371000.0</td>\n",
              "      <td>2019-01-01</td>\n",
              "      <td>109.548872</td>\n",
              "      <td>1.0</td>\n",
              "      <td>6.0</td>\n",
              "      <td>1.0</td>\n",
              "    </tr>\n",
              "    <tr>\n",
              "      <th>2</th>\n",
              "      <td>2019-01-01 06:20:00</td>\n",
              "      <td>20.0</td>\n",
              "      <td>100346.0</td>\n",
              "      <td>201072.0</td>\n",
              "      <td>테이트 남성 셀린니트3종</td>\n",
              "      <td>의류</td>\n",
              "      <td>39900.0</td>\n",
              "      <td>3262000.0</td>\n",
              "      <td>2019-01-01</td>\n",
              "      <td>81.754386</td>\n",
              "      <td>1.0</td>\n",
              "      <td>6.0</td>\n",
              "      <td>1.0</td>\n",
              "    </tr>\n",
              "    <tr>\n",
              "      <th>3</th>\n",
              "      <td>2019-01-01 06:20:00</td>\n",
              "      <td>20.0</td>\n",
              "      <td>100346.0</td>\n",
              "      <td>201079.0</td>\n",
              "      <td>테이트 여성 셀린니트3종</td>\n",
              "      <td>의류</td>\n",
              "      <td>39900.0</td>\n",
              "      <td>6955000.0</td>\n",
              "      <td>2019-01-01</td>\n",
              "      <td>174.310777</td>\n",
              "      <td>1.0</td>\n",
              "      <td>6.0</td>\n",
              "      <td>1.0</td>\n",
              "    </tr>\n",
              "    <tr>\n",
              "      <th>4</th>\n",
              "      <td>2019-01-01 06:40:00</td>\n",
              "      <td>20.0</td>\n",
              "      <td>100346.0</td>\n",
              "      <td>201072.0</td>\n",
              "      <td>테이트 남성 셀린니트3종</td>\n",
              "      <td>의류</td>\n",
              "      <td>39900.0</td>\n",
              "      <td>6672000.0</td>\n",
              "      <td>2019-01-01</td>\n",
              "      <td>167.218045</td>\n",
              "      <td>1.0</td>\n",
              "      <td>6.0</td>\n",
              "      <td>1.0</td>\n",
              "    </tr>\n",
              "    <tr>\n",
              "      <th>...</th>\n",
              "      <td>...</td>\n",
              "      <td>...</td>\n",
              "      <td>...</td>\n",
              "      <td>...</td>\n",
              "      <td>...</td>\n",
              "      <td>...</td>\n",
              "      <td>...</td>\n",
              "      <td>...</td>\n",
              "      <td>...</td>\n",
              "      <td>...</td>\n",
              "      <td>...</td>\n",
              "      <td>...</td>\n",
              "      <td>...</td>\n",
              "    </tr>\n",
              "    <tr>\n",
              "      <th>35374</th>\n",
              "      <td>2019-12-10 10:40:00</td>\n",
              "      <td>20.0</td>\n",
              "      <td>100129.0</td>\n",
              "      <td>200340.0</td>\n",
              "      <td>뱅뱅 남성 본딩기모데님3종</td>\n",
              "      <td>의류</td>\n",
              "      <td>99000.0</td>\n",
              "      <td>23492000.0</td>\n",
              "      <td>2019-12-10</td>\n",
              "      <td>237.292929</td>\n",
              "      <td>1.0</td>\n",
              "      <td>10.0</td>\n",
              "      <td>12.0</td>\n",
              "    </tr>\n",
              "    <tr>\n",
              "      <th>35375</th>\n",
              "      <td>2019-12-10 10:40:00</td>\n",
              "      <td>20.0</td>\n",
              "      <td>100129.0</td>\n",
              "      <td>200351.0</td>\n",
              "      <td>뱅뱅 여성 본딩기모데님3종</td>\n",
              "      <td>의류</td>\n",
              "      <td>99000.0</td>\n",
              "      <td>15706000.0</td>\n",
              "      <td>2019-12-10</td>\n",
              "      <td>158.646465</td>\n",
              "      <td>1.0</td>\n",
              "      <td>10.0</td>\n",
              "      <td>12.0</td>\n",
              "    </tr>\n",
              "    <tr>\n",
              "      <th>35376</th>\n",
              "      <td>2019-12-10 11:00:00</td>\n",
              "      <td>20.0</td>\n",
              "      <td>100129.0</td>\n",
              "      <td>200340.0</td>\n",
              "      <td>뱅뱅 남성 본딩기모데님3종</td>\n",
              "      <td>의류</td>\n",
              "      <td>99000.0</td>\n",
              "      <td>32268000.0</td>\n",
              "      <td>2019-12-10</td>\n",
              "      <td>325.939394</td>\n",
              "      <td>1.0</td>\n",
              "      <td>11.0</td>\n",
              "      <td>12.0</td>\n",
              "    </tr>\n",
              "    <tr>\n",
              "      <th>35377</th>\n",
              "      <td>2019-12-10 11:00:00</td>\n",
              "      <td>20.0</td>\n",
              "      <td>100129.0</td>\n",
              "      <td>200351.0</td>\n",
              "      <td>뱅뱅 여성 본딩기모데님3종</td>\n",
              "      <td>의류</td>\n",
              "      <td>99000.0</td>\n",
              "      <td>19072000.0</td>\n",
              "      <td>2019-12-10</td>\n",
              "      <td>192.646465</td>\n",
              "      <td>1.0</td>\n",
              "      <td>11.0</td>\n",
              "      <td>12.0</td>\n",
              "    </tr>\n",
              "    <tr>\n",
              "      <th>35378</th>\n",
              "      <td>2019-12-10 11:20:00</td>\n",
              "      <td>20.0</td>\n",
              "      <td>100498.0</td>\n",
              "      <td>201500.0</td>\n",
              "      <td>하림 치킨스테이크 4봉</td>\n",
              "      <td>농수축</td>\n",
              "      <td>34900.0</td>\n",
              "      <td>10342000.0</td>\n",
              "      <td>2019-12-10</td>\n",
              "      <td>296.332378</td>\n",
              "      <td>1.0</td>\n",
              "      <td>11.0</td>\n",
              "      <td>12.0</td>\n",
              "    </tr>\n",
              "  </tbody>\n",
              "</table>\n",
              "<p>35379 rows × 13 columns</p>\n",
              "</div>"
            ],
            "text/plain": [
              "                     방송일시  노출(분)      마더코드  ...   요일     시     월\n",
              "0     2019-01-01 06:00:00   20.0  100346.0  ...  1.0   6.0   1.0\n",
              "1     2019-01-01 06:00:00   20.0  100346.0  ...  1.0   6.0   1.0\n",
              "2     2019-01-01 06:20:00   20.0  100346.0  ...  1.0   6.0   1.0\n",
              "3     2019-01-01 06:20:00   20.0  100346.0  ...  1.0   6.0   1.0\n",
              "4     2019-01-01 06:40:00   20.0  100346.0  ...  1.0   6.0   1.0\n",
              "...                   ...    ...       ...  ...  ...   ...   ...\n",
              "35374 2019-12-10 10:40:00   20.0  100129.0  ...  1.0  10.0  12.0\n",
              "35375 2019-12-10 10:40:00   20.0  100129.0  ...  1.0  10.0  12.0\n",
              "35376 2019-12-10 11:00:00   20.0  100129.0  ...  1.0  11.0  12.0\n",
              "35377 2019-12-10 11:00:00   20.0  100129.0  ...  1.0  11.0  12.0\n",
              "35378 2019-12-10 11:20:00   20.0  100498.0  ...  1.0  11.0  12.0\n",
              "\n",
              "[35379 rows x 13 columns]"
            ]
          },
          "metadata": {
            "tags": []
          },
          "execution_count": 6
        }
      ]
    },
    {
      "cell_type": "code",
      "metadata": {
        "id": "2D-rvXrEMa4W",
        "colab_type": "code",
        "colab": {
          "base_uri": "https://localhost:8080/",
          "height": 52
        },
        "outputId": "8c1d4e46-f3df-45c7-f075-000b0e92fabf"
      },
      "source": [
        "total['상품군'].unique()"
      ],
      "execution_count": 7,
      "outputs": [
        {
          "output_type": "execute_result",
          "data": {
            "text/plain": [
              "array(['의류', '속옷', '주방', '농수축', '이미용', '가전', '생활용품', '건강기능', '잡화', '가구',\n",
              "       '침구'], dtype=object)"
            ]
          },
          "metadata": {
            "tags": []
          },
          "execution_count": 7
        }
      ]
    },
    {
      "cell_type": "markdown",
      "metadata": {
        "id": "oShzC-wQkadP",
        "colab_type": "text"
      },
      "source": [
        "# 데이터 생성"
      ]
    },
    {
      "cell_type": "code",
      "metadata": {
        "id": "c4OnO7TLhk2O",
        "colab_type": "code",
        "colab": {}
      },
      "source": [
        "train = pd.read_excel('/content/drive/My Drive/빅콘폴더/최종 데이터셋 후보/train.xlsx')\n",
        "train = train[train['판매단가'] < train['취급액']]"
      ],
      "execution_count": 8,
      "outputs": []
    },
    {
      "cell_type": "code",
      "metadata": {
        "id": "y6FN_5X3hk0F",
        "colab_type": "code",
        "colab": {}
      },
      "source": [
        "train['노출(분)'] = train['노출(분)'].replace(0, math.nan)\n",
        "train['노출(분)'] = train['노출(분)'].fillna(method='ffill')"
      ],
      "execution_count": 9,
      "outputs": []
    },
    {
      "cell_type": "code",
      "metadata": {
        "id": "W2bcgHANdlab",
        "colab_type": "code",
        "colab": {}
      },
      "source": [
        "train.index = np.arange(7513)"
      ],
      "execution_count": 10,
      "outputs": []
    },
    {
      "cell_type": "code",
      "metadata": {
        "id": "07gxL6uSiGSm",
        "colab_type": "code",
        "colab": {}
      },
      "source": [
        "test = pd.read_excel('/content/drive/My Drive/빅콘폴더/test.xlsx', header=1)"
      ],
      "execution_count": 11,
      "outputs": []
    },
    {
      "cell_type": "code",
      "metadata": {
        "id": "d13P5mDvh7k-",
        "colab_type": "code",
        "colab": {}
      },
      "source": [
        "data = pd.read_excel('/content/drive/My Drive/빅콘폴더/2020_bigcontest_champion_performance.xlsx', header=1)\n",
        "data = data[data['상품군']!='무형'] \n",
        "data = data[data['판매단가'] < data['취급액']]\n",
        "data['날짜'] = pd.to_datetime(data['방송일시']).dt.date\n",
        "data['날짜'] = pd.to_datetime(data['날짜'])\n",
        "data['주문량'] = data['취급액']/data['판매단가']\n",
        "data[\"요일\"]=data[\"방송일시\"].dt.dayofweek # 요일\n",
        "data[\"시\"]=data[\"방송일시\"].dt.hour # 시\n",
        "data['월'] = data['방송일시'].dt.month # 월\n",
        "weekday = {\"월\":0,\"화\":1,\"수\":2,\"목\":3,\"금\":4,\"토\":5,\"일\":6}"
      ],
      "execution_count": 12,
      "outputs": []
    },
    {
      "cell_type": "code",
      "metadata": {
        "id": "TzRT8jKLh7iv",
        "colab_type": "code",
        "colab": {}
      },
      "source": [
        "data = data.fillna(method='ffill')"
      ],
      "execution_count": 13,
      "outputs": []
    },
    {
      "cell_type": "code",
      "metadata": {
        "id": "pk_XPqX5iD9K",
        "colab_type": "code",
        "colab": {}
      },
      "source": [
        "data = data.iloc[17604:25792]"
      ],
      "execution_count": 14,
      "outputs": []
    },
    {
      "cell_type": "markdown",
      "metadata": {
        "id": "A3QPyARfkcuO",
        "colab_type": "text"
      },
      "source": [
        "# 날씨 처리"
      ]
    },
    {
      "cell_type": "code",
      "metadata": {
        "id": "4IYt17QfiD7d",
        "colab_type": "code",
        "colab": {}
      },
      "source": [
        "# 대표 지역들\n",
        "places = [\"강릉\",\"광주\",\"부산\",\"수원\",\"울산\",\"대구\",\"대전\",\"서울\",\"파주\"] \n",
        "weather = pd.read_excel(\"/content/drive/My Drive/빅콘폴더/날씨_실제/강릉날씨.xlsx\")\n",
        "row_num = weather.shape[0]\n",
        "weather[\"지역\"]=[\"강릉\"]*row_num"
      ],
      "execution_count": 15,
      "outputs": []
    },
    {
      "cell_type": "code",
      "metadata": {
        "id": "2T3GSzNYiD5L",
        "colab_type": "code",
        "colab": {}
      },
      "source": [
        "# 모든 지역 날씨 데이터 세로로 합치기\n",
        "for p in places[1:]:\n",
        "    a=pd.read_excel(f\"/content/drive/My Drive/빅콘폴더/날씨_실제/{p}날씨.xlsx\")\n",
        "    a[\"지역\"]=[p]*row_num\n",
        "    weather = pd.concat([weather, a], axis=0)"
      ],
      "execution_count": 16,
      "outputs": []
    },
    {
      "cell_type": "code",
      "metadata": {
        "id": "-PQmp4AriD3J",
        "colab_type": "code",
        "colab": {}
      },
      "source": [
        "# \"-\" -> 0값으로 변경\n",
        "weather[\"강수량(mm)\"]=weather[\"강수량(mm)\"].replace(\"-\",0)\n",
        "weather[\"신적설(cm)\"]=weather[\"신적설(cm)\"].replace(\"-\",0)\n",
        "weather[\"운량(1/10)\"]=weather[\"운량(1/10)\"].replace(\"-\",0)\n",
        "\n",
        "# object 형 float 형으로 변경\n",
        "weather[\"강수량(mm)\"]=weather[\"강수량(mm)\"].astype(float)\n",
        "weather[\"신적설(cm)\"]=weather[\"신적설(cm)\"].astype(float)\n",
        "weather[\"운량(1/10)\"]=weather[\"운량(1/10)\"].astype(float)"
      ],
      "execution_count": 17,
      "outputs": []
    },
    {
      "cell_type": "code",
      "metadata": {
        "id": "smLfAW8RiNG-",
        "colab_type": "code",
        "colab": {}
      },
      "source": [
        "weather = weather.reset_index()"
      ],
      "execution_count": 18,
      "outputs": []
    },
    {
      "cell_type": "code",
      "metadata": {
        "id": "SHN4TcWZiNIz",
        "colab_type": "code",
        "colab": {}
      },
      "source": [
        "# 날짜 set 맞추기\n",
        "new_weather = pd.DataFrame()\n",
        "new_weather = weather.iloc[165:243]\n",
        "new_weather = pd.concat([new_weather, weather.iloc[753:831]])\n",
        "new_weather = pd.concat([new_weather, weather.iloc[1341:1419]])\n",
        "new_weather = pd.concat([new_weather, weather.iloc[1929:2007]])\n",
        "new_weather = pd.concat([new_weather, weather.iloc[2517:2595]])\n",
        "new_weather = pd.concat([new_weather, weather.iloc[3105:3183]])\n",
        "new_weather = pd.concat([new_weather, weather.iloc[3693:3771]])\n",
        "new_weather = pd.concat([new_weather, weather.iloc[4281:4359]])\n",
        "new_weather = pd.concat([new_weather, weather.iloc[4869:4947]])"
      ],
      "execution_count": 19,
      "outputs": []
    },
    {
      "cell_type": "code",
      "metadata": {
        "id": "-dV2Bi2TiNEt",
        "colab_type": "code",
        "colab": {}
      },
      "source": [
        "# 서울 날씨와 강릉, 부산 날씨로 칼럼별 주문량 상관성 확인 및 지역별 날씨의 영향도 확인\n",
        "gang_weather = new_weather.loc[new_weather[\"지역\"]==\"강릉\",:]\n",
        "seoul_weather = new_weather.loc[new_weather[\"지역\"]==\"서울\",:]\n",
        "busan_weather = new_weather.loc[new_weather[\"지역\"]==\"부산\",:]\n",
        "suwon_weather = new_weather.loc[new_weather[\"지역\"]==\"수원\",:]\n",
        "sudogwon_weather = new_weather.loc[(new_weather[\"지역\"]==\"서울\")|(weather[\"지역\"]==\"수원\"),:]"
      ],
      "execution_count": 20,
      "outputs": []
    },
    {
      "cell_type": "code",
      "metadata": {
        "id": "MjAfIXaxuUaS",
        "colab_type": "code",
        "colab": {}
      },
      "source": [
        "day_data = data.copy()"
      ],
      "execution_count": 21,
      "outputs": []
    },
    {
      "cell_type": "code",
      "metadata": {
        "id": "H1Qmt8kauUdA",
        "colab_type": "code",
        "colab": {}
      },
      "source": [
        "day_data['날짜'] = pd.to_datetime(day_data['날짜'])\n",
        "new_weather['날짜'] = pd.to_datetime(new_weather['날짜'])"
      ],
      "execution_count": 22,
      "outputs": []
    },
    {
      "cell_type": "code",
      "metadata": {
        "id": "--c5h6_9uUfm",
        "colab_type": "code",
        "colab": {}
      },
      "source": [
        "all_data = day_data.merge(new_weather, on='날짜')\n",
        "all_data = all_data.groupby(['날짜']).mean()"
      ],
      "execution_count": 23,
      "outputs": []
    },
    {
      "cell_type": "code",
      "metadata": {
        "id": "ndGRCTAAuUic",
        "colab_type": "code",
        "colab": {
          "base_uri": "https://localhost:8080/",
          "height": 0
        },
        "outputId": "67b5d34a-f904-4684-bf64-39125161927e"
      },
      "source": [
        "sudogwon_weather['날짜'] = pd.to_datetime(sudogwon_weather['날짜'] )\n",
        "seoul_weather['날짜'] = pd.to_datetime(seoul_weather['날짜'] )\n",
        "busan_weather['날짜'] =pd.to_datetime(busan_weather['날짜'] )\n",
        "suwon_weather['날짜'] = pd.to_datetime(suwon_weather['날짜'] )\n",
        "gang_weather['날짜'] = pd.to_datetime(gang_weather['날짜'])"
      ],
      "execution_count": 24,
      "outputs": [
        {
          "output_type": "stream",
          "text": [
            "/usr/local/lib/python3.6/dist-packages/ipykernel_launcher.py:1: SettingWithCopyWarning: \n",
            "A value is trying to be set on a copy of a slice from a DataFrame.\n",
            "Try using .loc[row_indexer,col_indexer] = value instead\n",
            "\n",
            "See the caveats in the documentation: https://pandas.pydata.org/pandas-docs/stable/user_guide/indexing.html#returning-a-view-versus-a-copy\n",
            "  \"\"\"Entry point for launching an IPython kernel.\n",
            "/usr/local/lib/python3.6/dist-packages/ipykernel_launcher.py:2: SettingWithCopyWarning: \n",
            "A value is trying to be set on a copy of a slice from a DataFrame.\n",
            "Try using .loc[row_indexer,col_indexer] = value instead\n",
            "\n",
            "See the caveats in the documentation: https://pandas.pydata.org/pandas-docs/stable/user_guide/indexing.html#returning-a-view-versus-a-copy\n",
            "  \n",
            "/usr/local/lib/python3.6/dist-packages/ipykernel_launcher.py:3: SettingWithCopyWarning: \n",
            "A value is trying to be set on a copy of a slice from a DataFrame.\n",
            "Try using .loc[row_indexer,col_indexer] = value instead\n",
            "\n",
            "See the caveats in the documentation: https://pandas.pydata.org/pandas-docs/stable/user_guide/indexing.html#returning-a-view-versus-a-copy\n",
            "  This is separate from the ipykernel package so we can avoid doing imports until\n",
            "/usr/local/lib/python3.6/dist-packages/ipykernel_launcher.py:4: SettingWithCopyWarning: \n",
            "A value is trying to be set on a copy of a slice from a DataFrame.\n",
            "Try using .loc[row_indexer,col_indexer] = value instead\n",
            "\n",
            "See the caveats in the documentation: https://pandas.pydata.org/pandas-docs/stable/user_guide/indexing.html#returning-a-view-versus-a-copy\n",
            "  after removing the cwd from sys.path.\n",
            "/usr/local/lib/python3.6/dist-packages/ipykernel_launcher.py:5: SettingWithCopyWarning: \n",
            "A value is trying to be set on a copy of a slice from a DataFrame.\n",
            "Try using .loc[row_indexer,col_indexer] = value instead\n",
            "\n",
            "See the caveats in the documentation: https://pandas.pydata.org/pandas-docs/stable/user_guide/indexing.html#returning-a-view-versus-a-copy\n",
            "  \"\"\"\n"
          ],
          "name": "stderr"
        }
      ]
    },
    {
      "cell_type": "code",
      "metadata": {
        "id": "D1htH9hMiTJ3",
        "colab_type": "code",
        "colab": {}
      },
      "source": [
        "sudogwon_data = day_data.merge(sudogwon_weather, on=\"날짜\")\n",
        "suwon_data = day_data.merge(suwon_weather, on=\"날짜\")\n",
        "seoul_data = day_data.merge(seoul_weather, on=\"날짜\")\n",
        "busan_data = day_data.merge(busan_weather, on=\"날짜\")\n",
        "gang_data = day_data.merge(gang_weather, on=\"날짜\")"
      ],
      "execution_count": 25,
      "outputs": []
    },
    {
      "cell_type": "code",
      "metadata": {
        "id": "zjRE6myuiTHm",
        "colab_type": "code",
        "colab": {}
      },
      "source": [
        "fc_prop = pd.read_csv(\"/content/drive/My Drive/빅콘폴더/날씨예보/서울날씨/강수확률.csv\")\n",
        "fc_amount = pd.read_csv(\"/content/drive/My Drive/빅콘폴더/날씨예보/서울날씨/6시간 강수량.csv\") \n",
        "fc_sky = pd.read_csv(\"/content/drive/My Drive/빅콘폴더/날씨예보/서울날씨/하늘상태.csv\")\n",
        "fc_top = pd.read_csv(\"/content/drive/My Drive/빅콘폴더/날씨예보/서울날씨/일최고기온.csv\")\n",
        "fc_bottom = pd.read_csv(\"/content/drive/My Drive/빅콘폴더/날씨예보/서울날씨/일최저기온.csv\")"
      ],
      "execution_count": 26,
      "outputs": []
    },
    {
      "cell_type": "code",
      "metadata": {
        "id": "5zJKr2vUuU7-",
        "colab_type": "code",
        "colab": {}
      },
      "source": [
        "forecast_data = {\"강수확률\":fc_prop, \"강수량\":fc_amount,\"하늘상태\":fc_sky, \"일최고기온\":fc_top, \"일최저기온\":fc_bottom}"
      ],
      "execution_count": 27,
      "outputs": []
    },
    {
      "cell_type": "code",
      "metadata": {
        "id": "aIHTanSFB3nJ",
        "colab_type": "code",
        "colab": {}
      },
      "source": [
        "forecast = pd.DataFrame()\n",
        "\n",
        "for name, fcdata in forecast_data.items():\n",
        "    amount_list=[]\n",
        "    cycle = (fcdata.shape[0])//365 # 하루 관측량\n",
        "    for i in range(365):\n",
        "        day_weather = fcdata.iloc[i*cycle:(i+1)*cycle,-1].mean()\n",
        "        amount_list.append(day_weather)\n",
        "    forecast[name]=amount_list"
      ],
      "execution_count": 28,
      "outputs": []
    },
    {
      "cell_type": "code",
      "metadata": {
        "id": "KCWSIKo1vKbq",
        "colab_type": "code",
        "colab": {}
      },
      "source": [
        "forecast = forecast.iloc[165:243]"
      ],
      "execution_count": 29,
      "outputs": []
    },
    {
      "cell_type": "code",
      "metadata": {
        "id": "XyfJXcBjvKet",
        "colab_type": "code",
        "colab": {}
      },
      "source": [
        "# 날짜 칼럼 추가\n",
        "forecast[\"날짜\"]=train[\"날짜\"].unique()"
      ],
      "execution_count": 30,
      "outputs": []
    },
    {
      "cell_type": "markdown",
      "metadata": {
        "id": "5W896oTckftT",
        "colab_type": "text"
      },
      "source": [
        "# 마더코드, 일/월별 처리"
      ]
    },
    {
      "cell_type": "code",
      "metadata": {
        "id": "qHoNAPkUOnhO",
        "colab_type": "code",
        "colab": {}
      },
      "source": [
        "def hand_by_momcode(data):\n",
        "  momcodegroup = data.groupby(['마더코드']).sum()\n",
        "  momcodegroup['주문량/노출'] = momcodegroup['주문량']/momcodegroup['노출(분)']\n",
        "  topcode = list(momcodegroup.sort_values('주문량/노출', ascending=False).index[:50]) #탑50개\n",
        "  return topcode"
      ],
      "execution_count": 31,
      "outputs": []
    },
    {
      "cell_type": "code",
      "metadata": {
        "id": "5e37nTWOwB-i",
        "colab_type": "code",
        "colab": {
          "base_uri": "https://localhost:8080/",
          "height": 0
        },
        "outputId": "2979fb6f-32fc-4e1f-d756-5d75baf1897a"
      },
      "source": [
        "hand_by_momcode(train) # train으로 topcode생성"
      ],
      "execution_count": 32,
      "outputs": [
        {
          "output_type": "execute_result",
          "data": {
            "text/plain": [
              "[100492,\n",
              " 100499,\n",
              " 100046,\n",
              " 100754,\n",
              " 100323,\n",
              " 100253,\n",
              " 100844,\n",
              " 100523,\n",
              " 100019,\n",
              " 100167,\n",
              " 100841,\n",
              " 100452,\n",
              " 100026,\n",
              " 100829,\n",
              " 100818,\n",
              " 100777,\n",
              " 100021,\n",
              " 100322,\n",
              " 100511,\n",
              " 100416,\n",
              " 100822,\n",
              " 100172,\n",
              " 100455,\n",
              " 100348,\n",
              " 100589,\n",
              " 100166,\n",
              " 100165,\n",
              " 100074,\n",
              " 100197,\n",
              " 100403,\n",
              " 100327,\n",
              " 100281,\n",
              " 100460,\n",
              " 100015,\n",
              " 100588,\n",
              " 100169,\n",
              " 100318,\n",
              " 100755,\n",
              " 100275,\n",
              " 100010,\n",
              " 100479,\n",
              " 100202,\n",
              " 100612,\n",
              " 100009,\n",
              " 100319,\n",
              " 100773,\n",
              " 100747,\n",
              " 100171,\n",
              " 100109,\n",
              " 100849]"
            ]
          },
          "metadata": {
            "tags": []
          },
          "execution_count": 32
        }
      ]
    },
    {
      "cell_type": "markdown",
      "metadata": {
        "id": "DKSDXae0k8xe",
        "colab_type": "text"
      },
      "source": [
        "- 상품군내 마더코드별 주문량"
      ]
    },
    {
      "cell_type": "code",
      "metadata": {
        "id": "3MSP4VG5k8Qq",
        "colab_type": "code",
        "colab": {}
      },
      "source": [
        "multi_grouped = train.groupby(['상품군','마더코드'])\n",
        "MultiGroup = multi_grouped['주문량'].sum()\n",
        "MultiGroup = MultiGroup.reset_index()"
      ],
      "execution_count": 33,
      "outputs": []
    },
    {
      "cell_type": "code",
      "metadata": {
        "id": "WZna_N5Ik-ZJ",
        "colab_type": "code",
        "colab": {}
      },
      "source": [
        "item = list(set(MultiGroup['상품군']))"
      ],
      "execution_count": 34,
      "outputs": []
    },
    {
      "cell_type": "code",
      "metadata": {
        "id": "II6uBKyAlAaC",
        "colab_type": "code",
        "colab": {
          "base_uri": "https://localhost:8080/",
          "height": 0
        },
        "outputId": "f6f64d33-3542-4764-f05f-7e9c9caeb50d"
      },
      "source": [
        "for i in item:\n",
        "    plt.figure(figsize=(10,10))\n",
        "    sns.barplot(data=MultiGroup[MultiGroup['상품군']==i], x='마더코드', y='주문량')\n",
        "    plt.title(i)\n",
        "    plt.xticks(rotation=45, size=7)"
      ],
      "execution_count": 35,
      "outputs": [
        {
          "output_type": "stream",
          "text": [
            "findfont: Font family ['NanumBarunGothic'] not found. Falling back to DejaVu Sans.\n",
            "findfont: Font family ['NanumBarunGothic'] not found. Falling back to DejaVu Sans.\n",
            "findfont: Font family ['NanumBarunGothic'] not found. Falling back to DejaVu Sans.\n",
            "/usr/local/lib/python3.6/dist-packages/matplotlib/backends/backend_agg.py:214: RuntimeWarning: Glyph 47560 missing from current font.\n",
            "  font.set_text(s, 0.0, flags=flags)\n",
            "/usr/local/lib/python3.6/dist-packages/matplotlib/backends/backend_agg.py:214: RuntimeWarning: Glyph 45908 missing from current font.\n",
            "  font.set_text(s, 0.0, flags=flags)\n",
            "/usr/local/lib/python3.6/dist-packages/matplotlib/backends/backend_agg.py:214: RuntimeWarning: Glyph 53076 missing from current font.\n",
            "  font.set_text(s, 0.0, flags=flags)\n",
            "/usr/local/lib/python3.6/dist-packages/matplotlib/backends/backend_agg.py:214: RuntimeWarning: Glyph 46300 missing from current font.\n",
            "  font.set_text(s, 0.0, flags=flags)\n",
            "/usr/local/lib/python3.6/dist-packages/matplotlib/backends/backend_agg.py:183: RuntimeWarning: Glyph 47560 missing from current font.\n",
            "  font.set_text(s, 0, flags=flags)\n",
            "/usr/local/lib/python3.6/dist-packages/matplotlib/backends/backend_agg.py:183: RuntimeWarning: Glyph 45908 missing from current font.\n",
            "  font.set_text(s, 0, flags=flags)\n",
            "/usr/local/lib/python3.6/dist-packages/matplotlib/backends/backend_agg.py:183: RuntimeWarning: Glyph 53076 missing from current font.\n",
            "  font.set_text(s, 0, flags=flags)\n",
            "/usr/local/lib/python3.6/dist-packages/matplotlib/backends/backend_agg.py:183: RuntimeWarning: Glyph 46300 missing from current font.\n",
            "  font.set_text(s, 0, flags=flags)\n",
            "/usr/local/lib/python3.6/dist-packages/matplotlib/backends/backend_agg.py:214: RuntimeWarning: Glyph 51452 missing from current font.\n",
            "  font.set_text(s, 0.0, flags=flags)\n",
            "/usr/local/lib/python3.6/dist-packages/matplotlib/backends/backend_agg.py:214: RuntimeWarning: Glyph 47928 missing from current font.\n",
            "  font.set_text(s, 0.0, flags=flags)\n",
            "/usr/local/lib/python3.6/dist-packages/matplotlib/backends/backend_agg.py:214: RuntimeWarning: Glyph 47049 missing from current font.\n",
            "  font.set_text(s, 0.0, flags=flags)\n",
            "/usr/local/lib/python3.6/dist-packages/matplotlib/backends/backend_agg.py:183: RuntimeWarning: Glyph 51452 missing from current font.\n",
            "  font.set_text(s, 0, flags=flags)\n",
            "/usr/local/lib/python3.6/dist-packages/matplotlib/backends/backend_agg.py:183: RuntimeWarning: Glyph 47928 missing from current font.\n",
            "  font.set_text(s, 0, flags=flags)\n",
            "/usr/local/lib/python3.6/dist-packages/matplotlib/backends/backend_agg.py:183: RuntimeWarning: Glyph 47049 missing from current font.\n",
            "  font.set_text(s, 0, flags=flags)\n"
          ],
          "name": "stderr"
        },
        {
          "output_type": "display_data",
          "data": {
            "image/png": "[encoded data removed]",
            "text/plain": [
              "<Figure size 720x720 with 1 Axes>"
            ]
          },
          "metadata": {
            "tags": [],
            "needs_background": "light"
          }
        },
        {
          "output_type": "display_data",
          "data": {
            "image/png": "[encoded data removed]",
            "text/plain": [
              "<Figure size 720x720 with 1 Axes>"
            ]
          },
          "metadata": {
            "tags": [],
            "needs_background": "light"
          }
        },
        {
          "output_type": "display_data",
          "data": {
            "image/png": "[encoded data removed]",
            "text/plain": [
              "<Figure size 720x720 with 1 Axes>"
            ]
          },
          "metadata": {
            "tags": [],
            "needs_background": "light"
          }
        },
        {
          "output_type": "display_data",
          "data": {
            "image/png": "[encoded data removed]",
            "text/plain": [
              "<Figure size 720x720 with 1 Axes>"
            ]
          },
          "metadata": {
            "tags": [],
            "needs_background": "light"
          }
        },
        {
          "output_type": "display_data",
          "data": {
            "image/png": "[encoded data removed]",
            "text/plain": [
              "<Figure size 720x720 with 1 Axes>"
            ]
          },
          "metadata": {
            "tags": [],
            "needs_background": "light"
          }
        },
        {
          "output_type": "display_data",
          "data": {
            "image/png": "[encoded data removed]",
            "text/plain": [
              "<Figure size 720x720 with 1 Axes>"
            ]
          },
          "metadata": {
            "tags": [],
            "needs_background": "light"
          }
        },
        {
          "output_type": "display_data",
          "data": {
            "image/png": "[encoded data removed]",
            "text/plain": [
              "<Figure size 720x720 with 1 Axes>"
            ]
          },
          "metadata": {
            "tags": [],
            "needs_background": "light"
          }
        },
        {
          "output_type": "display_data",
          "data": {
            "image/png": "[encoded data removed]",
            "text/plain": [
              "<Figure size 720x720 with 1 Axes>"
            ]
          },
          "metadata": {
            "tags": [],
            "needs_background": "light"
          }
        },
        {
          "output_type": "display_data",
          "data": {
            "image/png": "[encoded data removed]",
            "text/plain": [
              "<Figure size 720x720 with 1 Axes>"
            ]
          },
          "metadata": {
            "tags": [],
            "needs_background": "light"
          }
        },
        {
          "output_type": "display_data",
          "data": {
            "image/png": "[encoded data removed]",
            "text/plain": [
              "<Figure size 720x720 with 1 Axes>"
            ]
          },
          "metadata": {
            "tags": [],
            "needs_background": "light"
          }
        },
        {
          "output_type": "display_data",
          "data": {
            "image/png": "[encoded data removed]",
            "text/plain": [
              "<Figure size 720x720 with 1 Axes>"
            ]
          },
          "metadata": {
            "tags": [],
            "needs_background": "light"
          }
        }
      ]
    },
    {
      "cell_type": "markdown",
      "metadata": {
        "id": "qSCmW28_lLif",
        "colab_type": "text"
      },
      "source": [
        "- 시간대 상품군별 주문량"
      ]
    },
    {
      "cell_type": "code",
      "metadata": {
        "id": "blI_md-9lAm9",
        "colab_type": "code",
        "colab": {}
      },
      "source": [
        "hour_grouped = train.groupby(['시','상품군'])\n",
        "HourGroup = hour_grouped['주문량'].sum()\n",
        "HourGroup = HourGroup.reset_index()"
      ],
      "execution_count": 36,
      "outputs": []
    },
    {
      "cell_type": "code",
      "metadata": {
        "id": "KJjHxGt3lJ-u",
        "colab_type": "code",
        "colab": {
          "base_uri": "https://localhost:8080/",
          "height": 0
        },
        "outputId": "c8d36c91-10a9-44f8-ad9c-306e86db267f"
      },
      "source": [
        "plt.figure(figsize=(10,20))\n",
        "sns.barplot(data=HourGroup, x='시', y='주문량', hue='상품군', dodge=False)"
      ],
      "execution_count": 37,
      "outputs": [
        {
          "output_type": "execute_result",
          "data": {
            "text/plain": [
              "<matplotlib.axes._subplots.AxesSubplot at 0x7f2dc3b3b518>"
            ]
          },
          "metadata": {
            "tags": []
          },
          "execution_count": 37
        },
        {
          "output_type": "stream",
          "text": [
            "/usr/local/lib/python3.6/dist-packages/matplotlib/backends/backend_agg.py:214: RuntimeWarning: Glyph 49884 missing from current font.\n",
            "  font.set_text(s, 0.0, flags=flags)\n",
            "/usr/local/lib/python3.6/dist-packages/matplotlib/backends/backend_agg.py:183: RuntimeWarning: Glyph 49884 missing from current font.\n",
            "  font.set_text(s, 0, flags=flags)\n",
            "/usr/local/lib/python3.6/dist-packages/matplotlib/backends/backend_agg.py:214: RuntimeWarning: Glyph 51452 missing from current font.\n",
            "  font.set_text(s, 0.0, flags=flags)\n",
            "/usr/local/lib/python3.6/dist-packages/matplotlib/backends/backend_agg.py:214: RuntimeWarning: Glyph 47928 missing from current font.\n",
            "  font.set_text(s, 0.0, flags=flags)\n",
            "/usr/local/lib/python3.6/dist-packages/matplotlib/backends/backend_agg.py:214: RuntimeWarning: Glyph 47049 missing from current font.\n",
            "  font.set_text(s, 0.0, flags=flags)\n",
            "/usr/local/lib/python3.6/dist-packages/matplotlib/backends/backend_agg.py:183: RuntimeWarning: Glyph 51452 missing from current font.\n",
            "  font.set_text(s, 0, flags=flags)\n",
            "/usr/local/lib/python3.6/dist-packages/matplotlib/backends/backend_agg.py:183: RuntimeWarning: Glyph 47928 missing from current font.\n",
            "  font.set_text(s, 0, flags=flags)\n",
            "/usr/local/lib/python3.6/dist-packages/matplotlib/backends/backend_agg.py:183: RuntimeWarning: Glyph 47049 missing from current font.\n",
            "  font.set_text(s, 0, flags=flags)\n",
            "/usr/local/lib/python3.6/dist-packages/matplotlib/backends/backend_agg.py:214: RuntimeWarning: Glyph 49345 missing from current font.\n",
            "  font.set_text(s, 0.0, flags=flags)\n",
            "/usr/local/lib/python3.6/dist-packages/matplotlib/backends/backend_agg.py:214: RuntimeWarning: Glyph 54408 missing from current font.\n",
            "  font.set_text(s, 0.0, flags=flags)\n",
            "/usr/local/lib/python3.6/dist-packages/matplotlib/backends/backend_agg.py:214: RuntimeWarning: Glyph 44400 missing from current font.\n",
            "  font.set_text(s, 0.0, flags=flags)\n",
            "/usr/local/lib/python3.6/dist-packages/matplotlib/backends/backend_agg.py:183: RuntimeWarning: Glyph 49345 missing from current font.\n",
            "  font.set_text(s, 0, flags=flags)\n",
            "/usr/local/lib/python3.6/dist-packages/matplotlib/backends/backend_agg.py:183: RuntimeWarning: Glyph 54408 missing from current font.\n",
            "  font.set_text(s, 0, flags=flags)\n",
            "/usr/local/lib/python3.6/dist-packages/matplotlib/backends/backend_agg.py:183: RuntimeWarning: Glyph 44400 missing from current font.\n",
            "  font.set_text(s, 0, flags=flags)\n"
          ],
          "name": "stderr"
        },
        {
          "output_type": "display_data",
          "data": {
            "image/png": "[encoded data removed]",
            "text/plain": [
              "<Figure size 720x1440 with 1 Axes>"
            ]
          },
          "metadata": {
            "tags": [],
            "needs_background": "light"
          }
        }
      ]
    },
    {
      "cell_type": "code",
      "metadata": {
        "id": "6_OYlIXTlAp3",
        "colab_type": "code",
        "colab": {}
      },
      "source": [
        "train['new판매단가'] = np.log(train['판매단가'])\n",
        "train.drop('판매단가', inplace=True, axis=1)"
      ],
      "execution_count": 38,
      "outputs": []
    },
    {
      "cell_type": "code",
      "metadata": {
        "id": "dooOOZuClAsv",
        "colab_type": "code",
        "colab": {
          "base_uri": "https://localhost:8080/",
          "height": 0
        },
        "outputId": "52ef3ee9-c6a4-4d9e-d62a-227e1a6a838b"
      },
      "source": [
        "np.corrcoef(train['주문량'],train['new판매단가'])"
      ],
      "execution_count": 39,
      "outputs": [
        {
          "output_type": "execute_result",
          "data": {
            "text/plain": [
              "array([[ 1.        , -0.61081947],\n",
              "       [-0.61081947,  1.        ]])"
            ]
          },
          "metadata": {
            "tags": []
          },
          "execution_count": 39
        }
      ]
    },
    {
      "cell_type": "code",
      "metadata": {
        "id": "Ic4HQHtjlAvW",
        "colab_type": "code",
        "colab": {
          "base_uri": "https://localhost:8080/",
          "height": 0
        },
        "outputId": "7e67ce41-aca7-47ca-9ba6-aaa90825a31e"
      },
      "source": [
        "plt.scatter(train['주문량'], (train['new판매단가'])) "
      ],
      "execution_count": 40,
      "outputs": [
        {
          "output_type": "execute_result",
          "data": {
            "text/plain": [
              "<matplotlib.collections.PathCollection at 0x7f2db6254b00>"
            ]
          },
          "metadata": {
            "tags": []
          },
          "execution_count": 40
        },
        {
          "output_type": "display_data",
          "data": {
            "image/png": "[encoded data removed]",
            "text/plain": [
              "<Figure size 432x288 with 1 Axes>"
            ]
          },
          "metadata": {
            "tags": [],
            "needs_background": "light"
          }
        }
      ]
    },
    {
      "cell_type": "code",
      "metadata": {
        "id": "671nj9Mfla_o",
        "colab_type": "code",
        "colab": {
          "base_uri": "https://localhost:8080/",
          "height": 0
        },
        "outputId": "47ddd2aa-f54f-4f1d-dabd-fd821571417a"
      },
      "source": [
        "fig, ax = plt.subplots(1,2, figsize=(10,5))\n",
        "sns.kdeplot(train['주문량'], ax=ax[0]) #커널 밀도추정\n",
        "sns.kdeplot(np.log(train['주문량']), ax=ax[1])"
      ],
      "execution_count": 41,
      "outputs": [
        {
          "output_type": "execute_result",
          "data": {
            "text/plain": [
              "<matplotlib.axes._subplots.AxesSubplot at 0x7f2db6d6b160>"
            ]
          },
          "metadata": {
            "tags": []
          },
          "execution_count": 41
        },
        {
          "output_type": "stream",
          "text": [
            "/usr/local/lib/python3.6/dist-packages/matplotlib/backends/backend_agg.py:214: RuntimeWarning: Glyph 51452 missing from current font.\n",
            "  font.set_text(s, 0.0, flags=flags)\n",
            "/usr/local/lib/python3.6/dist-packages/matplotlib/backends/backend_agg.py:214: RuntimeWarning: Glyph 47928 missing from current font.\n",
            "  font.set_text(s, 0.0, flags=flags)\n",
            "/usr/local/lib/python3.6/dist-packages/matplotlib/backends/backend_agg.py:214: RuntimeWarning: Glyph 47049 missing from current font.\n",
            "  font.set_text(s, 0.0, flags=flags)\n",
            "/usr/local/lib/python3.6/dist-packages/matplotlib/backends/backend_agg.py:183: RuntimeWarning: Glyph 51452 missing from current font.\n",
            "  font.set_text(s, 0, flags=flags)\n",
            "/usr/local/lib/python3.6/dist-packages/matplotlib/backends/backend_agg.py:183: RuntimeWarning: Glyph 47928 missing from current font.\n",
            "  font.set_text(s, 0, flags=flags)\n",
            "/usr/local/lib/python3.6/dist-packages/matplotlib/backends/backend_agg.py:183: RuntimeWarning: Glyph 47049 missing from current font.\n",
            "  font.set_text(s, 0, flags=flags)\n"
          ],
          "name": "stderr"
        },
        {
          "output_type": "display_data",
          "data": {
            "image/png": "[encoded data removed]",
            "text/plain": [
              "<Figure size 720x360 with 2 Axes>"
            ]
          },
          "metadata": {
            "tags": [],
            "needs_background": "light"
          }
        }
      ]
    },
    {
      "cell_type": "code",
      "metadata": {
        "id": "0_GR8RzWmA8K",
        "colab_type": "code",
        "colab": {}
      },
      "source": [
        "train['new주문량'] = np.log(train['주문량'])\n",
        "train.drop('주문량', inplace=True, axis=1)"
      ],
      "execution_count": 42,
      "outputs": []
    },
    {
      "cell_type": "markdown",
      "metadata": {
        "id": "49vM5SEZknLy",
        "colab_type": "text"
      },
      "source": [
        "# 모델학습 데이터 생성 및 분리"
      ]
    },
    {
      "cell_type": "markdown",
      "metadata": {
        "id": "zbn6uFB5mmBS",
        "colab_type": "text"
      },
      "source": [
        "- 시간대"
      ]
    },
    {
      "cell_type": "code",
      "metadata": {
        "colab_type": "code",
        "id": "ftbkKK0Kh-M0",
        "colab": {}
      },
      "source": [
        "time = train.groupby('HOUR').aggregate(np.mean)\n",
        "\n",
        "time_rank = {}\n",
        "rank = 1 \n",
        "for idx, row in time.sort_values(by='new주문량').iterrows():\n",
        "    time_rank[idx] = rank\n",
        "    rank += 1"
      ],
      "execution_count": 43,
      "outputs": []
    },
    {
      "cell_type": "code",
      "metadata": {
        "colab_type": "code",
        "id": "BVtuy9Bhh-M3",
        "colab": {}
      },
      "source": [
        "prime_time = []\n",
        "\n",
        "for idx, row in train.iterrows():\n",
        "    prime_time.append(time_rank[row.HOUR])\n",
        "    \n",
        "train['prime_time'] = prime_time"
      ],
      "execution_count": 44,
      "outputs": []
    },
    {
      "cell_type": "markdown",
      "metadata": {
        "id": "Arbdlvc9mo4_",
        "colab_type": "text"
      },
      "source": [
        "- 요일"
      ]
    },
    {
      "cell_type": "code",
      "metadata": {
        "colab_type": "code",
        "id": "U5yxdpa4h-M5",
        "colab": {}
      },
      "source": [
        "day = train.groupby('요일').aggregate(np.mean)\n",
        "\n",
        "day_rank = {}\n",
        "rank = 1 \n",
        "for idx, row in day.sort_values(by='new주문량').iterrows():\n",
        "    day_rank[idx] = rank\n",
        "    rank += 1\n",
        "    \n",
        "prime_day = []\n",
        "\n",
        "for idx, row in train.iterrows():\n",
        "    prime_day.append(day_rank[row.요일])\n",
        "    \n",
        "train['prime_day'] = prime_day"
      ],
      "execution_count": 45,
      "outputs": []
    },
    {
      "cell_type": "markdown",
      "metadata": {
        "id": "W_N0F90Emsll",
        "colab_type": "text"
      },
      "source": [
        "- 요일"
      ]
    },
    {
      "cell_type": "code",
      "metadata": {
        "colab_type": "code",
        "id": "2TtUcPARh-M7",
        "colab": {}
      },
      "source": [
        "intercode = set(test['마더코드'].unique()).intersection(set(train['마더코드'].unique()))\n",
        "interitem = train[train['마더코드'].isin(intercode)]"
      ],
      "execution_count": 46,
      "outputs": []
    },
    {
      "cell_type": "markdown",
      "metadata": {
        "id": "5dg_740QmxoD",
        "colab_type": "text"
      },
      "source": [
        "- test랑 겹치는 마더코드"
      ]
    },
    {
      "cell_type": "code",
      "metadata": {
        "colab_type": "code",
        "id": "vi2gXDD1h-M8",
        "colab": {}
      },
      "source": [
        "code = interitem.groupby('마더코드').aggregate(np.mean)\n",
        "\n",
        "code_rank = {}\n",
        "rank = 1\n",
        "for idx, row in code.sort_values(by='new주문량').iterrows():\n",
        "    code_rank[idx] = rank\n",
        "    rank += 1\n",
        "\n",
        "top_code = []\n",
        "\n",
        "for idx, row in train.iterrows():\n",
        "    if row.마더코드 in code_rank.keys():\n",
        "        top_code.append(code_rank[row.마더코드])\n",
        "    else:\n",
        "        top_code.append(0)\n",
        "        \n",
        "train['top_code'] = top_code"
      ],
      "execution_count": 47,
      "outputs": []
    },
    {
      "cell_type": "markdown",
      "metadata": {
        "id": "X_Bg57hwm1ZE",
        "colab_type": "text"
      },
      "source": [
        "- 분류기준 top_분류"
      ]
    },
    {
      "cell_type": "code",
      "metadata": {
        "colab_type": "code",
        "id": "xCzryMJ5h-M-",
        "colab": {}
      },
      "source": [
        "cat = train.groupby('분류').aggregate(np.mean)\n",
        "\n",
        "cat_rank = {}\n",
        "rank = 1\n",
        "for idx, row in cat.sort_values(by='new주문량').iterrows():\n",
        "    cat_rank[idx] = rank\n",
        "    rank += 1\n",
        "\n",
        "top_cat = []\n",
        "\n",
        "for idx, row in train.iterrows():\n",
        "    top_cat.append(cat_rank[row.분류])\n",
        "    \n",
        "train['top_cat'] = top_cat"
      ],
      "execution_count": 48,
      "outputs": []
    },
    {
      "cell_type": "markdown",
      "metadata": {
        "id": "htfxciMAm8I7",
        "colab_type": "text"
      },
      "source": [
        "- 성은님코드 : 분류원핫+pca\n",
        "- 회선 : 빈도수인코딩"
      ]
    },
    {
      "cell_type": "code",
      "metadata": {
        "colab_type": "code",
        "id": "wd_WOHKAh-ND",
        "colab": {}
      },
      "source": [
        "# 원핫+PCA\n",
        "from sklearn.preprocessing import OneHotEncoder\n",
        "from sklearn.decomposition import PCA"
      ],
      "execution_count": 49,
      "outputs": []
    },
    {
      "cell_type": "code",
      "metadata": {
        "colab_type": "code",
        "id": "rqOYYxDJh-NF",
        "colab": {}
      },
      "source": [
        "enc1 = OneHotEncoder()\n",
        "category = np.array(train['분류'])\n",
        "category = category.reshape(-1, 1)"
      ],
      "execution_count": 50,
      "outputs": []
    },
    {
      "cell_type": "code",
      "metadata": {
        "colab_type": "code",
        "id": "eocfDNc8h-NG",
        "colab": {}
      },
      "source": [
        "enc1.fit(category)\n",
        "category_ = enc1.transform(category).toarray()"
      ],
      "execution_count": 51,
      "outputs": []
    },
    {
      "cell_type": "code",
      "metadata": {
        "colab_type": "code",
        "id": "C1G4Sf3Lh-NI",
        "colab": {}
      },
      "source": [
        "pca = PCA(n_components=2)\n",
        "res = pca.fit_transform(category_)\n",
        "res = pd.DataFrame(res, columns=['x1_cat','x2_cat'])"
      ],
      "execution_count": 52,
      "outputs": []
    },
    {
      "cell_type": "code",
      "metadata": {
        "colab_type": "code",
        "id": "H-XnhLrUh-NJ",
        "colab": {}
      },
      "source": [
        "train['x1_cat'] = res['x1_cat']\n",
        "train['x2_cat'] = res['x2_cat']"
      ],
      "execution_count": 53,
      "outputs": []
    },
    {
      "cell_type": "code",
      "metadata": {
        "id": "kRNLGXwhZsHL",
        "colab_type": "code",
        "colab": {
          "base_uri": "https://localhost:8080/",
          "height": 0
        },
        "outputId": "e70ee9e9-bb58-48f1-e340-a195a73a3482"
      },
      "source": [
        "train['x1_cat']"
      ],
      "execution_count": 54,
      "outputs": [
        {
          "output_type": "execute_result",
          "data": {
            "text/plain": [
              "0      -0.006708\n",
              "1      -0.006708\n",
              "2      -0.006708\n",
              "3      -0.076896\n",
              "4      -0.076896\n",
              "          ...   \n",
              "7508   -0.011995\n",
              "7509   -0.005012\n",
              "7510   -0.005012\n",
              "7511   -0.005012\n",
              "7512   -0.005012\n",
              "Name: x1_cat, Length: 7513, dtype: float64"
            ]
          },
          "metadata": {
            "tags": []
          },
          "execution_count": 54
        }
      ]
    },
    {
      "cell_type": "markdown",
      "metadata": {
        "id": "aeo4-zSUnLML",
        "colab_type": "text"
      },
      "source": [
        "- 실제날씨(서울)"
      ]
    },
    {
      "cell_type": "code",
      "metadata": {
        "colab_type": "code",
        "id": "pfE66Vvah-NL",
        "colab": {}
      },
      "source": [
        "real = train.groupby('실제_서울_날씨').aggregate(np.mean)\n",
        "\n",
        "real_rank = {}\n",
        "rank = 1\n",
        "for idx, row in real.sort_values(by='new주문량').iterrows():\n",
        "    real_rank[idx] = rank\n",
        "    rank += 1\n",
        "\n",
        "top_real_weather = []\n",
        "\n",
        "for idx, row in train.iterrows():\n",
        "    top_real_weather.append(real_rank[row.실제_서울_날씨])\n",
        "    \n",
        "train['top_real_weather'] = top_real_weather"
      ],
      "execution_count": 55,
      "outputs": []
    },
    {
      "cell_type": "markdown",
      "metadata": {
        "id": "lE7qHmGaZM7E",
        "colab_type": "text"
      },
      "source": [
        "-실제날씨 통합"
      ]
    },
    {
      "cell_type": "code",
      "metadata": {
        "id": "7YpCiAeeY7ir",
        "colab_type": "code",
        "colab": {
          "base_uri": "https://localhost:8080/",
          "height": 0
        },
        "outputId": "6d995bdc-f25e-4a9f-b8e0-7664148d42a4"
      },
      "source": [
        "real_total_weather = pd.read_excel('/content/drive/My Drive/빅콘폴더/날씨_실제/날씨통합.xlsx')\n",
        "real_total_weather"
      ],
      "execution_count": 56,
      "outputs": [
        {
          "output_type": "execute_result",
          "data": {
            "text/html": [
              "<div>\n",
              "<style scoped>\n",
              "    .dataframe tbody tr th:only-of-type {\n",
              "        vertical-align: middle;\n",
              "    }\n",
              "\n",
              "    .dataframe tbody tr th {\n",
              "        vertical-align: top;\n",
              "    }\n",
              "\n",
              "    .dataframe thead th {\n",
              "        text-align: right;\n",
              "    }\n",
              "</style>\n",
              "<table border=\"1\" class=\"dataframe\">\n",
              "  <thead>\n",
              "    <tr style=\"text-align: right;\">\n",
              "      <th></th>\n",
              "      <th>최고기온</th>\n",
              "      <th>최저기온</th>\n",
              "      <th>강수량</th>\n",
              "      <th>평균풍속</th>\n",
              "    </tr>\n",
              "  </thead>\n",
              "  <tbody>\n",
              "    <tr>\n",
              "      <th>0</th>\n",
              "      <td>27.266667</td>\n",
              "      <td>16.766667</td>\n",
              "      <td>0.8</td>\n",
              "      <td>2.200000</td>\n",
              "    </tr>\n",
              "    <tr>\n",
              "      <th>1</th>\n",
              "      <td>27.266667</td>\n",
              "      <td>16.766667</td>\n",
              "      <td>0.8</td>\n",
              "      <td>2.200000</td>\n",
              "    </tr>\n",
              "    <tr>\n",
              "      <th>2</th>\n",
              "      <td>27.266667</td>\n",
              "      <td>16.766667</td>\n",
              "      <td>0.8</td>\n",
              "      <td>2.200000</td>\n",
              "    </tr>\n",
              "    <tr>\n",
              "      <th>3</th>\n",
              "      <td>27.266667</td>\n",
              "      <td>16.766667</td>\n",
              "      <td>0.8</td>\n",
              "      <td>2.200000</td>\n",
              "    </tr>\n",
              "    <tr>\n",
              "      <th>4</th>\n",
              "      <td>27.266667</td>\n",
              "      <td>16.766667</td>\n",
              "      <td>0.8</td>\n",
              "      <td>2.200000</td>\n",
              "    </tr>\n",
              "    <tr>\n",
              "      <th>...</th>\n",
              "      <td>...</td>\n",
              "      <td>...</td>\n",
              "      <td>...</td>\n",
              "      <td>...</td>\n",
              "    </tr>\n",
              "    <tr>\n",
              "      <th>7508</th>\n",
              "      <td>28.100000</td>\n",
              "      <td>17.133333</td>\n",
              "      <td>0.0</td>\n",
              "      <td>1.466667</td>\n",
              "    </tr>\n",
              "    <tr>\n",
              "      <th>7509</th>\n",
              "      <td>28.100000</td>\n",
              "      <td>17.133333</td>\n",
              "      <td>0.0</td>\n",
              "      <td>1.466667</td>\n",
              "    </tr>\n",
              "    <tr>\n",
              "      <th>7510</th>\n",
              "      <td>28.100000</td>\n",
              "      <td>17.133333</td>\n",
              "      <td>0.0</td>\n",
              "      <td>1.466667</td>\n",
              "    </tr>\n",
              "    <tr>\n",
              "      <th>7511</th>\n",
              "      <td>28.100000</td>\n",
              "      <td>17.133333</td>\n",
              "      <td>0.0</td>\n",
              "      <td>1.466667</td>\n",
              "    </tr>\n",
              "    <tr>\n",
              "      <th>7512</th>\n",
              "      <td>28.100000</td>\n",
              "      <td>17.133333</td>\n",
              "      <td>0.0</td>\n",
              "      <td>1.466667</td>\n",
              "    </tr>\n",
              "  </tbody>\n",
              "</table>\n",
              "<p>7513 rows × 4 columns</p>\n",
              "</div>"
            ],
            "text/plain": [
              "           최고기온       최저기온  강수량      평균풍속\n",
              "0     27.266667  16.766667  0.8  2.200000\n",
              "1     27.266667  16.766667  0.8  2.200000\n",
              "2     27.266667  16.766667  0.8  2.200000\n",
              "3     27.266667  16.766667  0.8  2.200000\n",
              "4     27.266667  16.766667  0.8  2.200000\n",
              "...         ...        ...  ...       ...\n",
              "7508  28.100000  17.133333  0.0  1.466667\n",
              "7509  28.100000  17.133333  0.0  1.466667\n",
              "7510  28.100000  17.133333  0.0  1.466667\n",
              "7511  28.100000  17.133333  0.0  1.466667\n",
              "7512  28.100000  17.133333  0.0  1.466667\n",
              "\n",
              "[7513 rows x 4 columns]"
            ]
          },
          "metadata": {
            "tags": []
          },
          "execution_count": 56
        }
      ]
    },
    {
      "cell_type": "code",
      "metadata": {
        "id": "by3th-L4ZOmO",
        "colab_type": "code",
        "colab": {}
      },
      "source": [
        "train['실제_최고기온'] = real_total_weather['최고기온']\n",
        "train['실제_최저기온'] = real_total_weather['최저기온']\n",
        "train['실제_강수량'] = real_total_weather['강수량']\n",
        "train['실제_평균풍속'] = real_total_weather['평균풍속']"
      ],
      "execution_count": 57,
      "outputs": []
    },
    {
      "cell_type": "code",
      "metadata": {
        "id": "Sy9napAyDfkh",
        "colab_type": "code",
        "colab": {
          "base_uri": "https://localhost:8080/",
          "height": 0
        },
        "outputId": "43271ee9-ae73-4e88-c2f1-a70520246a48"
      },
      "source": [
        "train"
      ],
      "execution_count": 58,
      "outputs": [
        {
          "output_type": "execute_result",
          "data": {
            "text/html": [
              "<div>\n",
              "<style scoped>\n",
              "    .dataframe tbody tr th:only-of-type {\n",
              "        vertical-align: middle;\n",
              "    }\n",
              "\n",
              "    .dataframe tbody tr th {\n",
              "        vertical-align: top;\n",
              "    }\n",
              "\n",
              "    .dataframe thead th {\n",
              "        text-align: right;\n",
              "    }\n",
              "</style>\n",
              "<table border=\"1\" class=\"dataframe\">\n",
              "  <thead>\n",
              "    <tr style=\"text-align: right;\">\n",
              "      <th></th>\n",
              "      <th>Unnamed: 0</th>\n",
              "      <th>방송일시</th>\n",
              "      <th>노출(분)</th>\n",
              "      <th>마더코드</th>\n",
              "      <th>상품코드</th>\n",
              "      <th>상품명</th>\n",
              "      <th>상품군</th>\n",
              "      <th>취급액</th>\n",
              "      <th>날짜</th>\n",
              "      <th>시간</th>\n",
              "      <th>요일</th>\n",
              "      <th>시</th>\n",
              "      <th>holiday</th>\n",
              "      <th>월</th>\n",
              "      <th>holiday(includeSS)</th>\n",
              "      <th>실제_서울_최고기온</th>\n",
              "      <th>실제_서울_최저기온</th>\n",
              "      <th>실제_서울_강수량(mm)</th>\n",
              "      <th>실제_서울_평균풍속(m/s)</th>\n",
              "      <th>실제_서울_날씨</th>\n",
              "      <th>실제_수원_최고기온</th>\n",
              "      <th>실제_수원_최저기온</th>\n",
              "      <th>실제_수원_강수량(mm)</th>\n",
              "      <th>실제_수원_평균풍속(m/s)</th>\n",
              "      <th>실제_수원_날씨</th>\n",
              "      <th>실제_파주_최고기온</th>\n",
              "      <th>실제_파주_최저기온</th>\n",
              "      <th>실제_파주_강수량(mm)</th>\n",
              "      <th>실제_파주_평균풍속(m/s)</th>\n",
              "      <th>실제_파주_날씨</th>\n",
              "      <th>예보_서울_강수확률</th>\n",
              "      <th>예보_서울_강수량</th>\n",
              "      <th>예보_서울_하늘상태</th>\n",
              "      <th>예보_서울_일최고기온</th>\n",
              "      <th>예보_서울_일최저기온</th>\n",
              "      <th>예보_일산_강수확률</th>\n",
              "      <th>예보_일산_강수량</th>\n",
              "      <th>예보_일산_일최고기온</th>\n",
              "      <th>예보_일산_일최저기온</th>\n",
              "      <th>예보_수원_강수확률</th>\n",
              "      <th>예보_수원_강수량</th>\n",
              "      <th>예보_수원_일최고기온</th>\n",
              "      <th>예보_수원_일최저기온</th>\n",
              "      <th>계절</th>\n",
              "      <th>DATE</th>\n",
              "      <th>미세먼지(㎍/㎥)</th>\n",
              "      <th>오존(ppm)</th>\n",
              "      <th>이산화질소농도(ppm)</th>\n",
              "      <th>일산화탄소농도(ppm)</th>\n",
              "      <th>아황산가스농도(ppm)</th>\n",
              "      <th>초미세먼지(㎍/㎥)</th>\n",
              "      <th>분류</th>\n",
              "      <th>MONTH</th>\n",
              "      <th>HOUR</th>\n",
              "      <th>DAY</th>\n",
              "      <th>Active Users</th>\n",
              "      <th>new판매단가</th>\n",
              "      <th>new주문량</th>\n",
              "      <th>prime_time</th>\n",
              "      <th>prime_day</th>\n",
              "      <th>top_code</th>\n",
              "      <th>top_cat</th>\n",
              "      <th>x1_cat</th>\n",
              "      <th>x2_cat</th>\n",
              "      <th>top_real_weather</th>\n",
              "      <th>실제_최고기온</th>\n",
              "      <th>실제_최저기온</th>\n",
              "      <th>실제_강수량</th>\n",
              "      <th>실제_평균풍속</th>\n",
              "    </tr>\n",
              "  </thead>\n",
              "  <tbody>\n",
              "    <tr>\n",
              "      <th>0</th>\n",
              "      <td>17373</td>\n",
              "      <td>2019-06-15 00:00:00</td>\n",
              "      <td>20.0</td>\n",
              "      <td>100305</td>\n",
              "      <td>200981</td>\n",
              "      <td>오모떼 미라클쉐이핑 브라팬티 시즌3</td>\n",
              "      <td>inner</td>\n",
              "      <td>16517000</td>\n",
              "      <td>2019-06-15</td>\n",
              "      <td>00:00:00</td>\n",
              "      <td>5</td>\n",
              "      <td>0</td>\n",
              "      <td>0</td>\n",
              "      <td>6</td>\n",
              "      <td>1</td>\n",
              "      <td>27.4</td>\n",
              "      <td>17.9</td>\n",
              "      <td>2.1</td>\n",
              "      <td>2.5</td>\n",
              "      <td>구름조금/비/천둥번개</td>\n",
              "      <td>26.8</td>\n",
              "      <td>17.1</td>\n",
              "      <td>0.3</td>\n",
              "      <td>2.4</td>\n",
              "      <td>구름조금/소나기/안개</td>\n",
              "      <td>27.6</td>\n",
              "      <td>15.3</td>\n",
              "      <td>0.0</td>\n",
              "      <td>1.7</td>\n",
              "      <td>구름조금/비</td>\n",
              "      <td>10.337838</td>\n",
              "      <td>0.210526</td>\n",
              "      <td>1.925676</td>\n",
              "      <td>26.368421</td>\n",
              "      <td>17.0000</td>\n",
              "      <td>8.986486</td>\n",
              "      <td>0.078947</td>\n",
              "      <td>25.105263</td>\n",
              "      <td>16.0000</td>\n",
              "      <td>8.513514</td>\n",
              "      <td>0.078947</td>\n",
              "      <td>26.263158</td>\n",
              "      <td>16.00</td>\n",
              "      <td>2</td>\n",
              "      <td>20190615</td>\n",
              "      <td>36.00</td>\n",
              "      <td>21.36</td>\n",
              "      <td>0.04308</td>\n",
              "      <td>0.01296</td>\n",
              "      <td>0.364</td>\n",
              "      <td>0.0030</td>\n",
              "      <td>f1</td>\n",
              "      <td>6</td>\n",
              "      <td>0</td>\n",
              "      <td>sat</td>\n",
              "      <td>118574.0</td>\n",
              "      <td>11.686879</td>\n",
              "      <td>4.933022</td>\n",
              "      <td>7</td>\n",
              "      <td>1</td>\n",
              "      <td>0</td>\n",
              "      <td>45</td>\n",
              "      <td>-0.006708</td>\n",
              "      <td>0.007946</td>\n",
              "      <td>1</td>\n",
              "      <td>27.266667</td>\n",
              "      <td>16.766667</td>\n",
              "      <td>0.8</td>\n",
              "      <td>2.200000</td>\n",
              "    </tr>\n",
              "    <tr>\n",
              "      <th>1</th>\n",
              "      <td>17374</td>\n",
              "      <td>2019-06-15 00:20:00</td>\n",
              "      <td>20.0</td>\n",
              "      <td>100305</td>\n",
              "      <td>200981</td>\n",
              "      <td>오모떼 미라클쉐이핑 브라팬티 시즌3</td>\n",
              "      <td>inner</td>\n",
              "      <td>44829000</td>\n",
              "      <td>2019-06-15</td>\n",
              "      <td>00:20:00</td>\n",
              "      <td>5</td>\n",
              "      <td>0</td>\n",
              "      <td>0</td>\n",
              "      <td>6</td>\n",
              "      <td>1</td>\n",
              "      <td>27.4</td>\n",
              "      <td>17.9</td>\n",
              "      <td>2.1</td>\n",
              "      <td>2.5</td>\n",
              "      <td>구름조금/비/천둥번개</td>\n",
              "      <td>26.8</td>\n",
              "      <td>17.1</td>\n",
              "      <td>0.3</td>\n",
              "      <td>2.4</td>\n",
              "      <td>구름조금/소나기/안개</td>\n",
              "      <td>27.6</td>\n",
              "      <td>15.3</td>\n",
              "      <td>0.0</td>\n",
              "      <td>1.7</td>\n",
              "      <td>구름조금/비</td>\n",
              "      <td>10.337838</td>\n",
              "      <td>0.210526</td>\n",
              "      <td>1.925676</td>\n",
              "      <td>26.368421</td>\n",
              "      <td>17.0000</td>\n",
              "      <td>8.986486</td>\n",
              "      <td>0.078947</td>\n",
              "      <td>25.105263</td>\n",
              "      <td>16.0000</td>\n",
              "      <td>8.513514</td>\n",
              "      <td>0.078947</td>\n",
              "      <td>26.263158</td>\n",
              "      <td>16.00</td>\n",
              "      <td>2</td>\n",
              "      <td>20190615</td>\n",
              "      <td>36.00</td>\n",
              "      <td>21.36</td>\n",
              "      <td>0.04308</td>\n",
              "      <td>0.01296</td>\n",
              "      <td>0.364</td>\n",
              "      <td>0.0030</td>\n",
              "      <td>f1</td>\n",
              "      <td>6</td>\n",
              "      <td>0</td>\n",
              "      <td>sat</td>\n",
              "      <td>118574.0</td>\n",
              "      <td>11.686879</td>\n",
              "      <td>5.931487</td>\n",
              "      <td>7</td>\n",
              "      <td>1</td>\n",
              "      <td>0</td>\n",
              "      <td>45</td>\n",
              "      <td>-0.006708</td>\n",
              "      <td>0.007946</td>\n",
              "      <td>1</td>\n",
              "      <td>27.266667</td>\n",
              "      <td>16.766667</td>\n",
              "      <td>0.8</td>\n",
              "      <td>2.200000</td>\n",
              "    </tr>\n",
              "    <tr>\n",
              "      <th>2</th>\n",
              "      <td>17375</td>\n",
              "      <td>2019-06-15 00:40:00</td>\n",
              "      <td>20.0</td>\n",
              "      <td>100305</td>\n",
              "      <td>200981</td>\n",
              "      <td>오모떼 미라클쉐이핑 브라팬티 시즌3</td>\n",
              "      <td>inner</td>\n",
              "      <td>56057000</td>\n",
              "      <td>2019-06-15</td>\n",
              "      <td>00:40:00</td>\n",
              "      <td>5</td>\n",
              "      <td>0</td>\n",
              "      <td>0</td>\n",
              "      <td>6</td>\n",
              "      <td>1</td>\n",
              "      <td>27.4</td>\n",
              "      <td>17.9</td>\n",
              "      <td>2.1</td>\n",
              "      <td>2.5</td>\n",
              "      <td>구름조금/비/천둥번개</td>\n",
              "      <td>26.8</td>\n",
              "      <td>17.1</td>\n",
              "      <td>0.3</td>\n",
              "      <td>2.4</td>\n",
              "      <td>구름조금/소나기/안개</td>\n",
              "      <td>27.6</td>\n",
              "      <td>15.3</td>\n",
              "      <td>0.0</td>\n",
              "      <td>1.7</td>\n",
              "      <td>구름조금/비</td>\n",
              "      <td>10.337838</td>\n",
              "      <td>0.210526</td>\n",
              "      <td>1.925676</td>\n",
              "      <td>26.368421</td>\n",
              "      <td>17.0000</td>\n",
              "      <td>8.986486</td>\n",
              "      <td>0.078947</td>\n",
              "      <td>25.105263</td>\n",
              "      <td>16.0000</td>\n",
              "      <td>8.513514</td>\n",
              "      <td>0.078947</td>\n",
              "      <td>26.263158</td>\n",
              "      <td>16.00</td>\n",
              "      <td>2</td>\n",
              "      <td>20190615</td>\n",
              "      <td>36.00</td>\n",
              "      <td>21.36</td>\n",
              "      <td>0.04308</td>\n",
              "      <td>0.01296</td>\n",
              "      <td>0.364</td>\n",
              "      <td>0.0030</td>\n",
              "      <td>f1</td>\n",
              "      <td>6</td>\n",
              "      <td>0</td>\n",
              "      <td>sat</td>\n",
              "      <td>118574.0</td>\n",
              "      <td>11.686879</td>\n",
              "      <td>6.155001</td>\n",
              "      <td>7</td>\n",
              "      <td>1</td>\n",
              "      <td>0</td>\n",
              "      <td>45</td>\n",
              "      <td>-0.006708</td>\n",
              "      <td>0.007946</td>\n",
              "      <td>1</td>\n",
              "      <td>27.266667</td>\n",
              "      <td>16.766667</td>\n",
              "      <td>0.8</td>\n",
              "      <td>2.200000</td>\n",
              "    </tr>\n",
              "    <tr>\n",
              "      <th>3</th>\n",
              "      <td>17376</td>\n",
              "      <td>2019-06-15 01:00:00</td>\n",
              "      <td>30.0</td>\n",
              "      <td>100374</td>\n",
              "      <td>201202</td>\n",
              "      <td>USPA  남성 폴로셔츠 위켄드 컬렉션 3종</td>\n",
              "      <td>cloth</td>\n",
              "      <td>9996000</td>\n",
              "      <td>2019-06-15</td>\n",
              "      <td>01:00:00</td>\n",
              "      <td>5</td>\n",
              "      <td>1</td>\n",
              "      <td>0</td>\n",
              "      <td>6</td>\n",
              "      <td>1</td>\n",
              "      <td>27.4</td>\n",
              "      <td>17.9</td>\n",
              "      <td>2.1</td>\n",
              "      <td>2.5</td>\n",
              "      <td>구름조금/비/천둥번개</td>\n",
              "      <td>26.8</td>\n",
              "      <td>17.1</td>\n",
              "      <td>0.3</td>\n",
              "      <td>2.4</td>\n",
              "      <td>구름조금/소나기/안개</td>\n",
              "      <td>27.6</td>\n",
              "      <td>15.3</td>\n",
              "      <td>0.0</td>\n",
              "      <td>1.7</td>\n",
              "      <td>구름조금/비</td>\n",
              "      <td>10.337838</td>\n",
              "      <td>0.210526</td>\n",
              "      <td>1.925676</td>\n",
              "      <td>26.368421</td>\n",
              "      <td>17.0000</td>\n",
              "      <td>8.986486</td>\n",
              "      <td>0.078947</td>\n",
              "      <td>25.105263</td>\n",
              "      <td>16.0000</td>\n",
              "      <td>8.513514</td>\n",
              "      <td>0.078947</td>\n",
              "      <td>26.263158</td>\n",
              "      <td>16.00</td>\n",
              "      <td>2</td>\n",
              "      <td>20190615</td>\n",
              "      <td>36.00</td>\n",
              "      <td>21.36</td>\n",
              "      <td>0.04308</td>\n",
              "      <td>0.01296</td>\n",
              "      <td>0.364</td>\n",
              "      <td>0.0030</td>\n",
              "      <td>g11</td>\n",
              "      <td>6</td>\n",
              "      <td>1</td>\n",
              "      <td>sat</td>\n",
              "      <td>118574.0</td>\n",
              "      <td>11.141862</td>\n",
              "      <td>4.975834</td>\n",
              "      <td>6</td>\n",
              "      <td>1</td>\n",
              "      <td>0</td>\n",
              "      <td>32</td>\n",
              "      <td>-0.076896</td>\n",
              "      <td>0.135743</td>\n",
              "      <td>1</td>\n",
              "      <td>27.266667</td>\n",
              "      <td>16.766667</td>\n",
              "      <td>0.8</td>\n",
              "      <td>2.200000</td>\n",
              "    </tr>\n",
              "    <tr>\n",
              "      <th>4</th>\n",
              "      <td>17377</td>\n",
              "      <td>2019-06-15 01:00:00</td>\n",
              "      <td>30.0</td>\n",
              "      <td>100374</td>\n",
              "      <td>201206</td>\n",
              "      <td>USPA  여성 폴로셔츠 위켄드 컬렉션 3종</td>\n",
              "      <td>cloth</td>\n",
              "      <td>9409000</td>\n",
              "      <td>2019-06-15</td>\n",
              "      <td>01:00:00</td>\n",
              "      <td>5</td>\n",
              "      <td>1</td>\n",
              "      <td>0</td>\n",
              "      <td>6</td>\n",
              "      <td>1</td>\n",
              "      <td>27.4</td>\n",
              "      <td>17.9</td>\n",
              "      <td>2.1</td>\n",
              "      <td>2.5</td>\n",
              "      <td>구름조금/비/천둥번개</td>\n",
              "      <td>26.8</td>\n",
              "      <td>17.1</td>\n",
              "      <td>0.3</td>\n",
              "      <td>2.4</td>\n",
              "      <td>구름조금/소나기/안개</td>\n",
              "      <td>27.6</td>\n",
              "      <td>15.3</td>\n",
              "      <td>0.0</td>\n",
              "      <td>1.7</td>\n",
              "      <td>구름조금/비</td>\n",
              "      <td>10.337838</td>\n",
              "      <td>0.210526</td>\n",
              "      <td>1.925676</td>\n",
              "      <td>26.368421</td>\n",
              "      <td>17.0000</td>\n",
              "      <td>8.986486</td>\n",
              "      <td>0.078947</td>\n",
              "      <td>25.105263</td>\n",
              "      <td>16.0000</td>\n",
              "      <td>8.513514</td>\n",
              "      <td>0.078947</td>\n",
              "      <td>26.263158</td>\n",
              "      <td>16.00</td>\n",
              "      <td>2</td>\n",
              "      <td>20190615</td>\n",
              "      <td>36.00</td>\n",
              "      <td>21.36</td>\n",
              "      <td>0.04308</td>\n",
              "      <td>0.01296</td>\n",
              "      <td>0.364</td>\n",
              "      <td>0.0030</td>\n",
              "      <td>g11</td>\n",
              "      <td>6</td>\n",
              "      <td>1</td>\n",
              "      <td>sat</td>\n",
              "      <td>118574.0</td>\n",
              "      <td>11.141862</td>\n",
              "      <td>4.915315</td>\n",
              "      <td>6</td>\n",
              "      <td>1</td>\n",
              "      <td>0</td>\n",
              "      <td>32</td>\n",
              "      <td>-0.076896</td>\n",
              "      <td>0.135743</td>\n",
              "      <td>1</td>\n",
              "      <td>27.266667</td>\n",
              "      <td>16.766667</td>\n",
              "      <td>0.8</td>\n",
              "      <td>2.200000</td>\n",
              "    </tr>\n",
              "    <tr>\n",
              "      <th>...</th>\n",
              "      <td>...</td>\n",
              "      <td>...</td>\n",
              "      <td>...</td>\n",
              "      <td>...</td>\n",
              "      <td>...</td>\n",
              "      <td>...</td>\n",
              "      <td>...</td>\n",
              "      <td>...</td>\n",
              "      <td>...</td>\n",
              "      <td>...</td>\n",
              "      <td>...</td>\n",
              "      <td>...</td>\n",
              "      <td>...</td>\n",
              "      <td>...</td>\n",
              "      <td>...</td>\n",
              "      <td>...</td>\n",
              "      <td>...</td>\n",
              "      <td>...</td>\n",
              "      <td>...</td>\n",
              "      <td>...</td>\n",
              "      <td>...</td>\n",
              "      <td>...</td>\n",
              "      <td>...</td>\n",
              "      <td>...</td>\n",
              "      <td>...</td>\n",
              "      <td>...</td>\n",
              "      <td>...</td>\n",
              "      <td>...</td>\n",
              "      <td>...</td>\n",
              "      <td>...</td>\n",
              "      <td>...</td>\n",
              "      <td>...</td>\n",
              "      <td>...</td>\n",
              "      <td>...</td>\n",
              "      <td>...</td>\n",
              "      <td>...</td>\n",
              "      <td>...</td>\n",
              "      <td>...</td>\n",
              "      <td>...</td>\n",
              "      <td>...</td>\n",
              "      <td>...</td>\n",
              "      <td>...</td>\n",
              "      <td>...</td>\n",
              "      <td>...</td>\n",
              "      <td>...</td>\n",
              "      <td>...</td>\n",
              "      <td>...</td>\n",
              "      <td>...</td>\n",
              "      <td>...</td>\n",
              "      <td>...</td>\n",
              "      <td>...</td>\n",
              "      <td>...</td>\n",
              "      <td>...</td>\n",
              "      <td>...</td>\n",
              "      <td>...</td>\n",
              "      <td>...</td>\n",
              "      <td>...</td>\n",
              "      <td>...</td>\n",
              "      <td>...</td>\n",
              "      <td>...</td>\n",
              "      <td>...</td>\n",
              "      <td>...</td>\n",
              "      <td>...</td>\n",
              "      <td>...</td>\n",
              "      <td>...</td>\n",
              "      <td>...</td>\n",
              "      <td>...</td>\n",
              "      <td>...</td>\n",
              "      <td>...</td>\n",
              "    </tr>\n",
              "    <tr>\n",
              "      <th>7508</th>\n",
              "      <td>25398</td>\n",
              "      <td>2019-08-31 23:00:00</td>\n",
              "      <td>20.0</td>\n",
              "      <td>100205</td>\n",
              "      <td>200739</td>\n",
              "      <td>보루네오 루나시즌2 유로탑 멀티수납형 LED침대 킹</td>\n",
              "      <td>furniture</td>\n",
              "      <td>52265000</td>\n",
              "      <td>2019-08-31</td>\n",
              "      <td>23:00:00</td>\n",
              "      <td>5</td>\n",
              "      <td>23</td>\n",
              "      <td>0</td>\n",
              "      <td>8</td>\n",
              "      <td>1</td>\n",
              "      <td>28.9</td>\n",
              "      <td>18.5</td>\n",
              "      <td>0.0</td>\n",
              "      <td>1.8</td>\n",
              "      <td>구름조금</td>\n",
              "      <td>27.7</td>\n",
              "      <td>17.4</td>\n",
              "      <td>0.0</td>\n",
              "      <td>1.7</td>\n",
              "      <td>구름조금/비</td>\n",
              "      <td>27.7</td>\n",
              "      <td>15.5</td>\n",
              "      <td>0.0</td>\n",
              "      <td>0.9</td>\n",
              "      <td>맑음</td>\n",
              "      <td>22.229730</td>\n",
              "      <td>0.000000</td>\n",
              "      <td>3.222973</td>\n",
              "      <td>29.000000</td>\n",
              "      <td>20.3125</td>\n",
              "      <td>17.567568</td>\n",
              "      <td>0.000000</td>\n",
              "      <td>28.210526</td>\n",
              "      <td>18.0625</td>\n",
              "      <td>24.256757</td>\n",
              "      <td>0.131579</td>\n",
              "      <td>28.578947</td>\n",
              "      <td>19.75</td>\n",
              "      <td>2</td>\n",
              "      <td>20190831</td>\n",
              "      <td>16.56</td>\n",
              "      <td>9.36</td>\n",
              "      <td>0.03184</td>\n",
              "      <td>0.01672</td>\n",
              "      <td>0.384</td>\n",
              "      <td>0.0034</td>\n",
              "      <td>a1</td>\n",
              "      <td>8</td>\n",
              "      <td>23</td>\n",
              "      <td>sat</td>\n",
              "      <td>149965.0</td>\n",
              "      <td>13.381646</td>\n",
              "      <td>4.390192</td>\n",
              "      <td>3</td>\n",
              "      <td>1</td>\n",
              "      <td>9</td>\n",
              "      <td>7</td>\n",
              "      <td>-0.011995</td>\n",
              "      <td>0.015618</td>\n",
              "      <td>17</td>\n",
              "      <td>28.100000</td>\n",
              "      <td>17.133333</td>\n",
              "      <td>0.0</td>\n",
              "      <td>1.466667</td>\n",
              "    </tr>\n",
              "    <tr>\n",
              "      <th>7509</th>\n",
              "      <td>25399</td>\n",
              "      <td>2019-08-31 23:20:00</td>\n",
              "      <td>20.0</td>\n",
              "      <td>100292</td>\n",
              "      <td>200945</td>\n",
              "      <td>[가이거] 블랙 에디션 다이아몬드 워치(여성용)</td>\n",
              "      <td>etc</td>\n",
              "      <td>7047000</td>\n",
              "      <td>2019-08-31</td>\n",
              "      <td>23:20:00</td>\n",
              "      <td>5</td>\n",
              "      <td>23</td>\n",
              "      <td>0</td>\n",
              "      <td>8</td>\n",
              "      <td>1</td>\n",
              "      <td>28.9</td>\n",
              "      <td>18.5</td>\n",
              "      <td>0.0</td>\n",
              "      <td>1.8</td>\n",
              "      <td>구름조금</td>\n",
              "      <td>27.7</td>\n",
              "      <td>17.4</td>\n",
              "      <td>0.0</td>\n",
              "      <td>1.7</td>\n",
              "      <td>구름조금/비</td>\n",
              "      <td>27.7</td>\n",
              "      <td>15.5</td>\n",
              "      <td>0.0</td>\n",
              "      <td>0.9</td>\n",
              "      <td>맑음</td>\n",
              "      <td>22.229730</td>\n",
              "      <td>0.000000</td>\n",
              "      <td>3.222973</td>\n",
              "      <td>29.000000</td>\n",
              "      <td>20.3125</td>\n",
              "      <td>17.567568</td>\n",
              "      <td>0.000000</td>\n",
              "      <td>28.210526</td>\n",
              "      <td>18.0625</td>\n",
              "      <td>24.256757</td>\n",
              "      <td>0.131579</td>\n",
              "      <td>28.578947</td>\n",
              "      <td>19.75</td>\n",
              "      <td>2</td>\n",
              "      <td>20190831</td>\n",
              "      <td>16.56</td>\n",
              "      <td>9.36</td>\n",
              "      <td>0.03184</td>\n",
              "      <td>0.01672</td>\n",
              "      <td>0.384</td>\n",
              "      <td>0.0034</td>\n",
              "      <td>i29</td>\n",
              "      <td>8</td>\n",
              "      <td>23</td>\n",
              "      <td>sat</td>\n",
              "      <td>149965.0</td>\n",
              "      <td>12.089539</td>\n",
              "      <td>3.678574</td>\n",
              "      <td>3</td>\n",
              "      <td>1</td>\n",
              "      <td>0</td>\n",
              "      <td>10</td>\n",
              "      <td>-0.005012</td>\n",
              "      <td>0.006441</td>\n",
              "      <td>17</td>\n",
              "      <td>28.100000</td>\n",
              "      <td>17.133333</td>\n",
              "      <td>0.0</td>\n",
              "      <td>1.466667</td>\n",
              "    </tr>\n",
              "    <tr>\n",
              "      <th>7510</th>\n",
              "      <td>25400</td>\n",
              "      <td>2019-08-31 23:20:00</td>\n",
              "      <td>20.0</td>\n",
              "      <td>100292</td>\n",
              "      <td>200944</td>\n",
              "      <td>[가이거] 블랙 에디션 다이아몬드 워치(남성용)</td>\n",
              "      <td>etc</td>\n",
              "      <td>7551000</td>\n",
              "      <td>2019-08-31</td>\n",
              "      <td>23:20:00</td>\n",
              "      <td>5</td>\n",
              "      <td>23</td>\n",
              "      <td>0</td>\n",
              "      <td>8</td>\n",
              "      <td>1</td>\n",
              "      <td>28.9</td>\n",
              "      <td>18.5</td>\n",
              "      <td>0.0</td>\n",
              "      <td>1.8</td>\n",
              "      <td>구름조금</td>\n",
              "      <td>27.7</td>\n",
              "      <td>17.4</td>\n",
              "      <td>0.0</td>\n",
              "      <td>1.7</td>\n",
              "      <td>구름조금/비</td>\n",
              "      <td>27.7</td>\n",
              "      <td>15.5</td>\n",
              "      <td>0.0</td>\n",
              "      <td>0.9</td>\n",
              "      <td>맑음</td>\n",
              "      <td>22.229730</td>\n",
              "      <td>0.000000</td>\n",
              "      <td>3.222973</td>\n",
              "      <td>29.000000</td>\n",
              "      <td>20.3125</td>\n",
              "      <td>17.567568</td>\n",
              "      <td>0.000000</td>\n",
              "      <td>28.210526</td>\n",
              "      <td>18.0625</td>\n",
              "      <td>24.256757</td>\n",
              "      <td>0.131579</td>\n",
              "      <td>28.578947</td>\n",
              "      <td>19.75</td>\n",
              "      <td>2</td>\n",
              "      <td>20190831</td>\n",
              "      <td>16.56</td>\n",
              "      <td>9.36</td>\n",
              "      <td>0.03184</td>\n",
              "      <td>0.01672</td>\n",
              "      <td>0.384</td>\n",
              "      <td>0.0034</td>\n",
              "      <td>i29</td>\n",
              "      <td>8</td>\n",
              "      <td>23</td>\n",
              "      <td>sat</td>\n",
              "      <td>149965.0</td>\n",
              "      <td>12.089539</td>\n",
              "      <td>3.747652</td>\n",
              "      <td>3</td>\n",
              "      <td>1</td>\n",
              "      <td>0</td>\n",
              "      <td>10</td>\n",
              "      <td>-0.005012</td>\n",
              "      <td>0.006441</td>\n",
              "      <td>17</td>\n",
              "      <td>28.100000</td>\n",
              "      <td>17.133333</td>\n",
              "      <td>0.0</td>\n",
              "      <td>1.466667</td>\n",
              "    </tr>\n",
              "    <tr>\n",
              "      <th>7511</th>\n",
              "      <td>25401</td>\n",
              "      <td>2019-08-31 23:40:00</td>\n",
              "      <td>20.0</td>\n",
              "      <td>100292</td>\n",
              "      <td>200945</td>\n",
              "      <td>[가이거] 블랙 에디션 다이아몬드 워치(여성용)</td>\n",
              "      <td>etc</td>\n",
              "      <td>23624000</td>\n",
              "      <td>2019-08-31</td>\n",
              "      <td>23:40:00</td>\n",
              "      <td>5</td>\n",
              "      <td>23</td>\n",
              "      <td>0</td>\n",
              "      <td>8</td>\n",
              "      <td>1</td>\n",
              "      <td>28.9</td>\n",
              "      <td>18.5</td>\n",
              "      <td>0.0</td>\n",
              "      <td>1.8</td>\n",
              "      <td>구름조금</td>\n",
              "      <td>27.7</td>\n",
              "      <td>17.4</td>\n",
              "      <td>0.0</td>\n",
              "      <td>1.7</td>\n",
              "      <td>구름조금/비</td>\n",
              "      <td>27.7</td>\n",
              "      <td>15.5</td>\n",
              "      <td>0.0</td>\n",
              "      <td>0.9</td>\n",
              "      <td>맑음</td>\n",
              "      <td>22.229730</td>\n",
              "      <td>0.000000</td>\n",
              "      <td>3.222973</td>\n",
              "      <td>29.000000</td>\n",
              "      <td>20.3125</td>\n",
              "      <td>17.567568</td>\n",
              "      <td>0.000000</td>\n",
              "      <td>28.210526</td>\n",
              "      <td>18.0625</td>\n",
              "      <td>24.256757</td>\n",
              "      <td>0.131579</td>\n",
              "      <td>28.578947</td>\n",
              "      <td>19.75</td>\n",
              "      <td>2</td>\n",
              "      <td>20190831</td>\n",
              "      <td>16.56</td>\n",
              "      <td>9.36</td>\n",
              "      <td>0.03184</td>\n",
              "      <td>0.01672</td>\n",
              "      <td>0.384</td>\n",
              "      <td>0.0034</td>\n",
              "      <td>i29</td>\n",
              "      <td>8</td>\n",
              "      <td>23</td>\n",
              "      <td>sat</td>\n",
              "      <td>149965.0</td>\n",
              "      <td>12.089539</td>\n",
              "      <td>4.888235</td>\n",
              "      <td>3</td>\n",
              "      <td>1</td>\n",
              "      <td>0</td>\n",
              "      <td>10</td>\n",
              "      <td>-0.005012</td>\n",
              "      <td>0.006441</td>\n",
              "      <td>17</td>\n",
              "      <td>28.100000</td>\n",
              "      <td>17.133333</td>\n",
              "      <td>0.0</td>\n",
              "      <td>1.466667</td>\n",
              "    </tr>\n",
              "    <tr>\n",
              "      <th>7512</th>\n",
              "      <td>25402</td>\n",
              "      <td>2019-08-31 23:40:00</td>\n",
              "      <td>20.0</td>\n",
              "      <td>100292</td>\n",
              "      <td>200944</td>\n",
              "      <td>[가이거] 블랙 에디션 다이아몬드 워치(남성용)</td>\n",
              "      <td>etc</td>\n",
              "      <td>16523000</td>\n",
              "      <td>2019-08-31</td>\n",
              "      <td>23:40:00</td>\n",
              "      <td>5</td>\n",
              "      <td>23</td>\n",
              "      <td>0</td>\n",
              "      <td>8</td>\n",
              "      <td>1</td>\n",
              "      <td>28.9</td>\n",
              "      <td>18.5</td>\n",
              "      <td>0.0</td>\n",
              "      <td>1.8</td>\n",
              "      <td>구름조금</td>\n",
              "      <td>27.7</td>\n",
              "      <td>17.4</td>\n",
              "      <td>0.0</td>\n",
              "      <td>1.7</td>\n",
              "      <td>구름조금/비</td>\n",
              "      <td>27.7</td>\n",
              "      <td>15.5</td>\n",
              "      <td>0.0</td>\n",
              "      <td>0.9</td>\n",
              "      <td>맑음</td>\n",
              "      <td>22.229730</td>\n",
              "      <td>0.000000</td>\n",
              "      <td>3.222973</td>\n",
              "      <td>29.000000</td>\n",
              "      <td>20.3125</td>\n",
              "      <td>17.567568</td>\n",
              "      <td>0.000000</td>\n",
              "      <td>28.210526</td>\n",
              "      <td>18.0625</td>\n",
              "      <td>24.256757</td>\n",
              "      <td>0.131579</td>\n",
              "      <td>28.578947</td>\n",
              "      <td>19.75</td>\n",
              "      <td>2</td>\n",
              "      <td>20190831</td>\n",
              "      <td>16.56</td>\n",
              "      <td>9.36</td>\n",
              "      <td>0.03184</td>\n",
              "      <td>0.01672</td>\n",
              "      <td>0.384</td>\n",
              "      <td>0.0034</td>\n",
              "      <td>i29</td>\n",
              "      <td>8</td>\n",
              "      <td>23</td>\n",
              "      <td>sat</td>\n",
              "      <td>149965.0</td>\n",
              "      <td>12.089539</td>\n",
              "      <td>4.530725</td>\n",
              "      <td>3</td>\n",
              "      <td>1</td>\n",
              "      <td>0</td>\n",
              "      <td>10</td>\n",
              "      <td>-0.005012</td>\n",
              "      <td>0.006441</td>\n",
              "      <td>17</td>\n",
              "      <td>28.100000</td>\n",
              "      <td>17.133333</td>\n",
              "      <td>0.0</td>\n",
              "      <td>1.466667</td>\n",
              "    </tr>\n",
              "  </tbody>\n",
              "</table>\n",
              "<p>7513 rows × 69 columns</p>\n",
              "</div>"
            ],
            "text/plain": [
              "      Unnamed: 0                방송일시  노출(분)  ...    실제_최저기온  실제_강수량   실제_평균풍속\n",
              "0          17373 2019-06-15 00:00:00   20.0  ...  16.766667     0.8  2.200000\n",
              "1          17374 2019-06-15 00:20:00   20.0  ...  16.766667     0.8  2.200000\n",
              "2          17375 2019-06-15 00:40:00   20.0  ...  16.766667     0.8  2.200000\n",
              "3          17376 2019-06-15 01:00:00   30.0  ...  16.766667     0.8  2.200000\n",
              "4          17377 2019-06-15 01:00:00   30.0  ...  16.766667     0.8  2.200000\n",
              "...          ...                 ...    ...  ...        ...     ...       ...\n",
              "7508       25398 2019-08-31 23:00:00   20.0  ...  17.133333     0.0  1.466667\n",
              "7509       25399 2019-08-31 23:20:00   20.0  ...  17.133333     0.0  1.466667\n",
              "7510       25400 2019-08-31 23:20:00   20.0  ...  17.133333     0.0  1.466667\n",
              "7511       25401 2019-08-31 23:40:00   20.0  ...  17.133333     0.0  1.466667\n",
              "7512       25402 2019-08-31 23:40:00   20.0  ...  17.133333     0.0  1.466667\n",
              "\n",
              "[7513 rows x 69 columns]"
            ]
          },
          "metadata": {
            "tags": []
          },
          "execution_count": 58
        }
      ]
    },
    {
      "cell_type": "code",
      "metadata": {
        "colab_type": "code",
        "id": "BwNzy2BNh-NN",
        "colab": {}
      },
      "source": [
        "#corr_mat = train.corr()\n",
        "#corr_mat['new주문량'].sort_values(ascending=False)"
      ],
      "execution_count": 59,
      "outputs": []
    },
    {
      "cell_type": "code",
      "metadata": {
        "id": "3ZKBYNgwhI0W",
        "colab_type": "code",
        "colab": {}
      },
      "source": [
        "# train.drop(['Unnamed: 0', '방송일시', '상품명', '상품군', 'holiday', '요일', 'HOUR', '마더코드'], inplace=True, axis=1)\n",
        "# 방송일시, 상품명, 상품군, holiday(주말), 요일, HOUR, 마더코드"
      ],
      "execution_count": 60,
      "outputs": []
    },
    {
      "cell_type": "markdown",
      "metadata": {
        "id": "p7gttZKmkvD9",
        "colab_type": "text"
      },
      "source": [
        "# Feature Engineering & 인코딩"
      ]
    },
    {
      "cell_type": "code",
      "metadata": {
        "id": "XELj9faphKbT",
        "colab_type": "code",
        "colab": {}
      },
      "source": [
        "# 빈도수인코딩(위의 원핫+pca와 비교해보기)\n",
        "def add_frequency_encoding(data,column): #데이터프레임,열을 받아서 빈도수인코딩열을 추가해줌\n",
        "  enc_nom = (data.groupby(column).size())/len(data)\n",
        "  data['freq_encode_{}'.format(column)] = data[column].apply(lambda x:enc_nom[x])\n",
        "  print(\"freq_encode column was added\")"
      ],
      "execution_count": 61,
      "outputs": []
    },
    {
      "cell_type": "code",
      "metadata": {
        "id": "WNhBK7irVtnb",
        "colab_type": "code",
        "colab": {
          "base_uri": "https://localhost:8080/",
          "height": 35
        },
        "outputId": "a2f57bad-7547-484b-fb5b-5f6a5a616011"
      },
      "source": [
        "add_frequency_encoding(train,'분류')"
      ],
      "execution_count": 62,
      "outputs": [
        {
          "output_type": "stream",
          "text": [
            "freq_encode column was added\n"
          ],
          "name": "stdout"
        }
      ]
    },
    {
      "cell_type": "markdown",
      "metadata": {
        "id": "BW6tQt3ZkxhB",
        "colab_type": "text"
      },
      "source": [
        "# 모델 생성 및 학습"
      ]
    },
    {
      "cell_type": "markdown",
      "metadata": {
        "id": "SIGBVzhtn-jb",
        "colab_type": "text"
      },
      "source": [
        "- train, test split"
      ]
    },
    {
      "cell_type": "code",
      "metadata": {
        "id": "jIQMIWFxn95p",
        "colab_type": "code",
        "colab": {
          "base_uri": "https://localhost:8080/",
          "height": 70
        },
        "outputId": "e1bfe02c-062b-444d-8f30-24cbbd2d5a05"
      },
      "source": [
        "'''\n",
        "# 통째로 split할경우 실행\n",
        "\n",
        "from sklearn.model_selection import train_test_split\n",
        "\n",
        "total_x = train.drop('new주문량', axis=1)\n",
        "total_y = train['new주문량']\n",
        "\n",
        "total_x_train, total_x_val, total_y_train, total_y_val = train_test_split(x, y, test_size=0.33, random_state=1234)\n",
        "'''"
      ],
      "execution_count": 63,
      "outputs": [
        {
          "output_type": "execute_result",
          "data": {
            "application/vnd.google.colaboratory.intrinsic+json": {
              "type": "string"
            },
            "text/plain": [
              "\"\\n# 통째로 split할경우 실행\\n\\nfrom sklearn.model_selection import train_test_split\\n\\ntotal_x = train.drop('new주문량', axis=1)\\ntotal_y = train['new주문량']\\n\\ntotal_x_train, total_x_val, total_y_train, total_y_val = train_test_split(x, y, test_size=0.33, random_state=1234)\\n\""
            ]
          },
          "metadata": {
            "tags": []
          },
          "execution_count": 63
        }
      ]
    },
    {
      "cell_type": "code",
      "metadata": {
        "id": "HJ0-4OCshKh9",
        "colab_type": "code",
        "colab": {}
      },
      "source": [
        "#모든 카테고리에 대해 따로따로 자동 변수생성\n",
        "category_list = train['상품군'].unique().tolist()\n",
        "for i in category_list:\n",
        "  globals()['x_{}'.format(i)] = train.loc[train['상품군']==i] #카테고리에 해당하는 주문량제외 train데이터 할당\n",
        "  globals()['y_{}'.format(i)] = train['new주문량'].loc[train['상품군']==i] #카테고리에 해당하는 train의 주문량을 할당"
      ],
      "execution_count": 64,
      "outputs": []
    },
    {
      "cell_type": "code",
      "metadata": {
        "id": "e987rMBKhKfq",
        "colab_type": "code",
        "colab": {
          "base_uri": "https://localhost:8080/",
          "height": 210
        },
        "outputId": "196583d4-30dd-4427-9feb-22e15919425e"
      },
      "source": [
        "for i in range(11):\n",
        "  print('x_{}'.format(category_list[i])) #11개 상품군 다 성공적으로 변수 생성됨."
      ],
      "execution_count": 65,
      "outputs": [
        {
          "output_type": "stream",
          "text": [
            "x_inner\n",
            "x_cloth\n",
            "x_elec\n",
            "x_living\n",
            "x_food\n",
            "x_health\n",
            "x_bedding\n",
            "x_furniture\n",
            "x_beauty\n",
            "x_etc\n",
            "x_life\n"
          ],
          "name": "stdout"
        }
      ]
    },
    {
      "cell_type": "code",
      "metadata": {
        "id": "upQWmAguhKdb",
        "colab_type": "code",
        "colab": {}
      },
      "source": [
        "#카테고리별로 x,y를 train test 스플릿해줌.\n",
        "from sklearn.model_selection import train_test_split\n",
        "for i in category_list:\n",
        "  x_for_split = globals()['x_{}'.format(i)]\n",
        "  y_for_split = globals()['y_{}'.format(i)]\n",
        "  globals()['x_train_{}'.format(i)], globals()['x_test_{}'.format(i)], globals()['y_train_{}'.format(i)], globals()['y_test_{}'.format(i)] = train_test_split(x_for_split, y_for_split, test_size=0.33, random_state=1234)\n",
        "# 카테고리별로 X_train_카테고리 , X_test_카테고리, Y_train_카테고리, Y_test_카테고리 생성됐음."
      ],
      "execution_count": 66,
      "outputs": []
    },
    {
      "cell_type": "code",
      "metadata": {
        "id": "GLaql7kShKkF",
        "colab_type": "code",
        "colab": {}
      },
      "source": [
        "from sklearn.ensemble import RandomForestRegressor\n",
        "forest = RandomForestRegressor(random_state=1234)"
      ],
      "execution_count": 67,
      "outputs": []
    },
    {
      "cell_type": "code",
      "metadata": {
        "id": "4bRDZAs8t3Tn",
        "colab_type": "code",
        "colab": {}
      },
      "source": [
        "seungen_feature = ['노출(분)', 'holiday(includeSS)','실제_최고기온','실제_최저기온','실제_강수량','실제_평균풍속' , '예보_서울_강수확률', '예보_서울_강수량',\n",
        "       '예보_서울_하늘상태', '예보_서울_일최고기온', '예보_서울_일최저기온', '예보_일산_강수확률', '예보_일산_강수량',\n",
        "       '예보_일산_일최고기온', '예보_일산_일최저기온', '예보_수원_강수확률', '예보_수원_강수량', '예보_수원_일최고기온',\n",
        "       '예보_수원_일최저기온', 'Active Users', 'new판매단가', 'prime_time',\n",
        "       'prime_day', 'top_code', 'top_cat']"
      ],
      "execution_count": 68,
      "outputs": []
    },
    {
      "cell_type": "code",
      "metadata": {
        "id": "N2rU30ZLhRoX",
        "colab_type": "code",
        "colab": {
          "base_uri": "https://localhost:8080/",
          "height": 122
        },
        "outputId": "80fe0fdd-076a-46b7-d9fb-bfd02abd8574"
      },
      "source": [
        "feature_selection = x_train_beauty.loc[:,seungen_feature].columns.values\n",
        "feature_selection"
      ],
      "execution_count": 69,
      "outputs": [
        {
          "output_type": "execute_result",
          "data": {
            "text/plain": [
              "array(['노출(분)', 'holiday(includeSS)', '실제_최고기온', '실제_최저기온', '실제_강수량',\n",
              "       '실제_평균풍속', '예보_서울_강수확률', '예보_서울_강수량', '예보_서울_하늘상태', '예보_서울_일최고기온',\n",
              "       '예보_서울_일최저기온', '예보_일산_강수확률', '예보_일산_강수량', '예보_일산_일최고기온',\n",
              "       '예보_일산_일최저기온', '예보_수원_강수확률', '예보_수원_강수량', '예보_수원_일최고기온',\n",
              "       '예보_수원_일최저기온', 'Active Users', 'new판매단가', 'prime_time',\n",
              "       'prime_day', 'top_code', 'top_cat'], dtype=object)"
            ]
          },
          "metadata": {
            "tags": []
          },
          "execution_count": 69
        }
      ]
    },
    {
      "cell_type": "code",
      "metadata": {
        "id": "yqdhGcWthRmT",
        "colab_type": "code",
        "colab": {}
      },
      "source": [
        "for i in category_list:\n",
        "  globals()['shop_train_x_{}'.format(i)] = globals()['x_train_{}'.format(i)][feature_selection]\n",
        "  globals()['shop_test_x_{}'.format(i)] = globals()['x_test_{}'.format(i)][feature_selection]"
      ],
      "execution_count": 70,
      "outputs": []
    },
    {
      "cell_type": "markdown",
      "metadata": {
        "id": "4teJbPeF0Ea5",
        "colab_type": "text"
      },
      "source": [
        "# 6번. 카테고리별 20분단위로 3갈해서 각각 피팅\n"
      ]
    },
    {
      "cell_type": "code",
      "metadata": {
        "id": "fbaEa45V1EQc",
        "colab_type": "code",
        "colab": {
          "base_uri": "https://localhost:8080/",
          "height": 245
        },
        "outputId": "6b160b26-04e7-49ae-9dc0-70d1ac06e3ca"
      },
      "source": [
        "Imsi_list = x_beauty.groupby(['마더코드','날짜']).count()['노출(분)'] #마더코드별로 방송 노출분\n",
        "Imsi_list"
      ],
      "execution_count": 92,
      "outputs": [
        {
          "output_type": "execute_result",
          "data": {
            "text/plain": [
              "마더코드    날짜        \n",
              "100000  2019-08-26    3\n",
              "        2019-08-30    3\n",
              "100074  2019-06-18    3\n",
              "        2019-06-24    3\n",
              "        2019-06-25    3\n",
              "                     ..\n",
              "100773  2019-07-06    3\n",
              "        2019-07-15    3\n",
              "        2019-07-19    3\n",
              "        2019-07-26    3\n",
              "        2019-07-29    3\n",
              "Name: 노출(분), Length: 71, dtype: int64"
            ]
          },
          "metadata": {
            "tags": []
          },
          "execution_count": 92
        }
      ]
    },
    {
      "cell_type": "code",
      "metadata": {
        "id": "RUEXuOErigYZ",
        "colab_type": "code",
        "colab": {
          "base_uri": "https://localhost:8080/",
          "height": 35
        },
        "outputId": "caf1ea04-1854-4aa0-cef2-9a3839c7b2da"
      },
      "source": [
        "len(x_beauty), len(Imsi_list) #beauty전체항목수, 마더코드/날짜 별로 묶인 그룹수"
      ],
      "execution_count": 108,
      "outputs": [
        {
          "output_type": "execute_result",
          "data": {
            "text/plain": [
              "(216, 71)"
            ]
          },
          "metadata": {
            "tags": []
          },
          "execution_count": 108
        }
      ]
    },
    {
      "cell_type": "code",
      "metadata": {
        "id": "NLWCFlal9Ac3",
        "colab_type": "code",
        "colab": {
          "base_uri": "https://localhost:8080/",
          "height": 35
        },
        "outputId": "519fca98-f3da-47ba-b0a7-204490ce6831"
      },
      "source": [
        "hallo = train.groupby(['마더코드','날짜']).count()['노출(분)'] \n",
        "len(hallo[hallo==6]),len(hallo[hallo==5]),len(hallo[hallo==4]),len(hallo[hallo==3]),len(hallo[hallo==2]),len(hallo[hallo==1])"
      ],
      "execution_count": 72,
      "outputs": [
        {
          "output_type": "execute_result",
          "data": {
            "text/plain": [
              "(279, 13, 29, 815, 89, 14)"
            ]
          },
          "metadata": {
            "tags": []
          },
          "execution_count": 72
        }
      ]
    },
    {
      "cell_type": "code",
      "metadata": {
        "id": "EpEeDmIKxJJV",
        "colab_type": "code",
        "colab": {}
      },
      "source": [
        "for i in range(len(Imsi_list)):\n",
        "  Imsi_df = x_beauty[(x_beauty['마더코드']==Imsi_list.index[i][0]) & (x_beauty['날짜']==Imsi_list.index[i][1])]\n",
        "  globals()['x_beauty_group{}'.format(i)] = pd.DataFrame()\n",
        "  count = 0\n",
        "  for j in range(len(Imsi_df)):\n",
        "    if(count< Imsi_list.iloc[i]): #각 마더코드/날짜별 (행의)출현횟수 넘지 않는것만 df에 추가.\n",
        "      globals()['x_beauty_group{}'.format(i)] = globals()['x_beauty_group{}'.format(i)].append(Imsi_df.iloc[j])\n",
        "      count+=1"
      ],
      "execution_count": 221,
      "outputs": []
    },
    {
      "cell_type": "code",
      "metadata": {
        "id": "hZrqSrljrERN",
        "colab_type": "code",
        "colab": {
          "base_uri": "https://localhost:8080/",
          "height": 385
        },
        "outputId": "a7bb4a18-042a-4a1d-d535-e332787d9fa1"
      },
      "source": [
        "print(x_beauty_group0,x_beauty_group1,x_beauty_group2,x_beauty_group70) # 분리 성공"
      ],
      "execution_count": 222,
      "outputs": [
        {
          "output_type": "stream",
          "text": [
            "      Active Users        DATE  DAY  ...  일산화탄소농도(ppm)  초미세먼지(㎍/㎥)         취급액\n",
            "7013      153498.0  20190826.0  mon  ...       0.02048      0.0038  12078000.0\n",
            "7014      153498.0  20190826.0  mon  ...       0.02048      0.0038  17338000.0\n",
            "7015      153498.0  20190826.0  mon  ...       0.02048      0.0038  18195000.0\n",
            "\n",
            "[3 rows x 70 columns]       Active Users        DATE  DAY  ...  일산화탄소농도(ppm)  초미세먼지(㎍/㎥)         취급액\n",
            "7351      146126.0  20190830.0  fri  ...       0.01808      0.0036   5905000.0\n",
            "7352      151192.0  20190830.0  fri  ...       0.01808      0.0036  11888000.0\n",
            "7353      151192.0  20190830.0  fri  ...       0.01808      0.0036  11158000.0\n",
            "\n",
            "[3 rows x 70 columns]      Active Users        DATE  DAY  ...  일산화탄소농도(ppm)  초미세먼지(㎍/㎥)         취급액\n",
            "363      123763.0  20190618.0  tue  ...       0.02456     0.00384  24872000.0\n",
            "364      123763.0  20190618.0  tue  ...       0.02456     0.00384  46448000.0\n",
            "365      123763.0  20190618.0  tue  ...       0.02456     0.00384  73136000.0\n",
            "\n",
            "[3 rows x 70 columns]       Active Users        DATE  DAY  ...  일산화탄소농도(ppm)  초미세먼지(㎍/㎥)         취급액\n",
            "4364      142986.0  20190729.0  mon  ...       0.01152     0.00332  11863000.0\n",
            "4365      142986.0  20190729.0  mon  ...       0.01152     0.00332  19350000.0\n",
            "4366      142986.0  20190729.0  mon  ...       0.01152     0.00332  23177000.0\n",
            "\n",
            "[3 rows x 70 columns]\n"
          ],
          "name": "stdout"
        }
      ]
    },
    {
      "cell_type": "code",
      "metadata": {
        "id": "wHSsfvYwiZ99",
        "colab_type": "code",
        "colab": {
          "base_uri": "https://localhost:8080/",
          "height": 35
        },
        "outputId": "9c0e785a-9cb9-4fb5-fdfa-3fdc5bf1b6f4"
      },
      "source": [
        "sum_hallo = 0\n",
        "count = 0\n",
        "for i in range(len(Imsi_list)):\n",
        "  hallo = len(globals()['x_beauty_group{}'.format(i)])\n",
        "  count+=1\n",
        "  sum_hallo = sum_hallo+hallo\n",
        "sum_hallo,count #정확히 216개 data모두 사용, 71개 그룹 만들어짐."
      ],
      "execution_count": 224,
      "outputs": [
        {
          "output_type": "execute_result",
          "data": {
            "text/plain": [
              "(216, 71)"
            ]
          },
          "metadata": {
            "tags": []
          },
          "execution_count": 224
        }
      ]
    },
    {
      "cell_type": "markdown",
      "metadata": {
        "id": "8nwvlCNOvd-V",
        "colab_type": "text"
      },
      "source": [
        "- 그룹별로 3갈하기"
      ]
    },
    {
      "cell_type": "code",
      "metadata": {
        "id": "ebjEUmvlmet_",
        "colab_type": "code",
        "colab": {
          "base_uri": "https://localhost:8080/",
          "height": 245
        },
        "outputId": "08583464-0e2a-4bfa-e47c-cdba1f1cebba"
      },
      "source": [
        "Imsi_list2 = x_beauty.groupby(['마더코드','날짜']).max()['노출(분)'] \n",
        "Imsi_list2"
      ],
      "execution_count": 256,
      "outputs": [
        {
          "output_type": "execute_result",
          "data": {
            "text/plain": [
              "마더코드    날짜        \n",
              "100000  2019-08-26    20.0\n",
              "        2019-08-30    20.0\n",
              "100074  2019-06-18    20.0\n",
              "        2019-06-24    20.0\n",
              "        2019-06-25    20.0\n",
              "                      ... \n",
              "100773  2019-07-06    20.0\n",
              "        2019-07-15    20.0\n",
              "        2019-07-19    20.0\n",
              "        2019-07-26    20.0\n",
              "        2019-07-29    20.0\n",
              "Name: 노출(분), Length: 71, dtype: float64"
            ]
          },
          "metadata": {
            "tags": []
          },
          "execution_count": 256
        }
      ]
    },
    {
      "cell_type": "code",
      "metadata": {
        "id": "XykKDXtQgBfe",
        "colab_type": "code",
        "colab": {
          "base_uri": "https://localhost:8080/",
          "height": 52
        },
        "outputId": "e1a3acf2-1427-4d43-c88b-b00ceaa323d1"
      },
      "source": [
        "beauty_momcode = x_beauty['마더코드'].unique()\n",
        "print(beauty_momcode)"
      ],
      "execution_count": 86,
      "outputs": [
        {
          "output_type": "stream",
          "text": [
            "[100628 100399 100074 100773 100319 100766 100213 100244 100000 100332\n",
            " 100327]\n"
          ],
          "name": "stdout"
        }
      ]
    },
    {
      "cell_type": "code",
      "metadata": {
        "id": "HSSsJav3qUUU",
        "colab_type": "code",
        "colab": {
          "base_uri": "https://localhost:8080/",
          "height": 35
        },
        "outputId": "f6ac5f41-6498-4dfe-d097-f492c78467ea"
      },
      "source": [
        "pd.Timedelta('0 days 00:{}:00'.format(int(Imsi_list2.loc[100773][0]))) #방송 노출(분)을 기준시간으로 잡겠다."
      ],
      "execution_count": 89,
      "outputs": [
        {
          "output_type": "execute_result",
          "data": {
            "text/plain": [
              "Timedelta('0 days 00:20:00')"
            ]
          },
          "metadata": {
            "tags": []
          },
          "execution_count": 89
        }
      ]
    },
    {
      "cell_type": "code",
      "metadata": {
        "id": "GsqiMVUJ0IT4",
        "colab_type": "code",
        "colab": {}
      },
      "source": [
        "def split_shoprow(df,time): #그룹내 방송행간의 시간차이(날짜-날짜) <= 해당그룹 최대 노출(분)인가? 검토해서 분리하는 함수\n",
        "  shoprow1 = pd.DataFrame()\n",
        "  shoprow2 = pd.DataFrame()\n",
        "  size = len(df) #  길이 6짜리 df가 들어왔다면\n",
        "  count=0\n",
        "  for i in range((size)-1): # i는 0~4 (size-1)-1 까지만 돌아감 \n",
        "    if (df['방송일시'].iloc[i+1]-df['방송일시'].iloc[i] <= time):\n",
        "      shoprow1 = shoprow1.append(df.iloc[count])\n",
        "      count+=1 #이부분에서 count는 결국 size-1까지 성장가능\n",
        "    else:\n",
        "      shoprow2 = shoprow2.append(df.iloc[count])\n",
        "      count+=1\n",
        "    if count==size-1: #count가 5가 된다면(size-1)\n",
        "      shoprow2 = shoprow2.append(df.iloc[count])\n",
        "  return shoprow1,shoprow2"
      ],
      "execution_count": 97,
      "outputs": []
    },
    {
      "cell_type": "markdown",
      "metadata": {
        "id": "PLp--5CWvgno",
        "colab_type": "text"
      },
      "source": [
        "- 테스트용"
      ]
    },
    {
      "cell_type": "code",
      "metadata": {
        "id": "KvWaraIuhYlx",
        "colab_type": "code",
        "colab": {
          "base_uri": "https://localhost:8080/",
          "height": 175
        },
        "outputId": "f29bb0b4-18a8-483e-807a-4d952a591fa1"
      },
      "source": [
        "# 3개를 기준으로, 방송타임 2개는 bigfold에 1개는smallfold에 넣겠다.\n",
        "train_big_fold = pd.DataFrame()\n",
        "train_small_fold = pd.DataFrame()\n",
        "criteria_time = pd.Timedelta('0 days 00:{}:00'.format(int(Imsi_list2.loc[100773][0]))) #기준시간. 방송끼리 이만큼 붙어있어야 같은 제품의 판매임.\n",
        "train_big_fold,train_small_fold = split_shoprow(Imsi_df,criteria_time) #마더코드 100773인 Imsi_df사용\n",
        "print(train_big_fold)\n",
        "print(train_small_fold)"
      ],
      "execution_count": 226,
      "outputs": [
        {
          "output_type": "stream",
          "text": [
            "      Active Users        DATE  DAY  ...  일산화탄소농도(ppm)  초미세먼지(㎍/㎥)         취급액\n",
            "4364      142986.0  20190729.0  mon  ...       0.01152     0.00332  11863000.0\n",
            "4365      142986.0  20190729.0  mon  ...       0.01152     0.00332  19350000.0\n",
            "\n",
            "[2 rows x 70 columns]\n",
            "      Active Users        DATE  DAY  ...  일산화탄소농도(ppm)  초미세먼지(㎍/㎥)         취급액\n",
            "4366      142986.0  20190729.0  mon  ...       0.01152     0.00332  23177000.0\n",
            "\n",
            "[1 rows x 70 columns]\n"
          ],
          "name": "stdout"
        }
      ]
    },
    {
      "cell_type": "markdown",
      "metadata": {
        "id": "q7UTjaP15vSq",
        "colab_type": "text"
      },
      "source": [
        "# beauty 전체에 대해 3갈"
      ]
    },
    {
      "cell_type": "markdown",
      "metadata": {
        "id": "RUGSEj8xNR60",
        "colab_type": "text"
      },
      "source": [
        "코드 검토 필요"
      ]
    },
    {
      "cell_type": "markdown",
      "metadata": {
        "id": "N0u4jfbjHSah",
        "colab_type": "text"
      },
      "source": [
        "beauty 모든 마더코드/날짜별 그룹에 대해"
      ]
    },
    {
      "cell_type": "code",
      "metadata": {
        "id": "rkRcb1of5Q0H",
        "colab_type": "code",
        "colab": {}
      },
      "source": [
        "#기준시간 생성과정\n",
        "x_beauty_fold1 = pd.DataFrame() # 첫,두번째 시간대를 담을 DF\n",
        "x_beauty_fold2 = pd.DataFrame() # 세번째 시간대를 담을 DF\n",
        "for i in range(len(Imsi_list)): #그룹수만큼 반복(71번)\n",
        "  train_big_fold = pd.DataFrame()\n",
        "  train_small_fold = pd.DataFrame()\n",
        "  Imsi_time = int(Imsi_list2[i]) # Imsi_list2엔 노출 최대분 들어있음.\n",
        "  Imsi_time = pd.Timedelta('0 days 00:{}:00'.format(Imsi_time)) #그룹내 시간기준\n",
        "  Imsi_df = globals()['x_beauty_group{}'.format(i)] # 앞서 만든 그룹df 사용\n",
        "  train_big_fold,train_small_fold = split_shoprow(Imsi_df,Imsi_time)\n",
        "  x_beauty_fold1 = x_beauty_fold1.append(train_big_fold)\n",
        "  x_beauty_fold2 = x_beauty_fold2.append(train_small_fold)\n",
        "    "
      ],
      "execution_count": 278,
      "outputs": []
    },
    {
      "cell_type": "code",
      "metadata": {
        "id": "u6txde0izN5M",
        "colab_type": "code",
        "colab": {
          "base_uri": "https://localhost:8080/",
          "height": 35
        },
        "outputId": "41611b79-6d33-401f-ee45-8197cdd96f5d"
      },
      "source": [
        "len(x_beauty_fold1),len(x_beauty_fold2) # 2:1비율로 분리완료."
      ],
      "execution_count": 281,
      "outputs": [
        {
          "output_type": "execute_result",
          "data": {
            "text/plain": [
              "(144, 72)"
            ]
          },
          "metadata": {
            "tags": []
          },
          "execution_count": 281
        }
      ]
    },
    {
      "cell_type": "code",
      "metadata": {
        "id": "V_pE_WuP042e",
        "colab_type": "code",
        "colab": {
          "base_uri": "https://localhost:8080/",
          "height": 507
        },
        "outputId": "6a6ad90f-3136-45bd-eaa2-83ed13e21c05"
      },
      "source": [
        "x_beauty_fold1, x_beauty_fold2"
      ],
      "execution_count": 284,
      "outputs": [
        {
          "output_type": "execute_result",
          "data": {
            "text/plain": [
              "(      Active Users        DATE  DAY  ...  일산화탄소농도(ppm)  초미세먼지(㎍/㎥)         취급액\n",
              " 7013      153498.0  20190826.0  mon  ...       0.02048     0.00380  12078000.0\n",
              " 7014      153498.0  20190826.0  mon  ...       0.02048     0.00380  17338000.0\n",
              " 7351      146126.0  20190830.0  fri  ...       0.01808     0.00360   5905000.0\n",
              " 7352      151192.0  20190830.0  fri  ...       0.01808     0.00360  11888000.0\n",
              " 363       123763.0  20190618.0  tue  ...       0.02456     0.00384  24872000.0\n",
              " ...            ...         ...  ...  ...           ...         ...         ...\n",
              " 3367      137139.0  20190719.0  fri  ...       0.02072     0.00408  24278000.0\n",
              " 4075      149596.0  20190726.0  fri  ...       0.02132     0.00332  15731000.0\n",
              " 4076      149596.0  20190726.0  fri  ...       0.02132     0.00332  22789000.0\n",
              " 4364      142986.0  20190729.0  mon  ...       0.01152     0.00332  11863000.0\n",
              " 4365      142986.0  20190729.0  mon  ...       0.01152     0.00332  19350000.0\n",
              " \n",
              " [144 rows x 70 columns],\n",
              "       Active Users        DATE  DAY  ...  일산화탄소농도(ppm)  초미세먼지(㎍/㎥)         취급액\n",
              " 7015      153498.0  20190826.0  mon  ...       0.02048     0.00380  18195000.0\n",
              " 7353      151192.0  20190830.0  fri  ...       0.01808     0.00360  11158000.0\n",
              " 365       123763.0  20190618.0  tue  ...       0.02456     0.00384  73136000.0\n",
              " 905       128337.0  20190624.0  mon  ...       0.02196     0.00348  62581000.0\n",
              " 973       128337.0  20190625.0  tue  ...       0.02508     0.00392  27525000.0\n",
              " ...            ...         ...  ...  ...           ...         ...         ...\n",
              " 2031      138466.0  20190706.0  sat  ...       0.02228     0.00364  50349000.0\n",
              " 2928      115963.0  20190715.0  mon  ...       0.02336     0.00312  39722000.0\n",
              " 3368      137139.0  20190719.0  fri  ...       0.02072     0.00408  30073000.0\n",
              " 4077      149596.0  20190726.0  fri  ...       0.02132     0.00332  26975000.0\n",
              " 4366      142986.0  20190729.0  mon  ...       0.01152     0.00332  23177000.0\n",
              " \n",
              " [72 rows x 70 columns])"
            ]
          },
          "metadata": {
            "tags": []
          },
          "execution_count": 284
        }
      ]
    },
    {
      "cell_type": "markdown",
      "metadata": {
        "id": "979kisQR4CCB",
        "colab_type": "text"
      },
      "source": [
        "- 세환님 코드(train1,2,3에 각각 저장!)"
      ]
    },
    {
      "cell_type": "code",
      "metadata": {
        "id": "YQdN1Y5Ey34A",
        "colab_type": "code",
        "colab": {}
      },
      "source": [
        "goods=list(set(train['상품코드']))\n",
        "\n",
        "train1=train.head(0) # 20분\n",
        "train2=train.head(0) # 40분 \n",
        "train3=train.head(0) # 60분\n",
        "\n",
        "\n",
        "for i in range(len(goods)):\n",
        "    count=0\n",
        "    for j in range(len(train)):\n",
        "        if goods[i] == train['상품코드'][j]:\n",
        "            count=+1\n",
        "    if count==1:\n",
        "        train1=pd.concat([train1 , train[train['상품코드']==goods[i]]])\n",
        "    elif count==2:\n",
        "        train2=pd.concat([train2 , train[train['상품코드']==goods[i]]])\n",
        "    else:    \n",
        "        train3=pd.concat([train3 , train[train['상품코드']==goods[i]]])"
      ],
      "execution_count": null,
      "outputs": []
    },
    {
      "cell_type": "code",
      "metadata": {
        "id": "eI_Ce2HOyZ3r",
        "colab_type": "code",
        "colab": {}
      },
      "source": [
        "train_total=[]\n",
        "for i in range(8):\n",
        "    train_total.append(train1.head(0))\n",
        "    \n",
        "a= x_beauty.loc[[0],'분류']     \n",
        "b=[x_beauty.loc[[0],:]]\n",
        "\n",
        "for i in range(1, len(x_beauty)):\n",
        "    if(a == x_beauty.loc[[i],'분류']):\n",
        "        b.append(x_beauty.loc[[i], :])\n",
        "    else:\n",
        "        train_total[len(b)-1] = pd.concat(train_total[len(b)-1], b)\n",
        "        b =[]\n",
        "        b.append(x_beauty.loc[[i], :])\n",
        "        a = x_beauty.loc[[i], '분류']"
      ],
      "execution_count": null,
      "outputs": []
    },
    {
      "cell_type": "markdown",
      "metadata": {
        "id": "d3gz90LHOT73",
        "colab_type": "text"
      },
      "source": [
        "- 다중공선성 확인하기"
      ]
    },
    {
      "cell_type": "code",
      "metadata": {
        "id": "-lh16dv2Q4yI",
        "colab_type": "code",
        "colab": {}
      },
      "source": [
        "hi_feature = ['노출(분)', 'holiday(includeSS)','실제_최고기온','실제_최저기온','실제_강수량','실제_평균풍속' , '예보_서울_강수확률', '예보_서울_강수량', 'Active Users', 'new판매단가', 'prime_time',\n",
        "       'prime_day', 'top_code', 'top_cat']\n",
        "#실제날씨만 남겨놓은 Feature군"
      ],
      "execution_count": null,
      "outputs": []
    },
    {
      "cell_type": "code",
      "metadata": {
        "id": "i2KHOsTHRA-Q",
        "colab_type": "code",
        "colab": {}
      },
      "source": [
        "mung = shop_train_x_beauty[hi_feature]\n",
        "mung"
      ],
      "execution_count": null,
      "outputs": []
    },
    {
      "cell_type": "code",
      "metadata": {
        "id": "OKHfAPlnOWGb",
        "colab_type": "code",
        "colab": {}
      },
      "source": [
        "mung.corr()"
      ],
      "execution_count": null,
      "outputs": []
    },
    {
      "cell_type": "code",
      "metadata": {
        "id": "7MRUGZc3OYxA",
        "colab_type": "code",
        "colab": {}
      },
      "source": [
        "from patsy import dmatrices\n",
        "import statsmodels.api as sm\n",
        "from statsmodels.stats.outliers_influence import variance_inflation_factor\n",
        "shop_train_x_corr = mung.corr()"
      ],
      "execution_count": null,
      "outputs": []
    },
    {
      "cell_type": "code",
      "metadata": {
        "id": "qP5HKD-6P5-9",
        "colab_type": "code",
        "colab": {}
      },
      "source": [
        "plt.rcParams['figure.figsize']=(15,10)\n",
        "\n",
        "sns.heatmap(shop_train_x_corr.corr(),\n",
        "          annot=True,\n",
        "          cmap='Reds',\n",
        "          vmin = -1, vmax = 1\n",
        "          )"
      ],
      "execution_count": null,
      "outputs": []
    },
    {
      "cell_type": "code",
      "metadata": {
        "id": "AUmJl-FiOjdV",
        "colab_type": "code",
        "colab": {}
      },
      "source": [
        "# 피처마다의 VIF 계수를 출력\n",
        "vif = pd.DataFrame()\n",
        "vif[\"VIF Factor\"] = [variance_inflation_factor(shop_train_x_corr.values, i) for i in range(shop_train_x_corr.shape[1])]\n",
        "vif[\"features\"] = shop_train_x_corr.columns\n",
        "vif # 기존 feature_selection대로하면 다 엄청 높게나옴 +e3...이런식"
      ],
      "execution_count": null,
      "outputs": []
    },
    {
      "cell_type": "markdown",
      "metadata": {
        "id": "3YTivnI_RkR1",
        "colab_type": "text"
      },
      "source": [
        "# 랜포돌리기"
      ]
    },
    {
      "cell_type": "code",
      "metadata": {
        "id": "gFZWNLLthVRq",
        "colab_type": "code",
        "colab": {}
      },
      "source": [
        "forest.fit(shop_train_x_beauty, y_train_beauty)"
      ],
      "execution_count": null,
      "outputs": []
    },
    {
      "cell_type": "code",
      "metadata": {
        "id": "NOmBPGFPk8pj",
        "colab_type": "code",
        "colab": {}
      },
      "source": [
        "def mean_absolute_percentage_error(y_true, y_pred): \n",
        "    y_true, y_pred = np.array(y_true), np.array(y_pred)\n",
        "    return np.mean(np.abs((y_true - y_pred) / y_true)) * 100"
      ],
      "execution_count": null,
      "outputs": []
    },
    {
      "cell_type": "code",
      "metadata": {
        "id": "O2_lKkyahVT1",
        "colab_type": "code",
        "colab": {}
      },
      "source": [
        "predictions = forest.predict(shop_train_x_beauty)\n",
        "mape = mean_absolute_percentage_error(y_train_beauty, predictions)\n",
        "mape"
      ],
      "execution_count": null,
      "outputs": []
    },
    {
      "cell_type": "code",
      "metadata": {
        "id": "tZ8b_V56hVPe",
        "colab_type": "code",
        "colab": {}
      },
      "source": [
        "some_data = x_train_beauty.iloc[:8] # 8개의 Data의 주문량 예측해 보겠음.\n",
        "some_labels = y_train_beauty.iloc[:8]\n",
        "some_data = some_data[feature_selection]\n",
        "print(\"예측\", forest.predict(some_data))\n",
        "print(\"레이블:\", list(some_labels))"
      ],
      "execution_count": null,
      "outputs": []
    },
    {
      "cell_type": "markdown",
      "metadata": {
        "id": "qCf20ZMKlHXS",
        "colab_type": "text"
      },
      "source": [
        "#모든 카테고리 반복문으로 한번에 fit & predict 결과"
      ]
    },
    {
      "cell_type": "code",
      "metadata": {
        "id": "ArrKHU5ylK5X",
        "colab_type": "code",
        "colab": {}
      },
      "source": [
        "mape_score = []\n",
        "for i in category_list:\n",
        "  category_data = globals()['shop_train_x_{}'.format(i)]\n",
        "  category_label =  globals()['y_train_{}'.format(i)]\n",
        "  forest.fit(category_data,category_label)\n",
        "  predictions = forest.predict(category_data)\n",
        "  mape_score.append(mean_absolute_percentage_error(category_label, predictions))"
      ],
      "execution_count": null,
      "outputs": []
    },
    {
      "cell_type": "code",
      "metadata": {
        "id": "eJuLTLwzlLUH",
        "colab_type": "code",
        "colab": {}
      },
      "source": [
        "for i in range(len(category_list)):\n",
        "  print(\"RF MAPE score of\",category_list[i],\":\",mape_score[i])"
      ],
      "execution_count": null,
      "outputs": []
    },
    {
      "cell_type": "code",
      "metadata": {
        "id": "lM1PrbFglLYF",
        "colab_type": "code",
        "colab": {}
      },
      "source": [
        "pd.Series(mape_score).mean() # train자체적으로 해본성능 (validation 전체 기간 67%에 대해)"
      ],
      "execution_count": null,
      "outputs": []
    },
    {
      "cell_type": "markdown",
      "metadata": {
        "id": "NhF4aKDr62eV",
        "colab_type": "text"
      },
      "source": [
        "- test 셋으로 점수 확인해보기(33%)"
      ]
    },
    {
      "cell_type": "code",
      "metadata": {
        "id": "w6gRPA-y6CXd",
        "colab_type": "code",
        "colab": {}
      },
      "source": [
        "mape_score = []\n",
        "for i in category_list:\n",
        "  category_data = globals()['shop_train_x_{}'.format(i)]\n",
        "  category_label =  globals()['y_train_{}'.format(i)]\n",
        "  forest.fit(category_data,category_label) # train데이터로 fitting 되어잇음.\n",
        "  test_data = globals()['shop_test_x_{}'.format(i)]\n",
        "  test_label =  globals()['y_test_{}'.format(i)]\n",
        "  predictions = forest.predict(test_data) \n",
        "  mape_score.append(mean_absolute_percentage_error(test_label, predictions))"
      ],
      "execution_count": null,
      "outputs": []
    },
    {
      "cell_type": "code",
      "metadata": {
        "id": "VSqIXI-o6RfL",
        "colab_type": "code",
        "colab": {}
      },
      "source": [
        "for i in range(len(category_list)):\n",
        "  print(\"RF MAPE score of test\",category_list[i],\":\",mape_score[i])"
      ],
      "execution_count": null,
      "outputs": []
    },
    {
      "cell_type": "markdown",
      "metadata": {
        "id": "Pc_93pAyxJDH",
        "colab_type": "text"
      },
      "source": [
        "# 특성중요도 시각화"
      ]
    },
    {
      "cell_type": "code",
      "metadata": {
        "id": "96gU6Up7xJ9z",
        "colab_type": "code",
        "colab": {}
      },
      "source": [
        "print(\"특성 중요도:\\n{}\".format(forest.feature_importances_))\n",
        "\n",
        "def plot_feature_importances_NS(view_data,model):\n",
        "    n_features = view_data.shape[1]\n",
        "    plt.barh(range(n_features), model.feature_importances_, align='center')\n",
        "    plt.yticks(np.arange(n_features), view_data.columns.tolist())\n",
        "    plt.xlabel(\"특성 중요도\")\n",
        "    plt.ylabel(\"특성\")\n",
        "    plt.ylim(-1, n_features)\n",
        "\n",
        "plot_feature_importances_NS(shop_train_x_life,forest) #다들 top_cat가 가장 유효하게 작용한것 같다."
      ],
      "execution_count": null,
      "outputs": []
    },
    {
      "cell_type": "code",
      "metadata": {
        "id": "qR014CtQxIo1",
        "colab_type": "code",
        "colab": {}
      },
      "source": [
        "forest.feature_importances_"
      ],
      "execution_count": null,
      "outputs": []
    },
    {
      "cell_type": "markdown",
      "metadata": {
        "id": "hGKt_FawvuMq",
        "colab_type": "text"
      },
      "source": [
        "# SVM적용"
      ]
    },
    {
      "cell_type": "code",
      "metadata": {
        "id": "TwCj8S2LCQ8j",
        "colab_type": "code",
        "colab": {}
      },
      "source": [
        "from sklearn.svm import LinearSVR\n",
        "\n",
        "from sklearn.preprocessing import MinMaxScaler\n",
        "from sklearn.preprocessing import StandardScaler\n",
        "std_scaler = StandardScaler()\n",
        "scaler = MinMaxScaler()"
      ],
      "execution_count": null,
      "outputs": []
    },
    {
      "cell_type": "markdown",
      "metadata": {
        "id": "4-6DIyCnvw2z",
        "colab_type": "text"
      },
      "source": [
        "- 모든 카테고리에 대해 svr 써보기"
      ]
    },
    {
      "cell_type": "code",
      "metadata": {
        "id": "1R9LfTLJvM18",
        "colab_type": "code",
        "colab": {}
      },
      "source": [
        "'''\n",
        "svm_reg = LinearSVR()\n",
        "mape_score_svr = []\n",
        "for i in category_list:\n",
        "  category_data = std_scaler.fit_transform(globals()['shop_train_x_{}'.format(i)])\n",
        "  category_label =  globals()['y_train_{}'.format(i)]\n",
        "  svm_reg.fit(category_data,category_label)\n",
        "  predictions = svm_reg.predict(category_data)\n",
        "  mape_score_svr.append(mean_absolute_percentage_error(category_label, predictions))\n",
        "'''"
      ],
      "execution_count": null,
      "outputs": []
    },
    {
      "cell_type": "code",
      "metadata": {
        "id": "2fng5oxOvzL_",
        "colab_type": "code",
        "colab": {}
      },
      "source": [
        "'''\n",
        "for i in range(len(category_list)):\n",
        "  print(\"SVM MAPE score of\",category_list[i],\":\",mape_score_svr[i])\n",
        "'''"
      ],
      "execution_count": null,
      "outputs": []
    },
    {
      "cell_type": "markdown",
      "metadata": {
        "id": "uh8CsM38_vYm",
        "colab_type": "text"
      },
      "source": [
        "- Poly SVM"
      ]
    },
    {
      "cell_type": "code",
      "metadata": {
        "id": "sfijhSG8LHbt",
        "colab_type": "code",
        "colab": {}
      },
      "source": [
        "from sklearn.svm import SVR"
      ],
      "execution_count": null,
      "outputs": []
    },
    {
      "cell_type": "code",
      "metadata": {
        "id": "MQDUSrzyBu68",
        "colab_type": "code",
        "colab": {}
      },
      "source": [
        "svm_poly_reg1 = SVR(kernel=\"poly\", gamma='auto', degree=3, C=100, epsilon=0.1)\n",
        "svm_poly_reg1.fit(std_scaler.fit_transform(shop_train_x_beauty), y_train_beauty)"
      ],
      "execution_count": null,
      "outputs": []
    },
    {
      "cell_type": "code",
      "metadata": {
        "id": "p5pYSC8THiKz",
        "colab_type": "code",
        "colab": {}
      },
      "source": [
        "predictions_poly_svm = svm_poly_reg1.predict(std_scaler.fit_transform(shop_train_x_beauty))\n",
        "mape_poly = mean_absolute_percentage_error(y_train_beauty, predictions_poly_svm)\n",
        "mape_poly # train데이터 내에서 점수 확인해보기"
      ],
      "execution_count": null,
      "outputs": []
    },
    {
      "cell_type": "markdown",
      "metadata": {
        "id": "u-aOB5Sf68p0",
        "colab_type": "text"
      },
      "source": [
        "- test 셋으로 점수 확인해보기(33%)"
      ]
    },
    {
      "cell_type": "code",
      "metadata": {
        "id": "2T3DK4Iy69AR",
        "colab_type": "code",
        "colab": {}
      },
      "source": [
        "svm_poly_reg1 = SVR(kernel=\"poly\", gamma='auto', degree=3, C=100, epsilon=0.1) # degree에 따라 성능차이 조금씩 난다. 3차정도가 최적인듯(4차가 성능은 경미하게 좋음)\n",
        "mape_score_poly_svr = []\n",
        "for i in category_list:\n",
        "  category_data = std_scaler.fit_transform(globals()['shop_train_x_{}'.format(i)])\n",
        "  category_label =  globals()['y_train_{}'.format(i)]\n",
        "  svm_poly_reg1.fit(category_data,category_label)#train데이터로 fitting되어있음.\n",
        "  test_data = std_scaler.fit_transform(globals()['shop_test_x_{}'.format(i)])\n",
        "  test_label =  globals()['y_test_{}'.format(i)]\n",
        "  predictions = svm_poly_reg1.predict(test_data)\n",
        "  mape_score_poly_svr.append(mean_absolute_percentage_error(test_label, predictions))"
      ],
      "execution_count": null,
      "outputs": []
    },
    {
      "cell_type": "code",
      "metadata": {
        "id": "44hUni7m69dW",
        "colab_type": "code",
        "colab": {}
      },
      "source": [
        "for i in range(len(category_list)):\n",
        "  print(\"Poly_SVM MAPE score of test\",category_list[i],\":\",mape_score_poly_svr[i])"
      ],
      "execution_count": null,
      "outputs": []
    },
    {
      "cell_type": "code",
      "metadata": {
        "id": "ScOW8klg69gP",
        "colab_type": "code",
        "colab": {}
      },
      "source": [
        ""
      ],
      "execution_count": null,
      "outputs": []
    },
    {
      "cell_type": "code",
      "metadata": {
        "id": "mE66DqiY69ae",
        "colab_type": "code",
        "colab": {}
      },
      "source": [
        ""
      ],
      "execution_count": null,
      "outputs": []
    },
    {
      "cell_type": "markdown",
      "metadata": {
        "id": "eSd369wjwdtn",
        "colab_type": "text"
      },
      "source": [
        "# 카테고리별 dnn"
      ]
    },
    {
      "cell_type": "code",
      "metadata": {
        "id": "_dYMEsoZwfpx",
        "colab_type": "code",
        "colab": {}
      },
      "source": [
        "shop_train_x_beauty.describe()"
      ],
      "execution_count": null,
      "outputs": []
    },
    {
      "cell_type": "code",
      "metadata": {
        "id": "mP8qqvN_wf6h",
        "colab_type": "code",
        "colab": {}
      },
      "source": [
        "from sklearn.preprocessing import MinMaxScaler\n",
        "scaler = MinMaxScaler()"
      ],
      "execution_count": null,
      "outputs": []
    },
    {
      "cell_type": "code",
      "metadata": {
        "id": "ZaoE21yAwyKd",
        "colab_type": "code",
        "colab": {}
      },
      "source": [
        "reg_col = ['실제_최고기온','실제_최저기온','실제_강수량','실제_평균풍속', \n",
        "           '예보_서울_강수확률', '예보_서울_강수량', '예보_서울_하늘상태', \n",
        "           '예보_서울_일최고기온', '예보_서울_일최저기온', '예보_일산_강수확률', \n",
        "           '예보_일산_강수량', '예보_일산_일최고기온', '예보_일산_일최저기온', \n",
        "           '예보_수원_강수확률', '예보_수원_강수량', '예보_수원_일최고기온',\n",
        "           '예보_수원_일최저기온', 'new판매단가']"
      ],
      "execution_count": null,
      "outputs": []
    },
    {
      "cell_type": "code",
      "metadata": {
        "id": "4Egh11m_wf9H",
        "colab_type": "code",
        "colab": {}
      },
      "source": [
        "from sklearn.preprocessing import MinMaxScaler\n",
        "scaler = MinMaxScaler()"
      ],
      "execution_count": null,
      "outputs": []
    },
    {
      "cell_type": "code",
      "metadata": {
        "id": "TjojCgt7wf_v",
        "colab_type": "code",
        "colab": {}
      },
      "source": [
        "for i in category_list:\n",
        "  globals()['shop_train_x_{}'.format(i)][reg_col] = scaler.fit_transform(globals()['shop_train_x_{}'.format(i)][reg_col])\n",
        "  globals()['shop_test_x_{}'.format(i)][reg_col] = scaler.fit_transform(globals()['shop_test_x_{}'.format(i)][reg_col])"
      ],
      "execution_count": null,
      "outputs": []
    },
    {
      "cell_type": "code",
      "metadata": {
        "id": "nH_VFxJ2wgEd",
        "colab_type": "code",
        "colab": {}
      },
      "source": [
        "from keras.models import Sequential\n",
        "from keras.layers import Dense\n",
        "from keras.optimizers import SGD"
      ],
      "execution_count": null,
      "outputs": []
    },
    {
      "cell_type": "code",
      "metadata": {
        "id": "mr5MeBOcwgHr",
        "colab_type": "code",
        "colab": {}
      },
      "source": [
        "n_inputs = 18\n",
        "n_h1 = 50\n",
        "n_h2 = 50\n",
        "n_outputs = 1\n",
        "\n",
        "#### optimizer = sgd\n",
        "\n",
        "m1 = Sequential()\n",
        "m1.add(Dense(n_h1, input_dim=18, kernel_initializer='normal', activation='relu'))\n",
        "m1.add(Dense(n_h2, input_dim=n_h1, kernel_initializer='normal', activation='relu'))\n",
        "m1.add(Dense(n_outputs, input_dim=n_h2, kernel_initializer='normal'))"
      ],
      "execution_count": null,
      "outputs": []
    },
    {
      "cell_type": "code",
      "metadata": {
        "id": "88X-3-zt1czZ",
        "colab_type": "code",
        "colab": {}
      },
      "source": [
        "m1.compile(optimizer='adam', loss='mean_squared_error')\n",
        "hist1=m1.fit(shop_train_x_bedding[reg_col], y_train_bedding, epochs=20, batch_size=20)"
      ],
      "execution_count": null,
      "outputs": []
    },
    {
      "cell_type": "code",
      "metadata": {
        "id": "F7m8KrVizLZp",
        "colab_type": "code",
        "colab": {}
      },
      "source": [
        "pred_cate = []\n",
        "m1.compile(optimizer='adam', loss='mean_squared_error')\n",
        "for i in category_list:\n",
        "  hist1=m1.fit(globals()['shop_train_x_{}'.format(i)][reg_col], globals()['y_train_{}'.format(i)], epochs=20, batch_size=20)\n",
        "  pred_cate.append(m1.predict(globals()['shop_train_x_{}'.format(i)][reg_col]))"
      ],
      "execution_count": null,
      "outputs": []
    },
    {
      "cell_type": "code",
      "metadata": {
        "id": "fIbHhO1SzLmT",
        "colab_type": "code",
        "colab": {}
      },
      "source": [
        "pred = m1.predict(shop_train_x_bedding[reg_col])"
      ],
      "execution_count": null,
      "outputs": []
    },
    {
      "cell_type": "code",
      "metadata": {
        "id": "rdEJLwX1zLpe",
        "colab_type": "code",
        "colab": {}
      },
      "source": [
        "mape_dnn = mean_absolute_percentage_error(y_train_bedding, pred)\n",
        "mape_dnn"
      ],
      "execution_count": null,
      "outputs": []
    },
    {
      "cell_type": "code",
      "metadata": {
        "id": "2n7vHtqszLuT",
        "colab_type": "code",
        "colab": {}
      },
      "source": [
        "mape_dnn_cate = []\n",
        "num = 0\n",
        "for i in category_list:\n",
        "  mape_dnn_cate.append(mean_absolute_percentage_error((globals()['y_train_{}'.format(i)]),pred_cate[num]))\n",
        "  num += 1"
      ],
      "execution_count": null,
      "outputs": []
    },
    {
      "cell_type": "code",
      "metadata": {
        "id": "GnSaOdbV34JN",
        "colab_type": "code",
        "colab": {}
      },
      "source": [
        "for i in range(len(category_list)):\n",
        "  print(\"DNN MAPE score of:\",category_list[i],\":\",mape_dnn_cate[i])"
      ],
      "execution_count": null,
      "outputs": []
    },
    {
      "cell_type": "code",
      "metadata": {
        "id": "0_x_JIEQW9lI",
        "colab_type": "code",
        "colab": {}
      },
      "source": [
        "pd.Series(mape_dnn_cate).mean()"
      ],
      "execution_count": null,
      "outputs": []
    }
  ]
}