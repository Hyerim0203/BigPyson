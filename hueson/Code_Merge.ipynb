{
  "nbformat": 4,
  "nbformat_minor": 0,
  "metadata": {
    "colab": {
      "name": "Code_Merge.ipynb",
      "provenance": [],
      "collapsed_sections": [],
      "toc_visible": true
    },
    "kernelspec": {
      "name": "python3",
      "display_name": "Python 3"
    }
  },
  "cells": [
    {
      "cell_type": "code",
      "metadata": {
        "id": "n5_ICkdLuIrh",
        "colab_type": "code",
        "colab": {
          "base_uri": "https://localhost:8080/",
          "height": 52
        },
        "outputId": "937a71bd-80c8-44fc-d078-a01c0ef9bdd0"
      },
      "source": [
        "import matplotlib.pyplot as plt\n",
        "import numpy as np\n",
        "import pandas as pd\n",
        "import datetime as dt\n",
        "import seaborn as sns\n",
        "from scipy import stats\n",
        "import math"
      ],
      "execution_count": 1,
      "outputs": [
        {
          "output_type": "stream",
          "text": [
            "/usr/local/lib/python3.6/dist-packages/statsmodels/tools/_testing.py:19: FutureWarning: pandas.util.testing is deprecated. Use the functions in the public API at pandas.testing instead.\n",
            "  import pandas.util.testing as tm\n"
          ],
          "name": "stderr"
        }
      ]
    },
    {
      "cell_type": "code",
      "metadata": {
        "id": "p4nXjAW-uS0V",
        "colab_type": "code",
        "colab": {}
      },
      "source": [
        "original = pd.read_excel('./performance.xlsx', header=1)\n",
        "original['날짜'] = pd.to_datetime(original['방송일시']).dt.date\n",
        "original = original[original['상품군']!='무형']"
      ],
      "execution_count": null,
      "outputs": []
    },
    {
      "cell_type": "code",
      "metadata": {
        "id": "osQlZDFjuTDH",
        "colab_type": "code",
        "colab": {}
      },
      "source": [
        "train = pd.read_excel('/content/drive/My Drive/빅콘폴더/train.xlsx')\n",
        "train = train[train['판매단가'] < train['취급액']]"
      ],
      "execution_count": 3,
      "outputs": []
    },
    {
      "cell_type": "code",
      "metadata": {
        "id": "qyoG6nN7uTF9",
        "colab_type": "code",
        "colab": {}
      },
      "source": [
        "train['노출(분)'] = train['노출(분)'].replace(0, math.nan)\n",
        "train['노출(분)'] = train['노출(분)'].fillna(method='ffill')"
      ],
      "execution_count": 4,
      "outputs": []
    },
    {
      "cell_type": "code",
      "metadata": {
        "id": "4m2fpYDPuTIW",
        "colab_type": "code",
        "colab": {}
      },
      "source": [
        "total = pd.read_excel('/content/drive/My Drive/빅콘폴더/2020_bigcontest_champion_performance.xlsx', header=1)\n",
        "total = total[total['상품군']!='무형'] \n",
        "total = total[total['판매단가'] < total['취급액']]\n",
        "total['날짜'] = pd.to_datetime(total['방송일시']).dt.date\n",
        "total['날짜'] = pd.to_datetime(total['날짜'])\n",
        "total['주문량'] = total['취급액']/total['판매단가']\n",
        "total[\"요일\"]=total[\"방송일시\"].dt.dayofweek # 요일\n",
        "total[\"시\"]=total[\"방송일시\"].dt.hour # 시\n",
        "total['월'] = total['방송일시'].dt.month # 월"
      ],
      "execution_count": 6,
      "outputs": []
    },
    {
      "cell_type": "code",
      "metadata": {
        "id": "P3d6JdyOuTK3",
        "colab_type": "code",
        "colab": {}
      },
      "source": [
        "data = pd.read_excel('/content/drive/My Drive/빅콘폴더/2020_bigcontest_champion_performance.xlsx', header=1)\n",
        "data = data[data['상품군']!='무형'] \n",
        "data = data[data['판매단가'] < data['취급액']]\n",
        "data['날짜'] = pd.to_datetime(data['방송일시']).dt.date\n",
        "data['날짜'] = pd.to_datetime(data['날짜'])\n",
        "data['주문량'] = data['취급액']/data['판매단가']\n",
        "data[\"요일\"]=data[\"방송일시\"].dt.dayofweek # 요일\n",
        "data[\"시\"]=data[\"방송일시\"].dt.hour # 시\n",
        "data['월'] = data['방송일시'].dt.month # 월\n",
        "weekday = {\"월\":0,\"화\":1,\"수\":2,\"목\":3,\"금\":4,\"토\":5,\"일\":6}"
      ],
      "execution_count": 7,
      "outputs": []
    },
    {
      "cell_type": "code",
      "metadata": {
        "id": "qICPpthWuTNN",
        "colab_type": "code",
        "colab": {}
      },
      "source": [
        "data = data.fillna(method='ffill')"
      ],
      "execution_count": 8,
      "outputs": []
    },
    {
      "cell_type": "code",
      "metadata": {
        "id": "aAVVRDw81FlX",
        "colab_type": "code",
        "colab": {}
      },
      "source": [
        "data = data.iloc[17604:25792]"
      ],
      "execution_count": 9,
      "outputs": []
    },
    {
      "cell_type": "code",
      "metadata": {
        "id": "taIBumSZuTR9",
        "colab_type": "code",
        "colab": {}
      },
      "source": [
        "test = pd.read_excel('/content/drive/My Drive/빅콘폴더/test.xlsx', header=1)"
      ],
      "execution_count": 10,
      "outputs": []
    },
    {
      "cell_type": "code",
      "metadata": {
        "id": "_uT9gCATuUBV",
        "colab_type": "code",
        "colab": {}
      },
      "source": [
        "total['계절'] = 0"
      ],
      "execution_count": 11,
      "outputs": []
    },
    {
      "cell_type": "code",
      "metadata": {
        "id": "y3haj6DQuUFx",
        "colab_type": "code",
        "colab": {
          "base_uri": "https://localhost:8080/",
          "height": 372
        },
        "outputId": "131313ef-e67e-46c0-af74-7bdf2f15172a"
      },
      "source": [
        "for i in total.index:\n",
        "    if 3 <= total['월'][i] <= 5:\n",
        "        total['계절'][i] = 1\n",
        "    elif 6 <= total['월'][i] <= 8:\n",
        "        total['계절'][i] = 2\n",
        "    elif 9 <= total['월'][i] <= 11:\n",
        "        total['계절'][i] = 3\n",
        "    else:\n",
        "        total['계절'][i] = 4"
      ],
      "execution_count": 12,
      "outputs": [
        {
          "output_type": "stream",
          "text": [
            "/usr/local/lib/python3.6/dist-packages/ipykernel_launcher.py:9: SettingWithCopyWarning: \n",
            "A value is trying to be set on a copy of a slice from a DataFrame\n",
            "\n",
            "See the caveats in the documentation: https://pandas.pydata.org/pandas-docs/stable/user_guide/indexing.html#returning-a-view-versus-a-copy\n",
            "  if __name__ == '__main__':\n",
            "/usr/local/lib/python3.6/dist-packages/ipykernel_launcher.py:3: SettingWithCopyWarning: \n",
            "A value is trying to be set on a copy of a slice from a DataFrame\n",
            "\n",
            "See the caveats in the documentation: https://pandas.pydata.org/pandas-docs/stable/user_guide/indexing.html#returning-a-view-versus-a-copy\n",
            "  This is separate from the ipykernel package so we can avoid doing imports until\n",
            "/usr/local/lib/python3.6/dist-packages/ipykernel_launcher.py:5: SettingWithCopyWarning: \n",
            "A value is trying to be set on a copy of a slice from a DataFrame\n",
            "\n",
            "See the caveats in the documentation: https://pandas.pydata.org/pandas-docs/stable/user_guide/indexing.html#returning-a-view-versus-a-copy\n",
            "  \"\"\"\n",
            "/usr/local/lib/python3.6/dist-packages/ipykernel_launcher.py:7: SettingWithCopyWarning: \n",
            "A value is trying to be set on a copy of a slice from a DataFrame\n",
            "\n",
            "See the caveats in the documentation: https://pandas.pydata.org/pandas-docs/stable/user_guide/indexing.html#returning-a-view-versus-a-copy\n",
            "  import sys\n"
          ],
          "name": "stderr"
        }
      ]
    },
    {
      "cell_type": "code",
      "metadata": {
        "id": "StVZiXp0uUJI",
        "colab_type": "code",
        "colab": {
          "base_uri": "https://localhost:8080/",
          "height": 634
        },
        "outputId": "6a691ffa-cdb0-43e9-8fb5-90c656572ffd"
      },
      "source": [
        "#계절별 주문량 그래프 3(가을)에 제일 많고 1(봄)에 제일 적다.\n",
        "sns.pointplot(data=total,x=\"계절\",y=\"주문량\") \n",
        "sns.barplot(data=total,x=\"계절\",y=\"주문량\")"
      ],
      "execution_count": null,
      "outputs": [
        {
          "output_type": "execute_result",
          "data": {
            "text/plain": [
              "<matplotlib.axes._subplots.AxesSubplot at 0x7f0cbe785780>"
            ]
          },
          "metadata": {
            "tags": []
          },
          "execution_count": 69
        },
        {
          "output_type": "stream",
          "text": [
            "/usr/local/lib/python3.6/dist-packages/matplotlib/backends/backend_agg.py:214: RuntimeWarning: Glyph 44228 missing from current font.\n",
            "  font.set_text(s, 0.0, flags=flags)\n",
            "/usr/local/lib/python3.6/dist-packages/matplotlib/backends/backend_agg.py:214: RuntimeWarning: Glyph 51208 missing from current font.\n",
            "  font.set_text(s, 0.0, flags=flags)\n",
            "/usr/local/lib/python3.6/dist-packages/matplotlib/backends/backend_agg.py:183: RuntimeWarning: Glyph 44228 missing from current font.\n",
            "  font.set_text(s, 0, flags=flags)\n",
            "/usr/local/lib/python3.6/dist-packages/matplotlib/backends/backend_agg.py:183: RuntimeWarning: Glyph 51208 missing from current font.\n",
            "  font.set_text(s, 0, flags=flags)\n",
            "/usr/local/lib/python3.6/dist-packages/matplotlib/backends/backend_agg.py:214: RuntimeWarning: Glyph 51452 missing from current font.\n",
            "  font.set_text(s, 0.0, flags=flags)\n",
            "/usr/local/lib/python3.6/dist-packages/matplotlib/backends/backend_agg.py:214: RuntimeWarning: Glyph 47928 missing from current font.\n",
            "  font.set_text(s, 0.0, flags=flags)\n",
            "/usr/local/lib/python3.6/dist-packages/matplotlib/backends/backend_agg.py:214: RuntimeWarning: Glyph 47049 missing from current font.\n",
            "  font.set_text(s, 0.0, flags=flags)\n",
            "/usr/local/lib/python3.6/dist-packages/matplotlib/backends/backend_agg.py:183: RuntimeWarning: Glyph 51452 missing from current font.\n",
            "  font.set_text(s, 0, flags=flags)\n",
            "/usr/local/lib/python3.6/dist-packages/matplotlib/backends/backend_agg.py:183: RuntimeWarning: Glyph 47928 missing from current font.\n",
            "  font.set_text(s, 0, flags=flags)\n",
            "/usr/local/lib/python3.6/dist-packages/matplotlib/backends/backend_agg.py:183: RuntimeWarning: Glyph 47049 missing from current font.\n",
            "  font.set_text(s, 0, flags=flags)\n"
          ],
          "name": "stderr"
        },
        {
          "output_type": "display_data",
          "data": {
            "image/png": "[encoded data removed]",
            "text/plain": [
              "<Figure size 432x288 with 1 Axes>"
            ]
          },
          "metadata": {
            "tags": [],
            "needs_background": "light"
          }
        }
      ]
    },
    {
      "cell_type": "code",
      "metadata": {
        "id": "nP12Jf8My70_",
        "colab_type": "code",
        "colab": {
          "base_uri": "https://localhost:8080/",
          "height": 197
        },
        "outputId": "5a27d4b1-7e94-4a81-f861-8333fa3ebead"
      },
      "source": [
        "data.head()"
      ],
      "execution_count": null,
      "outputs": [
        {
          "output_type": "execute_result",
          "data": {
            "text/html": [
              "<div>\n",
              "<style scoped>\n",
              "    .dataframe tbody tr th:only-of-type {\n",
              "        vertical-align: middle;\n",
              "    }\n",
              "\n",
              "    .dataframe tbody tr th {\n",
              "        vertical-align: top;\n",
              "    }\n",
              "\n",
              "    .dataframe thead th {\n",
              "        text-align: right;\n",
              "    }\n",
              "</style>\n",
              "<table border=\"1\" class=\"dataframe\">\n",
              "  <thead>\n",
              "    <tr style=\"text-align: right;\">\n",
              "      <th></th>\n",
              "      <th>방송일시</th>\n",
              "      <th>노출(분)</th>\n",
              "      <th>마더코드</th>\n",
              "      <th>상품코드</th>\n",
              "      <th>상품명</th>\n",
              "      <th>상품군</th>\n",
              "      <th>판매단가</th>\n",
              "      <th>취급액</th>\n",
              "      <th>날짜</th>\n",
              "      <th>주문량</th>\n",
              "      <th>요일</th>\n",
              "      <th>시</th>\n",
              "      <th>월</th>\n",
              "    </tr>\n",
              "  </thead>\n",
              "  <tbody>\n",
              "    <tr>\n",
              "      <th>17373</th>\n",
              "      <td>2019-06-15 00:00:00</td>\n",
              "      <td>20.0</td>\n",
              "      <td>100305</td>\n",
              "      <td>200981</td>\n",
              "      <td>오모떼 미라클쉐이핑 브라팬티 시즌3</td>\n",
              "      <td>속옷</td>\n",
              "      <td>119000</td>\n",
              "      <td>16517000</td>\n",
              "      <td>2019-06-15</td>\n",
              "      <td>138.798319</td>\n",
              "      <td>5</td>\n",
              "      <td>0</td>\n",
              "      <td>6</td>\n",
              "    </tr>\n",
              "    <tr>\n",
              "      <th>17374</th>\n",
              "      <td>2019-06-15 00:20:00</td>\n",
              "      <td>20.0</td>\n",
              "      <td>100305</td>\n",
              "      <td>200981</td>\n",
              "      <td>오모떼 미라클쉐이핑 브라팬티 시즌3</td>\n",
              "      <td>속옷</td>\n",
              "      <td>119000</td>\n",
              "      <td>44829000</td>\n",
              "      <td>2019-06-15</td>\n",
              "      <td>376.714286</td>\n",
              "      <td>5</td>\n",
              "      <td>0</td>\n",
              "      <td>6</td>\n",
              "    </tr>\n",
              "    <tr>\n",
              "      <th>17375</th>\n",
              "      <td>2019-06-15 00:40:00</td>\n",
              "      <td>20.0</td>\n",
              "      <td>100305</td>\n",
              "      <td>200981</td>\n",
              "      <td>오모떼 미라클쉐이핑 브라팬티 시즌3</td>\n",
              "      <td>속옷</td>\n",
              "      <td>119000</td>\n",
              "      <td>56057000</td>\n",
              "      <td>2019-06-15</td>\n",
              "      <td>471.067227</td>\n",
              "      <td>5</td>\n",
              "      <td>0</td>\n",
              "      <td>6</td>\n",
              "    </tr>\n",
              "    <tr>\n",
              "      <th>17376</th>\n",
              "      <td>2019-06-15 01:00:00</td>\n",
              "      <td>30.0</td>\n",
              "      <td>100374</td>\n",
              "      <td>201202</td>\n",
              "      <td>USPA  남성 폴로셔츠 위켄드 컬렉션 3종</td>\n",
              "      <td>의류</td>\n",
              "      <td>69000</td>\n",
              "      <td>9996000</td>\n",
              "      <td>2019-06-15</td>\n",
              "      <td>144.869565</td>\n",
              "      <td>5</td>\n",
              "      <td>1</td>\n",
              "      <td>6</td>\n",
              "    </tr>\n",
              "    <tr>\n",
              "      <th>17377</th>\n",
              "      <td>2019-06-15 01:00:00</td>\n",
              "      <td>30.0</td>\n",
              "      <td>100374</td>\n",
              "      <td>201206</td>\n",
              "      <td>USPA  여성 폴로셔츠 위켄드 컬렉션 3종</td>\n",
              "      <td>의류</td>\n",
              "      <td>69000</td>\n",
              "      <td>9409000</td>\n",
              "      <td>2019-06-15</td>\n",
              "      <td>136.362319</td>\n",
              "      <td>5</td>\n",
              "      <td>1</td>\n",
              "      <td>6</td>\n",
              "    </tr>\n",
              "  </tbody>\n",
              "</table>\n",
              "</div>"
            ],
            "text/plain": [
              "                     방송일시  노출(분)    마더코드    상품코드  ...         주문량 요일  시  월\n",
              "17373 2019-06-15 00:00:00   20.0  100305  200981  ...  138.798319  5  0  6\n",
              "17374 2019-06-15 00:20:00   20.0  100305  200981  ...  376.714286  5  0  6\n",
              "17375 2019-06-15 00:40:00   20.0  100305  200981  ...  471.067227  5  0  6\n",
              "17376 2019-06-15 01:00:00   30.0  100374  201202  ...  144.869565  5  1  6\n",
              "17377 2019-06-15 01:00:00   30.0  100374  201206  ...  136.362319  5  1  6\n",
              "\n",
              "[5 rows x 13 columns]"
            ]
          },
          "metadata": {
            "tags": []
          },
          "execution_count": 70
        }
      ]
    },
    {
      "cell_type": "markdown",
      "metadata": {
        "id": "gU6DhFpXutGD",
        "colab_type": "text"
      },
      "source": [
        "#날씨"
      ]
    },
    {
      "cell_type": "code",
      "metadata": {
        "id": "J41cO4Dsut_f",
        "colab_type": "code",
        "colab": {}
      },
      "source": [
        "\n",
        "# 대표 지역들\n",
        "places = [\"강릉\",\"광주\",\"부산\",\"수원\",\"울산\",\"대구\",\"대전\",\"서울\",\"파주\"] \n",
        "weather = pd.read_excel(\"/content/drive/My Drive/빅콘폴더/날씨_실제/강릉날씨.xlsx\")\n",
        "row_num = weather.shape[0]\n",
        "weather[\"지역\"]=[\"강릉\"]*row_num"
      ],
      "execution_count": 13,
      "outputs": []
    },
    {
      "cell_type": "code",
      "metadata": {
        "id": "DzpaCQkZuUMR",
        "colab_type": "code",
        "colab": {}
      },
      "source": [
        "# 모든 지역 날씨 데이터 세로로 합치기\n",
        "for p in places[1:]:\n",
        "    a=pd.read_excel(f\"/content/drive/My Drive/빅콘폴더/날씨_실제/{p}날씨.xlsx\")\n",
        "    a[\"지역\"]=[p]*row_num\n",
        "    weather = pd.concat([weather, a], axis=0)"
      ],
      "execution_count": 15,
      "outputs": []
    },
    {
      "cell_type": "code",
      "metadata": {
        "id": "bqTSiAsEuUPU",
        "colab_type": "code",
        "colab": {}
      },
      "source": [
        "# \"-\" -> 0값으로 변경\n",
        "weather[\"강수량(mm)\"]=weather[\"강수량(mm)\"].replace(\"-\",0)\n",
        "weather[\"신적설(cm)\"]=weather[\"신적설(cm)\"].replace(\"-\",0)\n",
        "weather[\"운량(1/10)\"]=weather[\"운량(1/10)\"].replace(\"-\",0)\n",
        "\n",
        "# object 형 float 형으로 변경\n",
        "weather[\"강수량(mm)\"]=weather[\"강수량(mm)\"].astype(float)\n",
        "weather[\"신적설(cm)\"]=weather[\"신적설(cm)\"].astype(float)\n",
        "weather[\"운량(1/10)\"]=weather[\"운량(1/10)\"].astype(float)"
      ],
      "execution_count": 16,
      "outputs": []
    },
    {
      "cell_type": "code",
      "metadata": {
        "id": "jDMBmXUKuUR_",
        "colab_type": "code",
        "colab": {}
      },
      "source": [
        "weather = weather.reset_index()"
      ],
      "execution_count": 17,
      "outputs": []
    },
    {
      "cell_type": "code",
      "metadata": {
        "id": "jAMmCwbAuUU2",
        "colab_type": "code",
        "colab": {}
      },
      "source": [
        "# 날짜 set 맞추기\n",
        "new_weather = pd.DataFrame()\n",
        "new_weather = weather.iloc[165:243]\n",
        "new_weather = pd.concat([new_weather, weather.iloc[753:831]])\n",
        "new_weather = pd.concat([new_weather, weather.iloc[1341:1419]])\n",
        "new_weather = pd.concat([new_weather, weather.iloc[1929:2007]])\n",
        "new_weather = pd.concat([new_weather, weather.iloc[2517:2595]])\n",
        "new_weather = pd.concat([new_weather, weather.iloc[3105:3183]])\n",
        "new_weather = pd.concat([new_weather, weather.iloc[3693:3771]])\n",
        "new_weather = pd.concat([new_weather, weather.iloc[4281:4359]])\n",
        "new_weather = pd.concat([new_weather, weather.iloc[4869:4947]])"
      ],
      "execution_count": 18,
      "outputs": []
    },
    {
      "cell_type": "code",
      "metadata": {
        "id": "Zt3b9foguUXr",
        "colab_type": "code",
        "colab": {}
      },
      "source": [
        "# 서울 날씨와 강릉, 부산 날씨로 칼럼별 주문량 상관성 확인 및 지역별 날씨의 영향도 확인\n",
        "gang_weather = new_weather.loc[new_weather[\"지역\"]==\"강릉\",:]\n",
        "seoul_weather = new_weather.loc[new_weather[\"지역\"]==\"서울\",:]\n",
        "busan_weather = new_weather.loc[new_weather[\"지역\"]==\"부산\",:]\n",
        "suwon_weather = new_weather.loc[new_weather[\"지역\"]==\"수원\",:]\n",
        "sudogwon_weather = new_weather.loc[(new_weather[\"지역\"]==\"서울\")|(weather[\"지역\"]==\"수원\"),:]"
      ],
      "execution_count": 19,
      "outputs": []
    },
    {
      "cell_type": "code",
      "metadata": {
        "id": "MjAfIXaxuUaS",
        "colab_type": "code",
        "colab": {}
      },
      "source": [
        "day_data = data.copy()"
      ],
      "execution_count": 20,
      "outputs": []
    },
    {
      "cell_type": "code",
      "metadata": {
        "id": "H1Qmt8kauUdA",
        "colab_type": "code",
        "colab": {}
      },
      "source": [
        "day_data['날짜'] = pd.to_datetime(day_data['날짜'])\n",
        "new_weather['날짜'] = pd.to_datetime(new_weather['날짜'])"
      ],
      "execution_count": 21,
      "outputs": []
    },
    {
      "cell_type": "code",
      "metadata": {
        "id": "--c5h6_9uUfm",
        "colab_type": "code",
        "colab": {}
      },
      "source": [
        "all_data = day_data.merge(new_weather, on='날짜')\n",
        "all_data = all_data.groupby(['날짜']).mean()"
      ],
      "execution_count": 22,
      "outputs": []
    },
    {
      "cell_type": "code",
      "metadata": {
        "id": "ndGRCTAAuUic",
        "colab_type": "code",
        "colab": {
          "base_uri": "https://localhost:8080/",
          "height": 550
        },
        "outputId": "eedebbae-94e0-4d3b-e02d-0c4a7f4716b9"
      },
      "source": [
        "sudogwon_weather['날짜'] = pd.to_datetime(sudogwon_weather['날짜'] )\n",
        "seoul_weather['날짜'] = pd.to_datetime(seoul_weather['날짜'] )\n",
        "busan_weather['날짜'] =pd.to_datetime(busan_weather['날짜'] )\n",
        "suwon_weather['날짜'] = pd.to_datetime(suwon_weather['날짜'] )\n",
        "gang_weather['날짜'] = pd.to_datetime(gang_weather['날짜'])"
      ],
      "execution_count": 23,
      "outputs": [
        {
          "output_type": "stream",
          "text": [
            "/usr/local/lib/python3.6/dist-packages/ipykernel_launcher.py:1: SettingWithCopyWarning: \n",
            "A value is trying to be set on a copy of a slice from a DataFrame.\n",
            "Try using .loc[row_indexer,col_indexer] = value instead\n",
            "\n",
            "See the caveats in the documentation: https://pandas.pydata.org/pandas-docs/stable/user_guide/indexing.html#returning-a-view-versus-a-copy\n",
            "  \"\"\"Entry point for launching an IPython kernel.\n",
            "/usr/local/lib/python3.6/dist-packages/ipykernel_launcher.py:2: SettingWithCopyWarning: \n",
            "A value is trying to be set on a copy of a slice from a DataFrame.\n",
            "Try using .loc[row_indexer,col_indexer] = value instead\n",
            "\n",
            "See the caveats in the documentation: https://pandas.pydata.org/pandas-docs/stable/user_guide/indexing.html#returning-a-view-versus-a-copy\n",
            "  \n",
            "/usr/local/lib/python3.6/dist-packages/ipykernel_launcher.py:3: SettingWithCopyWarning: \n",
            "A value is trying to be set on a copy of a slice from a DataFrame.\n",
            "Try using .loc[row_indexer,col_indexer] = value instead\n",
            "\n",
            "See the caveats in the documentation: https://pandas.pydata.org/pandas-docs/stable/user_guide/indexing.html#returning-a-view-versus-a-copy\n",
            "  This is separate from the ipykernel package so we can avoid doing imports until\n",
            "/usr/local/lib/python3.6/dist-packages/ipykernel_launcher.py:4: SettingWithCopyWarning: \n",
            "A value is trying to be set on a copy of a slice from a DataFrame.\n",
            "Try using .loc[row_indexer,col_indexer] = value instead\n",
            "\n",
            "See the caveats in the documentation: https://pandas.pydata.org/pandas-docs/stable/user_guide/indexing.html#returning-a-view-versus-a-copy\n",
            "  after removing the cwd from sys.path.\n",
            "/usr/local/lib/python3.6/dist-packages/ipykernel_launcher.py:5: SettingWithCopyWarning: \n",
            "A value is trying to be set on a copy of a slice from a DataFrame.\n",
            "Try using .loc[row_indexer,col_indexer] = value instead\n",
            "\n",
            "See the caveats in the documentation: https://pandas.pydata.org/pandas-docs/stable/user_guide/indexing.html#returning-a-view-versus-a-copy\n",
            "  \"\"\"\n"
          ],
          "name": "stderr"
        }
      ]
    },
    {
      "cell_type": "code",
      "metadata": {
        "id": "i3opwl6puUlJ",
        "colab_type": "code",
        "colab": {}
      },
      "source": [
        "sudogwon_data = day_data.merge(sudogwon_weather, on=\"날짜\")\n",
        "suwon_data = day_data.merge(suwon_weather, on=\"날짜\")\n",
        "seoul_data = day_data.merge(seoul_weather, on=\"날짜\")\n",
        "busan_data = day_data.merge(busan_weather, on=\"날짜\")\n",
        "gang_data = day_data.merge(gang_weather, on=\"날짜\")"
      ],
      "execution_count": 24,
      "outputs": []
    },
    {
      "cell_type": "code",
      "metadata": {
        "id": "HF8BDuSzuUn0",
        "colab_type": "code",
        "colab": {}
      },
      "source": [
        "# 시각화를 용이하게 하기 위한 데이터 전처리 함수\n",
        "def preprocessing(data, bins=4):\n",
        "    # 강수유무, 눈유무는 0,1 로 -> 비가오거나 눈이 쌓이면 1, 비가 오지 않거나 눈이 쌓이지 않으면 0\n",
        "    data[\"강수유무\"]=True\n",
        "    data.loc[data[\"강수량(mm)\"]!=0,\"강수유무\"]=1\n",
        "    data.loc[data[\"강수량(mm)\"]==0,\"강수유무\"]=0\n",
        "\n",
        "    data[\"눈유무\"]=True\n",
        "    data.loc[data[\"신적설(cm)\"]!=0,\"눈유무\"]=1\n",
        "    data.loc[data[\"신적설(cm)\"]==0,\"눈유무\"]=0\n",
        "\n",
        "    # 나머지 칼럼은 6구간으로 나누기\n",
        "    cate_columns= [\"평균기온\",\"최고기온\",\"최저기온\",'평균풍속(m/s)','평균습도(%)', '운량(1/10)', '일조시간(Hr)',\"강수량(mm)\",\"신적설(cm)\"]\n",
        "    \n",
        "    for col in cate_columns:\n",
        "        data[col]=pd.cut(data[col],bins)"
      ],
      "execution_count": 25,
      "outputs": []
    },
    {
      "cell_type": "code",
      "metadata": {
        "id": "vh51gmyvuUqe",
        "colab_type": "code",
        "colab": {}
      },
      "source": [
        "\n",
        "# 데이터 전처리\n",
        "for d in [all_data, seoul_data, busan_data, gang_data, sudogwon_data]:\n",
        "    preprocessing(d,4)"
      ],
      "execution_count": 26,
      "outputs": []
    },
    {
      "cell_type": "code",
      "metadata": {
        "id": "_xejI7AZuUtL",
        "colab_type": "code",
        "colab": {
          "base_uri": "https://localhost:8080/",
          "height": 70
        },
        "outputId": "5d1d1db0-1e74-4358-8beb-fa9aaddbcb21"
      },
      "source": [
        "# 시각화\n",
        "visual_columns = all_data.columns[9:] # 시각화를 원하는 칼럼\n",
        "visual_columns"
      ],
      "execution_count": 27,
      "outputs": [
        {
          "output_type": "execute_result",
          "data": {
            "text/plain": [
              "Index(['index', '평균기온', '최고기온', '최저기온', '강수량(mm)', '신적설(cm)', '평균풍속(m/s)',\n",
              "       '평균습도(%)', '운량(1/10)', '일조시간(Hr)', '강수유무', '눈유무'],\n",
              "      dtype='object')"
            ]
          },
          "metadata": {
            "tags": []
          },
          "execution_count": 27
        }
      ]
    },
    {
      "cell_type": "code",
      "metadata": {
        "id": "1gSkh__ZuUvy",
        "colab_type": "code",
        "colab": {
          "base_uri": "https://localhost:8080/",
          "height": 1000
        },
        "outputId": "b68ed19f-fdbd-40c5-8fac-de8d106529ef"
      },
      "source": [
        "for col in visual_columns:\n",
        "    sns.barplot(x=col, y=\"주문량\", data=seoul_data)\n",
        "    #plt.savefig(f'./날씨그래프/{col[:4]}.png') # 그래프 저장\n",
        "    plt.show()"
      ],
      "execution_count": 28,
      "outputs": [
        {
          "output_type": "stream",
          "text": [
            "/usr/local/lib/python3.6/dist-packages/matplotlib/backends/backend_agg.py:214: RuntimeWarning: Glyph 51452 missing from current font.\n",
            "  font.set_text(s, 0.0, flags=flags)\n",
            "/usr/local/lib/python3.6/dist-packages/matplotlib/backends/backend_agg.py:214: RuntimeWarning: Glyph 47928 missing from current font.\n",
            "  font.set_text(s, 0.0, flags=flags)\n",
            "/usr/local/lib/python3.6/dist-packages/matplotlib/backends/backend_agg.py:214: RuntimeWarning: Glyph 47049 missing from current font.\n",
            "  font.set_text(s, 0.0, flags=flags)\n",
            "/usr/local/lib/python3.6/dist-packages/matplotlib/backends/backend_agg.py:183: RuntimeWarning: Glyph 51452 missing from current font.\n",
            "  font.set_text(s, 0, flags=flags)\n",
            "/usr/local/lib/python3.6/dist-packages/matplotlib/backends/backend_agg.py:183: RuntimeWarning: Glyph 47928 missing from current font.\n",
            "  font.set_text(s, 0, flags=flags)\n",
            "/usr/local/lib/python3.6/dist-packages/matplotlib/backends/backend_agg.py:183: RuntimeWarning: Glyph 47049 missing from current font.\n",
            "  font.set_text(s, 0, flags=flags)\n"
          ],
          "name": "stderr"
        },
        {
          "output_type": "display_data",
          "data": {
            "image/png": "[encoded data removed]",
            "text/plain": [
              "<Figure size 432x288 with 1 Axes>"
            ]
          },
          "metadata": {
            "tags": [],
            "needs_background": "light"
          }
        },
        {
          "output_type": "stream",
          "text": [
            "/usr/local/lib/python3.6/dist-packages/matplotlib/backends/backend_agg.py:214: RuntimeWarning: Glyph 54217 missing from current font.\n",
            "  font.set_text(s, 0.0, flags=flags)\n",
            "/usr/local/lib/python3.6/dist-packages/matplotlib/backends/backend_agg.py:214: RuntimeWarning: Glyph 44512 missing from current font.\n",
            "  font.set_text(s, 0.0, flags=flags)\n",
            "/usr/local/lib/python3.6/dist-packages/matplotlib/backends/backend_agg.py:214: RuntimeWarning: Glyph 44592 missing from current font.\n",
            "  font.set_text(s, 0.0, flags=flags)\n",
            "/usr/local/lib/python3.6/dist-packages/matplotlib/backends/backend_agg.py:214: RuntimeWarning: Glyph 50728 missing from current font.\n",
            "  font.set_text(s, 0.0, flags=flags)\n",
            "/usr/local/lib/python3.6/dist-packages/matplotlib/backends/backend_agg.py:183: RuntimeWarning: Glyph 54217 missing from current font.\n",
            "  font.set_text(s, 0, flags=flags)\n",
            "/usr/local/lib/python3.6/dist-packages/matplotlib/backends/backend_agg.py:183: RuntimeWarning: Glyph 44512 missing from current font.\n",
            "  font.set_text(s, 0, flags=flags)\n",
            "/usr/local/lib/python3.6/dist-packages/matplotlib/backends/backend_agg.py:183: RuntimeWarning: Glyph 44592 missing from current font.\n",
            "  font.set_text(s, 0, flags=flags)\n",
            "/usr/local/lib/python3.6/dist-packages/matplotlib/backends/backend_agg.py:183: RuntimeWarning: Glyph 50728 missing from current font.\n",
            "  font.set_text(s, 0, flags=flags)\n"
          ],
          "name": "stderr"
        },
        {
          "output_type": "display_data",
          "data": {
            "image/png": "[encoded data removed]",
            "text/plain": [
              "<Figure size 432x288 with 1 Axes>"
            ]
          },
          "metadata": {
            "tags": [],
            "needs_background": "light"
          }
        },
        {
          "output_type": "stream",
          "text": [
            "/usr/local/lib/python3.6/dist-packages/matplotlib/backends/backend_agg.py:214: RuntimeWarning: Glyph 52572 missing from current font.\n",
            "  font.set_text(s, 0.0, flags=flags)\n",
            "/usr/local/lib/python3.6/dist-packages/matplotlib/backends/backend_agg.py:214: RuntimeWarning: Glyph 44256 missing from current font.\n",
            "  font.set_text(s, 0.0, flags=flags)\n",
            "/usr/local/lib/python3.6/dist-packages/matplotlib/backends/backend_agg.py:183: RuntimeWarning: Glyph 52572 missing from current font.\n",
            "  font.set_text(s, 0, flags=flags)\n",
            "/usr/local/lib/python3.6/dist-packages/matplotlib/backends/backend_agg.py:183: RuntimeWarning: Glyph 44256 missing from current font.\n",
            "  font.set_text(s, 0, flags=flags)\n"
          ],
          "name": "stderr"
        },
        {
          "output_type": "display_data",
          "data": {
            "image/png": "[encoded data removed]",
            "text/plain": [
              "<Figure size 432x288 with 1 Axes>"
            ]
          },
          "metadata": {
            "tags": [],
            "needs_background": "light"
          }
        },
        {
          "output_type": "stream",
          "text": [
            "/usr/local/lib/python3.6/dist-packages/matplotlib/backends/backend_agg.py:214: RuntimeWarning: Glyph 51200 missing from current font.\n",
            "  font.set_text(s, 0.0, flags=flags)\n",
            "/usr/local/lib/python3.6/dist-packages/matplotlib/backends/backend_agg.py:183: RuntimeWarning: Glyph 51200 missing from current font.\n",
            "  font.set_text(s, 0, flags=flags)\n"
          ],
          "name": "stderr"
        },
        {
          "output_type": "display_data",
          "data": {
            "image/png": "[encoded data removed]",
            "text/plain": [
              "<Figure size 432x288 with 1 Axes>"
            ]
          },
          "metadata": {
            "tags": [],
            "needs_background": "light"
          }
        },
        {
          "output_type": "stream",
          "text": [
            "/usr/local/lib/python3.6/dist-packages/matplotlib/backends/backend_agg.py:214: RuntimeWarning: Glyph 44053 missing from current font.\n",
            "  font.set_text(s, 0.0, flags=flags)\n",
            "/usr/local/lib/python3.6/dist-packages/matplotlib/backends/backend_agg.py:214: RuntimeWarning: Glyph 49688 missing from current font.\n",
            "  font.set_text(s, 0.0, flags=flags)\n",
            "/usr/local/lib/python3.6/dist-packages/matplotlib/backends/backend_agg.py:183: RuntimeWarning: Glyph 44053 missing from current font.\n",
            "  font.set_text(s, 0, flags=flags)\n",
            "/usr/local/lib/python3.6/dist-packages/matplotlib/backends/backend_agg.py:183: RuntimeWarning: Glyph 49688 missing from current font.\n",
            "  font.set_text(s, 0, flags=flags)\n"
          ],
          "name": "stderr"
        },
        {
          "output_type": "display_data",
          "data": {
            "image/png": "[encoded data removed]",
            "text/plain": [
              "<Figure size 432x288 with 1 Axes>"
            ]
          },
          "metadata": {
            "tags": [],
            "needs_background": "light"
          }
        },
        {
          "output_type": "stream",
          "text": [
            "/usr/local/lib/python3.6/dist-packages/matplotlib/backends/backend_agg.py:214: RuntimeWarning: Glyph 49888 missing from current font.\n",
            "  font.set_text(s, 0.0, flags=flags)\n",
            "/usr/local/lib/python3.6/dist-packages/matplotlib/backends/backend_agg.py:214: RuntimeWarning: Glyph 51201 missing from current font.\n",
            "  font.set_text(s, 0.0, flags=flags)\n",
            "/usr/local/lib/python3.6/dist-packages/matplotlib/backends/backend_agg.py:214: RuntimeWarning: Glyph 49444 missing from current font.\n",
            "  font.set_text(s, 0.0, flags=flags)\n",
            "/usr/local/lib/python3.6/dist-packages/matplotlib/backends/backend_agg.py:183: RuntimeWarning: Glyph 49888 missing from current font.\n",
            "  font.set_text(s, 0, flags=flags)\n",
            "/usr/local/lib/python3.6/dist-packages/matplotlib/backends/backend_agg.py:183: RuntimeWarning: Glyph 51201 missing from current font.\n",
            "  font.set_text(s, 0, flags=flags)\n",
            "/usr/local/lib/python3.6/dist-packages/matplotlib/backends/backend_agg.py:183: RuntimeWarning: Glyph 49444 missing from current font.\n",
            "  font.set_text(s, 0, flags=flags)\n"
          ],
          "name": "stderr"
        },
        {
          "output_type": "display_data",
          "data": {
            "image/png": "[encoded data removed]",
            "text/plain": [
              "<Figure size 432x288 with 1 Axes>"
            ]
          },
          "metadata": {
            "tags": [],
            "needs_background": "light"
          }
        },
        {
          "output_type": "stream",
          "text": [
            "/usr/local/lib/python3.6/dist-packages/matplotlib/backends/backend_agg.py:214: RuntimeWarning: Glyph 54413 missing from current font.\n",
            "  font.set_text(s, 0.0, flags=flags)\n",
            "/usr/local/lib/python3.6/dist-packages/matplotlib/backends/backend_agg.py:214: RuntimeWarning: Glyph 49549 missing from current font.\n",
            "  font.set_text(s, 0.0, flags=flags)\n",
            "/usr/local/lib/python3.6/dist-packages/matplotlib/backends/backend_agg.py:183: RuntimeWarning: Glyph 54413 missing from current font.\n",
            "  font.set_text(s, 0, flags=flags)\n",
            "/usr/local/lib/python3.6/dist-packages/matplotlib/backends/backend_agg.py:183: RuntimeWarning: Glyph 49549 missing from current font.\n",
            "  font.set_text(s, 0, flags=flags)\n"
          ],
          "name": "stderr"
        },
        {
          "output_type": "display_data",
          "data": {
            "image/png": "[encoded data removed]",
            "text/plain": [
              "<Figure size 432x288 with 1 Axes>"
            ]
          },
          "metadata": {
            "tags": [],
            "needs_background": "light"
          }
        },
        {
          "output_type": "stream",
          "text": [
            "/usr/local/lib/python3.6/dist-packages/matplotlib/backends/backend_agg.py:214: RuntimeWarning: Glyph 49845 missing from current font.\n",
            "  font.set_text(s, 0.0, flags=flags)\n",
            "/usr/local/lib/python3.6/dist-packages/matplotlib/backends/backend_agg.py:214: RuntimeWarning: Glyph 46020 missing from current font.\n",
            "  font.set_text(s, 0.0, flags=flags)\n",
            "/usr/local/lib/python3.6/dist-packages/matplotlib/backends/backend_agg.py:183: RuntimeWarning: Glyph 49845 missing from current font.\n",
            "  font.set_text(s, 0, flags=flags)\n",
            "/usr/local/lib/python3.6/dist-packages/matplotlib/backends/backend_agg.py:183: RuntimeWarning: Glyph 46020 missing from current font.\n",
            "  font.set_text(s, 0, flags=flags)\n"
          ],
          "name": "stderr"
        },
        {
          "output_type": "display_data",
          "data": {
            "image/png": "[encoded data removed]",
            "text/plain": [
              "<Figure size 432x288 with 1 Axes>"
            ]
          },
          "metadata": {
            "tags": [],
            "needs_background": "light"
          }
        },
        {
          "output_type": "stream",
          "text": [
            "/usr/local/lib/python3.6/dist-packages/matplotlib/backends/backend_agg.py:214: RuntimeWarning: Glyph 50868 missing from current font.\n",
            "  font.set_text(s, 0.0, flags=flags)\n",
            "/usr/local/lib/python3.6/dist-packages/matplotlib/backends/backend_agg.py:183: RuntimeWarning: Glyph 50868 missing from current font.\n",
            "  font.set_text(s, 0, flags=flags)\n"
          ],
          "name": "stderr"
        },
        {
          "output_type": "display_data",
          "data": {
            "image/png": "[encoded data removed]",
            "text/plain": [
              "<Figure size 432x288 with 1 Axes>"
            ]
          },
          "metadata": {
            "tags": [],
            "needs_background": "light"
          }
        },
        {
          "output_type": "stream",
          "text": [
            "/usr/local/lib/python3.6/dist-packages/matplotlib/backends/backend_agg.py:214: RuntimeWarning: Glyph 51068 missing from current font.\n",
            "  font.set_text(s, 0.0, flags=flags)\n",
            "/usr/local/lib/python3.6/dist-packages/matplotlib/backends/backend_agg.py:214: RuntimeWarning: Glyph 51312 missing from current font.\n",
            "  font.set_text(s, 0.0, flags=flags)\n",
            "/usr/local/lib/python3.6/dist-packages/matplotlib/backends/backend_agg.py:214: RuntimeWarning: Glyph 49884 missing from current font.\n",
            "  font.set_text(s, 0.0, flags=flags)\n",
            "/usr/local/lib/python3.6/dist-packages/matplotlib/backends/backend_agg.py:214: RuntimeWarning: Glyph 44036 missing from current font.\n",
            "  font.set_text(s, 0.0, flags=flags)\n",
            "/usr/local/lib/python3.6/dist-packages/matplotlib/backends/backend_agg.py:183: RuntimeWarning: Glyph 51068 missing from current font.\n",
            "  font.set_text(s, 0, flags=flags)\n",
            "/usr/local/lib/python3.6/dist-packages/matplotlib/backends/backend_agg.py:183: RuntimeWarning: Glyph 51312 missing from current font.\n",
            "  font.set_text(s, 0, flags=flags)\n",
            "/usr/local/lib/python3.6/dist-packages/matplotlib/backends/backend_agg.py:183: RuntimeWarning: Glyph 49884 missing from current font.\n",
            "  font.set_text(s, 0, flags=flags)\n",
            "/usr/local/lib/python3.6/dist-packages/matplotlib/backends/backend_agg.py:183: RuntimeWarning: Glyph 44036 missing from current font.\n",
            "  font.set_text(s, 0, flags=flags)\n"
          ],
          "name": "stderr"
        },
        {
          "output_type": "display_data",
          "data": {
            "image/png": "[encoded data removed]",
            "text/plain": [
              "<Figure size 432x288 with 1 Axes>"
            ]
          },
          "metadata": {
            "tags": [],
            "needs_background": "light"
          }
        },
        {
          "output_type": "stream",
          "text": [
            "/usr/local/lib/python3.6/dist-packages/matplotlib/backends/backend_agg.py:214: RuntimeWarning: Glyph 50976 missing from current font.\n",
            "  font.set_text(s, 0.0, flags=flags)\n",
            "/usr/local/lib/python3.6/dist-packages/matplotlib/backends/backend_agg.py:214: RuntimeWarning: Glyph 47924 missing from current font.\n",
            "  font.set_text(s, 0.0, flags=flags)\n",
            "/usr/local/lib/python3.6/dist-packages/matplotlib/backends/backend_agg.py:183: RuntimeWarning: Glyph 50976 missing from current font.\n",
            "  font.set_text(s, 0, flags=flags)\n",
            "/usr/local/lib/python3.6/dist-packages/matplotlib/backends/backend_agg.py:183: RuntimeWarning: Glyph 47924 missing from current font.\n",
            "  font.set_text(s, 0, flags=flags)\n"
          ],
          "name": "stderr"
        },
        {
          "output_type": "display_data",
          "data": {
            "image/png": "[encoded data removed]",
            "text/plain": [
              "<Figure size 432x288 with 1 Axes>"
            ]
          },
          "metadata": {
            "tags": [],
            "needs_background": "light"
          }
        },
        {
          "output_type": "stream",
          "text": [
            "/usr/local/lib/python3.6/dist-packages/matplotlib/backends/backend_agg.py:214: RuntimeWarning: Glyph 45576 missing from current font.\n",
            "  font.set_text(s, 0.0, flags=flags)\n",
            "/usr/local/lib/python3.6/dist-packages/matplotlib/backends/backend_agg.py:183: RuntimeWarning: Glyph 45576 missing from current font.\n",
            "  font.set_text(s, 0, flags=flags)\n"
          ],
          "name": "stderr"
        },
        {
          "output_type": "display_data",
          "data": {
            "image/png": "[encoded data removed]",
            "text/plain": [
              "<Figure size 432x288 with 1 Axes>"
            ]
          },
          "metadata": {
            "tags": [],
            "needs_background": "light"
          }
        }
      ]
    },
    {
      "cell_type": "code",
      "metadata": {
        "id": "CvuPGbKXuUyZ",
        "colab_type": "code",
        "colab": {}
      },
      "source": [
        "'''\n",
        "# 요일성을 제거하고 특정 월에 대해서만 시각화\n",
        "seoul_data[\"월\"]=pd.to_datetime(seoul_data[\"방송일시\"]).dt.month\n",
        "a = seoul_data.loc[((seoul_data[\"요일\"]!=5)&(seoul_data[\"요일\"]!=6))&(seoul_data[\"월\"]==7),:]\n",
        "a[\"범주_습도\"]=pd.cut(a[\"평균습도(%)\"],4)\n",
        "sns.barplot(x=\"범주_습도\", y=\"주문량\", data=a)\n",
        "'''"
      ],
      "execution_count": null,
      "outputs": []
    },
    {
      "cell_type": "code",
      "metadata": {
        "id": "voXnZpgruU0v",
        "colab_type": "code",
        "colab": {
          "base_uri": "https://localhost:8080/",
          "height": 380
        },
        "outputId": "c3191f84-37dc-497b-c78f-2240b2f75ef8"
      },
      "source": [
        "display(seoul_data.iloc[:,9:12].corr())\n",
        "display(busan_data.iloc[:,9:12].corr())\n",
        "display(gang_data.iloc[:,9:12].corr())"
      ],
      "execution_count": 29,
      "outputs": [
        {
          "output_type": "display_data",
          "data": {
            "text/html": [
              "<div>\n",
              "<style scoped>\n",
              "    .dataframe tbody tr th:only-of-type {\n",
              "        vertical-align: middle;\n",
              "    }\n",
              "\n",
              "    .dataframe tbody tr th {\n",
              "        vertical-align: top;\n",
              "    }\n",
              "\n",
              "    .dataframe thead th {\n",
              "        text-align: right;\n",
              "    }\n",
              "</style>\n",
              "<table border=\"1\" class=\"dataframe\">\n",
              "  <thead>\n",
              "    <tr style=\"text-align: right;\">\n",
              "      <th></th>\n",
              "      <th>주문량</th>\n",
              "      <th>요일</th>\n",
              "      <th>시</th>\n",
              "    </tr>\n",
              "  </thead>\n",
              "  <tbody>\n",
              "    <tr>\n",
              "      <th>주문량</th>\n",
              "      <td>1.000000</td>\n",
              "      <td>0.017263</td>\n",
              "      <td>-0.098928</td>\n",
              "    </tr>\n",
              "    <tr>\n",
              "      <th>요일</th>\n",
              "      <td>0.017263</td>\n",
              "      <td>1.000000</td>\n",
              "      <td>-0.021874</td>\n",
              "    </tr>\n",
              "    <tr>\n",
              "      <th>시</th>\n",
              "      <td>-0.098928</td>\n",
              "      <td>-0.021874</td>\n",
              "      <td>1.000000</td>\n",
              "    </tr>\n",
              "  </tbody>\n",
              "</table>\n",
              "</div>"
            ],
            "text/plain": [
              "          주문량        요일         시\n",
              "주문량  1.000000  0.017263 -0.098928\n",
              "요일   0.017263  1.000000 -0.021874\n",
              "시   -0.098928 -0.021874  1.000000"
            ]
          },
          "metadata": {
            "tags": []
          }
        },
        {
          "output_type": "display_data",
          "data": {
            "text/html": [
              "<div>\n",
              "<style scoped>\n",
              "    .dataframe tbody tr th:only-of-type {\n",
              "        vertical-align: middle;\n",
              "    }\n",
              "\n",
              "    .dataframe tbody tr th {\n",
              "        vertical-align: top;\n",
              "    }\n",
              "\n",
              "    .dataframe thead th {\n",
              "        text-align: right;\n",
              "    }\n",
              "</style>\n",
              "<table border=\"1\" class=\"dataframe\">\n",
              "  <thead>\n",
              "    <tr style=\"text-align: right;\">\n",
              "      <th></th>\n",
              "      <th>주문량</th>\n",
              "      <th>요일</th>\n",
              "      <th>시</th>\n",
              "    </tr>\n",
              "  </thead>\n",
              "  <tbody>\n",
              "    <tr>\n",
              "      <th>주문량</th>\n",
              "      <td>1.000000</td>\n",
              "      <td>0.017263</td>\n",
              "      <td>-0.098928</td>\n",
              "    </tr>\n",
              "    <tr>\n",
              "      <th>요일</th>\n",
              "      <td>0.017263</td>\n",
              "      <td>1.000000</td>\n",
              "      <td>-0.021874</td>\n",
              "    </tr>\n",
              "    <tr>\n",
              "      <th>시</th>\n",
              "      <td>-0.098928</td>\n",
              "      <td>-0.021874</td>\n",
              "      <td>1.000000</td>\n",
              "    </tr>\n",
              "  </tbody>\n",
              "</table>\n",
              "</div>"
            ],
            "text/plain": [
              "          주문량        요일         시\n",
              "주문량  1.000000  0.017263 -0.098928\n",
              "요일   0.017263  1.000000 -0.021874\n",
              "시   -0.098928 -0.021874  1.000000"
            ]
          },
          "metadata": {
            "tags": []
          }
        },
        {
          "output_type": "display_data",
          "data": {
            "text/html": [
              "<div>\n",
              "<style scoped>\n",
              "    .dataframe tbody tr th:only-of-type {\n",
              "        vertical-align: middle;\n",
              "    }\n",
              "\n",
              "    .dataframe tbody tr th {\n",
              "        vertical-align: top;\n",
              "    }\n",
              "\n",
              "    .dataframe thead th {\n",
              "        text-align: right;\n",
              "    }\n",
              "</style>\n",
              "<table border=\"1\" class=\"dataframe\">\n",
              "  <thead>\n",
              "    <tr style=\"text-align: right;\">\n",
              "      <th></th>\n",
              "      <th>주문량</th>\n",
              "      <th>요일</th>\n",
              "      <th>시</th>\n",
              "    </tr>\n",
              "  </thead>\n",
              "  <tbody>\n",
              "    <tr>\n",
              "      <th>주문량</th>\n",
              "      <td>1.000000</td>\n",
              "      <td>0.017263</td>\n",
              "      <td>-0.098928</td>\n",
              "    </tr>\n",
              "    <tr>\n",
              "      <th>요일</th>\n",
              "      <td>0.017263</td>\n",
              "      <td>1.000000</td>\n",
              "      <td>-0.021874</td>\n",
              "    </tr>\n",
              "    <tr>\n",
              "      <th>시</th>\n",
              "      <td>-0.098928</td>\n",
              "      <td>-0.021874</td>\n",
              "      <td>1.000000</td>\n",
              "    </tr>\n",
              "  </tbody>\n",
              "</table>\n",
              "</div>"
            ],
            "text/plain": [
              "          주문량        요일         시\n",
              "주문량  1.000000  0.017263 -0.098928\n",
              "요일   0.017263  1.000000 -0.021874\n",
              "시   -0.098928 -0.021874  1.000000"
            ]
          },
          "metadata": {
            "tags": []
          }
        }
      ]
    },
    {
      "cell_type": "code",
      "metadata": {
        "id": "-7zJVv4juU3J",
        "colab_type": "code",
        "colab": {}
      },
      "source": [
        "# 범주 시각화 함수\n",
        "def visual(col):\n",
        "    global a\n",
        "    # 토,일 제외함으로써 요일성 제외\n",
        "    a = train_1.loc[(train_1[\"요일\"]!=5)&(train_1[\"요일\"]!=6),:] \n",
        "    # 연속형 데이터를 범주형으로 변경\n",
        "    a[f\"범주_{col}\"]=pd.cut(a[col],3) \n",
        "    sns.barplot(x=f\"범주_{col}\",y=\"주문량\", data=a)\n",
        "    plt.show()"
      ],
      "execution_count": 30,
      "outputs": []
    },
    {
      "cell_type": "code",
      "metadata": {
        "id": "AoAeLsO7uU5l",
        "colab_type": "code",
        "colab": {}
      },
      "source": [
        "fc_prop = pd.read_csv(\"/날씨예보/서울날씨/강수확률.csv\")\n",
        "fc_amount = pd.read_csv(\"/날씨예보/서울날씨/6시간 강수량.csv\") \n",
        "fc_sky = pd.read_csv(\"/날씨예보/서울날씨/하늘상태.csv\")\n",
        "fc_top = pd.read_csv(\"/날씨예보/서울날씨/일최고기온.csv\")\n",
        "fc_bottom = pd.read_csv(\"/날씨예보/서울날씨/일최저기온.csv\")"
      ],
      "execution_count": null,
      "outputs": []
    },
    {
      "cell_type": "code",
      "metadata": {
        "id": "5zJKr2vUuU7-",
        "colab_type": "code",
        "colab": {}
      },
      "source": [
        "forecast_data = {\"강수확률\":fc_prop, \"강수량\":fc_amount,\"하늘상태\":fc_sky, \"일최고기온\":fc_top, \"일최저기온\":fc_bottom}"
      ],
      "execution_count": null,
      "outputs": []
    },
    {
      "cell_type": "code",
      "metadata": {
        "id": "aIHTanSFB3nJ",
        "colab_type": "code",
        "colab": {}
      },
      "source": [
        "forecast = pd.DataFrame()\n",
        "\n",
        "for name, fcdata in forecast_data.items():\n",
        "    amount_list=[]\n",
        "    cycle = (fcdata.shape[0])//365 # 하루 관측량\n",
        "    for i in range(365):\n",
        "        day_weather = fcdata.iloc[i*cycle:(i+1)*cycle,-1].mean()\n",
        "        amount_list.append(day_weather)\n",
        "    forecast[name]=amount_list"
      ],
      "execution_count": null,
      "outputs": []
    },
    {
      "cell_type": "code",
      "metadata": {
        "id": "KCWSIKo1vKbq",
        "colab_type": "code",
        "colab": {}
      },
      "source": [
        "forecast = forecast.iloc[165:243]"
      ],
      "execution_count": null,
      "outputs": []
    },
    {
      "cell_type": "code",
      "metadata": {
        "id": "XyfJXcBjvKet",
        "colab_type": "code",
        "colab": {}
      },
      "source": [
        "# 날짜 칼럼 추가\n",
        "forecast[\"날짜\"]=train[\"날짜\"].unique()"
      ],
      "execution_count": null,
      "outputs": []
    },
    {
      "cell_type": "code",
      "metadata": {
        "id": "dHtSr17yvKhA",
        "colab_type": "code",
        "colab": {}
      },
      "source": [
        "train_1 = data.copy()\n",
        "train_1 = train_1.merge(forecast, on='날짜')"
      ],
      "execution_count": null,
      "outputs": []
    },
    {
      "cell_type": "code",
      "metadata": {
        "id": "qNq7qRfsvKjd",
        "colab_type": "code",
        "colab": {
          "base_uri": "https://localhost:8080/",
          "height": 1000
        },
        "outputId": "b1b69f17-dd22-4a32-ffa7-73a2517e4bed"
      },
      "source": [
        "for name in forecast_data.keys():\n",
        "    visual(name)"
      ],
      "execution_count": null,
      "outputs": [
        {
          "output_type": "stream",
          "text": [
            "/usr/local/lib/python3.6/dist-packages/ipykernel_launcher.py:7: SettingWithCopyWarning: \n",
            "A value is trying to be set on a copy of a slice from a DataFrame.\n",
            "Try using .loc[row_indexer,col_indexer] = value instead\n",
            "\n",
            "See the caveats in the documentation: https://pandas.pydata.org/pandas-docs/stable/user_guide/indexing.html#returning-a-view-versus-a-copy\n",
            "  import sys\n",
            "/usr/local/lib/python3.6/dist-packages/matplotlib/backends/backend_agg.py:214: RuntimeWarning: Glyph 48276 missing from current font.\n",
            "  font.set_text(s, 0.0, flags=flags)\n",
            "/usr/local/lib/python3.6/dist-packages/matplotlib/backends/backend_agg.py:214: RuntimeWarning: Glyph 51452 missing from current font.\n",
            "  font.set_text(s, 0.0, flags=flags)\n",
            "/usr/local/lib/python3.6/dist-packages/matplotlib/backends/backend_agg.py:214: RuntimeWarning: Glyph 44053 missing from current font.\n",
            "  font.set_text(s, 0.0, flags=flags)\n",
            "/usr/local/lib/python3.6/dist-packages/matplotlib/backends/backend_agg.py:214: RuntimeWarning: Glyph 49688 missing from current font.\n",
            "  font.set_text(s, 0.0, flags=flags)\n",
            "/usr/local/lib/python3.6/dist-packages/matplotlib/backends/backend_agg.py:214: RuntimeWarning: Glyph 54869 missing from current font.\n",
            "  font.set_text(s, 0.0, flags=flags)\n",
            "/usr/local/lib/python3.6/dist-packages/matplotlib/backends/backend_agg.py:214: RuntimeWarning: Glyph 47456 missing from current font.\n",
            "  font.set_text(s, 0.0, flags=flags)\n",
            "/usr/local/lib/python3.6/dist-packages/matplotlib/backends/backend_agg.py:214: RuntimeWarning: Glyph 47928 missing from current font.\n",
            "  font.set_text(s, 0.0, flags=flags)\n",
            "/usr/local/lib/python3.6/dist-packages/matplotlib/backends/backend_agg.py:214: RuntimeWarning: Glyph 47049 missing from current font.\n",
            "  font.set_text(s, 0.0, flags=flags)\n",
            "/usr/local/lib/python3.6/dist-packages/matplotlib/backends/backend_agg.py:183: RuntimeWarning: Glyph 48276 missing from current font.\n",
            "  font.set_text(s, 0, flags=flags)\n",
            "/usr/local/lib/python3.6/dist-packages/matplotlib/backends/backend_agg.py:183: RuntimeWarning: Glyph 51452 missing from current font.\n",
            "  font.set_text(s, 0, flags=flags)\n",
            "/usr/local/lib/python3.6/dist-packages/matplotlib/backends/backend_agg.py:183: RuntimeWarning: Glyph 44053 missing from current font.\n",
            "  font.set_text(s, 0, flags=flags)\n",
            "/usr/local/lib/python3.6/dist-packages/matplotlib/backends/backend_agg.py:183: RuntimeWarning: Glyph 49688 missing from current font.\n",
            "  font.set_text(s, 0, flags=flags)\n",
            "/usr/local/lib/python3.6/dist-packages/matplotlib/backends/backend_agg.py:183: RuntimeWarning: Glyph 54869 missing from current font.\n",
            "  font.set_text(s, 0, flags=flags)\n",
            "/usr/local/lib/python3.6/dist-packages/matplotlib/backends/backend_agg.py:183: RuntimeWarning: Glyph 47456 missing from current font.\n",
            "  font.set_text(s, 0, flags=flags)\n",
            "/usr/local/lib/python3.6/dist-packages/matplotlib/backends/backend_agg.py:183: RuntimeWarning: Glyph 47928 missing from current font.\n",
            "  font.set_text(s, 0, flags=flags)\n",
            "/usr/local/lib/python3.6/dist-packages/matplotlib/backends/backend_agg.py:183: RuntimeWarning: Glyph 47049 missing from current font.\n",
            "  font.set_text(s, 0, flags=flags)\n"
          ],
          "name": "stderr"
        },
        {
          "output_type": "display_data",
          "data": {
            "image/png": "[encoded data removed]",
            "text/plain": [
              "<Figure size 432x288 with 1 Axes>"
            ]
          },
          "metadata": {
            "tags": [],
            "needs_background": "light"
          }
        },
        {
          "output_type": "display_data",
          "data": {
            "image/png": "[encoded data removed]",
            "text/plain": [
              "<Figure size 432x288 with 1 Axes>"
            ]
          },
          "metadata": {
            "tags": [],
            "needs_background": "light"
          }
        },
        {
          "output_type": "stream",
          "text": [
            "/usr/local/lib/python3.6/dist-packages/matplotlib/backends/backend_agg.py:214: RuntimeWarning: Glyph 54616 missing from current font.\n",
            "  font.set_text(s, 0.0, flags=flags)\n",
            "/usr/local/lib/python3.6/dist-packages/matplotlib/backends/backend_agg.py:214: RuntimeWarning: Glyph 45720 missing from current font.\n",
            "  font.set_text(s, 0.0, flags=flags)\n",
            "/usr/local/lib/python3.6/dist-packages/matplotlib/backends/backend_agg.py:214: RuntimeWarning: Glyph 49345 missing from current font.\n",
            "  font.set_text(s, 0.0, flags=flags)\n",
            "/usr/local/lib/python3.6/dist-packages/matplotlib/backends/backend_agg.py:214: RuntimeWarning: Glyph 53468 missing from current font.\n",
            "  font.set_text(s, 0.0, flags=flags)\n",
            "/usr/local/lib/python3.6/dist-packages/matplotlib/backends/backend_agg.py:183: RuntimeWarning: Glyph 54616 missing from current font.\n",
            "  font.set_text(s, 0, flags=flags)\n",
            "/usr/local/lib/python3.6/dist-packages/matplotlib/backends/backend_agg.py:183: RuntimeWarning: Glyph 45720 missing from current font.\n",
            "  font.set_text(s, 0, flags=flags)\n",
            "/usr/local/lib/python3.6/dist-packages/matplotlib/backends/backend_agg.py:183: RuntimeWarning: Glyph 49345 missing from current font.\n",
            "  font.set_text(s, 0, flags=flags)\n",
            "/usr/local/lib/python3.6/dist-packages/matplotlib/backends/backend_agg.py:183: RuntimeWarning: Glyph 53468 missing from current font.\n",
            "  font.set_text(s, 0, flags=flags)\n"
          ],
          "name": "stderr"
        },
        {
          "output_type": "display_data",
          "data": {
            "image/png": "[encoded data removed]",
            "text/plain": [
              "<Figure size 432x288 with 1 Axes>"
            ]
          },
          "metadata": {
            "tags": [],
            "needs_background": "light"
          }
        },
        {
          "output_type": "stream",
          "text": [
            "/usr/local/lib/python3.6/dist-packages/matplotlib/backends/backend_agg.py:214: RuntimeWarning: Glyph 51068 missing from current font.\n",
            "  font.set_text(s, 0.0, flags=flags)\n",
            "/usr/local/lib/python3.6/dist-packages/matplotlib/backends/backend_agg.py:214: RuntimeWarning: Glyph 52572 missing from current font.\n",
            "  font.set_text(s, 0.0, flags=flags)\n",
            "/usr/local/lib/python3.6/dist-packages/matplotlib/backends/backend_agg.py:214: RuntimeWarning: Glyph 44256 missing from current font.\n",
            "  font.set_text(s, 0.0, flags=flags)\n",
            "/usr/local/lib/python3.6/dist-packages/matplotlib/backends/backend_agg.py:214: RuntimeWarning: Glyph 44592 missing from current font.\n",
            "  font.set_text(s, 0.0, flags=flags)\n",
            "/usr/local/lib/python3.6/dist-packages/matplotlib/backends/backend_agg.py:214: RuntimeWarning: Glyph 50728 missing from current font.\n",
            "  font.set_text(s, 0.0, flags=flags)\n",
            "/usr/local/lib/python3.6/dist-packages/matplotlib/backends/backend_agg.py:183: RuntimeWarning: Glyph 51068 missing from current font.\n",
            "  font.set_text(s, 0, flags=flags)\n",
            "/usr/local/lib/python3.6/dist-packages/matplotlib/backends/backend_agg.py:183: RuntimeWarning: Glyph 52572 missing from current font.\n",
            "  font.set_text(s, 0, flags=flags)\n",
            "/usr/local/lib/python3.6/dist-packages/matplotlib/backends/backend_agg.py:183: RuntimeWarning: Glyph 44256 missing from current font.\n",
            "  font.set_text(s, 0, flags=flags)\n",
            "/usr/local/lib/python3.6/dist-packages/matplotlib/backends/backend_agg.py:183: RuntimeWarning: Glyph 44592 missing from current font.\n",
            "  font.set_text(s, 0, flags=flags)\n",
            "/usr/local/lib/python3.6/dist-packages/matplotlib/backends/backend_agg.py:183: RuntimeWarning: Glyph 50728 missing from current font.\n",
            "  font.set_text(s, 0, flags=flags)\n"
          ],
          "name": "stderr"
        },
        {
          "output_type": "display_data",
          "data": {
            "image/png": "[encoded data removed]",
            "text/plain": [
              "<Figure size 432x288 with 1 Axes>"
            ]
          },
          "metadata": {
            "tags": [],
            "needs_background": "light"
          }
        },
        {
          "output_type": "stream",
          "text": [
            "/usr/local/lib/python3.6/dist-packages/matplotlib/backends/backend_agg.py:214: RuntimeWarning: Glyph 51200 missing from current font.\n",
            "  font.set_text(s, 0.0, flags=flags)\n",
            "/usr/local/lib/python3.6/dist-packages/matplotlib/backends/backend_agg.py:183: RuntimeWarning: Glyph 51200 missing from current font.\n",
            "  font.set_text(s, 0, flags=flags)\n"
          ],
          "name": "stderr"
        },
        {
          "output_type": "display_data",
          "data": {
            "image/png": "[encoded data removed]",
            "text/plain": [
              "<Figure size 432x288 with 1 Axes>"
            ]
          },
          "metadata": {
            "tags": [],
            "needs_background": "light"
          }
        }
      ]
    },
    {
      "cell_type": "markdown",
      "metadata": {
        "id": "-_Ua9GmSvZWn",
        "colab_type": "text"
      },
      "source": [
        "#미세먼지"
      ]
    },
    {
      "cell_type": "code",
      "metadata": {
        "id": "to_GxaxuvKmF",
        "colab_type": "code",
        "colab": {}
      },
      "source": [
        "munji = pd.read_excel('/content/drive/My Drive/빅콘폴더/인구 미세먼지관련/2019미세먼지.xlsx')\n",
        "pop_tot = pd.read_excel('/content/drive/My Drive/빅콘폴더/인구 미세먼지관련/2019총인구비율(수정).xlsx')\n",
        "pop_w = pd.read_excel('/content/drive/My Drive/빅콘폴더/인구 미세먼지관련/2019여성인구비율.xlsx')\n",
        "pop_m = pd.read_excel('/content/drive/My Drive/빅콘폴더/인구 미세먼지관련/2019남자인구비율.xlsx')"
      ],
      "execution_count": 36,
      "outputs": []
    },
    {
      "cell_type": "code",
      "metadata": {
        "id": "eXKRbeJjvjDY",
        "colab_type": "code",
        "colab": {
          "base_uri": "https://localhost:8080/",
          "height": 1000
        },
        "outputId": "90ed8928-fc37-432a-efee-deabb48b60f9"
      },
      "source": [
        "MonthItemGroup = train.groupby(['상품군','월']).mean()\n",
        "MonthItemGroup"
      ],
      "execution_count": 37,
      "outputs": [
        {
          "output_type": "execute_result",
          "data": {
            "text/html": [
              "<div>\n",
              "<style scoped>\n",
              "    .dataframe tbody tr th:only-of-type {\n",
              "        vertical-align: middle;\n",
              "    }\n",
              "\n",
              "    .dataframe tbody tr th {\n",
              "        vertical-align: top;\n",
              "    }\n",
              "\n",
              "    .dataframe thead th {\n",
              "        text-align: right;\n",
              "    }\n",
              "</style>\n",
              "<table border=\"1\" class=\"dataframe\">\n",
              "  <thead>\n",
              "    <tr style=\"text-align: right;\">\n",
              "      <th></th>\n",
              "      <th></th>\n",
              "      <th>Unnamed: 0</th>\n",
              "      <th>노출(분)</th>\n",
              "      <th>마더코드</th>\n",
              "      <th>상품코드</th>\n",
              "      <th>판매단가</th>\n",
              "      <th>취급액</th>\n",
              "      <th>요일</th>\n",
              "      <th>시</th>\n",
              "      <th>주문량</th>\n",
              "      <th>holiday</th>\n",
              "      <th>holiday(includeSS)</th>\n",
              "      <th>실제_서울_최고기온</th>\n",
              "      <th>실제_서울_최저기온</th>\n",
              "      <th>실제_서울_강수량(mm)</th>\n",
              "      <th>실제_서울_평균풍속(m/s)</th>\n",
              "      <th>실제_수원_최고기온</th>\n",
              "      <th>실제_수원_최저기온</th>\n",
              "      <th>실제_수원_강수량(mm)</th>\n",
              "      <th>실제_수원_평균풍속(m/s)</th>\n",
              "      <th>실제_파주_최고기온</th>\n",
              "      <th>실제_파주_최저기온</th>\n",
              "      <th>실제_파주_강수량(mm)</th>\n",
              "      <th>실제_파주_평균풍속(m/s)</th>\n",
              "      <th>예보_서울_강수확률</th>\n",
              "      <th>예보_서울_강수량</th>\n",
              "      <th>예보_서울_하늘상태</th>\n",
              "      <th>예보_서울_일최고기온</th>\n",
              "      <th>예보_서울_일최저기온</th>\n",
              "      <th>예보_일산_강수확률</th>\n",
              "      <th>예보_일산_강수량</th>\n",
              "      <th>예보_일산_일최고기온</th>\n",
              "      <th>예보_일산_일최저기온</th>\n",
              "      <th>예보_수원_강수확률</th>\n",
              "      <th>예보_수원_강수량</th>\n",
              "      <th>예보_수원_일최고기온</th>\n",
              "      <th>예보_수원_일최저기온</th>\n",
              "      <th>계절</th>\n",
              "      <th>DATE</th>\n",
              "      <th>미세먼지(㎍/㎥)</th>\n",
              "      <th>오존(ppm)</th>\n",
              "      <th>이산화질소농도(ppm)</th>\n",
              "      <th>일산화탄소농도(ppm)</th>\n",
              "      <th>아황산가스농도(ppm)</th>\n",
              "      <th>초미세먼지(㎍/㎥)</th>\n",
              "      <th>MONTH</th>\n",
              "      <th>HOUR</th>\n",
              "    </tr>\n",
              "    <tr>\n",
              "      <th>상품군</th>\n",
              "      <th>월</th>\n",
              "      <th></th>\n",
              "      <th></th>\n",
              "      <th></th>\n",
              "      <th></th>\n",
              "      <th></th>\n",
              "      <th></th>\n",
              "      <th></th>\n",
              "      <th></th>\n",
              "      <th></th>\n",
              "      <th></th>\n",
              "      <th></th>\n",
              "      <th></th>\n",
              "      <th></th>\n",
              "      <th></th>\n",
              "      <th></th>\n",
              "      <th></th>\n",
              "      <th></th>\n",
              "      <th></th>\n",
              "      <th></th>\n",
              "      <th></th>\n",
              "      <th></th>\n",
              "      <th></th>\n",
              "      <th></th>\n",
              "      <th></th>\n",
              "      <th></th>\n",
              "      <th></th>\n",
              "      <th></th>\n",
              "      <th></th>\n",
              "      <th></th>\n",
              "      <th></th>\n",
              "      <th></th>\n",
              "      <th></th>\n",
              "      <th></th>\n",
              "      <th></th>\n",
              "      <th></th>\n",
              "      <th></th>\n",
              "      <th></th>\n",
              "      <th></th>\n",
              "      <th></th>\n",
              "      <th></th>\n",
              "      <th></th>\n",
              "      <th></th>\n",
              "      <th></th>\n",
              "      <th></th>\n",
              "      <th></th>\n",
              "      <th></th>\n",
              "    </tr>\n",
              "  </thead>\n",
              "  <tbody>\n",
              "    <tr>\n",
              "      <th rowspan=\"3\" valign=\"top\">beauty</th>\n",
              "      <th>6</th>\n",
              "      <td>18219.250000</td>\n",
              "      <td>23.150000</td>\n",
              "      <td>100392.525000</td>\n",
              "      <td>201215.900000</td>\n",
              "      <td>5.483750e+04</td>\n",
              "      <td>3.681430e+07</td>\n",
              "      <td>2.350000</td>\n",
              "      <td>13.650000</td>\n",
              "      <td>734.573814</td>\n",
              "      <td>0.000000</td>\n",
              "      <td>0.200000</td>\n",
              "      <td>28.880000</td>\n",
              "      <td>19.537500</td>\n",
              "      <td>1.942500</td>\n",
              "      <td>1.667500</td>\n",
              "      <td>28.987500</td>\n",
              "      <td>18.715000</td>\n",
              "      <td>0.660000</td>\n",
              "      <td>1.760000</td>\n",
              "      <td>27.487500</td>\n",
              "      <td>16.907500</td>\n",
              "      <td>3.010000</td>\n",
              "      <td>1.200000</td>\n",
              "      <td>17.451014</td>\n",
              "      <td>1.016447</td>\n",
              "      <td>2.439020</td>\n",
              "      <td>29.250000</td>\n",
              "      <td>19.548437</td>\n",
              "      <td>16.771959</td>\n",
              "      <td>0.840461</td>\n",
              "      <td>27.951316</td>\n",
              "      <td>18.237500</td>\n",
              "      <td>17.109122</td>\n",
              "      <td>0.905592</td>\n",
              "      <td>29.177632</td>\n",
              "      <td>19.153125</td>\n",
              "      <td>2.0</td>\n",
              "      <td>2.019062e+07</td>\n",
              "      <td>25.889000</td>\n",
              "      <td>18.124000</td>\n",
              "      <td>0.038201</td>\n",
              "      <td>0.020428</td>\n",
              "      <td>0.370700</td>\n",
              "      <td>0.003552</td>\n",
              "      <td>6.0</td>\n",
              "      <td>13.650000</td>\n",
              "    </tr>\n",
              "    <tr>\n",
              "      <th>7</th>\n",
              "      <td>20736.884211</td>\n",
              "      <td>20.210526</td>\n",
              "      <td>100346.831579</td>\n",
              "      <td>201237.442105</td>\n",
              "      <td>4.334421e+04</td>\n",
              "      <td>3.346743e+07</td>\n",
              "      <td>2.568421</td>\n",
              "      <td>12.242105</td>\n",
              "      <td>782.083530</td>\n",
              "      <td>0.000000</td>\n",
              "      <td>0.221053</td>\n",
              "      <td>30.315789</td>\n",
              "      <td>23.041053</td>\n",
              "      <td>6.826316</td>\n",
              "      <td>1.963158</td>\n",
              "      <td>30.502105</td>\n",
              "      <td>22.642105</td>\n",
              "      <td>6.371579</td>\n",
              "      <td>2.180000</td>\n",
              "      <td>29.416842</td>\n",
              "      <td>21.006316</td>\n",
              "      <td>11.488421</td>\n",
              "      <td>1.567368</td>\n",
              "      <td>29.746045</td>\n",
              "      <td>4.055125</td>\n",
              "      <td>3.062673</td>\n",
              "      <td>30.491413</td>\n",
              "      <td>23.021053</td>\n",
              "      <td>29.382951</td>\n",
              "      <td>4.158310</td>\n",
              "      <td>29.246168</td>\n",
              "      <td>21.998553</td>\n",
              "      <td>28.623712</td>\n",
              "      <td>3.916620</td>\n",
              "      <td>30.226039</td>\n",
              "      <td>22.808816</td>\n",
              "      <td>2.0</td>\n",
              "      <td>2.019072e+07</td>\n",
              "      <td>24.163789</td>\n",
              "      <td>16.871579</td>\n",
              "      <td>0.029613</td>\n",
              "      <td>0.017016</td>\n",
              "      <td>0.379705</td>\n",
              "      <td>0.003441</td>\n",
              "      <td>7.0</td>\n",
              "      <td>12.242105</td>\n",
              "    </tr>\n",
              "    <tr>\n",
              "      <th>8</th>\n",
              "      <td>24010.888889</td>\n",
              "      <td>17.469136</td>\n",
              "      <td>100343.481481</td>\n",
              "      <td>201103.888889</td>\n",
              "      <td>5.275556e+04</td>\n",
              "      <td>2.557926e+07</td>\n",
              "      <td>2.814815</td>\n",
              "      <td>6.395062</td>\n",
              "      <td>490.864757</td>\n",
              "      <td>0.000000</td>\n",
              "      <td>0.222222</td>\n",
              "      <td>32.107407</td>\n",
              "      <td>23.551852</td>\n",
              "      <td>4.003704</td>\n",
              "      <td>1.570370</td>\n",
              "      <td>31.888889</td>\n",
              "      <td>23.025926</td>\n",
              "      <td>1.218519</td>\n",
              "      <td>1.829630</td>\n",
              "      <td>30.625926</td>\n",
              "      <td>20.977778</td>\n",
              "      <td>1.544444</td>\n",
              "      <td>1.100000</td>\n",
              "      <td>22.550050</td>\n",
              "      <td>2.943470</td>\n",
              "      <td>2.704705</td>\n",
              "      <td>31.446394</td>\n",
              "      <td>23.537037</td>\n",
              "      <td>20.558058</td>\n",
              "      <td>2.290448</td>\n",
              "      <td>30.463938</td>\n",
              "      <td>22.208333</td>\n",
              "      <td>22.129630</td>\n",
              "      <td>2.863548</td>\n",
              "      <td>31.189084</td>\n",
              "      <td>23.141204</td>\n",
              "      <td>2.0</td>\n",
              "      <td>2.019082e+07</td>\n",
              "      <td>25.328889</td>\n",
              "      <td>16.837037</td>\n",
              "      <td>0.031853</td>\n",
              "      <td>0.018508</td>\n",
              "      <td>0.401778</td>\n",
              "      <td>0.003584</td>\n",
              "      <td>8.0</td>\n",
              "      <td>6.395062</td>\n",
              "    </tr>\n",
              "    <tr>\n",
              "      <th rowspan=\"3\" valign=\"top\">bedding</th>\n",
              "      <th>6</th>\n",
              "      <td>18243.551724</td>\n",
              "      <td>20.000000</td>\n",
              "      <td>100139.000000</td>\n",
              "      <td>200378.103448</td>\n",
              "      <td>6.403793e+04</td>\n",
              "      <td>1.408638e+07</td>\n",
              "      <td>3.000000</td>\n",
              "      <td>12.517241</td>\n",
              "      <td>220.646683</td>\n",
              "      <td>0.000000</td>\n",
              "      <td>0.241379</td>\n",
              "      <td>28.510345</td>\n",
              "      <td>20.055172</td>\n",
              "      <td>0.213793</td>\n",
              "      <td>1.813793</td>\n",
              "      <td>28.555172</td>\n",
              "      <td>19.127586</td>\n",
              "      <td>0.179310</td>\n",
              "      <td>1.762069</td>\n",
              "      <td>27.734483</td>\n",
              "      <td>17.600000</td>\n",
              "      <td>0.000000</td>\n",
              "      <td>1.262069</td>\n",
              "      <td>22.020037</td>\n",
              "      <td>1.341198</td>\n",
              "      <td>2.783085</td>\n",
              "      <td>28.246824</td>\n",
              "      <td>19.581897</td>\n",
              "      <td>21.220876</td>\n",
              "      <td>0.941924</td>\n",
              "      <td>26.961887</td>\n",
              "      <td>18.648707</td>\n",
              "      <td>20.978798</td>\n",
              "      <td>1.144737</td>\n",
              "      <td>27.963702</td>\n",
              "      <td>19.377155</td>\n",
              "      <td>2.0</td>\n",
              "      <td>2.019062e+07</td>\n",
              "      <td>27.459310</td>\n",
              "      <td>19.971034</td>\n",
              "      <td>0.039945</td>\n",
              "      <td>0.019338</td>\n",
              "      <td>0.376414</td>\n",
              "      <td>0.003541</td>\n",
              "      <td>6.0</td>\n",
              "      <td>12.517241</td>\n",
              "    </tr>\n",
              "    <tr>\n",
              "      <th>7</th>\n",
              "      <td>20179.016393</td>\n",
              "      <td>19.918033</td>\n",
              "      <td>100152.098361</td>\n",
              "      <td>200430.704918</td>\n",
              "      <td>7.234754e+04</td>\n",
              "      <td>1.122410e+07</td>\n",
              "      <td>3.098361</td>\n",
              "      <td>12.360656</td>\n",
              "      <td>169.893573</td>\n",
              "      <td>0.000000</td>\n",
              "      <td>0.311475</td>\n",
              "      <td>29.721311</td>\n",
              "      <td>21.762295</td>\n",
              "      <td>3.183607</td>\n",
              "      <td>1.713115</td>\n",
              "      <td>29.727869</td>\n",
              "      <td>20.975410</td>\n",
              "      <td>2.942623</td>\n",
              "      <td>1.847541</td>\n",
              "      <td>28.727869</td>\n",
              "      <td>19.557377</td>\n",
              "      <td>6.103279</td>\n",
              "      <td>1.300000</td>\n",
              "      <td>23.781523</td>\n",
              "      <td>2.655522</td>\n",
              "      <td>2.803403</td>\n",
              "      <td>30.770779</td>\n",
              "      <td>21.974385</td>\n",
              "      <td>22.547946</td>\n",
              "      <td>2.527826</td>\n",
              "      <td>29.492283</td>\n",
              "      <td>20.654577</td>\n",
              "      <td>23.149047</td>\n",
              "      <td>2.550906</td>\n",
              "      <td>30.349727</td>\n",
              "      <td>21.478757</td>\n",
              "      <td>2.0</td>\n",
              "      <td>2.019071e+07</td>\n",
              "      <td>28.678033</td>\n",
              "      <td>21.426885</td>\n",
              "      <td>0.033374</td>\n",
              "      <td>0.018181</td>\n",
              "      <td>0.412590</td>\n",
              "      <td>0.003429</td>\n",
              "      <td>7.0</td>\n",
              "      <td>12.360656</td>\n",
              "    </tr>\n",
              "    <tr>\n",
              "      <th>8</th>\n",
              "      <td>24510.500000</td>\n",
              "      <td>20.000000</td>\n",
              "      <td>100261.750000</td>\n",
              "      <td>200853.750000</td>\n",
              "      <td>1.094750e+05</td>\n",
              "      <td>1.154917e+07</td>\n",
              "      <td>1.250000</td>\n",
              "      <td>13.250000</td>\n",
              "      <td>160.269365</td>\n",
              "      <td>0.000000</td>\n",
              "      <td>0.000000</td>\n",
              "      <td>29.550000</td>\n",
              "      <td>22.625000</td>\n",
              "      <td>17.000000</td>\n",
              "      <td>1.050000</td>\n",
              "      <td>29.775000</td>\n",
              "      <td>22.125000</td>\n",
              "      <td>5.300000</td>\n",
              "      <td>1.375000</td>\n",
              "      <td>27.925000</td>\n",
              "      <td>21.575000</td>\n",
              "      <td>0.400000</td>\n",
              "      <td>0.575000</td>\n",
              "      <td>20.557432</td>\n",
              "      <td>1.809211</td>\n",
              "      <td>2.707770</td>\n",
              "      <td>29.986842</td>\n",
              "      <td>22.859375</td>\n",
              "      <td>19.746622</td>\n",
              "      <td>1.315789</td>\n",
              "      <td>28.868421</td>\n",
              "      <td>21.953125</td>\n",
              "      <td>22.043919</td>\n",
              "      <td>2.253289</td>\n",
              "      <td>29.986842</td>\n",
              "      <td>22.812500</td>\n",
              "      <td>2.0</td>\n",
              "      <td>2.019082e+07</td>\n",
              "      <td>24.670000</td>\n",
              "      <td>16.250000</td>\n",
              "      <td>0.032170</td>\n",
              "      <td>0.022180</td>\n",
              "      <td>0.438000</td>\n",
              "      <td>0.003520</td>\n",
              "      <td>8.0</td>\n",
              "      <td>13.250000</td>\n",
              "    </tr>\n",
              "    <tr>\n",
              "      <th rowspan=\"3\" valign=\"top\">cloth</th>\n",
              "      <th>6</th>\n",
              "      <td>18129.981752</td>\n",
              "      <td>20.740876</td>\n",
              "      <td>100341.386861</td>\n",
              "      <td>201053.142336</td>\n",
              "      <td>1.457628e+05</td>\n",
              "      <td>2.321295e+07</td>\n",
              "      <td>3.948905</td>\n",
              "      <td>10.489051</td>\n",
              "      <td>402.453517</td>\n",
              "      <td>0.000000</td>\n",
              "      <td>0.536496</td>\n",
              "      <td>28.462409</td>\n",
              "      <td>19.084307</td>\n",
              "      <td>0.850730</td>\n",
              "      <td>1.714599</td>\n",
              "      <td>28.549635</td>\n",
              "      <td>18.401825</td>\n",
              "      <td>0.692336</td>\n",
              "      <td>1.844161</td>\n",
              "      <td>27.254015</td>\n",
              "      <td>16.393066</td>\n",
              "      <td>0.880292</td>\n",
              "      <td>1.341241</td>\n",
              "      <td>15.147712</td>\n",
              "      <td>0.750096</td>\n",
              "      <td>2.261097</td>\n",
              "      <td>28.592970</td>\n",
              "      <td>19.136633</td>\n",
              "      <td>14.372411</td>\n",
              "      <td>0.621638</td>\n",
              "      <td>27.184979</td>\n",
              "      <td>17.948905</td>\n",
              "      <td>14.363484</td>\n",
              "      <td>0.606416</td>\n",
              "      <td>28.409720</td>\n",
              "      <td>18.739051</td>\n",
              "      <td>2.0</td>\n",
              "      <td>2.019062e+07</td>\n",
              "      <td>24.692409</td>\n",
              "      <td>17.377518</td>\n",
              "      <td>0.038894</td>\n",
              "      <td>0.017171</td>\n",
              "      <td>0.357474</td>\n",
              "      <td>0.003360</td>\n",
              "      <td>6.0</td>\n",
              "      <td>10.489051</td>\n",
              "    </tr>\n",
              "    <tr>\n",
              "      <th>7</th>\n",
              "      <td>20783.081851</td>\n",
              "      <td>19.697509</td>\n",
              "      <td>100399.786477</td>\n",
              "      <td>201234.441281</td>\n",
              "      <td>2.719651e+05</td>\n",
              "      <td>2.846027e+07</td>\n",
              "      <td>3.224199</td>\n",
              "      <td>9.298932</td>\n",
              "      <td>463.598302</td>\n",
              "      <td>0.000000</td>\n",
              "      <td>0.366548</td>\n",
              "      <td>30.025979</td>\n",
              "      <td>23.095374</td>\n",
              "      <td>7.142705</td>\n",
              "      <td>1.793594</td>\n",
              "      <td>30.200356</td>\n",
              "      <td>22.716726</td>\n",
              "      <td>7.276868</td>\n",
              "      <td>2.054093</td>\n",
              "      <td>29.148399</td>\n",
              "      <td>21.263701</td>\n",
              "      <td>10.148754</td>\n",
              "      <td>1.379004</td>\n",
              "      <td>32.421004</td>\n",
              "      <td>5.101751</td>\n",
              "      <td>3.111056</td>\n",
              "      <td>30.397453</td>\n",
              "      <td>23.042037</td>\n",
              "      <td>32.024313</td>\n",
              "      <td>5.265031</td>\n",
              "      <td>29.229007</td>\n",
              "      <td>22.002536</td>\n",
              "      <td>31.524591</td>\n",
              "      <td>5.211510</td>\n",
              "      <td>30.164076</td>\n",
              "      <td>22.834786</td>\n",
              "      <td>2.0</td>\n",
              "      <td>2.019072e+07</td>\n",
              "      <td>26.004840</td>\n",
              "      <td>19.004982</td>\n",
              "      <td>0.029921</td>\n",
              "      <td>0.017581</td>\n",
              "      <td>0.396527</td>\n",
              "      <td>0.003457</td>\n",
              "      <td>7.0</td>\n",
              "      <td>9.298932</td>\n",
              "    </tr>\n",
              "    <tr>\n",
              "      <th>8</th>\n",
              "      <td>23785.387833</td>\n",
              "      <td>17.532319</td>\n",
              "      <td>100385.988593</td>\n",
              "      <td>201317.737643</td>\n",
              "      <td>4.328658e+05</td>\n",
              "      <td>2.859167e+07</td>\n",
              "      <td>2.847909</td>\n",
              "      <td>9.882129</td>\n",
              "      <td>588.603333</td>\n",
              "      <td>0.057034</td>\n",
              "      <td>0.338403</td>\n",
              "      <td>31.787072</td>\n",
              "      <td>24.058935</td>\n",
              "      <td>7.208365</td>\n",
              "      <td>1.541445</td>\n",
              "      <td>31.700380</td>\n",
              "      <td>23.512167</td>\n",
              "      <td>5.479468</td>\n",
              "      <td>1.716730</td>\n",
              "      <td>30.344867</td>\n",
              "      <td>21.292395</td>\n",
              "      <td>6.690494</td>\n",
              "      <td>1.120152</td>\n",
              "      <td>18.991190</td>\n",
              "      <td>2.333150</td>\n",
              "      <td>2.477374</td>\n",
              "      <td>31.899340</td>\n",
              "      <td>23.886882</td>\n",
              "      <td>17.806379</td>\n",
              "      <td>1.950670</td>\n",
              "      <td>30.821993</td>\n",
              "      <td>22.567728</td>\n",
              "      <td>18.691972</td>\n",
              "      <td>2.365529</td>\n",
              "      <td>31.649590</td>\n",
              "      <td>23.437025</td>\n",
              "      <td>2.0</td>\n",
              "      <td>2.019082e+07</td>\n",
              "      <td>24.703574</td>\n",
              "      <td>16.289430</td>\n",
              "      <td>0.031139</td>\n",
              "      <td>0.017751</td>\n",
              "      <td>0.398160</td>\n",
              "      <td>0.003640</td>\n",
              "      <td>8.0</td>\n",
              "      <td>9.882129</td>\n",
              "    </tr>\n",
              "    <tr>\n",
              "      <th rowspan=\"3\" valign=\"top\">elec</th>\n",
              "      <th>6</th>\n",
              "      <td>17951.152709</td>\n",
              "      <td>21.477833</td>\n",
              "      <td>100132.995074</td>\n",
              "      <td>200418.921182</td>\n",
              "      <td>1.446212e+06</td>\n",
              "      <td>1.398123e+07</td>\n",
              "      <td>4.285714</td>\n",
              "      <td>19.359606</td>\n",
              "      <td>15.794913</td>\n",
              "      <td>0.000000</td>\n",
              "      <td>0.733990</td>\n",
              "      <td>28.202463</td>\n",
              "      <td>18.798522</td>\n",
              "      <td>1.178325</td>\n",
              "      <td>2.008867</td>\n",
              "      <td>27.842365</td>\n",
              "      <td>18.143842</td>\n",
              "      <td>0.596552</td>\n",
              "      <td>2.043350</td>\n",
              "      <td>27.532020</td>\n",
              "      <td>16.379310</td>\n",
              "      <td>0.082759</td>\n",
              "      <td>1.490148</td>\n",
              "      <td>13.374384</td>\n",
              "      <td>0.611032</td>\n",
              "      <td>2.152676</td>\n",
              "      <td>27.830179</td>\n",
              "      <td>18.516933</td>\n",
              "      <td>12.048662</td>\n",
              "      <td>0.363106</td>\n",
              "      <td>26.402645</td>\n",
              "      <td>17.485530</td>\n",
              "      <td>12.192617</td>\n",
              "      <td>0.394542</td>\n",
              "      <td>27.597874</td>\n",
              "      <td>17.872229</td>\n",
              "      <td>2.0</td>\n",
              "      <td>2.019062e+07</td>\n",
              "      <td>27.891232</td>\n",
              "      <td>18.201379</td>\n",
              "      <td>0.040994</td>\n",
              "      <td>0.014596</td>\n",
              "      <td>0.351389</td>\n",
              "      <td>0.003151</td>\n",
              "      <td>6.0</td>\n",
              "      <td>19.359606</td>\n",
              "    </tr>\n",
              "    <tr>\n",
              "      <th>7</th>\n",
              "      <td>20474.908096</td>\n",
              "      <td>19.321663</td>\n",
              "      <td>100140.470460</td>\n",
              "      <td>200449.829322</td>\n",
              "      <td>1.424265e+06</td>\n",
              "      <td>1.699429e+07</td>\n",
              "      <td>3.096280</td>\n",
              "      <td>21.240700</td>\n",
              "      <td>18.070451</td>\n",
              "      <td>0.000000</td>\n",
              "      <td>0.299781</td>\n",
              "      <td>30.294748</td>\n",
              "      <td>22.407002</td>\n",
              "      <td>5.014004</td>\n",
              "      <td>1.689278</td>\n",
              "      <td>30.449672</td>\n",
              "      <td>21.927790</td>\n",
              "      <td>3.389716</td>\n",
              "      <td>2.021444</td>\n",
              "      <td>29.386652</td>\n",
              "      <td>20.288840</td>\n",
              "      <td>3.594748</td>\n",
              "      <td>1.367834</td>\n",
              "      <td>29.098973</td>\n",
              "      <td>3.796614</td>\n",
              "      <td>2.968087</td>\n",
              "      <td>30.655303</td>\n",
              "      <td>22.367205</td>\n",
              "      <td>28.284240</td>\n",
              "      <td>3.853766</td>\n",
              "      <td>29.499251</td>\n",
              "      <td>21.179212</td>\n",
              "      <td>28.936042</td>\n",
              "      <td>4.006334</td>\n",
              "      <td>30.335713</td>\n",
              "      <td>22.059108</td>\n",
              "      <td>2.0</td>\n",
              "      <td>2.019071e+07</td>\n",
              "      <td>27.830547</td>\n",
              "      <td>20.529540</td>\n",
              "      <td>0.032449</td>\n",
              "      <td>0.018006</td>\n",
              "      <td>0.407562</td>\n",
              "      <td>0.003503</td>\n",
              "      <td>7.0</td>\n",
              "      <td>21.240700</td>\n",
              "    </tr>\n",
              "    <tr>\n",
              "      <th>8</th>\n",
              "      <td>23642.274011</td>\n",
              "      <td>20.000000</td>\n",
              "      <td>100192.641243</td>\n",
              "      <td>200621.206215</td>\n",
              "      <td>1.437316e+06</td>\n",
              "      <td>2.004555e+07</td>\n",
              "      <td>3.632768</td>\n",
              "      <td>19.968927</td>\n",
              "      <td>22.772822</td>\n",
              "      <td>0.033898</td>\n",
              "      <td>0.437853</td>\n",
              "      <td>32.570056</td>\n",
              "      <td>24.251412</td>\n",
              "      <td>4.252542</td>\n",
              "      <td>1.569774</td>\n",
              "      <td>32.402260</td>\n",
              "      <td>23.790395</td>\n",
              "      <td>2.845480</td>\n",
              "      <td>1.880791</td>\n",
              "      <td>31.221469</td>\n",
              "      <td>21.529379</td>\n",
              "      <td>2.817514</td>\n",
              "      <td>1.191243</td>\n",
              "      <td>19.724233</td>\n",
              "      <td>2.588463</td>\n",
              "      <td>2.448355</td>\n",
              "      <td>32.511845</td>\n",
              "      <td>24.289901</td>\n",
              "      <td>18.659407</td>\n",
              "      <td>2.448707</td>\n",
              "      <td>31.375359</td>\n",
              "      <td>22.954979</td>\n",
              "      <td>19.139898</td>\n",
              "      <td>2.568941</td>\n",
              "      <td>32.118297</td>\n",
              "      <td>23.768891</td>\n",
              "      <td>2.0</td>\n",
              "      <td>2.019081e+07</td>\n",
              "      <td>24.298644</td>\n",
              "      <td>16.058870</td>\n",
              "      <td>0.031112</td>\n",
              "      <td>0.017091</td>\n",
              "      <td>0.390949</td>\n",
              "      <td>0.003594</td>\n",
              "      <td>8.0</td>\n",
              "      <td>19.968927</td>\n",
              "    </tr>\n",
              "    <tr>\n",
              "      <th rowspan=\"3\" valign=\"top\">etc</th>\n",
              "      <th>6</th>\n",
              "      <td>18305.559701</td>\n",
              "      <td>20.000000</td>\n",
              "      <td>100534.731343</td>\n",
              "      <td>201587.253731</td>\n",
              "      <td>1.832425e+05</td>\n",
              "      <td>1.438279e+07</td>\n",
              "      <td>2.917910</td>\n",
              "      <td>6.955224</td>\n",
              "      <td>274.467137</td>\n",
              "      <td>0.000000</td>\n",
              "      <td>0.268657</td>\n",
              "      <td>29.152985</td>\n",
              "      <td>19.916418</td>\n",
              "      <td>1.132836</td>\n",
              "      <td>1.593284</td>\n",
              "      <td>28.868657</td>\n",
              "      <td>19.066418</td>\n",
              "      <td>0.627612</td>\n",
              "      <td>1.818657</td>\n",
              "      <td>27.563433</td>\n",
              "      <td>16.932090</td>\n",
              "      <td>1.656716</td>\n",
              "      <td>1.170896</td>\n",
              "      <td>21.251008</td>\n",
              "      <td>1.216320</td>\n",
              "      <td>2.743546</td>\n",
              "      <td>28.961901</td>\n",
              "      <td>19.898787</td>\n",
              "      <td>20.553651</td>\n",
              "      <td>0.975255</td>\n",
              "      <td>27.690888</td>\n",
              "      <td>18.807369</td>\n",
              "      <td>21.213998</td>\n",
              "      <td>1.162510</td>\n",
              "      <td>28.690102</td>\n",
              "      <td>19.756530</td>\n",
              "      <td>2.0</td>\n",
              "      <td>2.019062e+07</td>\n",
              "      <td>27.055821</td>\n",
              "      <td>19.241791</td>\n",
              "      <td>0.038504</td>\n",
              "      <td>0.021527</td>\n",
              "      <td>0.382687</td>\n",
              "      <td>0.003589</td>\n",
              "      <td>6.0</td>\n",
              "      <td>6.955224</td>\n",
              "    </tr>\n",
              "    <tr>\n",
              "      <th>7</th>\n",
              "      <td>20849.561404</td>\n",
              "      <td>23.059211</td>\n",
              "      <td>100318.250000</td>\n",
              "      <td>200960.861842</td>\n",
              "      <td>5.104781e+05</td>\n",
              "      <td>1.511223e+07</td>\n",
              "      <td>2.962719</td>\n",
              "      <td>9.706140</td>\n",
              "      <td>227.710818</td>\n",
              "      <td>0.000000</td>\n",
              "      <td>0.271930</td>\n",
              "      <td>30.041886</td>\n",
              "      <td>23.174342</td>\n",
              "      <td>7.335526</td>\n",
              "      <td>1.764474</td>\n",
              "      <td>30.235746</td>\n",
              "      <td>22.794737</td>\n",
              "      <td>7.377193</td>\n",
              "      <td>2.000219</td>\n",
              "      <td>29.277851</td>\n",
              "      <td>21.332675</td>\n",
              "      <td>11.522807</td>\n",
              "      <td>1.434868</td>\n",
              "      <td>36.128548</td>\n",
              "      <td>5.981648</td>\n",
              "      <td>3.272181</td>\n",
              "      <td>30.238227</td>\n",
              "      <td>23.114172</td>\n",
              "      <td>35.549664</td>\n",
              "      <td>6.090893</td>\n",
              "      <td>29.162896</td>\n",
              "      <td>22.178728</td>\n",
              "      <td>35.479248</td>\n",
              "      <td>6.110630</td>\n",
              "      <td>30.075254</td>\n",
              "      <td>22.949013</td>\n",
              "      <td>2.0</td>\n",
              "      <td>2.019072e+07</td>\n",
              "      <td>27.265702</td>\n",
              "      <td>19.897982</td>\n",
              "      <td>0.029861</td>\n",
              "      <td>0.018261</td>\n",
              "      <td>0.403614</td>\n",
              "      <td>0.003475</td>\n",
              "      <td>7.0</td>\n",
              "      <td>9.706140</td>\n",
              "    </tr>\n",
              "    <tr>\n",
              "      <th>8</th>\n",
              "      <td>23711.907767</td>\n",
              "      <td>23.046117</td>\n",
              "      <td>100543.104369</td>\n",
              "      <td>201605.529126</td>\n",
              "      <td>6.796172e+05</td>\n",
              "      <td>1.409471e+07</td>\n",
              "      <td>3.152913</td>\n",
              "      <td>10.929612</td>\n",
              "      <td>176.488231</td>\n",
              "      <td>0.063107</td>\n",
              "      <td>0.373786</td>\n",
              "      <td>31.916019</td>\n",
              "      <td>23.601456</td>\n",
              "      <td>5.728155</td>\n",
              "      <td>1.545146</td>\n",
              "      <td>31.895874</td>\n",
              "      <td>23.106068</td>\n",
              "      <td>4.393689</td>\n",
              "      <td>1.741505</td>\n",
              "      <td>30.373058</td>\n",
              "      <td>20.989563</td>\n",
              "      <td>5.903155</td>\n",
              "      <td>1.117961</td>\n",
              "      <td>18.376626</td>\n",
              "      <td>2.097119</td>\n",
              "      <td>2.436456</td>\n",
              "      <td>32.106938</td>\n",
              "      <td>23.953883</td>\n",
              "      <td>17.291037</td>\n",
              "      <td>1.885060</td>\n",
              "      <td>30.988155</td>\n",
              "      <td>22.546117</td>\n",
              "      <td>18.040851</td>\n",
              "      <td>2.178319</td>\n",
              "      <td>31.842929</td>\n",
              "      <td>23.463289</td>\n",
              "      <td>2.0</td>\n",
              "      <td>2.019081e+07</td>\n",
              "      <td>22.136990</td>\n",
              "      <td>14.321845</td>\n",
              "      <td>0.028598</td>\n",
              "      <td>0.017145</td>\n",
              "      <td>0.388010</td>\n",
              "      <td>0.003563</td>\n",
              "      <td>8.0</td>\n",
              "      <td>10.929612</td>\n",
              "    </tr>\n",
              "    <tr>\n",
              "      <th rowspan=\"3\" valign=\"top\">food</th>\n",
              "      <th>6</th>\n",
              "      <td>18176.581818</td>\n",
              "      <td>20.118182</td>\n",
              "      <td>100384.272727</td>\n",
              "      <td>201240.109091</td>\n",
              "      <td>5.000182e+04</td>\n",
              "      <td>4.465272e+07</td>\n",
              "      <td>2.627273</td>\n",
              "      <td>16.254545</td>\n",
              "      <td>936.900236</td>\n",
              "      <td>0.000000</td>\n",
              "      <td>0.190909</td>\n",
              "      <td>28.367273</td>\n",
              "      <td>19.682727</td>\n",
              "      <td>1.430000</td>\n",
              "      <td>1.752727</td>\n",
              "      <td>28.392727</td>\n",
              "      <td>18.894545</td>\n",
              "      <td>0.456364</td>\n",
              "      <td>1.814545</td>\n",
              "      <td>27.113636</td>\n",
              "      <td>17.242727</td>\n",
              "      <td>1.952727</td>\n",
              "      <td>1.216364</td>\n",
              "      <td>22.251229</td>\n",
              "      <td>1.401316</td>\n",
              "      <td>2.802887</td>\n",
              "      <td>28.387081</td>\n",
              "      <td>19.447159</td>\n",
              "      <td>21.609337</td>\n",
              "      <td>1.115431</td>\n",
              "      <td>27.165072</td>\n",
              "      <td>18.500000</td>\n",
              "      <td>21.548710</td>\n",
              "      <td>1.181938</td>\n",
              "      <td>28.237321</td>\n",
              "      <td>19.239773</td>\n",
              "      <td>2.0</td>\n",
              "      <td>2.019062e+07</td>\n",
              "      <td>28.472364</td>\n",
              "      <td>20.185091</td>\n",
              "      <td>0.039540</td>\n",
              "      <td>0.020299</td>\n",
              "      <td>0.382509</td>\n",
              "      <td>0.003539</td>\n",
              "      <td>6.0</td>\n",
              "      <td>16.254545</td>\n",
              "    </tr>\n",
              "    <tr>\n",
              "      <th>7</th>\n",
              "      <td>20676.000000</td>\n",
              "      <td>19.941520</td>\n",
              "      <td>100393.245614</td>\n",
              "      <td>201253.292398</td>\n",
              "      <td>4.773977e+04</td>\n",
              "      <td>4.217203e+07</td>\n",
              "      <td>2.774854</td>\n",
              "      <td>15.640351</td>\n",
              "      <td>927.736222</td>\n",
              "      <td>0.000000</td>\n",
              "      <td>0.260234</td>\n",
              "      <td>30.145322</td>\n",
              "      <td>22.811404</td>\n",
              "      <td>7.064620</td>\n",
              "      <td>1.858187</td>\n",
              "      <td>30.350000</td>\n",
              "      <td>22.445614</td>\n",
              "      <td>6.572222</td>\n",
              "      <td>2.105848</td>\n",
              "      <td>29.259357</td>\n",
              "      <td>20.789766</td>\n",
              "      <td>8.724561</td>\n",
              "      <td>1.467544</td>\n",
              "      <td>31.723642</td>\n",
              "      <td>4.642351</td>\n",
              "      <td>3.073037</td>\n",
              "      <td>30.436083</td>\n",
              "      <td>22.773940</td>\n",
              "      <td>31.324736</td>\n",
              "      <td>4.766082</td>\n",
              "      <td>29.258045</td>\n",
              "      <td>21.727364</td>\n",
              "      <td>30.935156</td>\n",
              "      <td>4.778124</td>\n",
              "      <td>30.207551</td>\n",
              "      <td>22.565010</td>\n",
              "      <td>2.0</td>\n",
              "      <td>2.019072e+07</td>\n",
              "      <td>24.920585</td>\n",
              "      <td>17.758480</td>\n",
              "      <td>0.030133</td>\n",
              "      <td>0.017419</td>\n",
              "      <td>0.385544</td>\n",
              "      <td>0.003445</td>\n",
              "      <td>7.0</td>\n",
              "      <td>15.640351</td>\n",
              "    </tr>\n",
              "    <tr>\n",
              "      <th>8</th>\n",
              "      <td>24129.831014</td>\n",
              "      <td>19.860835</td>\n",
              "      <td>100384.186879</td>\n",
              "      <td>201197.491054</td>\n",
              "      <td>4.541491e+04</td>\n",
              "      <td>4.172044e+07</td>\n",
              "      <td>2.958250</td>\n",
              "      <td>15.377734</td>\n",
              "      <td>964.769635</td>\n",
              "      <td>0.035785</td>\n",
              "      <td>0.302187</td>\n",
              "      <td>30.996223</td>\n",
              "      <td>23.128429</td>\n",
              "      <td>7.926243</td>\n",
              "      <td>1.604573</td>\n",
              "      <td>30.836382</td>\n",
              "      <td>22.581710</td>\n",
              "      <td>4.855467</td>\n",
              "      <td>1.797614</td>\n",
              "      <td>29.736978</td>\n",
              "      <td>20.389662</td>\n",
              "      <td>5.721471</td>\n",
              "      <td>1.139960</td>\n",
              "      <td>19.344932</td>\n",
              "      <td>1.993696</td>\n",
              "      <td>2.563570</td>\n",
              "      <td>31.163685</td>\n",
              "      <td>23.147490</td>\n",
              "      <td>17.606353</td>\n",
              "      <td>1.711834</td>\n",
              "      <td>30.171218</td>\n",
              "      <td>21.759940</td>\n",
              "      <td>18.907838</td>\n",
              "      <td>1.967108</td>\n",
              "      <td>30.932022</td>\n",
              "      <td>22.687997</td>\n",
              "      <td>2.0</td>\n",
              "      <td>2.019082e+07</td>\n",
              "      <td>24.611610</td>\n",
              "      <td>16.122942</td>\n",
              "      <td>0.031746</td>\n",
              "      <td>0.017972</td>\n",
              "      <td>0.410537</td>\n",
              "      <td>0.003623</td>\n",
              "      <td>8.0</td>\n",
              "      <td>15.377734</td>\n",
              "    </tr>\n",
              "    <tr>\n",
              "      <th rowspan=\"3\" valign=\"top\">furniture</th>\n",
              "      <th>6</th>\n",
              "      <td>18181.358696</td>\n",
              "      <td>20.000000</td>\n",
              "      <td>100307.282609</td>\n",
              "      <td>200996.913043</td>\n",
              "      <td>6.441630e+05</td>\n",
              "      <td>1.404434e+07</td>\n",
              "      <td>3.304348</td>\n",
              "      <td>20.967391</td>\n",
              "      <td>23.190700</td>\n",
              "      <td>0.000000</td>\n",
              "      <td>0.380435</td>\n",
              "      <td>26.796739</td>\n",
              "      <td>19.016304</td>\n",
              "      <td>1.679348</td>\n",
              "      <td>1.748913</td>\n",
              "      <td>27.085870</td>\n",
              "      <td>18.633696</td>\n",
              "      <td>1.118478</td>\n",
              "      <td>1.634783</td>\n",
              "      <td>25.757609</td>\n",
              "      <td>17.402174</td>\n",
              "      <td>2.456522</td>\n",
              "      <td>1.282609</td>\n",
              "      <td>20.482521</td>\n",
              "      <td>1.116991</td>\n",
              "      <td>2.624927</td>\n",
              "      <td>27.581236</td>\n",
              "      <td>19.082880</td>\n",
              "      <td>19.886163</td>\n",
              "      <td>0.986842</td>\n",
              "      <td>26.397025</td>\n",
              "      <td>18.258152</td>\n",
              "      <td>19.555670</td>\n",
              "      <td>0.862271</td>\n",
              "      <td>27.477117</td>\n",
              "      <td>18.923913</td>\n",
              "      <td>2.0</td>\n",
              "      <td>2.019062e+07</td>\n",
              "      <td>28.321304</td>\n",
              "      <td>21.161304</td>\n",
              "      <td>0.036251</td>\n",
              "      <td>0.018544</td>\n",
              "      <td>0.383522</td>\n",
              "      <td>0.003629</td>\n",
              "      <td>6.0</td>\n",
              "      <td>20.967391</td>\n",
              "    </tr>\n",
              "    <tr>\n",
              "      <th>7</th>\n",
              "      <td>20420.643617</td>\n",
              "      <td>20.000000</td>\n",
              "      <td>100309.505319</td>\n",
              "      <td>200999.920213</td>\n",
              "      <td>6.930851e+05</td>\n",
              "      <td>1.282073e+07</td>\n",
              "      <td>1.696809</td>\n",
              "      <td>21.632979</td>\n",
              "      <td>20.095313</td>\n",
              "      <td>0.000000</td>\n",
              "      <td>0.090426</td>\n",
              "      <td>29.900532</td>\n",
              "      <td>22.107979</td>\n",
              "      <td>5.023936</td>\n",
              "      <td>1.883511</td>\n",
              "      <td>29.816489</td>\n",
              "      <td>21.625532</td>\n",
              "      <td>2.927660</td>\n",
              "      <td>1.952660</td>\n",
              "      <td>29.146277</td>\n",
              "      <td>19.833511</td>\n",
              "      <td>3.570213</td>\n",
              "      <td>1.384574</td>\n",
              "      <td>29.422918</td>\n",
              "      <td>3.583077</td>\n",
              "      <td>3.013191</td>\n",
              "      <td>30.362729</td>\n",
              "      <td>22.315492</td>\n",
              "      <td>28.529943</td>\n",
              "      <td>3.513858</td>\n",
              "      <td>28.998911</td>\n",
              "      <td>21.274246</td>\n",
              "      <td>28.649125</td>\n",
              "      <td>3.651946</td>\n",
              "      <td>29.951474</td>\n",
              "      <td>22.078502</td>\n",
              "      <td>2.0</td>\n",
              "      <td>2.019071e+07</td>\n",
              "      <td>27.837872</td>\n",
              "      <td>20.262128</td>\n",
              "      <td>0.033250</td>\n",
              "      <td>0.017420</td>\n",
              "      <td>0.392766</td>\n",
              "      <td>0.003513</td>\n",
              "      <td>7.0</td>\n",
              "      <td>21.632979</td>\n",
              "    </tr>\n",
              "    <tr>\n",
              "      <th>8</th>\n",
              "      <td>23578.060773</td>\n",
              "      <td>20.000000</td>\n",
              "      <td>100233.430939</td>\n",
              "      <td>200796.082873</td>\n",
              "      <td>7.474475e+05</td>\n",
              "      <td>1.422559e+07</td>\n",
              "      <td>2.563536</td>\n",
              "      <td>21.138122</td>\n",
              "      <td>21.301611</td>\n",
              "      <td>0.049724</td>\n",
              "      <td>0.281768</td>\n",
              "      <td>32.091160</td>\n",
              "      <td>24.216022</td>\n",
              "      <td>9.799448</td>\n",
              "      <td>1.515470</td>\n",
              "      <td>32.066851</td>\n",
              "      <td>23.696685</td>\n",
              "      <td>7.269061</td>\n",
              "      <td>1.729834</td>\n",
              "      <td>30.715470</td>\n",
              "      <td>21.714365</td>\n",
              "      <td>11.781215</td>\n",
              "      <td>1.146961</td>\n",
              "      <td>20.599190</td>\n",
              "      <td>2.810773</td>\n",
              "      <td>2.582354</td>\n",
              "      <td>32.905043</td>\n",
              "      <td>24.707528</td>\n",
              "      <td>19.272981</td>\n",
              "      <td>1.862460</td>\n",
              "      <td>31.743417</td>\n",
              "      <td>23.268301</td>\n",
              "      <td>19.835052</td>\n",
              "      <td>2.810463</td>\n",
              "      <td>32.501244</td>\n",
              "      <td>24.217887</td>\n",
              "      <td>2.0</td>\n",
              "      <td>2.019081e+07</td>\n",
              "      <td>24.693039</td>\n",
              "      <td>16.730608</td>\n",
              "      <td>0.029331</td>\n",
              "      <td>0.017561</td>\n",
              "      <td>0.384133</td>\n",
              "      <td>0.003604</td>\n",
              "      <td>8.0</td>\n",
              "      <td>21.138122</td>\n",
              "    </tr>\n",
              "    <tr>\n",
              "      <th rowspan=\"3\" valign=\"top\">health</th>\n",
              "      <th>6</th>\n",
              "      <td>18273.500000</td>\n",
              "      <td>19.883333</td>\n",
              "      <td>100376.250000</td>\n",
              "      <td>201143.400000</td>\n",
              "      <td>7.938750e+04</td>\n",
              "      <td>3.032107e+07</td>\n",
              "      <td>2.900000</td>\n",
              "      <td>11.650000</td>\n",
              "      <td>451.222964</td>\n",
              "      <td>0.000000</td>\n",
              "      <td>0.250000</td>\n",
              "      <td>29.605000</td>\n",
              "      <td>19.800000</td>\n",
              "      <td>1.330000</td>\n",
              "      <td>1.560000</td>\n",
              "      <td>29.025000</td>\n",
              "      <td>18.910000</td>\n",
              "      <td>0.565000</td>\n",
              "      <td>1.630000</td>\n",
              "      <td>28.745000</td>\n",
              "      <td>17.835000</td>\n",
              "      <td>1.260000</td>\n",
              "      <td>1.065000</td>\n",
              "      <td>24.817568</td>\n",
              "      <td>1.593421</td>\n",
              "      <td>3.062162</td>\n",
              "      <td>28.292105</td>\n",
              "      <td>20.059375</td>\n",
              "      <td>23.489865</td>\n",
              "      <td>0.846711</td>\n",
              "      <td>27.021053</td>\n",
              "      <td>18.893750</td>\n",
              "      <td>24.731081</td>\n",
              "      <td>1.521711</td>\n",
              "      <td>28.086842</td>\n",
              "      <td>19.687500</td>\n",
              "      <td>2.0</td>\n",
              "      <td>2.019062e+07</td>\n",
              "      <td>23.488000</td>\n",
              "      <td>16.422000</td>\n",
              "      <td>0.040356</td>\n",
              "      <td>0.019346</td>\n",
              "      <td>0.359000</td>\n",
              "      <td>0.003468</td>\n",
              "      <td>6.0</td>\n",
              "      <td>11.650000</td>\n",
              "    </tr>\n",
              "    <tr>\n",
              "      <th>7</th>\n",
              "      <td>20560.086957</td>\n",
              "      <td>19.927536</td>\n",
              "      <td>100337.956522</td>\n",
              "      <td>201022.565217</td>\n",
              "      <td>8.463696e+04</td>\n",
              "      <td>2.779207e+07</td>\n",
              "      <td>2.260870</td>\n",
              "      <td>11.260870</td>\n",
              "      <td>408.675981</td>\n",
              "      <td>0.000000</td>\n",
              "      <td>0.130435</td>\n",
              "      <td>28.678261</td>\n",
              "      <td>22.000000</td>\n",
              "      <td>9.443478</td>\n",
              "      <td>1.760870</td>\n",
              "      <td>29.178261</td>\n",
              "      <td>21.934783</td>\n",
              "      <td>8.026087</td>\n",
              "      <td>2.039130</td>\n",
              "      <td>27.569565</td>\n",
              "      <td>20.169565</td>\n",
              "      <td>9.582609</td>\n",
              "      <td>1.473913</td>\n",
              "      <td>31.133900</td>\n",
              "      <td>4.624142</td>\n",
              "      <td>3.121052</td>\n",
              "      <td>30.193745</td>\n",
              "      <td>22.440217</td>\n",
              "      <td>30.303005</td>\n",
              "      <td>4.673341</td>\n",
              "      <td>28.898805</td>\n",
              "      <td>21.266123</td>\n",
              "      <td>30.831315</td>\n",
              "      <td>4.913043</td>\n",
              "      <td>29.790999</td>\n",
              "      <td>22.100906</td>\n",
              "      <td>2.0</td>\n",
              "      <td>2.019072e+07</td>\n",
              "      <td>23.638261</td>\n",
              "      <td>16.836522</td>\n",
              "      <td>0.030532</td>\n",
              "      <td>0.017386</td>\n",
              "      <td>0.387652</td>\n",
              "      <td>0.003297</td>\n",
              "      <td>7.0</td>\n",
              "      <td>11.260870</td>\n",
              "    </tr>\n",
              "    <tr>\n",
              "      <th>8</th>\n",
              "      <td>24193.914894</td>\n",
              "      <td>20.000000</td>\n",
              "      <td>100446.234043</td>\n",
              "      <td>201348.659574</td>\n",
              "      <td>9.103617e+04</td>\n",
              "      <td>2.114021e+07</td>\n",
              "      <td>4.042553</td>\n",
              "      <td>10.361702</td>\n",
              "      <td>271.627928</td>\n",
              "      <td>0.000000</td>\n",
              "      <td>0.425532</td>\n",
              "      <td>30.089362</td>\n",
              "      <td>22.648936</td>\n",
              "      <td>1.282979</td>\n",
              "      <td>1.687234</td>\n",
              "      <td>29.989362</td>\n",
              "      <td>21.865957</td>\n",
              "      <td>0.357447</td>\n",
              "      <td>1.806383</td>\n",
              "      <td>29.221277</td>\n",
              "      <td>19.085106</td>\n",
              "      <td>1.085106</td>\n",
              "      <td>0.968085</td>\n",
              "      <td>15.161012</td>\n",
              "      <td>2.222844</td>\n",
              "      <td>2.182289</td>\n",
              "      <td>31.329227</td>\n",
              "      <td>22.563830</td>\n",
              "      <td>13.678838</td>\n",
              "      <td>1.529955</td>\n",
              "      <td>30.285554</td>\n",
              "      <td>21.109043</td>\n",
              "      <td>15.169638</td>\n",
              "      <td>2.160414</td>\n",
              "      <td>30.980963</td>\n",
              "      <td>21.978723</td>\n",
              "      <td>2.0</td>\n",
              "      <td>2.019082e+07</td>\n",
              "      <td>23.872340</td>\n",
              "      <td>13.974468</td>\n",
              "      <td>0.027271</td>\n",
              "      <td>0.018544</td>\n",
              "      <td>0.402468</td>\n",
              "      <td>0.003723</td>\n",
              "      <td>8.0</td>\n",
              "      <td>10.361702</td>\n",
              "    </tr>\n",
              "    <tr>\n",
              "      <th rowspan=\"3\" valign=\"top\">inner</th>\n",
              "      <th>6</th>\n",
              "      <td>18151.587940</td>\n",
              "      <td>20.562814</td>\n",
              "      <td>100352.768844</td>\n",
              "      <td>201090.452261</td>\n",
              "      <td>9.318090e+04</td>\n",
              "      <td>3.855750e+07</td>\n",
              "      <td>3.316583</td>\n",
              "      <td>14.407035</td>\n",
              "      <td>420.219390</td>\n",
              "      <td>0.000000</td>\n",
              "      <td>0.331658</td>\n",
              "      <td>28.596985</td>\n",
              "      <td>19.306533</td>\n",
              "      <td>1.731658</td>\n",
              "      <td>1.685427</td>\n",
              "      <td>28.634171</td>\n",
              "      <td>18.602010</td>\n",
              "      <td>0.383920</td>\n",
              "      <td>1.776884</td>\n",
              "      <td>27.443216</td>\n",
              "      <td>16.897487</td>\n",
              "      <td>2.379899</td>\n",
              "      <td>1.251256</td>\n",
              "      <td>21.176491</td>\n",
              "      <td>1.335625</td>\n",
              "      <td>2.725825</td>\n",
              "      <td>28.355197</td>\n",
              "      <td>19.407349</td>\n",
              "      <td>20.119856</td>\n",
              "      <td>0.969981</td>\n",
              "      <td>27.033853</td>\n",
              "      <td>18.342965</td>\n",
              "      <td>20.507232</td>\n",
              "      <td>1.136802</td>\n",
              "      <td>28.165829</td>\n",
              "      <td>19.119661</td>\n",
              "      <td>2.0</td>\n",
              "      <td>2.019062e+07</td>\n",
              "      <td>26.086633</td>\n",
              "      <td>18.429347</td>\n",
              "      <td>0.040086</td>\n",
              "      <td>0.018666</td>\n",
              "      <td>0.369588</td>\n",
              "      <td>0.003388</td>\n",
              "      <td>6.0</td>\n",
              "      <td>14.407035</td>\n",
              "    </tr>\n",
              "    <tr>\n",
              "      <th>7</th>\n",
              "      <td>20432.713115</td>\n",
              "      <td>19.459016</td>\n",
              "      <td>100400.510929</td>\n",
              "      <td>201255.251366</td>\n",
              "      <td>8.290820e+04</td>\n",
              "      <td>2.487246e+07</td>\n",
              "      <td>2.756831</td>\n",
              "      <td>13.418033</td>\n",
              "      <td>334.813060</td>\n",
              "      <td>0.000000</td>\n",
              "      <td>0.226776</td>\n",
              "      <td>30.135246</td>\n",
              "      <td>22.401366</td>\n",
              "      <td>4.560929</td>\n",
              "      <td>1.943169</td>\n",
              "      <td>30.347268</td>\n",
              "      <td>22.084699</td>\n",
              "      <td>6.032240</td>\n",
              "      <td>2.185519</td>\n",
              "      <td>29.198087</td>\n",
              "      <td>20.235246</td>\n",
              "      <td>8.411749</td>\n",
              "      <td>1.499454</td>\n",
              "      <td>29.245292</td>\n",
              "      <td>3.989574</td>\n",
              "      <td>2.947484</td>\n",
              "      <td>30.496021</td>\n",
              "      <td>22.424180</td>\n",
              "      <td>28.707856</td>\n",
              "      <td>3.967716</td>\n",
              "      <td>29.241140</td>\n",
              "      <td>21.299636</td>\n",
              "      <td>28.401805</td>\n",
              "      <td>4.038072</td>\n",
              "      <td>30.216614</td>\n",
              "      <td>22.120332</td>\n",
              "      <td>2.0</td>\n",
              "      <td>2.019071e+07</td>\n",
              "      <td>23.919235</td>\n",
              "      <td>16.873661</td>\n",
              "      <td>0.030776</td>\n",
              "      <td>0.016566</td>\n",
              "      <td>0.373060</td>\n",
              "      <td>0.003438</td>\n",
              "      <td>7.0</td>\n",
              "      <td>13.418033</td>\n",
              "    </tr>\n",
              "    <tr>\n",
              "      <th>8</th>\n",
              "      <td>23907.338658</td>\n",
              "      <td>19.709265</td>\n",
              "      <td>100420.453674</td>\n",
              "      <td>201305.057508</td>\n",
              "      <td>6.107316e+04</td>\n",
              "      <td>2.697955e+07</td>\n",
              "      <td>2.942492</td>\n",
              "      <td>11.642173</td>\n",
              "      <td>539.230071</td>\n",
              "      <td>0.009585</td>\n",
              "      <td>0.261981</td>\n",
              "      <td>31.884026</td>\n",
              "      <td>23.692013</td>\n",
              "      <td>4.774760</td>\n",
              "      <td>1.626518</td>\n",
              "      <td>31.619489</td>\n",
              "      <td>23.202236</td>\n",
              "      <td>2.454952</td>\n",
              "      <td>1.775719</td>\n",
              "      <td>30.446645</td>\n",
              "      <td>20.920447</td>\n",
              "      <td>5.467412</td>\n",
              "      <td>1.133866</td>\n",
              "      <td>20.070484</td>\n",
              "      <td>2.526694</td>\n",
              "      <td>2.578825</td>\n",
              "      <td>31.637745</td>\n",
              "      <td>23.572883</td>\n",
              "      <td>18.118021</td>\n",
              "      <td>1.940895</td>\n",
              "      <td>30.610924</td>\n",
              "      <td>22.216054</td>\n",
              "      <td>19.515454</td>\n",
              "      <td>2.523667</td>\n",
              "      <td>31.357771</td>\n",
              "      <td>23.117812</td>\n",
              "      <td>2.0</td>\n",
              "      <td>2.019082e+07</td>\n",
              "      <td>25.254185</td>\n",
              "      <td>16.497891</td>\n",
              "      <td>0.031956</td>\n",
              "      <td>0.017851</td>\n",
              "      <td>0.407629</td>\n",
              "      <td>0.003632</td>\n",
              "      <td>8.0</td>\n",
              "      <td>11.642173</td>\n",
              "    </tr>\n",
              "    <tr>\n",
              "      <th rowspan=\"3\" valign=\"top\">life</th>\n",
              "      <th>6</th>\n",
              "      <td>18191.071429</td>\n",
              "      <td>18.107143</td>\n",
              "      <td>100520.642857</td>\n",
              "      <td>201589.785714</td>\n",
              "      <td>9.661429e+04</td>\n",
              "      <td>2.464754e+07</td>\n",
              "      <td>1.928571</td>\n",
              "      <td>7.357143</td>\n",
              "      <td>351.026690</td>\n",
              "      <td>0.000000</td>\n",
              "      <td>0.107143</td>\n",
              "      <td>28.757143</td>\n",
              "      <td>19.935714</td>\n",
              "      <td>0.042857</td>\n",
              "      <td>1.867857</td>\n",
              "      <td>28.900000</td>\n",
              "      <td>18.782143</td>\n",
              "      <td>0.096429</td>\n",
              "      <td>1.882143</td>\n",
              "      <td>27.578571</td>\n",
              "      <td>16.985714</td>\n",
              "      <td>0.000000</td>\n",
              "      <td>1.264286</td>\n",
              "      <td>18.021236</td>\n",
              "      <td>1.201128</td>\n",
              "      <td>2.450290</td>\n",
              "      <td>29.227444</td>\n",
              "      <td>19.482143</td>\n",
              "      <td>18.091216</td>\n",
              "      <td>1.095395</td>\n",
              "      <td>27.954887</td>\n",
              "      <td>18.241071</td>\n",
              "      <td>16.744450</td>\n",
              "      <td>0.945959</td>\n",
              "      <td>29.272556</td>\n",
              "      <td>19.176339</td>\n",
              "      <td>2.0</td>\n",
              "      <td>2.019062e+07</td>\n",
              "      <td>27.774286</td>\n",
              "      <td>19.380000</td>\n",
              "      <td>0.041387</td>\n",
              "      <td>0.020301</td>\n",
              "      <td>0.370429</td>\n",
              "      <td>0.003544</td>\n",
              "      <td>6.0</td>\n",
              "      <td>7.357143</td>\n",
              "    </tr>\n",
              "    <tr>\n",
              "      <th>7</th>\n",
              "      <td>20994.962687</td>\n",
              "      <td>22.694030</td>\n",
              "      <td>100435.410448</td>\n",
              "      <td>201323.850746</td>\n",
              "      <td>1.774582e+05</td>\n",
              "      <td>1.700541e+07</td>\n",
              "      <td>2.932836</td>\n",
              "      <td>12.470149</td>\n",
              "      <td>165.753930</td>\n",
              "      <td>0.000000</td>\n",
              "      <td>0.283582</td>\n",
              "      <td>30.920149</td>\n",
              "      <td>23.379851</td>\n",
              "      <td>6.944776</td>\n",
              "      <td>1.863433</td>\n",
              "      <td>31.376119</td>\n",
              "      <td>23.252985</td>\n",
              "      <td>10.837313</td>\n",
              "      <td>1.999254</td>\n",
              "      <td>30.000000</td>\n",
              "      <td>21.629104</td>\n",
              "      <td>12.995522</td>\n",
              "      <td>1.475373</td>\n",
              "      <td>32.765969</td>\n",
              "      <td>4.463767</td>\n",
              "      <td>3.183471</td>\n",
              "      <td>30.620581</td>\n",
              "      <td>23.537313</td>\n",
              "      <td>32.980392</td>\n",
              "      <td>4.693539</td>\n",
              "      <td>29.398926</td>\n",
              "      <td>22.586474</td>\n",
              "      <td>31.841201</td>\n",
              "      <td>4.683229</td>\n",
              "      <td>30.426159</td>\n",
              "      <td>23.406810</td>\n",
              "      <td>2.0</td>\n",
              "      <td>2.019072e+07</td>\n",
              "      <td>28.882687</td>\n",
              "      <td>21.009552</td>\n",
              "      <td>0.032202</td>\n",
              "      <td>0.018221</td>\n",
              "      <td>0.405343</td>\n",
              "      <td>0.003603</td>\n",
              "      <td>7.0</td>\n",
              "      <td>12.470149</td>\n",
              "    </tr>\n",
              "    <tr>\n",
              "      <th>8</th>\n",
              "      <td>23997.876866</td>\n",
              "      <td>25.335821</td>\n",
              "      <td>100650.018657</td>\n",
              "      <td>201917.134328</td>\n",
              "      <td>2.109959e+05</td>\n",
              "      <td>1.462313e+07</td>\n",
              "      <td>3.242537</td>\n",
              "      <td>15.559701</td>\n",
              "      <td>112.513579</td>\n",
              "      <td>0.085821</td>\n",
              "      <td>0.361940</td>\n",
              "      <td>31.120896</td>\n",
              "      <td>23.319776</td>\n",
              "      <td>7.232090</td>\n",
              "      <td>1.683582</td>\n",
              "      <td>31.025000</td>\n",
              "      <td>22.812313</td>\n",
              "      <td>5.788060</td>\n",
              "      <td>1.882463</td>\n",
              "      <td>29.752985</td>\n",
              "      <td>20.430597</td>\n",
              "      <td>6.633209</td>\n",
              "      <td>1.194403</td>\n",
              "      <td>18.468563</td>\n",
              "      <td>1.783435</td>\n",
              "      <td>2.500119</td>\n",
              "      <td>31.384961</td>\n",
              "      <td>23.400886</td>\n",
              "      <td>16.837436</td>\n",
              "      <td>1.629271</td>\n",
              "      <td>30.314033</td>\n",
              "      <td>22.038013</td>\n",
              "      <td>18.009249</td>\n",
              "      <td>1.748746</td>\n",
              "      <td>31.138234</td>\n",
              "      <td>22.933069</td>\n",
              "      <td>2.0</td>\n",
              "      <td>2.019082e+07</td>\n",
              "      <td>23.485821</td>\n",
              "      <td>15.139851</td>\n",
              "      <td>0.030585</td>\n",
              "      <td>0.016854</td>\n",
              "      <td>0.399164</td>\n",
              "      <td>0.003637</td>\n",
              "      <td>8.0</td>\n",
              "      <td>15.559701</td>\n",
              "    </tr>\n",
              "    <tr>\n",
              "      <th rowspan=\"3\" valign=\"top\">living</th>\n",
              "      <th>6</th>\n",
              "      <td>18224.980159</td>\n",
              "      <td>21.190476</td>\n",
              "      <td>100487.067460</td>\n",
              "      <td>201455.793651</td>\n",
              "      <td>1.607167e+05</td>\n",
              "      <td>2.124730e+07</td>\n",
              "      <td>3.567460</td>\n",
              "      <td>14.313492</td>\n",
              "      <td>204.178906</td>\n",
              "      <td>0.000000</td>\n",
              "      <td>0.444444</td>\n",
              "      <td>28.539286</td>\n",
              "      <td>19.343254</td>\n",
              "      <td>0.873413</td>\n",
              "      <td>1.792460</td>\n",
              "      <td>28.576587</td>\n",
              "      <td>18.365079</td>\n",
              "      <td>0.362302</td>\n",
              "      <td>1.828571</td>\n",
              "      <td>27.348810</td>\n",
              "      <td>16.439286</td>\n",
              "      <td>1.339683</td>\n",
              "      <td>1.359921</td>\n",
              "      <td>17.784213</td>\n",
              "      <td>1.045322</td>\n",
              "      <td>2.418195</td>\n",
              "      <td>28.716374</td>\n",
              "      <td>19.419395</td>\n",
              "      <td>17.245817</td>\n",
              "      <td>0.918181</td>\n",
              "      <td>27.246241</td>\n",
              "      <td>18.253224</td>\n",
              "      <td>17.040728</td>\n",
              "      <td>0.907581</td>\n",
              "      <td>28.474937</td>\n",
              "      <td>19.109623</td>\n",
              "      <td>2.0</td>\n",
              "      <td>2.019062e+07</td>\n",
              "      <td>26.032540</td>\n",
              "      <td>18.696667</td>\n",
              "      <td>0.039752</td>\n",
              "      <td>0.018001</td>\n",
              "      <td>0.365698</td>\n",
              "      <td>0.003508</td>\n",
              "      <td>6.0</td>\n",
              "      <td>14.313492</td>\n",
              "    </tr>\n",
              "    <tr>\n",
              "      <th>7</th>\n",
              "      <td>20505.862745</td>\n",
              "      <td>20.597148</td>\n",
              "      <td>100425.190731</td>\n",
              "      <td>201280.415330</td>\n",
              "      <td>1.369364e+05</td>\n",
              "      <td>1.959706e+07</td>\n",
              "      <td>2.680927</td>\n",
              "      <td>12.966132</td>\n",
              "      <td>206.867241</td>\n",
              "      <td>0.000000</td>\n",
              "      <td>0.222816</td>\n",
              "      <td>30.127451</td>\n",
              "      <td>22.477005</td>\n",
              "      <td>3.847772</td>\n",
              "      <td>1.837968</td>\n",
              "      <td>30.302139</td>\n",
              "      <td>22.155080</td>\n",
              "      <td>4.319786</td>\n",
              "      <td>2.133155</td>\n",
              "      <td>29.164884</td>\n",
              "      <td>20.336185</td>\n",
              "      <td>6.849020</td>\n",
              "      <td>1.455080</td>\n",
              "      <td>31.143888</td>\n",
              "      <td>4.315719</td>\n",
              "      <td>3.072730</td>\n",
              "      <td>30.416831</td>\n",
              "      <td>22.471257</td>\n",
              "      <td>30.432591</td>\n",
              "      <td>4.282906</td>\n",
              "      <td>29.220627</td>\n",
              "      <td>21.388525</td>\n",
              "      <td>30.376436</td>\n",
              "      <td>4.336687</td>\n",
              "      <td>30.162398</td>\n",
              "      <td>22.218048</td>\n",
              "      <td>2.0</td>\n",
              "      <td>2.019072e+07</td>\n",
              "      <td>25.803137</td>\n",
              "      <td>18.703886</td>\n",
              "      <td>0.031122</td>\n",
              "      <td>0.017129</td>\n",
              "      <td>0.382053</td>\n",
              "      <td>0.003443</td>\n",
              "      <td>7.0</td>\n",
              "      <td>12.966132</td>\n",
              "    </tr>\n",
              "    <tr>\n",
              "      <th>8</th>\n",
              "      <td>23838.762821</td>\n",
              "      <td>20.376068</td>\n",
              "      <td>100445.540598</td>\n",
              "      <td>201335.106838</td>\n",
              "      <td>1.423139e+05</td>\n",
              "      <td>2.021642e+07</td>\n",
              "      <td>2.788462</td>\n",
              "      <td>14.104701</td>\n",
              "      <td>185.926513</td>\n",
              "      <td>0.000000</td>\n",
              "      <td>0.235043</td>\n",
              "      <td>32.003419</td>\n",
              "      <td>23.772863</td>\n",
              "      <td>6.763889</td>\n",
              "      <td>1.571154</td>\n",
              "      <td>31.869444</td>\n",
              "      <td>23.337393</td>\n",
              "      <td>3.512179</td>\n",
              "      <td>1.773504</td>\n",
              "      <td>30.543803</td>\n",
              "      <td>21.162821</td>\n",
              "      <td>6.100214</td>\n",
              "      <td>1.130983</td>\n",
              "      <td>20.454625</td>\n",
              "      <td>2.617381</td>\n",
              "      <td>2.577167</td>\n",
              "      <td>31.857050</td>\n",
              "      <td>23.859909</td>\n",
              "      <td>18.869308</td>\n",
              "      <td>2.079257</td>\n",
              "      <td>30.835214</td>\n",
              "      <td>22.559028</td>\n",
              "      <td>19.920686</td>\n",
              "      <td>2.654163</td>\n",
              "      <td>31.602514</td>\n",
              "      <td>23.416132</td>\n",
              "      <td>2.0</td>\n",
              "      <td>2.019082e+07</td>\n",
              "      <td>25.032906</td>\n",
              "      <td>16.498120</td>\n",
              "      <td>0.030709</td>\n",
              "      <td>0.018165</td>\n",
              "      <td>0.407120</td>\n",
              "      <td>0.003601</td>\n",
              "      <td>8.0</td>\n",
              "      <td>14.104701</td>\n",
              "    </tr>\n",
              "  </tbody>\n",
              "</table>\n",
              "</div>"
            ],
            "text/plain": [
              "               Unnamed: 0      노출(분)  ...  MONTH       HOUR\n",
              "상품군       월                           ...                  \n",
              "beauty    6  18219.250000  23.150000  ...    6.0  13.650000\n",
              "          7  20736.884211  20.210526  ...    7.0  12.242105\n",
              "          8  24010.888889  17.469136  ...    8.0   6.395062\n",
              "bedding   6  18243.551724  20.000000  ...    6.0  12.517241\n",
              "          7  20179.016393  19.918033  ...    7.0  12.360656\n",
              "          8  24510.500000  20.000000  ...    8.0  13.250000\n",
              "cloth     6  18129.981752  20.740876  ...    6.0  10.489051\n",
              "          7  20783.081851  19.697509  ...    7.0   9.298932\n",
              "          8  23785.387833  17.532319  ...    8.0   9.882129\n",
              "elec      6  17951.152709  21.477833  ...    6.0  19.359606\n",
              "          7  20474.908096  19.321663  ...    7.0  21.240700\n",
              "          8  23642.274011  20.000000  ...    8.0  19.968927\n",
              "etc       6  18305.559701  20.000000  ...    6.0   6.955224\n",
              "          7  20849.561404  23.059211  ...    7.0   9.706140\n",
              "          8  23711.907767  23.046117  ...    8.0  10.929612\n",
              "food      6  18176.581818  20.118182  ...    6.0  16.254545\n",
              "          7  20676.000000  19.941520  ...    7.0  15.640351\n",
              "          8  24129.831014  19.860835  ...    8.0  15.377734\n",
              "furniture 6  18181.358696  20.000000  ...    6.0  20.967391\n",
              "          7  20420.643617  20.000000  ...    7.0  21.632979\n",
              "          8  23578.060773  20.000000  ...    8.0  21.138122\n",
              "health    6  18273.500000  19.883333  ...    6.0  11.650000\n",
              "          7  20560.086957  19.927536  ...    7.0  11.260870\n",
              "          8  24193.914894  20.000000  ...    8.0  10.361702\n",
              "inner     6  18151.587940  20.562814  ...    6.0  14.407035\n",
              "          7  20432.713115  19.459016  ...    7.0  13.418033\n",
              "          8  23907.338658  19.709265  ...    8.0  11.642173\n",
              "life      6  18191.071429  18.107143  ...    6.0   7.357143\n",
              "          7  20994.962687  22.694030  ...    7.0  12.470149\n",
              "          8  23997.876866  25.335821  ...    8.0  15.559701\n",
              "living    6  18224.980159  21.190476  ...    6.0  14.313492\n",
              "          7  20505.862745  20.597148  ...    7.0  12.966132\n",
              "          8  23838.762821  20.376068  ...    8.0  14.104701\n",
              "\n",
              "[33 rows x 46 columns]"
            ]
          },
          "metadata": {
            "tags": []
          },
          "execution_count": 37
        }
      ]
    },
    {
      "cell_type": "code",
      "metadata": {
        "id": "uOVIE6f42ud9",
        "colab_type": "code",
        "colab": {
          "base_uri": "https://localhost:8080/",
          "height": 70
        },
        "outputId": "98493797-650c-4c16-f983-b80cbe2bfd89"
      },
      "source": [
        "categories = MonthItemGroup.index.get_level_values(0).unique()\n",
        "categories"
      ],
      "execution_count": 38,
      "outputs": [
        {
          "output_type": "execute_result",
          "data": {
            "text/plain": [
              "Index(['beauty', 'bedding', 'cloth', 'elec', 'etc', 'food', 'furniture',\n",
              "       'health', 'inner', 'life', 'living'],\n",
              "      dtype='object', name='상품군')"
            ]
          },
          "metadata": {
            "tags": []
          },
          "execution_count": 38
        }
      ]
    },
    {
      "cell_type": "code",
      "metadata": {
        "id": "ZUQm-lBk2ubl",
        "colab_type": "code",
        "colab": {
          "base_uri": "https://localhost:8080/",
          "height": 105
        },
        "outputId": "b18ff2e9-1e99-42da-a62f-742a51e59caf"
      },
      "source": [
        "for i in categories:\n",
        "  globals()['month_{}'.format(i)] = MonthItemGroup.xs(i)['주문량']\n",
        "month_beauty"
      ],
      "execution_count": 39,
      "outputs": [
        {
          "output_type": "execute_result",
          "data": {
            "text/plain": [
              "월\n",
              "6    734.573814\n",
              "7    782.083530\n",
              "8    490.864757\n",
              "Name: 주문량, dtype: float64"
            ]
          },
          "metadata": {
            "tags": []
          },
          "execution_count": 39
        }
      ]
    },
    {
      "cell_type": "code",
      "metadata": {
        "id": "96ONbefBvKoF",
        "colab_type": "code",
        "colab": {}
      },
      "source": [
        "def weighted_munji(munji_data,population_data): \n",
        "    weighted_df = pd.DataFrame()\n",
        "    weighted_df = pd.DataFrame().reindex_like(munji_data)\n",
        "    for i in range(len(munji_data.index)):\n",
        "        for j in range(len(munji_data.columns)):\n",
        "            weighted_df.iloc[i][j] = munji_data.iloc[i][j]*population_data.iloc[i][j]\n",
        "    return weighted_df"
      ],
      "execution_count": 40,
      "outputs": []
    },
    {
      "cell_type": "code",
      "metadata": {
        "id": "RFAqzoJHvcVh",
        "colab_type": "code",
        "colab": {}
      },
      "source": [
        "\n",
        "#모든 카테고리와의 상관계수 결과 반환해줌\n",
        "def cor_with_categories(data): \n",
        "    results = []\n",
        "    results.append(stats.linregress(month_bedding,data.iloc[month_bedding.index-1]))\n",
        "    results.append(stats.linregress(month_furniture,data.iloc[month_furniture.index-1]))\n",
        "    results.append(stats.linregress(month_health,data.iloc[month_health.index-1]))\n",
        "    results.append(stats.linregress(month_food,data.iloc[month_food.index-1]))\n",
        "    results.append(stats.linregress(month_life,data.iloc[month_life.index-1]))\n",
        "    results.append(stats.linregress(month_inner,data.iloc[month_inner.index-1]))\n",
        "    results.append(stats.linregress(month_cloth,data.iloc[month_cloth.index-1]))\n",
        "    results.append(stats.linregress(month_beauty,data.iloc[month_beauty.index-1]))\n",
        "    results.append(stats.linregress(month_etc,data.iloc[month_etc.index-1]))\n",
        "    results.append(stats.linregress(month_living,data.iloc[month_living.index-1]))\n",
        "    print('침구,가구,건강기능,농수축,생활용품,속옷,의류,이미용,잡화,주방')\n",
        "    \n",
        "    return results"
      ],
      "execution_count": 41,
      "outputs": []
    },
    {
      "cell_type": "code",
      "metadata": {
        "id": "se15UwgLvcaQ",
        "colab_type": "code",
        "colab": {}
      },
      "source": [
        "munji_df = munji.set_index('지역날짜')\n",
        "pop_tot_df = pop_tot.set_index('행정구역(시군구)별')"
      ],
      "execution_count": 42,
      "outputs": []
    },
    {
      "cell_type": "code",
      "metadata": {
        "id": "YOgQTOlyvcXv",
        "colab_type": "code",
        "colab": {}
      },
      "source": [
        "tot_weight_munji = weighted_munji(munji_df, pop_tot_df)"
      ],
      "execution_count": 43,
      "outputs": []
    },
    {
      "cell_type": "code",
      "metadata": {
        "id": "WRYTD76YvcTK",
        "colab_type": "code",
        "colab": {
          "base_uri": "https://localhost:8080/",
          "height": 247
        },
        "outputId": "c7ef3bef-81e9-405d-f02f-6e59af553596"
      },
      "source": [
        "tot_munji_df = tot_weight_munji.sum()\n",
        "tot_munji_df"
      ],
      "execution_count": 44,
      "outputs": [
        {
          "output_type": "execute_result",
          "data": {
            "text/plain": [
              "2019. 01    24.837347\n",
              "2019. 02    22.833675\n",
              "2019. 03    27.869383\n",
              "2019. 04    13.450065\n",
              "2019. 05    18.012409\n",
              "2019. 06    12.980445\n",
              "2019. 07    11.941034\n",
              "2019. 08    11.264766\n",
              "2019. 09     8.645412\n",
              "2019. 10    10.491966\n",
              "2019. 11    13.959968\n",
              "2019. 12    18.588743\n",
              "dtype: float64"
            ]
          },
          "metadata": {
            "tags": []
          },
          "execution_count": 44
        }
      ]
    },
    {
      "cell_type": "code",
      "metadata": {
        "id": "vi8u6a2W4XPU",
        "colab_type": "code",
        "colab": {
          "base_uri": "https://localhost:8080/",
          "height": 34
        },
        "outputId": "84ac508d-448c-4555-b2e7-b92d10af0006"
      },
      "source": [
        "# 봄(3,4,5)월엔 상관계수가 높지만 train기간인 6,7,8월은 낮다.\n",
        "stats.linregress(tot_munji_df[2:5], MonthItemGroup.xs('health')['주문량'])"
      ],
      "execution_count": 45,
      "outputs": [
        {
          "output_type": "execute_result",
          "data": {
            "text/plain": [
              "LinregressResult(slope=5.395970481258863, intercept=270.4579752494558, rvalue=0.42373746610642643, pvalue=0.7214358303523076, stderr=11.53447545258167)"
            ]
          },
          "metadata": {
            "tags": []
          },
          "execution_count": 45
        }
      ]
    },
    {
      "cell_type": "code",
      "metadata": {
        "id": "BsDzwWtRvjF6",
        "colab_type": "code",
        "colab": {
          "base_uri": "https://localhost:8080/",
          "height": 34
        },
        "outputId": "a95dbd68-4e81-4759-c4b5-8a58563ca378"
      },
      "source": [
        "# 6,7,8 월만 전체인구수가중한것과 건강기능 상관계수\n",
        "stats.linregress(tot_munji_df[5:8], MonthItemGroup.xs('health')['주문량'])"
      ],
      "execution_count": 46,
      "outputs": [
        {
          "output_type": "execute_result",
          "data": {
            "text/plain": [
              "LinregressResult(slope=99.30943820204276, intercept=-820.7029264126979, rvalue=0.9144962032725028, pvalue=0.26517464159491627, stderr=43.93681513571076)"
            ]
          },
          "metadata": {
            "tags": []
          },
          "execution_count": 46
        }
      ]
    },
    {
      "cell_type": "code",
      "metadata": {
        "id": "K_haDKv6vjI0",
        "colab_type": "code",
        "colab": {}
      },
      "source": [
        "pop_w_df = pop_w.set_index('행정구역(시군구)별')"
      ],
      "execution_count": 47,
      "outputs": []
    },
    {
      "cell_type": "code",
      "metadata": {
        "id": "SWZeJQOhvjK-",
        "colab_type": "code",
        "colab": {}
      },
      "source": [
        "woman_weight_munji = weighted_munji(munji_df, pop_w_df)"
      ],
      "execution_count": 48,
      "outputs": []
    },
    {
      "cell_type": "code",
      "metadata": {
        "id": "v0MQrcj1vjNP",
        "colab_type": "code",
        "colab": {
          "base_uri": "https://localhost:8080/",
          "height": 247
        },
        "outputId": "37f9b1da-494c-4bc0-b4c5-9d96a4b6b1cb"
      },
      "source": [
        "woman_munji_df = woman_weight_munji.sum()\n",
        "woman_munji_df"
      ],
      "execution_count": 49,
      "outputs": [
        {
          "output_type": "execute_result",
          "data": {
            "text/plain": [
              "2019. 01    12.484569\n",
              "2019. 02    11.481677\n",
              "2019. 03    14.014574\n",
              "2019. 04     6.766506\n",
              "2019. 05     9.061288\n",
              "2019. 06     6.532986\n",
              "2019. 07     6.008642\n",
              "2019. 08     5.665599\n",
              "2019. 09     4.347492\n",
              "2019. 10     5.275934\n",
              "2019. 11     7.020567\n",
              "2019. 12     9.352337\n",
              "dtype: float64"
            ]
          },
          "metadata": {
            "tags": []
          },
          "execution_count": 49
        }
      ]
    },
    {
      "cell_type": "code",
      "metadata": {
        "id": "kqJKATMYvjPP",
        "colab_type": "code",
        "colab": {
          "base_uri": "https://localhost:8080/",
          "height": 34
        },
        "outputId": "99d01241-4486-418e-fa4a-d82d7456cdbb"
      },
      "source": [
        "stats.linregress(woman_munji_df[5:8], MonthItemGroup.xs('health')['주문량'])"
      ],
      "execution_count": 50,
      "outputs": [
        {
          "output_type": "execute_result",
          "data": {
            "text/plain": [
              "LinregressResult(slope=196.5989557714752, intercept=-815.9983069564603, rvalue=0.915102904851042, pvalue=0.2642183874640637, stderr=86.62709397289866)"
            ]
          },
          "metadata": {
            "tags": []
          },
          "execution_count": 50
        }
      ]
    },
    {
      "cell_type": "code",
      "metadata": {
        "id": "OPqzY7QtvsI5",
        "colab_type": "code",
        "colab": {}
      },
      "source": [
        "pop_m_df = pop_m.set_index('행정구역(시군구)별')"
      ],
      "execution_count": 51,
      "outputs": []
    },
    {
      "cell_type": "code",
      "metadata": {
        "id": "rNPCCCcbvr_D",
        "colab_type": "code",
        "colab": {}
      },
      "source": [
        "mix_weight_munji = 0.2*weighted_munji(munji_df, pop_m_df) +\\\n",
        "                    0.8*weighted_munji(munji_df, pop_w_df)"
      ],
      "execution_count": 52,
      "outputs": []
    },
    {
      "cell_type": "code",
      "metadata": {
        "id": "M3AIUx6bvsB4",
        "colab_type": "code",
        "colab": {
          "base_uri": "https://localhost:8080/",
          "height": 247
        },
        "outputId": "8b3d7f05-dd54-49ac-8aec-5ef1b57b823a"
      },
      "source": [
        "mix_munji_df = mix_weight_munji.sum()\n",
        "mix_munji_df"
      ],
      "execution_count": 53,
      "outputs": [
        {
          "output_type": "execute_result",
          "data": {
            "text/plain": [
              "2019. 01    12.458211\n",
              "2019. 02    11.455741\n",
              "2019. 03    13.982621\n",
              "2019. 04     6.749916\n",
              "2019. 05     9.039254\n",
              "2019. 06     6.515881\n",
              "2019. 07     5.993392\n",
              "2019. 08     5.652313\n",
              "2019. 09     4.337577\n",
              "2019. 10     5.263954\n",
              "2019. 11     7.004334\n",
              "2019. 12     9.329150\n",
              "dtype: float64"
            ]
          },
          "metadata": {
            "tags": []
          },
          "execution_count": 53
        }
      ]
    },
    {
      "cell_type": "markdown",
      "metadata": {
        "id": "iE0S7MAUvyVZ",
        "colab_type": "text"
      },
      "source": [
        "#월별/요일별"
      ]
    },
    {
      "cell_type": "code",
      "metadata": {
        "id": "lRXZ0WJovr9A",
        "colab_type": "code",
        "colab": {
          "base_uri": "https://localhost:8080/",
          "height": 563
        },
        "outputId": "ff252f42-ebe9-4548-cf94-dc73fc346b83"
      },
      "source": [
        "sns.pointplot(data=train,x=\"월\",y=\"주문량\")"
      ],
      "execution_count": null,
      "outputs": [
        {
          "output_type": "execute_result",
          "data": {
            "text/plain": [
              "<matplotlib.axes._subplots.AxesSubplot at 0x7f0cc6f15e48>"
            ]
          },
          "metadata": {
            "tags": []
          },
          "execution_count": 136
        },
        {
          "output_type": "stream",
          "text": [
            "/usr/local/lib/python3.6/dist-packages/matplotlib/backends/backend_agg.py:214: RuntimeWarning: Glyph 50900 missing from current font.\n",
            "  font.set_text(s, 0.0, flags=flags)\n",
            "/usr/local/lib/python3.6/dist-packages/matplotlib/backends/backend_agg.py:183: RuntimeWarning: Glyph 50900 missing from current font.\n",
            "  font.set_text(s, 0, flags=flags)\n",
            "/usr/local/lib/python3.6/dist-packages/matplotlib/backends/backend_agg.py:214: RuntimeWarning: Glyph 51452 missing from current font.\n",
            "  font.set_text(s, 0.0, flags=flags)\n",
            "/usr/local/lib/python3.6/dist-packages/matplotlib/backends/backend_agg.py:214: RuntimeWarning: Glyph 47928 missing from current font.\n",
            "  font.set_text(s, 0.0, flags=flags)\n",
            "/usr/local/lib/python3.6/dist-packages/matplotlib/backends/backend_agg.py:214: RuntimeWarning: Glyph 47049 missing from current font.\n",
            "  font.set_text(s, 0.0, flags=flags)\n",
            "/usr/local/lib/python3.6/dist-packages/matplotlib/backends/backend_agg.py:183: RuntimeWarning: Glyph 51452 missing from current font.\n",
            "  font.set_text(s, 0, flags=flags)\n",
            "/usr/local/lib/python3.6/dist-packages/matplotlib/backends/backend_agg.py:183: RuntimeWarning: Glyph 47928 missing from current font.\n",
            "  font.set_text(s, 0, flags=flags)\n",
            "/usr/local/lib/python3.6/dist-packages/matplotlib/backends/backend_agg.py:183: RuntimeWarning: Glyph 47049 missing from current font.\n",
            "  font.set_text(s, 0, flags=flags)\n"
          ],
          "name": "stderr"
        },
        {
          "output_type": "display_data",
          "data": {
            "image/png": "[encoded data removed]",
            "text/plain": [
              "<Figure size 432x288 with 1 Axes>"
            ]
          },
          "metadata": {
            "tags": [],
            "needs_background": "light"
          }
        }
      ]
    },
    {
      "cell_type": "code",
      "metadata": {
        "id": "5HIN5e38lJfQ",
        "colab_type": "code",
        "colab": {
          "base_uri": "https://localhost:8080/",
          "height": 563
        },
        "outputId": "51dac1a7-1faa-41db-c8c2-fb26642bc846"
      },
      "source": [
        "sns.pointplot(data=train[train['상품군']=='bedding'],x=\"월\",y=\"주문량\")"
      ],
      "execution_count": null,
      "outputs": [
        {
          "output_type": "execute_result",
          "data": {
            "text/plain": [
              "<matplotlib.axes._subplots.AxesSubplot at 0x7f0cc84ec908>"
            ]
          },
          "metadata": {
            "tags": []
          },
          "execution_count": 269
        },
        {
          "output_type": "stream",
          "text": [
            "/usr/local/lib/python3.6/dist-packages/matplotlib/backends/backend_agg.py:214: RuntimeWarning: Glyph 50900 missing from current font.\n",
            "  font.set_text(s, 0.0, flags=flags)\n",
            "/usr/local/lib/python3.6/dist-packages/matplotlib/backends/backend_agg.py:183: RuntimeWarning: Glyph 50900 missing from current font.\n",
            "  font.set_text(s, 0, flags=flags)\n",
            "/usr/local/lib/python3.6/dist-packages/matplotlib/backends/backend_agg.py:214: RuntimeWarning: Glyph 51452 missing from current font.\n",
            "  font.set_text(s, 0.0, flags=flags)\n",
            "/usr/local/lib/python3.6/dist-packages/matplotlib/backends/backend_agg.py:214: RuntimeWarning: Glyph 47928 missing from current font.\n",
            "  font.set_text(s, 0.0, flags=flags)\n",
            "/usr/local/lib/python3.6/dist-packages/matplotlib/backends/backend_agg.py:214: RuntimeWarning: Glyph 47049 missing from current font.\n",
            "  font.set_text(s, 0.0, flags=flags)\n",
            "/usr/local/lib/python3.6/dist-packages/matplotlib/backends/backend_agg.py:183: RuntimeWarning: Glyph 51452 missing from current font.\n",
            "  font.set_text(s, 0, flags=flags)\n",
            "/usr/local/lib/python3.6/dist-packages/matplotlib/backends/backend_agg.py:183: RuntimeWarning: Glyph 47928 missing from current font.\n",
            "  font.set_text(s, 0, flags=flags)\n",
            "/usr/local/lib/python3.6/dist-packages/matplotlib/backends/backend_agg.py:183: RuntimeWarning: Glyph 47049 missing from current font.\n",
            "  font.set_text(s, 0, flags=flags)\n"
          ],
          "name": "stderr"
        },
        {
          "output_type": "display_data",
          "data": {
            "image/png": "[encoded data removed]",
            "text/plain": [
              "<Figure size 432x288 with 1 Axes>"
            ]
          },
          "metadata": {
            "tags": [],
            "needs_background": "light"
          }
        }
      ]
    },
    {
      "cell_type": "code",
      "metadata": {
        "id": "UbNleuatlg10",
        "colab_type": "code",
        "colab": {
          "base_uri": "https://localhost:8080/",
          "height": 34
        },
        "outputId": "3d17cadc-a2df-4510-b880-37e263654c52"
      },
      "source": [
        "len(train[(train['상품군']=='bedding')&(train['월']==8)])"
      ],
      "execution_count": null,
      "outputs": [
        {
          "output_type": "execute_result",
          "data": {
            "text/plain": [
              "12"
            ]
          },
          "metadata": {
            "tags": []
          },
          "execution_count": 268
        }
      ]
    },
    {
      "cell_type": "code",
      "metadata": {
        "id": "go30ACB2lVT8",
        "colab_type": "code",
        "colab": {
          "base_uri": "https://localhost:8080/",
          "height": 230
        },
        "outputId": "e4d4f60c-c856-4d87-ecc6-cd6630e042ed"
      },
      "source": [
        "train['상품군'].value_counts()"
      ],
      "execution_count": null,
      "outputs": [
        {
          "output_type": "execute_result",
          "data": {
            "text/plain": [
              "living       1281\n",
              "elec         1014\n",
              "etc          1002\n",
              "food          955\n",
              "inner         878\n",
              "cloth         818\n",
              "furniture     461\n",
              "life          430\n",
              "bedding       282\n",
              "beauty        216\n",
              "health        176\n",
              "Name: 상품군, dtype: int64"
            ]
          },
          "metadata": {
            "tags": []
          },
          "execution_count": 260
        }
      ]
    },
    {
      "cell_type": "code",
      "metadata": {
        "id": "4A_fB9Akv012",
        "colab_type": "code",
        "colab": {
          "base_uri": "https://localhost:8080/",
          "height": 282
        },
        "outputId": "3eb95fa6-d7a5-4e14-ae36-2d969323416e"
      },
      "source": [
        "plt.plot(train.groupby(\"요일\")[\"주문량\"].sum()/train.groupby(\"요일\")[\"주문량\"].count())"
      ],
      "execution_count": null,
      "outputs": [
        {
          "output_type": "execute_result",
          "data": {
            "text/plain": [
              "[<matplotlib.lines.Line2D at 0x7f0cc7727a90>]"
            ]
          },
          "metadata": {
            "tags": []
          },
          "execution_count": 137
        },
        {
          "output_type": "display_data",
          "data": {
            "image/png": "[encoded data removed]",
            "text/plain": [
              "<Figure size 432x288 with 1 Axes>"
            ]
          },
          "metadata": {
            "tags": [],
            "needs_background": "light"
          }
        }
      ]
    },
    {
      "cell_type": "code",
      "metadata": {
        "id": "PVvt0tNrv04B",
        "colab_type": "code",
        "colab": {
          "base_uri": "https://localhost:8080/",
          "height": 176
        },
        "outputId": "17200906-5997-4458-fb38-7cb4fcb281fc"
      },
      "source": [
        "(train.groupby(\"요일\")[\"주문량\"].sum()/train.groupby(\"요일\")[\"주문량\"].count()).describe()"
      ],
      "execution_count": null,
      "outputs": [
        {
          "output_type": "execute_result",
          "data": {
            "text/plain": [
              "count      7.000000\n",
              "mean     332.715900\n",
              "std       16.869934\n",
              "min      314.504503\n",
              "25%      319.230204\n",
              "50%      333.862742\n",
              "75%      340.498297\n",
              "max      361.187054\n",
              "Name: 주문량, dtype: float64"
            ]
          },
          "metadata": {
            "tags": []
          },
          "execution_count": 138
        }
      ]
    },
    {
      "cell_type": "code",
      "metadata": {
        "id": "bdvS2jTqv0zu",
        "colab_type": "code",
        "colab": {
          "base_uri": "https://localhost:8080/",
          "height": 230
        },
        "outputId": "dd439207-d759-4b44-e0bc-eba191523bea"
      },
      "source": [
        "train['상품군'].value_counts()"
      ],
      "execution_count": null,
      "outputs": [
        {
          "output_type": "execute_result",
          "data": {
            "text/plain": [
              "living       1281\n",
              "elec         1014\n",
              "etc          1002\n",
              "food          955\n",
              "inner         878\n",
              "cloth         818\n",
              "furniture     461\n",
              "life          430\n",
              "bedding       282\n",
              "beauty        216\n",
              "health        176\n",
              "Name: 상품군, dtype: int64"
            ]
          },
          "metadata": {
            "tags": []
          },
          "execution_count": 139
        }
      ]
    },
    {
      "cell_type": "code",
      "metadata": {
        "id": "i_tkDATAv35a",
        "colab_type": "code",
        "colab": {}
      },
      "source": [
        "mother_grouped = train.groupby('마더코드')\n",
        "MomCodeGroup = mother_grouped.sum()['주문량']"
      ],
      "execution_count": null,
      "outputs": []
    },
    {
      "cell_type": "code",
      "metadata": {
        "id": "w_fie39av37s",
        "colab_type": "code",
        "colab": {
          "base_uri": "https://localhost:8080/",
          "height": 282
        },
        "outputId": "20fba6fd-4861-4a28-89a1-c224bf9856a7"
      },
      "source": [
        "plt.plot(MomCodeGroup)"
      ],
      "execution_count": null,
      "outputs": [
        {
          "output_type": "execute_result",
          "data": {
            "text/plain": [
              "[<matplotlib.lines.Line2D at 0x7f0cc7cb9a20>]"
            ]
          },
          "metadata": {
            "tags": []
          },
          "execution_count": 141
        },
        {
          "output_type": "display_data",
          "data": {
            "image/png": "[encoded data removed]",
            "text/plain": [
              "<Figure size 432x288 with 1 Axes>"
            ]
          },
          "metadata": {
            "tags": [],
            "needs_background": "light"
          }
        }
      ]
    },
    {
      "cell_type": "markdown",
      "metadata": {
        "id": "WRXhr4tav_tg",
        "colab_type": "text"
      },
      "source": [
        "#노출시간대비 주문량 높은 놈들"
      ]
    },
    {
      "cell_type": "code",
      "metadata": {
        "id": "RRr6F1YowB8a",
        "colab_type": "code",
        "colab": {}
      },
      "source": [
        "MomCodeGroup2 = train.groupby(['마더코드']).sum()"
      ],
      "execution_count": 54,
      "outputs": []
    },
    {
      "cell_type": "code",
      "metadata": {
        "id": "AzkJFha5wCAf",
        "colab_type": "code",
        "colab": {
          "base_uri": "https://localhost:8080/",
          "height": 347
        },
        "outputId": "73793383-5a2a-4b02-c512-34510650fd68"
      },
      "source": [
        "MomCodeGroup2['주문량/노출'] = MomCodeGroup2['주문량']/MomCodeGroup2['노출(분)']\n",
        "MomCodeGroup2.sort_values('주문량/노출', ascending=False).head()"
      ],
      "execution_count": 55,
      "outputs": [
        {
          "output_type": "execute_result",
          "data": {
            "text/html": [
              "<div>\n",
              "<style scoped>\n",
              "    .dataframe tbody tr th:only-of-type {\n",
              "        vertical-align: middle;\n",
              "    }\n",
              "\n",
              "    .dataframe tbody tr th {\n",
              "        vertical-align: top;\n",
              "    }\n",
              "\n",
              "    .dataframe thead th {\n",
              "        text-align: right;\n",
              "    }\n",
              "</style>\n",
              "<table border=\"1\" class=\"dataframe\">\n",
              "  <thead>\n",
              "    <tr style=\"text-align: right;\">\n",
              "      <th></th>\n",
              "      <th>Unnamed: 0</th>\n",
              "      <th>노출(분)</th>\n",
              "      <th>상품코드</th>\n",
              "      <th>판매단가</th>\n",
              "      <th>취급액</th>\n",
              "      <th>요일</th>\n",
              "      <th>시</th>\n",
              "      <th>주문량</th>\n",
              "      <th>holiday</th>\n",
              "      <th>월</th>\n",
              "      <th>holiday(includeSS)</th>\n",
              "      <th>실제_서울_최고기온</th>\n",
              "      <th>실제_서울_최저기온</th>\n",
              "      <th>실제_서울_강수량(mm)</th>\n",
              "      <th>실제_서울_평균풍속(m/s)</th>\n",
              "      <th>실제_수원_최고기온</th>\n",
              "      <th>실제_수원_최저기온</th>\n",
              "      <th>실제_수원_강수량(mm)</th>\n",
              "      <th>실제_수원_평균풍속(m/s)</th>\n",
              "      <th>실제_파주_최고기온</th>\n",
              "      <th>실제_파주_최저기온</th>\n",
              "      <th>실제_파주_강수량(mm)</th>\n",
              "      <th>실제_파주_평균풍속(m/s)</th>\n",
              "      <th>예보_서울_강수확률</th>\n",
              "      <th>예보_서울_강수량</th>\n",
              "      <th>예보_서울_하늘상태</th>\n",
              "      <th>예보_서울_일최고기온</th>\n",
              "      <th>예보_서울_일최저기온</th>\n",
              "      <th>예보_일산_강수확률</th>\n",
              "      <th>예보_일산_강수량</th>\n",
              "      <th>예보_일산_일최고기온</th>\n",
              "      <th>예보_일산_일최저기온</th>\n",
              "      <th>예보_수원_강수확률</th>\n",
              "      <th>예보_수원_강수량</th>\n",
              "      <th>예보_수원_일최고기온</th>\n",
              "      <th>예보_수원_일최저기온</th>\n",
              "      <th>계절</th>\n",
              "      <th>DATE</th>\n",
              "      <th>미세먼지(㎍/㎥)</th>\n",
              "      <th>오존(ppm)</th>\n",
              "      <th>이산화질소농도(ppm)</th>\n",
              "      <th>일산화탄소농도(ppm)</th>\n",
              "      <th>아황산가스농도(ppm)</th>\n",
              "      <th>초미세먼지(㎍/㎥)</th>\n",
              "      <th>MONTH</th>\n",
              "      <th>HOUR</th>\n",
              "      <th>주문량/노출</th>\n",
              "    </tr>\n",
              "    <tr>\n",
              "      <th>마더코드</th>\n",
              "      <th></th>\n",
              "      <th></th>\n",
              "      <th></th>\n",
              "      <th></th>\n",
              "      <th></th>\n",
              "      <th></th>\n",
              "      <th></th>\n",
              "      <th></th>\n",
              "      <th></th>\n",
              "      <th></th>\n",
              "      <th></th>\n",
              "      <th></th>\n",
              "      <th></th>\n",
              "      <th></th>\n",
              "      <th></th>\n",
              "      <th></th>\n",
              "      <th></th>\n",
              "      <th></th>\n",
              "      <th></th>\n",
              "      <th></th>\n",
              "      <th></th>\n",
              "      <th></th>\n",
              "      <th></th>\n",
              "      <th></th>\n",
              "      <th></th>\n",
              "      <th></th>\n",
              "      <th></th>\n",
              "      <th></th>\n",
              "      <th></th>\n",
              "      <th></th>\n",
              "      <th></th>\n",
              "      <th></th>\n",
              "      <th></th>\n",
              "      <th></th>\n",
              "      <th></th>\n",
              "      <th></th>\n",
              "      <th></th>\n",
              "      <th></th>\n",
              "      <th></th>\n",
              "      <th></th>\n",
              "      <th></th>\n",
              "      <th></th>\n",
              "      <th></th>\n",
              "      <th></th>\n",
              "      <th></th>\n",
              "      <th></th>\n",
              "      <th></th>\n",
              "    </tr>\n",
              "  </thead>\n",
              "  <tbody>\n",
              "    <tr>\n",
              "      <th>100492</th>\n",
              "      <td>75615</td>\n",
              "      <td>60.0</td>\n",
              "      <td>604461</td>\n",
              "      <td>149700</td>\n",
              "      <td>286104000</td>\n",
              "      <td>9</td>\n",
              "      <td>48</td>\n",
              "      <td>5733.547094</td>\n",
              "      <td>0</td>\n",
              "      <td>24</td>\n",
              "      <td>0</td>\n",
              "      <td>79.2</td>\n",
              "      <td>60.3</td>\n",
              "      <td>110.7</td>\n",
              "      <td>6.3</td>\n",
              "      <td>81.3</td>\n",
              "      <td>60.0</td>\n",
              "      <td>45.9</td>\n",
              "      <td>6.6</td>\n",
              "      <td>78.9</td>\n",
              "      <td>53.4</td>\n",
              "      <td>46.2</td>\n",
              "      <td>5.7</td>\n",
              "      <td>44.797297</td>\n",
              "      <td>2.763158</td>\n",
              "      <td>7.033784</td>\n",
              "      <td>82.578947</td>\n",
              "      <td>59.2500</td>\n",
              "      <td>28.175676</td>\n",
              "      <td>0.394737</td>\n",
              "      <td>80.526316</td>\n",
              "      <td>54.5625</td>\n",
              "      <td>40.135135</td>\n",
              "      <td>1.578947</td>\n",
              "      <td>82.578947</td>\n",
              "      <td>58.6875</td>\n",
              "      <td>6</td>\n",
              "      <td>60572487</td>\n",
              "      <td>83.88</td>\n",
              "      <td>60.24</td>\n",
              "      <td>0.10620</td>\n",
              "      <td>0.06084</td>\n",
              "      <td>1.500</td>\n",
              "      <td>0.01080</td>\n",
              "      <td>24</td>\n",
              "      <td>48</td>\n",
              "      <td>95.559118</td>\n",
              "    </tr>\n",
              "    <tr>\n",
              "      <th>100499</th>\n",
              "      <td>145080</td>\n",
              "      <td>120.0</td>\n",
              "      <td>1209006</td>\n",
              "      <td>239400</td>\n",
              "      <td>420256000</td>\n",
              "      <td>15</td>\n",
              "      <td>117</td>\n",
              "      <td>10532.731830</td>\n",
              "      <td>0</td>\n",
              "      <td>48</td>\n",
              "      <td>0</td>\n",
              "      <td>186.9</td>\n",
              "      <td>138.6</td>\n",
              "      <td>0.3</td>\n",
              "      <td>11.1</td>\n",
              "      <td>184.2</td>\n",
              "      <td>138.0</td>\n",
              "      <td>3.0</td>\n",
              "      <td>12.3</td>\n",
              "      <td>181.2</td>\n",
              "      <td>122.7</td>\n",
              "      <td>5.1</td>\n",
              "      <td>9.6</td>\n",
              "      <td>137.229730</td>\n",
              "      <td>6.907895</td>\n",
              "      <td>18.324324</td>\n",
              "      <td>183.315789</td>\n",
              "      <td>139.8750</td>\n",
              "      <td>120.000000</td>\n",
              "      <td>5.526316</td>\n",
              "      <td>177.000000</td>\n",
              "      <td>132.9375</td>\n",
              "      <td>133.986486</td>\n",
              "      <td>6.118421</td>\n",
              "      <td>180.473684</td>\n",
              "      <td>136.8750</td>\n",
              "      <td>12</td>\n",
              "      <td>121144908</td>\n",
              "      <td>136.44</td>\n",
              "      <td>83.28</td>\n",
              "      <td>0.19428</td>\n",
              "      <td>0.10164</td>\n",
              "      <td>2.532</td>\n",
              "      <td>0.02136</td>\n",
              "      <td>48</td>\n",
              "      <td>117</td>\n",
              "      <td>87.772765</td>\n",
              "    </tr>\n",
              "    <tr>\n",
              "      <th>100046</th>\n",
              "      <td>151203</td>\n",
              "      <td>60.0</td>\n",
              "      <td>1200756</td>\n",
              "      <td>185400</td>\n",
              "      <td>162001000</td>\n",
              "      <td>18</td>\n",
              "      <td>90</td>\n",
              "      <td>5242.750809</td>\n",
              "      <td>0</td>\n",
              "      <td>48</td>\n",
              "      <td>0</td>\n",
              "      <td>158.4</td>\n",
              "      <td>120.6</td>\n",
              "      <td>221.4</td>\n",
              "      <td>12.6</td>\n",
              "      <td>162.6</td>\n",
              "      <td>120.0</td>\n",
              "      <td>91.8</td>\n",
              "      <td>13.2</td>\n",
              "      <td>157.8</td>\n",
              "      <td>106.8</td>\n",
              "      <td>92.4</td>\n",
              "      <td>11.4</td>\n",
              "      <td>89.594595</td>\n",
              "      <td>5.526316</td>\n",
              "      <td>14.067568</td>\n",
              "      <td>165.157895</td>\n",
              "      <td>118.5000</td>\n",
              "      <td>56.351351</td>\n",
              "      <td>0.789474</td>\n",
              "      <td>161.052632</td>\n",
              "      <td>109.1250</td>\n",
              "      <td>80.270270</td>\n",
              "      <td>3.157895</td>\n",
              "      <td>165.157895</td>\n",
              "      <td>117.3750</td>\n",
              "      <td>12</td>\n",
              "      <td>121144974</td>\n",
              "      <td>167.76</td>\n",
              "      <td>120.48</td>\n",
              "      <td>0.21240</td>\n",
              "      <td>0.12168</td>\n",
              "      <td>3.000</td>\n",
              "      <td>0.02160</td>\n",
              "      <td>48</td>\n",
              "      <td>90</td>\n",
              "      <td>87.379180</td>\n",
              "    </tr>\n",
              "    <tr>\n",
              "      <th>100754</th>\n",
              "      <td>76092</td>\n",
              "      <td>60.0</td>\n",
              "      <td>606609</td>\n",
              "      <td>119700</td>\n",
              "      <td>187163000</td>\n",
              "      <td>15</td>\n",
              "      <td>39</td>\n",
              "      <td>4690.802005</td>\n",
              "      <td>0</td>\n",
              "      <td>24</td>\n",
              "      <td>3</td>\n",
              "      <td>86.7</td>\n",
              "      <td>55.5</td>\n",
              "      <td>0.0</td>\n",
              "      <td>5.4</td>\n",
              "      <td>83.1</td>\n",
              "      <td>52.2</td>\n",
              "      <td>0.0</td>\n",
              "      <td>5.1</td>\n",
              "      <td>83.1</td>\n",
              "      <td>46.5</td>\n",
              "      <td>0.0</td>\n",
              "      <td>2.7</td>\n",
              "      <td>66.689189</td>\n",
              "      <td>0.000000</td>\n",
              "      <td>9.668919</td>\n",
              "      <td>87.000000</td>\n",
              "      <td>60.9375</td>\n",
              "      <td>52.702703</td>\n",
              "      <td>0.000000</td>\n",
              "      <td>84.631579</td>\n",
              "      <td>54.1875</td>\n",
              "      <td>72.770270</td>\n",
              "      <td>0.394737</td>\n",
              "      <td>85.736842</td>\n",
              "      <td>59.2500</td>\n",
              "      <td>6</td>\n",
              "      <td>60572493</td>\n",
              "      <td>49.68</td>\n",
              "      <td>28.08</td>\n",
              "      <td>0.09552</td>\n",
              "      <td>0.05016</td>\n",
              "      <td>1.152</td>\n",
              "      <td>0.01020</td>\n",
              "      <td>24</td>\n",
              "      <td>39</td>\n",
              "      <td>78.180033</td>\n",
              "    </tr>\n",
              "    <tr>\n",
              "      <th>100323</th>\n",
              "      <td>151497</td>\n",
              "      <td>120.0</td>\n",
              "      <td>1208934</td>\n",
              "      <td>299400</td>\n",
              "      <td>452290000</td>\n",
              "      <td>21</td>\n",
              "      <td>99</td>\n",
              "      <td>9063.927856</td>\n",
              "      <td>0</td>\n",
              "      <td>48</td>\n",
              "      <td>3</td>\n",
              "      <td>177.3</td>\n",
              "      <td>126.3</td>\n",
              "      <td>0.0</td>\n",
              "      <td>11.4</td>\n",
              "      <td>171.3</td>\n",
              "      <td>120.3</td>\n",
              "      <td>0.0</td>\n",
              "      <td>10.2</td>\n",
              "      <td>170.4</td>\n",
              "      <td>107.4</td>\n",
              "      <td>0.0</td>\n",
              "      <td>6.6</td>\n",
              "      <td>142.297297</td>\n",
              "      <td>11.250000</td>\n",
              "      <td>18.729730</td>\n",
              "      <td>170.526316</td>\n",
              "      <td>124.6875</td>\n",
              "      <td>118.378378</td>\n",
              "      <td>12.631579</td>\n",
              "      <td>165.789474</td>\n",
              "      <td>114.9375</td>\n",
              "      <td>145.337838</td>\n",
              "      <td>11.447368</td>\n",
              "      <td>169.263158</td>\n",
              "      <td>122.0625</td>\n",
              "      <td>12</td>\n",
              "      <td>121144977</td>\n",
              "      <td>138.12</td>\n",
              "      <td>85.56</td>\n",
              "      <td>0.21396</td>\n",
              "      <td>0.11016</td>\n",
              "      <td>2.520</td>\n",
              "      <td>0.02136</td>\n",
              "      <td>48</td>\n",
              "      <td>99</td>\n",
              "      <td>75.532732</td>\n",
              "    </tr>\n",
              "  </tbody>\n",
              "</table>\n",
              "</div>"
            ],
            "text/plain": [
              "        Unnamed: 0  노출(분)     상품코드    판매단가  ...  초미세먼지(㎍/㎥)  MONTH  HOUR     주문량/노출\n",
              "마더코드                                        ...                                    \n",
              "100492       75615   60.0   604461  149700  ...     0.01080     24    48  95.559118\n",
              "100499      145080  120.0  1209006  239400  ...     0.02136     48   117  87.772765\n",
              "100046      151203   60.0  1200756  185400  ...     0.02160     48    90  87.379180\n",
              "100754       76092   60.0   606609  119700  ...     0.01020     24    39  78.180033\n",
              "100323      151497  120.0  1208934  299400  ...     0.02136     48    99  75.532732\n",
              "\n",
              "[5 rows x 47 columns]"
            ]
          },
          "metadata": {
            "tags": []
          },
          "execution_count": 55
        }
      ]
    },
    {
      "cell_type": "code",
      "metadata": {
        "id": "5e37nTWOwB-i",
        "colab_type": "code",
        "colab": {}
      },
      "source": [
        "topcode = list(MomCodeGroup2.sort_values('주문량/노출', ascending=False).index[:50])"
      ],
      "execution_count": 56,
      "outputs": []
    },
    {
      "cell_type": "markdown",
      "metadata": {
        "id": "0sSwCNyUv_rD",
        "colab_type": "text"
      },
      "source": [
        "상품군내 마더코드별 주문량\n"
      ]
    },
    {
      "cell_type": "code",
      "metadata": {
        "id": "a2D9zB-GwB6H",
        "colab_type": "code",
        "colab": {}
      },
      "source": [
        "\n",
        "multi_grouped = train.groupby(['상품군','마더코드'])\n",
        "MultiGroup = multi_grouped['주문량'].sum()\n",
        "MultiGroup = MultiGroup.reset_index()"
      ],
      "execution_count": 57,
      "outputs": []
    },
    {
      "cell_type": "code",
      "metadata": {
        "id": "WbLOIRYNv33J",
        "colab_type": "code",
        "colab": {}
      },
      "source": [
        "item = list(set(MultiGroup['상품군']))"
      ],
      "execution_count": 58,
      "outputs": []
    },
    {
      "cell_type": "code",
      "metadata": {
        "id": "cIb3YtXNwLyh",
        "colab_type": "code",
        "colab": {
          "base_uri": "https://localhost:8080/",
          "height": 1000
        },
        "outputId": "2497907c-c47b-4ea5-83c8-0e81d18aabff"
      },
      "source": [
        "for i in item:\n",
        "    plt.figure(figsize=(10,10))\n",
        "    sns.barplot(data=MultiGroup[MultiGroup['상품군']==i], x='마더코드', y='주문량')\n",
        "    plt.title(i)\n",
        "    plt.xticks(rotation=45, size=7)"
      ],
      "execution_count": 59,
      "outputs": [
        {
          "output_type": "stream",
          "text": [
            "/usr/local/lib/python3.6/dist-packages/matplotlib/backends/backend_agg.py:214: RuntimeWarning: Glyph 47560 missing from current font.\n",
            "  font.set_text(s, 0.0, flags=flags)\n",
            "/usr/local/lib/python3.6/dist-packages/matplotlib/backends/backend_agg.py:214: RuntimeWarning: Glyph 45908 missing from current font.\n",
            "  font.set_text(s, 0.0, flags=flags)\n",
            "/usr/local/lib/python3.6/dist-packages/matplotlib/backends/backend_agg.py:214: RuntimeWarning: Glyph 53076 missing from current font.\n",
            "  font.set_text(s, 0.0, flags=flags)\n",
            "/usr/local/lib/python3.6/dist-packages/matplotlib/backends/backend_agg.py:214: RuntimeWarning: Glyph 46300 missing from current font.\n",
            "  font.set_text(s, 0.0, flags=flags)\n",
            "/usr/local/lib/python3.6/dist-packages/matplotlib/backends/backend_agg.py:183: RuntimeWarning: Glyph 47560 missing from current font.\n",
            "  font.set_text(s, 0, flags=flags)\n",
            "/usr/local/lib/python3.6/dist-packages/matplotlib/backends/backend_agg.py:183: RuntimeWarning: Glyph 45908 missing from current font.\n",
            "  font.set_text(s, 0, flags=flags)\n",
            "/usr/local/lib/python3.6/dist-packages/matplotlib/backends/backend_agg.py:183: RuntimeWarning: Glyph 53076 missing from current font.\n",
            "  font.set_text(s, 0, flags=flags)\n",
            "/usr/local/lib/python3.6/dist-packages/matplotlib/backends/backend_agg.py:183: RuntimeWarning: Glyph 46300 missing from current font.\n",
            "  font.set_text(s, 0, flags=flags)\n",
            "/usr/local/lib/python3.6/dist-packages/matplotlib/backends/backend_agg.py:214: RuntimeWarning: Glyph 51452 missing from current font.\n",
            "  font.set_text(s, 0.0, flags=flags)\n",
            "/usr/local/lib/python3.6/dist-packages/matplotlib/backends/backend_agg.py:214: RuntimeWarning: Glyph 47928 missing from current font.\n",
            "  font.set_text(s, 0.0, flags=flags)\n",
            "/usr/local/lib/python3.6/dist-packages/matplotlib/backends/backend_agg.py:214: RuntimeWarning: Glyph 47049 missing from current font.\n",
            "  font.set_text(s, 0.0, flags=flags)\n",
            "/usr/local/lib/python3.6/dist-packages/matplotlib/backends/backend_agg.py:183: RuntimeWarning: Glyph 51452 missing from current font.\n",
            "  font.set_text(s, 0, flags=flags)\n",
            "/usr/local/lib/python3.6/dist-packages/matplotlib/backends/backend_agg.py:183: RuntimeWarning: Glyph 47928 missing from current font.\n",
            "  font.set_text(s, 0, flags=flags)\n",
            "/usr/local/lib/python3.6/dist-packages/matplotlib/backends/backend_agg.py:183: RuntimeWarning: Glyph 47049 missing from current font.\n",
            "  font.set_text(s, 0, flags=flags)\n"
          ],
          "name": "stderr"
        },
        {
          "output_type": "display_data",
          "data": {
            "image/png": "[encoded data removed]",
            "text/plain": [
              "<Figure size 720x720 with 1 Axes>"
            ]
          },
          "metadata": {
            "tags": [],
            "needs_background": "light"
          }
        },
        {
          "output_type": "display_data",
          "data": {
            "image/png": "[encoded data removed]",
            "text/plain": [
              "<Figure size 720x720 with 1 Axes>"
            ]
          },
          "metadata": {
            "tags": [],
            "needs_background": "light"
          }
        },
        {
          "output_type": "display_data",
          "data": {
            "image/png": "[encoded data removed]",
            "text/plain": [
              "<Figure size 720x720 with 1 Axes>"
            ]
          },
          "metadata": {
            "tags": [],
            "needs_background": "light"
          }
        },
        {
          "output_type": "display_data",
          "data": {
            "image/png": "[encoded data removed]",
            "text/plain": [
              "<Figure size 720x720 with 1 Axes>"
            ]
          },
          "metadata": {
            "tags": [],
            "needs_background": "light"
          }
        },
        {
          "output_type": "display_data",
          "data": {
            "image/png": "[encoded data removed]",
            "text/plain": [
              "<Figure size 720x720 with 1 Axes>"
            ]
          },
          "metadata": {
            "tags": [],
            "needs_background": "light"
          }
        },
        {
          "output_type": "display_data",
          "data": {
            "image/png": "[encoded data removed]",
            "text/plain": [
              "<Figure size 720x720 with 1 Axes>"
            ]
          },
          "metadata": {
            "tags": [],
            "needs_background": "light"
          }
        },
        {
          "output_type": "display_data",
          "data": {
            "image/png": "[encoded data removed]",
            "text/plain": [
              "<Figure size 720x720 with 1 Axes>"
            ]
          },
          "metadata": {
            "tags": [],
            "needs_background": "light"
          }
        },
        {
          "output_type": "display_data",
          "data": {
            "image/png": "[encoded data removed]",
            "text/plain": [
              "<Figure size 720x720 with 1 Axes>"
            ]
          },
          "metadata": {
            "tags": [],
            "needs_background": "light"
          }
        },
        {
          "output_type": "display_data",
          "data": {
            "image/png": "[encoded data removed]",
            "text/plain": [
              "<Figure size 720x720 with 1 Axes>"
            ]
          },
          "metadata": {
            "tags": [],
            "needs_background": "light"
          }
        },
        {
          "output_type": "display_data",
          "data": {
            "image/png": "[encoded data removed]",
            "text/plain": [
              "<Figure size 720x720 with 1 Axes>"
            ]
          },
          "metadata": {
            "tags": [],
            "needs_background": "light"
          }
        },
        {
          "output_type": "display_data",
          "data": {
            "image/png": "[encoded data removed]",
            "text/plain": [
              "<Figure size 720x720 with 1 Axes>"
            ]
          },
          "metadata": {
            "tags": [],
            "needs_background": "light"
          }
        }
      ]
    },
    {
      "cell_type": "markdown",
      "metadata": {
        "id": "qtsW9DqGwOt2",
        "colab_type": "text"
      },
      "source": [
        "# 시간대별+상품군/마더코드별"
      ]
    },
    {
      "cell_type": "code",
      "metadata": {
        "id": "TamgbjaHwLwX",
        "colab_type": "code",
        "colab": {}
      },
      "source": [
        "hour_grouped = train.groupby(['시','상품군'])\n",
        "HourGroup = hour_grouped['주문량'].sum()\n",
        "HourGroup = HourGroup.reset_index()"
      ],
      "execution_count": 60,
      "outputs": []
    },
    {
      "cell_type": "code",
      "metadata": {
        "id": "S09DKuWuwQwv",
        "colab_type": "code",
        "colab": {
          "base_uri": "https://localhost:8080/",
          "height": 1000
        },
        "outputId": "98d2392f-b3ea-4a1b-c3ce-165790308100"
      },
      "source": [
        "plt.figure(figsize=(10,20))\n",
        "sns.barplot(data=HourGroup, x='시', y='주문량', hue='상품군', dodge=False)"
      ],
      "execution_count": 61,
      "outputs": [
        {
          "output_type": "execute_result",
          "data": {
            "text/plain": [
              "<matplotlib.axes._subplots.AxesSubplot at 0x7f4c48c29240>"
            ]
          },
          "metadata": {
            "tags": []
          },
          "execution_count": 61
        },
        {
          "output_type": "stream",
          "text": [
            "/usr/local/lib/python3.6/dist-packages/matplotlib/backends/backend_agg.py:214: RuntimeWarning: Glyph 49884 missing from current font.\n",
            "  font.set_text(s, 0.0, flags=flags)\n",
            "/usr/local/lib/python3.6/dist-packages/matplotlib/backends/backend_agg.py:183: RuntimeWarning: Glyph 49884 missing from current font.\n",
            "  font.set_text(s, 0, flags=flags)\n",
            "/usr/local/lib/python3.6/dist-packages/matplotlib/backends/backend_agg.py:214: RuntimeWarning: Glyph 51452 missing from current font.\n",
            "  font.set_text(s, 0.0, flags=flags)\n",
            "/usr/local/lib/python3.6/dist-packages/matplotlib/backends/backend_agg.py:214: RuntimeWarning: Glyph 47928 missing from current font.\n",
            "  font.set_text(s, 0.0, flags=flags)\n",
            "/usr/local/lib/python3.6/dist-packages/matplotlib/backends/backend_agg.py:214: RuntimeWarning: Glyph 47049 missing from current font.\n",
            "  font.set_text(s, 0.0, flags=flags)\n",
            "/usr/local/lib/python3.6/dist-packages/matplotlib/backends/backend_agg.py:183: RuntimeWarning: Glyph 51452 missing from current font.\n",
            "  font.set_text(s, 0, flags=flags)\n",
            "/usr/local/lib/python3.6/dist-packages/matplotlib/backends/backend_agg.py:183: RuntimeWarning: Glyph 47928 missing from current font.\n",
            "  font.set_text(s, 0, flags=flags)\n",
            "/usr/local/lib/python3.6/dist-packages/matplotlib/backends/backend_agg.py:183: RuntimeWarning: Glyph 47049 missing from current font.\n",
            "  font.set_text(s, 0, flags=flags)\n",
            "/usr/local/lib/python3.6/dist-packages/matplotlib/backends/backend_agg.py:214: RuntimeWarning: Glyph 49345 missing from current font.\n",
            "  font.set_text(s, 0.0, flags=flags)\n",
            "/usr/local/lib/python3.6/dist-packages/matplotlib/backends/backend_agg.py:214: RuntimeWarning: Glyph 54408 missing from current font.\n",
            "  font.set_text(s, 0.0, flags=flags)\n",
            "/usr/local/lib/python3.6/dist-packages/matplotlib/backends/backend_agg.py:214: RuntimeWarning: Glyph 44400 missing from current font.\n",
            "  font.set_text(s, 0.0, flags=flags)\n",
            "/usr/local/lib/python3.6/dist-packages/matplotlib/backends/backend_agg.py:183: RuntimeWarning: Glyph 49345 missing from current font.\n",
            "  font.set_text(s, 0, flags=flags)\n",
            "/usr/local/lib/python3.6/dist-packages/matplotlib/backends/backend_agg.py:183: RuntimeWarning: Glyph 54408 missing from current font.\n",
            "  font.set_text(s, 0, flags=flags)\n",
            "/usr/local/lib/python3.6/dist-packages/matplotlib/backends/backend_agg.py:183: RuntimeWarning: Glyph 44400 missing from current font.\n",
            "  font.set_text(s, 0, flags=flags)\n"
          ],
          "name": "stderr"
        },
        {
          "output_type": "display_data",
          "data": {
            "image/png": "[encoded data removed]",
            "text/plain": [
              "<Figure size 720x1440 with 1 Axes>"
            ]
          },
          "metadata": {
            "tags": [],
            "needs_background": "light"
          }
        }
      ]
    },
    {
      "cell_type": "markdown",
      "metadata": {
        "id": "smHo5w4uwXIG",
        "colab_type": "text"
      },
      "source": [
        "#판매단가"
      ]
    },
    {
      "cell_type": "code",
      "metadata": {
        "id": "-wKLyuzqwQzF",
        "colab_type": "code",
        "colab": {
          "base_uri": "https://localhost:8080/",
          "height": 52
        },
        "outputId": "d8e26e74-2461-49d2-ac97-9be0e84d9dc6"
      },
      "source": [
        "np.corrcoef(train['주문량'],train['판매단가'])\n"
      ],
      "execution_count": 62,
      "outputs": [
        {
          "output_type": "execute_result",
          "data": {
            "text/plain": [
              "array([[ 1.        , -0.39377501],\n",
              "       [-0.39377501,  1.        ]])"
            ]
          },
          "metadata": {
            "tags": []
          },
          "execution_count": 62
        }
      ]
    },
    {
      "cell_type": "code",
      "metadata": {
        "id": "aiStVWGgwQ1c",
        "colab_type": "code",
        "colab": {
          "base_uri": "https://localhost:8080/",
          "height": 52
        },
        "outputId": "d02830d2-c988-4785-e550-c3e9422de88c"
      },
      "source": [
        "np.corrcoef(train['주문량'],np.log(train['판매단가']))\n"
      ],
      "execution_count": 63,
      "outputs": [
        {
          "output_type": "execute_result",
          "data": {
            "text/plain": [
              "array([[ 1.        , -0.61081947],\n",
              "       [-0.61081947,  1.        ]])"
            ]
          },
          "metadata": {
            "tags": []
          },
          "execution_count": 63
        }
      ]
    },
    {
      "cell_type": "code",
      "metadata": {
        "id": "Ehr2adQ8wQ31",
        "colab_type": "code",
        "colab": {
          "base_uri": "https://localhost:8080/",
          "height": 282
        },
        "outputId": "2f3b04d2-a943-44fd-819f-f54263da0984"
      },
      "source": [
        "plt.scatter(train['주문량'], np.log(train['판매단가']))"
      ],
      "execution_count": null,
      "outputs": [
        {
          "output_type": "execute_result",
          "data": {
            "text/plain": [
              "<matplotlib.collections.PathCollection at 0x7f0cc7746320>"
            ]
          },
          "metadata": {
            "tags": []
          },
          "execution_count": 152
        },
        {
          "output_type": "display_data",
          "data": {
            "image/png": "[encoded data removed]",
            "text/plain": [
              "<Figure size 432x288 with 1 Axes>"
            ]
          },
          "metadata": {
            "tags": [],
            "needs_background": "light"
          }
        }
      ]
    },
    {
      "cell_type": "markdown",
      "metadata": {
        "id": "rpfMeuFiSK_3",
        "colab_type": "text"
      },
      "source": [
        "#시청률 데이터 EDA"
      ]
    },
    {
      "cell_type": "code",
      "metadata": {
        "id": "n2Zl0WaCwdLX",
        "colab_type": "code",
        "colab": {}
      },
      "source": [
        "watchdata = pd.read_excel('/content/drive/My Drive/빅콘폴더/2019시청률데이터.xlsx',header=1)"
      ],
      "execution_count": 67,
      "outputs": []
    },
    {
      "cell_type": "code",
      "metadata": {
        "id": "Lt-iSePQwdNW",
        "colab_type": "code",
        "colab": {}
      },
      "source": [
        "watchdata"
      ],
      "execution_count": null,
      "outputs": []
    },
    {
      "cell_type": "code",
      "metadata": {
        "id": "9pCWs-X5Excw",
        "colab_type": "code",
        "colab": {
          "base_uri": "https://localhost:8080/",
          "height": 230
        },
        "outputId": "3f0f195c-e99a-4022-c95a-53da87529edf"
      },
      "source": [
        "train_watch = watchdata.iloc[0:20,166:244].sum() # train에서 20분단위 시청률 합의 자료 (새벽2시~2시19분)\n",
        "train_watch"
      ],
      "execution_count": 68,
      "outputs": [
        {
          "output_type": "execute_result",
          "data": {
            "text/plain": [
              "2019-06-15    0.000\n",
              "2019-06-16    0.000\n",
              "2019-06-17    0.355\n",
              "2019-06-18    0.000\n",
              "2019-06-19    0.020\n",
              "              ...  \n",
              "2019-08-27    0.000\n",
              "2019-08-28    0.040\n",
              "2019-08-29    0.000\n",
              "2019-08-30    0.000\n",
              "2019-08-31    0.000\n",
              "Length: 78, dtype: float64"
            ]
          },
          "metadata": {
            "tags": []
          },
          "execution_count": 68
        }
      ]
    },
    {
      "cell_type": "code",
      "metadata": {
        "id": "t6CheKYGF2su",
        "colab_type": "code",
        "colab": {
          "base_uri": "https://localhost:8080/",
          "height": 34
        },
        "outputId": "00495494-a3c3-40df-b4be-f9542382440d"
      },
      "source": [
        "(watchdata.iloc[0:20,166:244].sum()>0).sum() #78개중 31개만 20분단위 시청률이 0보다 큼"
      ],
      "execution_count": 69,
      "outputs": [
        {
          "output_type": "execute_result",
          "data": {
            "text/plain": [
              "31"
            ]
          },
          "metadata": {
            "tags": []
          },
          "execution_count": 69
        }
      ]
    },
    {
      "cell_type": "code",
      "metadata": {
        "id": "85f1ycDhETmq",
        "colab_type": "code",
        "colab": {
          "base_uri": "https://localhost:8080/",
          "height": 230
        },
        "outputId": "10784cb1-02b8-4909-a02f-135be4a84e73"
      },
      "source": [
        "watch_day = watchdata.iloc[:,:-1].sum() #매일매일 모든 시간대에 대한 시청률 합계\n",
        "watch_day"
      ],
      "execution_count": 70,
      "outputs": [
        {
          "output_type": "execute_result",
          "data": {
            "text/plain": [
              "시간대           02:0002:0102:0202:0302:0402:0502:0602:0702:080...\n",
              "2019-01-01                                                5.304\n",
              "2019-01-02                                                8.018\n",
              "2019-01-03                                                2.494\n",
              "2019-01-04                                                 3.83\n",
              "                                    ...                        \n",
              "2019-12-27                                                5.589\n",
              "2019-12-28                                                8.816\n",
              "2019-12-29                                                6.451\n",
              "2019-12-30                                                6.594\n",
              "2019-12-31                                                7.076\n",
              "Length: 366, dtype: object"
            ]
          },
          "metadata": {
            "tags": []
          },
          "execution_count": 70
        }
      ]
    },
    {
      "cell_type": "code",
      "metadata": {
        "id": "IPueTUfxM6YK",
        "colab_type": "code",
        "colab": {
          "base_uri": "https://localhost:8080/",
          "height": 230
        },
        "outputId": "e96e4613-a06b-4cc2-c375-54256f0c2e35"
      },
      "source": [
        "train_watch = watchdata.iloc[:,166:244].sum() # train에서 모든 시간대 시청률 합의 자료\n",
        "train_watch"
      ],
      "execution_count": 71,
      "outputs": [
        {
          "output_type": "execute_result",
          "data": {
            "text/plain": [
              "2019-06-15     6.128\n",
              "2019-06-16     4.556\n",
              "2019-06-17     5.534\n",
              "2019-06-18     5.163\n",
              "2019-06-19     6.252\n",
              "               ...  \n",
              "2019-08-27     8.117\n",
              "2019-08-28     7.986\n",
              "2019-08-29     8.018\n",
              "2019-08-30    12.467\n",
              "2019-08-31     6.150\n",
              "Length: 78, dtype: float64"
            ]
          },
          "metadata": {
            "tags": []
          },
          "execution_count": 71
        }
      ]
    },
    {
      "cell_type": "code",
      "metadata": {
        "id": "imhD5h2tMQSf",
        "colab_type": "code",
        "colab": {
          "base_uri": "https://localhost:8080/",
          "height": 247
        },
        "outputId": "0bc1caf0-8c2a-4a43-ecf0-8c90f587b12e"
      },
      "source": [
        "hi = train.groupby(['DATE']).mean()['주문량']\n",
        "hi"
      ],
      "execution_count": 72,
      "outputs": [
        {
          "output_type": "execute_result",
          "data": {
            "text/plain": [
              "DATE\n",
              "20190615    170.033046\n",
              "20190616    350.118717\n",
              "20190617    310.302305\n",
              "20190618    398.498088\n",
              "20190619    263.105269\n",
              "               ...    \n",
              "20190827    522.956852\n",
              "20190828    530.107926\n",
              "20190829    657.764898\n",
              "20190830    504.389351\n",
              "20190831    441.873591\n",
              "Name: 주문량, Length: 78, dtype: float64"
            ]
          },
          "metadata": {
            "tags": []
          },
          "execution_count": 72
        }
      ]
    },
    {
      "cell_type": "code",
      "metadata": {
        "id": "ZJn19iW8M2BW",
        "colab_type": "code",
        "colab": {
          "base_uri": "https://localhost:8080/",
          "height": 34
        },
        "outputId": "0d74d1de-0a9e-48cd-8eb0-5c9674a1565e"
      },
      "source": [
        "stats.linregress(train_watch,hi)"
      ],
      "execution_count": 73,
      "outputs": [
        {
          "output_type": "execute_result",
          "data": {
            "text/plain": [
              "LinregressResult(slope=1.4971029372874778, intercept=329.0124183756924, rvalue=0.06169072167467972, pvalue=0.5915766066908947, stderr=2.778414468780406)"
            ]
          },
          "metadata": {
            "tags": []
          },
          "execution_count": 73
        }
      ]
    },
    {
      "cell_type": "code",
      "metadata": {
        "id": "suR23UPDNQcv",
        "colab_type": "code",
        "colab": {
          "base_uri": "https://localhost:8080/",
          "height": 406
        },
        "outputId": "b578c2e2-fd72-4296-8f5e-7065aca10610"
      },
      "source": [
        "hello = pd.DataFrame()\n",
        "hello['a'] = train_watch\n",
        "hello['b'] = hi.values\n",
        "hello"
      ],
      "execution_count": 74,
      "outputs": [
        {
          "output_type": "execute_result",
          "data": {
            "text/html": [
              "<div>\n",
              "<style scoped>\n",
              "    .dataframe tbody tr th:only-of-type {\n",
              "        vertical-align: middle;\n",
              "    }\n",
              "\n",
              "    .dataframe tbody tr th {\n",
              "        vertical-align: top;\n",
              "    }\n",
              "\n",
              "    .dataframe thead th {\n",
              "        text-align: right;\n",
              "    }\n",
              "</style>\n",
              "<table border=\"1\" class=\"dataframe\">\n",
              "  <thead>\n",
              "    <tr style=\"text-align: right;\">\n",
              "      <th></th>\n",
              "      <th>a</th>\n",
              "      <th>b</th>\n",
              "    </tr>\n",
              "  </thead>\n",
              "  <tbody>\n",
              "    <tr>\n",
              "      <th>2019-06-15</th>\n",
              "      <td>6.128</td>\n",
              "      <td>170.033046</td>\n",
              "    </tr>\n",
              "    <tr>\n",
              "      <th>2019-06-16</th>\n",
              "      <td>4.556</td>\n",
              "      <td>350.118717</td>\n",
              "    </tr>\n",
              "    <tr>\n",
              "      <th>2019-06-17</th>\n",
              "      <td>5.534</td>\n",
              "      <td>310.302305</td>\n",
              "    </tr>\n",
              "    <tr>\n",
              "      <th>2019-06-18</th>\n",
              "      <td>5.163</td>\n",
              "      <td>398.498088</td>\n",
              "    </tr>\n",
              "    <tr>\n",
              "      <th>2019-06-19</th>\n",
              "      <td>6.252</td>\n",
              "      <td>263.105269</td>\n",
              "    </tr>\n",
              "    <tr>\n",
              "      <th>...</th>\n",
              "      <td>...</td>\n",
              "      <td>...</td>\n",
              "    </tr>\n",
              "    <tr>\n",
              "      <th>2019-08-27</th>\n",
              "      <td>8.117</td>\n",
              "      <td>522.956852</td>\n",
              "    </tr>\n",
              "    <tr>\n",
              "      <th>2019-08-28</th>\n",
              "      <td>7.986</td>\n",
              "      <td>530.107926</td>\n",
              "    </tr>\n",
              "    <tr>\n",
              "      <th>2019-08-29</th>\n",
              "      <td>8.018</td>\n",
              "      <td>657.764898</td>\n",
              "    </tr>\n",
              "    <tr>\n",
              "      <th>2019-08-30</th>\n",
              "      <td>12.467</td>\n",
              "      <td>504.389351</td>\n",
              "    </tr>\n",
              "    <tr>\n",
              "      <th>2019-08-31</th>\n",
              "      <td>6.150</td>\n",
              "      <td>441.873591</td>\n",
              "    </tr>\n",
              "  </tbody>\n",
              "</table>\n",
              "<p>78 rows × 2 columns</p>\n",
              "</div>"
            ],
            "text/plain": [
              "                 a           b\n",
              "2019-06-15   6.128  170.033046\n",
              "2019-06-16   4.556  350.118717\n",
              "2019-06-17   5.534  310.302305\n",
              "2019-06-18   5.163  398.498088\n",
              "2019-06-19   6.252  263.105269\n",
              "...            ...         ...\n",
              "2019-08-27   8.117  522.956852\n",
              "2019-08-28   7.986  530.107926\n",
              "2019-08-29   8.018  657.764898\n",
              "2019-08-30  12.467  504.389351\n",
              "2019-08-31   6.150  441.873591\n",
              "\n",
              "[78 rows x 2 columns]"
            ]
          },
          "metadata": {
            "tags": []
          },
          "execution_count": 74
        }
      ]
    },
    {
      "cell_type": "code",
      "metadata": {
        "id": "iGQDs8L8SXVV",
        "colab_type": "code",
        "colab": {
          "base_uri": "https://localhost:8080/",
          "height": 312
        },
        "outputId": "fa681f72-40b6-4330-ec68-4bb3d60c0903"
      },
      "source": [
        "plt.scatter(hello['a'],hello['b']) \n",
        "plt.title(\"Jumun/Watch\")\n",
        "plt.xlabel(\"Day Total Watched\")\n",
        "plt.ylabel(\"Jumun Quantity\")"
      ],
      "execution_count": 75,
      "outputs": [
        {
          "output_type": "execute_result",
          "data": {
            "text/plain": [
              "Text(0, 0.5, 'Jumun Quantity')"
            ]
          },
          "metadata": {
            "tags": []
          },
          "execution_count": 75
        },
        {
          "output_type": "display_data",
          "data": {
            "image/png": "[encoded data removed]",
            "text/plain": [
              "<Figure size 432x288 with 1 Axes>"
            ]
          },
          "metadata": {
            "tags": [],
            "needs_background": "light"
          }
        }
      ]
    },
    {
      "cell_type": "markdown",
      "metadata": {
        "id": "aWbYTk4VCCn8",
        "colab_type": "text"
      },
      "source": [
        "# 모델 생성 및 훈련"
      ]
    },
    {
      "cell_type": "code",
      "metadata": {
        "id": "8EcKoecAo_MH",
        "colab_type": "code",
        "colab": {}
      },
      "source": [
        "y_train = train['주문량']\n",
        "x_train = train.drop('주문량',axis=1)"
      ],
      "execution_count": 76,
      "outputs": []
    },
    {
      "cell_type": "code",
      "metadata": {
        "id": "CZsdwzjppw-K",
        "colab_type": "code",
        "colab": {
          "base_uri": "https://localhost:8080/",
          "height": 461
        },
        "outputId": "415c3bba-b05a-4b55-c73e-06897f70c921"
      },
      "source": [
        "x_train , y_train"
      ],
      "execution_count": 77,
      "outputs": [
        {
          "output_type": "execute_result",
          "data": {
            "text/plain": [
              "(      Unnamed: 0                방송일시  노출(분)    마더코드  ...   분류 MONTH HOUR  DAY\n",
              " 0          17373 2019-06-15 00:00:00   20.0  100305  ...   f1     6    0  sat\n",
              " 1          17374 2019-06-15 00:20:00   20.0  100305  ...   f1     6    0  sat\n",
              " 2          17375 2019-06-15 00:40:00   20.0  100305  ...   f1     6    0  sat\n",
              " 3          17376 2019-06-15 01:00:00   30.0  100374  ...  g11     6    1  sat\n",
              " 4          17377 2019-06-15 01:00:00   30.0  100374  ...  g11     6    1  sat\n",
              " ...          ...                 ...    ...     ...  ...  ...   ...  ...  ...\n",
              " 8025       25398 2019-08-31 23:00:00   20.0  100205  ...   a1     8   23  sat\n",
              " 8026       25399 2019-08-31 23:20:00   20.0  100292  ...  i29     8   23  sat\n",
              " 8027       25400 2019-08-31 23:20:00   20.0  100292  ...  i29     8   23  sat\n",
              " 8028       25401 2019-08-31 23:40:00   20.0  100292  ...  i29     8   23  sat\n",
              " 8029       25402 2019-08-31 23:40:00   20.0  100292  ...  i29     8   23  sat\n",
              " \n",
              " [7513 rows x 56 columns], 0       138.798319\n",
              " 1       376.714286\n",
              " 2       471.067227\n",
              " 3       144.869565\n",
              " 4       136.362319\n",
              "            ...    \n",
              " 8025     80.655864\n",
              " 8026     39.589888\n",
              " 8027     42.421348\n",
              " 8028    132.719101\n",
              " 8029     92.825843\n",
              " Name: 주문량, Length: 7513, dtype: float64)"
            ]
          },
          "metadata": {
            "tags": []
          },
          "execution_count": 77
        }
      ]
    },
    {
      "cell_type": "code",
      "metadata": {
        "id": "EyGMWZFNqJW8",
        "colab_type": "code",
        "colab": {}
      },
      "source": [
        "from sklearn.ensemble import RandomForestRegressor\n",
        "forest = RandomForestRegressor()"
      ],
      "execution_count": 78,
      "outputs": []
    },
    {
      "cell_type": "code",
      "metadata": {
        "id": "nbxMT0RzqJUQ",
        "colab_type": "code",
        "colab": {}
      },
      "source": [
        "from sklearn.model_selection import train_test_split\n",
        "X_train, X_test, Y_train, Y_test = train_test_split(x_train, y_train, test_size=0.2, random_state=42)"
      ],
      "execution_count": 79,
      "outputs": []
    },
    {
      "cell_type": "code",
      "metadata": {
        "id": "D0kagQgW1bb8",
        "colab_type": "code",
        "colab": {
          "base_uri": "https://localhost:8080/",
          "height": 230
        },
        "outputId": "3da717ed-2aaa-4286-9e75-552d89ecab25"
      },
      "source": [
        "Y_train"
      ],
      "execution_count": 80,
      "outputs": [
        {
          "output_type": "execute_result",
          "data": {
            "text/plain": [
              "6824      4.300478\n",
              "4869      6.792708\n",
              "4036    500.314607\n",
              "7540    872.367347\n",
              "6027     20.240876\n",
              "           ...    \n",
              "5543    605.150754\n",
              "5578      2.205333\n",
              "5764      4.204403\n",
              "923     505.441767\n",
              "7782     62.262262\n",
              "Name: 주문량, Length: 6010, dtype: float64"
            ]
          },
          "metadata": {
            "tags": []
          },
          "execution_count": 80
        }
      ]
    },
    {
      "cell_type": "code",
      "metadata": {
        "id": "XLLOhpIc1wAk",
        "colab_type": "code",
        "colab": {
          "base_uri": "https://localhost:8080/",
          "height": 250
        },
        "outputId": "fdbb9f06-70b6-41ee-850d-ec08ddb18978"
      },
      "source": [
        "X_train.columns"
      ],
      "execution_count": 81,
      "outputs": [
        {
          "output_type": "execute_result",
          "data": {
            "text/plain": [
              "Index(['Unnamed: 0', '방송일시', '노출(분)', '마더코드', '상품코드', '상품명', '상품군', '판매단가',\n",
              "       '취급액', '날짜', '시간', '요일', '시', 'holiday', '월', 'holiday(includeSS)',\n",
              "       '실제_서울_최고기온', '실제_서울_최저기온', '실제_서울_강수량(mm)', '실제_서울_평균풍속(m/s)',\n",
              "       '실제_서울_날씨', '실제_수원_최고기온', '실제_수원_최저기온', '실제_수원_강수량(mm)',\n",
              "       '실제_수원_평균풍속(m/s)', '실제_수원_날씨', '실제_파주_최고기온', '실제_파주_최저기온',\n",
              "       '실제_파주_강수량(mm)', '실제_파주_평균풍속(m/s)', '실제_파주_날씨', '예보_서울_강수확률',\n",
              "       '예보_서울_강수량', '예보_서울_하늘상태', '예보_서울_일최고기온', '예보_서울_일최저기온', '예보_일산_강수확률',\n",
              "       '예보_일산_강수량', '예보_일산_일최고기온', '예보_일산_일최저기온', '예보_수원_강수확률', '예보_수원_강수량',\n",
              "       '예보_수원_일최고기온', '예보_수원_일최저기온', '계절', 'DATE', '미세먼지(㎍/㎥)', '오존(ppm)',\n",
              "       '이산화질소농도(ppm)', '일산화탄소농도(ppm)', '아황산가스농도(ppm)', '초미세먼지(㎍/㎥)', '분류',\n",
              "       'MONTH', 'HOUR', 'DAY'],\n",
              "      dtype='object')"
            ]
          },
          "metadata": {
            "tags": []
          },
          "execution_count": 81
        }
      ]
    },
    {
      "cell_type": "code",
      "metadata": {
        "id": "4dr-tuIL4uoJ",
        "colab_type": "code",
        "colab": {
          "base_uri": "https://localhost:8080/",
          "height": 230
        },
        "outputId": "735bc9a5-6fce-42f6-9c37-084a596205e9"
      },
      "source": [
        "X_train['분류']"
      ],
      "execution_count": 82,
      "outputs": [
        {
          "output_type": "execute_result",
          "data": {
            "text/plain": [
              "6824    i10\n",
              "4869     b6\n",
              "4036     f5\n",
              "7540     f3\n",
              "6027     a1\n",
              "       ... \n",
              "5543     i4\n",
              "5578    i29\n",
              "5764    i29\n",
              "923      j4\n",
              "7782    e18\n",
              "Name: 분류, Length: 6010, dtype: object"
            ]
          },
          "metadata": {
            "tags": []
          },
          "execution_count": 82
        }
      ]
    },
    {
      "cell_type": "markdown",
      "metadata": {
        "id": "kONCKNTJ6QYg",
        "colab_type": "text"
      },
      "source": [
        "# 빈도수로 인코딩(분류를, 마더코드 대신 쓸거임)"
      ]
    },
    {
      "cell_type": "code",
      "metadata": {
        "id": "Rui8ILxi6FYX",
        "colab_type": "code",
        "colab": {
          "base_uri": "https://localhost:8080/",
          "height": 247
        },
        "outputId": "6f9d43b7-1fee-43c9-f987-7875d6984b02"
      },
      "source": [
        "enc_nom_1 = (X_train.groupby('분류').size())/len(X_train)\n",
        "enc_nom_1"
      ],
      "execution_count": 83,
      "outputs": [
        {
          "output_type": "execute_result",
          "data": {
            "text/plain": [
              "분류\n",
              "a1    0.040266\n",
              "a2    0.020300\n",
              "b1    0.018802\n",
              "b2    0.023960\n",
              "b3    0.018469\n",
              "        ...   \n",
              "j7    0.001165\n",
              "j8    0.000666\n",
              "j9    0.002163\n",
              "k1    0.001165\n",
              "k2    0.036772\n",
              "Length: 83, dtype: float64"
            ]
          },
          "metadata": {
            "tags": []
          },
          "execution_count": 83
        }
      ]
    },
    {
      "cell_type": "code",
      "metadata": {
        "id": "3qwQWkVs7GBa",
        "colab_type": "code",
        "colab": {
          "base_uri": "https://localhost:8080/",
          "height": 247
        },
        "outputId": "f2909b7b-650c-495a-916d-736e7a8f1257"
      },
      "source": [
        "enc_nom_2 = (X_test.groupby('분류').size())/len(X_test)\n",
        "enc_nom_2"
      ],
      "execution_count": 84,
      "outputs": [
        {
          "output_type": "execute_result",
          "data": {
            "text/plain": [
              "분류\n",
              "a1    0.041916\n",
              "a2    0.022621\n",
              "b1    0.011311\n",
              "b2    0.019295\n",
              "b3    0.025948\n",
              "        ...   \n",
              "j7    0.001331\n",
              "j8    0.001331\n",
              "j9    0.003327\n",
              "k1    0.001331\n",
              "k2    0.034597\n",
              "Length: 78, dtype: float64"
            ]
          },
          "metadata": {
            "tags": []
          },
          "execution_count": 84
        }
      ]
    },
    {
      "cell_type": "code",
      "metadata": {
        "id": "SFgHCGtX6Yb3",
        "colab_type": "code",
        "colab": {}
      },
      "source": [
        "X_train['freq_enc_cate'] = X_train['분류'].apply(lambda x:enc_nom_1[x])\n",
        "X_train.head()"
      ],
      "execution_count": null,
      "outputs": []
    },
    {
      "cell_type": "code",
      "metadata": {
        "id": "hZQHI3m-7KiJ",
        "colab_type": "code",
        "colab": {}
      },
      "source": [
        "X_test['freq_enc_cate'] = X_test['분류'].apply(lambda x:enc_nom_2[x])\n",
        "X_test.head()"
      ],
      "execution_count": null,
      "outputs": []
    },
    {
      "cell_type": "code",
      "metadata": {
        "id": "HasFxL_9BAKV",
        "colab_type": "code",
        "colab": {
          "base_uri": "https://localhost:8080/",
          "height": 250
        },
        "outputId": "7755588c-e13f-49d0-d7f4-1efbaeb5030c"
      },
      "source": [
        "#X_train['마더코드'].isin(topcode)\n",
        "X_train['topcode']= X_train['마더코드'].isin(topcode) #노출/대비주문량 상위50개 코드리스트(브랜드파워느낌)\n",
        "X_test['topcode']= X_test['마더코드'].isin(topcode)"
      ],
      "execution_count": 137,
      "outputs": [
        {
          "output_type": "stream",
          "text": [
            "/usr/local/lib/python3.6/dist-packages/ipykernel_launcher.py:2: SettingWithCopyWarning: \n",
            "A value is trying to be set on a copy of a slice from a DataFrame.\n",
            "Try using .loc[row_indexer,col_indexer] = value instead\n",
            "\n",
            "See the caveats in the documentation: https://pandas.pydata.org/pandas-docs/stable/user_guide/indexing.html#returning-a-view-versus-a-copy\n",
            "  \n",
            "/usr/local/lib/python3.6/dist-packages/ipykernel_launcher.py:3: SettingWithCopyWarning: \n",
            "A value is trying to be set on a copy of a slice from a DataFrame.\n",
            "Try using .loc[row_indexer,col_indexer] = value instead\n",
            "\n",
            "See the caveats in the documentation: https://pandas.pydata.org/pandas-docs/stable/user_guide/indexing.html#returning-a-view-versus-a-copy\n",
            "  This is separate from the ipykernel package so we can avoid doing imports until\n"
          ],
          "name": "stderr"
        }
      ]
    },
    {
      "cell_type": "markdown",
      "metadata": {
        "id": "rgw76P75CCwp",
        "colab_type": "text"
      },
      "source": [
        "# Feature선택"
      ]
    },
    {
      "cell_type": "code",
      "metadata": {
        "id": "vjN3Cg279oaL",
        "colab_type": "code",
        "colab": {
          "base_uri": "https://localhost:8080/",
          "height": 107
        },
        "outputId": "d91a9158-d88e-4de0-d37b-36e2b9771232"
      },
      "source": [
        "feature_selection = X_train.iloc[:,[2,7,11,13,14,31,32,33,34,36,37,38,40,41,42,54,56,57]].columns.values\n",
        "feature_selection"
      ],
      "execution_count": 130,
      "outputs": [
        {
          "output_type": "execute_result",
          "data": {
            "text/plain": [
              "array(['노출(분)', '판매단가', '요일', 'holiday', '월', '예보_서울_강수확률', '예보_서울_강수량',\n",
              "       '예보_서울_하늘상태', '예보_서울_일최고기온', '예보_일산_강수확률', '예보_일산_강수량',\n",
              "       '예보_일산_일최고기온', '예보_수원_강수확률', '예보_수원_강수량', '예보_수원_일최고기온', 'HOUR',\n",
              "       'freq_enc_cate', 'topcode'], dtype=object)"
            ]
          },
          "metadata": {
            "tags": []
          },
          "execution_count": 130
        }
      ]
    },
    {
      "cell_type": "code",
      "metadata": {
        "id": "aXubGvdS667u",
        "colab_type": "code",
        "colab": {}
      },
      "source": [
        "shop_train_x = X_train[feature_selection]\n",
        "shop_test_x = X_test[feature_selection]"
      ],
      "execution_count": 135,
      "outputs": []
    },
    {
      "cell_type": "code",
      "metadata": {
        "id": "2Qli_4Wr7DfS",
        "colab_type": "code",
        "colab": {
          "base_uri": "https://localhost:8080/",
          "height": 141
        },
        "outputId": "e2f7cb24-6a9f-455b-f47c-276de087143e"
      },
      "source": [
        "forest.fit(shop_train_x, Y_train)"
      ],
      "execution_count": 136,
      "outputs": [
        {
          "output_type": "execute_result",
          "data": {
            "text/plain": [
              "RandomForestRegressor(bootstrap=True, ccp_alpha=0.0, criterion='mse',\n",
              "                      max_depth=None, max_features='auto', max_leaf_nodes=None,\n",
              "                      max_samples=None, min_impurity_decrease=0.0,\n",
              "                      min_impurity_split=None, min_samples_leaf=1,\n",
              "                      min_samples_split=2, min_weight_fraction_leaf=0.0,\n",
              "                      n_estimators=100, n_jobs=None, oob_score=False,\n",
              "                      random_state=None, verbose=0, warm_start=False)"
            ]
          },
          "metadata": {
            "tags": []
          },
          "execution_count": 136
        }
      ]
    },
    {
      "cell_type": "code",
      "metadata": {
        "id": "IaBCFfWg-UB3",
        "colab_type": "code",
        "colab": {}
      },
      "source": [
        "def mean_absolute_percentage_error(y_true, y_pred): \n",
        "    y_true, y_pred = np.array(y_true), np.array(y_pred)\n",
        "    return np.mean(np.abs((y_true - y_pred) / y_true)) * 100"
      ],
      "execution_count": 104,
      "outputs": []
    },
    {
      "cell_type": "code",
      "metadata": {
        "id": "cjwmmJ9F70bP",
        "colab_type": "code",
        "colab": {
          "base_uri": "https://localhost:8080/",
          "height": 34
        },
        "outputId": "a1132b51-589b-4d6f-d348-7021a1600171"
      },
      "source": [
        "predictions = forest.predict(shop_train_x)\n",
        "mape = mean_absolute_percentage_error(Y_train, predictions)\n",
        "mape"
      ],
      "execution_count": 138,
      "outputs": [
        {
          "output_type": "execute_result",
          "data": {
            "text/plain": [
              "50.705211818773165"
            ]
          },
          "metadata": {
            "tags": []
          },
          "execution_count": 138
        }
      ]
    },
    {
      "cell_type": "code",
      "metadata": {
        "id": "I9vT0XdWALkB",
        "colab_type": "code",
        "colab": {
          "base_uri": "https://localhost:8080/",
          "height": 90
        },
        "outputId": "2e766609-266e-41f5-8cba-cd9f1a4da7fa"
      },
      "source": [
        "some_data = X_train.iloc[:8] # 8개의 Data의 주문량 예측해 보겠음.\n",
        "some_labels = Y_train.iloc[:8]\n",
        "some_data = some_data[feature_selection]\n",
        "print(\"예측\", forest.predict(some_data))\n",
        "print(\"레이블:\", list(some_labels))"
      ],
      "execution_count": 107,
      "outputs": [
        {
          "output_type": "stream",
          "text": [
            "예측 [  4.1189857    8.827671   340.93220528 712.19112775  30.82385836\n",
            " 363.41098743  36.56730771 965.01057558]\n",
            "레이블: [4.30047846889952, 6.79270833333333, 500.314606741573, 872.367346938775, 20.2408759124087, 429.872495446265, 17.2635658914728, 1371.28762541806]\n"
          ],
          "name": "stdout"
        }
      ]
    }
  ]
}