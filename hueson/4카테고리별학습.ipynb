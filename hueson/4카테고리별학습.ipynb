{
  "nbformat": 4,
  "nbformat_minor": 0,
  "metadata": {
    "colab": {
      "name": "4카테고리별학습.ipynb",
      "provenance": []
    },
    "kernelspec": {
      "name": "python3",
      "display_name": "Python 3"
    }
  },
  "cells": [
    {
      "cell_type": "code",
      "metadata": {
        "id": "j-_kGvx0j4K9",
        "colab_type": "code",
        "colab": {
          "base_uri": "https://localhost:8080/",
          "height": 52
        },
        "outputId": "4f0202b9-c734-4a93-c097-cd68f3c990d4"
      },
      "source": [
        "import matplotlib.pyplot as plt\n",
        "import numpy as np\n",
        "import pandas as pd\n",
        "import datetime as dt\n",
        "import seaborn as sns\n",
        "from scipy import stats\n",
        "import math"
      ],
      "execution_count": 3,
      "outputs": [
        {
          "output_type": "stream",
          "text": [
            "/usr/local/lib/python3.6/dist-packages/statsmodels/tools/_testing.py:19: FutureWarning: pandas.util.testing is deprecated. Use the functions in the public API at pandas.testing instead.\n",
            "  import pandas.util.testing as tm\n"
          ],
          "name": "stderr"
        }
      ]
    },
    {
      "cell_type": "markdown",
      "metadata": {
        "id": "oShzC-wQkadP",
        "colab_type": "text"
      },
      "source": [
        "# 데이터 생성"
      ]
    },
    {
      "cell_type": "code",
      "metadata": {
        "id": "c4OnO7TLhk2O",
        "colab_type": "code",
        "colab": {}
      },
      "source": [
        "train = pd.read_excel('/content/drive/My Drive/빅콘폴더/train.xlsx')\n",
        "train = train[train['판매단가'] < train['취급액']]"
      ],
      "execution_count": 4,
      "outputs": []
    },
    {
      "cell_type": "code",
      "metadata": {
        "id": "y6FN_5X3hk0F",
        "colab_type": "code",
        "colab": {}
      },
      "source": [
        "train['노출(분)'] = train['노출(분)'].replace(0, math.nan)\n",
        "train['노출(분)'] = train['노출(분)'].fillna(method='ffill')"
      ],
      "execution_count": 5,
      "outputs": []
    },
    {
      "cell_type": "code",
      "metadata": {
        "id": "07gxL6uSiGSm",
        "colab_type": "code",
        "colab": {}
      },
      "source": [
        "test = pd.read_excel('/content/drive/My Drive/빅콘폴더/test.xlsx', header=1)"
      ],
      "execution_count": 6,
      "outputs": []
    },
    {
      "cell_type": "code",
      "metadata": {
        "id": "d13P5mDvh7k-",
        "colab_type": "code",
        "colab": {}
      },
      "source": [
        "data = pd.read_excel('/content/drive/My Drive/빅콘폴더/2020_bigcontest_champion_performance.xlsx', header=1)\n",
        "data = data[data['상품군']!='무형'] \n",
        "data = data[data['판매단가'] < data['취급액']]\n",
        "data['날짜'] = pd.to_datetime(data['방송일시']).dt.date\n",
        "data['날짜'] = pd.to_datetime(data['날짜'])\n",
        "data['주문량'] = data['취급액']/data['판매단가']\n",
        "data[\"요일\"]=data[\"방송일시\"].dt.dayofweek # 요일\n",
        "data[\"시\"]=data[\"방송일시\"].dt.hour # 시\n",
        "data['월'] = data['방송일시'].dt.month # 월\n",
        "weekday = {\"월\":0,\"화\":1,\"수\":2,\"목\":3,\"금\":4,\"토\":5,\"일\":6}"
      ],
      "execution_count": 7,
      "outputs": []
    },
    {
      "cell_type": "code",
      "metadata": {
        "id": "TzRT8jKLh7iv",
        "colab_type": "code",
        "colab": {}
      },
      "source": [
        "data = data.fillna(method='ffill')"
      ],
      "execution_count": 8,
      "outputs": []
    },
    {
      "cell_type": "code",
      "metadata": {
        "id": "pk_XPqX5iD9K",
        "colab_type": "code",
        "colab": {}
      },
      "source": [
        "data = data.iloc[17604:25792]"
      ],
      "execution_count": 9,
      "outputs": []
    },
    {
      "cell_type": "markdown",
      "metadata": {
        "id": "A3QPyARfkcuO",
        "colab_type": "text"
      },
      "source": [
        "# 날씨 처리"
      ]
    },
    {
      "cell_type": "code",
      "metadata": {
        "id": "4IYt17QfiD7d",
        "colab_type": "code",
        "colab": {}
      },
      "source": [
        "# 대표 지역들\n",
        "places = [\"강릉\",\"광주\",\"부산\",\"수원\",\"울산\",\"대구\",\"대전\",\"서울\",\"파주\"] \n",
        "weather = pd.read_excel(\"/content/drive/My Drive/빅콘폴더/날씨_실제/강릉날씨.xlsx\")\n",
        "row_num = weather.shape[0]\n",
        "weather[\"지역\"]=[\"강릉\"]*row_num"
      ],
      "execution_count": 10,
      "outputs": []
    },
    {
      "cell_type": "code",
      "metadata": {
        "id": "2T3GSzNYiD5L",
        "colab_type": "code",
        "colab": {}
      },
      "source": [
        "# 모든 지역 날씨 데이터 세로로 합치기\n",
        "for p in places[1:]:\n",
        "    a=pd.read_excel(f\"/content/drive/My Drive/빅콘폴더/날씨_실제/{p}날씨.xlsx\")\n",
        "    a[\"지역\"]=[p]*row_num\n",
        "    weather = pd.concat([weather, a], axis=0)"
      ],
      "execution_count": 11,
      "outputs": []
    },
    {
      "cell_type": "code",
      "metadata": {
        "id": "-PQmp4AriD3J",
        "colab_type": "code",
        "colab": {}
      },
      "source": [
        "# \"-\" -> 0값으로 변경\n",
        "weather[\"강수량(mm)\"]=weather[\"강수량(mm)\"].replace(\"-\",0)\n",
        "weather[\"신적설(cm)\"]=weather[\"신적설(cm)\"].replace(\"-\",0)\n",
        "weather[\"운량(1/10)\"]=weather[\"운량(1/10)\"].replace(\"-\",0)\n",
        "\n",
        "# object 형 float 형으로 변경\n",
        "weather[\"강수량(mm)\"]=weather[\"강수량(mm)\"].astype(float)\n",
        "weather[\"신적설(cm)\"]=weather[\"신적설(cm)\"].astype(float)\n",
        "weather[\"운량(1/10)\"]=weather[\"운량(1/10)\"].astype(float)"
      ],
      "execution_count": 12,
      "outputs": []
    },
    {
      "cell_type": "code",
      "metadata": {
        "id": "smLfAW8RiNG-",
        "colab_type": "code",
        "colab": {}
      },
      "source": [
        "weather = weather.reset_index()"
      ],
      "execution_count": 13,
      "outputs": []
    },
    {
      "cell_type": "code",
      "metadata": {
        "id": "SHN4TcWZiNIz",
        "colab_type": "code",
        "colab": {}
      },
      "source": [
        "# 날짜 set 맞추기\n",
        "new_weather = pd.DataFrame()\n",
        "new_weather = weather.iloc[165:243]\n",
        "new_weather = pd.concat([new_weather, weather.iloc[753:831]])\n",
        "new_weather = pd.concat([new_weather, weather.iloc[1341:1419]])\n",
        "new_weather = pd.concat([new_weather, weather.iloc[1929:2007]])\n",
        "new_weather = pd.concat([new_weather, weather.iloc[2517:2595]])\n",
        "new_weather = pd.concat([new_weather, weather.iloc[3105:3183]])\n",
        "new_weather = pd.concat([new_weather, weather.iloc[3693:3771]])\n",
        "new_weather = pd.concat([new_weather, weather.iloc[4281:4359]])\n",
        "new_weather = pd.concat([new_weather, weather.iloc[4869:4947]])"
      ],
      "execution_count": 14,
      "outputs": []
    },
    {
      "cell_type": "code",
      "metadata": {
        "id": "-dV2Bi2TiNEt",
        "colab_type": "code",
        "colab": {}
      },
      "source": [
        "# 서울 날씨와 강릉, 부산 날씨로 칼럼별 주문량 상관성 확인 및 지역별 날씨의 영향도 확인\n",
        "gang_weather = new_weather.loc[new_weather[\"지역\"]==\"강릉\",:]\n",
        "seoul_weather = new_weather.loc[new_weather[\"지역\"]==\"서울\",:]\n",
        "busan_weather = new_weather.loc[new_weather[\"지역\"]==\"부산\",:]\n",
        "suwon_weather = new_weather.loc[new_weather[\"지역\"]==\"수원\",:]\n",
        "sudogwon_weather = new_weather.loc[(new_weather[\"지역\"]==\"서울\")|(weather[\"지역\"]==\"수원\"),:]"
      ],
      "execution_count": 15,
      "outputs": []
    },
    {
      "cell_type": "code",
      "metadata": {
        "id": "MjAfIXaxuUaS",
        "colab_type": "code",
        "colab": {}
      },
      "source": [
        "day_data = data.copy()"
      ],
      "execution_count": 16,
      "outputs": []
    },
    {
      "cell_type": "code",
      "metadata": {
        "id": "H1Qmt8kauUdA",
        "colab_type": "code",
        "colab": {}
      },
      "source": [
        "day_data['날짜'] = pd.to_datetime(day_data['날짜'])\n",
        "new_weather['날짜'] = pd.to_datetime(new_weather['날짜'])"
      ],
      "execution_count": 17,
      "outputs": []
    },
    {
      "cell_type": "code",
      "metadata": {
        "id": "--c5h6_9uUfm",
        "colab_type": "code",
        "colab": {}
      },
      "source": [
        "all_data = day_data.merge(new_weather, on='날짜')\n",
        "all_data = all_data.groupby(['날짜']).mean()"
      ],
      "execution_count": 18,
      "outputs": []
    },
    {
      "cell_type": "code",
      "metadata": {
        "id": "ndGRCTAAuUic",
        "colab_type": "code",
        "colab": {
          "base_uri": "https://localhost:8080/",
          "height": 550
        },
        "outputId": "60372072-e111-4f7e-d74c-1c72448ee06d"
      },
      "source": [
        "sudogwon_weather['날짜'] = pd.to_datetime(sudogwon_weather['날짜'] )\n",
        "seoul_weather['날짜'] = pd.to_datetime(seoul_weather['날짜'] )\n",
        "busan_weather['날짜'] =pd.to_datetime(busan_weather['날짜'] )\n",
        "suwon_weather['날짜'] = pd.to_datetime(suwon_weather['날짜'] )\n",
        "gang_weather['날짜'] = pd.to_datetime(gang_weather['날짜'])"
      ],
      "execution_count": 19,
      "outputs": [
        {
          "output_type": "stream",
          "text": [
            "/usr/local/lib/python3.6/dist-packages/ipykernel_launcher.py:1: SettingWithCopyWarning: \n",
            "A value is trying to be set on a copy of a slice from a DataFrame.\n",
            "Try using .loc[row_indexer,col_indexer] = value instead\n",
            "\n",
            "See the caveats in the documentation: https://pandas.pydata.org/pandas-docs/stable/user_guide/indexing.html#returning-a-view-versus-a-copy\n",
            "  \"\"\"Entry point for launching an IPython kernel.\n",
            "/usr/local/lib/python3.6/dist-packages/ipykernel_launcher.py:2: SettingWithCopyWarning: \n",
            "A value is trying to be set on a copy of a slice from a DataFrame.\n",
            "Try using .loc[row_indexer,col_indexer] = value instead\n",
            "\n",
            "See the caveats in the documentation: https://pandas.pydata.org/pandas-docs/stable/user_guide/indexing.html#returning-a-view-versus-a-copy\n",
            "  \n",
            "/usr/local/lib/python3.6/dist-packages/ipykernel_launcher.py:3: SettingWithCopyWarning: \n",
            "A value is trying to be set on a copy of a slice from a DataFrame.\n",
            "Try using .loc[row_indexer,col_indexer] = value instead\n",
            "\n",
            "See the caveats in the documentation: https://pandas.pydata.org/pandas-docs/stable/user_guide/indexing.html#returning-a-view-versus-a-copy\n",
            "  This is separate from the ipykernel package so we can avoid doing imports until\n",
            "/usr/local/lib/python3.6/dist-packages/ipykernel_launcher.py:4: SettingWithCopyWarning: \n",
            "A value is trying to be set on a copy of a slice from a DataFrame.\n",
            "Try using .loc[row_indexer,col_indexer] = value instead\n",
            "\n",
            "See the caveats in the documentation: https://pandas.pydata.org/pandas-docs/stable/user_guide/indexing.html#returning-a-view-versus-a-copy\n",
            "  after removing the cwd from sys.path.\n",
            "/usr/local/lib/python3.6/dist-packages/ipykernel_launcher.py:5: SettingWithCopyWarning: \n",
            "A value is trying to be set on a copy of a slice from a DataFrame.\n",
            "Try using .loc[row_indexer,col_indexer] = value instead\n",
            "\n",
            "See the caveats in the documentation: https://pandas.pydata.org/pandas-docs/stable/user_guide/indexing.html#returning-a-view-versus-a-copy\n",
            "  \"\"\"\n"
          ],
          "name": "stderr"
        }
      ]
    },
    {
      "cell_type": "code",
      "metadata": {
        "id": "D1htH9hMiTJ3",
        "colab_type": "code",
        "colab": {}
      },
      "source": [
        "sudogwon_data = day_data.merge(sudogwon_weather, on=\"날짜\")\n",
        "suwon_data = day_data.merge(suwon_weather, on=\"날짜\")\n",
        "seoul_data = day_data.merge(seoul_weather, on=\"날짜\")\n",
        "busan_data = day_data.merge(busan_weather, on=\"날짜\")\n",
        "gang_data = day_data.merge(gang_weather, on=\"날짜\")"
      ],
      "execution_count": 20,
      "outputs": []
    },
    {
      "cell_type": "code",
      "metadata": {
        "id": "zjRE6myuiTHm",
        "colab_type": "code",
        "colab": {}
      },
      "source": [
        "fc_prop = pd.read_csv(\"/content/drive/My Drive/빅콘폴더/날씨예보/서울날씨/강수확률.csv\")\n",
        "fc_amount = pd.read_csv(\"/content/drive/My Drive/빅콘폴더/날씨예보/서울날씨/6시간 강수량.csv\") \n",
        "fc_sky = pd.read_csv(\"/content/drive/My Drive/빅콘폴더/날씨예보/서울날씨/하늘상태.csv\")\n",
        "fc_top = pd.read_csv(\"/content/drive/My Drive/빅콘폴더/날씨예보/서울날씨/일최고기온.csv\")\n",
        "fc_bottom = pd.read_csv(\"/content/drive/My Drive/빅콘폴더/날씨예보/서울날씨/일최저기온.csv\")"
      ],
      "execution_count": 21,
      "outputs": []
    },
    {
      "cell_type": "code",
      "metadata": {
        "id": "5zJKr2vUuU7-",
        "colab_type": "code",
        "colab": {}
      },
      "source": [
        "forecast_data = {\"강수확률\":fc_prop, \"강수량\":fc_amount,\"하늘상태\":fc_sky, \"일최고기온\":fc_top, \"일최저기온\":fc_bottom}"
      ],
      "execution_count": 22,
      "outputs": []
    },
    {
      "cell_type": "code",
      "metadata": {
        "id": "aIHTanSFB3nJ",
        "colab_type": "code",
        "colab": {}
      },
      "source": [
        "forecast = pd.DataFrame()\n",
        "\n",
        "for name, fcdata in forecast_data.items():\n",
        "    amount_list=[]\n",
        "    cycle = (fcdata.shape[0])//365 # 하루 관측량\n",
        "    for i in range(365):\n",
        "        day_weather = fcdata.iloc[i*cycle:(i+1)*cycle,-1].mean()\n",
        "        amount_list.append(day_weather)\n",
        "    forecast[name]=amount_list"
      ],
      "execution_count": 23,
      "outputs": []
    },
    {
      "cell_type": "code",
      "metadata": {
        "id": "KCWSIKo1vKbq",
        "colab_type": "code",
        "colab": {}
      },
      "source": [
        "forecast = forecast.iloc[165:243]"
      ],
      "execution_count": 24,
      "outputs": []
    },
    {
      "cell_type": "code",
      "metadata": {
        "id": "XyfJXcBjvKet",
        "colab_type": "code",
        "colab": {}
      },
      "source": [
        "# 날짜 칼럼 추가\n",
        "forecast[\"날짜\"]=train[\"날짜\"].unique()"
      ],
      "execution_count": 25,
      "outputs": []
    },
    {
      "cell_type": "markdown",
      "metadata": {
        "id": "5W896oTckftT",
        "colab_type": "text"
      },
      "source": [
        "# 마더코드, 일/월별 처리"
      ]
    },
    {
      "cell_type": "code",
      "metadata": {
        "id": "RRr6F1YowB8a",
        "colab_type": "code",
        "colab": {}
      },
      "source": [
        "MomCodeGroup2 = train.groupby(['마더코드']).sum()"
      ],
      "execution_count": 37,
      "outputs": []
    },
    {
      "cell_type": "code",
      "metadata": {
        "id": "AzkJFha5wCAf",
        "colab_type": "code",
        "colab": {
          "base_uri": "https://localhost:8080/",
          "height": 347
        },
        "outputId": "cd3d8ca8-f063-4c55-93b4-677321344b5e"
      },
      "source": [
        "MomCodeGroup2['주문량/노출'] = MomCodeGroup2['주문량']/MomCodeGroup2['노출(분)']\n",
        "MomCodeGroup2.sort_values('주문량/노출', ascending=False).head()"
      ],
      "execution_count": 38,
      "outputs": [
        {
          "output_type": "execute_result",
          "data": {
            "text/html": [
              "<div>\n",
              "<style scoped>\n",
              "    .dataframe tbody tr th:only-of-type {\n",
              "        vertical-align: middle;\n",
              "    }\n",
              "\n",
              "    .dataframe tbody tr th {\n",
              "        vertical-align: top;\n",
              "    }\n",
              "\n",
              "    .dataframe thead th {\n",
              "        text-align: right;\n",
              "    }\n",
              "</style>\n",
              "<table border=\"1\" class=\"dataframe\">\n",
              "  <thead>\n",
              "    <tr style=\"text-align: right;\">\n",
              "      <th></th>\n",
              "      <th>Unnamed: 0</th>\n",
              "      <th>노출(분)</th>\n",
              "      <th>상품코드</th>\n",
              "      <th>판매단가</th>\n",
              "      <th>취급액</th>\n",
              "      <th>요일</th>\n",
              "      <th>시</th>\n",
              "      <th>주문량</th>\n",
              "      <th>holiday</th>\n",
              "      <th>월</th>\n",
              "      <th>holiday(includeSS)</th>\n",
              "      <th>실제_서울_최고기온</th>\n",
              "      <th>실제_서울_최저기온</th>\n",
              "      <th>실제_서울_강수량(mm)</th>\n",
              "      <th>실제_서울_평균풍속(m/s)</th>\n",
              "      <th>실제_수원_최고기온</th>\n",
              "      <th>실제_수원_최저기온</th>\n",
              "      <th>실제_수원_강수량(mm)</th>\n",
              "      <th>실제_수원_평균풍속(m/s)</th>\n",
              "      <th>실제_파주_최고기온</th>\n",
              "      <th>실제_파주_최저기온</th>\n",
              "      <th>실제_파주_강수량(mm)</th>\n",
              "      <th>실제_파주_평균풍속(m/s)</th>\n",
              "      <th>예보_서울_강수확률</th>\n",
              "      <th>예보_서울_강수량</th>\n",
              "      <th>예보_서울_하늘상태</th>\n",
              "      <th>예보_서울_일최고기온</th>\n",
              "      <th>예보_서울_일최저기온</th>\n",
              "      <th>예보_일산_강수확률</th>\n",
              "      <th>예보_일산_강수량</th>\n",
              "      <th>예보_일산_일최고기온</th>\n",
              "      <th>예보_일산_일최저기온</th>\n",
              "      <th>예보_수원_강수확률</th>\n",
              "      <th>예보_수원_강수량</th>\n",
              "      <th>예보_수원_일최고기온</th>\n",
              "      <th>예보_수원_일최저기온</th>\n",
              "      <th>계절</th>\n",
              "      <th>DATE</th>\n",
              "      <th>미세먼지(㎍/㎥)</th>\n",
              "      <th>오존(ppm)</th>\n",
              "      <th>이산화질소농도(ppm)</th>\n",
              "      <th>일산화탄소농도(ppm)</th>\n",
              "      <th>아황산가스농도(ppm)</th>\n",
              "      <th>초미세먼지(㎍/㎥)</th>\n",
              "      <th>MONTH</th>\n",
              "      <th>HOUR</th>\n",
              "      <th>주문량/노출</th>\n",
              "    </tr>\n",
              "    <tr>\n",
              "      <th>마더코드</th>\n",
              "      <th></th>\n",
              "      <th></th>\n",
              "      <th></th>\n",
              "      <th></th>\n",
              "      <th></th>\n",
              "      <th></th>\n",
              "      <th></th>\n",
              "      <th></th>\n",
              "      <th></th>\n",
              "      <th></th>\n",
              "      <th></th>\n",
              "      <th></th>\n",
              "      <th></th>\n",
              "      <th></th>\n",
              "      <th></th>\n",
              "      <th></th>\n",
              "      <th></th>\n",
              "      <th></th>\n",
              "      <th></th>\n",
              "      <th></th>\n",
              "      <th></th>\n",
              "      <th></th>\n",
              "      <th></th>\n",
              "      <th></th>\n",
              "      <th></th>\n",
              "      <th></th>\n",
              "      <th></th>\n",
              "      <th></th>\n",
              "      <th></th>\n",
              "      <th></th>\n",
              "      <th></th>\n",
              "      <th></th>\n",
              "      <th></th>\n",
              "      <th></th>\n",
              "      <th></th>\n",
              "      <th></th>\n",
              "      <th></th>\n",
              "      <th></th>\n",
              "      <th></th>\n",
              "      <th></th>\n",
              "      <th></th>\n",
              "      <th></th>\n",
              "      <th></th>\n",
              "      <th></th>\n",
              "      <th></th>\n",
              "      <th></th>\n",
              "      <th></th>\n",
              "    </tr>\n",
              "  </thead>\n",
              "  <tbody>\n",
              "    <tr>\n",
              "      <th>100492</th>\n",
              "      <td>75615</td>\n",
              "      <td>60.0</td>\n",
              "      <td>604461</td>\n",
              "      <td>149700</td>\n",
              "      <td>286104000</td>\n",
              "      <td>9</td>\n",
              "      <td>48</td>\n",
              "      <td>5733.547094</td>\n",
              "      <td>0</td>\n",
              "      <td>24</td>\n",
              "      <td>0</td>\n",
              "      <td>79.2</td>\n",
              "      <td>60.3</td>\n",
              "      <td>110.7</td>\n",
              "      <td>6.3</td>\n",
              "      <td>81.3</td>\n",
              "      <td>60.0</td>\n",
              "      <td>45.9</td>\n",
              "      <td>6.6</td>\n",
              "      <td>78.9</td>\n",
              "      <td>53.4</td>\n",
              "      <td>46.2</td>\n",
              "      <td>5.7</td>\n",
              "      <td>44.797297</td>\n",
              "      <td>2.763158</td>\n",
              "      <td>7.033784</td>\n",
              "      <td>82.578947</td>\n",
              "      <td>59.2500</td>\n",
              "      <td>28.175676</td>\n",
              "      <td>0.394737</td>\n",
              "      <td>80.526316</td>\n",
              "      <td>54.5625</td>\n",
              "      <td>40.135135</td>\n",
              "      <td>1.578947</td>\n",
              "      <td>82.578947</td>\n",
              "      <td>58.6875</td>\n",
              "      <td>6</td>\n",
              "      <td>60572487</td>\n",
              "      <td>83.88</td>\n",
              "      <td>60.24</td>\n",
              "      <td>0.10620</td>\n",
              "      <td>0.06084</td>\n",
              "      <td>1.500</td>\n",
              "      <td>0.01080</td>\n",
              "      <td>24</td>\n",
              "      <td>48</td>\n",
              "      <td>95.559118</td>\n",
              "    </tr>\n",
              "    <tr>\n",
              "      <th>100499</th>\n",
              "      <td>145080</td>\n",
              "      <td>120.0</td>\n",
              "      <td>1209006</td>\n",
              "      <td>239400</td>\n",
              "      <td>420256000</td>\n",
              "      <td>15</td>\n",
              "      <td>117</td>\n",
              "      <td>10532.731830</td>\n",
              "      <td>0</td>\n",
              "      <td>48</td>\n",
              "      <td>0</td>\n",
              "      <td>186.9</td>\n",
              "      <td>138.6</td>\n",
              "      <td>0.3</td>\n",
              "      <td>11.1</td>\n",
              "      <td>184.2</td>\n",
              "      <td>138.0</td>\n",
              "      <td>3.0</td>\n",
              "      <td>12.3</td>\n",
              "      <td>181.2</td>\n",
              "      <td>122.7</td>\n",
              "      <td>5.1</td>\n",
              "      <td>9.6</td>\n",
              "      <td>137.229730</td>\n",
              "      <td>6.907895</td>\n",
              "      <td>18.324324</td>\n",
              "      <td>183.315789</td>\n",
              "      <td>139.8750</td>\n",
              "      <td>120.000000</td>\n",
              "      <td>5.526316</td>\n",
              "      <td>177.000000</td>\n",
              "      <td>132.9375</td>\n",
              "      <td>133.986486</td>\n",
              "      <td>6.118421</td>\n",
              "      <td>180.473684</td>\n",
              "      <td>136.8750</td>\n",
              "      <td>12</td>\n",
              "      <td>121144908</td>\n",
              "      <td>136.44</td>\n",
              "      <td>83.28</td>\n",
              "      <td>0.19428</td>\n",
              "      <td>0.10164</td>\n",
              "      <td>2.532</td>\n",
              "      <td>0.02136</td>\n",
              "      <td>48</td>\n",
              "      <td>117</td>\n",
              "      <td>87.772765</td>\n",
              "    </tr>\n",
              "    <tr>\n",
              "      <th>100046</th>\n",
              "      <td>151203</td>\n",
              "      <td>60.0</td>\n",
              "      <td>1200756</td>\n",
              "      <td>185400</td>\n",
              "      <td>162001000</td>\n",
              "      <td>18</td>\n",
              "      <td>90</td>\n",
              "      <td>5242.750809</td>\n",
              "      <td>0</td>\n",
              "      <td>48</td>\n",
              "      <td>0</td>\n",
              "      <td>158.4</td>\n",
              "      <td>120.6</td>\n",
              "      <td>221.4</td>\n",
              "      <td>12.6</td>\n",
              "      <td>162.6</td>\n",
              "      <td>120.0</td>\n",
              "      <td>91.8</td>\n",
              "      <td>13.2</td>\n",
              "      <td>157.8</td>\n",
              "      <td>106.8</td>\n",
              "      <td>92.4</td>\n",
              "      <td>11.4</td>\n",
              "      <td>89.594595</td>\n",
              "      <td>5.526316</td>\n",
              "      <td>14.067568</td>\n",
              "      <td>165.157895</td>\n",
              "      <td>118.5000</td>\n",
              "      <td>56.351351</td>\n",
              "      <td>0.789474</td>\n",
              "      <td>161.052632</td>\n",
              "      <td>109.1250</td>\n",
              "      <td>80.270270</td>\n",
              "      <td>3.157895</td>\n",
              "      <td>165.157895</td>\n",
              "      <td>117.3750</td>\n",
              "      <td>12</td>\n",
              "      <td>121144974</td>\n",
              "      <td>167.76</td>\n",
              "      <td>120.48</td>\n",
              "      <td>0.21240</td>\n",
              "      <td>0.12168</td>\n",
              "      <td>3.000</td>\n",
              "      <td>0.02160</td>\n",
              "      <td>48</td>\n",
              "      <td>90</td>\n",
              "      <td>87.379180</td>\n",
              "    </tr>\n",
              "    <tr>\n",
              "      <th>100754</th>\n",
              "      <td>76092</td>\n",
              "      <td>60.0</td>\n",
              "      <td>606609</td>\n",
              "      <td>119700</td>\n",
              "      <td>187163000</td>\n",
              "      <td>15</td>\n",
              "      <td>39</td>\n",
              "      <td>4690.802005</td>\n",
              "      <td>0</td>\n",
              "      <td>24</td>\n",
              "      <td>3</td>\n",
              "      <td>86.7</td>\n",
              "      <td>55.5</td>\n",
              "      <td>0.0</td>\n",
              "      <td>5.4</td>\n",
              "      <td>83.1</td>\n",
              "      <td>52.2</td>\n",
              "      <td>0.0</td>\n",
              "      <td>5.1</td>\n",
              "      <td>83.1</td>\n",
              "      <td>46.5</td>\n",
              "      <td>0.0</td>\n",
              "      <td>2.7</td>\n",
              "      <td>66.689189</td>\n",
              "      <td>0.000000</td>\n",
              "      <td>9.668919</td>\n",
              "      <td>87.000000</td>\n",
              "      <td>60.9375</td>\n",
              "      <td>52.702703</td>\n",
              "      <td>0.000000</td>\n",
              "      <td>84.631579</td>\n",
              "      <td>54.1875</td>\n",
              "      <td>72.770270</td>\n",
              "      <td>0.394737</td>\n",
              "      <td>85.736842</td>\n",
              "      <td>59.2500</td>\n",
              "      <td>6</td>\n",
              "      <td>60572493</td>\n",
              "      <td>49.68</td>\n",
              "      <td>28.08</td>\n",
              "      <td>0.09552</td>\n",
              "      <td>0.05016</td>\n",
              "      <td>1.152</td>\n",
              "      <td>0.01020</td>\n",
              "      <td>24</td>\n",
              "      <td>39</td>\n",
              "      <td>78.180033</td>\n",
              "    </tr>\n",
              "    <tr>\n",
              "      <th>100323</th>\n",
              "      <td>151497</td>\n",
              "      <td>120.0</td>\n",
              "      <td>1208934</td>\n",
              "      <td>299400</td>\n",
              "      <td>452290000</td>\n",
              "      <td>21</td>\n",
              "      <td>99</td>\n",
              "      <td>9063.927856</td>\n",
              "      <td>0</td>\n",
              "      <td>48</td>\n",
              "      <td>3</td>\n",
              "      <td>177.3</td>\n",
              "      <td>126.3</td>\n",
              "      <td>0.0</td>\n",
              "      <td>11.4</td>\n",
              "      <td>171.3</td>\n",
              "      <td>120.3</td>\n",
              "      <td>0.0</td>\n",
              "      <td>10.2</td>\n",
              "      <td>170.4</td>\n",
              "      <td>107.4</td>\n",
              "      <td>0.0</td>\n",
              "      <td>6.6</td>\n",
              "      <td>142.297297</td>\n",
              "      <td>11.250000</td>\n",
              "      <td>18.729730</td>\n",
              "      <td>170.526316</td>\n",
              "      <td>124.6875</td>\n",
              "      <td>118.378378</td>\n",
              "      <td>12.631579</td>\n",
              "      <td>165.789474</td>\n",
              "      <td>114.9375</td>\n",
              "      <td>145.337838</td>\n",
              "      <td>11.447368</td>\n",
              "      <td>169.263158</td>\n",
              "      <td>122.0625</td>\n",
              "      <td>12</td>\n",
              "      <td>121144977</td>\n",
              "      <td>138.12</td>\n",
              "      <td>85.56</td>\n",
              "      <td>0.21396</td>\n",
              "      <td>0.11016</td>\n",
              "      <td>2.520</td>\n",
              "      <td>0.02136</td>\n",
              "      <td>48</td>\n",
              "      <td>99</td>\n",
              "      <td>75.532732</td>\n",
              "    </tr>\n",
              "  </tbody>\n",
              "</table>\n",
              "</div>"
            ],
            "text/plain": [
              "        Unnamed: 0  노출(분)     상품코드    판매단가  ...  초미세먼지(㎍/㎥)  MONTH  HOUR     주문량/노출\n",
              "마더코드                                        ...                                    \n",
              "100492       75615   60.0   604461  149700  ...     0.01080     24    48  95.559118\n",
              "100499      145080  120.0  1209006  239400  ...     0.02136     48   117  87.772765\n",
              "100046      151203   60.0  1200756  185400  ...     0.02160     48    90  87.379180\n",
              "100754       76092   60.0   606609  119700  ...     0.01020     24    39  78.180033\n",
              "100323      151497  120.0  1208934  299400  ...     0.02136     48    99  75.532732\n",
              "\n",
              "[5 rows x 47 columns]"
            ]
          },
          "metadata": {
            "tags": []
          },
          "execution_count": 38
        }
      ]
    },
    {
      "cell_type": "code",
      "metadata": {
        "id": "5e37nTWOwB-i",
        "colab_type": "code",
        "colab": {}
      },
      "source": [
        "topcode = list(MomCodeGroup2.sort_values('주문량/노출', ascending=False).index[:50])"
      ],
      "execution_count": 39,
      "outputs": []
    },
    {
      "cell_type": "markdown",
      "metadata": {
        "id": "49vM5SEZknLy",
        "colab_type": "text"
      },
      "source": [
        "# 모델학습 데이터 생성 및 분리"
      ]
    },
    {
      "cell_type": "code",
      "metadata": {
        "id": "3ZKBYNgwhI0W",
        "colab_type": "code",
        "colab": {}
      },
      "source": [
        "y_train = train['주문량']\n",
        "x_train = train.drop('주문량',axis=1)"
      ],
      "execution_count": 28,
      "outputs": []
    },
    {
      "cell_type": "code",
      "metadata": {
        "id": "HJ0-4OCshKh9",
        "colab_type": "code",
        "colab": {}
      },
      "source": [
        "#모든 카테고리에 대해 따로따로 자동 변수생성\n",
        "category_list = x_train['상품군'].unique().tolist()\n",
        "for i in category_list:\n",
        "  globals()['x_train_{}'.format(i)] = x_train.loc[x_train['상품군']==i] #카테고리에 해당하는 주문량제외 train데이터 할당\n",
        "  globals()['y_train_{}'.format(i)] = train['주문량'].loc[x_train['상품군']==i] #카테고리에 해당하는 train의 주문량을 할당"
      ],
      "execution_count": 30,
      "outputs": []
    },
    {
      "cell_type": "code",
      "metadata": {
        "id": "e987rMBKhKfq",
        "colab_type": "code",
        "colab": {
          "base_uri": "https://localhost:8080/",
          "height": 212
        },
        "outputId": "24cba0ee-0731-46d6-8349-a9bf8090baaa"
      },
      "source": [
        "for i in range(11):\n",
        "  print('x_train_{}'.format(category_list[i])) #11개 상품군 다 성공적으로 변수 생성됨."
      ],
      "execution_count": 31,
      "outputs": [
        {
          "output_type": "stream",
          "text": [
            "x_train_inner\n",
            "x_train_cloth\n",
            "x_train_elec\n",
            "x_train_living\n",
            "x_train_food\n",
            "x_train_health\n",
            "x_train_bedding\n",
            "x_train_furniture\n",
            "x_train_beauty\n",
            "x_train_etc\n",
            "x_train_life\n"
          ],
          "name": "stdout"
        }
      ]
    },
    {
      "cell_type": "code",
      "metadata": {
        "id": "upQWmAguhKdb",
        "colab_type": "code",
        "colab": {}
      },
      "source": [
        "#카테고리별로 x,y를 train test 스플릿해줌.\n",
        "from sklearn.model_selection import train_test_split\n",
        "for i in category_list:\n",
        "  x = globals()['x_train_{}'.format(i)]\n",
        "  y = globals()['y_train_{}'.format(i)]\n",
        "  globals()['X_train_{}'.format(i)], globals()['X_test_{}'.format(i)], globals()['Y_train_{}'.format(i)], globals()['Y_test_{}'.format(i)] = train_test_split(x, y, test_size=0.33, random_state=0)\n",
        "# 카테고리별로 X_train_카테고리 , X_test_카테고리, Y_train_카테고리, Y_test_카테고리 생성됐음."
      ],
      "execution_count": 33,
      "outputs": []
    },
    {
      "cell_type": "markdown",
      "metadata": {
        "id": "p7gttZKmkvD9",
        "colab_type": "text"
      },
      "source": [
        "# 인코딩"
      ]
    },
    {
      "cell_type": "code",
      "metadata": {
        "id": "XELj9faphKbT",
        "colab_type": "code",
        "colab": {}
      },
      "source": [
        "def add_frequency_encoding(data,column): #데이터프레임,열을 받아서 빈도수인코딩열을 추가해줌\n",
        "  enc_nom = (data.groupby(column).size())/len(data)\n",
        "  data['freq_encode_{}'.format(column)] = data[column].apply(lambda x:enc_nom[x])\n",
        "  print(\"freq_encode column was added\")"
      ],
      "execution_count": 34,
      "outputs": []
    },
    {
      "cell_type": "code",
      "metadata": {
        "id": "lnXz6UgGhKZQ",
        "colab_type": "code",
        "colab": {
          "base_uri": "https://localhost:8080/",
          "height": 514
        },
        "outputId": "08736837-3774-436c-b46f-dd0ef20d73af"
      },
      "source": [
        "# 4.카테고리별 분리해서 빈도수 인코딩\n",
        "for i in range(11):\n",
        "  hi_train = pd.DataFrame()\n",
        "  hi_test = pd.DataFrame()\n",
        "  hi_train =  globals()['X_train_{}'.format(category_list[i])] #전역변수중 X_train_으로 시작하는 카테고리변수를 찾아서 할당\n",
        "  hi_test = globals()['X_test_{}'.format(category_list[i])]\n",
        "  add_frequency_encoding(hi_train,'분류')\n",
        "  add_frequency_encoding(hi_test,'분류')  # X_train_카테고리 X_test_카테고리 별로 '분류' 빈도인코딩열 생성"
      ],
      "execution_count": 35,
      "outputs": [
        {
          "output_type": "stream",
          "text": [
            "freq_encode column was added\n",
            "freq_encode column was added\n",
            "freq_encode column was added\n",
            "freq_encode column was added\n",
            "freq_encode column was added\n",
            "freq_encode column was added\n",
            "freq_encode column was added\n",
            "freq_encode column was added\n",
            "freq_encode column was added\n",
            "freq_encode column was added\n",
            "freq_encode column was added\n",
            "freq_encode column was added\n",
            "freq_encode column was added\n",
            "freq_encode column was added\n",
            "freq_encode column was added\n",
            "freq_encode column was added\n",
            "freq_encode column was added\n",
            "freq_encode column was added\n",
            "freq_encode column was added\n",
            "freq_encode column was added\n",
            "freq_encode column was added\n",
            "freq_encode column was added\n"
          ],
          "name": "stdout"
        },
        {
          "output_type": "stream",
          "text": [
            "/usr/local/lib/python3.6/dist-packages/ipykernel_launcher.py:3: SettingWithCopyWarning: \n",
            "A value is trying to be set on a copy of a slice from a DataFrame.\n",
            "Try using .loc[row_indexer,col_indexer] = value instead\n",
            "\n",
            "See the caveats in the documentation: https://pandas.pydata.org/pandas-docs/stable/user_guide/indexing.html#returning-a-view-versus-a-copy\n",
            "  This is separate from the ipykernel package so we can avoid doing imports until\n"
          ],
          "name": "stderr"
        }
      ]
    },
    {
      "cell_type": "code",
      "metadata": {
        "id": "JOHiUXsJhRqj",
        "colab_type": "code",
        "colab": {
          "base_uri": "https://localhost:8080/",
          "height": 230
        },
        "outputId": "6ca4e4f0-01ca-42d3-a32b-226a937418bc"
      },
      "source": [
        "# 4번. 탑코드 적용\n",
        "for i in range(11):\n",
        "  hi_train = pd.DataFrame()\n",
        "  hi_test = pd.DataFrame()\n",
        "  hi_train =  globals()['X_train_{}'.format(category_list[i])] #전역변수중 X_train_으로 시작하는 카테고리변수를 찾아서 할당\n",
        "  hi_test =  globals()['X_test_{}'.format(category_list[i])]\n",
        "  globals()['X_train_{}'.format(category_list[i])]['topcode'] = hi_train['마더코드'].isin(topcode)\n",
        "  globals()['X_test_{}'.format(category_list[i])]['topcode'] = hi_test['마더코드'].isin(topcode)"
      ],
      "execution_count": 40,
      "outputs": [
        {
          "output_type": "stream",
          "text": [
            "/usr/local/lib/python3.6/dist-packages/ipykernel_launcher.py:7: SettingWithCopyWarning: \n",
            "A value is trying to be set on a copy of a slice from a DataFrame.\n",
            "Try using .loc[row_indexer,col_indexer] = value instead\n",
            "\n",
            "See the caveats in the documentation: https://pandas.pydata.org/pandas-docs/stable/user_guide/indexing.html#returning-a-view-versus-a-copy\n",
            "  import sys\n",
            "/usr/local/lib/python3.6/dist-packages/ipykernel_launcher.py:8: SettingWithCopyWarning: \n",
            "A value is trying to be set on a copy of a slice from a DataFrame.\n",
            "Try using .loc[row_indexer,col_indexer] = value instead\n",
            "\n",
            "See the caveats in the documentation: https://pandas.pydata.org/pandas-docs/stable/user_guide/indexing.html#returning-a-view-versus-a-copy\n",
            "  \n"
          ],
          "name": "stderr"
        }
      ]
    },
    {
      "cell_type": "markdown",
      "metadata": {
        "id": "BW6tQt3ZkxhB",
        "colab_type": "text"
      },
      "source": [
        "# 모델 생성 및 학습"
      ]
    },
    {
      "cell_type": "code",
      "metadata": {
        "id": "GLaql7kShKkF",
        "colab_type": "code",
        "colab": {}
      },
      "source": [
        "from sklearn.ensemble import RandomForestRegressor\n",
        "forest = RandomForestRegressor()"
      ],
      "execution_count": 41,
      "outputs": []
    },
    {
      "cell_type": "code",
      "metadata": {
        "id": "N2rU30ZLhRoX",
        "colab_type": "code",
        "colab": {
          "base_uri": "https://localhost:8080/",
          "height": 87
        },
        "outputId": "9c862ad4-a922-411d-8b2f-1a28b1337b94"
      },
      "source": [
        "feature_selection = X_train_beauty.iloc[:,[2,7,11,13,14,31,32,33,34,36,37,38,40,41,42,54,56,57]].columns.values\n",
        "feature_selection"
      ],
      "execution_count": 56,
      "outputs": [
        {
          "output_type": "execute_result",
          "data": {
            "text/plain": [
              "array(['노출(분)', '판매단가', '요일', 'holiday', '월', '예보_서울_강수확률', '예보_서울_강수량',\n",
              "       '예보_서울_하늘상태', '예보_서울_일최고기온', '예보_일산_강수확률', '예보_일산_강수량',\n",
              "       '예보_일산_일최고기온', '예보_수원_강수확률', '예보_수원_강수량', '예보_수원_일최고기온', 'HOUR',\n",
              "       'freq_encode_분류', 'topcode'], dtype=object)"
            ]
          },
          "metadata": {
            "tags": []
          },
          "execution_count": 56
        }
      ]
    },
    {
      "cell_type": "code",
      "metadata": {
        "id": "yqdhGcWthRmT",
        "colab_type": "code",
        "colab": {}
      },
      "source": [
        "for i in category_list:\n",
        "  globals()['shop_train_x_{}'.format(i)] = globals()['X_train_{}'.format(i)][feature_selection]\n",
        "  globals()['shop_test_x_{}'.format(i)] = globals()['X_test_{}'.format(i)][feature_selection]"
      ],
      "execution_count": 43,
      "outputs": []
    },
    {
      "cell_type": "code",
      "metadata": {
        "id": "gFZWNLLthVRq",
        "colab_type": "code",
        "colab": {
          "base_uri": "https://localhost:8080/",
          "height": 141
        },
        "outputId": "7e28a474-9ac2-4002-f265-03cdd772a86c"
      },
      "source": [
        "forest.fit(shop_train_x_beauty, Y_train_beauty)"
      ],
      "execution_count": 58,
      "outputs": [
        {
          "output_type": "execute_result",
          "data": {
            "text/plain": [
              "RandomForestRegressor(bootstrap=True, ccp_alpha=0.0, criterion='mse',\n",
              "                      max_depth=None, max_features='auto', max_leaf_nodes=None,\n",
              "                      max_samples=None, min_impurity_decrease=0.0,\n",
              "                      min_impurity_split=None, min_samples_leaf=1,\n",
              "                      min_samples_split=2, min_weight_fraction_leaf=0.0,\n",
              "                      n_estimators=100, n_jobs=None, oob_score=False,\n",
              "                      random_state=None, verbose=0, warm_start=False)"
            ]
          },
          "metadata": {
            "tags": []
          },
          "execution_count": 58
        }
      ]
    },
    {
      "cell_type": "code",
      "metadata": {
        "id": "NOmBPGFPk8pj",
        "colab_type": "code",
        "colab": {}
      },
      "source": [
        "def mean_absolute_percentage_error(y_true, y_pred): \n",
        "    y_true, y_pred = np.array(y_true), np.array(y_pred)\n",
        "    return np.mean(np.abs((y_true - y_pred) / y_true)) * 100"
      ],
      "execution_count": 59,
      "outputs": []
    },
    {
      "cell_type": "code",
      "metadata": {
        "id": "O2_lKkyahVT1",
        "colab_type": "code",
        "colab": {
          "base_uri": "https://localhost:8080/",
          "height": 34
        },
        "outputId": "d491bd69-2d04-40ca-ff9a-2adf71c13c82"
      },
      "source": [
        "predictions = forest.predict(shop_train_x_beauty)\n",
        "mape = mean_absolute_percentage_error(Y_train_beauty, predictions)\n",
        "mape"
      ],
      "execution_count": 60,
      "outputs": [
        {
          "output_type": "execute_result",
          "data": {
            "text/plain": [
              "28.114938388674958"
            ]
          },
          "metadata": {
            "tags": []
          },
          "execution_count": 60
        }
      ]
    },
    {
      "cell_type": "code",
      "metadata": {
        "id": "tZ8b_V56hVPe",
        "colab_type": "code",
        "colab": {
          "base_uri": "https://localhost:8080/",
          "height": 70
        },
        "outputId": "bd30ef64-1646-46c0-dae8-6df227290aea"
      },
      "source": [
        "some_data = X_train_beauty.iloc[:8] # 8개의 Data의 주문량 예측해 보겠음.\n",
        "some_labels = Y_train_beauty.iloc[:8]\n",
        "some_data = some_data[feature_selection]\n",
        "print(\"예측\", forest.predict(some_data))\n",
        "print(\"레이블:\", list(some_labels))"
      ],
      "execution_count": 48,
      "outputs": [
        {
          "output_type": "stream",
          "text": [
            "예측 [ 810.17933185  863.88310775  163.38309069 1133.57646449  727.82376147\n",
            "  277.1864928   899.89756187  792.58945656]\n",
            "레이블: [828.170426065162, 570.418060200669, 73.859649122807, 1348.49246231155, 587.51256281407, 323.991416309012, 1147.61306532663, 1022.40677966101]\n"
          ],
          "name": "stdout"
        }
      ]
    },
    {
      "cell_type": "markdown",
      "metadata": {
        "id": "qCf20ZMKlHXS",
        "colab_type": "text"
      },
      "source": [
        "#모든 카테고리 반복문으로 한번에 fit & predict 결과"
      ]
    },
    {
      "cell_type": "code",
      "metadata": {
        "id": "ArrKHU5ylK5X",
        "colab_type": "code",
        "colab": {
          "base_uri": "https://localhost:8080/",
          "height": 212
        },
        "outputId": "a222259c-fb96-4441-95cf-10ff25d895b7"
      },
      "source": [
        "mape_score = []\n",
        "for i in category_list:\n",
        "  num = 0\n",
        "  category_data = globals()['shop_train_x_{}'.format(i)]\n",
        "  category_label =  globals()['Y_train_{}'.format(i)]\n",
        "  forest.fit(category_data,category_label)\n",
        "  predictions = forest.predict(category_data)\n",
        "  mape_score.append(mean_absolute_percentage_error(category_label, predictions))"
      ],
      "execution_count": 77,
      "outputs": [
        {
          "output_type": "stream",
          "text": [
            "MAPE score of : inner is 40.08985627236814\n",
            "MAPE score of : cloth is 40.08985627236814\n",
            "MAPE score of : elec is 40.08985627236814\n",
            "MAPE score of : living is 40.08985627236814\n",
            "MAPE score of : food is 40.08985627236814\n",
            "MAPE score of : health is 40.08985627236814\n",
            "MAPE score of : bedding is 40.08985627236814\n",
            "MAPE score of : furniture is 40.08985627236814\n",
            "MAPE score of : beauty is 40.08985627236814\n",
            "MAPE score of : etc is 40.08985627236814\n",
            "MAPE score of : life is 40.08985627236814\n"
          ],
          "name": "stdout"
        }
      ]
    },
    {
      "cell_type": "code",
      "metadata": {
        "id": "eJuLTLwzlLUH",
        "colab_type": "code",
        "colab": {
          "base_uri": "https://localhost:8080/",
          "height": 212
        },
        "outputId": "99f9e563-c4c1-426a-d082-0aa4db23ada0"
      },
      "source": [
        "for i in range(len(category_list)):\n",
        "  print(\"MAPE score of:\",category_list[i],\":\",mape_score[i])"
      ],
      "execution_count": 79,
      "outputs": [
        {
          "output_type": "stream",
          "text": [
            "MAPE score of: inner : 40.08985627236814\n",
            "MAPE score of: cloth : 38.64075528697359\n",
            "MAPE score of: elec : 45.85126008822423\n",
            "MAPE score of: living : 55.131065616503825\n",
            "MAPE score of: food : 30.70625134858927\n",
            "MAPE score of: health : 31.232663852208674\n",
            "MAPE score of: bedding : 45.874644143272455\n",
            "MAPE score of: furniture : 72.36153065894143\n",
            "MAPE score of: beauty : 28.443297937440242\n",
            "MAPE score of: etc : 66.86787025251958\n",
            "MAPE score of: life : 45.576192193013476\n"
          ],
          "name": "stdout"
        }
      ]
    },
    {
      "cell_type": "code",
      "metadata": {
        "id": "lM1PrbFglLYF",
        "colab_type": "code",
        "colab": {}
      },
      "source": [
        ""
      ],
      "execution_count": null,
      "outputs": []
    },
    {
      "cell_type": "code",
      "metadata": {
        "id": "pZ2qPMrJlLa7",
        "colab_type": "code",
        "colab": {}
      },
      "source": [
        ""
      ],
      "execution_count": null,
      "outputs": []
    },
    {
      "cell_type": "code",
      "metadata": {
        "id": "VlWGOK8ClLde",
        "colab_type": "code",
        "colab": {}
      },
      "source": [
        ""
      ],
      "execution_count": null,
      "outputs": []
    }
  ]
}