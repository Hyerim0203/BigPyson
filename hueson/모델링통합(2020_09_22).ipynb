{
  "nbformat": 4,
  "nbformat_minor": 0,
  "metadata": {
    "colab": {
      "name": "모델링통합(2020-09-22).ipynb",
      "provenance": [],
      "collapsed_sections": [
        "Pc_93pAyxJDH",
        "fRvnHSw-1UHa",
        "eSd369wjwdtn"
      ],
      "toc_visible": true
    },
    "kernelspec": {
      "name": "python3",
      "display_name": "Python 3"
    }
  },
  "cells": [
    {
      "cell_type": "code",
      "metadata": {
        "id": "j-_kGvx0j4K9",
        "colab_type": "code",
        "colab": {
          "base_uri": "https://localhost:8080/",
          "height": 72
        },
        "outputId": "a8584dbc-d352-4a26-aea1-72d7a991d071"
      },
      "source": [
        "\n",
        "import matplotlib.pyplot as plt\n",
        "import numpy as np\n",
        "import pandas as pd\n",
        "import datetime as dt\n",
        "import seaborn as sns\n",
        "from scipy import stats\n",
        "import math"
      ],
      "execution_count": 1,
      "outputs": [
        {
          "output_type": "stream",
          "text": [
            "/usr/local/lib/python3.6/dist-packages/statsmodels/tools/_testing.py:19: FutureWarning: pandas.util.testing is deprecated. Use the functions in the public API at pandas.testing instead.\n",
            "  import pandas.util.testing as tm\n"
          ],
          "name": "stderr"
        }
      ]
    },
    {
      "cell_type": "code",
      "metadata": {
        "id": "QFYDzaGnyaCU",
        "colab_type": "code",
        "colab": {
          "base_uri": "https://localhost:8080/",
          "height": 319
        },
        "outputId": "1ff50864-38f9-42ce-df23-0786c5ff3a2e"
      },
      "source": [
        "#나눔 폰트 설치\n",
        "!sudo apt-get install -y fonts-nanum\n",
        "!sudo fc-cache -fv\n",
        "!rm ~/.cache/matplotlib -rf"
      ],
      "execution_count": 2,
      "outputs": [
        {
          "output_type": "stream",
          "text": [
            "Reading package lists... Done\n",
            "Building dependency tree       \n",
            "Reading state information... Done\n",
            "fonts-nanum is already the newest version (20170925-1).\n",
            "0 upgraded, 0 newly installed, 0 to remove and 11 not upgraded.\n",
            "/usr/share/fonts: caching, new cache contents: 0 fonts, 1 dirs\n",
            "/usr/share/fonts/truetype: caching, new cache contents: 0 fonts, 3 dirs\n",
            "/usr/share/fonts/truetype/humor-sans: caching, new cache contents: 1 fonts, 0 dirs\n",
            "/usr/share/fonts/truetype/liberation: caching, new cache contents: 16 fonts, 0 dirs\n",
            "/usr/share/fonts/truetype/nanum: caching, new cache contents: 10 fonts, 0 dirs\n",
            "/usr/local/share/fonts: caching, new cache contents: 0 fonts, 0 dirs\n",
            "/root/.local/share/fonts: skipping, no such directory\n",
            "/root/.fonts: skipping, no such directory\n",
            "/var/cache/fontconfig: cleaning cache directory\n",
            "/root/.cache/fontconfig: not cleaning non-existent cache directory\n",
            "/root/.fontconfig: not cleaning non-existent cache directory\n",
            "fc-cache: succeeded\n"
          ],
          "name": "stdout"
        }
      ]
    },
    {
      "cell_type": "code",
      "metadata": {
        "id": "fGxK4qvvyex6",
        "colab_type": "code",
        "colab": {}
      },
      "source": [
        "#한글폰트 지정\n",
        "plt.rc('font', family='NanumBarunGothic') "
      ],
      "execution_count": 3,
      "outputs": []
    },
    {
      "cell_type": "markdown",
      "metadata": {
        "id": "oShzC-wQkadP",
        "colab_type": "text"
      },
      "source": [
        "# 데이터 생성"
      ]
    },
    {
      "cell_type": "code",
      "metadata": {
        "id": "c4OnO7TLhk2O",
        "colab_type": "code",
        "colab": {}
      },
      "source": [
        "train = pd.read_excel('/content/drive/My Drive/빅콘폴더/최종 데이터셋 후보/train.xlsx')\n",
        "train = train[train['판매단가'] < train['취급액']]"
      ],
      "execution_count": 4,
      "outputs": []
    },
    {
      "cell_type": "code",
      "metadata": {
        "id": "y6FN_5X3hk0F",
        "colab_type": "code",
        "colab": {}
      },
      "source": [
        "train['노출(분)'] = train['노출(분)'].replace(0, math.nan)\n",
        "train['노출(분)'] = train['노출(분)'].fillna(method='ffill')"
      ],
      "execution_count": 5,
      "outputs": []
    },
    {
      "cell_type": "code",
      "metadata": {
        "id": "W2bcgHANdlab",
        "colab_type": "code",
        "colab": {}
      },
      "source": [
        "train.index = np.arange(7513)"
      ],
      "execution_count": 6,
      "outputs": []
    },
    {
      "cell_type": "code",
      "metadata": {
        "id": "07gxL6uSiGSm",
        "colab_type": "code",
        "colab": {}
      },
      "source": [
        "test = pd.read_excel('/content/drive/My Drive/빅콘폴더/test.xlsx', header=1)"
      ],
      "execution_count": 7,
      "outputs": []
    },
    {
      "cell_type": "markdown",
      "metadata": {
        "id": "p7gttZKmkvD9",
        "colab_type": "text"
      },
      "source": [
        "# Feature Engineering & 인코딩"
      ]
    },
    {
      "cell_type": "markdown",
      "metadata": {
        "id": "zHAt7znHjnir",
        "colab_type": "text"
      },
      "source": [
        "- 판매단가, 주문량 log 변환\n"
      ]
    },
    {
      "cell_type": "code",
      "metadata": {
        "id": "-HVBpwaWjouY",
        "colab_type": "code",
        "colab": {}
      },
      "source": [
        "train['new판매단가'] = np.log(train['판매단가'])\n",
        "train.drop('판매단가', inplace=True, axis=1)\n",
        "\n",
        "\n",
        "train['new주문량'] = np.log(train['주문량'])\n",
        "train.drop('주문량', inplace=True, axis=1)"
      ],
      "execution_count": 8,
      "outputs": []
    },
    {
      "cell_type": "markdown",
      "metadata": {
        "id": "55WK41WEjzLj",
        "colab_type": "text"
      },
      "source": [
        "- 시간대(잘팔리는)"
      ]
    },
    {
      "cell_type": "code",
      "metadata": {
        "id": "iG65eVZXjztW",
        "colab_type": "code",
        "colab": {}
      },
      "source": [
        "time = train.groupby('HOUR').aggregate(np.mean)\n",
        "\n",
        "time_rank = {}\n",
        "rank = 1 \n",
        "for idx, row in time.sort_values(by='new주문량').iterrows():\n",
        "    time_rank[idx] = rank\n",
        "    rank += 1"
      ],
      "execution_count": 9,
      "outputs": []
    },
    {
      "cell_type": "code",
      "metadata": {
        "id": "un4uzPVrjmjp",
        "colab_type": "code",
        "colab": {}
      },
      "source": [
        "\n",
        "prime_time = []\n",
        "\n",
        "for idx, row in train.iterrows():\n",
        "    prime_time.append(time_rank[row.HOUR])\n",
        "    \n",
        "train['prime_time'] = prime_time"
      ],
      "execution_count": 10,
      "outputs": []
    },
    {
      "cell_type": "markdown",
      "metadata": {
        "id": "x6bE4sK6j41y",
        "colab_type": "text"
      },
      "source": [
        "- 요일(잘팔리는)"
      ]
    },
    {
      "cell_type": "code",
      "metadata": {
        "id": "pHCyrQhFjmhK",
        "colab_type": "code",
        "colab": {}
      },
      "source": [
        "day = train.groupby('요일').aggregate(np.mean)\n",
        "\n",
        "day_rank = {}\n",
        "rank = 1 \n",
        "for idx, row in day.sort_values(by='new주문량').iterrows():\n",
        "    day_rank[idx] = rank\n",
        "    rank += 1\n",
        "    \n",
        "prime_day = []\n",
        "\n",
        "for idx, row in train.iterrows():\n",
        "    prime_day.append(day_rank[row.요일])\n",
        "    \n",
        "train['prime_day'] = prime_day"
      ],
      "execution_count": 11,
      "outputs": []
    },
    {
      "cell_type": "markdown",
      "metadata": {
        "id": "5W896oTckftT",
        "colab_type": "text"
      },
      "source": [
        "# 마더코드 관련 처리\n",
        "- test랑 겹치는 마더코드(아래 노출시간 대비 topcode는 주석처리 했음)"
      ]
    },
    {
      "cell_type": "code",
      "metadata": {
        "id": "qHoNAPkUOnhO",
        "colab_type": "code",
        "colab": {
          "base_uri": "https://localhost:8080/",
          "height": 106
        },
        "outputId": "84062b9c-cdf1-4a1a-c2fb-947909e26141"
      },
      "source": [
        "'''\n",
        "#노출시간 대비 주문량 많은 topcode\n",
        "def hand_by_momcode(data):\n",
        "  momcodegroup = data.groupby(['마더코드']).sum()\n",
        "  momcodegroup['주문량/노출'] = momcodegroup['주문량']/momcodegroup['노출(분)']\n",
        "  topcode = list(momcodegroup.sort_values('주문량/노출', ascending=False).index[:50]) #탑50개\n",
        "  return topcode\n",
        "\n",
        "hand_by_momcode(train) # train으로 topcode생성\n",
        "이것보다 test와 겹치는 마더코드가 많은것을 topcode로 하는게 더 성능이 좋다고 한다.\n",
        "'''"
      ],
      "execution_count": 12,
      "outputs": [
        {
          "output_type": "execute_result",
          "data": {
            "application/vnd.google.colaboratory.intrinsic+json": {
              "type": "string"
            },
            "text/plain": [
              "\"\\n#노출시간 대비 주문량 많은 topcode\\ndef hand_by_momcode(data):\\n  momcodegroup = data.groupby(['마더코드']).sum()\\n  momcodegroup['주문량/노출'] = momcodegroup['주문량']/momcodegroup['노출(분)']\\n  topcode = list(momcodegroup.sort_values('주문량/노출', ascending=False).index[:50]) #탑50개\\n  return topcode\\n\\nhand_by_momcode(train) # train으로 topcode생성\\n이것보다 test와 겹치는 마더코드가 많은것을 topcode로 하는게 더 성능이 좋다고 한다.\\n\""
            ]
          },
          "metadata": {
            "tags": []
          },
          "execution_count": 12
        }
      ]
    },
    {
      "cell_type": "code",
      "metadata": {
        "id": "5e37nTWOwB-i",
        "colab_type": "code",
        "colab": {}
      },
      "source": [
        "intercode = set(test['마더코드'].unique()).intersection(set(train['마더코드'].unique()))\n",
        "interitem = train[train['마더코드'].isin(intercode)]"
      ],
      "execution_count": 13,
      "outputs": []
    },
    {
      "cell_type": "code",
      "metadata": {
        "id": "5-kqtytLkC9w",
        "colab_type": "code",
        "colab": {}
      },
      "source": [
        "code = interitem.groupby('마더코드').aggregate(np.mean)\n",
        "\n",
        "code_rank = {}\n",
        "rank = 1\n",
        "for idx, row in code.sort_values(by='new주문량').iterrows():\n",
        "    code_rank[idx] = rank\n",
        "    rank += 1\n",
        "\n",
        "top_code = []\n",
        "\n",
        "for idx, row in train.iterrows():\n",
        "    if row.마더코드 in code_rank.keys():\n",
        "        top_code.append(code_rank[row.마더코드])\n",
        "    else:\n",
        "        top_code.append(0)\n",
        "        \n",
        "train['top_code'] = top_code"
      ],
      "execution_count": 14,
      "outputs": []
    },
    {
      "cell_type": "markdown",
      "metadata": {
        "id": "frPLvh4QkGia",
        "colab_type": "text"
      },
      "source": [
        "- 분류 기준 topcode"
      ]
    },
    {
      "cell_type": "code",
      "metadata": {
        "id": "JkfviCEPkC7p",
        "colab_type": "code",
        "colab": {}
      },
      "source": [
        "cat = train.groupby('분류').aggregate(np.mean)\n",
        "\n",
        "cat_rank = {}\n",
        "rank = 1\n",
        "for idx, row in cat.sort_values(by='new주문량').iterrows():\n",
        "    cat_rank[idx] = rank\n",
        "    rank += 1\n",
        "\n",
        "top_cat = []\n",
        "\n",
        "for idx, row in train.iterrows():\n",
        "    top_cat.append(cat_rank[row.분류])\n",
        "    \n",
        "train['top_cat'] = top_cat"
      ],
      "execution_count": 15,
      "outputs": []
    },
    {
      "cell_type": "markdown",
      "metadata": {
        "id": "RQnd2hAHkJF2",
        "colab_type": "text"
      },
      "source": [
        "- 분류 변수 원핫/pca"
      ]
    },
    {
      "cell_type": "code",
      "metadata": {
        "id": "9jPS8Q-HkK5n",
        "colab_type": "code",
        "colab": {}
      },
      "source": [
        "from sklearn.preprocessing import OneHotEncoder\n",
        "from sklearn.decomposition import PCA"
      ],
      "execution_count": 16,
      "outputs": []
    },
    {
      "cell_type": "code",
      "metadata": {
        "id": "Bmo3DqyBkK2u",
        "colab_type": "code",
        "colab": {}
      },
      "source": [
        "enc1 = OneHotEncoder()\n",
        "category = np.array(train['분류'])\n",
        "category = category.reshape(-1, 1)\n",
        "\n",
        "enc1.fit(category)\n",
        "category_ = enc1.transform(category).toarray()\n",
        "\n",
        "pca = PCA(n_components=2)\n",
        "res = pca.fit_transform(category_)\n",
        "res = pd.DataFrame(res, columns=['x1_cat','x2_cat'])\n",
        "\n",
        "train['x1_cat'] = res['x1_cat']\n",
        "train['x2_cat'] = res['x2_cat']"
      ],
      "execution_count": 17,
      "outputs": []
    },
    {
      "cell_type": "markdown",
      "metadata": {
        "id": "u5mxHQlwkZyq",
        "colab_type": "text"
      },
      "source": [
        "- 분류 변수 빈도수 인코딩"
      ]
    },
    {
      "cell_type": "code",
      "metadata": {
        "id": "tLQWzAxokKz-",
        "colab_type": "code",
        "colab": {
          "base_uri": "https://localhost:8080/",
          "height": 35
        },
        "outputId": "b78b8756-ff19-4b76-e7f3-fdc343f83f02"
      },
      "source": [
        "# 빈도수인코딩(위의 원핫+pca와 비교해보기)\n",
        "def add_frequency_encoding(data,column): #데이터프레임,열을 받아서 빈도수인코딩열을 추가해줌\n",
        "  enc_nom = (data.groupby(column).size())/len(data)\n",
        "  data['freq_encode_{}'.format(column)] = data[column].apply(lambda x:enc_nom[x])\n",
        "  print(\"freq_encode column was added\")\n",
        "  \n",
        "add_frequency_encoding(train,'분류')"
      ],
      "execution_count": 18,
      "outputs": [
        {
          "output_type": "stream",
          "text": [
            "freq_encode column was added\n"
          ],
          "name": "stdout"
        }
      ]
    },
    {
      "cell_type": "markdown",
      "metadata": {
        "id": "dODVrGWikz-o",
        "colab_type": "text"
      },
      "source": [
        "- 실제 날씨(서울) # 잘팔리는 실제 서울 날씨"
      ]
    },
    {
      "cell_type": "code",
      "metadata": {
        "id": "lnR2JBKCkai_",
        "colab_type": "code",
        "colab": {}
      },
      "source": [
        "real = train.groupby('실제_서울_날씨').aggregate(np.mean) # real = 서울의 여러 기상정보(흐림,비,소나기,안개 등의 범주형정보) 31개에 따라 그룹핑한것.\n",
        "\n",
        "real_rank = {}\n",
        "rank = 1\n",
        "for idx, row in real.sort_values(by='new주문량').iterrows(): # 주문량이 좋은 날씨조건일수록 ex)구름많음,비,소나기등... rank수치가 큼.\n",
        "    real_rank[idx] = rank\n",
        "    rank += 1\n",
        "\n",
        "top_real_weather = [] # 7513개의 데이터별로 해당하는 날씨정보의 주문량 랭크가 들어있음.(서열)\n",
        "\n",
        "for idx, row in train.iterrows():\n",
        "    top_real_weather.append(real_rank[row.실제_서울_날씨])\n",
        "    \n",
        "train['top_real_weather'] = top_real_weather"
      ],
      "execution_count": 19,
      "outputs": []
    },
    {
      "cell_type": "markdown",
      "metadata": {
        "id": "RzECkgR3k5uH",
        "colab_type": "text"
      },
      "source": [
        "- 실제 날씨 통합"
      ]
    },
    {
      "cell_type": "code",
      "metadata": {
        "id": "3sycAjzvkagL",
        "colab_type": "code",
        "colab": {}
      },
      "source": [
        "real_total_weather = pd.read_excel('/content/drive/My Drive/빅콘폴더/날씨_실제/날씨통합.xlsx')\n",
        "\n",
        "train['실제_최고기온'] = real_total_weather['최고기온']\n",
        "train['실제_최저기온'] = real_total_weather['최저기온']\n",
        "train['실제_강수량'] = real_total_weather['강수량']\n",
        "train['실제_평균풍속'] = real_total_weather['평균풍속']"
      ],
      "execution_count": 21,
      "outputs": []
    },
    {
      "cell_type": "markdown",
      "metadata": {
        "id": "XP01D2U6mDR5",
        "colab_type": "text"
      },
      "source": [
        "# 카테고리별, 시간대별 상품군 주문량 EDA"
      ]
    },
    {
      "cell_type": "code",
      "metadata": {
        "id": "AjkMwVWSmGEM",
        "colab_type": "code",
        "colab": {}
      },
      "source": [
        "# 상품군내 마더코드별 주문량\n",
        "multi_grouped = train.groupby(['상품군','마더코드'])\n",
        "MultiGroup = multi_grouped['new주문량'].sum()\n",
        "MultiGroup = MultiGroup.reset_index()"
      ],
      "execution_count": 30,
      "outputs": []
    },
    {
      "cell_type": "code",
      "metadata": {
        "id": "e4K3s-FVmGAV",
        "colab_type": "code",
        "colab": {}
      },
      "source": [
        "item = list(set(MultiGroup['상품군']))"
      ],
      "execution_count": 31,
      "outputs": []
    },
    {
      "cell_type": "code",
      "metadata": {
        "id": "PScGYDXjmF9Y",
        "colab_type": "code",
        "colab": {
          "base_uri": "https://localhost:8080/",
          "height": 1000
        },
        "outputId": "8b425eb9-8e01-4a78-eab3-344b6adc1577"
      },
      "source": [
        "for i in item:\n",
        "    plt.figure(figsize=(10,10))\n",
        "    sns.barplot(data=MultiGroup[MultiGroup['상품군']==i], x='마더코드', y='new주문량')\n",
        "    plt.title(i)\n",
        "    plt.xticks(rotation=45, size=7)"
      ],
      "execution_count": 32,
      "outputs": [
        {
          "output_type": "display_data",
          "data": {
            "image/png": "[encoded data removed]",
            "text/plain": [
              "<Figure size 720x720 with 1 Axes>"
            ]
          },
          "metadata": {
            "tags": [],
            "needs_background": "light"
          }
        },
        {
          "output_type": "display_data",
          "data": {
            "image/png": "[encoded data removed]",
            "text/plain": [
              "<Figure size 720x720 with 1 Axes>"
            ]
          },
          "metadata": {
            "tags": [],
            "needs_background": "light"
          }
        },
        {
          "output_type": "display_data",
          "data": {
            "image/png": "[encoded data removed]",
            "text/plain": [
              "<Figure size 720x720 with 1 Axes>"
            ]
          },
          "metadata": {
            "tags": [],
            "needs_background": "light"
          }
        },
        {
          "output_type": "display_data",
          "data": {
            "image/png": "[encoded data removed]",
            "text/plain": [
              "<Figure size 720x720 with 1 Axes>"
            ]
          },
          "metadata": {
            "tags": [],
            "needs_background": "light"
          }
        },
        {
          "output_type": "display_data",
          "data": {
            "image/png": "[encoded data removed]",
            "text/plain": [
              "<Figure size 720x720 with 1 Axes>"
            ]
          },
          "metadata": {
            "tags": [],
            "needs_background": "light"
          }
        },
        {
          "output_type": "display_data",
          "data": {
            "image/png": "[encoded data removed]",
            "text/plain": [
              "<Figure size 720x720 with 1 Axes>"
            ]
          },
          "metadata": {
            "tags": [],
            "needs_background": "light"
          }
        },
        {
          "output_type": "display_data",
          "data": {
            "image/png": "[encoded data removed]",
            "text/plain": [
              "<Figure size 720x720 with 1 Axes>"
            ]
          },
          "metadata": {
            "tags": [],
            "needs_background": "light"
          }
        },
        {
          "output_type": "display_data",
          "data": {
            "image/png": "[encoded data removed]",
            "text/plain": [
              "<Figure size 720x720 with 1 Axes>"
            ]
          },
          "metadata": {
            "tags": [],
            "needs_background": "light"
          }
        },
        {
          "output_type": "display_data",
          "data": {
            "image/png": "[encoded data removed]",
            "text/plain": [
              "<Figure size 720x720 with 1 Axes>"
            ]
          },
          "metadata": {
            "tags": [],
            "needs_background": "light"
          }
        },
        {
          "output_type": "display_data",
          "data": {
            "image/png": "[encoded data removed]",
            "text/plain": [
              "<Figure size 720x720 with 1 Axes>"
            ]
          },
          "metadata": {
            "tags": [],
            "needs_background": "light"
          }
        },
        {
          "output_type": "display_data",
          "data": {
            "image/png": "[encoded data removed]",
            "text/plain": [
              "<Figure size 720x720 with 1 Axes>"
            ]
          },
          "metadata": {
            "tags": [],
            "needs_background": "light"
          }
        }
      ]
    },
    {
      "cell_type": "markdown",
      "metadata": {
        "id": "qSCmW28_lLif",
        "colab_type": "text"
      },
      "source": [
        "- 시간대 상품군별 주문량"
      ]
    },
    {
      "cell_type": "code",
      "metadata": {
        "id": "blI_md-9lAm9",
        "colab_type": "code",
        "colab": {}
      },
      "source": [
        "hour_grouped = train.groupby(['시','상품군'])\n",
        "HourGroup = hour_grouped['new주문량'].sum()\n",
        "HourGroup = HourGroup.reset_index()"
      ],
      "execution_count": 33,
      "outputs": []
    },
    {
      "cell_type": "code",
      "metadata": {
        "id": "KJjHxGt3lJ-u",
        "colab_type": "code",
        "colab": {
          "base_uri": "https://localhost:8080/",
          "height": 1000
        },
        "outputId": "e2071c88-c1c5-40a8-9e3b-f88db712a917"
      },
      "source": [
        "#  좀 더 카테고리별 구분이 잘되게 보면 좋을듯 + 더 다양하게 시각화해서 의미 뽑아보자(To 편성표 최적화)\n",
        "plt.figure(figsize=(10,20)) \n",
        "sns.barplot(data=HourGroup, x='시', y='new주문량', hue='상품군', dodge=False)"
      ],
      "execution_count": 35,
      "outputs": [
        {
          "output_type": "execute_result",
          "data": {
            "text/plain": [
              "<matplotlib.axes._subplots.AxesSubplot at 0x7efd1f733978>"
            ]
          },
          "metadata": {
            "tags": []
          },
          "execution_count": 35
        },
        {
          "output_type": "display_data",
          "data": {
            "image/png": "[encoded data removed]",
            "text/plain": [
              "<Figure size 720x1440 with 1 Axes>"
            ]
          },
          "metadata": {
            "tags": [],
            "needs_background": "light"
          }
        }
      ]
    },
    {
      "cell_type": "code",
      "metadata": {
        "id": "dooOOZuClAsv",
        "colab_type": "code",
        "colab": {
          "base_uri": "https://localhost:8080/",
          "height": 52
        },
        "outputId": "7cf3125d-0cbb-4899-9495-a24160ece2d4"
      },
      "source": [
        "np.corrcoef(train['new주문량'],train['new판매단가']) # 가격과 주문량은 강한 음의 상관관계"
      ],
      "execution_count": 36,
      "outputs": [
        {
          "output_type": "execute_result",
          "data": {
            "text/plain": [
              "array([[ 1.        , -0.86135885],\n",
              "       [-0.86135885,  1.        ]])"
            ]
          },
          "metadata": {
            "tags": []
          },
          "execution_count": 36
        }
      ]
    },
    {
      "cell_type": "code",
      "metadata": {
        "id": "671nj9Mfla_o",
        "colab_type": "code",
        "colab": {
          "base_uri": "https://localhost:8080/",
          "height": 414
        },
        "outputId": "2d2481dc-e8ac-4c30-f818-9db7567f27b2"
      },
      "source": [
        "fig, ax = plt.subplots(1,2, figsize=(10,5))\n",
        "sns.kdeplot(train['new주문량'], ax=ax[0]) #커널 밀도추정\n",
        "sns.kdeplot(np.log(train['new주문량']), ax=ax[1])"
      ],
      "execution_count": 37,
      "outputs": [
        {
          "output_type": "execute_result",
          "data": {
            "text/plain": [
              "<matplotlib.axes._subplots.AxesSubplot at 0x7efd1fadfa90>"
            ]
          },
          "metadata": {
            "tags": []
          },
          "execution_count": 37
        },
        {
          "output_type": "stream",
          "text": [
            "/usr/local/lib/python3.6/dist-packages/matplotlib/backends/backend_agg.py:214: RuntimeWarning: Glyph 8722 missing from current font.\n",
            "  font.set_text(s, 0.0, flags=flags)\n",
            "/usr/local/lib/python3.6/dist-packages/matplotlib/backends/backend_agg.py:183: RuntimeWarning: Glyph 8722 missing from current font.\n",
            "  font.set_text(s, 0, flags=flags)\n"
          ],
          "name": "stderr"
        },
        {
          "output_type": "display_data",
          "data": {
            "image/png": "[encoded data removed]",
            "text/plain": [
              "<Figure size 720x360 with 2 Axes>"
            ]
          },
          "metadata": {
            "tags": [],
            "needs_background": "light"
          }
        }
      ]
    },
    {
      "cell_type": "code",
      "metadata": {
        "colab_type": "code",
        "id": "BwNzy2BNh-NN",
        "colab": {}
      },
      "source": [
        "#corr_mat = train.corr()\n",
        "#corr_mat['new주문량'].sort_values(ascending=False)"
      ],
      "execution_count": null,
      "outputs": []
    },
    {
      "cell_type": "code",
      "metadata": {
        "id": "3ZKBYNgwhI0W",
        "colab_type": "code",
        "colab": {}
      },
      "source": [
        "# train.drop(['Unnamed: 0', '방송일시', '상품명', '상품군', 'holiday', '요일', 'HOUR', '마더코드'], inplace=True, axis=1)\n",
        "# 방송일시, 상품명, 상품군, holiday(주말), 요일, HOUR, 마더코드"
      ],
      "execution_count": null,
      "outputs": []
    },
    {
      "cell_type": "markdown",
      "metadata": {
        "id": "49vM5SEZknLy",
        "colab_type": "text"
      },
      "source": [
        "# 모델학습 데이터 생성 및 분리"
      ]
    },
    {
      "cell_type": "markdown",
      "metadata": {
        "id": "BW6tQt3ZkxhB",
        "colab_type": "text"
      },
      "source": [
        "# 모델 생성 및 학습"
      ]
    },
    {
      "cell_type": "markdown",
      "metadata": {
        "id": "Ewt2GjLQmmeq",
        "colab_type": "text"
      },
      "source": [
        "- 모든 카테고리별로 자동 변수생성"
      ]
    },
    {
      "cell_type": "code",
      "metadata": {
        "id": "HJ0-4OCshKh9",
        "colab_type": "code",
        "colab": {}
      },
      "source": [
        "category_list = train['상품군'].unique().tolist()\n",
        "for i in category_list:\n",
        "  globals()['x_{}'.format(i)] = train.loc[train['상품군']==i] #카테고리에 해당하는 주문량제외 train데이터 할당\n",
        "  globals()['y_{}'.format(i)] = train['new주문량'].loc[train['상품군']==i] #카테고리에 해당하는 train의 주문량을 할당"
      ],
      "execution_count": 38,
      "outputs": []
    },
    {
      "cell_type": "markdown",
      "metadata": {
        "id": "Pbkw2LxEniGM",
        "colab_type": "text"
      },
      "source": [
        "# Split"
      ]
    },
    {
      "cell_type": "markdown",
      "metadata": {
        "id": "xAuC5UauowW9",
        "colab_type": "text"
      },
      "source": [
        "- 4번. 카테고리별 2:1 비율로 통째로 split, 피팅"
      ]
    },
    {
      "cell_type": "code",
      "metadata": {
        "id": "upQWmAguhKdb",
        "colab_type": "code",
        "colab": {}
      },
      "source": [
        "# x_category, y_category를 train test 스플릿해줌.\n",
        "from sklearn.model_selection import train_test_split\n",
        "for i in category_list:\n",
        "  x_for_split = globals()['x_{}'.format(i)]\n",
        "  y_for_split = globals()['y_{}'.format(i)]\n",
        "  globals()['x_train_{}'.format(i)], globals()['x_test_{}'.format(i)], globals()['y_train_{}'.format(i)], globals()['y_test_{}'.format(i)] = train_test_split(x_for_split, y_for_split, test_size=0.33, random_state=1234)\n",
        "# 카테고리별로 X_train_카테고리 , X_test_카테고리, Y_train_카테고리, Y_test_카테고리 생성됐음."
      ],
      "execution_count": 40,
      "outputs": []
    },
    {
      "cell_type": "code",
      "metadata": {
        "id": "i16g2yWYoEA9",
        "colab_type": "code",
        "colab": {
          "base_uri": "https://localhost:8080/",
          "height": 515
        },
        "outputId": "52e2c46d-5e8e-4ee4-bd31-e3692509658f"
      },
      "source": [
        "x_train_beauty, x_test_beauty # 2:1비율로 나뉘어짐."
      ],
      "execution_count": 41,
      "outputs": [
        {
          "output_type": "execute_result",
          "data": {
            "text/plain": [
              "(      Unnamed: 0                방송일시  노출(분)  ...    실제_최저기온     실제_강수량   실제_평균풍속\n",
              " 3451       21025 2019-07-20 07:00:00   20.0  ...  25.033333   0.600000  3.033333\n",
              " 866        18302 2019-06-24 10:30:00   30.0  ...  18.900000   0.000000  1.700000\n",
              " 3603       21189 2019-07-21 16:20:00   20.0  ...  23.666667   7.900000  2.000000\n",
              " 6571       24425 2019-08-21 01:40:00   10.0  ...  23.266667   0.533333  1.166667\n",
              " 4443       22087 2019-07-30 07:50:00   10.0  ...  25.500000  12.366667  3.233333\n",
              " ...          ...                 ...    ...  ...        ...        ...       ...\n",
              " 7276       25161 2019-08-29 01:00:00   20.0  ...  19.300000  22.533333  2.066667\n",
              " 1907       19370 2019-07-05 08:30:00   30.0  ...  19.233333   0.000000  1.333333\n",
              " 1341       18779 2019-06-29 19:40:00   20.0  ...  19.533333   2.066667  1.100000\n",
              " 7406       25291 2019-08-30 19:20:00   20.0  ...  17.900000   0.066667  2.033333\n",
              " 1611       19066 2019-07-02 12:20:00   20.0  ...  19.666667   0.000000  1.900000\n",
              " \n",
              " [144 rows x 70 columns],\n",
              "       Unnamed: 0                방송일시  노출(분)  ...    실제_최저기온     실제_강수량   실제_평균풍속\n",
              " 364        17777 2019-06-18 19:20:00   20.0  ...  17.133333  13.200000  1.366667\n",
              " 1542       18984 2019-07-01 19:00:00   20.0  ...  19.233333   0.000000  1.933333\n",
              " 365        17778 2019-06-18 19:40:00   20.0  ...  17.133333  13.200000  1.366667\n",
              " 3358       20926 2019-07-19 10:00:00   30.0  ...  21.633333   0.033333  1.733333\n",
              " 4366       22010 2019-07-29 09:40:00   20.0  ...  25.300000   0.166667  2.533333\n",
              " ...          ...                 ...    ...  ...        ...        ...       ...\n",
              " 4717       22379 2019-08-02 01:10:00   10.0  ...  24.166667   0.000000  1.100000\n",
              " 1753       19210 2019-07-03 19:00:00   20.0  ...  19.700000   0.000000  1.400000\n",
              " 5489       23255 2019-08-10 12:20:00   20.0  ...  25.300000   1.033333  1.900000\n",
              " 2117       19591 2019-07-07 12:20:00   20.0  ...  21.800000   0.000000  2.633333\n",
              " 3768       21368 2019-07-23 07:00:00   20.0  ...  23.733333   0.000000  1.200000\n",
              " \n",
              " [72 rows x 70 columns])"
            ]
          },
          "metadata": {
            "tags": []
          },
          "execution_count": 41
        }
      ]
    },
    {
      "cell_type": "markdown",
      "metadata": {
        "id": "4teJbPeF0Ea5",
        "colab_type": "text"
      },
      "source": [
        "- 6번. 카테고리별 20분단위로 3갈해서 각각 피팅"
      ]
    },
    {
      "cell_type": "code",
      "metadata": {
        "id": "GsqiMVUJ0IT4",
        "colab_type": "code",
        "colab": {}
      },
      "source": [
        "#그룹내 방송행간의 시간차이(날짜-날짜) <= 해당그룹 최대 노출(분)인가? \n",
        "# 검토해서 분리하는 함수\n",
        "\n",
        "def split_shoprow(df, time): \n",
        "    shoprow1 = pd.DataFrame()  # train\n",
        "    shoprow2 = pd.DataFrame()  # validation \n",
        "    size = len(df)\n",
        "\n",
        "    for i in range((size)-1):       \n",
        "        if (df['방송일시'].iloc[i+1]-df['방송일시'].iloc[i] <= time):\n",
        "            shoprow1 = shoprow1.append(df.iloc[i])\n",
        "        else:\n",
        "            shoprow2 = shoprow2.append(df.iloc[i])    \n",
        "    i += 1\n",
        "    shoprow2 = shoprow2.append(df.iloc[i])\n",
        "            \n",
        "    return shoprow1,shoprow2"
      ],
      "execution_count": 42,
      "outputs": []
    },
    {
      "cell_type": "markdown",
      "metadata": {
        "id": "kwse0a2NvFjj",
        "colab_type": "text"
      },
      "source": [
        "- 실험"
      ]
    },
    {
      "cell_type": "code",
      "metadata": {
        "id": "Pb2wmF4bvGTy",
        "colab_type": "code",
        "colab": {
          "base_uri": "https://localhost:8080/",
          "height": 503
        },
        "outputId": "ea0fb3da-e70d-4be5-9526-5dffd8d24207"
      },
      "source": [
        "#기준시간. 방송끼리 이만큼 붙어있어야 같은 제품의 판매임.\n",
        "criteria_time = pd.Timedelta('0 days 00:{}:00'.format(20))\n",
        "# 3개를 기준으로, 방송타임 2개는 bigfold에 1개는smallfold에 넣겠다.\n",
        "train_big_fold = pd.DataFrame()\n",
        "train_small_fold = pd.DataFrame()\n",
        "# 마더코드 100080에 실험\n",
        "x1 = train[train['마더코드']==100080]\n",
        "train_big_fold, train_small_fold = split_shoprow(x1,criteria_time) \n",
        "# 제대로 나옴\n",
        "print(train_big_fold.head(15)['방송일시'])\n",
        "print(train_small_fold.head(10)['방송일시'])"
      ],
      "execution_count": 43,
      "outputs": [
        {
          "output_type": "stream",
          "text": [
            "175   2019-06-16 15:00:00\n",
            "176   2019-06-16 15:20:00\n",
            "306   2019-06-17 22:00:00\n",
            "307   2019-06-17 22:20:00\n",
            "339   2019-06-18 12:00:00\n",
            "340   2019-06-18 12:20:00\n",
            "466   2019-06-19 22:00:00\n",
            "467   2019-06-19 22:20:00\n",
            "567   2019-06-20 23:00:00\n",
            "568   2019-06-20 23:20:00\n",
            "730   2019-06-22 23:20:00\n",
            "731   2019-06-22 23:40:00\n",
            "761   2019-06-23 11:00:00\n",
            "762   2019-06-23 11:20:00\n",
            "915   2019-06-24 22:00:00\n",
            "Name: 방송일시, dtype: datetime64[ns]\n",
            "177    2019-06-16 15:40:00\n",
            "308    2019-06-17 22:40:00\n",
            "341    2019-06-18 12:40:00\n",
            "468    2019-06-19 22:40:00\n",
            "569    2019-06-20 23:40:00\n",
            "732    2019-06-23 00:00:00\n",
            "763    2019-06-23 11:40:00\n",
            "917    2019-06-24 22:40:00\n",
            "950    2019-06-25 12:40:00\n",
            "1143   2019-06-27 15:40:00\n",
            "Name: 방송일시, dtype: datetime64[ns]\n"
          ],
          "name": "stdout"
        }
      ]
    },
    {
      "cell_type": "markdown",
      "metadata": {
        "id": "Ru6A4WYyvYOn",
        "colab_type": "text"
      },
      "source": [
        "- 카테고리별로 split하기"
      ]
    },
    {
      "cell_type": "code",
      "metadata": {
        "id": "OQlfqLjpcunD",
        "colab_type": "code",
        "colab": {}
      },
      "source": [
        "for cat in category_list:\n",
        "    selec_cat = globals()['x_{}'.format(cat)]\n",
        "    momcode_cat = selec_cat['마더코드'].unique()\n",
        "    # 걍 한 카테고리에서 가장 노출시간이 긴 시간을 기준으로 해도 될듯?\n",
        "    # 20분씩\n",
        "    max_time = selec_cat['노출(분)'].max()\n",
        "    criteria_time = pd.Timedelta('0 days 00:{}:00'.format(int(max_time)))\n",
        "    T = pd.DataFrame()\n",
        "    V = pd.DataFrame()\n",
        "    \n",
        "    for momcode in momcode_cat:\n",
        "        mom = train[train['마더코드']==momcode]\n",
        "        t, v = split_shoprow(mom, criteria_time) \n",
        "        T = T.append(t)\n",
        "        V = V.append(v)\n",
        "    \n",
        "    globals()['{}_bigfold'.format(cat)] = T\n",
        "    globals()['{}_smallfold'.format(cat)] = V"
      ],
      "execution_count": 70,
      "outputs": []
    },
    {
      "cell_type": "markdown",
      "metadata": {
        "id": "3YTivnI_RkR1",
        "colab_type": "text"
      },
      "source": [
        "# 랜포돌리기"
      ]
    },
    {
      "cell_type": "code",
      "metadata": {
        "id": "hCxRFtssq-5A",
        "colab_type": "code",
        "colab": {}
      },
      "source": [
        "from sklearn.ensemble import RandomForestRegressor\n",
        "forest = RandomForestRegressor(random_state=1234)\n",
        "\n",
        "seungen_feature = ['노출(분)', 'holiday(includeSS)','실제_최고기온','실제_최저기온','실제_강수량','실제_평균풍속' , '예보_서울_강수확률', '예보_서울_강수량',\n",
        "       '예보_서울_하늘상태', '예보_서울_일최고기온', '예보_서울_일최저기온', '예보_일산_강수확률', '예보_일산_강수량',\n",
        "       '예보_일산_일최고기온', '예보_일산_일최저기온', '예보_수원_강수확률', '예보_수원_강수량', '예보_수원_일최고기온',\n",
        "       '예보_수원_일최저기온', 'Active Users', 'new판매단가', 'prime_time',\n",
        "       'prime_day', 'top_code', 'top_cat']\n",
        "\n",
        "feature_selection = x_train_beauty.loc[:,seungen_feature].columns.values\n",
        "feature_selection\n",
        "\n",
        "# 카테고리별로 통째로 피팅할 경우(4번) -> (6번 3갈코드 사용시 다르게 넣을 것)\n",
        "for i in category_list:\n",
        "  globals()['shop_train_x_{}'.format(i)] = globals()['x_train_{}'.format(i)][feature_selection]\n",
        "  globals()['shop_test_x_{}'.format(i)] = globals()['x_test_{}'.format(i)][feature_selection]"
      ],
      "execution_count": 47,
      "outputs": []
    },
    {
      "cell_type": "markdown",
      "metadata": {
        "id": "ggwCA-iwrQI9",
        "colab_type": "text"
      },
      "source": [
        "- 4번 카테고리별 통쨰로 피팅후 모델링 테스트"
      ]
    },
    {
      "cell_type": "code",
      "metadata": {
        "id": "NOmBPGFPk8pj",
        "colab_type": "code",
        "colab": {}
      },
      "source": [
        "def mean_absolute_percentage_error(y_true, y_pred): \n",
        "    y_true, y_pred = np.array(y_true), np.array(y_pred)\n",
        "    return np.mean(np.abs((y_true - y_pred) / y_true)) * 100"
      ],
      "execution_count": 48,
      "outputs": []
    },
    {
      "cell_type": "markdown",
      "metadata": {
        "id": "qCf20ZMKlHXS",
        "colab_type": "text"
      },
      "source": [
        "- 모든 카테고리에 대해 fit & predict 결과"
      ]
    },
    {
      "cell_type": "markdown",
      "metadata": {
        "id": "NhF4aKDr62eV",
        "colab_type": "text"
      },
      "source": [
        "- test 셋으로 점수 확인해보기(33%)"
      ]
    },
    {
      "cell_type": "code",
      "metadata": {
        "id": "w6gRPA-y6CXd",
        "colab_type": "code",
        "colab": {}
      },
      "source": [
        "mape_score = []\n",
        "for i in category_list:\n",
        "  category_data = globals()['shop_train_x_{}'.format(i)]\n",
        "  category_label =  globals()['y_train_{}'.format(i)]\n",
        "  forest.fit(category_data,category_label) # train데이터로 fitting 되어잇음.\n",
        "  test_data = globals()['shop_test_x_{}'.format(i)]\n",
        "  test_label =  globals()['y_test_{}'.format(i)]\n",
        "  predictions = forest.predict(test_data) \n",
        "  mape_score.append(mean_absolute_percentage_error(test_label, predictions))"
      ],
      "execution_count": 53,
      "outputs": []
    },
    {
      "cell_type": "code",
      "metadata": {
        "id": "VSqIXI-o6RfL",
        "colab_type": "code",
        "colab": {
          "base_uri": "https://localhost:8080/",
          "height": 215
        },
        "outputId": "634456bf-ad3b-409b-b070-b7b72671cbf4"
      },
      "source": [
        "for i in range(len(category_list)):\n",
        "  print(\"RF MAPE score of test\",category_list[i],\":\",mape_score[i])"
      ],
      "execution_count": 54,
      "outputs": [
        {
          "output_type": "stream",
          "text": [
            "RF MAPE score of test inner : 9.816612401937311\n",
            "RF MAPE score of test cloth : 11.365052603694064\n",
            "RF MAPE score of test elec : 36.876571963864\n",
            "RF MAPE score of test living : 15.359442341184007\n",
            "RF MAPE score of test food : 5.365366315592858\n",
            "RF MAPE score of test health : 7.971304676835142\n",
            "RF MAPE score of test bedding : 14.351379310233344\n",
            "RF MAPE score of test furniture : 39.432471056288485\n",
            "RF MAPE score of test beauty : 7.166097683217959\n",
            "RF MAPE score of test etc : 30.931316605406156\n",
            "RF MAPE score of test life : 17.9254167599536\n"
          ],
          "name": "stdout"
        }
      ]
    },
    {
      "cell_type": "code",
      "metadata": {
        "id": "Vt042iL11m3X",
        "colab_type": "code",
        "colab": {
          "base_uri": "https://localhost:8080/",
          "height": 35
        },
        "outputId": "86199bc5-f2ca-4c9d-e2c6-683296e66a8f"
      },
      "source": [
        "pd.Series(mape_score).mean() # train자체적으로 해본성능 (validation 전체 기간 67%에 대해)"
      ],
      "execution_count": 55,
      "outputs": [
        {
          "output_type": "execute_result",
          "data": {
            "text/plain": [
              "17.869184701655175"
            ]
          },
          "metadata": {
            "tags": []
          },
          "execution_count": 55
        }
      ]
    },
    {
      "cell_type": "markdown",
      "metadata": {
        "id": "XKxgf7zivecK",
        "colab_type": "text"
      },
      "source": [
        "- 6번 카테고리별 3갈한 data로 Fit&Predict"
      ]
    },
    {
      "cell_type": "code",
      "metadata": {
        "id": "l_x4WQcY2dSZ",
        "colab_type": "code",
        "colab": {}
      },
      "source": [
        "beauty_bigfold, beauty_smallfold"
      ],
      "execution_count": null,
      "outputs": []
    },
    {
      "cell_type": "code",
      "metadata": {
        "id": "UWcRU_1-2v1X",
        "colab_type": "code",
        "colab": {}
      },
      "source": [
        "y_beauty_bigfold = beauty_bigfold['new주문량']\n",
        "y_beauty_smallfold = beauty_smallfold['new주문량']"
      ],
      "execution_count": 83,
      "outputs": []
    },
    {
      "cell_type": "code",
      "metadata": {
        "id": "Uo_JtMqH25gn",
        "colab_type": "code",
        "colab": {}
      },
      "source": [
        "x_beauty_bigfold = beauty_bigfold[feature_selection]\n",
        "x_beauty_smallfold = beauty_smallfold[feature_selection]"
      ],
      "execution_count": 87,
      "outputs": []
    },
    {
      "cell_type": "code",
      "metadata": {
        "id": "38pMRyZAviSq",
        "colab_type": "code",
        "colab": {
          "base_uri": "https://localhost:8080/",
          "height": 35
        },
        "outputId": "d8fc4ef3-f912-4ab7-963d-29766d166fb9"
      },
      "source": [
        "forest.fit(x_beauty_bigfold, y_beauty_bigfold)\n",
        "predictions = forest.predict(x_beauty_smallfold)\n",
        "mape = mean_absolute_percentage_error(y_beauty_smallfold, predictions)\n",
        "mape"
      ],
      "execution_count": 89,
      "outputs": [
        {
          "output_type": "execute_result",
          "data": {
            "text/plain": [
              "7.374886598189255"
            ]
          },
          "metadata": {
            "tags": []
          },
          "execution_count": 89
        }
      ]
    },
    {
      "cell_type": "markdown",
      "metadata": {
        "id": "0-XVpuMO69DM",
        "colab_type": "text"
      },
      "source": [
        "- 모든 카테고리에 대해 위의 과정 반복\n",
        "\n",
        "*   원래 의도는 랜덤하게 하는것이나, 아래에선 3개의 방송중 앞시간 2개로 남은하나 예측\n",
        "\n"
      ]
    },
    {
      "cell_type": "code",
      "metadata": {
        "id": "PWt_U7k5vi5_",
        "colab_type": "code",
        "colab": {}
      },
      "source": [
        "for i in category_list:\n",
        "  globals()['x_{}_bigfold'.format(i)] = globals()['{}_bigfold'.format(i)][feature_selection]\n",
        "  globals()['x_{}_smallfold'.format(i)] = globals()['{}_smallfold'.format(i)][feature_selection]\n",
        "  globals()['y_{}_bigfold'.format(i)] = globals()['{}_bigfold'.format(i)]['new주문량']\n",
        "  globals()['y_{}_smallfold'.format(i)] = globals()['{}_smallfold'.format(i)]['new주문량']\n",
        "\n",
        "mape_score_3gal = []\n",
        "for i in category_list:\n",
        "  category_data = globals()['x_{}_bigfold'.format(i)]\n",
        "  category_label =  globals()['y_{}_bigfold'.format(i)]\n",
        "  forest.fit(category_data,category_label)          # bigfold로 훈련시킴\n",
        "  test_data = globals()['x_{}_smallfold'.format(i)]\n",
        "  test_label =  globals()['y_{}_smallfold'.format(i)]\n",
        "  predictions = forest.predict(test_data) \n",
        "  mape_score_3gal.append(mean_absolute_percentage_error(test_label, predictions)) # smallfold 데이터로 예측"
      ],
      "execution_count": 98,
      "outputs": []
    },
    {
      "cell_type": "code",
      "metadata": {
        "id": "rQO1vbxD1q_G",
        "colab_type": "code",
        "colab": {
          "base_uri": "https://localhost:8080/",
          "height": 215
        },
        "outputId": "f588af14-a758-4234-85b6-3fdcb48e60f0"
      },
      "source": [
        "for i in range(len(category_list)):\n",
        "  print(\"RF MAPE score of test\",category_list[i],\":\",mape_score_3gal[i])"
      ],
      "execution_count": 99,
      "outputs": [
        {
          "output_type": "stream",
          "text": [
            "RF MAPE score of test inner : 9.854446275264655\n",
            "RF MAPE score of test cloth : 10.560494161820307\n",
            "RF MAPE score of test elec : 27.009548163557163\n",
            "RF MAPE score of test living : 13.366414698306691\n",
            "RF MAPE score of test food : 5.297779892402812\n",
            "RF MAPE score of test health : 8.508171887884474\n",
            "RF MAPE score of test bedding : 12.377445287188054\n",
            "RF MAPE score of test furniture : 25.70742298114453\n",
            "RF MAPE score of test beauty : 7.374886598189255\n",
            "RF MAPE score of test etc : 16.87212771720449\n",
            "RF MAPE score of test life : 15.59857239916434\n"
          ],
          "name": "stdout"
        }
      ]
    },
    {
      "cell_type": "code",
      "metadata": {
        "id": "0gZLChZg1q7g",
        "colab_type": "code",
        "colab": {
          "base_uri": "https://localhost:8080/",
          "height": 35
        },
        "outputId": "7100fec1-58e5-4894-8ada-7bb6e5472748"
      },
      "source": [
        "pd.Series(mape_score_3gal).mean() # 기존의 4번 방식보다 낫다!"
      ],
      "execution_count": 100,
      "outputs": [
        {
          "output_type": "execute_result",
          "data": {
            "text/plain": [
              "13.866119096556979"
            ]
          },
          "metadata": {
            "tags": []
          },
          "execution_count": 100
        }
      ]
    },
    {
      "cell_type": "markdown",
      "metadata": {
        "id": "Pc_93pAyxJDH",
        "colab_type": "text"
      },
      "source": [
        "# 특성중요도 시각화"
      ]
    },
    {
      "cell_type": "code",
      "metadata": {
        "id": "96gU6Up7xJ9z",
        "colab_type": "code",
        "colab": {}
      },
      "source": [
        "print(\"특성 중요도:\\n{}\".format(forest.feature_importances_))\n",
        "\n",
        "def plot_feature_importances_NS(view_data,model):\n",
        "    n_features = view_data.shape[1]\n",
        "    plt.barh(range(n_features), model.feature_importances_, align='center')\n",
        "    plt.yticks(np.arange(n_features), view_data.columns.tolist())\n",
        "    plt.xlabel(\"특성 중요도\")\n",
        "    plt.ylabel(\"특성\")\n",
        "    plt.ylim(-1, n_features)\n",
        "\n",
        "plot_feature_importances_NS(shop_train_x_life,forest) #다들 top_cat가 가장 유효하게 작용한것 같다."
      ],
      "execution_count": null,
      "outputs": []
    },
    {
      "cell_type": "code",
      "metadata": {
        "id": "qR014CtQxIo1",
        "colab_type": "code",
        "colab": {}
      },
      "source": [
        "forest.feature_importances_"
      ],
      "execution_count": null,
      "outputs": []
    },
    {
      "cell_type": "markdown",
      "metadata": {
        "colab_type": "text",
        "id": "fRvnHSw-1UHa"
      },
      "source": [
        "# 다중공선성 확인"
      ]
    },
    {
      "cell_type": "code",
      "metadata": {
        "colab_type": "code",
        "id": "3uX7a7vp1UHd",
        "colab": {}
      },
      "source": [
        "hi_feature = ['노출(분)', 'holiday(includeSS)','실제_최고기온','실제_최저기온','실제_강수량','실제_평균풍속' , '예보_서울_강수확률', '예보_서울_강수량', 'Active Users', 'new판매단가', 'prime_time',\n",
        "       'prime_day', 'top_code', 'top_cat']\n",
        "#실제날씨만 남겨놓은 Feature군"
      ],
      "execution_count": null,
      "outputs": []
    },
    {
      "cell_type": "code",
      "metadata": {
        "colab_type": "code",
        "id": "1oteGusk1UHh",
        "colab": {
          "base_uri": "https://localhost:8080/"
        },
        "outputId": "c57929c6-9059-455e-fdd0-056f4b08c8fc"
      },
      "source": [
        "mung = shop_train_x_beauty[hi_feature]\n",
        "mung"
      ],
      "execution_count": null,
      "outputs": [
        {
          "output_type": "error",
          "ename": "NameError",
          "evalue": "ignored",
          "traceback": [
            "\u001b[0;31m---------------------------------------------------------------------------\u001b[0m",
            "\u001b[0;31mNameError\u001b[0m                                 Traceback (most recent call last)",
            "\u001b[0;32m<ipython-input-46-0cd7d0fab7d6>\u001b[0m in \u001b[0;36m<module>\u001b[0;34m()\u001b[0m\n\u001b[0;32m----> 1\u001b[0;31m \u001b[0mmung\u001b[0m \u001b[0;34m=\u001b[0m \u001b[0mshop_train_x_beauty\u001b[0m\u001b[0;34m[\u001b[0m\u001b[0mhi_feature\u001b[0m\u001b[0;34m]\u001b[0m\u001b[0;34m\u001b[0m\u001b[0;34m\u001b[0m\u001b[0m\n\u001b[0m\u001b[1;32m      2\u001b[0m \u001b[0mmung\u001b[0m\u001b[0;34m\u001b[0m\u001b[0;34m\u001b[0m\u001b[0m\n",
            "\u001b[0;31mNameError\u001b[0m: name 'shop_train_x_beauty' is not defined"
          ]
        }
      ]
    },
    {
      "cell_type": "code",
      "metadata": {
        "colab_type": "code",
        "id": "75ZFeXxX1UHm",
        "colab": {}
      },
      "source": [
        "mung.corr()"
      ],
      "execution_count": null,
      "outputs": []
    },
    {
      "cell_type": "code",
      "metadata": {
        "colab_type": "code",
        "id": "VSN0wsoZ1UHq",
        "colab": {}
      },
      "source": [
        "from patsy import dmatrices\n",
        "import statsmodels.api as sm\n",
        "from statsmodels.stats.outliers_influence import variance_inflation_factor\n",
        "shop_train_x_corr = mung.corr()"
      ],
      "execution_count": null,
      "outputs": []
    },
    {
      "cell_type": "code",
      "metadata": {
        "colab_type": "code",
        "id": "N4o7tjMp1UHu",
        "colab": {}
      },
      "source": [
        "plt.rcParams['figure.figsize']=(15,10)\n",
        "\n",
        "sns.heatmap(shop_train_x_corr.corr(),\n",
        "          annot=True,\n",
        "          cmap='Reds',\n",
        "          vmin = -1, vmax = 1\n",
        "          )"
      ],
      "execution_count": null,
      "outputs": []
    },
    {
      "cell_type": "code",
      "metadata": {
        "colab_type": "code",
        "id": "PmHFYfJo1UHx",
        "colab": {}
      },
      "source": [
        "# 피처마다의 VIF 계수를 출력\n",
        "vif = pd.DataFrame()\n",
        "vif[\"VIF Factor\"] = [variance_inflation_factor(shop_train_x_corr.values, i) for i in range(shop_train_x_corr.shape[1])]\n",
        "vif[\"features\"] = shop_train_x_corr.columns\n",
        "vif # 기존 feature_selection대로하면 다 엄청 높게나옴 +e3...이런식"
      ],
      "execution_count": null,
      "outputs": []
    },
    {
      "cell_type": "markdown",
      "metadata": {
        "id": "hGKt_FawvuMq",
        "colab_type": "text"
      },
      "source": [
        "# SVM적용"
      ]
    },
    {
      "cell_type": "code",
      "metadata": {
        "id": "TwCj8S2LCQ8j",
        "colab_type": "code",
        "colab": {}
      },
      "source": [
        "from sklearn.svm import LinearSVR\n",
        "\n",
        "from sklearn.preprocessing import MinMaxScaler\n",
        "from sklearn.preprocessing import StandardScaler\n",
        "std_scaler = StandardScaler()\n",
        "scaler = MinMaxScaler()"
      ],
      "execution_count": 103,
      "outputs": []
    },
    {
      "cell_type": "markdown",
      "metadata": {
        "id": "4-6DIyCnvw2z",
        "colab_type": "text"
      },
      "source": [
        "- 모든 카테고리에 대해 svr 써보기"
      ]
    },
    {
      "cell_type": "code",
      "metadata": {
        "id": "1R9LfTLJvM18",
        "colab_type": "code",
        "colab": {}
      },
      "source": [
        "'''\n",
        "svm_reg = LinearSVR()\n",
        "mape_score_svr = []\n",
        "for i in category_list:\n",
        "  category_data = std_scaler.fit_transform(globals()['shop_train_x_{}'.format(i)])\n",
        "  category_label =  globals()['y_train_{}'.format(i)]\n",
        "  svm_reg.fit(category_data,category_label)\n",
        "  predictions = svm_reg.predict(category_data)\n",
        "  mape_score_svr.append(mean_absolute_percentage_error(category_label, predictions))\n",
        "'''"
      ],
      "execution_count": null,
      "outputs": []
    },
    {
      "cell_type": "code",
      "metadata": {
        "id": "2fng5oxOvzL_",
        "colab_type": "code",
        "colab": {}
      },
      "source": [
        "'''\n",
        "for i in range(len(category_list)):\n",
        "  print(\"SVM MAPE score of\",category_list[i],\":\",mape_score_svr[i])\n",
        "'''"
      ],
      "execution_count": null,
      "outputs": []
    },
    {
      "cell_type": "markdown",
      "metadata": {
        "id": "uh8CsM38_vYm",
        "colab_type": "text"
      },
      "source": [
        "- Poly SVM"
      ]
    },
    {
      "cell_type": "code",
      "metadata": {
        "id": "sfijhSG8LHbt",
        "colab_type": "code",
        "colab": {}
      },
      "source": [
        "from sklearn.svm import SVR"
      ],
      "execution_count": 101,
      "outputs": []
    },
    {
      "cell_type": "code",
      "metadata": {
        "id": "MQDUSrzyBu68",
        "colab_type": "code",
        "colab": {
          "base_uri": "https://localhost:8080/",
          "height": 53
        },
        "outputId": "a2acb13c-0bce-473b-a70d-69cd02fd0387"
      },
      "source": [
        "svm_poly_reg1 = SVR(kernel=\"poly\", gamma='auto', degree=3, C=100, epsilon=0.1)\n",
        "svm_poly_reg1.fit(std_scaler.fit_transform(shop_train_x_beauty), y_train_beauty)"
      ],
      "execution_count": 104,
      "outputs": [
        {
          "output_type": "execute_result",
          "data": {
            "text/plain": [
              "SVR(C=100, cache_size=200, coef0=0.0, degree=3, epsilon=0.1, gamma='auto',\n",
              "    kernel='poly', max_iter=-1, shrinking=True, tol=0.001, verbose=False)"
            ]
          },
          "metadata": {
            "tags": []
          },
          "execution_count": 104
        }
      ]
    },
    {
      "cell_type": "code",
      "metadata": {
        "id": "p5pYSC8THiKz",
        "colab_type": "code",
        "colab": {}
      },
      "source": [
        "predictions_poly_svm = svm_poly_reg1.predict(std_scaler.fit_transform(shop_train_x_beauty))\n",
        "mape_poly = mean_absolute_percentage_error(y_train_beauty, predictions_poly_svm)\n",
        "mape_poly # train데이터 내에서 점수 확인해보기"
      ],
      "execution_count": null,
      "outputs": []
    },
    {
      "cell_type": "markdown",
      "metadata": {
        "id": "u-aOB5Sf68p0",
        "colab_type": "text"
      },
      "source": [
        "- 4번 방식. test 셋으로 점수 확인해보기(33%)"
      ]
    },
    {
      "cell_type": "code",
      "metadata": {
        "id": "2T3DK4Iy69AR",
        "colab_type": "code",
        "colab": {}
      },
      "source": [
        "svm_poly_reg1 = SVR(kernel=\"poly\", gamma='auto', degree=3, C=100, epsilon=0.1) # degree에 따라 성능차이 조금씩 난다. 3차정도가 최적인듯(4차가 성능은 경미하게 좋음)\n",
        "mape_score_poly_svr = []\n",
        "for i in category_list:\n",
        "  category_data = std_scaler.fit_transform(globals()['shop_train_x_{}'.format(i)])\n",
        "  category_label =  globals()['y_train_{}'.format(i)]\n",
        "  svm_poly_reg1.fit(category_data,category_label)#train데이터로 fitting되어있음.\n",
        "  test_data = std_scaler.fit_transform(globals()['shop_test_x_{}'.format(i)])\n",
        "  test_label =  globals()['y_test_{}'.format(i)]\n",
        "  predictions = svm_poly_reg1.predict(test_data)\n",
        "  mape_score_poly_svr.append(mean_absolute_percentage_error(test_label, predictions))"
      ],
      "execution_count": 119,
      "outputs": []
    },
    {
      "cell_type": "code",
      "metadata": {
        "id": "44hUni7m69dW",
        "colab_type": "code",
        "colab": {
          "base_uri": "https://localhost:8080/",
          "height": 215
        },
        "outputId": "855d7d03-6e19-4102-ff9b-095743d56bad"
      },
      "source": [
        "for i in range(len(category_list)):\n",
        "  print(\"Poly_SVM MAPE score of test\",category_list[i],\":\",mape_score_poly_svr[i])"
      ],
      "execution_count": 120,
      "outputs": [
        {
          "output_type": "stream",
          "text": [
            "Poly_SVM MAPE score of test inner : 12.925051967461561\n",
            "Poly_SVM MAPE score of test cloth : 15.191808641607924\n",
            "Poly_SVM MAPE score of test elec : 46.25112186679103\n",
            "Poly_SVM MAPE score of test living : 18.060096321548823\n",
            "Poly_SVM MAPE score of test food : 6.784096219165542\n",
            "Poly_SVM MAPE score of test health : 9.797026764990296\n",
            "Poly_SVM MAPE score of test bedding : 16.953495300274817\n",
            "Poly_SVM MAPE score of test furniture : 39.25627518691226\n",
            "Poly_SVM MAPE score of test beauty : 7.998686018048932\n",
            "Poly_SVM MAPE score of test etc : 32.6407621996375\n",
            "Poly_SVM MAPE score of test life : 26.471104114437704\n"
          ],
          "name": "stdout"
        }
      ]
    },
    {
      "cell_type": "code",
      "metadata": {
        "id": "sLOEu0A9-3ZR",
        "colab_type": "code",
        "colab": {
          "base_uri": "https://localhost:8080/",
          "height": 35
        },
        "outputId": "9190f881-8004-45bf-8458-b8d424b419f5"
      },
      "source": [
        "pd.Series(mape_score_poly_svr).mean() "
      ],
      "execution_count": 121,
      "outputs": [
        {
          "output_type": "execute_result",
          "data": {
            "text/plain": [
              "21.120865872806945"
            ]
          },
          "metadata": {
            "tags": []
          },
          "execution_count": 121
        }
      ]
    },
    {
      "cell_type": "markdown",
      "metadata": {
        "id": "EFYuqQie-_hi",
        "colab_type": "text"
      },
      "source": [
        "- 6번 방식. 3갈로 피팅점수 확인"
      ]
    },
    {
      "cell_type": "code",
      "metadata": {
        "id": "kY1DwfoO-9s1",
        "colab_type": "code",
        "colab": {}
      },
      "source": [
        "svm_poly_reg1 = SVR(kernel=\"poly\", gamma='auto', degree=3, C=100, epsilon=0.1) # degree에 따라 성능차이 조금씩 난다. 3차정도가 최적인듯(4차가 성능은 경미하게 좋음)\n",
        "mape_score_poly_svr_3gal = []\n",
        "for i in category_list:\n",
        "  category_data = std_scaler.fit_transform(globals()['x_{}_bigfold'.format(i)])\n",
        "  category_label =  globals()['y_{}_bigfold'.format(i)]\n",
        "  svm_poly_reg1.fit(category_data,category_label)          # bigfold로 훈련시킴\n",
        "  test_data = std_scaler.fit_transform(globals()['x_{}_smallfold'.format(i)])\n",
        "  test_label =  globals()['y_{}_smallfold'.format(i)]\n",
        "  predictions = svm_poly_reg1.predict(test_data) \n",
        "  mape_score_poly_svr_3gal.append(mean_absolute_percentage_error(test_label, predictions))"
      ],
      "execution_count": 115,
      "outputs": []
    },
    {
      "cell_type": "code",
      "metadata": {
        "id": "OnR4euj4-9ol",
        "colab_type": "code",
        "colab": {
          "base_uri": "https://localhost:8080/",
          "height": 215
        },
        "outputId": "511424f4-3c27-49c3-ae67-0d60909dca75"
      },
      "source": [
        "for i in range(len(category_list)):\n",
        "  print(\"Poly_SVM MAPE score of test\",category_list[i],\":\",mape_score_poly_svr_3gal[i])"
      ],
      "execution_count": 116,
      "outputs": [
        {
          "output_type": "stream",
          "text": [
            "Poly_SVM MAPE score of test inner : 11.650748072286504\n",
            "Poly_SVM MAPE score of test cloth : 11.054714197331995\n",
            "Poly_SVM MAPE score of test elec : 28.894755902722007\n",
            "Poly_SVM MAPE score of test living : 21.66749311934981\n",
            "Poly_SVM MAPE score of test food : 6.091535260989995\n",
            "Poly_SVM MAPE score of test health : 8.39039442027616\n",
            "Poly_SVM MAPE score of test bedding : 10.135510978051093\n",
            "Poly_SVM MAPE score of test furniture : 35.40219464981731\n",
            "Poly_SVM MAPE score of test beauty : 7.95947163885011\n",
            "Poly_SVM MAPE score of test etc : 35.035053933101466\n",
            "Poly_SVM MAPE score of test life : 21.781099448538864\n"
          ],
          "name": "stdout"
        }
      ]
    },
    {
      "cell_type": "code",
      "metadata": {
        "id": "PJSR8soU_aiW",
        "colab_type": "code",
        "colab": {
          "base_uri": "https://localhost:8080/",
          "height": 35
        },
        "outputId": "a064a723-a46c-4676-93e4-9609ca31e703"
      },
      "source": [
        "pd.Series(mape_score_poly_svr_3gal).mean()  # SVR도 마찬가지."
      ],
      "execution_count": 118,
      "outputs": [
        {
          "output_type": "execute_result",
          "data": {
            "text/plain": [
              "18.00572469284685"
            ]
          },
          "metadata": {
            "tags": []
          },
          "execution_count": 118
        }
      ]
    },
    {
      "cell_type": "markdown",
      "metadata": {
        "id": "eSd369wjwdtn",
        "colab_type": "text"
      },
      "source": [
        "# 카테고리별 dnn"
      ]
    },
    {
      "cell_type": "code",
      "metadata": {
        "id": "_dYMEsoZwfpx",
        "colab_type": "code",
        "colab": {}
      },
      "source": [
        "shop_train_x_beauty.describe()"
      ],
      "execution_count": null,
      "outputs": []
    },
    {
      "cell_type": "code",
      "metadata": {
        "id": "mP8qqvN_wf6h",
        "colab_type": "code",
        "colab": {}
      },
      "source": [
        "from sklearn.preprocessing import MinMaxScaler\n",
        "scaler = MinMaxScaler()"
      ],
      "execution_count": null,
      "outputs": []
    },
    {
      "cell_type": "code",
      "metadata": {
        "id": "ZaoE21yAwyKd",
        "colab_type": "code",
        "colab": {}
      },
      "source": [
        "reg_col = ['실제_최고기온','실제_최저기온','실제_강수량','실제_평균풍속', \n",
        "           '예보_서울_강수확률', '예보_서울_강수량', '예보_서울_하늘상태', \n",
        "           '예보_서울_일최고기온', '예보_서울_일최저기온', '예보_일산_강수확률', \n",
        "           '예보_일산_강수량', '예보_일산_일최고기온', '예보_일산_일최저기온', \n",
        "           '예보_수원_강수확률', '예보_수원_강수량', '예보_수원_일최고기온',\n",
        "           '예보_수원_일최저기온', 'new판매단가']"
      ],
      "execution_count": null,
      "outputs": []
    },
    {
      "cell_type": "code",
      "metadata": {
        "id": "4Egh11m_wf9H",
        "colab_type": "code",
        "colab": {}
      },
      "source": [
        "from sklearn.preprocessing import MinMaxScaler\n",
        "scaler = MinMaxScaler()"
      ],
      "execution_count": null,
      "outputs": []
    },
    {
      "cell_type": "code",
      "metadata": {
        "id": "TjojCgt7wf_v",
        "colab_type": "code",
        "colab": {}
      },
      "source": [
        "for i in category_list:\n",
        "  globals()['shop_train_x_{}'.format(i)][reg_col] = scaler.fit_transform(globals()['shop_train_x_{}'.format(i)][reg_col])\n",
        "  globals()['shop_test_x_{}'.format(i)][reg_col] = scaler.fit_transform(globals()['shop_test_x_{}'.format(i)][reg_col])"
      ],
      "execution_count": null,
      "outputs": []
    },
    {
      "cell_type": "code",
      "metadata": {
        "id": "nH_VFxJ2wgEd",
        "colab_type": "code",
        "colab": {}
      },
      "source": [
        "from keras.models import Sequential\n",
        "from keras.layers import Dense\n",
        "from keras.optimizers import SGD"
      ],
      "execution_count": null,
      "outputs": []
    },
    {
      "cell_type": "code",
      "metadata": {
        "id": "mr5MeBOcwgHr",
        "colab_type": "code",
        "colab": {}
      },
      "source": [
        "n_inputs = 18\n",
        "n_h1 = 50\n",
        "n_h2 = 50\n",
        "n_outputs = 1\n",
        "\n",
        "#### optimizer = sgd\n",
        "\n",
        "m1 = Sequential()\n",
        "m1.add(Dense(n_h1, input_dim=18, kernel_initializer='normal', activation='relu'))\n",
        "m1.add(Dense(n_h2, input_dim=n_h1, kernel_initializer='normal', activation='relu'))\n",
        "m1.add(Dense(n_outputs, input_dim=n_h2, kernel_initializer='normal'))"
      ],
      "execution_count": null,
      "outputs": []
    },
    {
      "cell_type": "code",
      "metadata": {
        "id": "88X-3-zt1czZ",
        "colab_type": "code",
        "colab": {}
      },
      "source": [
        "m1.compile(optimizer='adam', loss='mean_squared_error')\n",
        "hist1=m1.fit(shop_train_x_bedding[reg_col], y_train_bedding, epochs=20, batch_size=20)"
      ],
      "execution_count": null,
      "outputs": []
    },
    {
      "cell_type": "code",
      "metadata": {
        "id": "F7m8KrVizLZp",
        "colab_type": "code",
        "colab": {}
      },
      "source": [
        "pred_cate = []\n",
        "m1.compile(optimizer='adam', loss='mean_squared_error')\n",
        "for i in category_list:\n",
        "  hist1=m1.fit(globals()['shop_train_x_{}'.format(i)][reg_col], globals()['y_train_{}'.format(i)], epochs=20, batch_size=20)\n",
        "  pred_cate.append(m1.predict(globals()['shop_train_x_{}'.format(i)][reg_col]))"
      ],
      "execution_count": null,
      "outputs": []
    },
    {
      "cell_type": "code",
      "metadata": {
        "id": "fIbHhO1SzLmT",
        "colab_type": "code",
        "colab": {}
      },
      "source": [
        "pred = m1.predict(shop_train_x_bedding[reg_col])"
      ],
      "execution_count": null,
      "outputs": []
    },
    {
      "cell_type": "code",
      "metadata": {
        "id": "rdEJLwX1zLpe",
        "colab_type": "code",
        "colab": {}
      },
      "source": [
        "mape_dnn = mean_absolute_percentage_error(y_train_bedding, pred)\n",
        "mape_dnn"
      ],
      "execution_count": null,
      "outputs": []
    },
    {
      "cell_type": "code",
      "metadata": {
        "id": "2n7vHtqszLuT",
        "colab_type": "code",
        "colab": {}
      },
      "source": [
        "mape_dnn_cate = []\n",
        "num = 0\n",
        "for i in category_list:\n",
        "  mape_dnn_cate.append(mean_absolute_percentage_error((globals()['y_train_{}'.format(i)]),pred_cate[num]))\n",
        "  num += 1"
      ],
      "execution_count": null,
      "outputs": []
    },
    {
      "cell_type": "code",
      "metadata": {
        "id": "GnSaOdbV34JN",
        "colab_type": "code",
        "colab": {}
      },
      "source": [
        "for i in range(len(category_list)):\n",
        "  print(\"DNN MAPE score of:\",category_list[i],\":\",mape_dnn_cate[i])"
      ],
      "execution_count": null,
      "outputs": []
    },
    {
      "cell_type": "code",
      "metadata": {
        "id": "0_x_JIEQW9lI",
        "colab_type": "code",
        "colab": {}
      },
      "source": [
        "pd.Series(mape_dnn_cate).mean()"
      ],
      "execution_count": null,
      "outputs": []
    }
  ]
}