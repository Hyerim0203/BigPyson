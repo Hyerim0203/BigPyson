{
  "nbformat": 4,
  "nbformat_minor": 0,
  "metadata": {
    "colab": {
      "name": "모델링통합(2020-09-24).ipynb",
      "provenance": [],
      "collapsed_sections": [
        "eSd369wjwdtn"
      ],
      "toc_visible": true
    },
    "kernelspec": {
      "name": "python3",
      "display_name": "Python 3"
    }
  },
  "cells": [
    {
      "cell_type": "code",
      "metadata": {
        "id": "j-_kGvx0j4K9",
        "colab_type": "code",
        "colab": {
          "base_uri": "https://localhost:8080/",
          "height": 72
        },
        "outputId": "c7d64876-de03-4bfb-e61e-0ddf39e2c0dd"
      },
      "source": [
        "\n",
        "import matplotlib.pyplot as plt\n",
        "import numpy as np\n",
        "import pandas as pd\n",
        "import datetime as dt\n",
        "import seaborn as sns\n",
        "from scipy import stats\n",
        "import math"
      ],
      "execution_count": 1,
      "outputs": [
        {
          "output_type": "stream",
          "text": [
            "/usr/local/lib/python3.6/dist-packages/statsmodels/tools/_testing.py:19: FutureWarning: pandas.util.testing is deprecated. Use the functions in the public API at pandas.testing instead.\n",
            "  import pandas.util.testing as tm\n"
          ],
          "name": "stderr"
        }
      ]
    },
    {
      "cell_type": "code",
      "metadata": {
        "id": "QFYDzaGnyaCU",
        "colab_type": "code",
        "colab": {
          "base_uri": "https://localhost:8080/",
          "height": 650
        },
        "outputId": "f8f9fce1-d35f-4b1f-e551-a0c90985252d"
      },
      "source": [
        "#나눔 폰트 설치\n",
        "!sudo apt-get install -y fonts-nanum\n",
        "!sudo fc-cache -fv\n",
        "!rm ~/.cache/matplotlib -rf"
      ],
      "execution_count": 2,
      "outputs": [
        {
          "output_type": "stream",
          "text": [
            "Reading package lists... Done\n",
            "Building dependency tree       \n",
            "Reading state information... Done\n",
            "The following NEW packages will be installed:\n",
            "  fonts-nanum\n",
            "0 upgraded, 1 newly installed, 0 to remove and 11 not upgraded.\n",
            "Need to get 9,604 kB of archives.\n",
            "After this operation, 29.5 MB of additional disk space will be used.\n",
            "Get:1 http://archive.ubuntu.com/ubuntu bionic/universe amd64 fonts-nanum all 20170925-1 [9,604 kB]\n",
            "Fetched 9,604 kB in 1s (8,174 kB/s)\n",
            "debconf: unable to initialize frontend: Dialog\n",
            "debconf: (No usable dialog-like program is installed, so the dialog based frontend cannot be used. at /usr/share/perl5/Debconf/FrontEnd/Dialog.pm line 76, <> line 1.)\n",
            "debconf: falling back to frontend: Readline\n",
            "debconf: unable to initialize frontend: Readline\n",
            "debconf: (This frontend requires a controlling tty.)\n",
            "debconf: falling back to frontend: Teletype\n",
            "dpkg-preconfigure: unable to re-open stdin: \n",
            "Selecting previously unselected package fonts-nanum.\n",
            "(Reading database ... 144676 files and directories currently installed.)\n",
            "Preparing to unpack .../fonts-nanum_20170925-1_all.deb ...\n",
            "Unpacking fonts-nanum (20170925-1) ...\n",
            "Setting up fonts-nanum (20170925-1) ...\n",
            "Processing triggers for fontconfig (2.12.6-0ubuntu2) ...\n",
            "/usr/share/fonts: caching, new cache contents: 0 fonts, 1 dirs\n",
            "/usr/share/fonts/truetype: caching, new cache contents: 0 fonts, 3 dirs\n",
            "/usr/share/fonts/truetype/humor-sans: caching, new cache contents: 1 fonts, 0 dirs\n",
            "/usr/share/fonts/truetype/liberation: caching, new cache contents: 16 fonts, 0 dirs\n",
            "/usr/share/fonts/truetype/nanum: caching, new cache contents: 10 fonts, 0 dirs\n",
            "/usr/local/share/fonts: caching, new cache contents: 0 fonts, 0 dirs\n",
            "/root/.local/share/fonts: skipping, no such directory\n",
            "/root/.fonts: skipping, no such directory\n",
            "/var/cache/fontconfig: cleaning cache directory\n",
            "/root/.cache/fontconfig: not cleaning non-existent cache directory\n",
            "/root/.fontconfig: not cleaning non-existent cache directory\n",
            "fc-cache: succeeded\n"
          ],
          "name": "stdout"
        }
      ]
    },
    {
      "cell_type": "code",
      "metadata": {
        "id": "fGxK4qvvyex6",
        "colab_type": "code",
        "colab": {}
      },
      "source": [
        "#한글폰트 지정\n",
        "plt.rc('font', family='NanumBarunGothic') "
      ],
      "execution_count": 3,
      "outputs": []
    },
    {
      "cell_type": "markdown",
      "metadata": {
        "id": "oShzC-wQkadP",
        "colab_type": "text"
      },
      "source": [
        "# 데이터 생성"
      ]
    },
    {
      "cell_type": "code",
      "metadata": {
        "id": "c4OnO7TLhk2O",
        "colab_type": "code",
        "colab": {}
      },
      "source": [
        "train = pd.read_excel('/content/drive/My Drive/빅콘폴더/최종 데이터셋 후보/train.xlsx')\n",
        "train = train[train['판매단가'] < train['취급액']]"
      ],
      "execution_count": 4,
      "outputs": []
    },
    {
      "cell_type": "code",
      "metadata": {
        "id": "y6FN_5X3hk0F",
        "colab_type": "code",
        "colab": {}
      },
      "source": [
        "train['노출(분)'] = train['노출(분)'].replace(0, math.nan)\n",
        "train['노출(분)'] = train['노출(분)'].fillna(method='ffill')"
      ],
      "execution_count": 5,
      "outputs": []
    },
    {
      "cell_type": "code",
      "metadata": {
        "id": "W2bcgHANdlab",
        "colab_type": "code",
        "colab": {}
      },
      "source": [
        "train.index = np.arange(7513)"
      ],
      "execution_count": 6,
      "outputs": []
    },
    {
      "cell_type": "code",
      "metadata": {
        "id": "07gxL6uSiGSm",
        "colab_type": "code",
        "colab": {}
      },
      "source": [
        "test = pd.read_excel('/content/drive/My Drive/빅콘폴더/test.xlsx', header=1)"
      ],
      "execution_count": 7,
      "outputs": []
    },
    {
      "cell_type": "markdown",
      "metadata": {
        "id": "p7gttZKmkvD9",
        "colab_type": "text"
      },
      "source": [
        "# Feature Engineering & 인코딩"
      ]
    },
    {
      "cell_type": "markdown",
      "metadata": {
        "id": "zHAt7znHjnir",
        "colab_type": "text"
      },
      "source": [
        "- 판매단가, 주문량 log 변환\n"
      ]
    },
    {
      "cell_type": "code",
      "metadata": {
        "id": "-HVBpwaWjouY",
        "colab_type": "code",
        "colab": {}
      },
      "source": [
        "train['new판매단가'] = np.log(train['판매단가'])\n",
        "train.drop('판매단가', inplace=True, axis=1)\n",
        "\n",
        "\n",
        "train['new주문량'] = np.log(train['주문량'])\n",
        "train.drop('주문량', inplace=True, axis=1)"
      ],
      "execution_count": 8,
      "outputs": []
    },
    {
      "cell_type": "code",
      "metadata": {
        "id": "o40BJGeNBQIa",
        "colab_type": "code",
        "colab": {
          "base_uri": "https://localhost:8080/",
          "height": 1000
        },
        "outputId": "76b52653-8ac9-4cff-96b1-1476a0e02214"
      },
      "source": [
        "train.head(3)"
      ],
      "execution_count": 9,
      "outputs": [
        {
          "output_type": "execute_result",
          "data": {
            "text/html": [
              "<div>\n",
              "<style scoped>\n",
              "    .dataframe tbody tr th:only-of-type {\n",
              "        vertical-align: middle;\n",
              "    }\n",
              "\n",
              "    .dataframe tbody tr th {\n",
              "        vertical-align: top;\n",
              "    }\n",
              "\n",
              "    .dataframe thead th {\n",
              "        text-align: right;\n",
              "    }\n",
              "</style>\n",
              "<table border=\"1\" class=\"dataframe\">\n",
              "  <thead>\n",
              "    <tr style=\"text-align: right;\">\n",
              "      <th></th>\n",
              "      <th>Unnamed: 0</th>\n",
              "      <th>방송일시</th>\n",
              "      <th>노출(분)</th>\n",
              "      <th>마더코드</th>\n",
              "      <th>상품코드</th>\n",
              "      <th>상품명</th>\n",
              "      <th>상품군</th>\n",
              "      <th>취급액</th>\n",
              "      <th>날짜</th>\n",
              "      <th>시간</th>\n",
              "      <th>요일</th>\n",
              "      <th>시</th>\n",
              "      <th>holiday</th>\n",
              "      <th>월</th>\n",
              "      <th>holiday(includeSS)</th>\n",
              "      <th>실제_서울_최고기온</th>\n",
              "      <th>실제_서울_최저기온</th>\n",
              "      <th>실제_서울_강수량(mm)</th>\n",
              "      <th>실제_서울_평균풍속(m/s)</th>\n",
              "      <th>실제_서울_날씨</th>\n",
              "      <th>실제_수원_최고기온</th>\n",
              "      <th>실제_수원_최저기온</th>\n",
              "      <th>실제_수원_강수량(mm)</th>\n",
              "      <th>실제_수원_평균풍속(m/s)</th>\n",
              "      <th>실제_수원_날씨</th>\n",
              "      <th>실제_파주_최고기온</th>\n",
              "      <th>실제_파주_최저기온</th>\n",
              "      <th>실제_파주_강수량(mm)</th>\n",
              "      <th>실제_파주_평균풍속(m/s)</th>\n",
              "      <th>실제_파주_날씨</th>\n",
              "      <th>예보_서울_강수확률</th>\n",
              "      <th>예보_서울_강수량</th>\n",
              "      <th>예보_서울_하늘상태</th>\n",
              "      <th>예보_서울_일최고기온</th>\n",
              "      <th>예보_서울_일최저기온</th>\n",
              "      <th>예보_일산_강수확률</th>\n",
              "      <th>예보_일산_강수량</th>\n",
              "      <th>예보_일산_일최고기온</th>\n",
              "      <th>예보_일산_일최저기온</th>\n",
              "      <th>예보_수원_강수확률</th>\n",
              "      <th>예보_수원_강수량</th>\n",
              "      <th>예보_수원_일최고기온</th>\n",
              "      <th>예보_수원_일최저기온</th>\n",
              "      <th>계절</th>\n",
              "      <th>DATE</th>\n",
              "      <th>미세먼지(㎍/㎥)</th>\n",
              "      <th>오존(ppm)</th>\n",
              "      <th>이산화질소농도(ppm)</th>\n",
              "      <th>일산화탄소농도(ppm)</th>\n",
              "      <th>아황산가스농도(ppm)</th>\n",
              "      <th>초미세먼지(㎍/㎥)</th>\n",
              "      <th>분류</th>\n",
              "      <th>MONTH</th>\n",
              "      <th>HOUR</th>\n",
              "      <th>DAY</th>\n",
              "      <th>Active Users</th>\n",
              "      <th>new판매단가</th>\n",
              "      <th>new주문량</th>\n",
              "    </tr>\n",
              "  </thead>\n",
              "  <tbody>\n",
              "    <tr>\n",
              "      <th>0</th>\n",
              "      <td>17373</td>\n",
              "      <td>2019-06-15 00:00:00</td>\n",
              "      <td>20.0</td>\n",
              "      <td>100305</td>\n",
              "      <td>200981</td>\n",
              "      <td>오모떼 미라클쉐이핑 브라팬티 시즌3</td>\n",
              "      <td>inner</td>\n",
              "      <td>16517000</td>\n",
              "      <td>2019-06-15</td>\n",
              "      <td>00:00:00</td>\n",
              "      <td>5</td>\n",
              "      <td>0</td>\n",
              "      <td>0</td>\n",
              "      <td>6</td>\n",
              "      <td>1</td>\n",
              "      <td>27.4</td>\n",
              "      <td>17.9</td>\n",
              "      <td>2.1</td>\n",
              "      <td>2.5</td>\n",
              "      <td>구름조금/비/천둥번개</td>\n",
              "      <td>26.8</td>\n",
              "      <td>17.1</td>\n",
              "      <td>0.3</td>\n",
              "      <td>2.4</td>\n",
              "      <td>구름조금/소나기/안개</td>\n",
              "      <td>27.6</td>\n",
              "      <td>15.3</td>\n",
              "      <td>0.0</td>\n",
              "      <td>1.7</td>\n",
              "      <td>구름조금/비</td>\n",
              "      <td>10.337838</td>\n",
              "      <td>0.210526</td>\n",
              "      <td>1.925676</td>\n",
              "      <td>26.368421</td>\n",
              "      <td>17.0</td>\n",
              "      <td>8.986486</td>\n",
              "      <td>0.078947</td>\n",
              "      <td>25.105263</td>\n",
              "      <td>16.0</td>\n",
              "      <td>8.513514</td>\n",
              "      <td>0.078947</td>\n",
              "      <td>26.263158</td>\n",
              "      <td>16.0</td>\n",
              "      <td>2</td>\n",
              "      <td>20190615</td>\n",
              "      <td>36.0</td>\n",
              "      <td>21.36</td>\n",
              "      <td>0.04308</td>\n",
              "      <td>0.01296</td>\n",
              "      <td>0.364</td>\n",
              "      <td>0.003</td>\n",
              "      <td>f1</td>\n",
              "      <td>6</td>\n",
              "      <td>0</td>\n",
              "      <td>sat</td>\n",
              "      <td>118574.0</td>\n",
              "      <td>11.686879</td>\n",
              "      <td>4.933022</td>\n",
              "    </tr>\n",
              "    <tr>\n",
              "      <th>1</th>\n",
              "      <td>17374</td>\n",
              "      <td>2019-06-15 00:20:00</td>\n",
              "      <td>20.0</td>\n",
              "      <td>100305</td>\n",
              "      <td>200981</td>\n",
              "      <td>오모떼 미라클쉐이핑 브라팬티 시즌3</td>\n",
              "      <td>inner</td>\n",
              "      <td>44829000</td>\n",
              "      <td>2019-06-15</td>\n",
              "      <td>00:20:00</td>\n",
              "      <td>5</td>\n",
              "      <td>0</td>\n",
              "      <td>0</td>\n",
              "      <td>6</td>\n",
              "      <td>1</td>\n",
              "      <td>27.4</td>\n",
              "      <td>17.9</td>\n",
              "      <td>2.1</td>\n",
              "      <td>2.5</td>\n",
              "      <td>구름조금/비/천둥번개</td>\n",
              "      <td>26.8</td>\n",
              "      <td>17.1</td>\n",
              "      <td>0.3</td>\n",
              "      <td>2.4</td>\n",
              "      <td>구름조금/소나기/안개</td>\n",
              "      <td>27.6</td>\n",
              "      <td>15.3</td>\n",
              "      <td>0.0</td>\n",
              "      <td>1.7</td>\n",
              "      <td>구름조금/비</td>\n",
              "      <td>10.337838</td>\n",
              "      <td>0.210526</td>\n",
              "      <td>1.925676</td>\n",
              "      <td>26.368421</td>\n",
              "      <td>17.0</td>\n",
              "      <td>8.986486</td>\n",
              "      <td>0.078947</td>\n",
              "      <td>25.105263</td>\n",
              "      <td>16.0</td>\n",
              "      <td>8.513514</td>\n",
              "      <td>0.078947</td>\n",
              "      <td>26.263158</td>\n",
              "      <td>16.0</td>\n",
              "      <td>2</td>\n",
              "      <td>20190615</td>\n",
              "      <td>36.0</td>\n",
              "      <td>21.36</td>\n",
              "      <td>0.04308</td>\n",
              "      <td>0.01296</td>\n",
              "      <td>0.364</td>\n",
              "      <td>0.003</td>\n",
              "      <td>f1</td>\n",
              "      <td>6</td>\n",
              "      <td>0</td>\n",
              "      <td>sat</td>\n",
              "      <td>118574.0</td>\n",
              "      <td>11.686879</td>\n",
              "      <td>5.931487</td>\n",
              "    </tr>\n",
              "    <tr>\n",
              "      <th>2</th>\n",
              "      <td>17375</td>\n",
              "      <td>2019-06-15 00:40:00</td>\n",
              "      <td>20.0</td>\n",
              "      <td>100305</td>\n",
              "      <td>200981</td>\n",
              "      <td>오모떼 미라클쉐이핑 브라팬티 시즌3</td>\n",
              "      <td>inner</td>\n",
              "      <td>56057000</td>\n",
              "      <td>2019-06-15</td>\n",
              "      <td>00:40:00</td>\n",
              "      <td>5</td>\n",
              "      <td>0</td>\n",
              "      <td>0</td>\n",
              "      <td>6</td>\n",
              "      <td>1</td>\n",
              "      <td>27.4</td>\n",
              "      <td>17.9</td>\n",
              "      <td>2.1</td>\n",
              "      <td>2.5</td>\n",
              "      <td>구름조금/비/천둥번개</td>\n",
              "      <td>26.8</td>\n",
              "      <td>17.1</td>\n",
              "      <td>0.3</td>\n",
              "      <td>2.4</td>\n",
              "      <td>구름조금/소나기/안개</td>\n",
              "      <td>27.6</td>\n",
              "      <td>15.3</td>\n",
              "      <td>0.0</td>\n",
              "      <td>1.7</td>\n",
              "      <td>구름조금/비</td>\n",
              "      <td>10.337838</td>\n",
              "      <td>0.210526</td>\n",
              "      <td>1.925676</td>\n",
              "      <td>26.368421</td>\n",
              "      <td>17.0</td>\n",
              "      <td>8.986486</td>\n",
              "      <td>0.078947</td>\n",
              "      <td>25.105263</td>\n",
              "      <td>16.0</td>\n",
              "      <td>8.513514</td>\n",
              "      <td>0.078947</td>\n",
              "      <td>26.263158</td>\n",
              "      <td>16.0</td>\n",
              "      <td>2</td>\n",
              "      <td>20190615</td>\n",
              "      <td>36.0</td>\n",
              "      <td>21.36</td>\n",
              "      <td>0.04308</td>\n",
              "      <td>0.01296</td>\n",
              "      <td>0.364</td>\n",
              "      <td>0.003</td>\n",
              "      <td>f1</td>\n",
              "      <td>6</td>\n",
              "      <td>0</td>\n",
              "      <td>sat</td>\n",
              "      <td>118574.0</td>\n",
              "      <td>11.686879</td>\n",
              "      <td>6.155001</td>\n",
              "    </tr>\n",
              "  </tbody>\n",
              "</table>\n",
              "</div>"
            ],
            "text/plain": [
              "   Unnamed: 0                방송일시  노출(분)  ...  Active Users    new판매단가    new주문량\n",
              "0       17373 2019-06-15 00:00:00   20.0  ...      118574.0  11.686879  4.933022\n",
              "1       17374 2019-06-15 00:20:00   20.0  ...      118574.0  11.686879  5.931487\n",
              "2       17375 2019-06-15 00:40:00   20.0  ...      118574.0  11.686879  6.155001\n",
              "\n",
              "[3 rows x 58 columns]"
            ]
          },
          "metadata": {
            "tags": []
          },
          "execution_count": 9
        }
      ]
    },
    {
      "cell_type": "code",
      "metadata": {
        "id": "jat0bDuOA_0O",
        "colab_type": "code",
        "colab": {
          "base_uri": "https://localhost:8080/",
          "height": 35
        },
        "outputId": "57e5e61a-153e-47bb-abe6-91b3194537c7"
      },
      "source": [
        "train['holiday(includeSS)'][20]"
      ],
      "execution_count": 10,
      "outputs": [
        {
          "output_type": "execute_result",
          "data": {
            "text/plain": [
              "1"
            ]
          },
          "metadata": {
            "tags": []
          },
          "execution_count": 10
        }
      ]
    },
    {
      "cell_type": "markdown",
      "metadata": {
        "id": "55WK41WEjzLj",
        "colab_type": "text"
      },
      "source": [
        "- 시간대(잘팔리는)"
      ]
    },
    {
      "cell_type": "code",
      "metadata": {
        "id": "iG65eVZXjztW",
        "colab_type": "code",
        "colab": {}
      },
      "source": [
        "time = train.groupby('HOUR').aggregate(np.mean)\n",
        "\n",
        "time_rank = {}\n",
        "rank = 1 \n",
        "for idx, row in time.sort_values(by='new주문량').iterrows():\n",
        "    time_rank[idx] = rank\n",
        "    rank += 1"
      ],
      "execution_count": 11,
      "outputs": []
    },
    {
      "cell_type": "code",
      "metadata": {
        "id": "un4uzPVrjmjp",
        "colab_type": "code",
        "colab": {}
      },
      "source": [
        "\n",
        "prime_time = []\n",
        "\n",
        "for idx, row in train.iterrows():\n",
        "    prime_time.append(time_rank[row.HOUR])\n",
        "    \n",
        "train['prime_time'] = prime_time"
      ],
      "execution_count": 12,
      "outputs": []
    },
    {
      "cell_type": "markdown",
      "metadata": {
        "id": "x6bE4sK6j41y",
        "colab_type": "text"
      },
      "source": [
        "- 요일(잘팔리는)"
      ]
    },
    {
      "cell_type": "code",
      "metadata": {
        "id": "pHCyrQhFjmhK",
        "colab_type": "code",
        "colab": {}
      },
      "source": [
        "day = train.groupby('요일').aggregate(np.mean)\n",
        "\n",
        "day_rank = {}\n",
        "rank = 1 \n",
        "for idx, row in day.sort_values(by='new주문량').iterrows():\n",
        "    day_rank[idx] = rank\n",
        "    rank += 1\n",
        "    \n",
        "prime_day = []\n",
        "\n",
        "for idx, row in train.iterrows():\n",
        "    prime_day.append(day_rank[row.요일])\n",
        "    \n",
        "train['prime_day'] = prime_day"
      ],
      "execution_count": 13,
      "outputs": []
    },
    {
      "cell_type": "markdown",
      "metadata": {
        "id": "5W896oTckftT",
        "colab_type": "text"
      },
      "source": [
        "# 마더코드 관련 처리\n",
        "- test랑 겹치는 마더코드(아래 노출시간 대비 topcode는 주석처리 했음)"
      ]
    },
    {
      "cell_type": "code",
      "metadata": {
        "id": "qHoNAPkUOnhO",
        "colab_type": "code",
        "colab": {
          "base_uri": "https://localhost:8080/",
          "height": 105
        },
        "outputId": "a71890a8-655f-47a8-e157-da5378df0337"
      },
      "source": [
        "'''\n",
        "#노출시간 대비 주문량 많은 topcode\n",
        "def hand_by_momcode(data):\n",
        "  momcodegroup = data.groupby(['마더코드']).sum()\n",
        "  momcodegroup['주문량/노출'] = momcodegroup['주문량']/momcodegroup['노출(분)']\n",
        "  topcode = list(momcodegroup.sort_values('주문량/노출', ascending=False).index[:50]) #탑50개\n",
        "  return topcode\n",
        "\n",
        "hand_by_momcode(train) # train으로 topcode생성\n",
        "이것보다 test와 겹치는 마더코드가 많은것을 topcode로 하는게 더 성능이 좋다고 한다.\n",
        "'''"
      ],
      "execution_count": 14,
      "outputs": [
        {
          "output_type": "execute_result",
          "data": {
            "application/vnd.google.colaboratory.intrinsic+json": {
              "type": "string"
            },
            "text/plain": [
              "\"\\n#노출시간 대비 주문량 많은 topcode\\ndef hand_by_momcode(data):\\n  momcodegroup = data.groupby(['마더코드']).sum()\\n  momcodegroup['주문량/노출'] = momcodegroup['주문량']/momcodegroup['노출(분)']\\n  topcode = list(momcodegroup.sort_values('주문량/노출', ascending=False).index[:50]) #탑50개\\n  return topcode\\n\\nhand_by_momcode(train) # train으로 topcode생성\\n이것보다 test와 겹치는 마더코드가 많은것을 topcode로 하는게 더 성능이 좋다고 한다.\\n\""
            ]
          },
          "metadata": {
            "tags": []
          },
          "execution_count": 14
        }
      ]
    },
    {
      "cell_type": "code",
      "metadata": {
        "id": "5e37nTWOwB-i",
        "colab_type": "code",
        "colab": {}
      },
      "source": [
        "intercode = set(test['마더코드'].unique()).intersection(set(train['마더코드'].unique()))\n",
        "interitem = train[train['마더코드'].isin(intercode)]"
      ],
      "execution_count": 15,
      "outputs": []
    },
    {
      "cell_type": "code",
      "metadata": {
        "id": "5-kqtytLkC9w",
        "colab_type": "code",
        "colab": {}
      },
      "source": [
        "code = interitem.groupby('마더코드').aggregate(np.mean)\n",
        "\n",
        "code_rank = {}\n",
        "rank = 1\n",
        "for idx, row in code.sort_values(by='new주문량').iterrows():\n",
        "    code_rank[idx] = rank\n",
        "    rank += 1\n",
        "\n",
        "top_code = []\n",
        "\n",
        "for idx, row in train.iterrows():\n",
        "    if row.마더코드 in code_rank.keys():\n",
        "        top_code.append(code_rank[row.마더코드])\n",
        "    else:\n",
        "        top_code.append(0)\n",
        "        \n",
        "train['top_code'] = top_code"
      ],
      "execution_count": 16,
      "outputs": []
    },
    {
      "cell_type": "markdown",
      "metadata": {
        "id": "frPLvh4QkGia",
        "colab_type": "text"
      },
      "source": [
        "- 분류 기준 topcode"
      ]
    },
    {
      "cell_type": "code",
      "metadata": {
        "id": "JkfviCEPkC7p",
        "colab_type": "code",
        "colab": {}
      },
      "source": [
        "cat = train.groupby('분류').aggregate(np.mean)\n",
        "\n",
        "cat_rank = {}\n",
        "rank = 1\n",
        "for idx, row in cat.sort_values(by='new주문량').iterrows():\n",
        "    cat_rank[idx] = rank\n",
        "    rank += 1\n",
        "\n",
        "top_cat = []\n",
        "\n",
        "for idx, row in train.iterrows():\n",
        "    top_cat.append(cat_rank[row.분류])\n",
        "    \n",
        "train['top_cat'] = top_cat"
      ],
      "execution_count": 17,
      "outputs": []
    },
    {
      "cell_type": "markdown",
      "metadata": {
        "id": "RQnd2hAHkJF2",
        "colab_type": "text"
      },
      "source": [
        "- 분류 변수 원핫/pca"
      ]
    },
    {
      "cell_type": "code",
      "metadata": {
        "id": "9jPS8Q-HkK5n",
        "colab_type": "code",
        "colab": {}
      },
      "source": [
        "from sklearn.preprocessing import OneHotEncoder\n",
        "from sklearn.decomposition import PCA"
      ],
      "execution_count": 18,
      "outputs": []
    },
    {
      "cell_type": "code",
      "metadata": {
        "id": "Bmo3DqyBkK2u",
        "colab_type": "code",
        "colab": {}
      },
      "source": [
        "enc1 = OneHotEncoder()\n",
        "category = np.array(train['분류'])\n",
        "category = category.reshape(-1, 1)\n",
        "\n",
        "enc1.fit(category)\n",
        "category_ = enc1.transform(category).toarray()\n",
        "\n",
        "pca = PCA(n_components=2)\n",
        "res = pca.fit_transform(category_)\n",
        "res = pd.DataFrame(res, columns=['x1_cat','x2_cat'])\n",
        "\n",
        "train['x1_cat'] = res['x1_cat']\n",
        "train['x2_cat'] = res['x2_cat']"
      ],
      "execution_count": 19,
      "outputs": []
    },
    {
      "cell_type": "markdown",
      "metadata": {
        "id": "u5mxHQlwkZyq",
        "colab_type": "text"
      },
      "source": [
        "- 분류 변수 빈도수 인코딩"
      ]
    },
    {
      "cell_type": "code",
      "metadata": {
        "id": "tLQWzAxokKz-",
        "colab_type": "code",
        "colab": {
          "base_uri": "https://localhost:8080/",
          "height": 35
        },
        "outputId": "dde23f3c-197f-4f5d-a84e-3cb6dac1354a"
      },
      "source": [
        "# 빈도수인코딩(위의 원핫+pca와 비교해보기)\n",
        "def add_frequency_encoding(data,column): #데이터프레임,열을 받아서 빈도수인코딩열을 추가해줌\n",
        "  enc_nom = (data.groupby(column).size())/len(data)\n",
        "  data['freq_encode_{}'.format(column)] = data[column].apply(lambda x:enc_nom[x])\n",
        "  print(\"freq_encode column was added\")\n",
        "  \n",
        "add_frequency_encoding(train,'분류')"
      ],
      "execution_count": 20,
      "outputs": [
        {
          "output_type": "stream",
          "text": [
            "freq_encode column was added\n"
          ],
          "name": "stdout"
        }
      ]
    },
    {
      "cell_type": "markdown",
      "metadata": {
        "id": "dODVrGWikz-o",
        "colab_type": "text"
      },
      "source": [
        "- 실제 날씨(서울) # 잘팔리는 실제 서울 날씨"
      ]
    },
    {
      "cell_type": "code",
      "metadata": {
        "id": "lnR2JBKCkai_",
        "colab_type": "code",
        "colab": {}
      },
      "source": [
        "real = train.groupby('실제_서울_날씨').aggregate(np.mean) # real = 서울의 여러 기상정보(흐림,비,소나기,안개 등의 범주형정보) 31개에 따라 그룹핑한것.\n",
        "\n",
        "real_rank = {}\n",
        "rank = 1\n",
        "for idx, row in real.sort_values(by='new주문량').iterrows(): # 주문량이 좋은 날씨조건일수록 ex)구름많음,비,소나기등... rank수치가 큼.\n",
        "    real_rank[idx] = rank\n",
        "    rank += 1\n",
        "\n",
        "top_real_weather = [] # 7513개의 데이터별로 해당하는 날씨정보의 주문량 랭크가 들어있음.(서열)\n",
        "\n",
        "for idx, row in train.iterrows():\n",
        "    top_real_weather.append(real_rank[row.실제_서울_날씨])\n",
        "    \n",
        "train['top_real_weather'] = top_real_weather"
      ],
      "execution_count": 21,
      "outputs": []
    },
    {
      "cell_type": "markdown",
      "metadata": {
        "id": "RzECkgR3k5uH",
        "colab_type": "text"
      },
      "source": [
        "- 실제 날씨 통합"
      ]
    },
    {
      "cell_type": "code",
      "metadata": {
        "id": "3sycAjzvkagL",
        "colab_type": "code",
        "colab": {}
      },
      "source": [
        "real_total_weather = pd.read_excel('/content/drive/My Drive/빅콘폴더/날씨_실제/날씨통합.xlsx')\n",
        "\n",
        "train['실제_최고기온'] = real_total_weather['최고기온']\n",
        "train['실제_최저기온'] = real_total_weather['최저기온']\n",
        "train['실제_강수량'] = real_total_weather['강수량']\n",
        "train['실제_평균풍속'] = real_total_weather['평균풍속']"
      ],
      "execution_count": 22,
      "outputs": []
    },
    {
      "cell_type": "markdown",
      "metadata": {
        "id": "XP01D2U6mDR5",
        "colab_type": "text"
      },
      "source": [
        "# 카테고리별, 시간대별 상품군 주문량 EDA"
      ]
    },
    {
      "cell_type": "code",
      "metadata": {
        "id": "AjkMwVWSmGEM",
        "colab_type": "code",
        "colab": {}
      },
      "source": [
        "# 상품군내 마더코드별 주문량\n",
        "multi_grouped = train.groupby(['상품군','마더코드'])\n",
        "MultiGroup = multi_grouped['new주문량'].sum()\n",
        "MultiGroup = MultiGroup.reset_index()"
      ],
      "execution_count": 23,
      "outputs": []
    },
    {
      "cell_type": "code",
      "metadata": {
        "id": "e4K3s-FVmGAV",
        "colab_type": "code",
        "colab": {}
      },
      "source": [
        "item = list(set(MultiGroup['상품군']))"
      ],
      "execution_count": 24,
      "outputs": []
    },
    {
      "cell_type": "code",
      "metadata": {
        "id": "PScGYDXjmF9Y",
        "colab_type": "code",
        "colab": {
          "base_uri": "https://localhost:8080/",
          "height": 1000
        },
        "outputId": "819ad5cb-77d3-4410-face-921a53817157"
      },
      "source": [
        "for i in item:\n",
        "    plt.figure(figsize=(10,10))\n",
        "    sns.barplot(data=MultiGroup[MultiGroup['상품군']==i], x='마더코드', y='new주문량')\n",
        "    plt.title(i)\n",
        "    plt.xticks(rotation=45, size=7)"
      ],
      "execution_count": 25,
      "outputs": [
        {
          "output_type": "stream",
          "text": [
            "findfont: Font family ['NanumBarunGothic'] not found. Falling back to DejaVu Sans.\n",
            "findfont: Font family ['NanumBarunGothic'] not found. Falling back to DejaVu Sans.\n",
            "findfont: Font family ['NanumBarunGothic'] not found. Falling back to DejaVu Sans.\n",
            "/usr/local/lib/python3.6/dist-packages/matplotlib/backends/backend_agg.py:214: RuntimeWarning: Glyph 47560 missing from current font.\n",
            "  font.set_text(s, 0.0, flags=flags)\n",
            "/usr/local/lib/python3.6/dist-packages/matplotlib/backends/backend_agg.py:214: RuntimeWarning: Glyph 45908 missing from current font.\n",
            "  font.set_text(s, 0.0, flags=flags)\n",
            "/usr/local/lib/python3.6/dist-packages/matplotlib/backends/backend_agg.py:214: RuntimeWarning: Glyph 53076 missing from current font.\n",
            "  font.set_text(s, 0.0, flags=flags)\n",
            "/usr/local/lib/python3.6/dist-packages/matplotlib/backends/backend_agg.py:214: RuntimeWarning: Glyph 46300 missing from current font.\n",
            "  font.set_text(s, 0.0, flags=flags)\n",
            "/usr/local/lib/python3.6/dist-packages/matplotlib/backends/backend_agg.py:183: RuntimeWarning: Glyph 47560 missing from current font.\n",
            "  font.set_text(s, 0, flags=flags)\n",
            "/usr/local/lib/python3.6/dist-packages/matplotlib/backends/backend_agg.py:183: RuntimeWarning: Glyph 45908 missing from current font.\n",
            "  font.set_text(s, 0, flags=flags)\n",
            "/usr/local/lib/python3.6/dist-packages/matplotlib/backends/backend_agg.py:183: RuntimeWarning: Glyph 53076 missing from current font.\n",
            "  font.set_text(s, 0, flags=flags)\n",
            "/usr/local/lib/python3.6/dist-packages/matplotlib/backends/backend_agg.py:183: RuntimeWarning: Glyph 46300 missing from current font.\n",
            "  font.set_text(s, 0, flags=flags)\n",
            "/usr/local/lib/python3.6/dist-packages/matplotlib/backends/backend_agg.py:214: RuntimeWarning: Glyph 51452 missing from current font.\n",
            "  font.set_text(s, 0.0, flags=flags)\n",
            "/usr/local/lib/python3.6/dist-packages/matplotlib/backends/backend_agg.py:214: RuntimeWarning: Glyph 47928 missing from current font.\n",
            "  font.set_text(s, 0.0, flags=flags)\n",
            "/usr/local/lib/python3.6/dist-packages/matplotlib/backends/backend_agg.py:214: RuntimeWarning: Glyph 47049 missing from current font.\n",
            "  font.set_text(s, 0.0, flags=flags)\n",
            "/usr/local/lib/python3.6/dist-packages/matplotlib/backends/backend_agg.py:183: RuntimeWarning: Glyph 51452 missing from current font.\n",
            "  font.set_text(s, 0, flags=flags)\n",
            "/usr/local/lib/python3.6/dist-packages/matplotlib/backends/backend_agg.py:183: RuntimeWarning: Glyph 47928 missing from current font.\n",
            "  font.set_text(s, 0, flags=flags)\n",
            "/usr/local/lib/python3.6/dist-packages/matplotlib/backends/backend_agg.py:183: RuntimeWarning: Glyph 47049 missing from current font.\n",
            "  font.set_text(s, 0, flags=flags)\n"
          ],
          "name": "stderr"
        },
        {
          "output_type": "display_data",
          "data": {
            "image/png": "[encoded data removed]",
            "text/plain": [
              "<Figure size 720x720 with 1 Axes>"
            ]
          },
          "metadata": {
            "tags": [],
            "needs_background": "light"
          }
        },
        {
          "output_type": "display_data",
          "data": {
            "image/png": "[encoded data removed]",
            "text/plain": [
              "<Figure size 720x720 with 1 Axes>"
            ]
          },
          "metadata": {
            "tags": [],
            "needs_background": "light"
          }
        },
        {
          "output_type": "display_data",
          "data": {
            "image/png": "[encoded data removed]",
            "text/plain": [
              "<Figure size 720x720 with 1 Axes>"
            ]
          },
          "metadata": {
            "tags": [],
            "needs_background": "light"
          }
        },
        {
          "output_type": "display_data",
          "data": {
            "image/png": "[encoded data removed]",
            "text/plain": [
              "<Figure size 720x720 with 1 Axes>"
            ]
          },
          "metadata": {
            "tags": [],
            "needs_background": "light"
          }
        },
        {
          "output_type": "display_data",
          "data": {
            "image/png": "[encoded data removed]",
            "text/plain": [
              "<Figure size 720x720 with 1 Axes>"
            ]
          },
          "metadata": {
            "tags": [],
            "needs_background": "light"
          }
        },
        {
          "output_type": "display_data",
          "data": {
            "image/png": "[encoded data removed]",
            "text/plain": [
              "<Figure size 720x720 with 1 Axes>"
            ]
          },
          "metadata": {
            "tags": [],
            "needs_background": "light"
          }
        },
        {
          "output_type": "display_data",
          "data": {
            "image/png": "[encoded data removed]",
            "text/plain": [
              "<Figure size 720x720 with 1 Axes>"
            ]
          },
          "metadata": {
            "tags": [],
            "needs_background": "light"
          }
        },
        {
          "output_type": "display_data",
          "data": {
            "image/png": "[encoded data removed]",
            "text/plain": [
              "<Figure size 720x720 with 1 Axes>"
            ]
          },
          "metadata": {
            "tags": [],
            "needs_background": "light"
          }
        },
        {
          "output_type": "display_data",
          "data": {
            "image/png": "[encoded data removed]",
            "text/plain": [
              "<Figure size 720x720 with 1 Axes>"
            ]
          },
          "metadata": {
            "tags": [],
            "needs_background": "light"
          }
        },
        {
          "output_type": "display_data",
          "data": {
            "image/png": "[encoded data removed]",
            "text/plain": [
              "<Figure size 720x720 with 1 Axes>"
            ]
          },
          "metadata": {
            "tags": [],
            "needs_background": "light"
          }
        },
        {
          "output_type": "display_data",
          "data": {
            "image/png": "[encoded data removed]",
            "text/plain": [
              "<Figure size 720x720 with 1 Axes>"
            ]
          },
          "metadata": {
            "tags": [],
            "needs_background": "light"
          }
        }
      ]
    },
    {
      "cell_type": "markdown",
      "metadata": {
        "id": "qSCmW28_lLif",
        "colab_type": "text"
      },
      "source": [
        "- 시간대 상품군별 주문량"
      ]
    },
    {
      "cell_type": "code",
      "metadata": {
        "id": "blI_md-9lAm9",
        "colab_type": "code",
        "colab": {}
      },
      "source": [
        "hour_grouped = train.groupby(['시','상품군'])\n",
        "HourGroup = hour_grouped['new주문량'].sum()\n",
        "HourGroup = HourGroup.reset_index()"
      ],
      "execution_count": 26,
      "outputs": []
    },
    {
      "cell_type": "code",
      "metadata": {
        "id": "KJjHxGt3lJ-u",
        "colab_type": "code",
        "colab": {
          "base_uri": "https://localhost:8080/",
          "height": 1000
        },
        "outputId": "99afa99b-68ac-4d7c-8123-09458b747b7b"
      },
      "source": [
        "#  좀 더 카테고리별 구분이 잘되게 보면 좋을듯 + 더 다양하게 시각화해서 의미 뽑아보자(To 편성표 최적화)\n",
        "plt.figure(figsize=(10,20)) \n",
        "sns.barplot(data=HourGroup, x='시', y='new주문량', hue='상품군', dodge=False)"
      ],
      "execution_count": 27,
      "outputs": [
        {
          "output_type": "execute_result",
          "data": {
            "text/plain": [
              "<matplotlib.axes._subplots.AxesSubplot at 0x7f37b67ec390>"
            ]
          },
          "metadata": {
            "tags": []
          },
          "execution_count": 27
        },
        {
          "output_type": "stream",
          "text": [
            "/usr/local/lib/python3.6/dist-packages/matplotlib/backends/backend_agg.py:214: RuntimeWarning: Glyph 49884 missing from current font.\n",
            "  font.set_text(s, 0.0, flags=flags)\n",
            "/usr/local/lib/python3.6/dist-packages/matplotlib/backends/backend_agg.py:183: RuntimeWarning: Glyph 49884 missing from current font.\n",
            "  font.set_text(s, 0, flags=flags)\n",
            "/usr/local/lib/python3.6/dist-packages/matplotlib/backends/backend_agg.py:214: RuntimeWarning: Glyph 51452 missing from current font.\n",
            "  font.set_text(s, 0.0, flags=flags)\n",
            "/usr/local/lib/python3.6/dist-packages/matplotlib/backends/backend_agg.py:214: RuntimeWarning: Glyph 47928 missing from current font.\n",
            "  font.set_text(s, 0.0, flags=flags)\n",
            "/usr/local/lib/python3.6/dist-packages/matplotlib/backends/backend_agg.py:214: RuntimeWarning: Glyph 47049 missing from current font.\n",
            "  font.set_text(s, 0.0, flags=flags)\n",
            "/usr/local/lib/python3.6/dist-packages/matplotlib/backends/backend_agg.py:183: RuntimeWarning: Glyph 51452 missing from current font.\n",
            "  font.set_text(s, 0, flags=flags)\n",
            "/usr/local/lib/python3.6/dist-packages/matplotlib/backends/backend_agg.py:183: RuntimeWarning: Glyph 47928 missing from current font.\n",
            "  font.set_text(s, 0, flags=flags)\n",
            "/usr/local/lib/python3.6/dist-packages/matplotlib/backends/backend_agg.py:183: RuntimeWarning: Glyph 47049 missing from current font.\n",
            "  font.set_text(s, 0, flags=flags)\n",
            "/usr/local/lib/python3.6/dist-packages/matplotlib/backends/backend_agg.py:214: RuntimeWarning: Glyph 49345 missing from current font.\n",
            "  font.set_text(s, 0.0, flags=flags)\n",
            "/usr/local/lib/python3.6/dist-packages/matplotlib/backends/backend_agg.py:214: RuntimeWarning: Glyph 54408 missing from current font.\n",
            "  font.set_text(s, 0.0, flags=flags)\n",
            "/usr/local/lib/python3.6/dist-packages/matplotlib/backends/backend_agg.py:214: RuntimeWarning: Glyph 44400 missing from current font.\n",
            "  font.set_text(s, 0.0, flags=flags)\n",
            "/usr/local/lib/python3.6/dist-packages/matplotlib/backends/backend_agg.py:183: RuntimeWarning: Glyph 49345 missing from current font.\n",
            "  font.set_text(s, 0, flags=flags)\n",
            "/usr/local/lib/python3.6/dist-packages/matplotlib/backends/backend_agg.py:183: RuntimeWarning: Glyph 54408 missing from current font.\n",
            "  font.set_text(s, 0, flags=flags)\n",
            "/usr/local/lib/python3.6/dist-packages/matplotlib/backends/backend_agg.py:183: RuntimeWarning: Glyph 44400 missing from current font.\n",
            "  font.set_text(s, 0, flags=flags)\n"
          ],
          "name": "stderr"
        },
        {
          "output_type": "display_data",
          "data": {
            "image/png": "[encoded data removed]",
            "text/plain": [
              "<Figure size 720x1440 with 1 Axes>"
            ]
          },
          "metadata": {
            "tags": [],
            "needs_background": "light"
          }
        }
      ]
    },
    {
      "cell_type": "code",
      "metadata": {
        "id": "dooOOZuClAsv",
        "colab_type": "code",
        "colab": {
          "base_uri": "https://localhost:8080/",
          "height": 52
        },
        "outputId": "7c583313-3313-489f-8c2f-15aeb4260d23"
      },
      "source": [
        "np.corrcoef(train['new주문량'],train['new판매단가']) # 가격과 주문량은 강한 음의 상관관계"
      ],
      "execution_count": 28,
      "outputs": [
        {
          "output_type": "execute_result",
          "data": {
            "text/plain": [
              "array([[ 1.        , -0.86135885],\n",
              "       [-0.86135885,  1.        ]])"
            ]
          },
          "metadata": {
            "tags": []
          },
          "execution_count": 28
        }
      ]
    },
    {
      "cell_type": "code",
      "metadata": {
        "id": "671nj9Mfla_o",
        "colab_type": "code",
        "colab": {
          "base_uri": "https://localhost:8080/",
          "height": 552
        },
        "outputId": "0f31b123-4abc-4e8d-a99d-33e7cd0b4d4a"
      },
      "source": [
        "fig, ax = plt.subplots(1,2, figsize=(10,5))\n",
        "sns.kdeplot(train['new주문량'], ax=ax[0]) #커널 밀도추정\n",
        "sns.kdeplot(np.log(train['new주문량']), ax=ax[1])"
      ],
      "execution_count": 29,
      "outputs": [
        {
          "output_type": "execute_result",
          "data": {
            "text/plain": [
              "<matplotlib.axes._subplots.AxesSubplot at 0x7f37af592c88>"
            ]
          },
          "metadata": {
            "tags": []
          },
          "execution_count": 29
        },
        {
          "output_type": "stream",
          "text": [
            "/usr/local/lib/python3.6/dist-packages/matplotlib/backends/backend_agg.py:214: RuntimeWarning: Glyph 51452 missing from current font.\n",
            "  font.set_text(s, 0.0, flags=flags)\n",
            "/usr/local/lib/python3.6/dist-packages/matplotlib/backends/backend_agg.py:214: RuntimeWarning: Glyph 47928 missing from current font.\n",
            "  font.set_text(s, 0.0, flags=flags)\n",
            "/usr/local/lib/python3.6/dist-packages/matplotlib/backends/backend_agg.py:214: RuntimeWarning: Glyph 47049 missing from current font.\n",
            "  font.set_text(s, 0.0, flags=flags)\n",
            "/usr/local/lib/python3.6/dist-packages/matplotlib/backends/backend_agg.py:183: RuntimeWarning: Glyph 51452 missing from current font.\n",
            "  font.set_text(s, 0, flags=flags)\n",
            "/usr/local/lib/python3.6/dist-packages/matplotlib/backends/backend_agg.py:183: RuntimeWarning: Glyph 47928 missing from current font.\n",
            "  font.set_text(s, 0, flags=flags)\n",
            "/usr/local/lib/python3.6/dist-packages/matplotlib/backends/backend_agg.py:183: RuntimeWarning: Glyph 47049 missing from current font.\n",
            "  font.set_text(s, 0, flags=flags)\n"
          ],
          "name": "stderr"
        },
        {
          "output_type": "display_data",
          "data": {
            "image/png": "[encoded data removed]",
            "text/plain": [
              "<Figure size 720x360 with 2 Axes>"
            ]
          },
          "metadata": {
            "tags": [],
            "needs_background": "light"
          }
        }
      ]
    },
    {
      "cell_type": "code",
      "metadata": {
        "colab_type": "code",
        "id": "BwNzy2BNh-NN",
        "colab": {}
      },
      "source": [
        "#corr_mat = train.corr()\n",
        "#corr_mat['new주문량'].sort_values(ascending=False)"
      ],
      "execution_count": 30,
      "outputs": []
    },
    {
      "cell_type": "code",
      "metadata": {
        "id": "3ZKBYNgwhI0W",
        "colab_type": "code",
        "colab": {}
      },
      "source": [
        "# train.drop(['Unnamed: 0', '방송일시', '상품명', '상품군', 'holiday', '요일', 'HOUR', '마더코드'], inplace=True, axis=1)\n",
        "# 방송일시, 상품명, 상품군, holiday(주말), 요일, HOUR, 마더코드"
      ],
      "execution_count": 31,
      "outputs": []
    },
    {
      "cell_type": "markdown",
      "metadata": {
        "id": "49vM5SEZknLy",
        "colab_type": "text"
      },
      "source": [
        "# 모델학습 데이터 생성 및 분리"
      ]
    },
    {
      "cell_type": "markdown",
      "metadata": {
        "id": "BW6tQt3ZkxhB",
        "colab_type": "text"
      },
      "source": [
        "# 모델 생성 및 학습"
      ]
    },
    {
      "cell_type": "markdown",
      "metadata": {
        "id": "Ewt2GjLQmmeq",
        "colab_type": "text"
      },
      "source": [
        "- 모든 카테고리별로 자동 변수생성"
      ]
    },
    {
      "cell_type": "code",
      "metadata": {
        "id": "HJ0-4OCshKh9",
        "colab_type": "code",
        "colab": {}
      },
      "source": [
        "category_list = train['상품군'].unique().tolist()\n",
        "for i in category_list:\n",
        "  globals()['x_{}'.format(i)] = train.loc[train['상품군']==i] #카테고리에 해당하는 주문량제외 train데이터 할당\n",
        "  globals()['y_{}'.format(i)] = train['new주문량'].loc[train['상품군']==i] #카테고리에 해당하는 train의 주문량을 할당"
      ],
      "execution_count": 32,
      "outputs": []
    },
    {
      "cell_type": "markdown",
      "metadata": {
        "id": "Pbkw2LxEniGM",
        "colab_type": "text"
      },
      "source": [
        "# Split"
      ]
    },
    {
      "cell_type": "markdown",
      "metadata": {
        "id": "xAuC5UauowW9",
        "colab_type": "text"
      },
      "source": [
        "- 4번. 카테고리별 2:1 비율로 통째로 split, 피팅"
      ]
    },
    {
      "cell_type": "code",
      "metadata": {
        "id": "upQWmAguhKdb",
        "colab_type": "code",
        "colab": {}
      },
      "source": [
        "# x_category, y_category를 train test 스플릿해줌.\n",
        "from sklearn.model_selection import train_test_split\n",
        "for i in category_list:\n",
        "  x_for_split = globals()['x_{}'.format(i)]\n",
        "  y_for_split = globals()['y_{}'.format(i)]\n",
        "  globals()['x_train_{}'.format(i)], globals()['x_test_{}'.format(i)], globals()['y_train_{}'.format(i)], globals()['y_test_{}'.format(i)] = train_test_split(x_for_split, y_for_split, test_size=0.33, random_state=1234)\n",
        "# 카테고리별로 X_train_카테고리 , X_test_카테고리, Y_train_카테고리, Y_test_카테고리 생성됐음."
      ],
      "execution_count": 33,
      "outputs": []
    },
    {
      "cell_type": "code",
      "metadata": {
        "id": "i16g2yWYoEA9",
        "colab_type": "code",
        "colab": {
          "base_uri": "https://localhost:8080/",
          "height": 527
        },
        "outputId": "d1e32b73-8494-4c97-ffd6-0f5bf80be4a8"
      },
      "source": [
        "x_train_beauty, x_test_beauty # 2:1비율로 나뉘어짐."
      ],
      "execution_count": 34,
      "outputs": [
        {
          "output_type": "execute_result",
          "data": {
            "text/plain": [
              "(      Unnamed: 0                방송일시  노출(분)  ...    실제_최저기온     실제_강수량   실제_평균풍속\n",
              " 3451       21025 2019-07-20 07:00:00   20.0  ...  25.033333   0.600000  3.033333\n",
              " 866        18302 2019-06-24 10:30:00   30.0  ...  18.900000   0.000000  1.700000\n",
              " 3603       21189 2019-07-21 16:20:00   20.0  ...  23.666667   7.900000  2.000000\n",
              " 6571       24425 2019-08-21 01:40:00   10.0  ...  23.266667   0.533333  1.166667\n",
              " 4443       22087 2019-07-30 07:50:00   10.0  ...  25.500000  12.366667  3.233333\n",
              " ...          ...                 ...    ...  ...        ...        ...       ...\n",
              " 7276       25161 2019-08-29 01:00:00   20.0  ...  19.300000  22.533333  2.066667\n",
              " 1907       19370 2019-07-05 08:30:00   30.0  ...  19.233333   0.000000  1.333333\n",
              " 1341       18779 2019-06-29 19:40:00   20.0  ...  19.533333   2.066667  1.100000\n",
              " 7406       25291 2019-08-30 19:20:00   20.0  ...  17.900000   0.066667  2.033333\n",
              " 1611       19066 2019-07-02 12:20:00   20.0  ...  19.666667   0.000000  1.900000\n",
              " \n",
              " [144 rows x 70 columns],\n",
              "       Unnamed: 0                방송일시  노출(분)  ...    실제_최저기온     실제_강수량   실제_평균풍속\n",
              " 364        17777 2019-06-18 19:20:00   20.0  ...  17.133333  13.200000  1.366667\n",
              " 1542       18984 2019-07-01 19:00:00   20.0  ...  19.233333   0.000000  1.933333\n",
              " 365        17778 2019-06-18 19:40:00   20.0  ...  17.133333  13.200000  1.366667\n",
              " 3358       20926 2019-07-19 10:00:00   30.0  ...  21.633333   0.033333  1.733333\n",
              " 4366       22010 2019-07-29 09:40:00   20.0  ...  25.300000   0.166667  2.533333\n",
              " ...          ...                 ...    ...  ...        ...        ...       ...\n",
              " 4717       22379 2019-08-02 01:10:00   10.0  ...  24.166667   0.000000  1.100000\n",
              " 1753       19210 2019-07-03 19:00:00   20.0  ...  19.700000   0.000000  1.400000\n",
              " 5489       23255 2019-08-10 12:20:00   20.0  ...  25.300000   1.033333  1.900000\n",
              " 2117       19591 2019-07-07 12:20:00   20.0  ...  21.800000   0.000000  2.633333\n",
              " 3768       21368 2019-07-23 07:00:00   20.0  ...  23.733333   0.000000  1.200000\n",
              " \n",
              " [72 rows x 70 columns])"
            ]
          },
          "metadata": {
            "tags": []
          },
          "execution_count": 34
        }
      ]
    },
    {
      "cell_type": "markdown",
      "metadata": {
        "id": "4teJbPeF0Ea5",
        "colab_type": "text"
      },
      "source": [
        "- 6번. 카테고리별 20분단위로 3갈해서 각각 피팅"
      ]
    },
    {
      "cell_type": "code",
      "metadata": {
        "id": "GsqiMVUJ0IT4",
        "colab_type": "code",
        "colab": {}
      },
      "source": [
        "#그룹내 방송행간의 시간차이(날짜-날짜) <= 해당그룹 최대 노출(분)인가? \n",
        "# 검토해서 분리하는 함수\n",
        "\n",
        "def split_shoprow(df, time): \n",
        "    shoprow1 = pd.DataFrame()  # train\n",
        "    shoprow2 = pd.DataFrame()  # validation \n",
        "    size = len(df)\n",
        "\n",
        "    if (len(df)==1):\n",
        "      shoprow1 = shoprow1.append(df.iloc[0])\n",
        "      return shoprow1,shoprow2\n",
        "    else:\n",
        "      for i in range((size)-1):       \n",
        "        if (df['방송일시'].iloc[i+1]-df['방송일시'].iloc[i] <= time):\n",
        "            shoprow1 = shoprow1.append(df.iloc[i])\n",
        "        else:\n",
        "            shoprow2 = shoprow2.append(df.iloc[i])    \n",
        "    i += 1\n",
        "    shoprow2 = shoprow2.append(df.iloc[i])\n",
        "            \n",
        "    return shoprow1,shoprow2"
      ],
      "execution_count": 74,
      "outputs": []
    },
    {
      "cell_type": "markdown",
      "metadata": {
        "id": "kwse0a2NvFjj",
        "colab_type": "text"
      },
      "source": [
        "- 실험"
      ]
    },
    {
      "cell_type": "code",
      "metadata": {
        "id": "Pb2wmF4bvGTy",
        "colab_type": "code",
        "colab": {
          "base_uri": "https://localhost:8080/",
          "height": 87
        },
        "outputId": "59ddce3d-4206-44e5-ed9a-1f1cc0679ee8"
      },
      "source": [
        "#기준시간. 방송끼리 이만큼 붙어있어야 같은 제품의 판매임.\n",
        "criteria_time = pd.Timedelta('0 days 00:{}:00'.format(20))\n",
        "# 3개를 기준으로, 방송타임 2개는 bigfold에 1개는smallfold에 넣겠다.\n",
        "train_big_fold = pd.DataFrame()\n",
        "train_small_fold = pd.DataFrame()\n",
        "# 상품코드 200170에 실험\n",
        "x1 = train[train['상품코드']==200170]\n",
        "train_big_fold, train_small_fold = split_shoprow(x1,criteria_time) \n",
        "# 제대로 나옴\n",
        "print(train_big_fold.head(1)['방송일시'])\n",
        "print(train_small_fold.head(1)['방송일시'])"
      ],
      "execution_count": 66,
      "outputs": [
        {
          "output_type": "stream",
          "text": [
            "436   2019-06-19 17:00:00\n",
            "Name: 방송일시, dtype: datetime64[ns]\n",
            "196   2019-06-16 18:00:00\n",
            "Name: 방송일시, dtype: datetime64[ns]\n"
          ],
          "name": "stdout"
        }
      ]
    },
    {
      "cell_type": "markdown",
      "metadata": {
        "id": "Ru6A4WYyvYOn",
        "colab_type": "text"
      },
      "source": [
        "- 카테고리별로 split하기"
      ]
    },
    {
      "cell_type": "code",
      "metadata": {
        "id": "OQlfqLjpcunD",
        "colab_type": "code",
        "colab": {}
      },
      "source": [
        "for cat in category_list:\n",
        "    selec_cat = globals()['x_{}'.format(cat)]\n",
        "    itemcode_cat = selec_cat['상품코드'].unique()\n",
        "    # 각 상품코드별 최대 방송시간 기준\n",
        "    max_time = selec_cat['노출(분)'].max()\n",
        "    criteria_time = pd.Timedelta('0 days 00:{}:00'.format(int(max_time)))\n",
        "    T = pd.DataFrame()\n",
        "    V = pd.DataFrame()\n",
        "    \n",
        "    for itemcode in itemcode_cat:\n",
        "        onlyitem = train[train['상품코드']==itemcode]\n",
        "        t, v = split_shoprow(onlyitem, criteria_time) \n",
        "        T = T.append(t)\n",
        "        V = V.append(v)\n",
        "    \n",
        "    globals()['{}_bigfold'.format(cat)] = T\n",
        "    globals()['{}_smallfold'.format(cat)] = V"
      ],
      "execution_count": 79,
      "outputs": []
    },
    {
      "cell_type": "code",
      "metadata": {
        "id": "S69Ff56f3SWx",
        "colab_type": "code",
        "colab": {
          "base_uri": "https://localhost:8080/",
          "height": 245
        },
        "outputId": "f2c44493-e421-4bf8-c1bb-775c3886cc5b"
      },
      "source": [
        "print('전체대비bigFold비율')\n",
        "bigsize=0\n",
        "smallsize=0\n",
        "for cat in category_list:\n",
        "  a1 = len(globals()['{}_bigfold'.format(cat)])\n",
        "  a2 = len(globals()['{}_smallfold'.format(cat)])\n",
        "  print(cat,':',a1/(a1+a2))\n",
        "  bigsize += a1\n",
        "  smallsize += a2\n",
        "print(bigsize,',',smallsize,\"통틀어서 나누인 비율:\",bigsize/(bigsize+smallsize))"
      ],
      "execution_count": 84,
      "outputs": [
        {
          "output_type": "stream",
          "text": [
            "전체대비bigFold비율\n",
            "inner : 0.662870159453303\n",
            "cloth : 0.6699266503667481\n",
            "elec : 0.5867850098619329\n",
            "living : 0.6549570647931303\n",
            "food : 0.6586387434554973\n",
            "health : 0.6647727272727273\n",
            "bedding : 0.6666666666666666\n",
            "furniture : 0.6225596529284165\n",
            "beauty : 0.6666666666666666\n",
            "etc : 0.5868263473053892\n",
            "life : 0.5674418604651162\n",
            "4761 , 2752 통틀어서 나누인 비율: 0.6337015839212032\n"
          ],
          "name": "stdout"
        }
      ]
    },
    {
      "cell_type": "markdown",
      "metadata": {
        "id": "3YTivnI_RkR1",
        "colab_type": "text"
      },
      "source": [
        "# 랜포돌리기"
      ]
    },
    {
      "cell_type": "code",
      "metadata": {
        "id": "hCxRFtssq-5A",
        "colab_type": "code",
        "colab": {}
      },
      "source": [
        "from sklearn.ensemble import RandomForestRegressor\n",
        "forest = RandomForestRegressor(random_state=1234)\n",
        "\n",
        "seungen_feature = ['노출(분)', 'holiday(includeSS)','실제_최고기온','실제_최저기온','실제_강수량','실제_평균풍속' , '예보_서울_강수확률', '예보_서울_강수량',\n",
        "       '예보_서울_하늘상태', '예보_서울_일최고기온', '예보_서울_일최저기온', '예보_일산_강수확률', '예보_일산_강수량',\n",
        "       '예보_일산_일최고기온', '예보_일산_일최저기온', '예보_수원_강수확률', '예보_수원_강수량', '예보_수원_일최고기온',\n",
        "       '예보_수원_일최저기온', 'Active Users', 'new판매단가', 'prime_time',\n",
        "       'prime_day', 'top_code']\n",
        "\n",
        "feature_selection = x_train_beauty.loc[:,seungen_feature].columns.values\n",
        "feature_selection\n",
        "\n",
        "# 카테고리별로 통째로 피팅할 경우(4번) -> (6번 3갈코드 사용시 다르게 넣을 것)\n",
        "for i in category_list:\n",
        "  globals()['shop_train_x_{}'.format(i)] = globals()['x_train_{}'.format(i)][feature_selection]\n",
        "  globals()['shop_test_x_{}'.format(i)] = globals()['x_test_{}'.format(i)][feature_selection]"
      ],
      "execution_count": 91,
      "outputs": []
    },
    {
      "cell_type": "code",
      "metadata": {
        "id": "i8JCgskUqYcY",
        "colab_type": "code",
        "colab": {
          "base_uri": "https://localhost:8080/",
          "height": 227
        },
        "outputId": "471723a2-cb48-4da1-ae8e-0f3bfe727f4d"
      },
      "source": [
        "bigsize=0\n",
        "smallsize=0\n",
        "for cat in category_list:\n",
        "  a1 = len(globals()['shop_train_x_{}'.format(cat)])\n",
        "  a2 = len(globals()['shop_test_x_{}'.format(cat)])\n",
        "  print(cat,':',a1/(a1+a2))\n",
        "  bigsize += a1\n",
        "  smallsize += a2\n",
        "print(bigsize,',',smallsize,\"통틀어서 나누인 비율:\",bigsize/(bigsize+smallsize))"
      ],
      "execution_count": 103,
      "outputs": [
        {
          "output_type": "stream",
          "text": [
            "inner : 0.6697038724373576\n",
            "cloth : 0.6699266503667481\n",
            "elec : 0.6696252465483234\n",
            "living : 0.6697892271662763\n",
            "food : 0.669109947643979\n",
            "health : 0.6647727272727273\n",
            "bedding : 0.6666666666666666\n",
            "furniture : 0.6681127982646421\n",
            "beauty : 0.6666666666666666\n",
            "etc : 0.6696606786427146\n",
            "life : 0.6697674418604651\n",
            "5028 , 2485 통틀어서 나누인 비율: 0.6692399840276854\n"
          ],
          "name": "stdout"
        }
      ]
    },
    {
      "cell_type": "markdown",
      "metadata": {
        "id": "ggwCA-iwrQI9",
        "colab_type": "text"
      },
      "source": [
        "- 4번 카테고리별 통쨰로 피팅후 모델링 테스트"
      ]
    },
    {
      "cell_type": "code",
      "metadata": {
        "id": "NOmBPGFPk8pj",
        "colab_type": "code",
        "colab": {}
      },
      "source": [
        "def mean_absolute_percentage_error(y_true, y_pred): \n",
        "    y_true, y_pred = np.array(y_true), np.array(y_pred)\n",
        "    return np.mean(np.abs((y_true - y_pred) / y_true)) * 100"
      ],
      "execution_count": 92,
      "outputs": []
    },
    {
      "cell_type": "markdown",
      "metadata": {
        "id": "qCf20ZMKlHXS",
        "colab_type": "text"
      },
      "source": [
        "- 모든 카테고리에 대해 fit & predict 결과"
      ]
    },
    {
      "cell_type": "markdown",
      "metadata": {
        "id": "NhF4aKDr62eV",
        "colab_type": "text"
      },
      "source": [
        "- test 셋으로 점수 확인해보기(33%)"
      ]
    },
    {
      "cell_type": "code",
      "metadata": {
        "id": "w6gRPA-y6CXd",
        "colab_type": "code",
        "colab": {}
      },
      "source": [
        "mape_score = []\n",
        "for i in category_list:\n",
        "  category_data = globals()['shop_train_x_{}'.format(i)]\n",
        "  category_label =  globals()['y_train_{}'.format(i)]\n",
        "  forest.fit(category_data,category_label) # train데이터로 fitting 되어잇음.\n",
        "  test_data = globals()['shop_test_x_{}'.format(i)]\n",
        "  test_label =  globals()['y_test_{}'.format(i)]\n",
        "  predictions = forest.predict(test_data) \n",
        "  mape_score.append(mean_absolute_percentage_error(test_label, predictions))"
      ],
      "execution_count": 100,
      "outputs": []
    },
    {
      "cell_type": "code",
      "metadata": {
        "id": "VSqIXI-o6RfL",
        "colab_type": "code",
        "colab": {
          "base_uri": "https://localhost:8080/",
          "height": 210
        },
        "outputId": "299ef1e6-7176-4fd3-a725-6b836e268aab"
      },
      "source": [
        "for i in range(len(category_list)):\n",
        "  print(\"RF MAPE score of test\",category_list[i],\":\",mape_score[i])"
      ],
      "execution_count": 101,
      "outputs": [
        {
          "output_type": "stream",
          "text": [
            "RF MAPE score of test inner : 11.947666109827749\n",
            "RF MAPE score of test cloth : 11.320219195337414\n",
            "RF MAPE score of test elec : 36.92179283051528\n",
            "RF MAPE score of test living : 15.415440839088943\n",
            "RF MAPE score of test food : 5.370900430438576\n",
            "RF MAPE score of test health : 7.911051026644516\n",
            "RF MAPE score of test bedding : 14.38625634987549\n",
            "RF MAPE score of test furniture : 39.56964766859029\n",
            "RF MAPE score of test beauty : 7.283158604319066\n",
            "RF MAPE score of test etc : 30.879017104893574\n",
            "RF MAPE score of test life : 17.876323513165683\n"
          ],
          "name": "stdout"
        }
      ]
    },
    {
      "cell_type": "code",
      "metadata": {
        "id": "BjkIimyBtY2W",
        "colab_type": "code",
        "colab": {
          "base_uri": "https://localhost:8080/",
          "height": 35
        },
        "outputId": "1b3423c0-d74a-4e1e-d073-290719678155"
      },
      "source": [
        "# 가중 평균 구하기\n",
        "final_score = []\n",
        "for i in range(len(category_list)):\n",
        "  catsize = len(globals()['shop_train_x_{}'.format(category_list[i])]) # 각 카테고리 사이즈\n",
        "  final_score.append(mape_score[i]*(catsize/len(train))) #각 카테고리별 가중치를 곱함(가중평균 위함)\n",
        "sum(final_score)"
      ],
      "execution_count": 125,
      "outputs": [
        {
          "output_type": "execute_result",
          "data": {
            "text/plain": [
              "13.003020880147629"
            ]
          },
          "metadata": {
            "tags": []
          },
          "execution_count": 125
        }
      ]
    },
    {
      "cell_type": "markdown",
      "metadata": {
        "id": "XKxgf7zivecK",
        "colab_type": "text"
      },
      "source": [
        "- 6번 카테고리별 3갈한 data로 Fit&Predict"
      ]
    },
    {
      "cell_type": "code",
      "metadata": {
        "id": "l_x4WQcY2dSZ",
        "colab_type": "code",
        "colab": {
          "base_uri": "https://localhost:8080/",
          "height": 507
        },
        "outputId": "1a2d9bfe-25df-49c2-d08a-2859465452f8"
      },
      "source": [
        "beauty_bigfold, beauty_smallfold"
      ],
      "execution_count": 88,
      "outputs": [
        {
          "output_type": "execute_result",
          "data": {
            "text/plain": [
              "(      Active Users        DATE  DAY  ...  일산화탄소농도(ppm)  초미세먼지(㎍/㎥)         취급액\n",
              " 214       110345.0  20190617.0  mon  ...       0.01820     0.00444  23219000.0\n",
              " 570       122905.0  20190621.0  fri  ...       0.01788     0.00312  18296000.0\n",
              " 571       122905.0  20190621.0  fri  ...       0.01788     0.00312  26230000.0\n",
              " 918       128337.0  20190624.0  mon  ...       0.02196     0.00348  19829000.0\n",
              " 919       128337.0  20190624.0  mon  ...       0.02196     0.00348  30577000.0\n",
              " ...            ...         ...  ...  ...           ...         ...         ...\n",
              " 7352      151192.0  20190830.0  fri  ...       0.01808     0.00360  11888000.0\n",
              " 7106      163009.0  20190827.0  tue  ...       0.02288     0.00352  15664000.0\n",
              " 7107      163009.0  20190827.0  tue  ...       0.02288     0.00352  18402000.0\n",
              " 7405      151192.0  20190830.0  fri  ...       0.01808     0.00360  26894000.0\n",
              " 7406      151192.0  20190830.0  fri  ...       0.01808     0.00360  52493000.0\n",
              " \n",
              " [144 rows x 70 columns],\n",
              "       Active Users        DATE  DAY  ...  일산화탄소농도(ppm)  초미세먼지(㎍/㎥)         취급액\n",
              " 215       110345.0  20190617.0  mon  ...       0.01820     0.00444  16720000.0\n",
              " 572       122905.0  20190621.0  fri  ...       0.01788     0.00312  32195000.0\n",
              " 920       128337.0  20190624.0  mon  ...       0.02196     0.00348  31913000.0\n",
              " 1256      130279.0  20190628.0  fri  ...       0.02780     0.00440  23224000.0\n",
              " 335       117841.0  20190618.0  tue  ...       0.02456     0.00384  79805000.0\n",
              " ...            ...         ...  ...  ...           ...         ...         ...\n",
              " 7278      146126.0  20190829.0  thu  ...       0.02028     0.00360  16151000.0\n",
              " 7015      153498.0  20190826.0  mon  ...       0.02048     0.00380  18195000.0\n",
              " 7353      151192.0  20190830.0  fri  ...       0.01808     0.00360  11158000.0\n",
              " 7108      163009.0  20190827.0  tue  ...       0.02288     0.00352  22647000.0\n",
              " 7407      151192.0  20190830.0  fri  ...       0.01808     0.00360  67304000.0\n",
              " \n",
              " [72 rows x 70 columns])"
            ]
          },
          "metadata": {
            "tags": []
          },
          "execution_count": 88
        }
      ]
    },
    {
      "cell_type": "code",
      "metadata": {
        "id": "UWcRU_1-2v1X",
        "colab_type": "code",
        "colab": {}
      },
      "source": [
        "y_beauty_bigfold = beauty_bigfold['new주문량']\n",
        "y_beauty_smallfold = beauty_smallfold['new주문량']"
      ],
      "execution_count": 89,
      "outputs": []
    },
    {
      "cell_type": "code",
      "metadata": {
        "id": "Uo_JtMqH25gn",
        "colab_type": "code",
        "colab": {}
      },
      "source": [
        "x_beauty_bigfold = beauty_bigfold[feature_selection]\n",
        "x_beauty_smallfold = beauty_smallfold[feature_selection]"
      ],
      "execution_count": 93,
      "outputs": []
    },
    {
      "cell_type": "code",
      "metadata": {
        "id": "38pMRyZAviSq",
        "colab_type": "code",
        "colab": {
          "base_uri": "https://localhost:8080/",
          "height": 35
        },
        "outputId": "a1c81ec9-dedc-4c10-c8ee-0dfc8e1bbb5c"
      },
      "source": [
        "forest.fit(x_beauty_bigfold, y_beauty_bigfold)\n",
        "predictions = forest.predict(x_beauty_smallfold)\n",
        "mape = mean_absolute_percentage_error(y_beauty_smallfold, predictions)\n",
        "mape"
      ],
      "execution_count": 94,
      "outputs": [
        {
          "output_type": "execute_result",
          "data": {
            "text/plain": [
              "7.548664945026713"
            ]
          },
          "metadata": {
            "tags": []
          },
          "execution_count": 94
        }
      ]
    },
    {
      "cell_type": "markdown",
      "metadata": {
        "id": "0-XVpuMO69DM",
        "colab_type": "text"
      },
      "source": [
        "- 모든 카테고리에 대해 위의 과정 반복\n",
        "\n",
        "*   원래 의도는 랜덤하게 하는것이나, 아래에선 3개의 방송중 앞시간 2개로 남은하나 예측\n",
        "\n"
      ]
    },
    {
      "cell_type": "code",
      "metadata": {
        "id": "PWt_U7k5vi5_",
        "colab_type": "code",
        "colab": {}
      },
      "source": [
        "for i in category_list:\n",
        "  globals()['x_{}_bigfold'.format(i)] = globals()['{}_bigfold'.format(i)][feature_selection]\n",
        "  globals()['x_{}_smallfold'.format(i)] = globals()['{}_smallfold'.format(i)][feature_selection]\n",
        "  globals()['y_{}_bigfold'.format(i)] = globals()['{}_bigfold'.format(i)]['new주문량']\n",
        "  globals()['y_{}_smallfold'.format(i)] = globals()['{}_smallfold'.format(i)]['new주문량']\n",
        "\n",
        "mape_score_3gal = []\n",
        "for i in category_list:\n",
        "  category_data = globals()['x_{}_bigfold'.format(i)]\n",
        "  category_label =  globals()['y_{}_bigfold'.format(i)]\n",
        "  forest.fit(category_data,category_label)          # bigfold로 훈련시킴\n",
        "  test_data = globals()['x_{}_smallfold'.format(i)]\n",
        "  test_label =  globals()['y_{}_smallfold'.format(i)]\n",
        "  predictions = forest.predict(test_data) \n",
        "  mape_score_3gal.append(mean_absolute_percentage_error(test_label, predictions)) # smallfold 데이터로 예측"
      ],
      "execution_count": 95,
      "outputs": []
    },
    {
      "cell_type": "code",
      "metadata": {
        "id": "rQO1vbxD1q_G",
        "colab_type": "code",
        "colab": {
          "base_uri": "https://localhost:8080/",
          "height": 210
        },
        "outputId": "1d35ebf8-b0ab-41c8-9386-cdd7f39e2c4e"
      },
      "source": [
        "for i in range(len(category_list)):\n",
        "  print(\"RF MAPE score of test\",category_list[i],\":\",mape_score_3gal[i])"
      ],
      "execution_count": 96,
      "outputs": [
        {
          "output_type": "stream",
          "text": [
            "RF MAPE score of test inner : 11.019682355969808\n",
            "RF MAPE score of test cloth : 10.750955189861342\n",
            "RF MAPE score of test elec : 29.605494385705562\n",
            "RF MAPE score of test living : 14.967582477156405\n",
            "RF MAPE score of test food : 5.665619714433468\n",
            "RF MAPE score of test health : 8.376838420022086\n",
            "RF MAPE score of test bedding : 13.186841306330068\n",
            "RF MAPE score of test furniture : 28.87345578953038\n",
            "RF MAPE score of test beauty : 7.548664945026713\n",
            "RF MAPE score of test etc : 29.87213636447451\n",
            "RF MAPE score of test life : 20.4859513911856\n"
          ],
          "name": "stdout"
        }
      ]
    },
    {
      "cell_type": "code",
      "metadata": {
        "id": "0gZLChZg1q7g",
        "colab_type": "code",
        "colab": {
          "base_uri": "https://localhost:8080/",
          "height": 35
        },
        "outputId": "619c666c-40d7-4a4e-8d12-ad7684ed8cef"
      },
      "source": [
        "# 가중 평균 구하기\n",
        "final_score = []\n",
        "for i in range(len(category_list)):\n",
        "  catsize = len(globals()['shop_train_x_{}'.format(category_list[i])]) # 각 카테고리 사이즈\n",
        "  final_score.append(mape_score_3gal[i]*(catsize/len(train))) #각 카테고리별 가중치를 곱함(가중평균 위함)\n",
        "sum(final_score)"
      ],
      "execution_count": 126,
      "outputs": [
        {
          "output_type": "execute_result",
          "data": {
            "text/plain": [
              "11.755510450870121"
            ]
          },
          "metadata": {
            "tags": []
          },
          "execution_count": 126
        }
      ]
    },
    {
      "cell_type": "markdown",
      "metadata": {
        "id": "Pc_93pAyxJDH",
        "colab_type": "text"
      },
      "source": [
        "# 특성중요도 시각화"
      ]
    },
    {
      "cell_type": "code",
      "metadata": {
        "id": "96gU6Up7xJ9z",
        "colab_type": "code",
        "colab": {}
      },
      "source": [
        "print(\"특성 중요도:\\n{}\".format(forest.feature_importances_))\n",
        "\n",
        "def plot_feature_importances_NS(view_data,model):\n",
        "    n_features = view_data.shape[1]\n",
        "    plt.barh(range(n_features), model.feature_importances_, align='center')\n",
        "    plt.yticks(np.arange(n_features), view_data.columns.tolist())\n",
        "    plt.xlabel(\"특성 중요도\")\n",
        "    plt.ylabel(\"특성\")\n",
        "    plt.ylim(-1, n_features)\n",
        "\n",
        "plot_feature_importances_NS(shop_train_x_life,forest) #다들 top_cat가 가장 유효하게 작용한것 같다."
      ],
      "execution_count": null,
      "outputs": []
    },
    {
      "cell_type": "code",
      "metadata": {
        "id": "qR014CtQxIo1",
        "colab_type": "code",
        "colab": {}
      },
      "source": [
        "forest.feature_importances_"
      ],
      "execution_count": null,
      "outputs": []
    },
    {
      "cell_type": "markdown",
      "metadata": {
        "colab_type": "text",
        "id": "fRvnHSw-1UHa"
      },
      "source": [
        "# 다중공선성 확인"
      ]
    },
    {
      "cell_type": "code",
      "metadata": {
        "colab_type": "code",
        "id": "3uX7a7vp1UHd",
        "colab": {}
      },
      "source": [
        "hi_feature = ['노출(분)', 'holiday(includeSS)','실제_최고기온','실제_최저기온','실제_강수량','실제_평균풍속' , '예보_서울_강수확률', '예보_서울_강수량', 'Active Users', 'new판매단가', 'prime_time',\n",
        "       'prime_day', 'top_code', 'top_cat']\n",
        "#실제날씨만 남겨놓은 Feature군"
      ],
      "execution_count": null,
      "outputs": []
    },
    {
      "cell_type": "code",
      "metadata": {
        "colab_type": "code",
        "id": "1oteGusk1UHh",
        "colab": {}
      },
      "source": [
        "mung = shop_train_x_beauty[hi_feature]\n",
        "mung"
      ],
      "execution_count": null,
      "outputs": []
    },
    {
      "cell_type": "code",
      "metadata": {
        "colab_type": "code",
        "id": "75ZFeXxX1UHm",
        "colab": {}
      },
      "source": [
        "mung.corr()"
      ],
      "execution_count": null,
      "outputs": []
    },
    {
      "cell_type": "code",
      "metadata": {
        "colab_type": "code",
        "id": "VSN0wsoZ1UHq",
        "colab": {}
      },
      "source": [
        "from patsy import dmatrices\n",
        "import statsmodels.api as sm\n",
        "from statsmodels.stats.outliers_influence import variance_inflation_factor\n",
        "shop_train_x_corr = mung.corr()"
      ],
      "execution_count": null,
      "outputs": []
    },
    {
      "cell_type": "code",
      "metadata": {
        "colab_type": "code",
        "id": "N4o7tjMp1UHu",
        "colab": {}
      },
      "source": [
        "plt.rcParams['figure.figsize']=(15,10)\n",
        "\n",
        "sns.heatmap(shop_train_x_corr.corr(),\n",
        "          annot=True,\n",
        "          cmap='Reds',\n",
        "          vmin = -1, vmax = 1\n",
        "          )"
      ],
      "execution_count": null,
      "outputs": []
    },
    {
      "cell_type": "code",
      "metadata": {
        "colab_type": "code",
        "id": "PmHFYfJo1UHx",
        "colab": {}
      },
      "source": [
        "# 피처마다의 VIF 계수를 출력\n",
        "vif = pd.DataFrame()\n",
        "vif[\"VIF Factor\"] = [variance_inflation_factor(shop_train_x_corr.values, i) for i in range(shop_train_x_corr.shape[1])]\n",
        "vif[\"features\"] = shop_train_x_corr.columns\n",
        "vif # 기존 feature_selection대로하면 다 엄청 높게나옴 +e3...이런식"
      ],
      "execution_count": null,
      "outputs": []
    },
    {
      "cell_type": "markdown",
      "metadata": {
        "id": "hGKt_FawvuMq",
        "colab_type": "text"
      },
      "source": [
        "# SVM적용"
      ]
    },
    {
      "cell_type": "code",
      "metadata": {
        "id": "TwCj8S2LCQ8j",
        "colab_type": "code",
        "colab": {}
      },
      "source": [
        "from sklearn.svm import LinearSVR\n",
        "\n",
        "from sklearn.preprocessing import MinMaxScaler\n",
        "from sklearn.preprocessing import StandardScaler\n",
        "std_scaler = StandardScaler()\n",
        "scaler = MinMaxScaler()"
      ],
      "execution_count": 127,
      "outputs": []
    },
    {
      "cell_type": "markdown",
      "metadata": {
        "id": "4-6DIyCnvw2z",
        "colab_type": "text"
      },
      "source": [
        "- 모든 카테고리에 대해 svr 써보기"
      ]
    },
    {
      "cell_type": "code",
      "metadata": {
        "id": "1R9LfTLJvM18",
        "colab_type": "code",
        "colab": {}
      },
      "source": [
        "'''\n",
        "svm_reg = LinearSVR()\n",
        "mape_score_svr = []\n",
        "for i in category_list:\n",
        "  category_data = std_scaler.fit_transform(globals()['shop_train_x_{}'.format(i)])\n",
        "  category_label =  globals()['y_train_{}'.format(i)]\n",
        "  svm_reg.fit(category_data,category_label)\n",
        "  predictions = svm_reg.predict(category_data)\n",
        "  mape_score_svr.append(mean_absolute_percentage_error(category_label, predictions))\n",
        "'''"
      ],
      "execution_count": null,
      "outputs": []
    },
    {
      "cell_type": "code",
      "metadata": {
        "id": "2fng5oxOvzL_",
        "colab_type": "code",
        "colab": {}
      },
      "source": [
        "'''\n",
        "for i in range(len(category_list)):\n",
        "  print(\"SVM MAPE score of\",category_list[i],\":\",mape_score_svr[i])\n",
        "'''"
      ],
      "execution_count": null,
      "outputs": []
    },
    {
      "cell_type": "markdown",
      "metadata": {
        "id": "uh8CsM38_vYm",
        "colab_type": "text"
      },
      "source": [
        "- Poly SVM"
      ]
    },
    {
      "cell_type": "code",
      "metadata": {
        "id": "sfijhSG8LHbt",
        "colab_type": "code",
        "colab": {}
      },
      "source": [
        "from sklearn.svm import SVR"
      ],
      "execution_count": 128,
      "outputs": []
    },
    {
      "cell_type": "code",
      "metadata": {
        "id": "MQDUSrzyBu68",
        "colab_type": "code",
        "colab": {
          "base_uri": "https://localhost:8080/",
          "height": 52
        },
        "outputId": "ed792df6-fd24-47e0-9819-b73a369d0208"
      },
      "source": [
        "svm_poly_reg1 = SVR(kernel=\"poly\", gamma='auto', degree=3, C=100, epsilon=0.1)\n",
        "svm_poly_reg1.fit(std_scaler.fit_transform(shop_train_x_beauty), y_train_beauty)"
      ],
      "execution_count": 129,
      "outputs": [
        {
          "output_type": "execute_result",
          "data": {
            "text/plain": [
              "SVR(C=100, cache_size=200, coef0=0.0, degree=3, epsilon=0.1, gamma='auto',\n",
              "    kernel='poly', max_iter=-1, shrinking=True, tol=0.001, verbose=False)"
            ]
          },
          "metadata": {
            "tags": []
          },
          "execution_count": 129
        }
      ]
    },
    {
      "cell_type": "code",
      "metadata": {
        "id": "p5pYSC8THiKz",
        "colab_type": "code",
        "colab": {
          "base_uri": "https://localhost:8080/",
          "height": 35
        },
        "outputId": "e1247add-d454-4d39-fd5e-266d66d4a3ab"
      },
      "source": [
        "predictions_poly_svm = svm_poly_reg1.predict(std_scaler.fit_transform(shop_train_x_beauty))\n",
        "mape_poly = mean_absolute_percentage_error(y_train_beauty, predictions_poly_svm)\n",
        "mape_poly # train데이터 내에서 점수 확인해보기"
      ],
      "execution_count": 130,
      "outputs": [
        {
          "output_type": "execute_result",
          "data": {
            "text/plain": [
              "4.035831868705639"
            ]
          },
          "metadata": {
            "tags": []
          },
          "execution_count": 130
        }
      ]
    },
    {
      "cell_type": "markdown",
      "metadata": {
        "id": "u-aOB5Sf68p0",
        "colab_type": "text"
      },
      "source": [
        "- 4번 방식. test 셋으로 점수 확인해보기(33%)"
      ]
    },
    {
      "cell_type": "code",
      "metadata": {
        "id": "2T3DK4Iy69AR",
        "colab_type": "code",
        "colab": {}
      },
      "source": [
        "svm_poly_reg1 = SVR(kernel=\"poly\", gamma='auto', degree=3, C=100, epsilon=0.1) # degree에 따라 성능차이 조금씩 난다. 3차정도가 최적인듯(4차가 성능은 경미하게 좋음)\n",
        "mape_score_poly_svr = []\n",
        "for i in category_list:\n",
        "  category_data = std_scaler.fit_transform(globals()['shop_train_x_{}'.format(i)])\n",
        "  category_label =  globals()['y_train_{}'.format(i)]\n",
        "  svm_poly_reg1.fit(category_data,category_label)#train데이터로 fitting되어있음.\n",
        "  test_data = std_scaler.fit_transform(globals()['shop_test_x_{}'.format(i)])\n",
        "  test_label =  globals()['y_test_{}'.format(i)]\n",
        "  predictions = svm_poly_reg1.predict(test_data)\n",
        "  mape_score_poly_svr.append(mean_absolute_percentage_error(test_label, predictions))"
      ],
      "execution_count": 131,
      "outputs": []
    },
    {
      "cell_type": "code",
      "metadata": {
        "id": "44hUni7m69dW",
        "colab_type": "code",
        "colab": {
          "base_uri": "https://localhost:8080/",
          "height": 210
        },
        "outputId": "331f3849-8e20-45b1-b5c5-69c6d08dd655"
      },
      "source": [
        "for i in range(len(category_list)):\n",
        "  print(\"Poly_SVM MAPE score of test\",category_list[i],\":\",mape_score_poly_svr[i])"
      ],
      "execution_count": 132,
      "outputs": [
        {
          "output_type": "stream",
          "text": [
            "Poly_SVM MAPE score of test inner : 14.523224415721373\n",
            "Poly_SVM MAPE score of test cloth : 15.528311355761796\n",
            "Poly_SVM MAPE score of test elec : 45.31354959544516\n",
            "Poly_SVM MAPE score of test living : 18.37890361870021\n",
            "Poly_SVM MAPE score of test food : 6.355543404588765\n",
            "Poly_SVM MAPE score of test health : 10.494525055703011\n",
            "Poly_SVM MAPE score of test bedding : 16.227041590894995\n",
            "Poly_SVM MAPE score of test furniture : 39.71443304143612\n",
            "Poly_SVM MAPE score of test beauty : 8.227115345774111\n",
            "Poly_SVM MAPE score of test etc : 32.34299925912665\n",
            "Poly_SVM MAPE score of test life : 26.98647912953446\n"
          ],
          "name": "stdout"
        }
      ]
    },
    {
      "cell_type": "code",
      "metadata": {
        "id": "sLOEu0A9-3ZR",
        "colab_type": "code",
        "colab": {
          "base_uri": "https://localhost:8080/",
          "height": 35
        },
        "outputId": "938134db-93a7-45ac-8396-7a18614a7c7c"
      },
      "source": [
        "# 가중 평균 구하기\n",
        "final_score = []\n",
        "for i in range(len(category_list)):\n",
        "  catsize = len(globals()['shop_train_x_{}'.format(category_list[i])]) # 각 카테고리 사이즈\n",
        "  final_score.append(mape_score_poly_svr[i]*(catsize/len(train))) #각 카테고리별 가중치를 곱함(가중평균 위함)\n",
        "sum(final_score)"
      ],
      "execution_count": 133,
      "outputs": [
        {
          "output_type": "execute_result",
          "data": {
            "text/plain": [
              "15.282432320567697"
            ]
          },
          "metadata": {
            "tags": []
          },
          "execution_count": 133
        }
      ]
    },
    {
      "cell_type": "markdown",
      "metadata": {
        "id": "EFYuqQie-_hi",
        "colab_type": "text"
      },
      "source": [
        "- 6번 방식. 3갈로 피팅점수 확인"
      ]
    },
    {
      "cell_type": "code",
      "metadata": {
        "id": "kY1DwfoO-9s1",
        "colab_type": "code",
        "colab": {}
      },
      "source": [
        "svm_poly_reg1 = SVR(kernel=\"poly\", gamma='auto', degree=3, C=100, epsilon=0.1) # degree에 따라 성능차이 조금씩 난다. 3차정도가 최적인듯(4차가 성능은 경미하게 좋음)\n",
        "mape_score_poly_svr_3gal = []\n",
        "for i in category_list:\n",
        "  category_data = std_scaler.fit_transform(globals()['x_{}_bigfold'.format(i)])\n",
        "  category_label =  globals()['y_{}_bigfold'.format(i)]\n",
        "  svm_poly_reg1.fit(category_data,category_label)          # bigfold로 훈련시킴\n",
        "  test_data = std_scaler.fit_transform(globals()['x_{}_smallfold'.format(i)])\n",
        "  test_label =  globals()['y_{}_smallfold'.format(i)]\n",
        "  predictions = svm_poly_reg1.predict(test_data) \n",
        "  mape_score_poly_svr_3gal.append(mean_absolute_percentage_error(test_label, predictions))"
      ],
      "execution_count": 135,
      "outputs": []
    },
    {
      "cell_type": "code",
      "metadata": {
        "id": "OnR4euj4-9ol",
        "colab_type": "code",
        "colab": {
          "base_uri": "https://localhost:8080/",
          "height": 210
        },
        "outputId": "37f38d0e-3edd-4e95-ff72-b87cc9f9d792"
      },
      "source": [
        "for i in range(len(category_list)):\n",
        "  print(\"Poly_SVM MAPE score of test\",category_list[i],\":\",mape_score_poly_svr_3gal[i])"
      ],
      "execution_count": 136,
      "outputs": [
        {
          "output_type": "stream",
          "text": [
            "Poly_SVM MAPE score of test inner : 11.79579593812272\n",
            "Poly_SVM MAPE score of test cloth : 13.234056861706739\n",
            "Poly_SVM MAPE score of test elec : 40.06269356471997\n",
            "Poly_SVM MAPE score of test living : 16.09794125153124\n",
            "Poly_SVM MAPE score of test food : 6.0556320955724825\n",
            "Poly_SVM MAPE score of test health : 8.574222922329227\n",
            "Poly_SVM MAPE score of test bedding : 12.40691223826241\n",
            "Poly_SVM MAPE score of test furniture : 32.36663711014278\n",
            "Poly_SVM MAPE score of test beauty : 7.7577976089870395\n",
            "Poly_SVM MAPE score of test etc : 47.95089739015598\n",
            "Poly_SVM MAPE score of test life : 24.545355356105564\n"
          ],
          "name": "stdout"
        }
      ]
    },
    {
      "cell_type": "code",
      "metadata": {
        "id": "PJSR8soU_aiW",
        "colab_type": "code",
        "colab": {
          "base_uri": "https://localhost:8080/",
          "height": 35
        },
        "outputId": "33e87b85-2885-4748-912c-d44e6aefb3c3"
      },
      "source": [
        "# 가중 평균 구하기\n",
        "final_score = []\n",
        "for i in range(len(category_list)):\n",
        "  catsize = len(globals()['shop_train_x_{}'.format(category_list[i])]) # 각 카테고리 사이즈\n",
        "  final_score.append(mape_score_poly_svr_3gal[i]*(catsize/len(train))) #각 카테고리별 가중치를 곱함(가중평균 위함)\n",
        "sum(final_score)"
      ],
      "execution_count": 137,
      "outputs": [
        {
          "output_type": "execute_result",
          "data": {
            "text/plain": [
              "15.005748404743505"
            ]
          },
          "metadata": {
            "tags": []
          },
          "execution_count": 137
        }
      ]
    },
    {
      "cell_type": "markdown",
      "metadata": {
        "id": "eSd369wjwdtn",
        "colab_type": "text"
      },
      "source": [
        "# 카테고리별 dnn"
      ]
    },
    {
      "cell_type": "code",
      "metadata": {
        "id": "_dYMEsoZwfpx",
        "colab_type": "code",
        "colab": {}
      },
      "source": [
        "shop_train_x_beauty.describe()"
      ],
      "execution_count": null,
      "outputs": []
    },
    {
      "cell_type": "code",
      "metadata": {
        "id": "mP8qqvN_wf6h",
        "colab_type": "code",
        "colab": {}
      },
      "source": [
        "from sklearn.preprocessing import MinMaxScaler\n",
        "scaler = MinMaxScaler()"
      ],
      "execution_count": null,
      "outputs": []
    },
    {
      "cell_type": "code",
      "metadata": {
        "id": "ZaoE21yAwyKd",
        "colab_type": "code",
        "colab": {}
      },
      "source": [
        "reg_col = ['실제_최고기온','실제_최저기온','실제_강수량','실제_평균풍속', \n",
        "           '예보_서울_강수확률', '예보_서울_강수량', '예보_서울_하늘상태', \n",
        "           '예보_서울_일최고기온', '예보_서울_일최저기온', '예보_일산_강수확률', \n",
        "           '예보_일산_강수량', '예보_일산_일최고기온', '예보_일산_일최저기온', \n",
        "           '예보_수원_강수확률', '예보_수원_강수량', '예보_수원_일최고기온',\n",
        "           '예보_수원_일최저기온', 'new판매단가']"
      ],
      "execution_count": null,
      "outputs": []
    },
    {
      "cell_type": "code",
      "metadata": {
        "id": "4Egh11m_wf9H",
        "colab_type": "code",
        "colab": {}
      },
      "source": [
        "from sklearn.preprocessing import MinMaxScaler\n",
        "scaler = MinMaxScaler()"
      ],
      "execution_count": null,
      "outputs": []
    },
    {
      "cell_type": "code",
      "metadata": {
        "id": "TjojCgt7wf_v",
        "colab_type": "code",
        "colab": {}
      },
      "source": [
        "for i in category_list:\n",
        "  globals()['shop_train_x_{}'.format(i)][reg_col] = scaler.fit_transform(globals()['shop_train_x_{}'.format(i)][reg_col])\n",
        "  globals()['shop_test_x_{}'.format(i)][reg_col] = scaler.fit_transform(globals()['shop_test_x_{}'.format(i)][reg_col])"
      ],
      "execution_count": null,
      "outputs": []
    },
    {
      "cell_type": "code",
      "metadata": {
        "id": "nH_VFxJ2wgEd",
        "colab_type": "code",
        "colab": {}
      },
      "source": [
        "from keras.models import Sequential\n",
        "from keras.layers import Dense\n",
        "from keras.optimizers import SGD"
      ],
      "execution_count": null,
      "outputs": []
    },
    {
      "cell_type": "code",
      "metadata": {
        "id": "mr5MeBOcwgHr",
        "colab_type": "code",
        "colab": {}
      },
      "source": [
        "n_inputs = 18\n",
        "n_h1 = 50\n",
        "n_h2 = 50\n",
        "n_outputs = 1\n",
        "\n",
        "#### optimizer = sgd\n",
        "\n",
        "m1 = Sequential()\n",
        "m1.add(Dense(n_h1, input_dim=18, kernel_initializer='normal', activation='relu'))\n",
        "m1.add(Dense(n_h2, input_dim=n_h1, kernel_initializer='normal', activation='relu'))\n",
        "m1.add(Dense(n_outputs, input_dim=n_h2, kernel_initializer='normal'))"
      ],
      "execution_count": null,
      "outputs": []
    },
    {
      "cell_type": "code",
      "metadata": {
        "id": "88X-3-zt1czZ",
        "colab_type": "code",
        "colab": {}
      },
      "source": [
        "m1.compile(optimizer='adam', loss='mean_squared_error')\n",
        "hist1=m1.fit(shop_train_x_bedding[reg_col], y_train_bedding, epochs=20, batch_size=20)"
      ],
      "execution_count": null,
      "outputs": []
    },
    {
      "cell_type": "code",
      "metadata": {
        "id": "F7m8KrVizLZp",
        "colab_type": "code",
        "colab": {}
      },
      "source": [
        "pred_cate = []\n",
        "m1.compile(optimizer='adam', loss='mean_squared_error')\n",
        "for i in category_list:\n",
        "  hist1=m1.fit(globals()['shop_train_x_{}'.format(i)][reg_col], globals()['y_train_{}'.format(i)], epochs=20, batch_size=20)\n",
        "  pred_cate.append(m1.predict(globals()['shop_train_x_{}'.format(i)][reg_col]))"
      ],
      "execution_count": null,
      "outputs": []
    },
    {
      "cell_type": "code",
      "metadata": {
        "id": "fIbHhO1SzLmT",
        "colab_type": "code",
        "colab": {}
      },
      "source": [
        "pred = m1.predict(shop_train_x_bedding[reg_col])"
      ],
      "execution_count": null,
      "outputs": []
    },
    {
      "cell_type": "code",
      "metadata": {
        "id": "rdEJLwX1zLpe",
        "colab_type": "code",
        "colab": {}
      },
      "source": [
        "mape_dnn = mean_absolute_percentage_error(y_train_bedding, pred)\n",
        "mape_dnn"
      ],
      "execution_count": null,
      "outputs": []
    },
    {
      "cell_type": "code",
      "metadata": {
        "id": "2n7vHtqszLuT",
        "colab_type": "code",
        "colab": {}
      },
      "source": [
        "mape_dnn_cate = []\n",
        "num = 0\n",
        "for i in category_list:\n",
        "  mape_dnn_cate.append(mean_absolute_percentage_error((globals()['y_train_{}'.format(i)]),pred_cate[num]))\n",
        "  num += 1"
      ],
      "execution_count": null,
      "outputs": []
    },
    {
      "cell_type": "code",
      "metadata": {
        "id": "GnSaOdbV34JN",
        "colab_type": "code",
        "colab": {}
      },
      "source": [
        "for i in range(len(category_list)):\n",
        "  print(\"DNN MAPE score of:\",category_list[i],\":\",mape_dnn_cate[i])"
      ],
      "execution_count": null,
      "outputs": []
    },
    {
      "cell_type": "code",
      "metadata": {
        "id": "0_x_JIEQW9lI",
        "colab_type": "code",
        "colab": {}
      },
      "source": [
        "pd.Series(mape_dnn_cate).mean()"
      ],
      "execution_count": null,
      "outputs": []
    }
  ]
}