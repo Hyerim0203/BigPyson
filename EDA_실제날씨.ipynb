{
 "cells": [
  {
   "cell_type": "markdown",
   "metadata": {},
   "source": [
    "## NS shop+ 홈쇼핑 매출 EDA\n",
    "- 2019.01.01~2019.12.31\n",
    "- 시간, 품목별 홈쇼핑 매출 데이터\n",
    "- 일별 날씨 데이터"
   ]
  },
  {
   "cell_type": "code",
   "execution_count": 6,
   "metadata": {},
   "outputs": [],
   "source": [
    "import pandas as pd\n",
    "import numpy as np\n",
    "import matplotlib.pyplot as plt\n",
    "import seaborn as sns\n",
    "%matplotlib inline\n",
    "\n",
    "# 한글 폰트 오류 해결\n",
    "from matplotlib import font_manager, rc \n",
    "font_path = \"C:\\\\Users\\\\이혜림\\\\Desktop\\\\Bita5/malgun.ttf\" #폰트 파일의 위치\n",
    "font_name = font_manager.FontProperties(fname=font_path).get_name()\n",
    "rc(\"font\",family=font_name)"
   ]
  },
  {
   "cell_type": "code",
   "execution_count": 7,
   "metadata": {},
   "outputs": [],
   "source": [
    "data = pd.read_csv(\"./정리데이터/휴일추가까지.csv\")"
   ]
  },
  {
   "cell_type": "markdown",
   "metadata": {},
   "source": [
    "## 홈쇼핑 주문량과 날씨와의 연관성 확인\n",
    "1. 각 지역별 날씨가 홈쇼핑 주문량에 주는 영향\n",
    "    - 다른 지역들과 비교해보았을 때, 서울날씨 데이터와 주문량 간의 상관관계가 더 큼 -\n",
    "    - 서울 날씨 데이터만 대표적으로 넣는 것도 괜찮은 방법\n",
    "  \n",
    "1. 어떤 날씨 요인이 주문량에 영향을 많이 주는 가\n",
    "    - 비(강수량)\n",
    "    - 최고, 최저 기온\n",
    "    - 풍속"
   ]
  },
  {
   "cell_type": "markdown",
   "metadata": {},
   "source": [
    "### 데이터 전처리"
   ]
  },
  {
   "cell_type": "code",
   "execution_count": 8,
   "metadata": {},
   "outputs": [],
   "source": [
    "# 데이터 정제\n",
    "places = [\"강릉\",\"광주\",\"부산\",\"수원\",\"울산\",\"대구\",\"대전\",\"서울\",\"파주\"] # 대표 지역들\n",
    "weather = pd.read_excel(\"./날씨_실제/강릉날씨.xlsx\")\n",
    "row_num = weather.shape[0]\n",
    "weather[\"지역\"]=[\"강릉\"]*row_num\n",
    "\n",
    "# 모든 지역 날씨 데이터 세로로 합치기\n",
    "for p in places[1:]:\n",
    "    a=pd.read_excel(f\"./날씨_실제/{p}날씨.xlsx\")\n",
    "    a[\"지역\"]=[p]*row_num\n",
    "    weather = pd.concat([weather, a], axis=0)"
   ]
  },
  {
   "cell_type": "code",
   "execution_count": 9,
   "metadata": {},
   "outputs": [],
   "source": [
    "# \"-\" -> 0값으로 변경\n",
    "weather[\"강수량(mm)\"]=weather[\"강수량(mm)\"].replace(\"-\",0)\n",
    "weather[\"신적설(cm)\"]=weather[\"신적설(cm)\"].replace(\"-\",0)\n",
    "weather[\"운량(1/10)\"]=weather[\"운량(1/10)\"].replace(\"-\",0)\n",
    "\n",
    "# object 형 float 형으로 변경\n",
    "weather[\"강수량(mm)\"]=weather[\"강수량(mm)\"].astype(float)\n",
    "weather[\"신적설(cm)\"]=weather[\"신적설(cm)\"].astype(float)\n",
    "weather[\"운량(1/10)\"]=weather[\"운량(1/10)\"].astype(float)"
   ]
  },
  {
   "cell_type": "markdown",
   "metadata": {},
   "source": [
    "### 데이터 시각화"
   ]
  },
  {
   "cell_type": "code",
   "execution_count": 136,
   "metadata": {},
   "outputs": [],
   "source": [
    "# 서울 날씨과 강능, 부산 날씨로 칼럼별 주문량 상관성 확인 및 지역별 날씨의 영향도 확인\n",
    "gang_weather = weather.loc[weather[\"지역\"]==\"강릉\",:]\n",
    "seoul_weather = weather.loc[weather[\"지역\"]==\"서울\",:]\n",
    "busan_weather = weather.loc[weather[\"지역\"]==\"부산\",:]\n",
    "suwon_weather = weather.loc[weather[\"지역\"]==\"수원\",:]\n",
    "sudogwon_weather = weather.loc[(weather[\"지역\"]==\"서울\")|(weather[\"지역\"]==\"수원\"),:]\n",
    "\n",
    "# 홈쇼핑 데이터\n",
    "#day_data = data.groupby([\"날짜\"]).mean() # 일별 주문량\n",
    "day_data = data.copy() # 각 시간별 주문량\n",
    "\n",
    "# 두 데이터를 합친 데이터\n",
    "all_data = day_data.merge(weather, on=\"날짜\")\n",
    "all_data = all_data.groupby([\"날짜\"]).mean()\n",
    "\n",
    "sudogwon_data = day_data.merge(sudogwon_weather, on=\"날짜\")\n",
    "sudogwon_data = sudogwon_data.groupby([\"날짜\"]).mean()\n",
    "\n",
    "suwon_data = day_data.merge(suwon_weather, on=\"날짜\")\n",
    "seoul_data = day_data.merge(seoul_weather, on=\"날짜\")\n",
    "busan_data = day_data.merge(busan_weather, on=\"날짜\")\n",
    "gang_data = day_data.merge(gang_weather, on=\"날짜\")"
   ]
  },
  {
   "cell_type": "code",
   "execution_count": 131,
   "metadata": {},
   "outputs": [],
   "source": [
    "# 시각화를 용이하게 하기 위한 데이터 전처리 함수\n",
    "def preprocessing(data, bins=4):\n",
    "    # 강수유무, 눈유무는 0,1 로 -> 비가오거나 눈이 쌓이면 1, 비가 오지 않거나 눈이 쌓이지 않으면 0\n",
    "    data[\"강수유무\"]=True\n",
    "    data.loc[data[\"강수량(mm)\"]!=0,\"강수유무\"]=1\n",
    "    data.loc[data[\"강수량(mm)\"]==0,\"강수유무\"]=0\n",
    "\n",
    "    data[\"눈유무\"]=True\n",
    "    data.loc[data[\"신적설(cm)\"]!=0,\"눈유무\"]=1\n",
    "    data.loc[data[\"신적설(cm)\"]==0,\"눈유무\"]=0\n",
    "\n",
    "    # 나머지 칼럼은 6구간으로 나누기\n",
    "    cate_columns= [\"평균기온\",\"최고기온\",\"최저기온\",'평균풍속(m/s)','평균습도(%)', '운량(1/10)', '일조시간(Hr)',\"강수량(mm)\",\"신적설(cm)\"]\n",
    "    \n",
    "    for col in cate_columns:\n",
    "        data[col]=pd.cut(data[col],bins)"
   ]
  },
  {
   "cell_type": "code",
   "execution_count": 132,
   "metadata": {},
   "outputs": [],
   "source": [
    "# 데이터 전처리\n",
    "for d in [all_data, seoul_data, busan_data, gang_data, sudogwon_data]:\n",
    "    preprocessing(d,4)"
   ]
  },
  {
   "cell_type": "code",
   "execution_count": 133,
   "metadata": {},
   "outputs": [
    {
     "data": {
      "image/png": "[encoded data removed]",
      "text/plain": [
       "<Figure size 432x288 with 1 Axes>"
      ]
     },
     "metadata": {
      "needs_background": "light"
     },
     "output_type": "display_data"
    },
    {
     "data": {
      "image/png": "[encoded data removed]",
      "text/plain": [
       "<Figure size 432x288 with 1 Axes>"
      ]
     },
     "metadata": {
      "needs_background": "light"
     },
     "output_type": "display_data"
    },
    {
     "data": {
      "image/png": "[encoded data removed]",
      "text/plain": [
       "<Figure size 432x288 with 1 Axes>"
      ]
     },
     "metadata": {
      "needs_background": "light"
     },
     "output_type": "display_data"
    },
    {
     "data": {
      "image/png": "[encoded data removed]",
      "text/plain": [
       "<Figure size 432x288 with 1 Axes>"
      ]
     },
     "metadata": {
      "needs_background": "light"
     },
     "output_type": "display_data"
    },
    {
     "data": {
      "image/png": "[encoded data removed]",
      "text/plain": [
       "<Figure size 432x288 with 1 Axes>"
      ]
     },
     "metadata": {
      "needs_background": "light"
     },
     "output_type": "display_data"
    },
    {
     "data": {
      "image/png": "[encoded data removed]",
      "text/plain": [
       "<Figure size 432x288 with 1 Axes>"
      ]
     },
     "metadata": {
      "needs_background": "light"
     },
     "output_type": "display_data"
    },
    {
     "data": {
      "image/png": "[encoded data removed]",
      "text/plain": [
       "<Figure size 432x288 with 1 Axes>"
      ]
     },
     "metadata": {
      "needs_background": "light"
     },
     "output_type": "display_data"
    },
    {
     "data": {
      "image/png": "[encoded data removed]",
      "text/plain": [
       "<Figure size 432x288 with 1 Axes>"
      ]
     },
     "metadata": {
      "needs_background": "light"
     },
     "output_type": "display_data"
    },
    {
     "data": {
      "image/png": "[encoded data removed]",
      "text/plain": [
       "<Figure size 432x288 with 1 Axes>"
      ]
     },
     "metadata": {
      "needs_background": "light"
     },
     "output_type": "display_data"
    },
    {
     "data": {
      "image/png": "[encoded data removed]",
      "text/plain": [
       "<Figure size 432x288 with 1 Axes>"
      ]
     },
     "metadata": {
      "needs_background": "light"
     },
     "output_type": "display_data"
    },
    {
     "data": {
      "image/png": "[encoded data removed]",
      "text/plain": [
       "<Figure size 432x288 with 1 Axes>"
      ]
     },
     "metadata": {
      "needs_background": "light"
     },
     "output_type": "display_data"
    }
   ],
   "source": [
    "# 시각화\n",
    "visual_columns = all_data.columns[9:] # 시각화를 원하는 칼럼\n",
    "\n",
    "for col in visual_columns:\n",
    "    sns.barplot(x=col, y=\"주문량\", data=seoul_data)\n",
    "    #plt.savefig(f'./날씨그래프/{col[:4]}.png') # 그래프 저장\n",
    "    plt.show()\n",
    "    "
   ]
  },
  {
   "cell_type": "code",
   "execution_count": 156,
   "metadata": {},
   "outputs": [
    {
     "name": "stderr",
     "output_type": "stream",
     "text": [
      "C:\\ProgramData\\Anaconda3\\lib\\site-packages\\ipykernel_launcher.py:4: SettingWithCopyWarning: \n",
      "A value is trying to be set on a copy of a slice from a DataFrame.\n",
      "Try using .loc[row_indexer,col_indexer] = value instead\n",
      "\n",
      "See the caveats in the documentation: https://pandas.pydata.org/pandas-docs/stable/user_guide/indexing.html#returning-a-view-versus-a-copy\n",
      "  after removing the cwd from sys.path.\n"
     ]
    },
    {
     "data": {
      "text/plain": [
       "<matplotlib.axes._subplots.AxesSubplot at 0x1d1b6932a08>"
      ]
     },
     "execution_count": 156,
     "metadata": {},
     "output_type": "execute_result"
    },
    {
     "data": {
      "image/png": "[encoded data removed]",
      "text/plain": [
       "<Figure size 432x288 with 1 Axes>"
      ]
     },
     "metadata": {
      "needs_background": "light"
     },
     "output_type": "display_data"
    }
   ],
   "source": [
    "# 요일성을 제거하고 특정 월에 대해서만 시각화\n",
    "seoul_data[\"월\"]=pd.to_datetime(seoul_data[\"방송일시\"]).dt.month\n",
    "a = seoul_data.loc[((seoul_data[\"요일\"]!=5)&(seoul_data[\"요일\"]!=6))&(seoul_data[\"월\"]==7),:]\n",
    "a[\"범주_습도\"]=pd.cut(a[\"평균습도(%)\"],4)\n",
    "\n",
    "sns.barplot(x=\"범주_습도\", y=\"주문량\", data=a)"
   ]
  },
  {
   "cell_type": "code",
   "execution_count": 16,
   "metadata": {
    "scrolled": true
   },
   "outputs": [
    {
     "data": {
      "text/html": [
       "<div>\n",
       "<style scoped>\n",
       "    .dataframe tbody tr th:only-of-type {\n",
       "        vertical-align: middle;\n",
       "    }\n",
       "\n",
       "    .dataframe tbody tr th {\n",
       "        vertical-align: top;\n",
       "    }\n",
       "\n",
       "    .dataframe thead th {\n",
       "        text-align: right;\n",
       "    }\n",
       "</style>\n",
       "<table border=\"1\" class=\"dataframe\">\n",
       "  <thead>\n",
       "    <tr style=\"text-align: right;\">\n",
       "      <th></th>\n",
       "      <th>주문량</th>\n",
       "      <th>holiday</th>\n",
       "    </tr>\n",
       "  </thead>\n",
       "  <tbody>\n",
       "    <tr>\n",
       "      <th>주문량</th>\n",
       "      <td>1.000000</td>\n",
       "      <td>-0.069701</td>\n",
       "    </tr>\n",
       "    <tr>\n",
       "      <th>holiday</th>\n",
       "      <td>-0.069701</td>\n",
       "      <td>1.000000</td>\n",
       "    </tr>\n",
       "  </tbody>\n",
       "</table>\n",
       "</div>"
      ],
      "text/plain": [
       "              주문량   holiday\n",
       "주문량      1.000000 -0.069701\n",
       "holiday -0.069701  1.000000"
      ]
     },
     "metadata": {},
     "output_type": "display_data"
    },
    {
     "data": {
      "text/html": [
       "<div>\n",
       "<style scoped>\n",
       "    .dataframe tbody tr th:only-of-type {\n",
       "        vertical-align: middle;\n",
       "    }\n",
       "\n",
       "    .dataframe tbody tr th {\n",
       "        vertical-align: top;\n",
       "    }\n",
       "\n",
       "    .dataframe thead th {\n",
       "        text-align: right;\n",
       "    }\n",
       "</style>\n",
       "<table border=\"1\" class=\"dataframe\">\n",
       "  <thead>\n",
       "    <tr style=\"text-align: right;\">\n",
       "      <th></th>\n",
       "      <th>요일</th>\n",
       "      <th>시</th>\n",
       "      <th>주문량</th>\n",
       "      <th>holiday</th>\n",
       "    </tr>\n",
       "  </thead>\n",
       "  <tbody>\n",
       "    <tr>\n",
       "      <th>요일</th>\n",
       "      <td>1.000000</td>\n",
       "      <td>-0.002830</td>\n",
       "      <td>0.006296</td>\n",
       "      <td>-0.006835</td>\n",
       "    </tr>\n",
       "    <tr>\n",
       "      <th>시</th>\n",
       "      <td>-0.002830</td>\n",
       "      <td>1.000000</td>\n",
       "      <td>-0.081401</td>\n",
       "      <td>-0.002714</td>\n",
       "    </tr>\n",
       "    <tr>\n",
       "      <th>주문량</th>\n",
       "      <td>0.006296</td>\n",
       "      <td>-0.081401</td>\n",
       "      <td>1.000000</td>\n",
       "      <td>-0.014674</td>\n",
       "    </tr>\n",
       "    <tr>\n",
       "      <th>holiday</th>\n",
       "      <td>-0.006835</td>\n",
       "      <td>-0.002714</td>\n",
       "      <td>-0.014674</td>\n",
       "      <td>1.000000</td>\n",
       "    </tr>\n",
       "  </tbody>\n",
       "</table>\n",
       "</div>"
      ],
      "text/plain": [
       "               요일         시       주문량   holiday\n",
       "요일       1.000000 -0.002830  0.006296 -0.006835\n",
       "시       -0.002830  1.000000 -0.081401 -0.002714\n",
       "주문량      0.006296 -0.081401  1.000000 -0.014674\n",
       "holiday -0.006835 -0.002714 -0.014674  1.000000"
      ]
     },
     "metadata": {},
     "output_type": "display_data"
    },
    {
     "data": {
      "text/html": [
       "<div>\n",
       "<style scoped>\n",
       "    .dataframe tbody tr th:only-of-type {\n",
       "        vertical-align: middle;\n",
       "    }\n",
       "\n",
       "    .dataframe tbody tr th {\n",
       "        vertical-align: top;\n",
       "    }\n",
       "\n",
       "    .dataframe thead th {\n",
       "        text-align: right;\n",
       "    }\n",
       "</style>\n",
       "<table border=\"1\" class=\"dataframe\">\n",
       "  <thead>\n",
       "    <tr style=\"text-align: right;\">\n",
       "      <th></th>\n",
       "      <th>요일</th>\n",
       "      <th>시</th>\n",
       "      <th>주문량</th>\n",
       "      <th>holiday</th>\n",
       "    </tr>\n",
       "  </thead>\n",
       "  <tbody>\n",
       "    <tr>\n",
       "      <th>요일</th>\n",
       "      <td>1.000000</td>\n",
       "      <td>-0.002830</td>\n",
       "      <td>0.006296</td>\n",
       "      <td>-0.006835</td>\n",
       "    </tr>\n",
       "    <tr>\n",
       "      <th>시</th>\n",
       "      <td>-0.002830</td>\n",
       "      <td>1.000000</td>\n",
       "      <td>-0.081401</td>\n",
       "      <td>-0.002714</td>\n",
       "    </tr>\n",
       "    <tr>\n",
       "      <th>주문량</th>\n",
       "      <td>0.006296</td>\n",
       "      <td>-0.081401</td>\n",
       "      <td>1.000000</td>\n",
       "      <td>-0.014674</td>\n",
       "    </tr>\n",
       "    <tr>\n",
       "      <th>holiday</th>\n",
       "      <td>-0.006835</td>\n",
       "      <td>-0.002714</td>\n",
       "      <td>-0.014674</td>\n",
       "      <td>1.000000</td>\n",
       "    </tr>\n",
       "  </tbody>\n",
       "</table>\n",
       "</div>"
      ],
      "text/plain": [
       "               요일         시       주문량   holiday\n",
       "요일       1.000000 -0.002830  0.006296 -0.006835\n",
       "시       -0.002830  1.000000 -0.081401 -0.002714\n",
       "주문량      0.006296 -0.081401  1.000000 -0.014674\n",
       "holiday -0.006835 -0.002714 -0.014674  1.000000"
      ]
     },
     "metadata": {},
     "output_type": "display_data"
    },
    {
     "data": {
      "text/html": [
       "<div>\n",
       "<style scoped>\n",
       "    .dataframe tbody tr th:only-of-type {\n",
       "        vertical-align: middle;\n",
       "    }\n",
       "\n",
       "    .dataframe tbody tr th {\n",
       "        vertical-align: top;\n",
       "    }\n",
       "\n",
       "    .dataframe thead th {\n",
       "        text-align: right;\n",
       "    }\n",
       "</style>\n",
       "<table border=\"1\" class=\"dataframe\">\n",
       "  <thead>\n",
       "    <tr style=\"text-align: right;\">\n",
       "      <th></th>\n",
       "      <th>요일</th>\n",
       "      <th>시</th>\n",
       "      <th>주문량</th>\n",
       "      <th>holiday</th>\n",
       "    </tr>\n",
       "  </thead>\n",
       "  <tbody>\n",
       "    <tr>\n",
       "      <th>요일</th>\n",
       "      <td>1.000000</td>\n",
       "      <td>-0.002830</td>\n",
       "      <td>0.006296</td>\n",
       "      <td>-0.006835</td>\n",
       "    </tr>\n",
       "    <tr>\n",
       "      <th>시</th>\n",
       "      <td>-0.002830</td>\n",
       "      <td>1.000000</td>\n",
       "      <td>-0.081401</td>\n",
       "      <td>-0.002714</td>\n",
       "    </tr>\n",
       "    <tr>\n",
       "      <th>주문량</th>\n",
       "      <td>0.006296</td>\n",
       "      <td>-0.081401</td>\n",
       "      <td>1.000000</td>\n",
       "      <td>-0.014674</td>\n",
       "    </tr>\n",
       "    <tr>\n",
       "      <th>holiday</th>\n",
       "      <td>-0.006835</td>\n",
       "      <td>-0.002714</td>\n",
       "      <td>-0.014674</td>\n",
       "      <td>1.000000</td>\n",
       "    </tr>\n",
       "  </tbody>\n",
       "</table>\n",
       "</div>"
      ],
      "text/plain": [
       "               요일         시       주문량   holiday\n",
       "요일       1.000000 -0.002830  0.006296 -0.006835\n",
       "시       -0.002830  1.000000 -0.081401 -0.002714\n",
       "주문량      0.006296 -0.081401  1.000000 -0.014674\n",
       "holiday -0.006835 -0.002714 -0.014674  1.000000"
      ]
     },
     "metadata": {},
     "output_type": "display_data"
    }
   ],
   "source": [
    "display(all_data.iloc[:,7:].corr())\n",
    "display(seoul_data.iloc[:,8:].corr())\n",
    "display(busan_data.iloc[:,8:].corr())\n",
    "display(gang_data.iloc[:,8:].corr())\n",
    "\n",
    "# 다른 지역들과 비교해보았을 때, 서울날씨 데이터와 주문량 간의 상관관계가 더 큼 -> 서울 날씨 데이터만 대표적으로 넣는 것도 괜찮은 방법"
   ]
  }
 ],
 "metadata": {
  "kernelspec": {
   "display_name": "Python 3",
   "language": "python",
   "name": "python3"
  },
  "language_info": {
   "codemirror_mode": {
    "name": "ipython",
    "version": 3
   },
   "file_extension": ".py",
   "mimetype": "text/x-python",
   "name": "python",
   "nbconvert_exporter": "python",
   "pygments_lexer": "ipython3",
   "version": "3.7.6"
  }
 },
 "nbformat": 4,
 "nbformat_minor": 4
}
