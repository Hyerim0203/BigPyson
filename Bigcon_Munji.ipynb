{
  "nbformat": 4,
  "nbformat_minor": 0,
  "metadata": {
    "colab": {
      "name": "Bigcon-Munji.ipynb",
      "provenance": [],
      "toc_visible": true,
      "authorship_tag": "ABX9TyPJ0NACdCjPa1GBFzK8gqep",
      "include_colab_link": true
    },
    "kernelspec": {
      "name": "python3",
      "display_name": "Python 3"
    }
  },
  "cells": [
    {
      "cell_type": "markdown",
      "metadata": {
        "id": "view-in-github",
        "colab_type": "text"
      },
      "source": [
        "<a href=\"https://colab.research.google.com/github/sungeun532/BigPyson/blob/master/Bigcon_Munji.ipynb\" target=\"_parent\"><img src=\"https://colab.research.google.com/assets/colab-badge.svg\" alt=\"Open In Colab\"/></a>"
      ]
    },
    {
      "cell_type": "code",
      "metadata": {
        "id": "kE9nMSSVAbLv",
        "colab_type": "code",
        "colab": {}
      },
      "source": [
        "from scipy import stats"
      ],
      "execution_count": null,
      "outputs": []
    },
    {
      "cell_type": "code",
      "metadata": {
        "id": "JhmB8o0wNC6r",
        "colab_type": "code",
        "colab": {}
      },
      "source": [
        "#munji = pd.read_excel('2019미세먼지.xlsx')\n",
        "munji = pd.read_excel('/content/2019미세먼지.xlsx')"
      ],
      "execution_count": null,
      "outputs": []
    },
    {
      "cell_type": "code",
      "metadata": {
        "id": "I-Qx_Wy0Oj3P",
        "colab_type": "code",
        "colab": {
          "base_uri": "https://localhost:8080/",
          "height": 241
        },
        "outputId": "b09a0b89-60e7-4f4c-efd0-08841b449f0a"
      },
      "source": [
        "#population_only_total = pd.read_excel('2019총인구비율(수정).xlsx') # 지역별 인구수 ()\n",
        "#population_only_woman = pd.read_excel('2019여성인구비율.xlsx')\n",
        "population_only_total = pd.read_excel('/content/drive/My Drive/빅콘폴더/인구 미세먼지관련/2019총인구비율(수정).xlsx')\n",
        "population_only_woman = pd.read_excel('/content/drive/My Drive/빅콘폴더/인구 미세먼지관련/2019여성인구비율.xlsx')\n",
        "population_only_man = pd.read_excel('/content/drive/My Drive/빅콘폴더/인구 미세먼지관련/2019남자인구비율.xlsx')"
      ],
      "execution_count": 1,
      "outputs": [
        {
          "output_type": "error",
          "ename": "NameError",
          "evalue": "ignored",
          "traceback": [
            "\u001b[0;31m---------------------------------------------------------------------------\u001b[0m",
            "\u001b[0;31mNameError\u001b[0m                                 Traceback (most recent call last)",
            "\u001b[0;32m<ipython-input-1-bed212798bf8>\u001b[0m in \u001b[0;36m<module>\u001b[0;34m()\u001b[0m\n\u001b[1;32m      1\u001b[0m \u001b[0;31m#population_only_total = pd.read_excel('2019총인구비율(수정).xlsx') # 지역별 인구수 ()\u001b[0m\u001b[0;34m\u001b[0m\u001b[0;34m\u001b[0m\u001b[0;34m\u001b[0m\u001b[0m\n\u001b[1;32m      2\u001b[0m \u001b[0;31m#population_only_woman = pd.read_excel('2019여성인구비율.xlsx')\u001b[0m\u001b[0;34m\u001b[0m\u001b[0;34m\u001b[0m\u001b[0;34m\u001b[0m\u001b[0m\n\u001b[0;32m----> 3\u001b[0;31m \u001b[0mpopulation_only_total\u001b[0m \u001b[0;34m=\u001b[0m \u001b[0mpd\u001b[0m\u001b[0;34m.\u001b[0m\u001b[0mread_excel\u001b[0m\u001b[0;34m(\u001b[0m\u001b[0;34m'/content/drive/My Drive/빅콘폴더/인구 미세먼지관련/2019총인구비율(수정).xlsx'\u001b[0m\u001b[0;34m)\u001b[0m\u001b[0;34m\u001b[0m\u001b[0;34m\u001b[0m\u001b[0m\n\u001b[0m\u001b[1;32m      4\u001b[0m \u001b[0mpopulation_only_woman\u001b[0m \u001b[0;34m=\u001b[0m \u001b[0mpd\u001b[0m\u001b[0;34m.\u001b[0m\u001b[0mread_excel\u001b[0m\u001b[0;34m(\u001b[0m\u001b[0;34m'/content/drive/My Drive/빅콘폴더/인구 미세먼지관련/2019여성인구비율.xlsx'\u001b[0m\u001b[0;34m)\u001b[0m\u001b[0;34m\u001b[0m\u001b[0;34m\u001b[0m\u001b[0m\n\u001b[1;32m      5\u001b[0m \u001b[0mpopulation_only_man\u001b[0m \u001b[0;34m=\u001b[0m \u001b[0mpd\u001b[0m\u001b[0;34m.\u001b[0m\u001b[0mread_excel\u001b[0m\u001b[0;34m(\u001b[0m\u001b[0;34m'/content/drive/My Drive/빅콘폴더/인구 미세먼지관련/2019남자인구비율.xlsx'\u001b[0m\u001b[0;34m)\u001b[0m\u001b[0;34m\u001b[0m\u001b[0;34m\u001b[0m\u001b[0m\n",
            "\u001b[0;31mNameError\u001b[0m: name 'pd' is not defined"
          ]
        }
      ]
    },
    {
      "cell_type": "code",
      "metadata": {
        "id": "G21F1BtJNSvr",
        "colab_type": "code",
        "colab": {
          "base_uri": "https://localhost:8080/",
          "height": 230
        },
        "outputId": "a9bc9b47-8c91-437d-da26-ad761a38be8f"
      },
      "source": [
        "print(munji) # 각 지역별 평균 미세먼지 양 수원=경기남 파주=경기북"
      ],
      "execution_count": null,
      "outputs": [
        {
          "output_type": "stream",
          "text": [
            "    지역날짜  2019. 01  2019. 02  2019. 03  ...  2019. 09  2019. 10  2019. 11  2019. 12\n",
            "0  서울특별시        38        35        45  ...        12        15        20        28\n",
            "1  부산광역시        29        29        30  ...        13        13        17        23\n",
            "2  울산광역시        26        26        29  ...        13        11        15        20\n",
            "3    경기남        40        36        46  ...        13        16        21        29\n",
            "4    경기북        47        39        49  ...        15        20        27        35\n",
            "5    강원도        23        25        32  ...        10        13        15        17\n",
            "6  광주광역시        33        34        39  ...        15        18        21        22\n",
            "7  대구광역시        33        32        33  ...        13        14        21        29\n",
            "8  대전광역시        35        36        39  ...        12        15        21        25\n",
            "\n",
            "[9 rows x 13 columns]\n"
          ],
          "name": "stdout"
        }
      ]
    },
    {
      "cell_type": "code",
      "metadata": {
        "id": "yrf5bBVBXIOA",
        "colab_type": "code",
        "colab": {}
      },
      "source": [
        "munji_df = munji.set_index(\"지역날짜\")\n",
        "population_total_df = population_only_total.set_index('행정구역(시군구)별')"
      ],
      "execution_count": null,
      "outputs": []
    },
    {
      "cell_type": "code",
      "metadata": {
        "id": "8Bm8XDUBVF94",
        "colab_type": "code",
        "colab": {
          "base_uri": "https://localhost:8080/",
          "height": 479
        },
        "outputId": "104284af-c177-4c7f-8d75-d36d38bb52df"
      },
      "source": [
        "population_total_df,munji_df"
      ],
      "execution_count": null,
      "outputs": [
        {
          "output_type": "execute_result",
          "data": {
            "text/plain": [
              "(              1월총인구수    2월총인구수    3월총인구수  ...   10월총인구수   11월총인구수   12월총인구수\n",
              " 행정구역(시군구)별                                ...                              \n",
              " 서울특별시       0.188443  0.188527  0.188519  ...  0.187864  0.187792  0.187725\n",
              " 부산광역시       0.066342  0.066303  0.066262  ...  0.065968  0.065926  0.065871\n",
              " 울산광역시       0.022282  0.022262  0.022244  ...  0.022178  0.022169  0.022151\n",
              " 경기남         0.126294  0.126429  0.126544  ...  0.127531  0.127620  0.127731\n",
              " 경기북         0.126294  0.126429  0.126544  ...  0.127531  0.127620  0.127731\n",
              " 강원도         0.029747  0.029723  0.029724  ...  0.029732  0.029742  0.029744\n",
              " 광주광역시       0.028168  0.028156  0.028150  ...  0.028159  0.028150  0.028103\n",
              " 대구광역시       0.047474  0.047430  0.047386  ...  0.047148  0.047111  0.047042\n",
              " 대전광역시       0.028725  0.028704  0.028685  ...  0.028527  0.028498  0.028458\n",
              " \n",
              " [9 rows x 12 columns],\n",
              "        2019. 01  2019. 02  2019. 03  ...  2019. 10  2019. 11  2019. 12\n",
              " 지역날짜                                 ...                              \n",
              " 서울특별시        38        35        45  ...        15        20        28\n",
              " 부산광역시        29        29        30  ...        13        17        23\n",
              " 울산광역시        26        26        29  ...        11        15        20\n",
              " 경기남          40        36        46  ...        16        21        29\n",
              " 경기북          47        39        49  ...        20        27        35\n",
              " 강원도          23        25        32  ...        13        15        17\n",
              " 광주광역시        33        34        39  ...        18        21        22\n",
              " 대구광역시        33        32        33  ...        14        21        29\n",
              " 대전광역시        35        36        39  ...        15        21        25\n",
              " \n",
              " [9 rows x 12 columns])"
            ]
          },
          "metadata": {
            "tags": []
          },
          "execution_count": 189
        }
      ]
    },
    {
      "cell_type": "markdown",
      "metadata": {
        "id": "YoNECP3zZUmP",
        "colab_type": "text"
      },
      "source": [
        "총 인구수만 고려, 위 두 행렬값들을 각각 곱한 결과"
      ]
    },
    {
      "cell_type": "code",
      "metadata": {
        "id": "YTdMHqniBg5h",
        "colab_type": "code",
        "colab": {
          "base_uri": "https://localhost:8080/",
          "height": 340
        },
        "outputId": "29e9df6e-dd65-4ff0-facd-e4be51d1f20e"
      },
      "source": [
        "total_weighted_munji = pd.DataFrame().reindex_like(munji_df)\n",
        "total_weighted_munji"
      ],
      "execution_count": null,
      "outputs": [
        {
          "output_type": "execute_result",
          "data": {
            "text/html": [
              "<div>\n",
              "<style scoped>\n",
              "    .dataframe tbody tr th:only-of-type {\n",
              "        vertical-align: middle;\n",
              "    }\n",
              "\n",
              "    .dataframe tbody tr th {\n",
              "        vertical-align: top;\n",
              "    }\n",
              "\n",
              "    .dataframe thead th {\n",
              "        text-align: right;\n",
              "    }\n",
              "</style>\n",
              "<table border=\"1\" class=\"dataframe\">\n",
              "  <thead>\n",
              "    <tr style=\"text-align: right;\">\n",
              "      <th></th>\n",
              "      <th>2019. 01</th>\n",
              "      <th>2019. 02</th>\n",
              "      <th>2019. 03</th>\n",
              "      <th>2019. 04</th>\n",
              "      <th>2019. 05</th>\n",
              "      <th>2019. 06</th>\n",
              "      <th>2019. 07</th>\n",
              "      <th>2019. 08</th>\n",
              "      <th>2019. 09</th>\n",
              "      <th>2019. 10</th>\n",
              "      <th>2019. 11</th>\n",
              "      <th>2019. 12</th>\n",
              "    </tr>\n",
              "    <tr>\n",
              "      <th>지역날짜</th>\n",
              "      <th></th>\n",
              "      <th></th>\n",
              "      <th></th>\n",
              "      <th></th>\n",
              "      <th></th>\n",
              "      <th></th>\n",
              "      <th></th>\n",
              "      <th></th>\n",
              "      <th></th>\n",
              "      <th></th>\n",
              "      <th></th>\n",
              "      <th></th>\n",
              "    </tr>\n",
              "  </thead>\n",
              "  <tbody>\n",
              "    <tr>\n",
              "      <th>서울특별시</th>\n",
              "      <td>NaN</td>\n",
              "      <td>NaN</td>\n",
              "      <td>NaN</td>\n",
              "      <td>NaN</td>\n",
              "      <td>NaN</td>\n",
              "      <td>NaN</td>\n",
              "      <td>NaN</td>\n",
              "      <td>NaN</td>\n",
              "      <td>NaN</td>\n",
              "      <td>NaN</td>\n",
              "      <td>NaN</td>\n",
              "      <td>NaN</td>\n",
              "    </tr>\n",
              "    <tr>\n",
              "      <th>부산광역시</th>\n",
              "      <td>NaN</td>\n",
              "      <td>NaN</td>\n",
              "      <td>NaN</td>\n",
              "      <td>NaN</td>\n",
              "      <td>NaN</td>\n",
              "      <td>NaN</td>\n",
              "      <td>NaN</td>\n",
              "      <td>NaN</td>\n",
              "      <td>NaN</td>\n",
              "      <td>NaN</td>\n",
              "      <td>NaN</td>\n",
              "      <td>NaN</td>\n",
              "    </tr>\n",
              "    <tr>\n",
              "      <th>울산광역시</th>\n",
              "      <td>NaN</td>\n",
              "      <td>NaN</td>\n",
              "      <td>NaN</td>\n",
              "      <td>NaN</td>\n",
              "      <td>NaN</td>\n",
              "      <td>NaN</td>\n",
              "      <td>NaN</td>\n",
              "      <td>NaN</td>\n",
              "      <td>NaN</td>\n",
              "      <td>NaN</td>\n",
              "      <td>NaN</td>\n",
              "      <td>NaN</td>\n",
              "    </tr>\n",
              "    <tr>\n",
              "      <th>경기남</th>\n",
              "      <td>NaN</td>\n",
              "      <td>NaN</td>\n",
              "      <td>NaN</td>\n",
              "      <td>NaN</td>\n",
              "      <td>NaN</td>\n",
              "      <td>NaN</td>\n",
              "      <td>NaN</td>\n",
              "      <td>NaN</td>\n",
              "      <td>NaN</td>\n",
              "      <td>NaN</td>\n",
              "      <td>NaN</td>\n",
              "      <td>NaN</td>\n",
              "    </tr>\n",
              "    <tr>\n",
              "      <th>경기북</th>\n",
              "      <td>NaN</td>\n",
              "      <td>NaN</td>\n",
              "      <td>NaN</td>\n",
              "      <td>NaN</td>\n",
              "      <td>NaN</td>\n",
              "      <td>NaN</td>\n",
              "      <td>NaN</td>\n",
              "      <td>NaN</td>\n",
              "      <td>NaN</td>\n",
              "      <td>NaN</td>\n",
              "      <td>NaN</td>\n",
              "      <td>NaN</td>\n",
              "    </tr>\n",
              "    <tr>\n",
              "      <th>강원도</th>\n",
              "      <td>NaN</td>\n",
              "      <td>NaN</td>\n",
              "      <td>NaN</td>\n",
              "      <td>NaN</td>\n",
              "      <td>NaN</td>\n",
              "      <td>NaN</td>\n",
              "      <td>NaN</td>\n",
              "      <td>NaN</td>\n",
              "      <td>NaN</td>\n",
              "      <td>NaN</td>\n",
              "      <td>NaN</td>\n",
              "      <td>NaN</td>\n",
              "    </tr>\n",
              "    <tr>\n",
              "      <th>광주광역시</th>\n",
              "      <td>NaN</td>\n",
              "      <td>NaN</td>\n",
              "      <td>NaN</td>\n",
              "      <td>NaN</td>\n",
              "      <td>NaN</td>\n",
              "      <td>NaN</td>\n",
              "      <td>NaN</td>\n",
              "      <td>NaN</td>\n",
              "      <td>NaN</td>\n",
              "      <td>NaN</td>\n",
              "      <td>NaN</td>\n",
              "      <td>NaN</td>\n",
              "    </tr>\n",
              "    <tr>\n",
              "      <th>대구광역시</th>\n",
              "      <td>NaN</td>\n",
              "      <td>NaN</td>\n",
              "      <td>NaN</td>\n",
              "      <td>NaN</td>\n",
              "      <td>NaN</td>\n",
              "      <td>NaN</td>\n",
              "      <td>NaN</td>\n",
              "      <td>NaN</td>\n",
              "      <td>NaN</td>\n",
              "      <td>NaN</td>\n",
              "      <td>NaN</td>\n",
              "      <td>NaN</td>\n",
              "    </tr>\n",
              "    <tr>\n",
              "      <th>대전광역시</th>\n",
              "      <td>NaN</td>\n",
              "      <td>NaN</td>\n",
              "      <td>NaN</td>\n",
              "      <td>NaN</td>\n",
              "      <td>NaN</td>\n",
              "      <td>NaN</td>\n",
              "      <td>NaN</td>\n",
              "      <td>NaN</td>\n",
              "      <td>NaN</td>\n",
              "      <td>NaN</td>\n",
              "      <td>NaN</td>\n",
              "      <td>NaN</td>\n",
              "    </tr>\n",
              "  </tbody>\n",
              "</table>\n",
              "</div>"
            ],
            "text/plain": [
              "       2019. 01  2019. 02  2019. 03  ...  2019. 10  2019. 11  2019. 12\n",
              "지역날짜                                 ...                              \n",
              "서울특별시       NaN       NaN       NaN  ...       NaN       NaN       NaN\n",
              "부산광역시       NaN       NaN       NaN  ...       NaN       NaN       NaN\n",
              "울산광역시       NaN       NaN       NaN  ...       NaN       NaN       NaN\n",
              "경기남         NaN       NaN       NaN  ...       NaN       NaN       NaN\n",
              "경기북         NaN       NaN       NaN  ...       NaN       NaN       NaN\n",
              "강원도         NaN       NaN       NaN  ...       NaN       NaN       NaN\n",
              "광주광역시       NaN       NaN       NaN  ...       NaN       NaN       NaN\n",
              "대구광역시       NaN       NaN       NaN  ...       NaN       NaN       NaN\n",
              "대전광역시       NaN       NaN       NaN  ...       NaN       NaN       NaN\n",
              "\n",
              "[9 rows x 12 columns]"
            ]
          },
          "metadata": {
            "tags": []
          },
          "execution_count": 190
        }
      ]
    },
    {
      "cell_type": "code",
      "metadata": {
        "id": "vv-EavVtXx19",
        "colab_type": "code",
        "colab": {
          "base_uri": "https://localhost:8080/",
          "height": 340
        },
        "outputId": "df9b38c8-82cc-4379-b5a1-1418f4e259f6"
      },
      "source": [
        "for i in range(9):\n",
        "  for j in range(12):\n",
        "    total_weighted_munji.iloc[i][j] = munji_df.iloc[i][j]*population_total_df.iloc[i][j]\n",
        "total_weighted_munji"
      ],
      "execution_count": null,
      "outputs": [
        {
          "output_type": "execute_result",
          "data": {
            "text/html": [
              "<div>\n",
              "<style scoped>\n",
              "    .dataframe tbody tr th:only-of-type {\n",
              "        vertical-align: middle;\n",
              "    }\n",
              "\n",
              "    .dataframe tbody tr th {\n",
              "        vertical-align: top;\n",
              "    }\n",
              "\n",
              "    .dataframe thead th {\n",
              "        text-align: right;\n",
              "    }\n",
              "</style>\n",
              "<table border=\"1\" class=\"dataframe\">\n",
              "  <thead>\n",
              "    <tr style=\"text-align: right;\">\n",
              "      <th></th>\n",
              "      <th>2019. 01</th>\n",
              "      <th>2019. 02</th>\n",
              "      <th>2019. 03</th>\n",
              "      <th>2019. 04</th>\n",
              "      <th>2019. 05</th>\n",
              "      <th>2019. 06</th>\n",
              "      <th>2019. 07</th>\n",
              "      <th>2019. 08</th>\n",
              "      <th>2019. 09</th>\n",
              "      <th>2019. 10</th>\n",
              "      <th>2019. 11</th>\n",
              "      <th>2019. 12</th>\n",
              "    </tr>\n",
              "    <tr>\n",
              "      <th>지역날짜</th>\n",
              "      <th></th>\n",
              "      <th></th>\n",
              "      <th></th>\n",
              "      <th></th>\n",
              "      <th></th>\n",
              "      <th></th>\n",
              "      <th></th>\n",
              "      <th></th>\n",
              "      <th></th>\n",
              "      <th></th>\n",
              "      <th></th>\n",
              "      <th></th>\n",
              "    </tr>\n",
              "  </thead>\n",
              "  <tbody>\n",
              "    <tr>\n",
              "      <th>서울특별시</th>\n",
              "      <td>7.160824</td>\n",
              "      <td>6.598434</td>\n",
              "      <td>8.483334</td>\n",
              "      <td>3.957540</td>\n",
              "      <td>5.462475</td>\n",
              "      <td>3.765326</td>\n",
              "      <td>3.574960</td>\n",
              "      <td>3.008477</td>\n",
              "      <td>2.255318</td>\n",
              "      <td>2.817959</td>\n",
              "      <td>3.755846</td>\n",
              "      <td>5.256309</td>\n",
              "    </tr>\n",
              "    <tr>\n",
              "      <th>부산광역시</th>\n",
              "      <td>1.923918</td>\n",
              "      <td>1.922782</td>\n",
              "      <td>1.987847</td>\n",
              "      <td>1.324328</td>\n",
              "      <td>1.654370</td>\n",
              "      <td>1.388876</td>\n",
              "      <td>1.189661</td>\n",
              "      <td>1.254980</td>\n",
              "      <td>0.858243</td>\n",
              "      <td>0.857583</td>\n",
              "      <td>1.120749</td>\n",
              "      <td>1.515029</td>\n",
              "    </tr>\n",
              "    <tr>\n",
              "      <th>울산광역시</th>\n",
              "      <td>0.579328</td>\n",
              "      <td>0.578801</td>\n",
              "      <td>0.645063</td>\n",
              "      <td>0.422441</td>\n",
              "      <td>0.577773</td>\n",
              "      <td>0.488722</td>\n",
              "      <td>0.421927</td>\n",
              "      <td>0.399513</td>\n",
              "      <td>0.288432</td>\n",
              "      <td>0.243959</td>\n",
              "      <td>0.332531</td>\n",
              "      <td>0.443026</td>\n",
              "    </tr>\n",
              "    <tr>\n",
              "      <th>경기남</th>\n",
              "      <td>5.051741</td>\n",
              "      <td>4.551446</td>\n",
              "      <td>5.821010</td>\n",
              "      <td>2.533368</td>\n",
              "      <td>3.677853</td>\n",
              "      <td>2.412139</td>\n",
              "      <td>2.288107</td>\n",
              "      <td>2.291221</td>\n",
              "      <td>1.656436</td>\n",
              "      <td>2.040495</td>\n",
              "      <td>2.680027</td>\n",
              "      <td>3.704204</td>\n",
              "    </tr>\n",
              "    <tr>\n",
              "      <th>경기북</th>\n",
              "      <td>5.935795</td>\n",
              "      <td>4.930733</td>\n",
              "      <td>6.200641</td>\n",
              "      <td>2.786705</td>\n",
              "      <td>3.677853</td>\n",
              "      <td>2.285184</td>\n",
              "      <td>2.415224</td>\n",
              "      <td>2.291221</td>\n",
              "      <td>1.911272</td>\n",
              "      <td>2.550619</td>\n",
              "      <td>3.445749</td>\n",
              "      <td>4.470591</td>\n",
              "    </tr>\n",
              "    <tr>\n",
              "      <th>강원도</th>\n",
              "      <td>0.684188</td>\n",
              "      <td>0.743081</td>\n",
              "      <td>0.951170</td>\n",
              "      <td>0.475680</td>\n",
              "      <td>0.624322</td>\n",
              "      <td>0.475698</td>\n",
              "      <td>0.416198</td>\n",
              "      <td>0.356756</td>\n",
              "      <td>0.297286</td>\n",
              "      <td>0.386515</td>\n",
              "      <td>0.446125</td>\n",
              "      <td>0.505642</td>\n",
              "    </tr>\n",
              "    <tr>\n",
              "      <th>광주광역시</th>\n",
              "      <td>0.929537</td>\n",
              "      <td>0.957296</td>\n",
              "      <td>1.097865</td>\n",
              "      <td>0.563012</td>\n",
              "      <td>0.619339</td>\n",
              "      <td>0.703805</td>\n",
              "      <td>0.478739</td>\n",
              "      <td>0.478723</td>\n",
              "      <td>0.422459</td>\n",
              "      <td>0.506856</td>\n",
              "      <td>0.591152</td>\n",
              "      <td>0.618263</td>\n",
              "    </tr>\n",
              "    <tr>\n",
              "      <th>대구광역시</th>\n",
              "      <td>1.566630</td>\n",
              "      <td>1.517771</td>\n",
              "      <td>1.563731</td>\n",
              "      <td>0.899716</td>\n",
              "      <td>1.088303</td>\n",
              "      <td>0.945651</td>\n",
              "      <td>0.755961</td>\n",
              "      <td>0.755368</td>\n",
              "      <td>0.613367</td>\n",
              "      <td>0.660078</td>\n",
              "      <td>0.989328</td>\n",
              "      <td>1.364229</td>\n",
              "    </tr>\n",
              "    <tr>\n",
              "      <th>대전광역시</th>\n",
              "      <td>1.005385</td>\n",
              "      <td>1.033332</td>\n",
              "      <td>1.118722</td>\n",
              "      <td>0.487275</td>\n",
              "      <td>0.630120</td>\n",
              "      <td>0.515045</td>\n",
              "      <td>0.400257</td>\n",
              "      <td>0.428505</td>\n",
              "      <td>0.342600</td>\n",
              "      <td>0.427901</td>\n",
              "      <td>0.598462</td>\n",
              "      <td>0.711449</td>\n",
              "    </tr>\n",
              "  </tbody>\n",
              "</table>\n",
              "</div>"
            ],
            "text/plain": [
              "       2019. 01  2019. 02  2019. 03  ...  2019. 10  2019. 11  2019. 12\n",
              "지역날짜                                 ...                              \n",
              "서울특별시  7.160824  6.598434  8.483334  ...  2.817959  3.755846  5.256309\n",
              "부산광역시  1.923918  1.922782  1.987847  ...  0.857583  1.120749  1.515029\n",
              "울산광역시  0.579328  0.578801  0.645063  ...  0.243959  0.332531  0.443026\n",
              "경기남    5.051741  4.551446  5.821010  ...  2.040495  2.680027  3.704204\n",
              "경기북    5.935795  4.930733  6.200641  ...  2.550619  3.445749  4.470591\n",
              "강원도    0.684188  0.743081  0.951170  ...  0.386515  0.446125  0.505642\n",
              "광주광역시  0.929537  0.957296  1.097865  ...  0.506856  0.591152  0.618263\n",
              "대구광역시  1.566630  1.517771  1.563731  ...  0.660078  0.989328  1.364229\n",
              "대전광역시  1.005385  1.033332  1.118722  ...  0.427901  0.598462  0.711449\n",
              "\n",
              "[9 rows x 12 columns]"
            ]
          },
          "metadata": {
            "tags": []
          },
          "execution_count": 191
        }
      ]
    },
    {
      "cell_type": "code",
      "metadata": {
        "id": "PUGfj4KCZ3ok",
        "colab_type": "code",
        "colab": {
          "base_uri": "https://localhost:8080/",
          "height": 248
        },
        "outputId": "719b46fc-09d5-4190-9b97-b92d22fcd856"
      },
      "source": [
        "result_munji_df = total_weighted_munji.sum()\n",
        "result_munji_df"
      ],
      "execution_count": null,
      "outputs": [
        {
          "output_type": "execute_result",
          "data": {
            "text/plain": [
              "2019. 01    24.837347\n",
              "2019. 02    22.833675\n",
              "2019. 03    27.869383\n",
              "2019. 04    13.450065\n",
              "2019. 05    18.012409\n",
              "2019. 06    12.980445\n",
              "2019. 07    11.941034\n",
              "2019. 08    11.264766\n",
              "2019. 09     8.645412\n",
              "2019. 10    10.491966\n",
              "2019. 11    13.959968\n",
              "2019. 12    18.588743\n",
              "dtype: float64"
            ]
          },
          "metadata": {
            "tags": []
          },
          "execution_count": 192
        }
      ]
    },
    {
      "cell_type": "code",
      "metadata": {
        "id": "QnvWE-ngsrpR",
        "colab_type": "code",
        "colab": {
          "base_uri": "https://localhost:8080/",
          "height": 35
        },
        "outputId": "c0e49ea5-4634-4791-b0bd-b11b449c7557"
      },
      "source": [
        "# 전체 인구비율로 상관계수 알아보기-> 전체인구비율은 큰 의미가 없음. 테스트용이다.\n",
        "\n",
        "stats.linregress(result_munji_df,grouped_month_item.xs('건강기능')['주문량'])"
      ],
      "execution_count": null,
      "outputs": [
        {
          "output_type": "execute_result",
          "data": {
            "text/plain": [
              "LinregressResult(slope=-2.7291740256538892, intercept=407.37472122659375, rvalue=-0.20235046747065535, pvalue=0.5282320904632236, stderr=4.176847441838606)"
            ]
          },
          "metadata": {
            "tags": []
          },
          "execution_count": 193
        }
      ]
    },
    {
      "cell_type": "code",
      "metadata": {
        "id": "EK1MnDh0HqrV",
        "colab_type": "code",
        "colab": {
          "base_uri": "https://localhost:8080/",
          "height": 230
        },
        "outputId": "93b33f81-cf13-4f0e-e10c-1a19217e04be"
      },
      "source": [
        "cor_with_categories(result_munji_df) # 전체인구... 건강기능, 주방 0.53,0.48 (이것도 비슷하군?)"
      ],
      "execution_count": null,
      "outputs": [
        {
          "output_type": "stream",
          "text": [
            "침구,가구,건강기능,농수축,생활용품,속옷,의류,이미용,잡화,주방,침구\n"
          ],
          "name": "stdout"
        },
        {
          "output_type": "execute_result",
          "data": {
            "text/plain": [
              "[LinregressResult(slope=0.01745940825731298, intercept=10.29047563067633, rvalue=0.3665957742557484, pvalue=0.37173460572226097, stderr=0.01808951635025846),\n",
              " LinregressResult(slope=-0.46854746253398094, intercept=24.66800107978842, rvalue=-0.3216897939897602, pvalue=0.33470084482412077, stderr=0.4596994635655932),\n",
              " LinregressResult(slope=-0.015002968407550513, intercept=21.68648909179745, rvalue=-0.20235046747065535, pvalue=0.5282320904632236, stderr=0.02296119984435537),\n",
              " LinregressResult(slope=-0.035647481604915356, intercept=50.73474463328475, rvalue=-0.3606546435357546, pvalue=0.24944665195708043, stderr=0.029152717020783075),\n",
              " LinregressResult(slope=0.05471428958403271, intercept=5.101507444918818, rvalue=0.6139896468471299, pvalue=0.03368426890495773, stderr=0.022242805558577355),\n",
              " LinregressResult(slope=-0.031291519487109676, intercept=27.696120365109923, rvalue=-0.4441258619486756, pvalue=0.14806155473923707, stderr=0.01996233532432464),\n",
              " LinregressResult(slope=-0.024293380539726826, intercept=25.751973773390606, rvalue=-0.32503930360871863, pvalue=0.30259234077978886, stderr=0.02235144971393829),\n",
              " LinregressResult(slope=0.023976082663853527, intercept=-2.6125961551538204, rvalue=0.5298168758504425, pvalue=0.07644509061388455, stderr=0.012136841552952369),\n",
              " LinregressResult(slope=0.043555677008738976, intercept=4.646522068226657, rvalue=0.6224797640994271, pvalue=0.030640498410868636, stderr=0.01731726461406774),\n",
              " LinregressResult(slope=-0.045405103994300894, intercept=25.00343561311015, rvalue=-0.22611659817271626, pvalue=0.4797723641516135, stderr=0.061855152714812144),\n",
              " LinregressResult(slope=0.01745940825731298, intercept=10.29047563067633, rvalue=0.3665957742557484, pvalue=0.37173460572226097, stderr=0.01808951635025846)]"
            ]
          },
          "metadata": {
            "tags": []
          },
          "execution_count": 195
        }
      ]
    },
    {
      "cell_type": "markdown",
      "metadata": {
        "id": "76FW1gDO3poc",
        "colab_type": "text"
      },
      "source": [
        "#상품군별로 월별 평균주문량 vs 월별 평균 미세먼지 비교(아래 제품군 공통사항)"
      ]
    },
    {
      "cell_type": "markdown",
      "metadata": {
        "id": "m4ll34Zd0P-A",
        "colab_type": "text"
      },
      "source": [
        "#여성 인구수만 고려"
      ]
    },
    {
      "cell_type": "code",
      "metadata": {
        "id": "Uap_eEw2tXCw",
        "colab_type": "code",
        "colab": {
          "base_uri": "https://localhost:8080/",
          "height": 374
        },
        "outputId": "c1a1852d-04e2-42e3-e203-c10f4c5b9c36"
      },
      "source": [
        "population_woman_df = population_only_woman.set_index('행정구역(시군구)별')\n",
        "population_woman_df"
      ],
      "execution_count": null,
      "outputs": [
        {
          "output_type": "execute_result",
          "data": {
            "text/html": [
              "<div>\n",
              "<style scoped>\n",
              "    .dataframe tbody tr th:only-of-type {\n",
              "        vertical-align: middle;\n",
              "    }\n",
              "\n",
              "    .dataframe tbody tr th {\n",
              "        vertical-align: top;\n",
              "    }\n",
              "\n",
              "    .dataframe thead th {\n",
              "        text-align: right;\n",
              "    }\n",
              "</style>\n",
              "<table border=\"1\" class=\"dataframe\">\n",
              "  <thead>\n",
              "    <tr style=\"text-align: right;\">\n",
              "      <th></th>\n",
              "      <th>1월여자인구수</th>\n",
              "      <th>2월여자인구수</th>\n",
              "      <th>3월여자인구수</th>\n",
              "      <th>4월여자인구수</th>\n",
              "      <th>5월여자인구수</th>\n",
              "      <th>6월여자인구수</th>\n",
              "      <th>7월여자인구수</th>\n",
              "      <th>8월여자인구수</th>\n",
              "      <th>9월여자인구수</th>\n",
              "      <th>10월여자인구수</th>\n",
              "      <th>11월여자인구수</th>\n",
              "      <th>12월여자인구수</th>\n",
              "    </tr>\n",
              "    <tr>\n",
              "      <th>행정구역(시군구)별</th>\n",
              "      <th></th>\n",
              "      <th></th>\n",
              "      <th></th>\n",
              "      <th></th>\n",
              "      <th></th>\n",
              "      <th></th>\n",
              "      <th></th>\n",
              "      <th></th>\n",
              "      <th></th>\n",
              "      <th></th>\n",
              "      <th></th>\n",
              "      <th></th>\n",
              "    </tr>\n",
              "  </thead>\n",
              "  <tbody>\n",
              "    <tr>\n",
              "      <th>서울특별시</th>\n",
              "      <td>0.096350</td>\n",
              "      <td>0.096419</td>\n",
              "      <td>0.096439</td>\n",
              "      <td>0.096426</td>\n",
              "      <td>0.096399</td>\n",
              "      <td>0.096369</td>\n",
              "      <td>0.096328</td>\n",
              "      <td>0.096281</td>\n",
              "      <td>0.096258</td>\n",
              "      <td>0.096230</td>\n",
              "      <td>0.096205</td>\n",
              "      <td>0.096188</td>\n",
              "    </tr>\n",
              "    <tr>\n",
              "      <th>부산광역시</th>\n",
              "      <td>0.033723</td>\n",
              "      <td>0.033708</td>\n",
              "      <td>0.033695</td>\n",
              "      <td>0.033680</td>\n",
              "      <td>0.033666</td>\n",
              "      <td>0.033652</td>\n",
              "      <td>0.033634</td>\n",
              "      <td>0.033616</td>\n",
              "      <td>0.033605</td>\n",
              "      <td>0.033583</td>\n",
              "      <td>0.033565</td>\n",
              "      <td>0.033543</td>\n",
              "    </tr>\n",
              "    <tr>\n",
              "      <th>울산광역시</th>\n",
              "      <td>0.010831</td>\n",
              "      <td>0.010822</td>\n",
              "      <td>0.010814</td>\n",
              "      <td>0.010810</td>\n",
              "      <td>0.010805</td>\n",
              "      <td>0.010802</td>\n",
              "      <td>0.010800</td>\n",
              "      <td>0.010794</td>\n",
              "      <td>0.010791</td>\n",
              "      <td>0.010788</td>\n",
              "      <td>0.010783</td>\n",
              "      <td>0.010773</td>\n",
              "    </tr>\n",
              "    <tr>\n",
              "      <th>경기남</th>\n",
              "      <td>0.062767</td>\n",
              "      <td>0.062831</td>\n",
              "      <td>0.062885</td>\n",
              "      <td>0.062945</td>\n",
              "      <td>0.063018</td>\n",
              "      <td>0.063083</td>\n",
              "      <td>0.063162</td>\n",
              "      <td>0.063248</td>\n",
              "      <td>0.063311</td>\n",
              "      <td>0.063370</td>\n",
              "      <td>0.063420</td>\n",
              "      <td>0.063478</td>\n",
              "    </tr>\n",
              "    <tr>\n",
              "      <th>경기북</th>\n",
              "      <td>0.062767</td>\n",
              "      <td>0.062831</td>\n",
              "      <td>0.062885</td>\n",
              "      <td>0.062945</td>\n",
              "      <td>0.063018</td>\n",
              "      <td>0.063083</td>\n",
              "      <td>0.063162</td>\n",
              "      <td>0.063248</td>\n",
              "      <td>0.063311</td>\n",
              "      <td>0.063370</td>\n",
              "      <td>0.063420</td>\n",
              "      <td>0.063478</td>\n",
              "    </tr>\n",
              "    <tr>\n",
              "      <th>강원도</th>\n",
              "      <td>0.014780</td>\n",
              "      <td>0.014770</td>\n",
              "      <td>0.014770</td>\n",
              "      <td>0.014776</td>\n",
              "      <td>0.014777</td>\n",
              "      <td>0.014779</td>\n",
              "      <td>0.014779</td>\n",
              "      <td>0.014780</td>\n",
              "      <td>0.014780</td>\n",
              "      <td>0.014781</td>\n",
              "      <td>0.014783</td>\n",
              "      <td>0.014782</td>\n",
              "    </tr>\n",
              "    <tr>\n",
              "      <th>광주광역시</th>\n",
              "      <td>0.014219</td>\n",
              "      <td>0.014211</td>\n",
              "      <td>0.014209</td>\n",
              "      <td>0.014210</td>\n",
              "      <td>0.014210</td>\n",
              "      <td>0.014210</td>\n",
              "      <td>0.014215</td>\n",
              "      <td>0.014217</td>\n",
              "      <td>0.014221</td>\n",
              "      <td>0.014219</td>\n",
              "      <td>0.014216</td>\n",
              "      <td>0.014196</td>\n",
              "    </tr>\n",
              "    <tr>\n",
              "      <th>대구광역시</th>\n",
              "      <td>0.023963</td>\n",
              "      <td>0.023944</td>\n",
              "      <td>0.023928</td>\n",
              "      <td>0.023917</td>\n",
              "      <td>0.023903</td>\n",
              "      <td>0.023888</td>\n",
              "      <td>0.023873</td>\n",
              "      <td>0.023854</td>\n",
              "      <td>0.023843</td>\n",
              "      <td>0.023832</td>\n",
              "      <td>0.023815</td>\n",
              "      <td>0.023786</td>\n",
              "    </tr>\n",
              "    <tr>\n",
              "      <th>대전광역시</th>\n",
              "      <td>0.014373</td>\n",
              "      <td>0.014365</td>\n",
              "      <td>0.014356</td>\n",
              "      <td>0.014344</td>\n",
              "      <td>0.014334</td>\n",
              "      <td>0.014319</td>\n",
              "      <td>0.014307</td>\n",
              "      <td>0.014296</td>\n",
              "      <td>0.014289</td>\n",
              "      <td>0.014279</td>\n",
              "      <td>0.014266</td>\n",
              "      <td>0.014245</td>\n",
              "    </tr>\n",
              "  </tbody>\n",
              "</table>\n",
              "</div>"
            ],
            "text/plain": [
              "             1월여자인구수   2월여자인구수   3월여자인구수  ...  10월여자인구수  11월여자인구수  12월여자인구수\n",
              "행정구역(시군구)별                                ...                              \n",
              "서울특별시       0.096350  0.096419  0.096439  ...  0.096230  0.096205  0.096188\n",
              "부산광역시       0.033723  0.033708  0.033695  ...  0.033583  0.033565  0.033543\n",
              "울산광역시       0.010831  0.010822  0.010814  ...  0.010788  0.010783  0.010773\n",
              "경기남         0.062767  0.062831  0.062885  ...  0.063370  0.063420  0.063478\n",
              "경기북         0.062767  0.062831  0.062885  ...  0.063370  0.063420  0.063478\n",
              "강원도         0.014780  0.014770  0.014770  ...  0.014781  0.014783  0.014782\n",
              "광주광역시       0.014219  0.014211  0.014209  ...  0.014219  0.014216  0.014196\n",
              "대구광역시       0.023963  0.023944  0.023928  ...  0.023832  0.023815  0.023786\n",
              "대전광역시       0.014373  0.014365  0.014356  ...  0.014279  0.014266  0.014245\n",
              "\n",
              "[9 rows x 12 columns]"
            ]
          },
          "metadata": {
            "tags": []
          },
          "execution_count": 196
        }
      ]
    },
    {
      "cell_type": "code",
      "metadata": {
        "id": "dG9dk4cl3UVC",
        "colab_type": "code",
        "colab": {}
      },
      "source": [
        "woman_weighted_df = weighted_munji(munji_df,population_woman_df)\n",
        "woman_only_seoul = woman_weighted_df[woman_weighted_df.index=='서울특별시']"
      ],
      "execution_count": null,
      "outputs": []
    },
    {
      "cell_type": "code",
      "metadata": {
        "id": "CCALfqEFbCav",
        "colab_type": "code",
        "colab": {
          "base_uri": "https://localhost:8080/",
          "height": 248
        },
        "outputId": "da73890e-bfe3-4a7e-db91-2748258cc9b5"
      },
      "source": [
        "woman_weighted_df = weighted_munji(munji_df,population_woman_df).sum() #함수호출 및 월별로 합계\n",
        "woman_weighted_df"
      ],
      "execution_count": null,
      "outputs": [
        {
          "output_type": "execute_result",
          "data": {
            "text/plain": [
              "2019. 01    12.484569\n",
              "2019. 02    11.481677\n",
              "2019. 03    14.014574\n",
              "2019. 04     6.766506\n",
              "2019. 05     9.061288\n",
              "2019. 06     6.532986\n",
              "2019. 07     6.008642\n",
              "2019. 08     5.665599\n",
              "2019. 09     4.347492\n",
              "2019. 10     5.275934\n",
              "2019. 11     7.020567\n",
              "2019. 12     9.352337\n",
              "dtype: float64"
            ]
          },
          "metadata": {
            "tags": []
          },
          "execution_count": 207
        }
      ]
    },
    {
      "cell_type": "code",
      "metadata": {
        "id": "gCQBDlfK4iVA",
        "colab_type": "code",
        "colab": {
          "base_uri": "https://localhost:8080/",
          "height": 248
        },
        "outputId": "eb49f74d-76e0-46d6-fec4-955e177647a6"
      },
      "source": [
        "woman_only_seoul = woman_only_seoul.transpose()\n",
        "woman_only_seoul = woman_only_seoul.squeeze()\n",
        "woman_only_seoul"
      ],
      "execution_count": null,
      "outputs": [
        {
          "output_type": "execute_result",
          "data": {
            "text/plain": [
              "2019. 01    3.661302\n",
              "2019. 02    3.374661\n",
              "2019. 03    4.339761\n",
              "2019. 04    2.024950\n",
              "2019. 05    2.795557\n",
              "2019. 06    1.927374\n",
              "2019. 07    1.830227\n",
              "2019. 08    1.540497\n",
              "2019. 09    1.155098\n",
              "2019. 10    1.443447\n",
              "2019. 11    1.924097\n",
              "2019. 12    2.693254\n",
              "Name: 서울특별시, dtype: float64"
            ]
          },
          "metadata": {
            "tags": []
          },
          "execution_count": 201
        }
      ]
    },
    {
      "cell_type": "markdown",
      "metadata": {
        "id": "8VOQJacz34O-",
        "colab_type": "text"
      },
      "source": [
        "#상품군 월별 주문량자료 생성(for 상관계수 비교)"
      ]
    },
    {
      "cell_type": "code",
      "metadata": {
        "id": "1euHbGkk3zxe",
        "colab_type": "code",
        "colab": {
          "base_uri": "https://localhost:8080/",
          "height": 35
        },
        "outputId": "32354db6-a992-4a85-b25e-b3a7e01ddaaf"
      },
      "source": [
        "categories = grouped_month_item.index.get_level_values(0).unique()\n",
        "categories"
      ],
      "execution_count": null,
      "outputs": [
        {
          "output_type": "execute_result",
          "data": {
            "text/plain": [
              "Index(['가구', '가전', '건강기능', '농수축', '생활용품', '속옷', '의류', '이미용', '잡화', '주방', '침구'], dtype='object', name='상품군')"
            ]
          },
          "metadata": {
            "tags": []
          },
          "execution_count": 202
        }
      ]
    },
    {
      "cell_type": "code",
      "metadata": {
        "id": "StTxmHqJ33yI",
        "colab_type": "code",
        "colab": {}
      },
      "source": [
        "for i in categories:\n",
        "  globals()['month_{}'.format(i)] = grouped_month_item.xs(i)['주문량']"
      ],
      "execution_count": null,
      "outputs": []
    },
    {
      "cell_type": "code",
      "metadata": {
        "id": "YzPEIh0q4jmM",
        "colab_type": "code",
        "colab": {
          "base_uri": "https://localhost:8080/",
          "height": 230
        },
        "outputId": "4ad346ef-54b7-4eaa-aa07-21241a7cca7b"
      },
      "source": [
        "woman_weighted_df.iloc[month_가구.index-1] # 특정월 판매자료가없는 상품군도 있기 떄문에, 해당 특성을 고려해서 먼지자료도 인덱싱 해야함. -1은 12월->11로 접근해야 하기 때문에... 한칸씩 앞당김"
      ],
      "execution_count": null,
      "outputs": [
        {
          "output_type": "execute_result",
          "data": {
            "text/plain": [
              "2019. 02    11.481677\n",
              "2019. 03    14.014574\n",
              "2019. 04     6.766506\n",
              "2019. 05     9.061288\n",
              "2019. 06     6.532986\n",
              "2019. 07     6.008642\n",
              "2019. 08     5.665599\n",
              "2019. 09     4.347492\n",
              "2019. 10     5.275934\n",
              "2019. 11     7.020567\n",
              "2019. 12     9.352337\n",
              "dtype: float64"
            ]
          },
          "metadata": {
            "tags": []
          },
          "execution_count": 208
        }
      ]
    },
    {
      "cell_type": "code",
      "metadata": {
        "id": "rkxaRWET7TF_",
        "colab_type": "code",
        "colab": {
          "base_uri": "https://localhost:8080/",
          "height": 230
        },
        "outputId": "072814e7-2c82-4e00-a914-5d599111c945"
      },
      "source": [
        "#각 상품군 월별 주문량과 상관계수 비교\n",
        "result_woman_weight = cor_with_categories(woman_weighted_df)\n",
        "result_woman_weight #건강기능 0.53 주방 0.48"
      ],
      "execution_count": null,
      "outputs": [
        {
          "output_type": "stream",
          "text": [
            "침구,가구,건강기능,농수축,생활용품,속옷,의류,이미용,잡화,주방,침구\n"
          ],
          "name": "stdout"
        },
        {
          "output_type": "execute_result",
          "data": {
            "text/plain": [
              "[LinregressResult(slope=0.00880433908988215, intercept=5.173641554785889, rvalue=0.36734502570342903, pvalue=0.37068265574829445, stderr=0.009100588829705688),\n",
              " LinregressResult(slope=-0.23604458989455457, intercept=12.415051984548896, rvalue=-0.32230895899777395, pvalue=0.3337180946436624, stderr=0.23109085591184012),\n",
              " LinregressResult(slope=-0.007522740948330923, intercept=10.898842177215181, rvalue=-0.20184445719656016, pvalue=0.5292860355822409, stderr=0.011543225461729825),\n",
              " LinregressResult(slope=-0.017912441701716218, intercept=25.501086161466937, rvalue=-0.3605214991931016, pvalue=0.24963434703078372, stderr=0.014655117341379927),\n",
              " LinregressResult(slope=0.02750914209377255, intercept=2.5676921784740605, rvalue=0.6141168785163399, pvalue=0.03363711944066454, stderr=0.011179474604246993),\n",
              " LinregressResult(slope=-0.01572605771506891, intercept=13.925339335589957, rvalue=-0.44403068134477286, pvalue=0.14815884437335503, stderr=0.010035072365258527),\n",
              " LinregressResult(slope=-0.012199560948205805, intercept=12.944569337463236, rvalue=-0.3247176015695768, pvalue=0.3030990822158848, stderr=0.011236802270799847),\n",
              " LinregressResult(slope=0.012057660442688958, intercept=-1.3131587288266768, rvalue=0.5300591226590762, pvalue=0.07628562223881334, stderr=0.006099783966523114),\n",
              " LinregressResult(slope=0.021903512278758103, intercept=2.337691121441666, rvalue=0.6227416792751793, pvalue=0.030549867386606103, stderr=0.008702618311345611),\n",
              " LinregressResult(slope=-0.022772761566530405, intercept=12.563149542434697, rvalue=-0.22560938994632268, pvalue=0.4807847029920369, stderr=0.03109672169018631),\n",
              " LinregressResult(slope=0.00880433908988215, intercept=5.173641554785889, rvalue=0.36734502570342903, pvalue=0.37068265574829445, stderr=0.009100588829705688)]"
            ]
          },
          "metadata": {
            "tags": []
          },
          "execution_count": 209
        }
      ]
    },
    {
      "cell_type": "code",
      "metadata": {
        "id": "vdCcFjV646Bv",
        "colab_type": "code",
        "colab": {
          "base_uri": "https://localhost:8080/",
          "height": 230
        },
        "outputId": "8f412ffe-5b05-4ad1-e43f-a604908cf1ad"
      },
      "source": [
        "# 오직 서울로만 비교했을때 \n",
        "result_woman_seoul = cor_with_categories(woman_only_seoul)\n",
        "result_woman_seoul #건강기능 0.53 주방 0.48"
      ],
      "execution_count": null,
      "outputs": [
        {
          "output_type": "stream",
          "text": [
            "침구,가구,건강기능,농수축,생활용품,속옷,의류,이미용,잡화,주방,침구\n"
          ],
          "name": "stdout"
        },
        {
          "output_type": "execute_result",
          "data": {
            "text/plain": [
              "[LinregressResult(slope=0.0032316759324689656, intercept=1.4039189567194463, rvalue=0.3861113317610663, pvalue=0.3447759868138968, stderr=0.0031519803143007985),\n",
              " LinregressResult(slope=-0.07915100193867035, intercept=3.8330082699851324, rvalue=-0.33484707386194057, pvalue=0.31414837319580186, stderr=0.07424464992790329),\n",
              " LinregressResult(slope=-0.002345178091079644, intercept=3.243945197699102, rvalue=-0.19823132024004453, pvalue=0.5368376713761661, stderr=0.0036668946431243554),\n",
              " LinregressResult(slope=-0.006488976564685827, intercept=8.671733214244917, rvalue=-0.41144170230433913, pvalue=0.18390365044627144, stderr=0.004545630322351704),\n",
              " LinregressResult(slope=0.009169568632687851, intercept=0.5258855779389313, rvalue=0.6448795672846576, pvalue=0.023563916404758408, stderr=0.003436569823692135),\n",
              " LinregressResult(slope=-0.004958958440538114, intercept=4.208103528795801, rvalue=-0.44110228470686347, pvalue=0.15117217550457696, stderr=0.0031905439532368064),\n",
              " LinregressResult(slope=-0.0037980629036226, intercept=3.8796972219859462, rvalue=-0.31847805097652304, pvalue=0.3130210576008246, stderr=0.0035748598667687363),\n",
              " LinregressResult(slope=0.003774774658284107, intercept=-0.5755555059124289, rvalue=0.5227668243798278, pvalue=0.0811864138238446, stderr=0.0019465476018563764),\n",
              " LinregressResult(slope=0.007073542365435841, intercept=0.509776101521122, rvalue=0.6335586955411523, pvalue=0.026972713667191336, stderr=0.00273161623455546),\n",
              " LinregressResult(slope=-0.007720850754552018, intercept=3.882753494168651, rvalue=-0.2409696538163815, pvalue=0.4505670051188416, stderr=0.009833609413097931),\n",
              " LinregressResult(slope=0.0032316759324689656, intercept=1.4039189567194463, rvalue=0.3861113317610663, pvalue=0.3447759868138968, stderr=0.0031519803143007985)]"
            ]
          },
          "metadata": {
            "tags": []
          },
          "execution_count": 210
        }
      ]
    },
    {
      "cell_type": "markdown",
      "metadata": {
        "id": "r_CltMHpaCDs",
        "colab_type": "text"
      },
      "source": [
        "#여성:남성 비율 조정해서 곱해보기\n",
        "홈쇼핑 이용성비 8:2정도라면 반영해보기"
      ]
    },
    {
      "cell_type": "code",
      "metadata": {
        "id": "REE5IiwW3uTb",
        "colab_type": "code",
        "colab": {
          "base_uri": "https://localhost:8080/",
          "height": 444
        },
        "outputId": "b5e3270d-6845-480d-9412-8a6219d55d67"
      },
      "source": [
        "population_only_man,population_only_woman"
      ],
      "execution_count": null,
      "outputs": [
        {
          "output_type": "execute_result",
          "data": {
            "text/plain": [
              "(  행정구역(시군구)별  1월남자인구비율  2월남자인구비율  ...  10월남자인구비율  11월남자인구비율  12월남자인구비율\n",
              " 0      서울특별시  0.092093  0.092108  ...   0.091634   0.091587   0.091538\n",
              " 1      부산광역시  0.032619  0.032595  ...   0.032384   0.032361   0.032328\n",
              " 2      울산광역시  0.011450  0.011439  ...   0.011391   0.011386   0.011379\n",
              " 3        경기남  0.063527  0.063598  ...   0.064161   0.064201   0.064253\n",
              " 4        경기북  0.063527  0.063598  ...   0.064161   0.064201   0.064253\n",
              " 5        강원도  0.014967  0.014954  ...   0.014951   0.014959   0.014961\n",
              " 6      광주광역시  0.013949  0.013944  ...   0.013940   0.013934   0.013907\n",
              " 7      대구광역시  0.023511  0.023486  ...   0.023317   0.023295   0.023256\n",
              " 8      대전광역시  0.014353  0.014339  ...   0.014248   0.014232   0.014213\n",
              " \n",
              " [9 rows x 13 columns],\n",
              "   행정구역(시군구)별   1월여자인구수   2월여자인구수  ...  10월여자인구수  11월여자인구수  12월여자인구수\n",
              " 0      서울특별시  0.096350  0.096419  ...  0.096230  0.096205  0.096188\n",
              " 1      부산광역시  0.033723  0.033708  ...  0.033583  0.033565  0.033543\n",
              " 2      울산광역시  0.010831  0.010822  ...  0.010788  0.010783  0.010773\n",
              " 3        경기남  0.062767  0.062831  ...  0.063370  0.063420  0.063478\n",
              " 4        경기북  0.062767  0.062831  ...  0.063370  0.063420  0.063478\n",
              " 5        강원도  0.014780  0.014770  ...  0.014781  0.014783  0.014782\n",
              " 6      광주광역시  0.014219  0.014211  ...  0.014219  0.014216  0.014196\n",
              " 7      대구광역시  0.023963  0.023944  ...  0.023832  0.023815  0.023786\n",
              " 8      대전광역시  0.014373  0.014365  ...  0.014279  0.014266  0.014245\n",
              " \n",
              " [9 rows x 13 columns])"
            ]
          },
          "metadata": {
            "tags": []
          },
          "execution_count": 113
        }
      ]
    },
    {
      "cell_type": "code",
      "metadata": {
        "id": "Io4m_P15GNUV",
        "colab_type": "code",
        "colab": {
          "base_uri": "https://localhost:8080/",
          "height": 374
        },
        "outputId": "401cb84d-be2e-46cf-d8cb-c99e89488b04"
      },
      "source": [
        "population_man_df = population_only_man.set_index('행정구역(시군구)별')\n",
        "population_man_df"
      ],
      "execution_count": null,
      "outputs": [
        {
          "output_type": "execute_result",
          "data": {
            "text/html": [
              "<div>\n",
              "<style scoped>\n",
              "    .dataframe tbody tr th:only-of-type {\n",
              "        vertical-align: middle;\n",
              "    }\n",
              "\n",
              "    .dataframe tbody tr th {\n",
              "        vertical-align: top;\n",
              "    }\n",
              "\n",
              "    .dataframe thead th {\n",
              "        text-align: right;\n",
              "    }\n",
              "</style>\n",
              "<table border=\"1\" class=\"dataframe\">\n",
              "  <thead>\n",
              "    <tr style=\"text-align: right;\">\n",
              "      <th></th>\n",
              "      <th>1월남자인구비율</th>\n",
              "      <th>2월남자인구비율</th>\n",
              "      <th>3월남자인구비율</th>\n",
              "      <th>4월남자인구비율</th>\n",
              "      <th>5월남자인구비율</th>\n",
              "      <th>6월남자인구비율</th>\n",
              "      <th>7월남자인구비율</th>\n",
              "      <th>8월남자인구비율</th>\n",
              "      <th>9월남자인구비율</th>\n",
              "      <th>10월남자인구비율</th>\n",
              "      <th>11월남자인구비율</th>\n",
              "      <th>12월남자인구비율</th>\n",
              "    </tr>\n",
              "    <tr>\n",
              "      <th>행정구역(시군구)별</th>\n",
              "      <th></th>\n",
              "      <th></th>\n",
              "      <th></th>\n",
              "      <th></th>\n",
              "      <th></th>\n",
              "      <th></th>\n",
              "      <th></th>\n",
              "      <th></th>\n",
              "      <th></th>\n",
              "      <th></th>\n",
              "      <th></th>\n",
              "      <th></th>\n",
              "    </tr>\n",
              "  </thead>\n",
              "  <tbody>\n",
              "    <tr>\n",
              "      <th>서울특별시</th>\n",
              "      <td>0.092093</td>\n",
              "      <td>0.092108</td>\n",
              "      <td>0.092079</td>\n",
              "      <td>0.092028</td>\n",
              "      <td>0.091963</td>\n",
              "      <td>0.091898</td>\n",
              "      <td>0.091828</td>\n",
              "      <td>0.091749</td>\n",
              "      <td>0.091685</td>\n",
              "      <td>0.091634</td>\n",
              "      <td>0.091587</td>\n",
              "      <td>0.091538</td>\n",
              "    </tr>\n",
              "    <tr>\n",
              "      <th>부산광역시</th>\n",
              "      <td>0.032619</td>\n",
              "      <td>0.032595</td>\n",
              "      <td>0.032566</td>\n",
              "      <td>0.032536</td>\n",
              "      <td>0.032508</td>\n",
              "      <td>0.032485</td>\n",
              "      <td>0.032459</td>\n",
              "      <td>0.032436</td>\n",
              "      <td>0.032414</td>\n",
              "      <td>0.032384</td>\n",
              "      <td>0.032361</td>\n",
              "      <td>0.032328</td>\n",
              "    </tr>\n",
              "    <tr>\n",
              "      <th>울산광역시</th>\n",
              "      <td>0.011450</td>\n",
              "      <td>0.011439</td>\n",
              "      <td>0.011430</td>\n",
              "      <td>0.011423</td>\n",
              "      <td>0.011417</td>\n",
              "      <td>0.011412</td>\n",
              "      <td>0.011407</td>\n",
              "      <td>0.011401</td>\n",
              "      <td>0.011396</td>\n",
              "      <td>0.011391</td>\n",
              "      <td>0.011386</td>\n",
              "      <td>0.011379</td>\n",
              "    </tr>\n",
              "    <tr>\n",
              "      <th>경기남</th>\n",
              "      <td>0.063527</td>\n",
              "      <td>0.063598</td>\n",
              "      <td>0.063659</td>\n",
              "      <td>0.063724</td>\n",
              "      <td>0.063804</td>\n",
              "      <td>0.063872</td>\n",
              "      <td>0.063955</td>\n",
              "      <td>0.064042</td>\n",
              "      <td>0.064107</td>\n",
              "      <td>0.064161</td>\n",
              "      <td>0.064201</td>\n",
              "      <td>0.064253</td>\n",
              "    </tr>\n",
              "    <tr>\n",
              "      <th>경기북</th>\n",
              "      <td>0.063527</td>\n",
              "      <td>0.063598</td>\n",
              "      <td>0.063659</td>\n",
              "      <td>0.063724</td>\n",
              "      <td>0.063804</td>\n",
              "      <td>0.063872</td>\n",
              "      <td>0.063955</td>\n",
              "      <td>0.064042</td>\n",
              "      <td>0.064107</td>\n",
              "      <td>0.064161</td>\n",
              "      <td>0.064201</td>\n",
              "      <td>0.064253</td>\n",
              "    </tr>\n",
              "    <tr>\n",
              "      <th>강원도</th>\n",
              "      <td>0.014967</td>\n",
              "      <td>0.014954</td>\n",
              "      <td>0.014954</td>\n",
              "      <td>0.014954</td>\n",
              "      <td>0.014952</td>\n",
              "      <td>0.014952</td>\n",
              "      <td>0.014950</td>\n",
              "      <td>0.014950</td>\n",
              "      <td>0.014948</td>\n",
              "      <td>0.014951</td>\n",
              "      <td>0.014959</td>\n",
              "      <td>0.014961</td>\n",
              "    </tr>\n",
              "    <tr>\n",
              "      <th>광주광역시</th>\n",
              "      <td>0.013949</td>\n",
              "      <td>0.013944</td>\n",
              "      <td>0.013941</td>\n",
              "      <td>0.013941</td>\n",
              "      <td>0.013941</td>\n",
              "      <td>0.013942</td>\n",
              "      <td>0.013947</td>\n",
              "      <td>0.013943</td>\n",
              "      <td>0.013943</td>\n",
              "      <td>0.013940</td>\n",
              "      <td>0.013934</td>\n",
              "      <td>0.013907</td>\n",
              "    </tr>\n",
              "    <tr>\n",
              "      <th>대구광역시</th>\n",
              "      <td>0.023511</td>\n",
              "      <td>0.023486</td>\n",
              "      <td>0.023458</td>\n",
              "      <td>0.023437</td>\n",
              "      <td>0.023415</td>\n",
              "      <td>0.023394</td>\n",
              "      <td>0.023375</td>\n",
              "      <td>0.023356</td>\n",
              "      <td>0.023339</td>\n",
              "      <td>0.023317</td>\n",
              "      <td>0.023295</td>\n",
              "      <td>0.023256</td>\n",
              "    </tr>\n",
              "    <tr>\n",
              "      <th>대전광역시</th>\n",
              "      <td>0.014353</td>\n",
              "      <td>0.014339</td>\n",
              "      <td>0.014330</td>\n",
              "      <td>0.014319</td>\n",
              "      <td>0.014307</td>\n",
              "      <td>0.014295</td>\n",
              "      <td>0.014283</td>\n",
              "      <td>0.014271</td>\n",
              "      <td>0.014261</td>\n",
              "      <td>0.014248</td>\n",
              "      <td>0.014232</td>\n",
              "      <td>0.014213</td>\n",
              "    </tr>\n",
              "  </tbody>\n",
              "</table>\n",
              "</div>"
            ],
            "text/plain": [
              "            1월남자인구비율  2월남자인구비율  3월남자인구비율  ...  10월남자인구비율  11월남자인구비율  12월남자인구비율\n",
              "행정구역(시군구)별                                ...                                 \n",
              "서울특별시       0.092093  0.092108  0.092079  ...   0.091634   0.091587   0.091538\n",
              "부산광역시       0.032619  0.032595  0.032566  ...   0.032384   0.032361   0.032328\n",
              "울산광역시       0.011450  0.011439  0.011430  ...   0.011391   0.011386   0.011379\n",
              "경기남         0.063527  0.063598  0.063659  ...   0.064161   0.064201   0.064253\n",
              "경기북         0.063527  0.063598  0.063659  ...   0.064161   0.064201   0.064253\n",
              "강원도         0.014967  0.014954  0.014954  ...   0.014951   0.014959   0.014961\n",
              "광주광역시       0.013949  0.013944  0.013941  ...   0.013940   0.013934   0.013907\n",
              "대구광역시       0.023511  0.023486  0.023458  ...   0.023317   0.023295   0.023256\n",
              "대전광역시       0.014353  0.014339  0.014330  ...   0.014248   0.014232   0.014213\n",
              "\n",
              "[9 rows x 12 columns]"
            ]
          },
          "metadata": {
            "tags": []
          },
          "execution_count": 114
        }
      ]
    },
    {
      "cell_type": "code",
      "metadata": {
        "id": "4Qr-FNUvGNeN",
        "colab_type": "code",
        "colab": {
          "base_uri": "https://localhost:8080/",
          "height": 340
        },
        "outputId": "375dc1b3-22da-42e4-f8a4-d1243a9ef9b3"
      },
      "source": [
        "mix_weighted_munji = 0.2*weighted_munji(munji_df,population_man_df) + 0.8*weighted_munji(munji_df,population_woman_df)\n",
        "mix_weighted_munji"
      ],
      "execution_count": null,
      "outputs": [
        {
          "output_type": "execute_result",
          "data": {
            "text/html": [
              "<div>\n",
              "<style scoped>\n",
              "    .dataframe tbody tr th:only-of-type {\n",
              "        vertical-align: middle;\n",
              "    }\n",
              "\n",
              "    .dataframe tbody tr th {\n",
              "        vertical-align: top;\n",
              "    }\n",
              "\n",
              "    .dataframe thead th {\n",
              "        text-align: right;\n",
              "    }\n",
              "</style>\n",
              "<table border=\"1\" class=\"dataframe\">\n",
              "  <thead>\n",
              "    <tr style=\"text-align: right;\">\n",
              "      <th></th>\n",
              "      <th>2019. 01</th>\n",
              "      <th>2019. 02</th>\n",
              "      <th>2019. 03</th>\n",
              "      <th>2019. 04</th>\n",
              "      <th>2019. 05</th>\n",
              "      <th>2019. 06</th>\n",
              "      <th>2019. 07</th>\n",
              "      <th>2019. 08</th>\n",
              "      <th>2019. 09</th>\n",
              "      <th>2019. 10</th>\n",
              "      <th>2019. 11</th>\n",
              "      <th>2019. 12</th>\n",
              "    </tr>\n",
              "    <tr>\n",
              "      <th>지역날짜</th>\n",
              "      <th></th>\n",
              "      <th></th>\n",
              "      <th></th>\n",
              "      <th></th>\n",
              "      <th></th>\n",
              "      <th></th>\n",
              "      <th></th>\n",
              "      <th></th>\n",
              "      <th></th>\n",
              "      <th></th>\n",
              "      <th></th>\n",
              "      <th></th>\n",
              "    </tr>\n",
              "  </thead>\n",
              "  <tbody>\n",
              "    <tr>\n",
              "      <th>서울</th>\n",
              "      <td>3.628946</td>\n",
              "      <td>3.344483</td>\n",
              "      <td>4.300523</td>\n",
              "      <td>2.006478</td>\n",
              "      <td>2.769829</td>\n",
              "      <td>1.909490</td>\n",
              "      <td>1.813128</td>\n",
              "      <td>1.525994</td>\n",
              "      <td>1.144122</td>\n",
              "      <td>1.429660</td>\n",
              "      <td>1.905628</td>\n",
              "      <td>2.667214</td>\n",
              "    </tr>\n",
              "    <tr>\n",
              "      <th>부산</th>\n",
              "      <td>0.971562</td>\n",
              "      <td>0.971081</td>\n",
              "      <td>1.004084</td>\n",
              "      <td>0.669027</td>\n",
              "      <td>0.835870</td>\n",
              "      <td>0.701785</td>\n",
              "      <td>0.601176</td>\n",
              "      <td>0.634219</td>\n",
              "      <td>0.433765</td>\n",
              "      <td>0.433468</td>\n",
              "      <td>0.566514</td>\n",
              "      <td>0.765903</td>\n",
              "    </tr>\n",
              "    <tr>\n",
              "      <th>울산</th>\n",
              "      <td>0.284835</td>\n",
              "      <td>0.284589</td>\n",
              "      <td>0.317172</td>\n",
              "      <td>0.207725</td>\n",
              "      <td>0.284116</td>\n",
              "      <td>0.240337</td>\n",
              "      <td>0.207507</td>\n",
              "      <td>0.196476</td>\n",
              "      <td>0.141856</td>\n",
              "      <td>0.119989</td>\n",
              "      <td>0.163550</td>\n",
              "      <td>0.217877</td>\n",
              "    </tr>\n",
              "    <tr>\n",
              "      <th>수원(경기)</th>\n",
              "      <td>2.516746</td>\n",
              "      <td>2.267440</td>\n",
              "      <td>2.899827</td>\n",
              "      <td>1.262008</td>\n",
              "      <td>1.832089</td>\n",
              "      <td>1.201568</td>\n",
              "      <td>1.139771</td>\n",
              "      <td>1.141328</td>\n",
              "      <td>0.825111</td>\n",
              "      <td>1.016450</td>\n",
              "      <td>1.335093</td>\n",
              "      <td>1.845360</td>\n",
              "    </tr>\n",
              "    <tr>\n",
              "      <th>파주(경기)</th>\n",
              "      <td>2.957177</td>\n",
              "      <td>2.456393</td>\n",
              "      <td>3.088946</td>\n",
              "      <td>1.388209</td>\n",
              "      <td>1.832089</td>\n",
              "      <td>1.138328</td>\n",
              "      <td>1.203092</td>\n",
              "      <td>1.141328</td>\n",
              "      <td>0.952051</td>\n",
              "      <td>1.270563</td>\n",
              "      <td>1.716548</td>\n",
              "      <td>2.227159</td>\n",
              "    </tr>\n",
              "    <tr>\n",
              "      <th>강릉(강원)</th>\n",
              "      <td>0.340806</td>\n",
              "      <td>0.370161</td>\n",
              "      <td>0.473818</td>\n",
              "      <td>0.236987</td>\n",
              "      <td>0.311059</td>\n",
              "      <td>0.237016</td>\n",
              "      <td>0.207382</td>\n",
              "      <td>0.177767</td>\n",
              "      <td>0.148140</td>\n",
              "      <td>0.192596</td>\n",
              "      <td>0.222272</td>\n",
              "      <td>0.251909</td>\n",
              "    </tr>\n",
              "    <tr>\n",
              "      <th>광주</th>\n",
              "      <td>0.467448</td>\n",
              "      <td>0.481370</td>\n",
              "      <td>0.552072</td>\n",
              "      <td>0.283121</td>\n",
              "      <td>0.311445</td>\n",
              "      <td>0.353915</td>\n",
              "      <td>0.240736</td>\n",
              "      <td>0.240761</td>\n",
              "      <td>0.212483</td>\n",
              "      <td>0.254935</td>\n",
              "      <td>0.297348</td>\n",
              "      <td>0.311040</td>\n",
              "    </tr>\n",
              "    <tr>\n",
              "      <th>대구</th>\n",
              "      <td>0.787790</td>\n",
              "      <td>0.763279</td>\n",
              "      <td>0.786513</td>\n",
              "      <td>0.452594</td>\n",
              "      <td>0.547520</td>\n",
              "      <td>0.475787</td>\n",
              "      <td>0.380370</td>\n",
              "      <td>0.380073</td>\n",
              "      <td>0.308650</td>\n",
              "      <td>0.332200</td>\n",
              "      <td>0.497939</td>\n",
              "      <td>0.686724</td>\n",
              "    </tr>\n",
              "    <tr>\n",
              "      <th>대전</th>\n",
              "      <td>0.502900</td>\n",
              "      <td>0.516944</td>\n",
              "      <td>0.559667</td>\n",
              "      <td>0.243767</td>\n",
              "      <td>0.315237</td>\n",
              "      <td>0.257655</td>\n",
              "      <td>0.200229</td>\n",
              "      <td>0.214368</td>\n",
              "      <td>0.171399</td>\n",
              "      <td>0.214093</td>\n",
              "      <td>0.299443</td>\n",
              "      <td>0.355964</td>\n",
              "    </tr>\n",
              "  </tbody>\n",
              "</table>\n",
              "</div>"
            ],
            "text/plain": [
              "        2019. 01  2019. 02  2019. 03  ...  2019. 10  2019. 11  2019. 12\n",
              "지역날짜                                  ...                              \n",
              "서울      3.628946  3.344483  4.300523  ...  1.429660  1.905628  2.667214\n",
              "부산      0.971562  0.971081  1.004084  ...  0.433468  0.566514  0.765903\n",
              "울산      0.284835  0.284589  0.317172  ...  0.119989  0.163550  0.217877\n",
              "수원(경기)  2.516746  2.267440  2.899827  ...  1.016450  1.335093  1.845360\n",
              "파주(경기)  2.957177  2.456393  3.088946  ...  1.270563  1.716548  2.227159\n",
              "강릉(강원)  0.340806  0.370161  0.473818  ...  0.192596  0.222272  0.251909\n",
              "광주      0.467448  0.481370  0.552072  ...  0.254935  0.297348  0.311040\n",
              "대구      0.787790  0.763279  0.786513  ...  0.332200  0.497939  0.686724\n",
              "대전      0.502900  0.516944  0.559667  ...  0.214093  0.299443  0.355964\n",
              "\n",
              "[9 rows x 12 columns]"
            ]
          },
          "metadata": {
            "tags": []
          },
          "execution_count": 117
        }
      ]
    },
    {
      "cell_type": "code",
      "metadata": {
        "id": "ANGNSQxkNru1",
        "colab_type": "code",
        "colab": {
          "base_uri": "https://localhost:8080/",
          "height": 248
        },
        "outputId": "6ba27aec-ccac-4b0c-92f1-3ad1994e6d34"
      },
      "source": [
        "mix_weighted_df = mix_weighted_munji.sum()\n",
        "mix_weighted_df"
      ],
      "execution_count": null,
      "outputs": [
        {
          "output_type": "execute_result",
          "data": {
            "text/plain": [
              "2019. 01    12.458211\n",
              "2019. 02    11.455741\n",
              "2019. 03    13.982621\n",
              "2019. 04     6.749916\n",
              "2019. 05     9.039254\n",
              "2019. 06     6.515881\n",
              "2019. 07     5.993392\n",
              "2019. 08     5.652313\n",
              "2019. 09     4.337577\n",
              "2019. 10     5.263954\n",
              "2019. 11     7.004334\n",
              "2019. 12     9.329150\n",
              "dtype: float64"
            ]
          },
          "metadata": {
            "tags": []
          },
          "execution_count": 116
        }
      ]
    },
    {
      "cell_type": "code",
      "metadata": {
        "id": "P_eBivX_-yUl",
        "colab_type": "code",
        "colab": {
          "base_uri": "https://localhost:8080/",
          "height": 248
        },
        "outputId": "80f31dfa-b936-4ca2-a71d-4c9ac51c7d59"
      },
      "source": [
        "mix_weighted_seoul  = mix_weighted_munji[mix_weighted_munji.index=='서울']\n",
        "mix_weighted_seoul = mix_weighted_seoul.transpose()\n",
        "mix_weighted_seoul = mix_weighted_seoul.squeeze()\n",
        "mix_weighted_seoul"
      ],
      "execution_count": null,
      "outputs": [
        {
          "output_type": "execute_result",
          "data": {
            "text/plain": [
              "2019. 01    3.628946\n",
              "2019. 02    3.344483\n",
              "2019. 03    4.300523\n",
              "2019. 04    2.006478\n",
              "2019. 05    2.769829\n",
              "2019. 06    1.909490\n",
              "2019. 07    1.813128\n",
              "2019. 08    1.525994\n",
              "2019. 09    1.144122\n",
              "2019. 10    1.429660\n",
              "2019. 11    1.905628\n",
              "2019. 12    2.667214\n",
              "Name: 서울, dtype: float64"
            ]
          },
          "metadata": {
            "tags": []
          },
          "execution_count": 135
        }
      ]
    },
    {
      "cell_type": "code",
      "metadata": {
        "id": "5Zt-9nrVIDEh",
        "colab_type": "code",
        "colab": {
          "base_uri": "https://localhost:8080/",
          "height": 230
        },
        "outputId": "e6bf8060-6d70-440d-b9e3-e0eadee18322"
      },
      "source": [
        "result_mix_df = cor_with_categories(mix_weighted_df)\n",
        "result_mix_df # 여성쪽으로만 한게 더 낫다."
      ],
      "execution_count": null,
      "outputs": [
        {
          "output_type": "stream",
          "text": [
            "침구,가구,건강기능,농수축,생활용품,속옷,의류,이미용,잡화,주방,침구\n"
          ],
          "name": "stdout"
        },
        {
          "output_type": "execute_result",
          "data": {
            "text/plain": [
              "[LinregressResult(slope=0.00877448510539189, intercept=5.162280059006799, rvalue=0.3670465612788798, pvalue=0.371101539950457, stderr=0.00907825529099584),\n",
              " LinregressResult(slope=-0.23533624644352905, intercept=12.382631406687025, rvalue=-0.32206214741838224, pvalue=0.3341096551450621, stderr=0.23059440219362096),\n",
              " LinregressResult(slope=-0.007514238250508664, intercept=10.876603124688604, rvalue=-0.20204623253717008, pvalue=0.528865659412624, stderr=0.011518174525141886),\n",
              " LinregressResult(slope=-0.017876961342012793, intercept=25.447600623537102, rvalue=-0.3605746197732632, pvalue=0.24955945241775213, stderr=0.014623612303250376),\n",
              " LinregressResult(slope=0.027448343173070072, intercept=2.5609167960682013, rvalue=0.6140662051291463, pvalue=0.033655892297022566, stderr=0.011156244281990892),\n",
              " LinregressResult(slope=-0.01569393852646327, intercept=13.894427674375956, rvalue=-0.4440686726813979, pvalue=0.14812000630336605, stderr=0.010013509353091239),\n",
              " LinregressResult(slope=-0.01217841267686884, intercept=12.91713635715606, rvalue=-0.3248459007102071, pvalue=0.3028969300660898, stderr=0.011212370325622462),\n",
              " LinregressResult(slope=0.012029812798384084, intercept=-1.3104144683267709, rvalue=0.5299625826207941, pvalue=0.07634914617742358, stderr=0.00608723799437375),\n",
              " LinregressResult(slope=0.021853242769002645, intercept=2.331919086510335, rvalue=0.622637305580743, pvalue=0.030585960882027002, stderr=0.008685022794880487),\n",
              " LinregressResult(slope=-0.022744677738778404, intercept=12.538576848082846, rvalue=-0.22581164512218713, pvalue=0.48038090392112487, stderr=0.03102906161080599),\n",
              " LinregressResult(slope=0.00877448510539189, intercept=5.162280059006799, rvalue=0.3670465612788798, pvalue=0.371101539950457, stderr=0.00907825529099584)]"
            ]
          },
          "metadata": {
            "tags": []
          },
          "execution_count": 127
        }
      ]
    },
    {
      "cell_type": "code",
      "metadata": {
        "id": "fXz5XKuU_XQX",
        "colab_type": "code",
        "colab": {
          "base_uri": "https://localhost:8080/",
          "height": 230
        },
        "outputId": "6be7069d-8ac2-45bb-8037-689e23e6f653"
      },
      "source": [
        "result_mix_seoul = cor_with_categories(mix_weighted_seoul)\n",
        "result_mix_seoul # 상관성이 도리어 떨어짐(단, 의류는 조금 오름. 남녀옷을 같이 팔아서 그런걸까?)"
      ],
      "execution_count": null,
      "outputs": [
        {
          "output_type": "stream",
          "text": [
            "침구,가구,건강기능,농수축,생활용품,속옷,의류,이미용,잡화,주방,침구\n"
          ],
          "name": "stdout"
        },
        {
          "output_type": "execute_result",
          "data": {
            "text/plain": [
              "[LinregressResult(slope=0.003202273442169263, intercept=1.3906820728986888, rvalue=0.3860434803190609, pvalue=0.34486810864376116, stderr=0.0031239480350988514),\n",
              " LinregressResult(slope=-0.07837013272596867, intercept=3.796534204585566, rvalue=-0.3344968921419924, pvalue=0.3146863353936601, stderr=0.07359885668122389),\n",
              " LinregressResult(slope=-0.002328717257212445, intercept=3.2159082022947807, rvalue=-0.19856972473772397, pvalue=0.5361284621801666, stderr=0.003634697328655084),\n",
              " LinregressResult(slope=-0.006438288895703058, intercept=8.600623247894575, rvalue=-0.4118152166169752, pvalue=0.1834662330100632, stderr=0.004505198098090036),\n",
              " LinregressResult(slope=0.009092198537785688, intercept=0.5195748513300831, rvalue=0.6450575292432051, pvalue=0.023512968597822, stderr=0.00340596351022419),\n",
              " LinregressResult(slope=-0.004916403026973366, intercept=4.170462224586856, rvalue=-0.4411600152696687, pvalue=0.15111239493989476, stderr=0.0031626502899769256),\n",
              " LinregressResult(slope=-0.0037665005342662, intercept=3.8452777636103583, rvalue=-0.3186069271411998, pvalue=0.3128143269682038, stderr=0.003543556428165379),\n",
              " LinregressResult(slope=0.003740047776994116, intercept=-0.5703108673444239, rvalue=0.5225092283263568, pvalue=0.08136335046316036, stderr=0.0019299481572422489),\n",
              " LinregressResult(slope=0.0070107015799051745, intercept=0.5044414143680456, rvalue=0.6334483441348071, pvalue=0.027007598608441253, stderr=0.002708136629155416),\n",
              " LinregressResult(slope=-0.007668714721471097, intercept=3.850629670567592, rvalue=-0.24144577236902967, pvalue=0.44964510226290233, stderr=0.009746757708890625),\n",
              " LinregressResult(slope=0.003202273442169263, intercept=1.3906820728986888, rvalue=0.3860434803190609, pvalue=0.34486810864376116, stderr=0.0031239480350988514)]"
            ]
          },
          "metadata": {
            "tags": []
          },
          "execution_count": 136
        }
      ]
    },
    {
      "cell_type": "code",
      "metadata": {
        "id": "ExTH_FXGIDAH",
        "colab_type": "code",
        "colab": {
          "base_uri": "https://localhost:8080/",
          "height": 347
        },
        "outputId": "1368ccf3-3eff-429b-de62-6e896fffbda2"
      },
      "source": [
        "population_woman_df"
      ],
      "execution_count": null,
      "outputs": [
        {
          "output_type": "execute_result",
          "data": {
            "text/html": [
              "<div>\n",
              "<style scoped>\n",
              "    .dataframe tbody tr th:only-of-type {\n",
              "        vertical-align: middle;\n",
              "    }\n",
              "\n",
              "    .dataframe tbody tr th {\n",
              "        vertical-align: top;\n",
              "    }\n",
              "\n",
              "    .dataframe thead th {\n",
              "        text-align: right;\n",
              "    }\n",
              "</style>\n",
              "<table border=\"1\" class=\"dataframe\">\n",
              "  <thead>\n",
              "    <tr style=\"text-align: right;\">\n",
              "      <th></th>\n",
              "      <th>1월여자인구수</th>\n",
              "      <th>2월여자인구수</th>\n",
              "      <th>3월여자인구수</th>\n",
              "      <th>4월여자인구수</th>\n",
              "      <th>5월여자인구수</th>\n",
              "      <th>6월여자인구수</th>\n",
              "      <th>7월여자인구수</th>\n",
              "      <th>8월여자인구수</th>\n",
              "      <th>9월여자인구수</th>\n",
              "      <th>10월여자인구수</th>\n",
              "      <th>11월여자인구수</th>\n",
              "      <th>12월여자인구수</th>\n",
              "    </tr>\n",
              "    <tr>\n",
              "      <th>행정구역(시군구)별</th>\n",
              "      <th></th>\n",
              "      <th></th>\n",
              "      <th></th>\n",
              "      <th></th>\n",
              "      <th></th>\n",
              "      <th></th>\n",
              "      <th></th>\n",
              "      <th></th>\n",
              "      <th></th>\n",
              "      <th></th>\n",
              "      <th></th>\n",
              "      <th></th>\n",
              "    </tr>\n",
              "  </thead>\n",
              "  <tbody>\n",
              "    <tr>\n",
              "      <th>서울특별시</th>\n",
              "      <td>0.096350</td>\n",
              "      <td>0.096419</td>\n",
              "      <td>0.096439</td>\n",
              "      <td>0.096426</td>\n",
              "      <td>0.096399</td>\n",
              "      <td>0.096369</td>\n",
              "      <td>0.096328</td>\n",
              "      <td>0.096281</td>\n",
              "      <td>0.096258</td>\n",
              "      <td>0.096230</td>\n",
              "      <td>0.096205</td>\n",
              "      <td>0.096188</td>\n",
              "    </tr>\n",
              "    <tr>\n",
              "      <th>부산광역시</th>\n",
              "      <td>0.033723</td>\n",
              "      <td>0.033708</td>\n",
              "      <td>0.033695</td>\n",
              "      <td>0.033680</td>\n",
              "      <td>0.033666</td>\n",
              "      <td>0.033652</td>\n",
              "      <td>0.033634</td>\n",
              "      <td>0.033616</td>\n",
              "      <td>0.033605</td>\n",
              "      <td>0.033583</td>\n",
              "      <td>0.033565</td>\n",
              "      <td>0.033543</td>\n",
              "    </tr>\n",
              "    <tr>\n",
              "      <th>울산광역시</th>\n",
              "      <td>0.010831</td>\n",
              "      <td>0.010822</td>\n",
              "      <td>0.010814</td>\n",
              "      <td>0.010810</td>\n",
              "      <td>0.010805</td>\n",
              "      <td>0.010802</td>\n",
              "      <td>0.010800</td>\n",
              "      <td>0.010794</td>\n",
              "      <td>0.010791</td>\n",
              "      <td>0.010788</td>\n",
              "      <td>0.010783</td>\n",
              "      <td>0.010773</td>\n",
              "    </tr>\n",
              "    <tr>\n",
              "      <th>경기남</th>\n",
              "      <td>0.062767</td>\n",
              "      <td>0.062831</td>\n",
              "      <td>0.062885</td>\n",
              "      <td>0.062945</td>\n",
              "      <td>0.063018</td>\n",
              "      <td>0.063083</td>\n",
              "      <td>0.063162</td>\n",
              "      <td>0.063248</td>\n",
              "      <td>0.063311</td>\n",
              "      <td>0.063370</td>\n",
              "      <td>0.063420</td>\n",
              "      <td>0.063478</td>\n",
              "    </tr>\n",
              "    <tr>\n",
              "      <th>경기북</th>\n",
              "      <td>0.062767</td>\n",
              "      <td>0.062831</td>\n",
              "      <td>0.062885</td>\n",
              "      <td>0.062945</td>\n",
              "      <td>0.063018</td>\n",
              "      <td>0.063083</td>\n",
              "      <td>0.063162</td>\n",
              "      <td>0.063248</td>\n",
              "      <td>0.063311</td>\n",
              "      <td>0.063370</td>\n",
              "      <td>0.063420</td>\n",
              "      <td>0.063478</td>\n",
              "    </tr>\n",
              "    <tr>\n",
              "      <th>강원도</th>\n",
              "      <td>0.014780</td>\n",
              "      <td>0.014770</td>\n",
              "      <td>0.014770</td>\n",
              "      <td>0.014776</td>\n",
              "      <td>0.014777</td>\n",
              "      <td>0.014779</td>\n",
              "      <td>0.014779</td>\n",
              "      <td>0.014780</td>\n",
              "      <td>0.014780</td>\n",
              "      <td>0.014781</td>\n",
              "      <td>0.014783</td>\n",
              "      <td>0.014782</td>\n",
              "    </tr>\n",
              "    <tr>\n",
              "      <th>광주광역시</th>\n",
              "      <td>0.014219</td>\n",
              "      <td>0.014211</td>\n",
              "      <td>0.014209</td>\n",
              "      <td>0.014210</td>\n",
              "      <td>0.014210</td>\n",
              "      <td>0.014210</td>\n",
              "      <td>0.014215</td>\n",
              "      <td>0.014217</td>\n",
              "      <td>0.014221</td>\n",
              "      <td>0.014219</td>\n",
              "      <td>0.014216</td>\n",
              "      <td>0.014196</td>\n",
              "    </tr>\n",
              "    <tr>\n",
              "      <th>대구광역시</th>\n",
              "      <td>0.023963</td>\n",
              "      <td>0.023944</td>\n",
              "      <td>0.023928</td>\n",
              "      <td>0.023917</td>\n",
              "      <td>0.023903</td>\n",
              "      <td>0.023888</td>\n",
              "      <td>0.023873</td>\n",
              "      <td>0.023854</td>\n",
              "      <td>0.023843</td>\n",
              "      <td>0.023832</td>\n",
              "      <td>0.023815</td>\n",
              "      <td>0.023786</td>\n",
              "    </tr>\n",
              "    <tr>\n",
              "      <th>대전광역시</th>\n",
              "      <td>0.014373</td>\n",
              "      <td>0.014365</td>\n",
              "      <td>0.014356</td>\n",
              "      <td>0.014344</td>\n",
              "      <td>0.014334</td>\n",
              "      <td>0.014319</td>\n",
              "      <td>0.014307</td>\n",
              "      <td>0.014296</td>\n",
              "      <td>0.014289</td>\n",
              "      <td>0.014279</td>\n",
              "      <td>0.014266</td>\n",
              "      <td>0.014245</td>\n",
              "    </tr>\n",
              "  </tbody>\n",
              "</table>\n",
              "</div>"
            ],
            "text/plain": [
              "             1월여자인구수   2월여자인구수   3월여자인구수  ...  10월여자인구수  11월여자인구수  12월여자인구수\n",
              "행정구역(시군구)별                                ...                              \n",
              "서울특별시       0.096350  0.096419  0.096439  ...  0.096230  0.096205  0.096188\n",
              "부산광역시       0.033723  0.033708  0.033695  ...  0.033583  0.033565  0.033543\n",
              "울산광역시       0.010831  0.010822  0.010814  ...  0.010788  0.010783  0.010773\n",
              "경기남         0.062767  0.062831  0.062885  ...  0.063370  0.063420  0.063478\n",
              "경기북         0.062767  0.062831  0.062885  ...  0.063370  0.063420  0.063478\n",
              "강원도         0.014780  0.014770  0.014770  ...  0.014781  0.014783  0.014782\n",
              "광주광역시       0.014219  0.014211  0.014209  ...  0.014219  0.014216  0.014196\n",
              "대구광역시       0.023963  0.023944  0.023928  ...  0.023832  0.023815  0.023786\n",
              "대전광역시       0.014373  0.014365  0.014356  ...  0.014279  0.014266  0.014245\n",
              "\n",
              "[9 rows x 12 columns]"
            ]
          },
          "metadata": {
            "tags": []
          },
          "execution_count": 332
        }
      ]
    },
    {
      "cell_type": "markdown",
      "metadata": {
        "id": "NHg7MoIsCRT2",
        "colab_type": "text"
      },
      "source": [
        "# 미세먼지(수도권)"
      ]
    },
    {
      "cell_type": "code",
      "metadata": {
        "id": "yj0Ltf8rCf8s",
        "colab_type": "code",
        "colab": {
          "base_uri": "https://localhost:8080/",
          "height": 374
        },
        "outputId": "553e0725-71c3-40b2-e09c-aaf09acecd24"
      },
      "source": [
        "population_woman_df = population_only_woman.set_index('행정구역(시군구)별')\n",
        "population_woman_df"
      ],
      "execution_count": null,
      "outputs": [
        {
          "output_type": "execute_result",
          "data": {
            "text/html": [
              "<div>\n",
              "<style scoped>\n",
              "    .dataframe tbody tr th:only-of-type {\n",
              "        vertical-align: middle;\n",
              "    }\n",
              "\n",
              "    .dataframe tbody tr th {\n",
              "        vertical-align: top;\n",
              "    }\n",
              "\n",
              "    .dataframe thead th {\n",
              "        text-align: right;\n",
              "    }\n",
              "</style>\n",
              "<table border=\"1\" class=\"dataframe\">\n",
              "  <thead>\n",
              "    <tr style=\"text-align: right;\">\n",
              "      <th></th>\n",
              "      <th>1월여자인구수</th>\n",
              "      <th>2월여자인구수</th>\n",
              "      <th>3월여자인구수</th>\n",
              "      <th>4월여자인구수</th>\n",
              "      <th>5월여자인구수</th>\n",
              "      <th>6월여자인구수</th>\n",
              "      <th>7월여자인구수</th>\n",
              "      <th>8월여자인구수</th>\n",
              "      <th>9월여자인구수</th>\n",
              "      <th>10월여자인구수</th>\n",
              "      <th>11월여자인구수</th>\n",
              "      <th>12월여자인구수</th>\n",
              "    </tr>\n",
              "    <tr>\n",
              "      <th>행정구역(시군구)별</th>\n",
              "      <th></th>\n",
              "      <th></th>\n",
              "      <th></th>\n",
              "      <th></th>\n",
              "      <th></th>\n",
              "      <th></th>\n",
              "      <th></th>\n",
              "      <th></th>\n",
              "      <th></th>\n",
              "      <th></th>\n",
              "      <th></th>\n",
              "      <th></th>\n",
              "    </tr>\n",
              "  </thead>\n",
              "  <tbody>\n",
              "    <tr>\n",
              "      <th>서울특별시</th>\n",
              "      <td>0.096350</td>\n",
              "      <td>0.096419</td>\n",
              "      <td>0.096439</td>\n",
              "      <td>0.096426</td>\n",
              "      <td>0.096399</td>\n",
              "      <td>0.096369</td>\n",
              "      <td>0.096328</td>\n",
              "      <td>0.096281</td>\n",
              "      <td>0.096258</td>\n",
              "      <td>0.096230</td>\n",
              "      <td>0.096205</td>\n",
              "      <td>0.096188</td>\n",
              "    </tr>\n",
              "    <tr>\n",
              "      <th>부산광역시</th>\n",
              "      <td>0.033723</td>\n",
              "      <td>0.033708</td>\n",
              "      <td>0.033695</td>\n",
              "      <td>0.033680</td>\n",
              "      <td>0.033666</td>\n",
              "      <td>0.033652</td>\n",
              "      <td>0.033634</td>\n",
              "      <td>0.033616</td>\n",
              "      <td>0.033605</td>\n",
              "      <td>0.033583</td>\n",
              "      <td>0.033565</td>\n",
              "      <td>0.033543</td>\n",
              "    </tr>\n",
              "    <tr>\n",
              "      <th>울산광역시</th>\n",
              "      <td>0.010831</td>\n",
              "      <td>0.010822</td>\n",
              "      <td>0.010814</td>\n",
              "      <td>0.010810</td>\n",
              "      <td>0.010805</td>\n",
              "      <td>0.010802</td>\n",
              "      <td>0.010800</td>\n",
              "      <td>0.010794</td>\n",
              "      <td>0.010791</td>\n",
              "      <td>0.010788</td>\n",
              "      <td>0.010783</td>\n",
              "      <td>0.010773</td>\n",
              "    </tr>\n",
              "    <tr>\n",
              "      <th>경기남</th>\n",
              "      <td>0.062767</td>\n",
              "      <td>0.062831</td>\n",
              "      <td>0.062885</td>\n",
              "      <td>0.062945</td>\n",
              "      <td>0.063018</td>\n",
              "      <td>0.063083</td>\n",
              "      <td>0.063162</td>\n",
              "      <td>0.063248</td>\n",
              "      <td>0.063311</td>\n",
              "      <td>0.063370</td>\n",
              "      <td>0.063420</td>\n",
              "      <td>0.063478</td>\n",
              "    </tr>\n",
              "    <tr>\n",
              "      <th>경기북</th>\n",
              "      <td>0.062767</td>\n",
              "      <td>0.062831</td>\n",
              "      <td>0.062885</td>\n",
              "      <td>0.062945</td>\n",
              "      <td>0.063018</td>\n",
              "      <td>0.063083</td>\n",
              "      <td>0.063162</td>\n",
              "      <td>0.063248</td>\n",
              "      <td>0.063311</td>\n",
              "      <td>0.063370</td>\n",
              "      <td>0.063420</td>\n",
              "      <td>0.063478</td>\n",
              "    </tr>\n",
              "    <tr>\n",
              "      <th>강원도</th>\n",
              "      <td>0.014780</td>\n",
              "      <td>0.014770</td>\n",
              "      <td>0.014770</td>\n",
              "      <td>0.014776</td>\n",
              "      <td>0.014777</td>\n",
              "      <td>0.014779</td>\n",
              "      <td>0.014779</td>\n",
              "      <td>0.014780</td>\n",
              "      <td>0.014780</td>\n",
              "      <td>0.014781</td>\n",
              "      <td>0.014783</td>\n",
              "      <td>0.014782</td>\n",
              "    </tr>\n",
              "    <tr>\n",
              "      <th>광주광역시</th>\n",
              "      <td>0.014219</td>\n",
              "      <td>0.014211</td>\n",
              "      <td>0.014209</td>\n",
              "      <td>0.014210</td>\n",
              "      <td>0.014210</td>\n",
              "      <td>0.014210</td>\n",
              "      <td>0.014215</td>\n",
              "      <td>0.014217</td>\n",
              "      <td>0.014221</td>\n",
              "      <td>0.014219</td>\n",
              "      <td>0.014216</td>\n",
              "      <td>0.014196</td>\n",
              "    </tr>\n",
              "    <tr>\n",
              "      <th>대구광역시</th>\n",
              "      <td>0.023963</td>\n",
              "      <td>0.023944</td>\n",
              "      <td>0.023928</td>\n",
              "      <td>0.023917</td>\n",
              "      <td>0.023903</td>\n",
              "      <td>0.023888</td>\n",
              "      <td>0.023873</td>\n",
              "      <td>0.023854</td>\n",
              "      <td>0.023843</td>\n",
              "      <td>0.023832</td>\n",
              "      <td>0.023815</td>\n",
              "      <td>0.023786</td>\n",
              "    </tr>\n",
              "    <tr>\n",
              "      <th>대전광역시</th>\n",
              "      <td>0.014373</td>\n",
              "      <td>0.014365</td>\n",
              "      <td>0.014356</td>\n",
              "      <td>0.014344</td>\n",
              "      <td>0.014334</td>\n",
              "      <td>0.014319</td>\n",
              "      <td>0.014307</td>\n",
              "      <td>0.014296</td>\n",
              "      <td>0.014289</td>\n",
              "      <td>0.014279</td>\n",
              "      <td>0.014266</td>\n",
              "      <td>0.014245</td>\n",
              "    </tr>\n",
              "  </tbody>\n",
              "</table>\n",
              "</div>"
            ],
            "text/plain": [
              "             1월여자인구수   2월여자인구수   3월여자인구수  ...  10월여자인구수  11월여자인구수  12월여자인구수\n",
              "행정구역(시군구)별                                ...                              \n",
              "서울특별시       0.096350  0.096419  0.096439  ...  0.096230  0.096205  0.096188\n",
              "부산광역시       0.033723  0.033708  0.033695  ...  0.033583  0.033565  0.033543\n",
              "울산광역시       0.010831  0.010822  0.010814  ...  0.010788  0.010783  0.010773\n",
              "경기남         0.062767  0.062831  0.062885  ...  0.063370  0.063420  0.063478\n",
              "경기북         0.062767  0.062831  0.062885  ...  0.063370  0.063420  0.063478\n",
              "강원도         0.014780  0.014770  0.014770  ...  0.014781  0.014783  0.014782\n",
              "광주광역시       0.014219  0.014211  0.014209  ...  0.014219  0.014216  0.014196\n",
              "대구광역시       0.023963  0.023944  0.023928  ...  0.023832  0.023815  0.023786\n",
              "대전광역시       0.014373  0.014365  0.014356  ...  0.014279  0.014266  0.014245\n",
              "\n",
              "[9 rows x 12 columns]"
            ]
          },
          "metadata": {
            "tags": []
          },
          "execution_count": 138
        }
      ]
    },
    {
      "cell_type": "code",
      "metadata": {
        "id": "hIpiq3LeCf5V",
        "colab_type": "code",
        "colab": {
          "base_uri": "https://localhost:8080/",
          "height": 198
        },
        "outputId": "e992ccaf-929c-4f5c-d4e5-0b44959ac998"
      },
      "source": [
        "population_woman_sudo = population_woman_df.iloc[[0,3,4]]\n",
        "population_woman_sudo"
      ],
      "execution_count": null,
      "outputs": [
        {
          "output_type": "execute_result",
          "data": {
            "text/html": [
              "<div>\n",
              "<style scoped>\n",
              "    .dataframe tbody tr th:only-of-type {\n",
              "        vertical-align: middle;\n",
              "    }\n",
              "\n",
              "    .dataframe tbody tr th {\n",
              "        vertical-align: top;\n",
              "    }\n",
              "\n",
              "    .dataframe thead th {\n",
              "        text-align: right;\n",
              "    }\n",
              "</style>\n",
              "<table border=\"1\" class=\"dataframe\">\n",
              "  <thead>\n",
              "    <tr style=\"text-align: right;\">\n",
              "      <th></th>\n",
              "      <th>1월여자인구수</th>\n",
              "      <th>2월여자인구수</th>\n",
              "      <th>3월여자인구수</th>\n",
              "      <th>4월여자인구수</th>\n",
              "      <th>5월여자인구수</th>\n",
              "      <th>6월여자인구수</th>\n",
              "      <th>7월여자인구수</th>\n",
              "      <th>8월여자인구수</th>\n",
              "      <th>9월여자인구수</th>\n",
              "      <th>10월여자인구수</th>\n",
              "      <th>11월여자인구수</th>\n",
              "      <th>12월여자인구수</th>\n",
              "    </tr>\n",
              "    <tr>\n",
              "      <th>행정구역(시군구)별</th>\n",
              "      <th></th>\n",
              "      <th></th>\n",
              "      <th></th>\n",
              "      <th></th>\n",
              "      <th></th>\n",
              "      <th></th>\n",
              "      <th></th>\n",
              "      <th></th>\n",
              "      <th></th>\n",
              "      <th></th>\n",
              "      <th></th>\n",
              "      <th></th>\n",
              "    </tr>\n",
              "  </thead>\n",
              "  <tbody>\n",
              "    <tr>\n",
              "      <th>서울특별시</th>\n",
              "      <td>0.096350</td>\n",
              "      <td>0.096419</td>\n",
              "      <td>0.096439</td>\n",
              "      <td>0.096426</td>\n",
              "      <td>0.096399</td>\n",
              "      <td>0.096369</td>\n",
              "      <td>0.096328</td>\n",
              "      <td>0.096281</td>\n",
              "      <td>0.096258</td>\n",
              "      <td>0.09623</td>\n",
              "      <td>0.096205</td>\n",
              "      <td>0.096188</td>\n",
              "    </tr>\n",
              "    <tr>\n",
              "      <th>경기남</th>\n",
              "      <td>0.062767</td>\n",
              "      <td>0.062831</td>\n",
              "      <td>0.062885</td>\n",
              "      <td>0.062945</td>\n",
              "      <td>0.063018</td>\n",
              "      <td>0.063083</td>\n",
              "      <td>0.063162</td>\n",
              "      <td>0.063248</td>\n",
              "      <td>0.063311</td>\n",
              "      <td>0.06337</td>\n",
              "      <td>0.063420</td>\n",
              "      <td>0.063478</td>\n",
              "    </tr>\n",
              "    <tr>\n",
              "      <th>경기북</th>\n",
              "      <td>0.062767</td>\n",
              "      <td>0.062831</td>\n",
              "      <td>0.062885</td>\n",
              "      <td>0.062945</td>\n",
              "      <td>0.063018</td>\n",
              "      <td>0.063083</td>\n",
              "      <td>0.063162</td>\n",
              "      <td>0.063248</td>\n",
              "      <td>0.063311</td>\n",
              "      <td>0.06337</td>\n",
              "      <td>0.063420</td>\n",
              "      <td>0.063478</td>\n",
              "    </tr>\n",
              "  </tbody>\n",
              "</table>\n",
              "</div>"
            ],
            "text/plain": [
              "             1월여자인구수   2월여자인구수   3월여자인구수  ...  10월여자인구수  11월여자인구수  12월여자인구수\n",
              "행정구역(시군구)별                                ...                              \n",
              "서울특별시       0.096350  0.096419  0.096439  ...   0.09623  0.096205  0.096188\n",
              "경기남         0.062767  0.062831  0.062885  ...   0.06337  0.063420  0.063478\n",
              "경기북         0.062767  0.062831  0.062885  ...   0.06337  0.063420  0.063478\n",
              "\n",
              "[3 rows x 12 columns]"
            ]
          },
          "metadata": {
            "tags": []
          },
          "execution_count": 221
        }
      ]
    },
    {
      "cell_type": "code",
      "metadata": {
        "id": "t5QF-4TkCf2N",
        "colab_type": "code",
        "colab": {}
      },
      "source": [
        "sudo_munji = pd.read_excel('/content/2019수도권먼지.xlsx')"
      ],
      "execution_count": null,
      "outputs": []
    }
  ]
}