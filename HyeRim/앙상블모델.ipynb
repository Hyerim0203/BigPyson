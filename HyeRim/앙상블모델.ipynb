{
 "cells": [
  {
   "cell_type": "code",
   "execution_count": 2,
   "metadata": {},
   "outputs": [],
   "source": [
    "import pandas as pd\n",
    "import numpy as np\n",
    "from select_feature import make_data\n",
    "import os\n",
    "import matplotlib.pyplot as plt\n",
    "import seaborn as sns"
   ]
  },
  {
   "cell_type": "code",
   "execution_count": 3,
   "metadata": {},
   "outputs": [],
   "source": [
    "# 성능 평가 함수 생성\n",
    "def mape(t, y):\n",
    "    return 100*(np.abs((y-t)/t).sum())/t.shape[0]"
   ]
  },
  {
   "cell_type": "code",
   "execution_count": 73,
   "metadata": {},
   "outputs": [],
   "source": [
    "data=pd.read_csv(\"train_0926.csv\")\n",
    "all_data = pd.read_csv(\"./prepared.csv\")"
   ]
  },
  {
   "cell_type": "code",
   "execution_count": 23,
   "metadata": {},
   "outputs": [],
   "source": [
    "from lightgbm import LGBMRegressor\n",
    "from sklearn.preprocessing import LabelEncoder\n",
    "from sklearn.model_selection import cross_val_predict\n",
    "from sklearn.ensemble import BaggingRegressor\n",
    "from sklearn.linear_model import LinearRegression"
   ]
  },
  {
   "cell_type": "markdown",
   "metadata": {},
   "source": [
    "### 사이킷런의 배깅을 통해 앙상블"
   ]
  },
  {
   "cell_type": "code",
   "execution_count": 388,
   "metadata": {},
   "outputs": [],
   "source": [
    "def feature_selection(data,del_features=[]): # 제거시킬 feature을 인자로 받아 해당 feature을 제거시킴\n",
    "    data = data.drop([\"new주문량\",\"new판매단가\"]+del_features, axis=1)\n",
    "    if not del_features or del_features[0]!=\"분류\":\n",
    "        #data = pd.concat([data, pd.get_dummies(data[\"분류\"])], axis=1).drop([\"분류\"], axis=1)\n",
    "        data[\"분류\"] = LabelEncoder().fit_transform(data[\"분류\"])\n",
    "    else:\n",
    "        pass\n",
    "    for c,x in data.groupby([\"상품군\"]):\n",
    "        del x[\"상품군\"]\n",
    "        # 카테고리 이름, X(표준화한), y 반환\n",
    "        yield c, x.drop([\"주문량\"], axis=1), x[\"주문량\"]\n"
   ]
  },
  {
   "cell_type": "code",
   "execution_count": 70,
   "metadata": {
    "scrolled": true
   },
   "outputs": [],
   "source": [
    "def print_result(data , model, log = True): # MAPE 결과를 출력하는 함수\n",
    "\n",
    "    predict_mapes = {}\n",
    "    for c, X, y in feature_selection(data):\n",
    "        \n",
    "        # cross_val_score\n",
    "        model = model\n",
    "        predicted = cross_val_predict(model, X,y, cv=3) # 예측값\n",
    "        if log:\n",
    "            error = mape(np.exp(predicted), np.exp(y)) # mape\n",
    "        else:\n",
    "            error = mape(predicted, y)\n",
    "        print(c,error)\n",
    "        predict_mapes[c]=error\n",
    "        \n",
    "    for k in predict_mapes.keys():\n",
    "        long = data.loc[data[\"상품군\"]==k,:].shape[0]\n",
    "        predict_mapes[k]*=(long/data.shape[0])\n",
    "    \n",
    "    cost = 0\n",
    "    for i in predict_mapes.values():\n",
    "        cost += i\n",
    "    \n",
    "    print(\"\\nAverage MAPE :\" , cost)"
   ]
  },
  {
   "cell_type": "code",
   "execution_count": 411,
   "metadata": {},
   "outputs": [
    {
     "name": "stdout",
     "output_type": "stream",
     "text": [
      "beauty 35.25752898700034\n",
      "bedding 56.692580209469654\n",
      "cloth 50.650422237194626\n",
      "elec 64.6607880886969\n",
      "etc 65.00497872179473\n",
      "food 33.47905150391918\n",
      "furniture 76.69072571294991\n",
      "health 42.61605638425123\n",
      "inner 45.72029861636061\n",
      "life 79.07949544695398\n",
      "living 50.06913556107695\n",
      "\n",
      "Average MAPE : 54.41881001146014\n"
     ]
    }
   ],
   "source": [
    "print_result(data, BaggingRegressor(LGBMRegressor(),random_state = 1111), log=False)"
   ]
  },
  {
   "cell_type": "markdown",
   "metadata": {},
   "source": [
    "### feature 유형을 고려 -> 스태킹"
   ]
  },
  {
   "cell_type": "code",
   "execution_count": 416,
   "metadata": {},
   "outputs": [
    {
     "data": {
      "text/plain": [
       "Index(['노출(분)', 'holiday(includeSS)', '계절', '분류', 'Active Users', 'new판매단가',\n",
       "       'new주문량', 'prime_time', 'prime_day', 'top_code', 'top_cat', 'x1_cat',\n",
       "       'x2_cat', 'top_real_weather', '실제_최고기온', '실제_최저기온', '실제_강수량', '실제_평균풍속',\n",
       "       '세일', '판매단가', '주문량', '예보_최고기온', '예보_최저기온', '예보_강수확률', '예보_강수량', '예보_풍속',\n",
       "       '무이자', '일시불', '상품군', '요일'],\n",
       "      dtype='object')"
      ]
     },
     "execution_count": 416,
     "metadata": {},
     "output_type": "execute_result"
    }
   ],
   "source": [
    "data.columns"
   ]
  },
  {
   "cell_type": "code",
   "execution_count": 418,
   "metadata": {},
   "outputs": [],
   "source": [
    "# 제거시킬 특성 후보\n",
    "del_features = {\"실제날씨\":['실제_최고기온', '실제_최저기온', '실제_강수량', '실제_평균풍속',\"top_code\"],\n",
    "               \"예보날씨\":['예보_최고기온', '예보_최저기온', '예보_강수확률', '예보_강수량', '예보_풍속'],\n",
    "                \"날씨\":['실제_최고기온', '실제_최저기온', '실제_강수량', '실제_평균풍속',\"top_code\",\n",
    "                      '예보_최고기온', '예보_최저기온', '예보_강수확률', '예보_강수량', '예보_풍속'],\n",
    "               \"top_real_weather\":[\"top_real_weather\"],\n",
    "               \"분류\":[\"분류\"],\n",
    "               \"cat\":[\"x1_cat\",\"x2_cat\"],\n",
    "                \"code\":[\"top_code\",\"top_cat\"],\n",
    "               \"요일\":[\"요일\"],\n",
    "               \"기온\":['실제_최고기온', '실제_최저기온','예보_최고기온', '예보_최저기온'],\n",
    "               \"강수량\":[\"실제_강수량\",\"예보_강수량\"],\n",
    "               \"prime\":[\"prime_time\",\"prime_day\"]}"
   ]
  },
  {
   "cell_type": "code",
   "execution_count": 414,
   "metadata": {},
   "outputs": [],
   "source": [
    "# 제거시킬 특성 후보2\n",
    "del_features = {\"실제날씨\":['실제_최고기온', '실제_최저기온', '실제_강수량', '실제_평균풍속'],\n",
    "               \"예보날씨\":['예보_최고기온', '예보_최저기온', '예보_강수확률', '예보_강수량', '예보_풍속'],\n",
    "               \"top_real_weather\":[\"top_real_weather\"],\n",
    "               \"분류\":[\"분류\"],\n",
    "               \"cat\":[\"x1_cat\",\"x2_cat\"],\n",
    "               \"top_code\":[\"top_code\"],\n",
    "               \"top_cat\":[\"top_cat\"]}"
   ]
  },
  {
   "cell_type": "code",
   "execution_count": 431,
   "metadata": {},
   "outputs": [],
   "source": [
    "class feature_ensemble:\n",
    "    def __init__(self,data,del_features,log=False):\n",
    "        from lightgbm import LGBMRegressor\n",
    "        \n",
    "        self.data = data.copy()\n",
    "        self.num_data = len(data)\n",
    "        self.del_features = del_features\n",
    "        \n",
    "        self.cate_models = {}\n",
    "        for c in self.data[\"상품군\"].unique():\n",
    "            self.cate_models[c]=[]\n",
    "            for i in range(len(del_features)):\n",
    "                self.cate_models[c].append(LGBMRegressor(random_seed = 1111))\n",
    "            self.cate_models[c].append(LGBMRegressor())\n",
    "        self.make_dataset(log)\n",
    "        \n",
    "    def make_dataset(self,log=False):\n",
    "        self.cate_datasets = {}\n",
    "        \n",
    "        for c, data in self.data.groupby([\"상품군\"]):\n",
    "            self.cate_datasets[c]=[]\n",
    "            for del_feature in self.del_features.values():\n",
    "                if not log:\n",
    "                    train = data.drop([\"new주문량\",\"new판매단가\"]+del_feature, axis=1)\n",
    "                else:\n",
    "                    train = data.drop([\"주문량\",\"판매단가\"]+del_feature, axis=1)\n",
    "\n",
    "                if del_feature!=[\"분류\"]:\n",
    "                    train[\"분류\"] = LabelEncoder().fit_transform(train[\"분류\"])\n",
    "\n",
    "                else:\n",
    "                    pass\n",
    "                \n",
    "                del train[\"상품군\"]\n",
    "                self.cate_datasets[c].append(train)\n",
    "\n",
    "    def Train(self):\n",
    "        \n",
    "        for c, dataset in self.cate_datasets.items():\n",
    "            num_data = dataset[0].shape[0]\n",
    "            self.bool_idx = np.zeros(num_data).astype(bool)\n",
    "            self.bool_idx[np.random.choice(range(num_data), int(num_data*0.7))]=1\n",
    "\n",
    "            for i in range(len(del_features)):\n",
    "                x_y = dataset[i][self.bool_idx]\n",
    "                X_train, y_train = x_y.drop([\"주문량\"], axis=1).values, x_y[\"주문량\"].values\n",
    "                \n",
    "                if i:\n",
    "                    self.cate_models[c][i].fit(X_train, y_train)\n",
    "                    train = np.concatenate([train,self.cate_models[c][i].predict(X_train).reshape(-1,1)], axis=1)\n",
    "                else:\n",
    "                    self.cate_models[c][i].fit(X_train, y_train)\n",
    "                    train = self.cate_models[c][i].predict(X_train).reshape(-1,1)\n",
    "                    \n",
    "            self.cate_models[c][-1].fit(train, y_train)\n",
    "            \n",
    "            self.Test(c,dataset)\n",
    "            \n",
    "    def Test(self,c,dataset):\n",
    "        \n",
    "        for i in range(len(del_features)):\n",
    "            x_y = dataset[i][~self.bool_idx]\n",
    "            X_test, y_test = x_y.drop([\"주문량\"], axis=1).values, x_y[\"주문량\"].values\n",
    "            if i:\n",
    "                test = np.concatenate([test,self.cate_models[c][i].predict(X_test).reshape(-1,1)], axis=1)\n",
    "            else:\n",
    "                test = self.cate_models[c][i].predict(X_test).reshape(-1,1)\n",
    "                \n",
    "        predicted = self.cate_models[c][-1].predict(test)\n",
    "        error = mape(y_test, predicted)\n",
    "        print(c, error)\n",
    "        \n",
    "    def predict(self, X, y):\n",
    "        pass"
   ]
  },
  {
   "cell_type": "code",
   "execution_count": 432,
   "metadata": {
    "scrolled": true
   },
   "outputs": [
    {
     "name": "stdout",
     "output_type": "stream",
     "text": [
      "beauty 46.6797488821553\n",
      "bedding 92.02087483095842\n",
      "cloth 79.32970253763537\n",
      "elec 87.4981361412363\n",
      "etc 112.450149989827\n",
      "food 44.996375110536015\n",
      "furniture 94.83850912207856\n",
      "health 74.22034401667257\n",
      "inner 77.93881769156656\n",
      "life 103.5018959416473\n",
      "living 83.93284357917848\n"
     ]
    }
   ],
   "source": [
    "re = feature_ensemble(data, del_features)\n",
    "re.Train()"
   ]
  },
  {
   "cell_type": "markdown",
   "metadata": {},
   "source": [
    "### 전체 데이터셋으로"
   ]
  },
  {
   "cell_type": "code",
   "execution_count": 427,
   "metadata": {},
   "outputs": [],
   "source": [
    "train_data = data.copy()\n",
    "train_data[\"분류\"] = LabelEncoder().fit_transform(train_data[\"분류\"])\n",
    "train_data[\"상품군\"] = LabelEncoder().fit_transform(train_data[\"상품군\"])"
   ]
  },
  {
   "cell_type": "code",
   "execution_count": 433,
   "metadata": {},
   "outputs": [
    {
     "data": {
      "text/plain": [
       "54.569947597352495"
      ]
     },
     "execution_count": 433,
     "metadata": {},
     "output_type": "execute_result"
    }
   ],
   "source": [
    "X, y = train_data.drop([\"new주문량\",\"new판매단가\",\"주문량\"], axis=1), train_data[\"주문량\"]\n",
    "br = BaggingRegressor(LGBMRegressor(),random_state = 1111)\n",
    "predicted = cross_val_predict(br, X,y, cv=3)\n",
    "mape(predicted, y)"
   ]
  }
 ],
 "metadata": {
  "kernelspec": {
   "display_name": "Python 3",
   "language": "python",
   "name": "python3"
  },
  "language_info": {
   "codemirror_mode": {
    "name": "ipython",
    "version": 3
   },
   "file_extension": ".py",
   "mimetype": "text/x-python",
   "name": "python",
   "nbconvert_exporter": "python",
   "pygments_lexer": "ipython3",
   "version": "3.7.6"
  }
 },
 "nbformat": 4,
 "nbformat_minor": 4
}
