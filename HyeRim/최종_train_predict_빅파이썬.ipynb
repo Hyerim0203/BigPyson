{
 "cells": [
  {
   "cell_type": "markdown",
   "metadata": {},
   "source": [
    "# 최종 예측 - 빅파이썬"
   ]
  },
  {
   "cell_type": "markdown",
   "metadata": {},
   "source": [
    "### 필요 함수 import"
   ]
  },
  {
   "cell_type": "code",
   "execution_count": 1,
   "metadata": {},
   "outputs": [],
   "source": [
    "import numpy as np\n",
    "import pandas as pd"
   ]
  },
  {
   "cell_type": "code",
   "execution_count": 2,
   "metadata": {},
   "outputs": [],
   "source": [
    "from lightgbm import LGBMRegressor\n",
    "from sklearn.preprocessing import LabelEncoder\n",
    "from sklearn.ensemble import BaggingRegressor"
   ]
  },
  {
   "cell_type": "markdown",
   "metadata": {},
   "source": [
    "### 데이터 불러오기"
   ]
  },
  {
   "cell_type": "code",
   "execution_count": 34,
   "metadata": {},
   "outputs": [],
   "source": [
    "train = pd.read_csv(\"./Train.csv\") # train set\n",
    "test = pd.read_csv(\"./Predict.csv\") # test set"
   ]
  },
  {
   "cell_type": "code",
   "execution_count": 4,
   "metadata": {},
   "outputs": [],
   "source": [
    "submission = pd.read_csv(\"./제출데이터.csv\") # 제출 파일"
   ]
  },
  {
   "cell_type": "code",
   "execution_count": 5,
   "metadata": {},
   "outputs": [],
   "source": [
    "# 상품군별 모델\n",
    "model = {i:BaggingRegressor(LGBMRegressor(objective='regression',num_leaves=20,\n",
    "                              learning_rate=0.1, n_estimators=900,\n",
    "                              max_bin = 150, bagging_fraction = 0.9,\n",
    "                              bagging_freq = 5, feature_fraction = 0.3,\n",
    "                              feature_fraction_seed=9, bagging_seed=9,\n",
    "                              min_data_in_leaf = 6, min_sum_hessian_in_leaf = 11,random_state = 1111),random_state = 1111) for idx,i in enumerate(test[\"상품군\"].unique())}"
   ]
  },
  {
   "cell_type": "markdown",
   "metadata": {},
   "source": [
    "## 예측 함수 생성"
   ]
  },
  {
   "cell_type": "code",
   "execution_count": 6,
   "metadata": {},
   "outputs": [],
   "source": [
    "# 성능 평가 함수 생성\n",
    "def mape(t, y):\n",
    "    return 100*(np.abs((y-t)/t).sum())/t.shape[0]"
   ]
  },
  {
   "cell_type": "code",
   "execution_count": 7,
   "metadata": {},
   "outputs": [],
   "source": [
    "class BigPython_Model:\n",
    "    def __init__(self, model):\n",
    "        \n",
    "        # 상품군별 모델\n",
    "        self.models=model\n",
    "        \n",
    "        # 코로나 effect\n",
    "        self.corona={'의류':1.192,'속옷':1,'이미용':0.996,'주방':1,'농수축':1.236,'가전':1.188,'생활용품':1.292,'가구':1.328,'잡화':0.996,'건강기능':1.62,'침구':1}\n",
    "        \n",
    "    def Split_Category(self, data, train=True): # 카테고리별로 나눔\n",
    "\n",
    "        # 상품군별로 데이터 반환시킴\n",
    "        for c,x in data.groupby([\"상품군\"]):\n",
    "            del x[\"상품군\"]\n",
    "            \n",
    "            if train: # 훈련시\n",
    "                # 카테고리 이름, X, y 반환\n",
    "                yield c, x.drop([\"취급액\"], axis=1), x[\"취급액\"]\n",
    "                \n",
    "            else:  # 예측시\n",
    "                # 카테고리 이름, X 반환\n",
    "                yield c, x\n",
    "    \n",
    "    def Train(self, data,train=True): # MAPE 결과를 출력하는 함수\n",
    "        # 상품군별 데이터를 받아옴\n",
    "        for c, X, y in self.Split_Category(data.copy()):\n",
    "            # 훈련\n",
    "            self.models[c].fit(X,y)\n",
    "    \n",
    "\n",
    "    def Predict(self, data, train=False, corona = True):\n",
    "        # 예측값을 넣을 배열\n",
    "        self.predicted = np.zeros(data.shape[0])\n",
    "        # 상품군별 데이터를 받아옴\n",
    "        for c, X in self.Split_Category(data.copy(),train=train):\n",
    "            if c==\"무형\":\n",
    "                pass # 무형이면 예측으로 0이기 때문에 pass\n",
    "            \n",
    "            else:\n",
    "                # 해당 상품군의 index를 받아옴\n",
    "                predicted_idx = X.index\n",
    "                if corona: # corona effect 가 있었을 시기 -> corona effect 적용\n",
    "                    self.predicted[X.index] = self.models[c].predict(X)*self.corona[c] # 각 상품군 별로 모델 적용\n",
    "                else:\n",
    "                    self.predicted[X.index] = self.models[c].predict(X) # 각 상품군 별로 모델 적용\n",
    "                \n",
    "        return self.predicted\n",
    "        \n",
    "        "
   ]
  },
  {
   "cell_type": "markdown",
   "metadata": {},
   "source": [
    "## Train"
   ]
  },
  {
   "cell_type": "code",
   "execution_count": 8,
   "metadata": {},
   "outputs": [],
   "source": [
    "bpm1 = BigPython_Model(model)\n",
    "bpm1.Train(train)"
   ]
  },
  {
   "cell_type": "code",
   "execution_count": 9,
   "metadata": {},
   "outputs": [
    {
     "data": {
      "text/plain": [
       "53.263273175828864"
      ]
     },
     "execution_count": 9,
     "metadata": {},
     "output_type": "execute_result"
    }
   ],
   "source": [
    "predicted = bpm1.Predict(train, train=False, corona=False)\n",
    "mape(train[\"취급액\"], predicted)"
   ]
  },
  {
   "cell_type": "markdown",
   "metadata": {},
   "source": [
    "## Predict"
   ]
  },
  {
   "cell_type": "code",
   "execution_count": 36,
   "metadata": {},
   "outputs": [],
   "source": [
    "result = bpm1.Predict(test, train=False, corona=True)"
   ]
  },
  {
   "cell_type": "code",
   "execution_count": 23,
   "metadata": {
    "scrolled": true
   },
   "outputs": [],
   "source": [
    "submission.loc[submission[\"상품군\"]!=\"무형\",\"취급액\"]=result\n",
    "submission[\"취급액\"]=submission[\"취급액\"].fillna(0)"
   ]
  },
  {
   "cell_type": "code",
   "execution_count": 44,
   "metadata": {},
   "outputs": [],
   "source": [
    "submission[\"취급액\"].to_csv(\"./최종예측파일_빅파이썬.csv\", index=False)"
   ]
  }
 ],
 "metadata": {
  "kernelspec": {
   "display_name": "Python 3",
   "language": "python",
   "name": "python3"
  },
  "language_info": {
   "codemirror_mode": {
    "name": "ipython",
    "version": 3
   },
   "file_extension": ".py",
   "mimetype": "text/x-python",
   "name": "python",
   "nbconvert_exporter": "python",
   "pygments_lexer": "ipython3",
   "version": "3.7.6"
  }
 },
 "nbformat": 4,
 "nbformat_minor": 4
}
