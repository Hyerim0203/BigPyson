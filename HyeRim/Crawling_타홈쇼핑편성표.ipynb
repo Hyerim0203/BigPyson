{
 "cells": [
  {
   "cell_type": "code",
   "execution_count": 73,
   "metadata": {},
   "outputs": [],
   "source": [
    "import requests\n",
    "import openpyxl\n",
    "from bs4 import BeautifulSoup\n",
    "import os\n",
    "import csv\n",
    "import pprint\n",
    "import pandas as pd\n",
    "import numpy as np\n",
    "from urllib.request import urlretrieve\n",
    "from selenium import webdriver\n",
    "import time\n",
    "import re"
   ]
  },
  {
   "cell_type": "code",
   "execution_count": 154,
   "metadata": {},
   "outputs": [
    {
     "name": "stdout",
     "output_type": "stream",
     "text": [
      "크롤링하고 싶은 홈쇼핑 이름cj\n"
     ]
    },
    {
     "name": "stderr",
     "output_type": "stream",
     "text": [
      "C:\\ProgramData\\Anaconda3\\lib\\site-packages\\ipykernel_launcher.py:18: DeprecationWarning: use driver.switch_to.frame instead\n"
     ]
    }
   ],
   "source": [
    "# 타방송사 크롤링 코드\n",
    "driver=webdriver.Chrome(\"./chromedriver\") # chromedriver 불러오기\n",
    "\n",
    "homeshopping =  {\"gs\":\"https://blog.naver.com/livehs01/221984764194\",\n",
    "                \"cj\":\"https://blog.naver.com/livehs01/221984764351\",\n",
    "                \"lotte\":\"https://blog.naver.com/livehs01/221984764637\"}\n",
    "name = input(\"크롤링하고 싶은 홈쇼핑 이름\")\n",
    "time.sleep(2)\n",
    "\n",
    "driver.get(homeshopping[name])\n",
    "time.sleep(3)\n",
    "\n",
    "tv = []\n",
    "date = pd.date_range(start=\"2020-06-01\", end=\"2020-07-01\",freq=\"D\")\n",
    "\n",
    "for i in range(31): # 2020.06.01~2020.07.01\n",
    "    # iframe은 해당 id혹은 class 이름을 써주어야 함!\n",
    "    driver.switch_to_frame(\"mainFrame\") # iframe main 창으로 변경\n",
    "    \n",
    "    container = driver.find_elements_by_css_selector(\"div.se-component-content tr\")\n",
    "    \n",
    "    time.sleep(2)\n",
    "    \n",
    "    for j in container:\n",
    "        content = j.find_elements_by_css_selector(\"span\")\n",
    "        hour = content[:1]\n",
    "        title = content[5:6]\n",
    "        tv.append([p.text for p in hour+title]+[date[i]])\n",
    "    \n",
    "    \n",
    "    driver.find_elements_by_css_selector(\"span.ell2.pcol2\")[6].click()\n",
    "    driver.switch_to.default_content() # 다시 상위 페이지로 변환\n",
    "    time.sleep(2)\n"
   ]
  },
  {
   "cell_type": "code",
   "execution_count": 142,
   "metadata": {},
   "outputs": [],
   "source": [
    "def Tv(tv):\n",
    "    data = pd.DataFrame(tv)\n",
    "    data.loc[:,0] = data.loc[:,0].apply(lambda x:x[:2])\n",
    "    \n",
    "    data.columns = [\"시\",\"상품명\",\"날짜\"]\n",
    "    return data"
   ]
  },
  {
   "cell_type": "code",
   "execution_count": 143,
   "metadata": {},
   "outputs": [],
   "source": [
    "gs_tv = Tv(tv)\n",
    "gs_tv.to_csv(\"제출데이터셋/타방송편성표/gs_tv.csv\", index=False)"
   ]
  },
  {
   "cell_type": "code",
   "execution_count": 155,
   "metadata": {},
   "outputs": [],
   "source": [
    "cj_tv = Tv(tv)\n",
    "cj_tv.to_csv(\"제출데이터셋/타방송편성표/cj_tv.csv\", index=False)"
   ]
  },
  {
   "cell_type": "code",
   "execution_count": 153,
   "metadata": {},
   "outputs": [],
   "source": [
    "lotte_tv = Tv(tv)\n",
    "lotte_tv.to_csv(\"제출데이터셋/타방송편성표/lotte_tv.csv\", index=False)"
   ]
  },
  {
   "cell_type": "code",
   "execution_count": 151,
   "metadata": {},
   "outputs": [
    {
     "data": {
      "text/html": [
       "<div>\n",
       "<style scoped>\n",
       "    .dataframe tbody tr th:only-of-type {\n",
       "        vertical-align: middle;\n",
       "    }\n",
       "\n",
       "    .dataframe tbody tr th {\n",
       "        vertical-align: top;\n",
       "    }\n",
       "\n",
       "    .dataframe thead th {\n",
       "        text-align: right;\n",
       "    }\n",
       "</style>\n",
       "<table border=\"1\" class=\"dataframe\">\n",
       "  <thead>\n",
       "    <tr style=\"text-align: right;\">\n",
       "      <th></th>\n",
       "      <th>시</th>\n",
       "      <th>상품명</th>\n",
       "      <th>날짜</th>\n",
       "    </tr>\n",
       "  </thead>\n",
       "  <tbody>\n",
       "    <tr>\n",
       "      <th>0</th>\n",
       "      <td>01</td>\n",
       "      <td>☆[이다희 다이어트][8주] 스키니랩 행복한 시서스 다이어트 ((600mg*14정)...</td>\n",
       "      <td>2020-06-01</td>\n",
       "    </tr>\n",
       "    <tr>\n",
       "      <th>1</th>\n",
       "      <td>02</td>\n",
       "      <td>아니베F 2020S/S 글로시 새틴 셔츠블라우스 4종</td>\n",
       "      <td>2020-06-01</td>\n",
       "    </tr>\n",
       "    <tr>\n",
       "      <th>2</th>\n",
       "      <td>02</td>\n",
       "      <td>[izel] 아이젤 프렌치테리 스폼셔츠(후디화이트+상큼그린)2종</td>\n",
       "      <td>2020-06-01</td>\n",
       "    </tr>\n",
       "    <tr>\n",
       "      <th>3</th>\n",
       "      <td>02</td>\n",
       "      <td>[CHANTY] 샹티 31차 LOVE in nature</td>\n",
       "      <td>2020-06-01</td>\n",
       "    </tr>\n",
       "    <tr>\n",
       "      <th>4</th>\n",
       "      <td>04</td>\n",
       "      <td>[2020 NEW] 베디베로 뉴트로 선글라스 (VE2084)</td>\n",
       "      <td>2020-06-01</td>\n",
       "    </tr>\n",
       "    <tr>\n",
       "      <th>...</th>\n",
       "      <td>...</td>\n",
       "      <td>...</td>\n",
       "      <td>...</td>\n",
       "    </tr>\n",
       "    <tr>\n",
       "      <th>735</th>\n",
       "      <td>19</td>\n",
       "      <td>신한 진심을품은또받는 생활비암보험(일반)</td>\n",
       "      <td>2020-07-01</td>\n",
       "    </tr>\n",
       "    <tr>\n",
       "      <th>736</th>\n",
       "      <td>20</td>\n",
       "      <td>[매니아패키지] 아트델리 압솔뤼 라 볼륨 드 쿠션4 + 리필 4</td>\n",
       "      <td>2020-07-01</td>\n",
       "    </tr>\n",
       "    <tr>\n",
       "      <th>737</th>\n",
       "      <td>21</td>\n",
       "      <td>롯데손보 더끌림건강보험(일반)</td>\n",
       "      <td>2020-07-01</td>\n",
       "    </tr>\n",
       "    <tr>\n",
       "      <th>738</th>\n",
       "      <td>22</td>\n",
       "      <td>나무하나 플로 뮬 (Flot Mule)</td>\n",
       "      <td>2020-07-01</td>\n",
       "    </tr>\n",
       "    <tr>\n",
       "      <th>739</th>\n",
       "      <td>23</td>\n",
       "      <td>한국에프에스(KOREAFS) 재무설계서비스</td>\n",
       "      <td>2020-07-01</td>\n",
       "    </tr>\n",
       "  </tbody>\n",
       "</table>\n",
       "<p>740 rows × 3 columns</p>\n",
       "</div>"
      ],
      "text/plain": [
       "      시                                                상품명         날짜\n",
       "0    01  ☆[이다희 다이어트][8주] 스키니랩 행복한 시서스 다이어트 ((600mg*14정)... 2020-06-01\n",
       "1    02                      아니베F 2020S/S 글로시 새틴 셔츠블라우스 4종 2020-06-01\n",
       "2    02                [izel] 아이젤 프렌치테리 스폼셔츠(후디화이트+상큼그린)2종 2020-06-01\n",
       "3    02                     [CHANTY] 샹티 31차 LOVE in nature 2020-06-01\n",
       "4    04                  [2020 NEW] 베디베로 뉴트로 선글라스 (VE2084) 2020-06-01\n",
       "..   ..                                                ...        ...\n",
       "735  19                             신한 진심을품은또받는 생활비암보험(일반) 2020-07-01\n",
       "736  20                [매니아패키지] 아트델리 압솔뤼 라 볼륨 드 쿠션4 + 리필 4 2020-07-01\n",
       "737  21                                   롯데손보 더끌림건강보험(일반) 2020-07-01\n",
       "738  22                              나무하나 플로 뮬 (Flot Mule) 2020-07-01\n",
       "739  23                            한국에프에스(KOREAFS) 재무설계서비스 2020-07-01\n",
       "\n",
       "[740 rows x 3 columns]"
      ]
     },
     "execution_count": 151,
     "metadata": {},
     "output_type": "execute_result"
    }
   ],
   "source": [
    "lotte_tv"
   ]
  }
 ],
 "metadata": {
  "kernelspec": {
   "display_name": "Python 3",
   "language": "python",
   "name": "python3"
  },
  "language_info": {
   "codemirror_mode": {
    "name": "ipython",
    "version": 3
   },
   "file_extension": ".py",
   "mimetype": "text/x-python",
   "name": "python",
   "nbconvert_exporter": "python",
   "pygments_lexer": "ipython3",
   "version": "3.7.6"
  }
 },
 "nbformat": 4,
 "nbformat_minor": 4
}
