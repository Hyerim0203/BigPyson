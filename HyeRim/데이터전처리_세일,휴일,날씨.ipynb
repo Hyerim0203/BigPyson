{
 "cells": [
  {
   "cell_type": "code",
   "execution_count": 165,
   "metadata": {},
   "outputs": [],
   "source": [
    "data = pd.read_csv(\"정리데이터/train_0926.csv\")\n",
    "submission = pd.read_csv(\"submission.csv\")"
   ]
  },
  {
   "cell_type": "code",
   "execution_count": 166,
   "metadata": {},
   "outputs": [
    {
     "data": {
      "text/html": [
       "<div>\n",
       "<style scoped>\n",
       "    .dataframe tbody tr th:only-of-type {\n",
       "        vertical-align: middle;\n",
       "    }\n",
       "\n",
       "    .dataframe tbody tr th {\n",
       "        vertical-align: top;\n",
       "    }\n",
       "\n",
       "    .dataframe thead th {\n",
       "        text-align: right;\n",
       "    }\n",
       "</style>\n",
       "<table border=\"1\" class=\"dataframe\">\n",
       "  <thead>\n",
       "    <tr style=\"text-align: right;\">\n",
       "      <th></th>\n",
       "      <th>방송일시</th>\n",
       "      <th>노출(분)</th>\n",
       "      <th>마더코드</th>\n",
       "      <th>상품코드</th>\n",
       "      <th>상품명</th>\n",
       "      <th>상품군</th>\n",
       "      <th>판매단가</th>\n",
       "    </tr>\n",
       "  </thead>\n",
       "  <tbody>\n",
       "    <tr>\n",
       "      <th>0</th>\n",
       "      <td>2020-06-01 6:20</td>\n",
       "      <td>20.0</td>\n",
       "      <td>100650</td>\n",
       "      <td>201971</td>\n",
       "      <td>잭필드 남성  반팔셔츠 4종</td>\n",
       "      <td>의류</td>\n",
       "      <td>59,800</td>\n",
       "    </tr>\n",
       "    <tr>\n",
       "      <th>1</th>\n",
       "      <td>2020-06-01 6:40</td>\n",
       "      <td>20.0</td>\n",
       "      <td>100650</td>\n",
       "      <td>201971</td>\n",
       "      <td>잭필드 남성  반팔셔츠 4종</td>\n",
       "      <td>의류</td>\n",
       "      <td>59,800</td>\n",
       "    </tr>\n",
       "    <tr>\n",
       "      <th>2</th>\n",
       "      <td>2020-06-01 7:00</td>\n",
       "      <td>20.0</td>\n",
       "      <td>100650</td>\n",
       "      <td>201971</td>\n",
       "      <td>잭필드 남성  반팔셔츠 4종</td>\n",
       "      <td>의류</td>\n",
       "      <td>59,800</td>\n",
       "    </tr>\n",
       "    <tr>\n",
       "      <th>3</th>\n",
       "      <td>2020-06-01 7:20</td>\n",
       "      <td>20.0</td>\n",
       "      <td>100445</td>\n",
       "      <td>202278</td>\n",
       "      <td>쿠미투니카 쿨 레이시 란쥬쉐이퍼&amp;팬티</td>\n",
       "      <td>속옷</td>\n",
       "      <td>69,900</td>\n",
       "    </tr>\n",
       "    <tr>\n",
       "      <th>4</th>\n",
       "      <td>2020-06-01 7:40</td>\n",
       "      <td>20.0</td>\n",
       "      <td>100445</td>\n",
       "      <td>202278</td>\n",
       "      <td>쿠미투니카 쿨 레이시 란쥬쉐이퍼&amp;팬티</td>\n",
       "      <td>속옷</td>\n",
       "      <td>69,900</td>\n",
       "    </tr>\n",
       "    <tr>\n",
       "      <th>...</th>\n",
       "      <td>...</td>\n",
       "      <td>...</td>\n",
       "      <td>...</td>\n",
       "      <td>...</td>\n",
       "      <td>...</td>\n",
       "      <td>...</td>\n",
       "      <td>...</td>\n",
       "    </tr>\n",
       "    <tr>\n",
       "      <th>2886</th>\n",
       "      <td>2020-07-01 0:20</td>\n",
       "      <td>20.0</td>\n",
       "      <td>100660</td>\n",
       "      <td>201989</td>\n",
       "      <td>쉴렉스  안마의자 렌탈서비스</td>\n",
       "      <td>무형</td>\n",
       "      <td>-</td>\n",
       "    </tr>\n",
       "    <tr>\n",
       "      <th>2887</th>\n",
       "      <td>2020-07-01 0:40</td>\n",
       "      <td>20.0</td>\n",
       "      <td>100660</td>\n",
       "      <td>201989</td>\n",
       "      <td>쉴렉스  안마의자 렌탈서비스</td>\n",
       "      <td>무형</td>\n",
       "      <td>-</td>\n",
       "    </tr>\n",
       "    <tr>\n",
       "      <th>2888</th>\n",
       "      <td>2020-07-01 1:00</td>\n",
       "      <td>20.0</td>\n",
       "      <td>100660</td>\n",
       "      <td>201989</td>\n",
       "      <td>쉴렉스  안마의자 렌탈서비스</td>\n",
       "      <td>무형</td>\n",
       "      <td>-</td>\n",
       "    </tr>\n",
       "    <tr>\n",
       "      <th>2889</th>\n",
       "      <td>2020-07-01 1:20</td>\n",
       "      <td>20.0</td>\n",
       "      <td>100261</td>\n",
       "      <td>200875</td>\n",
       "      <td>아놀드파마 티셔츠레깅스세트</td>\n",
       "      <td>의류</td>\n",
       "      <td>69,900</td>\n",
       "    </tr>\n",
       "    <tr>\n",
       "      <th>2890</th>\n",
       "      <td>2020-07-01 1:40</td>\n",
       "      <td>16.0</td>\n",
       "      <td>100261</td>\n",
       "      <td>200875</td>\n",
       "      <td>아놀드파마 티셔츠레깅스세트</td>\n",
       "      <td>의류</td>\n",
       "      <td>69,900</td>\n",
       "    </tr>\n",
       "  </tbody>\n",
       "</table>\n",
       "<p>2891 rows × 7 columns</p>\n",
       "</div>"
      ],
      "text/plain": [
       "                 방송일시  노출(분)    마더코드    상품코드                   상품명 상품군  \\\n",
       "0     2020-06-01 6:20   20.0  100650  201971       잭필드 남성  반팔셔츠 4종  의류   \n",
       "1     2020-06-01 6:40   20.0  100650  201971       잭필드 남성  반팔셔츠 4종  의류   \n",
       "2     2020-06-01 7:00   20.0  100650  201971       잭필드 남성  반팔셔츠 4종  의류   \n",
       "3     2020-06-01 7:20   20.0  100445  202278  쿠미투니카 쿨 레이시 란쥬쉐이퍼&팬티  속옷   \n",
       "4     2020-06-01 7:40   20.0  100445  202278  쿠미투니카 쿨 레이시 란쥬쉐이퍼&팬티  속옷   \n",
       "...               ...    ...     ...     ...                   ...  ..   \n",
       "2886  2020-07-01 0:20   20.0  100660  201989       쉴렉스  안마의자 렌탈서비스  무형   \n",
       "2887  2020-07-01 0:40   20.0  100660  201989       쉴렉스  안마의자 렌탈서비스  무형   \n",
       "2888  2020-07-01 1:00   20.0  100660  201989       쉴렉스  안마의자 렌탈서비스  무형   \n",
       "2889  2020-07-01 1:20   20.0  100261  200875        아놀드파마 티셔츠레깅스세트  의류   \n",
       "2890  2020-07-01 1:40   16.0  100261  200875        아놀드파마 티셔츠레깅스세트  의류   \n",
       "\n",
       "          판매단가  \n",
       "0      59,800   \n",
       "1      59,800   \n",
       "2      59,800   \n",
       "3      69,900   \n",
       "4      69,900   \n",
       "...        ...  \n",
       "2886        -   \n",
       "2887        -   \n",
       "2888        -   \n",
       "2889   69,900   \n",
       "2890   69,900   \n",
       "\n",
       "[2891 rows x 7 columns]"
      ]
     },
     "execution_count": 166,
     "metadata": {},
     "output_type": "execute_result"
    }
   ],
   "source": [
    "submission"
   ]
  },
  {
   "cell_type": "code",
   "execution_count": 2,
   "metadata": {},
   "outputs": [],
   "source": [
    "import pandas as pd\n",
    "import numpy as np"
   ]
  },
  {
   "cell_type": "code",
   "execution_count": 11,
   "metadata": {},
   "outputs": [],
   "source": [
    "lotte_tv = pd.read_csv(\"./제출데이터셋/타방송편성표/lotte_tv.csv\")\n",
    "gs_tv = pd.read_csv(\"./제출데이터셋/타방송편성표/gs_tv.csv\")\n",
    "cj_tv = pd.read_csv(\"./제출데이터셋/타방송편성표/cj_tv.csv\")"
   ]
  },
  {
   "cell_type": "markdown",
   "metadata": {},
   "source": [
    "## 타 편성표 데이터 전처리\n",
    "- 타 홈쇼핑의 세일 유무 칼럼 만들기"
   ]
  },
  {
   "cell_type": "code",
   "execution_count": 42,
   "metadata": {},
   "outputs": [],
   "source": [
    "sale_words = [\"세일\",\"할인\",\"한정\",\"특집\",\"특가\",\"최저가\",\"인하\",\"1+1\", \"SALE\"]\n",
    "\n",
    "def is_hot_deal(x):\n",
    "    for w in sale_words:\n",
    "        if w in x:\n",
    "            return True\n",
    "        else:\n",
    "            pass\n",
    "    return False\n",
    "        \n",
    "def hot_preprocessing(data):\n",
    "    hot_deal_data = data[data[\"상품명\"].apply(is_hot_deal)] # 핫딜인 상품만을 추출\n",
    "    \n",
    "    hot_deal_bool = hot_deal_data[[\"날짜\",\"시\"]]\n",
    "    hot_deal_bool[\"세일\"]=1\n",
    "    \n",
    "    return hot_deal_bool"
   ]
  },
  {
   "cell_type": "code",
   "execution_count": 43,
   "metadata": {
    "scrolled": true
   },
   "outputs": [],
   "source": [
    "# 각 홈쇼핑 데이터에서 세일하는 날짜, 시 추출\n",
    "lotte_hot_bool = hot_preprocessing(lotte_tv)\n",
    "gs_hot_bool = hot_preprocessing(gs_tv)\n",
    "cj_hot_bool = hot_preprocessing(cj_tv)\n",
    "\n",
    "# 각 홈쇼핑 데이터 합침\n",
    "total_hot_bool = pd.concat([cj_hot_bool, gs_hot_bool, lotte_hot_bool], axis=0)"
   ]
  },
  {
   "cell_type": "code",
   "execution_count": 44,
   "metadata": {},
   "outputs": [],
   "source": [
    "# 각 홈쇼핑 데이터를 날짜와 시 기준으로 count\n",
    "hot = total_hot_bool.groupby([\"날짜\",\"시\"]).count().reset_index()"
   ]
  },
  {
   "cell_type": "code",
   "execution_count": 222,
   "metadata": {},
   "outputs": [
    {
     "name": "stdout",
     "output_type": "stream",
     "text": [
      "(2891, 10)\n"
     ]
    }
   ],
   "source": [
    "# merge 를 위한 기존 데이터에서 기준 칼럼 생성\n",
    "submission[\"시\"] = pd.to_datetime(submission[\"방송일시\"]).dt.hour\n",
    "submission[\"날짜\"] = pd.to_datetime(submission[\"방송일시\"]).dt.date\n",
    "submission[\"요일\"] = pd.to_datetime(submission[\"방송일시\"]).dt.day\n",
    "\n",
    "submission[\"날짜\"] = submission[\"날짜\"].astype(str)\n",
    "submission[\"시\"] = submission[\"시\"].astype(str)\n",
    "\n",
    "# 기존 데이터와 merge\n",
    "submission = submission.merge(hot, on=[\"시\",\"날짜\"], how=\"left\")\n",
    "submission[\"세일\"]=submission[\"세일\"].fillna(0)"
   ]
  },
  {
   "cell_type": "code",
   "execution_count": 223,
   "metadata": {},
   "outputs": [
    {
     "name": "stdout",
     "output_type": "stream",
     "text": [
      "(2891, 14)\n"
     ]
    },
    {
     "name": "stderr",
     "output_type": "stream",
     "text": [
      "C:\\ProgramData\\Anaconda3\\lib\\site-packages\\ipykernel_launcher.py:7: SettingWithCopyWarning: \n",
      "A value is trying to be set on a copy of a slice from a DataFrame\n",
      "\n",
      "See the caveats in the documentation: https://pandas.pydata.org/pandas-docs/stable/user_guide/indexing.html#returning-a-view-versus-a-copy\n",
      "  import sys\n"
     ]
    }
   ],
   "source": [
    "# 실제날씨, 앱유저, 예보날씨 기존 데이터와 merge\n",
    "a = pd.read_csv(\"./제출데이터셋/실제날씨.csv\")\n",
    "b = pd.read_csv(\"./제출데이터셋/앱유저.csv\")\n",
    "c = pd.read_csv(\"./제출데이터셋/예보날씨.csv\")\n",
    "\n",
    "submission = submission.merge(a, how=\"left\", on=[\"날짜\"])\n",
    "submission = submission.merge(b, how=\"left\", on=[\"날짜\"])\n",
    "submission = submission.merge(c, how=\"left\", on=[\"날짜\"])\n",
    "\n",
    "# 주말 및 휴일 칼럼 만들기(6월은 공휴일이 하루 -> 토요일과 겹침)\n",
    "submission['holiday(includeSS)']=0\n",
    "submission['holiday(includeSS)'][(submission[\"요일\"]==5)|(submission[\"요일\"]==6)]=1\n",
    "\n",
    "# 노출분 null 값 바로 전 값으로 채우기\n",
    "submission[\"노출(분)\"] = submission[\"노출(분)\"].fillna(method = \"ffill\")\n",
    "\n",
    "# 판매단가 칼럼 null 값 제거 및 float 형으로 변환\n",
    "submission[\"판매단가\"] = submission[\"판매단가\"].str.replace(\",\",\"\")\n",
    "submission[\"판매단가\"] = submission[\"판매단가\"].str.replace(\"-\",\"\").astype(float)"
   ]
  },
  {
   "cell_type": "code",
   "execution_count": 231,
   "metadata": {
    "scrolled": true
   },
   "outputs": [],
   "source": [
    "submission.to_csv(\"./제출데이터셋/submission.csv\", index=False) # 저장"
   ]
  }
 ],
 "metadata": {
  "kernelspec": {
   "display_name": "Python 3",
   "language": "python",
   "name": "python3"
  },
  "language_info": {
   "codemirror_mode": {
    "name": "ipython",
    "version": 3
   },
   "file_extension": ".py",
   "mimetype": "text/x-python",
   "name": "python",
   "nbconvert_exporter": "python",
   "pygments_lexer": "ipython3",
   "version": "3.7.6"
  }
 },
 "nbformat": 4,
 "nbformat_minor": 4
}
