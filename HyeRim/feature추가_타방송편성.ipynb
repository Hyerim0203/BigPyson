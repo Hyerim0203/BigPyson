{
 "cells": [
  {
   "cell_type": "markdown",
   "metadata": {},
   "source": [
    "### 타방송사 편성표를 통한 feature 추가"
   ]
  },
  {
   "cell_type": "code",
   "execution_count": 3,
   "metadata": {},
   "outputs": [],
   "source": [
    "import pandas as pd\n",
    "import numpy as np\n",
    "import matplotlib.pyplot as plt\n",
    "import seaborn as sns\n",
    "%matplotlib inline\n",
    "\n",
    "from matplotlib import font_manager, rc \n",
    "font_path = \"C:\\\\Users\\\\이혜림\\\\Desktop\\\\Bita5/malgun.ttf\" \n",
    "font_name = font_manager.FontProperties(fname=font_path).get_name()\n",
    "rc(\"font\",family=font_name)"
   ]
  },
  {
   "cell_type": "code",
   "execution_count": 6,
   "metadata": {},
   "outputs": [],
   "source": [
    "# 크롤링한 데이터 정제 함수\n",
    "def make_tv(data=tv):\n",
    "    tv_data = pd.DataFrame()\n",
    "    start_times = []\n",
    "    end_times = []\n",
    "    names = []\n",
    "    prices = []\n",
    "    day = []\n",
    "    date = pd.date_range(start=\"2019-06-15\", end=\"2019-08-31\",freq=\"D\")\n",
    "    \n",
    "    # 하루마다 돌면서 각 시간대의 데이터 추출\n",
    "    for idx_d, one_day in enumerate(data):\n",
    "        time = one_day[0].split(\"\\n\")[-3:]# 첫번째 요소에서는 시간만 추출\n",
    "        start_times.append(time[0]); end_times.append(time[2])\n",
    "        \n",
    "        containers = list(map(lambda x: x.split(\"\\n\"), one_day[1:])) # 여러 정보가 담겨있는 container\n",
    "        \n",
    "        for idx, container in enumerate(containers):\n",
    "            name, price, time = container[1],container[2], container[-3:]\n",
    "            names.append(name); prices.append(price) \n",
    "            if idx!=len(containers)-1: # 하루 중 맨 마지막 시간대의 정보에는 시간이 포함되어 있지 않기 때문\n",
    "                start_times.append(time[0]), end_times.append(time[2]) \n",
    "            day.append(date[idx_d])\n",
    "        \n",
    "    tv_data[\"상품명\"]=names\n",
    "    tv_data[\"가격\"]=prices\n",
    "    tv_data[\"시작시간\"]=start_times\n",
    "    tv_data[\"종료시간\"]=end_times\n",
    "    tv_data[\"날짜\"]=day\n",
    "    \n",
    "    return tv_data "
   ]
  },
  {
   "cell_type": "code",
   "execution_count": 7,
   "metadata": {},
   "outputs": [],
   "source": [
    "gs_tv = make_tv(tv)"
   ]
  },
  {
   "cell_type": "code",
   "execution_count": 8,
   "metadata": {
    "scrolled": true
   },
   "outputs": [
    {
     "data": {
      "text/html": [
       "<div>\n",
       "<style scoped>\n",
       "    .dataframe tbody tr th:only-of-type {\n",
       "        vertical-align: middle;\n",
       "    }\n",
       "\n",
       "    .dataframe tbody tr th {\n",
       "        vertical-align: top;\n",
       "    }\n",
       "\n",
       "    .dataframe thead th {\n",
       "        text-align: right;\n",
       "    }\n",
       "</style>\n",
       "<table border=\"1\" class=\"dataframe\">\n",
       "  <thead>\n",
       "    <tr style=\"text-align: right;\">\n",
       "      <th></th>\n",
       "      <th>상품명</th>\n",
       "      <th>가격</th>\n",
       "      <th>시작시간</th>\n",
       "      <th>종료시간</th>\n",
       "      <th>날짜</th>\n",
       "    </tr>\n",
       "  </thead>\n",
       "  <tbody>\n",
       "    <tr>\n",
       "      <th>0</th>\n",
       "      <td>모두투어 큐슈 상담예약</td>\n",
       "      <td>상담신청</td>\n",
       "      <td>00:25</td>\n",
       "      <td>01:00</td>\n",
       "      <td>2019-06-15</td>\n",
       "    </tr>\n",
       "    <tr>\n",
       "      <th>1</th>\n",
       "      <td>청정 남극바다 크릴에서 추출한 100% 크릴오일 크릴56 (6개월분)</td>\n",
       "      <td>179,000원</td>\n",
       "      <td>01:00</td>\n",
       "      <td>02:00</td>\n",
       "      <td>2019-06-15</td>\n",
       "    </tr>\n",
       "    <tr>\n",
       "      <th>2</th>\n",
       "      <td>장기무이자 20개월제메이스 14K 빈티지코인 롱 목걸이 2종(14K골드 4.5g)</td>\n",
       "      <td>399,000원</td>\n",
       "      <td>02:00</td>\n",
       "      <td>03:00</td>\n",
       "      <td>2019-06-15</td>\n",
       "    </tr>\n",
       "    <tr>\n",
       "      <th>3</th>\n",
       "      <td>엘르 노와이어 브라팬티속옷</td>\n",
       "      <td>111,200원</td>\n",
       "      <td>03:00</td>\n",
       "      <td>04:00</td>\n",
       "      <td>2019-06-15</td>\n",
       "    </tr>\n",
       "    <tr>\n",
       "      <th>4</th>\n",
       "      <td>1종당 26,334원꼴! 11대 퍼포먼스, 시원함과 편안함에 특화된 바지NEW 헨리...</td>\n",
       "      <td>69,000원</td>\n",
       "      <td>04:00</td>\n",
       "      <td>05:00</td>\n",
       "      <td>2019-06-15</td>\n",
       "    </tr>\n",
       "    <tr>\n",
       "      <th>...</th>\n",
       "      <td>...</td>\n",
       "      <td>...</td>\n",
       "      <td>...</td>\n",
       "      <td>...</td>\n",
       "      <td>...</td>\n",
       "    </tr>\n",
       "    <tr>\n",
       "      <th>1940</th>\n",
       "      <td>롯데관광 서유럽 4국 상담예약</td>\n",
       "      <td>상담신청</td>\n",
       "      <td>18:40</td>\n",
       "      <td>19:30</td>\n",
       "      <td>2019-08-31</td>\n",
       "    </tr>\n",
       "    <tr>\n",
       "      <th>1941</th>\n",
       "      <td>바디프랜드 안마의자 렌탈</td>\n",
       "      <td>상담신청</td>\n",
       "      <td>19:30</td>\n",
       "      <td>20:30</td>\n",
       "      <td>2019-08-31</td>\n",
       "    </tr>\n",
       "    <tr>\n",
       "      <th>1942</th>\n",
       "      <td>★사상최초 1박스 더! 특집한정★ 명절선물은 정관장!정관장 화애락큐 6박스+1박스 ...</td>\n",
       "      <td>525,000원</td>\n",
       "      <td>20:30</td>\n",
       "      <td>21:30</td>\n",
       "      <td>2019-08-31</td>\n",
       "    </tr>\n",
       "    <tr>\n",
       "      <th>1943</th>\n",
       "      <td>LG전자 정수기 상담예약</td>\n",
       "      <td>상담신청</td>\n",
       "      <td>21:30</td>\n",
       "      <td>22:30</td>\n",
       "      <td>2019-08-31</td>\n",
       "    </tr>\n",
       "    <tr>\n",
       "      <th>1944</th>\n",
       "      <td>라삐아프 19FW 최신상 새틴스커트 2종라삐아프 19FW 새틴스커트 2종</td>\n",
       "      <td>79,900원</td>\n",
       "      <td>22:30</td>\n",
       "      <td>01:00</td>\n",
       "      <td>2019-08-31</td>\n",
       "    </tr>\n",
       "  </tbody>\n",
       "</table>\n",
       "<p>1945 rows × 5 columns</p>\n",
       "</div>"
      ],
      "text/plain": [
       "                                                    상품명        가격   시작시간  \\\n",
       "0                                          모두투어 큐슈 상담예약      상담신청  00:25   \n",
       "1                청정 남극바다 크릴에서 추출한 100% 크릴오일 크릴56 (6개월분)  179,000원  01:00   \n",
       "2         장기무이자 20개월제메이스 14K 빈티지코인 롱 목걸이 2종(14K골드 4.5g)  399,000원  02:00   \n",
       "3                                        엘르 노와이어 브라팬티속옷  111,200원  03:00   \n",
       "4     1종당 26,334원꼴! 11대 퍼포먼스, 시원함과 편안함에 특화된 바지NEW 헨리...   69,000원  04:00   \n",
       "...                                                 ...       ...    ...   \n",
       "1940                                   롯데관광 서유럽 4국 상담예약      상담신청  18:40   \n",
       "1941                                      바디프랜드 안마의자 렌탈      상담신청  19:30   \n",
       "1942  ★사상최초 1박스 더! 특집한정★ 명절선물은 정관장!정관장 화애락큐 6박스+1박스 ...  525,000원  20:30   \n",
       "1943                                      LG전자 정수기 상담예약      상담신청  21:30   \n",
       "1944           라삐아프 19FW 최신상 새틴스커트 2종라삐아프 19FW 새틴스커트 2종   79,900원  22:30   \n",
       "\n",
       "       종료시간         날짜  \n",
       "0     01:00 2019-06-15  \n",
       "1     02:00 2019-06-15  \n",
       "2     03:00 2019-06-15  \n",
       "3     04:00 2019-06-15  \n",
       "4     05:00 2019-06-15  \n",
       "...     ...        ...  \n",
       "1940  19:30 2019-08-31  \n",
       "1941  20:30 2019-08-31  \n",
       "1942  21:30 2019-08-31  \n",
       "1943  22:30 2019-08-31  \n",
       "1944  01:00 2019-08-31  \n",
       "\n",
       "[1945 rows x 5 columns]"
      ]
     },
     "execution_count": 8,
     "metadata": {},
     "output_type": "execute_result"
    }
   ],
   "source": [
    "gs_tv"
   ]
  },
  {
   "cell_type": "code",
   "execution_count": 10,
   "metadata": {},
   "outputs": [],
   "source": [
    "cj_tv = make_tv(tv)"
   ]
  },
  {
   "cell_type": "code",
   "execution_count": 11,
   "metadata": {},
   "outputs": [
    {
     "data": {
      "text/html": [
       "<div>\n",
       "<style scoped>\n",
       "    .dataframe tbody tr th:only-of-type {\n",
       "        vertical-align: middle;\n",
       "    }\n",
       "\n",
       "    .dataframe tbody tr th {\n",
       "        vertical-align: top;\n",
       "    }\n",
       "\n",
       "    .dataframe thead th {\n",
       "        text-align: right;\n",
       "    }\n",
       "</style>\n",
       "<table border=\"1\" class=\"dataframe\">\n",
       "  <thead>\n",
       "    <tr style=\"text-align: right;\">\n",
       "      <th></th>\n",
       "      <th>상품명</th>\n",
       "      <th>가격</th>\n",
       "      <th>시작시간</th>\n",
       "      <th>종료시간</th>\n",
       "      <th>날짜</th>\n",
       "    </tr>\n",
       "  </thead>\n",
       "  <tbody>\n",
       "    <tr>\n",
       "      <th>0</th>\n",
       "      <td>[프라다] 다이어그램 크로스백 1BH083</td>\n",
       "      <td>1,289,000원</td>\n",
       "      <td>02:10</td>\n",
       "      <td>05:30</td>\n",
       "      <td>2019-06-15</td>\n",
       "    </tr>\n",
       "    <tr>\n",
       "      <th>1</th>\n",
       "      <td>&lt;1사1명품&gt; 오토핏 휴대폰 무선충전 거치대 1+1</td>\n",
       "      <td>59,900원</td>\n",
       "      <td>05:30</td>\n",
       "      <td>06:00</td>\n",
       "      <td>2019-06-15</td>\n",
       "    </tr>\n",
       "    <tr>\n",
       "      <th>2</th>\n",
       "      <td>윌슨 19SS 울트라-쿨 5종 패키지 남성 [자켓+티셔츠3종+팬츠]</td>\n",
       "      <td>63,500원</td>\n",
       "      <td>06:00</td>\n",
       "      <td>07:20</td>\n",
       "      <td>2019-06-15</td>\n",
       "    </tr>\n",
       "    <tr>\n",
       "      <th>3</th>\n",
       "      <td>[피부가 숨쉬는 커버] 동국제약 마데카커버크림 마스크 구성</td>\n",
       "      <td>89,000원</td>\n",
       "      <td>07:20</td>\n",
       "      <td>08:20</td>\n",
       "      <td>2019-06-15</td>\n",
       "    </tr>\n",
       "    <tr>\n",
       "      <th>4</th>\n",
       "      <td>[굿라이프단독] 365일 숙성노니 이츠코어 노니365 x 10박스</td>\n",
       "      <td>297,000원</td>\n",
       "      <td>08:20</td>\n",
       "      <td>10:20</td>\n",
       "      <td>2019-06-15</td>\n",
       "    </tr>\n",
       "    <tr>\n",
       "      <th>...</th>\n",
       "      <td>...</td>\n",
       "      <td>...</td>\n",
       "      <td>...</td>\n",
       "      <td>...</td>\n",
       "      <td>...</td>\n",
       "    </tr>\n",
       "    <tr>\n",
       "      <th>1488</th>\n",
       "      <td>[NEW최신상] 셀리턴 LED 마스크 렌탈</td>\n",
       "      <td>상담신청</td>\n",
       "      <td>17:40</td>\n",
       "      <td>18:40</td>\n",
       "      <td>2019-08-31</td>\n",
       "    </tr>\n",
       "    <tr>\n",
       "      <th>1489</th>\n",
       "      <td>삼성전자 가전 패키지 렌탈 서비스</td>\n",
       "      <td>상담신청</td>\n",
       "      <td>19:30</td>\n",
       "      <td>20:30</td>\n",
       "      <td>2019-08-31</td>\n",
       "    </tr>\n",
       "    <tr>\n",
       "      <th>1490</th>\n",
       "      <td>M 가누다 골드라벨 라르고 [2세트]베개2+냅1</td>\n",
       "      <td>288,000원</td>\n",
       "      <td>20:30</td>\n",
       "      <td>21:30</td>\n",
       "      <td>2019-08-31</td>\n",
       "    </tr>\n",
       "    <tr>\n",
       "      <th>1491</th>\n",
       "      <td>CJ단독] 이태리 직수입 바게지 스폰지 마스크 4+1통 패키지</td>\n",
       "      <td>99,000원</td>\n",
       "      <td>21:30</td>\n",
       "      <td>22:30</td>\n",
       "      <td>2019-08-31</td>\n",
       "    </tr>\n",
       "    <tr>\n",
       "      <th>1492</th>\n",
       "      <td>[A+G] 엣지 FALL19 셋업 수트 4종</td>\n",
       "      <td>178,000원</td>\n",
       "      <td>22:30</td>\n",
       "      <td>01:00</td>\n",
       "      <td>2019-08-31</td>\n",
       "    </tr>\n",
       "  </tbody>\n",
       "</table>\n",
       "<p>1493 rows × 5 columns</p>\n",
       "</div>"
      ],
      "text/plain": [
       "                                        상품명          가격   시작시간   종료시간  \\\n",
       "0                   [프라다] 다이어그램 크로스백 1BH083  1,289,000원  02:10  05:30   \n",
       "1              <1사1명품> 오토핏 휴대폰 무선충전 거치대 1+1     59,900원  05:30  06:00   \n",
       "2     윌슨 19SS 울트라-쿨 5종 패키지 남성 [자켓+티셔츠3종+팬츠]     63,500원  06:00  07:20   \n",
       "3          [피부가 숨쉬는 커버] 동국제약 마데카커버크림 마스크 구성     89,000원  07:20  08:20   \n",
       "4      [굿라이프단독] 365일 숙성노니 이츠코어 노니365 x 10박스    297,000원  08:20  10:20   \n",
       "...                                     ...         ...    ...    ...   \n",
       "1488                [NEW최신상] 셀리턴 LED 마스크 렌탈        상담신청  17:40  18:40   \n",
       "1489                     삼성전자 가전 패키지 렌탈 서비스        상담신청  19:30  20:30   \n",
       "1490             M 가누다 골드라벨 라르고 [2세트]베개2+냅1    288,000원  20:30  21:30   \n",
       "1491     CJ단독] 이태리 직수입 바게지 스폰지 마스크 4+1통 패키지     99,000원  21:30  22:30   \n",
       "1492               [A+G] 엣지 FALL19 셋업 수트 4종    178,000원  22:30  01:00   \n",
       "\n",
       "             날짜  \n",
       "0    2019-06-15  \n",
       "1    2019-06-15  \n",
       "2    2019-06-15  \n",
       "3    2019-06-15  \n",
       "4    2019-06-15  \n",
       "...         ...  \n",
       "1488 2019-08-31  \n",
       "1489 2019-08-31  \n",
       "1490 2019-08-31  \n",
       "1491 2019-08-31  \n",
       "1492 2019-08-31  \n",
       "\n",
       "[1493 rows x 5 columns]"
      ]
     },
     "execution_count": 11,
     "metadata": {},
     "output_type": "execute_result"
    }
   ],
   "source": [
    "cj_tv"
   ]
  },
  {
   "cell_type": "code",
   "execution_count": 77,
   "metadata": {},
   "outputs": [],
   "source": [
    "lotte_tv =make_tv(tv)"
   ]
  },
  {
   "cell_type": "code",
   "execution_count": 10,
   "metadata": {},
   "outputs": [],
   "source": [
    "Train = pd.read_csv(\"./Train.csv\")\n",
    "data = pd.read_csv(\"./정리데이터/prepared.csv\")"
   ]
  },
  {
   "cell_type": "code",
   "execution_count": 4,
   "metadata": {},
   "outputs": [],
   "source": [
    "lotte_tv = pd.read_csv(\"./타방송편성/lotte.csv\")\n",
    "gs_tv = pd.read_csv(\"./타방송편성/lotte.csv\")\n",
    "cj_tv = pd.read_csv(\"./타방송편성/cj.csv\")"
   ]
  },
  {
   "cell_type": "code",
   "execution_count": 5,
   "metadata": {},
   "outputs": [],
   "source": [
    "sale_words = [\"세일\",\"할인\",\"한정\",\"특집\",\"특가\",\"최저가\",\"인하\",\"1+1\", \"SALE\"]\n",
    "\n",
    "def is_hot_deal(x):\n",
    "    for w in sale_words:\n",
    "        if w in x:\n",
    "            return True\n",
    "        else:\n",
    "            pass\n",
    "    return False\n",
    "        \n",
    "def hot_preprocessing(data):\n",
    "    hot_deal_data = data[data[\"상품명\"].apply(is_hot_deal)] # 핫딜인 상품만을 추출\n",
    "    \n",
    "    hot_deal_bool = hot_deal_data[[\"날짜\"]]\n",
    "    hot_deal_bool[\"시\"] = hot_deal_data[\"시작시간\"].apply(lambda x: x[:2]).astype(int)\n",
    "    hot_deal_bool[\"핫딜유무\"]=1\n",
    "    \n",
    "    return hot_deal_bool"
   ]
  },
  {
   "cell_type": "code",
   "execution_count": 16,
   "metadata": {},
   "outputs": [
    {
     "data": {
      "text/plain": [
       "0             2019 SUMMER 가바 린넨 블랜디드 COOLMAX® 플라잉 여성데님 2종\n",
       "1                                    요하넥스S 리버티 에어 블라우스 3종\n",
       "2                                [CHANTY] 샹티 란제리 25차 브라팬티\n",
       "3       [울트라브이] NEW 이데베논 시그니쳐앰플 특별패키지(앰플 최대 20병용량+트리트먼...\n",
       "4       [H by 이카트리나] 5주년 기념작 시그니쳐 백팩 (5th Anniversary ...\n",
       "                              ...                        \n",
       "1746                                       삼성화재 건강보험 천만안심\n",
       "1747                              □신세계푸드 뉴질랜드산 LA갈비 3.2kg\n",
       "1748                               에이지투웨니스 슈퍼이지티 앰플 론칭패키지\n",
       "1749                         [LBL] 퓨어 캐시미어100 브이넥 홀가먼트 니트\n",
       "1750                             HELENA & KRISTIE 돌체 스니커즈\n",
       "Name: 상품명, Length: 1751, dtype: object"
      ]
     },
     "execution_count": 16,
     "metadata": {},
     "output_type": "execute_result"
    }
   ],
   "source": [
    "lotte_tv[\"상품명\"]"
   ]
  },
  {
   "cell_type": "code",
   "execution_count": 6,
   "metadata": {
    "scrolled": true
   },
   "outputs": [
    {
     "name": "stderr",
     "output_type": "stream",
     "text": [
      "C:\\ProgramData\\Anaconda3\\lib\\site-packages\\ipykernel_launcher.py:15: SettingWithCopyWarning: \n",
      "A value is trying to be set on a copy of a slice from a DataFrame.\n",
      "Try using .loc[row_indexer,col_indexer] = value instead\n",
      "\n",
      "See the caveats in the documentation: https://pandas.pydata.org/pandas-docs/stable/user_guide/indexing.html#returning-a-view-versus-a-copy\n",
      "  from ipykernel import kernelapp as app\n",
      "C:\\ProgramData\\Anaconda3\\lib\\site-packages\\ipykernel_launcher.py:16: SettingWithCopyWarning: \n",
      "A value is trying to be set on a copy of a slice from a DataFrame.\n",
      "Try using .loc[row_indexer,col_indexer] = value instead\n",
      "\n",
      "See the caveats in the documentation: https://pandas.pydata.org/pandas-docs/stable/user_guide/indexing.html#returning-a-view-versus-a-copy\n",
      "  app.launch_new_instance()\n"
     ]
    }
   ],
   "source": [
    "lotte_hot_bool = hot_preprocessing(lotte_tv)"
   ]
  },
  {
   "cell_type": "code",
   "execution_count": 7,
   "metadata": {
    "scrolled": true
   },
   "outputs": [
    {
     "name": "stderr",
     "output_type": "stream",
     "text": [
      "C:\\ProgramData\\Anaconda3\\lib\\site-packages\\ipykernel_launcher.py:15: SettingWithCopyWarning: \n",
      "A value is trying to be set on a copy of a slice from a DataFrame.\n",
      "Try using .loc[row_indexer,col_indexer] = value instead\n",
      "\n",
      "See the caveats in the documentation: https://pandas.pydata.org/pandas-docs/stable/user_guide/indexing.html#returning-a-view-versus-a-copy\n",
      "  from ipykernel import kernelapp as app\n",
      "C:\\ProgramData\\Anaconda3\\lib\\site-packages\\ipykernel_launcher.py:16: SettingWithCopyWarning: \n",
      "A value is trying to be set on a copy of a slice from a DataFrame.\n",
      "Try using .loc[row_indexer,col_indexer] = value instead\n",
      "\n",
      "See the caveats in the documentation: https://pandas.pydata.org/pandas-docs/stable/user_guide/indexing.html#returning-a-view-versus-a-copy\n",
      "  app.launch_new_instance()\n"
     ]
    }
   ],
   "source": [
    "gs_hot_bool = hot_preprocessing(gs_tv)"
   ]
  },
  {
   "cell_type": "code",
   "execution_count": 8,
   "metadata": {
    "scrolled": true
   },
   "outputs": [
    {
     "name": "stderr",
     "output_type": "stream",
     "text": [
      "C:\\ProgramData\\Anaconda3\\lib\\site-packages\\ipykernel_launcher.py:15: SettingWithCopyWarning: \n",
      "A value is trying to be set on a copy of a slice from a DataFrame.\n",
      "Try using .loc[row_indexer,col_indexer] = value instead\n",
      "\n",
      "See the caveats in the documentation: https://pandas.pydata.org/pandas-docs/stable/user_guide/indexing.html#returning-a-view-versus-a-copy\n",
      "  from ipykernel import kernelapp as app\n",
      "C:\\ProgramData\\Anaconda3\\lib\\site-packages\\ipykernel_launcher.py:16: SettingWithCopyWarning: \n",
      "A value is trying to be set on a copy of a slice from a DataFrame.\n",
      "Try using .loc[row_indexer,col_indexer] = value instead\n",
      "\n",
      "See the caveats in the documentation: https://pandas.pydata.org/pandas-docs/stable/user_guide/indexing.html#returning-a-view-versus-a-copy\n",
      "  app.launch_new_instance()\n"
     ]
    }
   ],
   "source": [
    "cj_hot_bool = hot_preprocessing(cj_tv)"
   ]
  },
  {
   "cell_type": "code",
   "execution_count": 21,
   "metadata": {},
   "outputs": [],
   "source": [
    "hot = total_hot_bool.groupby([\"날짜\",\"시\"]).count().reset_index()"
   ]
  },
  {
   "cell_type": "code",
   "execution_count": 399,
   "metadata": {},
   "outputs": [],
   "source": [
    "cj_hot_bool[\"날짜\"]= cj_hot_bool[\"날짜\"].astype(str)"
   ]
  },
  {
   "cell_type": "code",
   "execution_count": 9,
   "metadata": {},
   "outputs": [],
   "source": [
    "total_hot_bool = pd.concat([cj_hot_bool, gs_hot_bool, lotte_hot_bool], axis=0)"
   ]
  },
  {
   "cell_type": "code",
   "execution_count": 14,
   "metadata": {},
   "outputs": [
    {
     "data": {
      "text/plain": [
       "array([0., 1.])"
      ]
     },
     "execution_count": 14,
     "metadata": {},
     "output_type": "execute_result"
    }
   ],
   "source": [
    "new_data[\"핫딜유무_y\"].unique()"
   ]
  },
  {
   "cell_type": "code",
   "execution_count": 25,
   "metadata": {},
   "outputs": [],
   "source": [
    "new_data = data.merge(hot, on=[\"시\",\"날짜\"], how=\"left\").fillna(0)"
   ]
  },
  {
   "cell_type": "code",
   "execution_count": 44,
   "metadata": {},
   "outputs": [],
   "source": [
    "pd.DataFrame(data = new_data[\"핫딜유무_y\"].values, columns = [\"세일\"]).to_csv(\"./타사편성표.csv\")"
   ]
  },
  {
   "cell_type": "code",
   "execution_count": 61,
   "metadata": {},
   "outputs": [
    {
     "data": {
      "text/plain": [
       "array([0., 2., 1., 3.])"
      ]
     },
     "execution_count": 61,
     "metadata": {},
     "output_type": "execute_result"
    }
   ],
   "source": [
    "pd.read_csv(\"./타사편성표.csv\")[\"세일\"].unique()"
   ]
  },
  {
   "cell_type": "markdown",
   "metadata": {},
   "source": [
    "## EDA"
   ]
  },
  {
   "cell_type": "code",
   "execution_count": 33,
   "metadata": {},
   "outputs": [
    {
     "data": {
      "text/plain": [
       "핫딜유무_y\n",
       "0.0    329.401698\n",
       "1.0    341.336114\n",
       "2.0    382.683410\n",
       "3.0    309.208254\n",
       "Name: 주문량, dtype: float64"
      ]
     },
     "execution_count": 33,
     "metadata": {},
     "output_type": "execute_result"
    }
   ],
   "source": [
    "new_data.groupby([\"핫딜유무_y\"])[\"주문량\"].mean()"
   ]
  },
  {
   "cell_type": "code",
   "execution_count": 34,
   "metadata": {},
   "outputs": [
    {
     "data": {
      "text/plain": [
       "핫딜유무_x\n",
       "0.0    330.159024\n",
       "1.0    337.048663\n",
       "2.0    400.975362\n",
       "Name: 주문량, dtype: float64"
      ]
     },
     "execution_count": 34,
     "metadata": {},
     "output_type": "execute_result"
    }
   ],
   "source": [
    "new_data.groupby([\"핫딜유무_x\"])[\"주문량\"].mean()"
   ]
  },
  {
   "cell_type": "code",
   "execution_count": 46,
   "metadata": {
    "scrolled": false
   },
   "outputs": [
    {
     "data": {
      "text/html": [
       "<div>\n",
       "<style scoped>\n",
       "    .dataframe tbody tr th:only-of-type {\n",
       "        vertical-align: middle;\n",
       "    }\n",
       "\n",
       "    .dataframe tbody tr th {\n",
       "        vertical-align: top;\n",
       "    }\n",
       "\n",
       "    .dataframe thead th {\n",
       "        text-align: right;\n",
       "    }\n",
       "</style>\n",
       "<table border=\"1\" class=\"dataframe\">\n",
       "  <thead>\n",
       "    <tr style=\"text-align: right;\">\n",
       "      <th></th>\n",
       "      <th>노출(분)</th>\n",
       "      <th>마더코드</th>\n",
       "      <th>상품코드</th>\n",
       "      <th>판매단가</th>\n",
       "      <th>취급액</th>\n",
       "      <th>요일</th>\n",
       "      <th>시</th>\n",
       "      <th>주문량</th>\n",
       "      <th>holiday</th>\n",
       "      <th>월</th>\n",
       "      <th>...</th>\n",
       "      <th>예보_수원_강수량</th>\n",
       "      <th>예보_수원_일최고기온</th>\n",
       "      <th>예보_수원_일최저기온</th>\n",
       "      <th>Active Users</th>\n",
       "      <th>일</th>\n",
       "      <th>서울풍속</th>\n",
       "      <th>수원풍속</th>\n",
       "      <th>일산풍속</th>\n",
       "      <th>핫딜유무_x</th>\n",
       "      <th>주차</th>\n",
       "    </tr>\n",
       "    <tr>\n",
       "      <th>핫딜유무_y</th>\n",
       "      <th></th>\n",
       "      <th></th>\n",
       "      <th></th>\n",
       "      <th></th>\n",
       "      <th></th>\n",
       "      <th></th>\n",
       "      <th></th>\n",
       "      <th></th>\n",
       "      <th></th>\n",
       "      <th></th>\n",
       "      <th></th>\n",
       "      <th></th>\n",
       "      <th></th>\n",
       "      <th></th>\n",
       "      <th></th>\n",
       "      <th></th>\n",
       "      <th></th>\n",
       "      <th></th>\n",
       "      <th></th>\n",
       "      <th></th>\n",
       "      <th></th>\n",
       "    </tr>\n",
       "  </thead>\n",
       "  <tbody>\n",
       "    <tr>\n",
       "      <th>0.0</th>\n",
       "      <td>11.384821</td>\n",
       "      <td>100353.234099</td>\n",
       "      <td>100353.234099</td>\n",
       "      <td>464659.807590</td>\n",
       "      <td>2.645111e+07</td>\n",
       "      <td>5.499198</td>\n",
       "      <td>14.074826</td>\n",
       "      <td>355.428622</td>\n",
       "      <td>0.0</td>\n",
       "      <td>7.075895</td>\n",
       "      <td>...</td>\n",
       "      <td>1.314531</td>\n",
       "      <td>30.203241</td>\n",
       "      <td>21.404730</td>\n",
       "      <td>134142.401390</td>\n",
       "      <td>18.329770</td>\n",
       "      <td>2.240499</td>\n",
       "      <td>1.765702</td>\n",
       "      <td>1.890318</td>\n",
       "      <td>0.116515</td>\n",
       "      <td>5.067878</td>\n",
       "    </tr>\n",
       "    <tr>\n",
       "      <th>1.0</th>\n",
       "      <td>9.196429</td>\n",
       "      <td>100262.950000</td>\n",
       "      <td>100262.950000</td>\n",
       "      <td>663586.428571</td>\n",
       "      <td>2.019783e+07</td>\n",
       "      <td>5.453571</td>\n",
       "      <td>13.185714</td>\n",
       "      <td>227.786674</td>\n",
       "      <td>0.0</td>\n",
       "      <td>7.217857</td>\n",
       "      <td>...</td>\n",
       "      <td>2.651222</td>\n",
       "      <td>31.235714</td>\n",
       "      <td>22.278795</td>\n",
       "      <td>138832.514286</td>\n",
       "      <td>16.235714</td>\n",
       "      <td>2.543929</td>\n",
       "      <td>1.878743</td>\n",
       "      <td>2.134387</td>\n",
       "      <td>0.957143</td>\n",
       "      <td>5.382143</td>\n",
       "    </tr>\n",
       "    <tr>\n",
       "      <th>2.0</th>\n",
       "      <td>12.500000</td>\n",
       "      <td>100354.857143</td>\n",
       "      <td>100354.857143</td>\n",
       "      <td>279666.666667</td>\n",
       "      <td>2.419011e+07</td>\n",
       "      <td>5.297619</td>\n",
       "      <td>14.309524</td>\n",
       "      <td>333.369753</td>\n",
       "      <td>0.0</td>\n",
       "      <td>7.107143</td>\n",
       "      <td>...</td>\n",
       "      <td>2.155075</td>\n",
       "      <td>30.955514</td>\n",
       "      <td>22.101935</td>\n",
       "      <td>134913.559524</td>\n",
       "      <td>15.178571</td>\n",
       "      <td>2.198198</td>\n",
       "      <td>1.761889</td>\n",
       "      <td>1.865782</td>\n",
       "      <td>0.511905</td>\n",
       "      <td>4.785714</td>\n",
       "    </tr>\n",
       "    <tr>\n",
       "      <th>3.0</th>\n",
       "      <td>20.000000</td>\n",
       "      <td>100755.000000</td>\n",
       "      <td>100755.000000</td>\n",
       "      <td>59000.000000</td>\n",
       "      <td>4.426500e+07</td>\n",
       "      <td>6.000000</td>\n",
       "      <td>13.000000</td>\n",
       "      <td>750.254237</td>\n",
       "      <td>0.0</td>\n",
       "      <td>6.000000</td>\n",
       "      <td>...</td>\n",
       "      <td>0.000000</td>\n",
       "      <td>28.526316</td>\n",
       "      <td>19.750000</td>\n",
       "      <td>136123.000000</td>\n",
       "      <td>30.000000</td>\n",
       "      <td>1.976351</td>\n",
       "      <td>2.161486</td>\n",
       "      <td>2.134459</td>\n",
       "      <td>1.000000</td>\n",
       "      <td>2.000000</td>\n",
       "    </tr>\n",
       "  </tbody>\n",
       "</table>\n",
       "<p>4 rows × 42 columns</p>\n",
       "</div>"
      ],
      "text/plain": [
       "            노출(분)           마더코드           상품코드           판매단가           취급액  \\\n",
       "핫딜유무_y                                                                         \n",
       "0.0     11.384821  100353.234099  100353.234099  464659.807590  2.645111e+07   \n",
       "1.0      9.196429  100262.950000  100262.950000  663586.428571  2.019783e+07   \n",
       "2.0     12.500000  100354.857143  100354.857143  279666.666667  2.419011e+07   \n",
       "3.0     20.000000  100755.000000  100755.000000   59000.000000  4.426500e+07   \n",
       "\n",
       "              요일          시         주문량  holiday         월  ...  예보_수원_강수량  \\\n",
       "핫딜유무_y                                                      ...              \n",
       "0.0     5.499198  14.074826  355.428622      0.0  7.075895  ...   1.314531   \n",
       "1.0     5.453571  13.185714  227.786674      0.0  7.217857  ...   2.651222   \n",
       "2.0     5.297619  14.309524  333.369753      0.0  7.107143  ...   2.155075   \n",
       "3.0     6.000000  13.000000  750.254237      0.0  6.000000  ...   0.000000   \n",
       "\n",
       "        예보_수원_일최고기온  예보_수원_일최저기온   Active Users          일      서울풍속  \\\n",
       "핫딜유무_y                                                                 \n",
       "0.0       30.203241    21.404730  134142.401390  18.329770  2.240499   \n",
       "1.0       31.235714    22.278795  138832.514286  16.235714  2.543929   \n",
       "2.0       30.955514    22.101935  134913.559524  15.178571  2.198198   \n",
       "3.0       28.526316    19.750000  136123.000000  30.000000  1.976351   \n",
       "\n",
       "            수원풍속      일산풍속    핫딜유무_x        주차  \n",
       "핫딜유무_y                                          \n",
       "0.0     1.765702  1.890318  0.116515  5.067878  \n",
       "1.0     1.878743  2.134387  0.957143  5.382143  \n",
       "2.0     1.761889  1.865782  0.511905  4.785714  \n",
       "3.0     2.161486  2.134459  1.000000  2.000000  \n",
       "\n",
       "[4 rows x 42 columns]"
      ]
     },
     "execution_count": 46,
     "metadata": {},
     "output_type": "execute_result"
    }
   ],
   "source": [
    "new_data.loc[(new_data[\"요일\"]==5)|(new_data[\"요일\"]==6),:].groupby(\"핫딜유무_y\").mean()"
   ]
  },
  {
   "cell_type": "code",
   "execution_count": 56,
   "metadata": {},
   "outputs": [
    {
     "data": {
      "text/plain": [
       "1    170\n",
       "2     78\n",
       "3      7\n",
       "Name: 핫딜유무, dtype: int64"
      ]
     },
     "execution_count": 56,
     "metadata": {},
     "output_type": "execute_result"
    }
   ],
   "source": [
    "hot[\"핫딜유무\"].value_counts()"
   ]
  },
  {
   "cell_type": "code",
   "execution_count": null,
   "metadata": {},
   "outputs": [],
   "source": []
  }
 ],
 "metadata": {
  "kernelspec": {
   "display_name": "Python 3",
   "language": "python",
   "name": "python3"
  },
  "language_info": {
   "codemirror_mode": {
    "name": "ipython",
    "version": 3
   },
   "file_extension": ".py",
   "mimetype": "text/x-python",
   "name": "python",
   "nbconvert_exporter": "python",
   "pygments_lexer": "ipython3",
   "version": "3.7.6"
  }
 },
 "nbformat": 4,
 "nbformat_minor": 4
}
