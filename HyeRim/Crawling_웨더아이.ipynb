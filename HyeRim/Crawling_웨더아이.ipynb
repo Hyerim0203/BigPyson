{
 "cells": [
  {
   "cell_type": "markdown",
   "metadata": {},
   "source": [
    "## 웨더아이 날씨 데이터 크롤링\n",
    "- 2019.01~2020.08\n",
    "- 서울, 파주, 수원, 울산, 부산, 광주, 대전, 대구, 강릉"
   ]
  },
  {
   "cell_type": "code",
   "execution_count": 129,
   "metadata": {},
   "outputs": [],
   "source": [
    "import requests\n",
    "import openpyxl\n",
    "from bs4 import BeautifulSoup\n",
    "import os\n",
    "import csv\n",
    "import pprint\n",
    "import pandas as pd\n",
    "import numpy as np\n",
    "from urllib.request import urlretrieve\n",
    "from selenium import webdriver\n",
    "import time\n",
    "import re"
   ]
  },
  {
   "cell_type": "code",
   "execution_count": 132,
   "metadata": {},
   "outputs": [],
   "source": [
    "# 매 파일마다의 칼럼(수집을 원하는 데이터)\n",
    "columns = [\"날짜\",\"평균기온\",\"최고기온\",\"최저기온\",\"강수량(mm)\",\"신적설(cm)\",\"평균풍속(m/s)\",\"평균습도(%)\",\"운량(1/10)\",\"일조시간(Hr)\",\"날씨\"]\n",
    "\n",
    "# 수집을 원하는 지역들\n",
    "select_places = [\"서울\",\"파주\",\"수원\",\"울산\",\"부산\",\"광주\",\"대전\",\"대구\",\"강릉\"] "
   ]
  },
  {
   "cell_type": "code",
   "execution_count": 222,
   "metadata": {},
   "outputs": [],
   "source": [
    "driver=webdriver.Chrome(\"./chromedriver\") \n",
    "\n",
    "driver.get(\"https://www.weatheri.co.kr/bygone/bygone01.php\")\n",
    "time.sleep(3)\n",
    "\n",
    "for place_idx in range(96):\n",
    "    \"\"\"\n",
    "    main frame(검색 옵션 지정 후 검색)\n",
    "    \"\"\"\n",
    "    # 지역, 년도 선택창 -> 매 검색마다 업데이트 되기 때문에 한번 검색 후 다시 새롭게 element 읽어옴\n",
    "    select = driver.find_elements_by_css_selector(\"select\")\n",
    "    place_select = select[0]\n",
    "    year_select = select[1]\n",
    "    places = place_select.find_elements_by_css_selector(\"option\") # 후보 지역들\n",
    "    \n",
    "    p = places[place_idx].text # 지역 이름 추출\n",
    "    \n",
    "    # 원하는 지역이 아니면 넘어감\n",
    "    if p not in select_places:\n",
    "        continue\n",
    "    \n",
    "    # 원하는 지역이 맞다면 옵션으로 선택\n",
    "    places[place_idx].click()\n",
    "    \n",
    "    # 지역 날씨 파일 생성\n",
    "    wb=openpyxl.Workbook()\n",
    "    sheet=wb.active\n",
    "    sheet.append(columns)\n",
    "    \n",
    "    year_select.find_elements_by_css_selector(\"option\")[1].click() # 2019년으로 시작 년도 변경\n",
    "    driver.find_elements_by_css_selector(\"tbody > tr > td img\")[15].click() # 검색\n",
    "    time.sleep(2)\n",
    "    \n",
    "    # 월별 데이터 수집\n",
    "    driver.switch_to.frame(\"kako\") # 데이터가 들어있는 iframe 페이지로 변환\n",
    "    \n",
    "    \"\"\"\n",
    "    iframe(데이터 수집)\n",
    "    \"\"\"\n",
    "    for m in range(20):\n",
    "        # 월 검색 옵션 -> 매 검색마다 새롭게 업데이트 되기 때문에 element 새롭게 읽어옴\n",
    "        months_select = driver.find_element_by_css_selector(\"select\") # 월선택창 클릭\n",
    "        months_select.click()\n",
    "    \n",
    "        months = months_select.find_elements_by_css_selector(\"option\") # 월 선택\n",
    "        months[m].click()\n",
    "        \n",
    "        # 월별 데이터 보기\n",
    "        driver.find_elements_by_css_selector(\"td > img\")[-1].click() # 보기 클릭\n",
    "        time.sleep(1)\n",
    "        \n",
    "        # 데이터 수집\n",
    "        # 한 날짜(한 행)\n",
    "        container = driver.find_elements_by_css_selector(\"tbody tbody tbody tr\")[1:] # 칼럼 행 제거\n",
    "        \n",
    "        for c in container:\n",
    "            data = c.find_elements_by_css_selector(\"td\") # 한 날짜의 모든 데이터\n",
    "            d = data[0].text[:-4] # 날짜 데이터의 공백 및 요일 제거\n",
    "            d.replace(\"\\n\",\"\")\n",
    "            d=re.findall(r\"\\d+\",d) # 숫자만 읽어옴\n",
    "            d=\"-\".join(d) # date 형식으로 변환\n",
    "            one_row = [d]\n",
    "            \n",
    "            # 해당 날짜의 날씨 데이터\n",
    "            for i in range(1,11):\n",
    "                one_row.append(data[i].text) \n",
    "                \n",
    "            sheet.append(one_row) # sheet에 추가\n",
    "  \n",
    "    wb.save(f\"{p}날씨.xlsx\") # 해당 지역 2019~2020 날씨 문서 저장\n",
    "    \n",
    "    driver.switch_to.default_content() # 다시 상위 페이지로 변환"
   ]
  }
 ],
 "metadata": {
  "kernelspec": {
   "display_name": "Python 3",
   "language": "python",
   "name": "python3"
  },
  "language_info": {
   "codemirror_mode": {
    "name": "ipython",
    "version": 3
   },
   "file_extension": ".py",
   "mimetype": "text/x-python",
   "name": "python",
   "nbconvert_exporter": "python",
   "pygments_lexer": "ipython3",
   "version": "3.7.6"
  }
 },
 "nbformat": 4,
 "nbformat_minor": 4
}
