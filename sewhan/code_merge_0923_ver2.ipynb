{
 "cells": [
  {
   "cell_type": "code",
   "execution_count": 1,
   "metadata": {},
   "outputs": [],
   "source": [
    "import matplotlib.pyplot as plt\n",
    "import numpy as np\n",
    "import pandas as pd\n",
    "import datetime as dt\n",
    "import seaborn as sns\n",
    "from scipy import stats\n",
    "import math"
   ]
  },
  {
   "cell_type": "code",
   "execution_count": 2,
   "metadata": {},
   "outputs": [
    {
     "name": "stdout",
     "output_type": "stream",
     "text": [
      "C:\\Users\\장세환\\Desktop\\BigPyson\\sewhan\n"
     ]
    }
   ],
   "source": [
    "import os\n",
    "print(os.getcwd())"
   ]
  },
  {
   "cell_type": "code",
   "execution_count": 3,
   "metadata": {},
   "outputs": [
    {
     "name": "stdout",
     "output_type": "stream",
     "text": [
      "E:\\bigcontest\n"
     ]
    }
   ],
   "source": [
    "os.chdir(\"E:/bigcontest\")\n",
    "print(os.getcwd())"
   ]
  },
  {
   "cell_type": "markdown",
   "metadata": {},
   "source": [
    "# data set"
   ]
  },
  {
   "cell_type": "code",
   "execution_count": 5,
   "metadata": {},
   "outputs": [],
   "source": [
    "train = pd.read_excel('./train_0922.xlsx')\n"
   ]
  },
  {
   "cell_type": "code",
   "execution_count": 8,
   "metadata": {},
   "outputs": [],
   "source": [
    "train['노출(분)'] = train['노출(분)'].replace(0, math.nan)\n",
    "train['노출(분)'] = train['노출(분)'].fillna(method='ffill')"
   ]
  },
  {
   "cell_type": "code",
   "execution_count": 9,
   "metadata": {},
   "outputs": [],
   "source": [
    "test = pd.read_excel('./test_ver1.xlsx', header=1)"
   ]
  },
  {
   "cell_type": "code",
   "execution_count": 16,
   "metadata": {},
   "outputs": [
    {
     "data": {
      "text/plain": [
       "0        f1\n",
       "1        f1\n",
       "2        f1\n",
       "3       g11\n",
       "4       g11\n",
       "       ... \n",
       "7508     a1\n",
       "7509    i29\n",
       "7510    i29\n",
       "7511    i29\n",
       "7512    i29\n",
       "Name: 분류, Length: 7513, dtype: object"
      ]
     },
     "execution_count": 16,
     "metadata": {},
     "output_type": "execute_result"
    }
   ],
   "source": [
    "train['분류'] "
   ]
  },
  {
   "cell_type": "markdown",
   "metadata": {},
   "source": [
    "# 변수 통합"
   ]
  },
  {
   "cell_type": "code",
   "execution_count": 18,
   "metadata": {},
   "outputs": [],
   "source": [
    "# 빈도수인코딩(위의 원핫+pca와 비교해보기)\n",
    "def add_frequency_encoding(data,column): \n",
    "    #데이터프레임,열을 받아서 빈도수인코딩열을 추가해줌\n",
    "    enc_nom = (data.groupby(column).size())/len(data)\n",
    "    data['freq_encode_{}'.format(column)] = data[column].apply(lambda x:enc_nom[x])\n",
    "    print(\"freq_encode column was added\")"
   ]
  },
  {
   "cell_type": "code",
   "execution_count": 19,
   "metadata": {},
   "outputs": [
    {
     "name": "stdout",
     "output_type": "stream",
     "text": [
      "freq_encode column was added\n"
     ]
    }
   ],
   "source": [
    "add_frequency_encoding(train,'분류')"
   ]
  },
  {
   "cell_type": "code",
   "execution_count": 20,
   "metadata": {},
   "outputs": [],
   "source": [
    "#모든 카테고리에 대해 따로따로 자동 변수생성\n",
    "category_list = train['상품군'].unique().tolist()\n",
    "for i in category_list:\n",
    "    #카테고리에 해당하는 주문량제외 train데이터 할당   -> 주문량 포함되어있음\n",
    "    globals()['x_{}'.format(i)] = train.loc[train['상품군']==i] \n",
    "    #카테고리에 해당하는 train의 주문량을 할당\n",
    "    globals()['y_{}'.format(i)] = train['new주문량'].loc[train['상품군']==i]"
   ]
  },
  {
   "cell_type": "code",
   "execution_count": 23,
   "metadata": {},
   "outputs": [
    {
     "data": {
      "text/plain": [
       "0       0.021296\n",
       "1       0.021296\n",
       "2       0.021296\n",
       "3       0.058432\n",
       "4       0.058432\n",
       "          ...   \n",
       "7508    0.040596\n",
       "7509    0.011447\n",
       "7510    0.011447\n",
       "7511    0.011447\n",
       "7512    0.011447\n",
       "Name: freq_encode_분류, Length: 7513, dtype: float64"
      ]
     },
     "execution_count": 23,
     "metadata": {},
     "output_type": "execute_result"
    }
   ],
   "source": [
    "train['freq_encode_분류'] # 빈도 인코딩"
   ]
  },
  {
   "cell_type": "code",
   "execution_count": 24,
   "metadata": {},
   "outputs": [
    {
     "data": {
      "text/plain": [
       "Index(['Unnamed: 0', '방송일시', '노출(분)', '마더코드', '상품코드', '상품명', '상품군', '취급액',\n",
       "       '날짜', '시간', '요일', '시', 'holiday', '월', 'holiday(includeSS)',\n",
       "       '실제_서울_최고기온', '실제_서울_최저기온', '실제_서울_강수량(mm)', '실제_서울_평균풍속(m/s)',\n",
       "       '실제_서울_날씨', '실제_수원_최고기온', '실제_수원_최저기온', '실제_수원_강수량(mm)',\n",
       "       '실제_수원_평균풍속(m/s)', '실제_수원_날씨', '실제_파주_최고기온', '실제_파주_최저기온',\n",
       "       '실제_파주_강수량(mm)', '실제_파주_평균풍속(m/s)', '실제_파주_날씨', '예보_서울_강수확률',\n",
       "       '예보_서울_강수량', '예보_서울_하늘상태', '예보_서울_일최고기온', '예보_서울_일최저기온', '예보_일산_강수확률',\n",
       "       '예보_일산_강수량', '예보_일산_일최고기온', '예보_일산_일최저기온', '예보_수원_강수확률', '예보_수원_강수량',\n",
       "       '예보_수원_일최고기온', '예보_수원_일최저기온', '계절', '미세먼지(㎍/㎥)', '오존(ppm)',\n",
       "       '이산화질소농도(ppm)', '일산화탄소농도(ppm)', '아황산가스농도(ppm)', '초미세먼지(㎍/㎥)', '분류',\n",
       "       'Active Users', 'new판매단가', 'new주문량', 'prime_time', 'prime_day',\n",
       "       'top_code', 'top_cat', 'x1_cat', 'x2_cat', 'top_real_weather',\n",
       "       '실제_최고기온', '실제_최저기온', '실제_강수량', '실제_평균풍속', '세일', 'freq_encode_분류'],\n",
       "      dtype='object')"
      ]
     },
     "execution_count": 24,
     "metadata": {},
     "output_type": "execute_result"
    }
   ],
   "source": [
    "train.columns"
   ]
  },
  {
   "cell_type": "markdown",
   "metadata": {},
   "source": [
    "# 모델 생성 및 학습"
   ]
  },
  {
   "cell_type": "code",
   "execution_count": 25,
   "metadata": {},
   "outputs": [],
   "source": [
    "#모든 카테고리에 대해 따로따로 자동 변수생성\n",
    "category_list = train['상품군'].unique().tolist()\n",
    "for i in category_list:\n",
    "    #카테고리에 해당하는 주문량제외 train데이터 할당   -> 주문량 포함되어있음\n",
    "    globals()['x_{}'.format(i)] = train.loc[train['상품군']==i] \n",
    "    #카테고리에 해당하는 train의 주문량을 할당\n",
    "    globals()['y_{}'.format(i)] = train['new주문량'].loc[train['상품군']==i]"
   ]
  },
  {
   "cell_type": "markdown",
   "metadata": {},
   "source": [
    "# split\n",
    "\n",
    "카테고리별 20분 단위 3갈 각각 피팅 "
   ]
  },
  {
   "cell_type": "code",
   "execution_count": 28,
   "metadata": {},
   "outputs": [],
   "source": [
    "catlist = train['상품군'].unique()"
   ]
  },
  {
   "cell_type": "code",
   "execution_count": 29,
   "metadata": {},
   "outputs": [],
   "source": [
    "#그룹내 방송행간의 시간차이(날짜-날짜) <= 해당그룹 최대 노출(분)인가? \n",
    "# 검토해서 분리하는 함수\n",
    "\n",
    "def split_shoprow(df, time): \n",
    "    shoprow1 = pd.DataFrame()  # train\n",
    "    shoprow2 = pd.DataFrame()  # validation \n",
    "    size = len(df)\n",
    "\n",
    "    for i in range((size)-1):       \n",
    "        if (df['방송일시'].iloc[i+1]-df['방송일시'].iloc[i] <= time):\n",
    "            shoprow1 = shoprow1.append(df.iloc[i])\n",
    "        else:\n",
    "            shoprow2 = shoprow2.append(df.iloc[i])    \n",
    "    i += 1\n",
    "    shoprow2 = shoprow2.append(df.iloc[i])\n",
    "            \n",
    "    return shoprow1,shoprow2"
   ]
  },
  {
   "cell_type": "markdown",
   "metadata": {},
   "source": [
    "## 카테고리별로 split하기"
   ]
  },
  {
   "cell_type": "code",
   "execution_count": 30,
   "metadata": {},
   "outputs": [],
   "source": [
    "for cat in catlist:\n",
    "    selec_cat = globals()['x_{}'.format(cat)]\n",
    "    momcode_cat = selec_cat['마더코드'].unique()\n",
    "    # 걍 한 카테고리에서 가장 노출시간이 긴 시간을 기준으로 해도 될듯?\n",
    "    # 20분씩\n",
    "    max_time = selec_cat['노출(분)'].max()\n",
    "    criteria_time = pd.Timedelta('0 days 00:{}:00'.format(int(max_time)))\n",
    "    T = pd.DataFrame()\n",
    "    V = pd.DataFrame()\n",
    "    \n",
    "    for momcode in momcode_cat:\n",
    "        mom = train[train['마더코드']==momcode]\n",
    "        t, v = split_shoprow(mom, criteria_time) \n",
    "        T = T.append(t)\n",
    "        V = V.append(v)\n",
    "    \n",
    "    globals()['{}_bigfold'.format(cat)] = T\n",
    "    globals()['{}_smallfold'.format(cat)] = V"
   ]
  },
  {
   "cell_type": "code",
   "execution_count": 184,
   "metadata": {},
   "outputs": [],
   "source": [
    "def mean_absolute_percentage_error(y_true, y_pred): \n",
    "    y_true, y_pred = np.array(y_true), np.array(y_pred)\n",
    "    return np.mean(np.abs((y_true - y_pred) / y_true)) * 100"
   ]
  },
  {
   "cell_type": "code",
   "execution_count": 32,
   "metadata": {},
   "outputs": [
    {
     "data": {
      "text/plain": [
       "Index(['Active Users', 'Unnamed: 0', 'freq_encode_분류', 'holiday',\n",
       "       'holiday(includeSS)', 'new주문량', 'new판매단가', 'prime_day', 'prime_time',\n",
       "       'top_cat', 'top_code', 'top_real_weather', 'x1_cat', 'x2_cat', '계절',\n",
       "       '날짜', '노출(분)', '마더코드', '미세먼지(㎍/㎥)', '방송일시', '분류', '상품군', '상품명', '상품코드',\n",
       "       '세일', '시', '시간', '실제_강수량', '실제_서울_강수량(mm)', '실제_서울_날씨', '실제_서울_최고기온',\n",
       "       '실제_서울_최저기온', '실제_서울_평균풍속(m/s)', '실제_수원_강수량(mm)', '실제_수원_날씨',\n",
       "       '실제_수원_최고기온', '실제_수원_최저기온', '실제_수원_평균풍속(m/s)', '실제_최고기온', '실제_최저기온',\n",
       "       '실제_파주_강수량(mm)', '실제_파주_날씨', '실제_파주_최고기온', '실제_파주_최저기온',\n",
       "       '실제_파주_평균풍속(m/s)', '실제_평균풍속', '아황산가스농도(ppm)', '예보_서울_강수량', '예보_서울_강수확률',\n",
       "       '예보_서울_일최고기온', '예보_서울_일최저기온', '예보_서울_하늘상태', '예보_수원_강수량', '예보_수원_강수확률',\n",
       "       '예보_수원_일최고기온', '예보_수원_일최저기온', '예보_일산_강수량', '예보_일산_강수확률', '예보_일산_일최고기온',\n",
       "       '예보_일산_일최저기온', '오존(ppm)', '요일', '월', '이산화질소농도(ppm)', '일산화탄소농도(ppm)',\n",
       "       '초미세먼지(㎍/㎥)', '취급액'],\n",
       "      dtype='object')"
      ]
     },
     "execution_count": 32,
     "metadata": {},
     "output_type": "execute_result"
    }
   ],
   "source": [
    "beauty_smallfold.columns"
   ]
  },
  {
   "cell_type": "code",
   "execution_count": 89,
   "metadata": {},
   "outputs": [],
   "source": [
    "seungen_feature2 = ['노출(분)', 'holiday(includeSS)','실제_최고기온','실제_최저기온','실제_강수량','실제_평균풍속' , '예보_서울_강수확률', '예보_서울_강수량',\n",
    "       '예보_서울_하늘상태', '예보_서울_일최고기온', '예보_서울_일최저기온', '예보_일산_강수확률', '예보_일산_강수량',\n",
    "       '예보_일산_일최고기온', '예보_일산_일최저기온', '예보_수원_강수확률', '예보_수원_강수량', '예보_수원_일최고기온',\n",
    "       '예보_수원_일최저기온', 'Active Users', 'new판매단가', 'prime_time',\n",
    "       'prime_day', 'top_code', 'top_cat','x1_cat','x2_cat']\n",
    "\n",
    "\n"
   ]
  },
  {
   "cell_type": "code",
   "execution_count": 90,
   "metadata": {},
   "outputs": [],
   "source": [
    "feature_selection= seungen_feature2"
   ]
  },
  {
   "cell_type": "code",
   "execution_count": 62,
   "metadata": {},
   "outputs": [],
   "source": [
    "\n",
    "y_beauty_bigfold = beauty_bigfold['new주문량']\n",
    "y_beauty_smallfold = beauty_smallfold['new주문량']"
   ]
  },
  {
   "cell_type": "code",
   "execution_count": 63,
   "metadata": {},
   "outputs": [],
   "source": [
    "x_beauty_bigfold = beauty_bigfold[seungen_feature2]\n",
    "x_beauty_smallfold = beauty_smallfold[seungen_feature2]"
   ]
  },
  {
   "cell_type": "markdown",
   "metadata": {},
   "source": [
    "# Random Forest"
   ]
  },
  {
   "cell_type": "code",
   "execution_count": 64,
   "metadata": {},
   "outputs": [],
   "source": [
    "\n",
    "from sklearn.ensemble import RandomForestRegressor\n",
    "forest = RandomForestRegressor(random_state=1234)"
   ]
  },
  {
   "cell_type": "code",
   "execution_count": 91,
   "metadata": {},
   "outputs": [],
   "source": [
    "\n",
    "for i in category_list:\n",
    "  globals()['x_{}_bigfold'.format(i)] = globals()['{}_bigfold'.format(i)][feature_selection]\n",
    "  globals()['x_{}_smallfold'.format(i)] = globals()['{}_smallfold'.format(i)][feature_selection]\n",
    "  globals()['y_{}_bigfold'.format(i)] = globals()['{}_bigfold'.format(i)]['new주문량']\n",
    "  globals()['y_{}_smallfold'.format(i)] = globals()['{}_smallfold'.format(i)]['new주문량']\n",
    "\n",
    "mape_score_3gal = []\n",
    "for i in category_list:\n",
    "  category_data = globals()['x_{}_bigfold'.format(i)]\n",
    "  category_label =  globals()['y_{}_bigfold'.format(i)]\n",
    "  forest.fit(category_data,category_label)          # bigfold로 훈련시킴\n",
    "  test_data = globals()['x_{}_smallfold'.format(i)]\n",
    "  test_label =  globals()['y_{}_smallfold'.format(i)]\n",
    "  predictions = forest.predict(test_data) \n",
    "  mape_score_3gal.append(mean_absolute_percentage_error(test_label, predictions)) # smallfold 데이터로 예측"
   ]
  },
  {
   "cell_type": "code",
   "execution_count": 92,
   "metadata": {},
   "outputs": [
    {
     "name": "stdout",
     "output_type": "stream",
     "text": [
      "RF MAPE score of test inner : 9.785157210115965\n",
      "RF MAPE score of test cloth : 10.547171584113967\n",
      "RF MAPE score of test elec : 26.901645431486248\n",
      "RF MAPE score of test living : 13.405616644245471\n",
      "RF MAPE score of test food : 5.308406816778787\n",
      "RF MAPE score of test health : 8.52870905045054\n",
      "RF MAPE score of test bedding : 12.356173105743649\n",
      "RF MAPE score of test furniture : 25.8239978935915\n",
      "RF MAPE score of test beauty : 7.599210988632526\n",
      "RF MAPE score of test etc : 17.30755171904211\n",
      "RF MAPE score of test life : 15.617103275946098\n"
     ]
    }
   ],
   "source": [
    "for i in range(len(category_list)):\n",
    "  print(\"RF MAPE score of test\",category_list[i],\":\",mape_score_3gal[i])"
   ]
  },
  {
   "cell_type": "code",
   "execution_count": 93,
   "metadata": {},
   "outputs": [
    {
     "data": {
      "text/plain": [
       "13.925522156376987"
      ]
     },
     "execution_count": 93,
     "metadata": {},
     "output_type": "execute_result"
    }
   ],
   "source": [
    "pd.Series(mape_score_3gal).mean()\n",
    "\n"
   ]
  },
  {
   "cell_type": "markdown",
   "metadata": {},
   "source": [
    "seungen_feature2 = ['노출(분)', 'holiday(includeSS)','실제_최고기온','실제_최저기온','실제_강수량','실제_평균풍속' , '예보_서울_강수확률', '예보_서울_강수량',\n",
    "       '예보_서울_하늘상태', '예보_서울_일최고기온', '예보_서울_일최저기온', '예보_일산_강수확률', '예보_일산_강수량',\n",
    "       '예보_일산_일최고기온', '예보_일산_일최저기온', '예보_수원_강수확률', '예보_수원_강수량', '예보_수원_일최고기온',\n",
    "       '예보_수원_일최저기온', 'Active Users', 'new판매단가', 'prime_time',\n",
    "       'prime_day', 'top_code', 'top_cat','x1_cat','x2_cat','top_real_weather','freq_encode_분류']\n",
    "-> 13.904164439370625 \n",
    "\n",
    "seungen_feature2 = ['노출(분)', 'holiday(includeSS)','실제_최고기온','실제_최저기온','실제_강수량','실제_평균풍속' , '예보_서울_강수확률', '예보_서울_강수량',\n",
    "       '예보_서울_하늘상태', '예보_서울_일최고기온', '예보_서울_일최저기온', '예보_일산_강수확률', '예보_일산_강수량',\n",
    "       '예보_일산_일최고기온', '예보_일산_일최저기온', '예보_수원_강수확률', '예보_수원_강수량', '예보_수원_일최고기온',\n",
    "       '예보_수원_일최저기온', 'Active Users', 'new판매단가', 'prime_time',\n",
    "       'prime_day', 'top_code', 'top_cat','x1_cat','x2_cat','top_real_weather']\n",
    "-> 13.878734898890759\n",
    "\n",
    "\n",
    "seungen_feature = ['노출(분)', 'holiday(includeSS)','실제_최고기온','실제_최저기온','실제_강수량','실제_평균풍속' , '예보_서울_강수확률', '예보_서울_강수량',\n",
    "       '예보_서울_하늘상태', '예보_서울_일최고기온', '예보_서울_일최저기온', '예보_일산_강수확률', '예보_일산_강수량',\n",
    "       '예보_일산_일최고기온', '예보_일산_일최저기온', '예보_수원_강수확률', '예보_수원_강수량', '예보_수원_일최고기온',\n",
    "       '예보_수원_일최저기온', 'Active Users', 'new판매단가', 'prime_time',\n",
    "       'prime_day', 'top_code', 'top_cat']\n",
    "->13.866119096556979\n",
    "\n",
    "\n",
    "seungen_feature2 = ['노출(분)', 'holiday(includeSS)','실제_최고기온','실제_최저기온','실제_강수량','실제_평균풍속' , '예보_서울_강수확률', '예보_서울_강수량',\n",
    "       '예보_서울_하늘상태', '예보_서울_일최고기온', '예보_서울_일최저기온', '예보_일산_강수확률', '예보_일산_강수량',\n",
    "       '예보_일산_일최고기온', '예보_일산_일최저기온', '예보_수원_강수확률', '예보_수원_강수량', '예보_수원_일최고기온',\n",
    "       '예보_수원_일최저기온', 'Active Users', 'new판매단가', 'prime_time',\n",
    "       'prime_day', 'top_code', 'top_cat','x1_cat','x2_cat']\n",
    "\n",
    "->13.863088620722529 -> 요거 쓰자!\n"
   ]
  },
  {
   "cell_type": "markdown",
   "metadata": {},
   "source": [
    "# GB_AUTOML"
   ]
  },
  {
   "cell_type": "code",
   "execution_count": 122,
   "metadata": {},
   "outputs": [
    {
     "name": "stdout",
     "output_type": "stream",
     "text": [
      "Checking whether there is an H2O instance running at http://localhost:54321 . connected.\n"
     ]
    },
    {
     "data": {
      "text/html": [
       "<div style=\"overflow:auto\"><table style=\"width:50%\"><tr><td>H2O_cluster_uptime:</td>\n",
       "<td>2 days 11 hours 28 mins</td></tr>\n",
       "<tr><td>H2O_cluster_timezone:</td>\n",
       "<td>Asia/Seoul</td></tr>\n",
       "<tr><td>H2O_data_parsing_timezone:</td>\n",
       "<td>UTC</td></tr>\n",
       "<tr><td>H2O_cluster_version:</td>\n",
       "<td>3.30.0.7</td></tr>\n",
       "<tr><td>H2O_cluster_version_age:</td>\n",
       "<td>2 months and 1 day </td></tr>\n",
       "<tr><td>H2O_cluster_name:</td>\n",
       "<td>H2O_from_python_占쎌삢占쎄쉭占쎌넎_s8b2y9</td></tr>\n",
       "<tr><td>H2O_cluster_total_nodes:</td>\n",
       "<td>1</td></tr>\n",
       "<tr><td>H2O_cluster_free_memory:</td>\n",
       "<td>2.269 Gb</td></tr>\n",
       "<tr><td>H2O_cluster_total_cores:</td>\n",
       "<td>8</td></tr>\n",
       "<tr><td>H2O_cluster_allowed_cores:</td>\n",
       "<td>8</td></tr>\n",
       "<tr><td>H2O_cluster_status:</td>\n",
       "<td>locked, healthy</td></tr>\n",
       "<tr><td>H2O_connection_url:</td>\n",
       "<td>http://localhost:54321</td></tr>\n",
       "<tr><td>H2O_connection_proxy:</td>\n",
       "<td>{\"http\": null, \"https\": null, \"no\": \"192.168.99.100\"}</td></tr>\n",
       "<tr><td>H2O_internal_security:</td>\n",
       "<td>False</td></tr>\n",
       "<tr><td>H2O_API_Extensions:</td>\n",
       "<td>Amazon S3, Algos, AutoML, Core V3, TargetEncoder, Core V4</td></tr>\n",
       "<tr><td>Python_version:</td>\n",
       "<td>3.7.7 final</td></tr></table></div>"
      ],
      "text/plain": [
       "--------------------------  ---------------------------------------------------------\n",
       "H2O_cluster_uptime:         2 days 11 hours 28 mins\n",
       "H2O_cluster_timezone:       Asia/Seoul\n",
       "H2O_data_parsing_timezone:  UTC\n",
       "H2O_cluster_version:        3.30.0.7\n",
       "H2O_cluster_version_age:    2 months and 1 day\n",
       "H2O_cluster_name:           H2O_from_python_占쎌삢占쎄쉭占쎌넎_s8b2y9\n",
       "H2O_cluster_total_nodes:    1\n",
       "H2O_cluster_free_memory:    2.269 Gb\n",
       "H2O_cluster_total_cores:    8\n",
       "H2O_cluster_allowed_cores:  8\n",
       "H2O_cluster_status:         locked, healthy\n",
       "H2O_connection_url:         http://localhost:54321\n",
       "H2O_connection_proxy:       {\"http\": null, \"https\": null, \"no\": \"192.168.99.100\"}\n",
       "H2O_internal_security:      False\n",
       "H2O_API_Extensions:         Amazon S3, Algos, AutoML, Core V3, TargetEncoder, Core V4\n",
       "Python_version:             3.7.7 final\n",
       "--------------------------  ---------------------------------------------------------"
      ]
     },
     "metadata": {},
     "output_type": "display_data"
    }
   ],
   "source": [
    "import h2o\n",
    "from h2o.estimators import H2OGradientBoostingEstimator\n",
    "h2o.init()"
   ]
  },
  {
   "cell_type": "code",
   "execution_count": 103,
   "metadata": {},
   "outputs": [],
   "source": [
    "automl_feature = ['노출(분)', 'holiday(includeSS)','실제_최고기온','실제_최저기온','실제_강수량','실제_평균풍속' , '예보_서울_강수확률', '예보_서울_강수량',\n",
    "       '예보_서울_하늘상태', '예보_서울_일최고기온', '예보_서울_일최저기온', '예보_일산_강수확률', '예보_일산_강수량',\n",
    "       '예보_일산_일최고기온', '예보_일산_일최저기온', '예보_수원_강수확률', '예보_수원_강수량', '예보_수원_일최고기온',\n",
    "       '예보_수원_일최저기온', 'Active Users', 'new판매단가', 'prime_time',\n",
    "       'prime_day', 'top_code', 'top_cat','x1_cat','x2_cat','new주문량']"
   ]
  },
  {
   "cell_type": "code",
   "execution_count": 151,
   "metadata": {},
   "outputs": [
    {
     "name": "stdout",
     "output_type": "stream",
     "text": [
      "Parse progress: |█████████████████████████████████████████████████████████| 100%\n",
      "Parse progress: |█████████████████████████████████████████████████████████| 100%\n"
     ]
    }
   ],
   "source": [
    "# split train, validation set\n",
    "train= h2o.H2OFrame(beauty_bigfold[automl_feature])\n",
    "valid= h2o.H2OFrame(beauty_smallfold[automl_feature ])"
   ]
  },
  {
   "cell_type": "code",
   "execution_count": 105,
   "metadata": {},
   "outputs": [
    {
     "data": {
      "text/html": [
       "<table>\n",
       "<thead>\n",
       "<tr><th style=\"text-align: right;\">  �끂異�(遺�)</th><th style=\"text-align: right;\">  holiday(includeSS)</th><th style=\"text-align: right;\">  �떎�젣_理쒓퀬湲곗삩</th><th style=\"text-align: right;\">  �떎�젣_理쒖�湲곗삩</th><th style=\"text-align: right;\">  �떎�젣_媛뺤닔�웾</th><th style=\"text-align: right;\">  �떎�젣_�룊洹좏뭾�냽</th><th style=\"text-align: right;\">  �삁蹂�_�꽌�슱_媛뺤닔�솗瑜�</th><th style=\"text-align: right;\">  �삁蹂�_�꽌�슱_媛뺤닔�웾</th><th style=\"text-align: right;\">  �삁蹂�_�꽌�슱_�븯�뒛�긽�깭</th><th style=\"text-align: right;\">  �삁蹂�_�꽌�슱_�씪理쒓퀬湲곗삩</th><th style=\"text-align: right;\">  �삁蹂�_�꽌�슱_�씪理쒖�湲곗삩</th><th style=\"text-align: right;\">  �삁蹂�_�씪�궛_媛뺤닔�솗瑜�</th><th style=\"text-align: right;\">  �삁蹂�_�씪�궛_媛뺤닔�웾</th><th style=\"text-align: right;\">  �삁蹂�_�씪�궛_�씪理쒓퀬湲곗삩</th><th style=\"text-align: right;\">  �삁蹂�_�씪�궛_�씪理쒖�湲곗삩</th><th style=\"text-align: right;\">  �삁蹂�_�닔�썝_媛뺤닔�솗瑜�</th><th style=\"text-align: right;\">  �삁蹂�_�닔�썝_媛뺤닔�웾</th><th style=\"text-align: right;\">  �삁蹂�_�닔�썝_�씪理쒓퀬湲곗삩</th><th style=\"text-align: right;\">  �삁蹂�_�닔�썝_�씪理쒖�湲곗삩</th><th style=\"text-align: right;\">  Active Users</th><th style=\"text-align: right;\">  new�뙋留ㅻ떒媛�</th><th style=\"text-align: right;\">  prime_time</th><th style=\"text-align: right;\">  prime_day</th><th style=\"text-align: right;\">  top_code</th><th style=\"text-align: right;\">  top_cat</th><th style=\"text-align: right;\">      x1_cat</th><th style=\"text-align: right;\">      x2_cat</th><th style=\"text-align: right;\">  new二쇰Ц�웾</th></tr>\n",
       "</thead>\n",
       "<tbody>\n",
       "<tr><td style=\"text-align: right;\">          nan</td><td style=\"text-align: right;\">                 nan</td><td style=\"text-align: right;\">             nan     </td><td style=\"text-align: right;\">            nan     </td><td style=\"text-align: right;\">       nan        </td><td style=\"text-align: right;\">            nan      </td><td style=\"text-align: right;\">                   nan      </td><td style=\"text-align: right;\">               nan       </td><td style=\"text-align: right;\">                   nan      </td><td style=\"text-align: right;\">                       nan     </td><td style=\"text-align: right;\">                      nan     </td><td style=\"text-align: right;\">                   nan      </td><td style=\"text-align: right;\">               nan       </td><td style=\"text-align: right;\">                       nan     </td><td style=\"text-align: right;\">                      nan     </td><td style=\"text-align: right;\">                   nan      </td><td style=\"text-align: right;\">               nan       </td><td style=\"text-align: right;\">                       nan     </td><td style=\"text-align: right;\">                      nan     </td><td style=\"text-align: right;\">           nan</td><td style=\"text-align: right;\">         nan     </td><td style=\"text-align: right;\">         nan</td><td style=\"text-align: right;\">        nan</td><td style=\"text-align: right;\">       nan</td><td style=\"text-align: right;\">      nan</td><td style=\"text-align: right;\">nan         </td><td style=\"text-align: right;\">nan         </td><td style=\"text-align: right;\">    nan      </td></tr>\n",
       "<tr><td style=\"text-align: right;\">           20</td><td style=\"text-align: right;\">                   0</td><td style=\"text-align: right;\">              26.1   </td><td style=\"text-align: right;\">             17.2667</td><td style=\"text-align: right;\">         0.0666667</td><td style=\"text-align: right;\">              2      </td><td style=\"text-align: right;\">                    29.1892 </td><td style=\"text-align: right;\">                 1.44737 </td><td style=\"text-align: right;\">                     3.21622</td><td style=\"text-align: right;\">                        26.4737</td><td style=\"text-align: right;\">                       18     </td><td style=\"text-align: right;\">                    30.4054 </td><td style=\"text-align: right;\">                 1.44737 </td><td style=\"text-align: right;\">                        24.9474</td><td style=\"text-align: right;\">                       17.4375</td><td style=\"text-align: right;\">                    26.6892 </td><td style=\"text-align: right;\">                 1.44737 </td><td style=\"text-align: right;\">                        26.8947</td><td style=\"text-align: right;\">                       17.4375</td><td style=\"text-align: right;\">        110345</td><td style=\"text-align: right;\">          11.1419</td><td style=\"text-align: right;\">           6</td><td style=\"text-align: right;\">          3</td><td style=\"text-align: right;\">         0</td><td style=\"text-align: right;\">       42</td><td style=\"text-align: right;\"> -0.00420563</td><td style=\"text-align: right;\">  0.00531476</td><td style=\"text-align: right;\">      5.81862</td></tr>\n",
       "<tr><td style=\"text-align: right;\">           20</td><td style=\"text-align: right;\">                   0</td><td style=\"text-align: right;\">              26.3667</td><td style=\"text-align: right;\">             18.3   </td><td style=\"text-align: right;\">         0.0666667</td><td style=\"text-align: right;\">              1.66667</td><td style=\"text-align: right;\">                    10.473  </td><td style=\"text-align: right;\">                 0.526316</td><td style=\"text-align: right;\">                     1.94595</td><td style=\"text-align: right;\">                        28.7368</td><td style=\"text-align: right;\">                       18     </td><td style=\"text-align: right;\">                    10.1351 </td><td style=\"text-align: right;\">                 0.328947</td><td style=\"text-align: right;\">                        28.1053</td><td style=\"text-align: right;\">                       16.3125</td><td style=\"text-align: right;\">                     9.52703</td><td style=\"text-align: right;\">                 0.328947</td><td style=\"text-align: right;\">                        29.4737</td><td style=\"text-align: right;\">                       18     </td><td style=\"text-align: right;\">        122905</td><td style=\"text-align: right;\">          11.1419</td><td style=\"text-align: right;\">           7</td><td style=\"text-align: right;\">          6</td><td style=\"text-align: right;\">         0</td><td style=\"text-align: right;\">       42</td><td style=\"text-align: right;\"> -0.00420563</td><td style=\"text-align: right;\">  0.00531476</td><td style=\"text-align: right;\">      5.58033</td></tr>\n",
       "<tr><td style=\"text-align: right;\">           20</td><td style=\"text-align: right;\">                   0</td><td style=\"text-align: right;\">              26.3667</td><td style=\"text-align: right;\">             18.3   </td><td style=\"text-align: right;\">         0.0666667</td><td style=\"text-align: right;\">              1.66667</td><td style=\"text-align: right;\">                    10.473  </td><td style=\"text-align: right;\">                 0.526316</td><td style=\"text-align: right;\">                     1.94595</td><td style=\"text-align: right;\">                        28.7368</td><td style=\"text-align: right;\">                       18     </td><td style=\"text-align: right;\">                    10.1351 </td><td style=\"text-align: right;\">                 0.328947</td><td style=\"text-align: right;\">                        28.1053</td><td style=\"text-align: right;\">                       16.3125</td><td style=\"text-align: right;\">                     9.52703</td><td style=\"text-align: right;\">                 0.328947</td><td style=\"text-align: right;\">                        29.4737</td><td style=\"text-align: right;\">                       18     </td><td style=\"text-align: right;\">        122905</td><td style=\"text-align: right;\">          11.1419</td><td style=\"text-align: right;\">           7</td><td style=\"text-align: right;\">          6</td><td style=\"text-align: right;\">         0</td><td style=\"text-align: right;\">       42</td><td style=\"text-align: right;\"> -0.00420563</td><td style=\"text-align: right;\">  0.00531476</td><td style=\"text-align: right;\">      5.94055</td></tr>\n",
       "<tr><td style=\"text-align: right;\">           20</td><td style=\"text-align: right;\">                   0</td><td style=\"text-align: right;\">              30.5333</td><td style=\"text-align: right;\">             18.9   </td><td style=\"text-align: right;\">         0        </td><td style=\"text-align: right;\">              1.7    </td><td style=\"text-align: right;\">                     6.14865</td><td style=\"text-align: right;\">                 0       </td><td style=\"text-align: right;\">                     1.61486</td><td style=\"text-align: right;\">                        31.8947</td><td style=\"text-align: right;\">                       19.9375</td><td style=\"text-align: right;\">                     6.08108</td><td style=\"text-align: right;\">                 0       </td><td style=\"text-align: right;\">                        30.2105</td><td style=\"text-align: right;\">                       18     </td><td style=\"text-align: right;\">                     4.39189</td><td style=\"text-align: right;\">                 0       </td><td style=\"text-align: right;\">                        31.7368</td><td style=\"text-align: right;\">                       18.875 </td><td style=\"text-align: right;\">        128337</td><td style=\"text-align: right;\">          11.1419</td><td style=\"text-align: right;\">           3</td><td style=\"text-align: right;\">          3</td><td style=\"text-align: right;\">         0</td><td style=\"text-align: right;\">       42</td><td style=\"text-align: right;\"> -0.00420563</td><td style=\"text-align: right;\">  0.00531476</td><td style=\"text-align: right;\">      5.66079</td></tr>\n",
       "<tr><td style=\"text-align: right;\">           20</td><td style=\"text-align: right;\">                   0</td><td style=\"text-align: right;\">              30.5333</td><td style=\"text-align: right;\">             18.9   </td><td style=\"text-align: right;\">         0        </td><td style=\"text-align: right;\">              1.7    </td><td style=\"text-align: right;\">                     6.14865</td><td style=\"text-align: right;\">                 0       </td><td style=\"text-align: right;\">                     1.61486</td><td style=\"text-align: right;\">                        31.8947</td><td style=\"text-align: right;\">                       19.9375</td><td style=\"text-align: right;\">                     6.08108</td><td style=\"text-align: right;\">                 0       </td><td style=\"text-align: right;\">                        30.2105</td><td style=\"text-align: right;\">                       18     </td><td style=\"text-align: right;\">                     4.39189</td><td style=\"text-align: right;\">                 0       </td><td style=\"text-align: right;\">                        31.7368</td><td style=\"text-align: right;\">                       18.875 </td><td style=\"text-align: right;\">        128337</td><td style=\"text-align: right;\">          11.1419</td><td style=\"text-align: right;\">           3</td><td style=\"text-align: right;\">          3</td><td style=\"text-align: right;\">         0</td><td style=\"text-align: right;\">       42</td><td style=\"text-align: right;\"> -0.00420563</td><td style=\"text-align: right;\">  0.00531476</td><td style=\"text-align: right;\">      6.0939 </td></tr>\n",
       "<tr><td style=\"text-align: right;\">           20</td><td style=\"text-align: right;\">                   0</td><td style=\"text-align: right;\">              28.9333</td><td style=\"text-align: right;\">             20.9667</td><td style=\"text-align: right;\">         0.233333 </td><td style=\"text-align: right;\">              1.4    </td><td style=\"text-align: right;\">                    27.7027 </td><td style=\"text-align: right;\">                 1.25    </td><td style=\"text-align: right;\">                     3.24324</td><td style=\"text-align: right;\">                        27.7895</td><td style=\"text-align: right;\">                       20.4375</td><td style=\"text-align: right;\">                    25.5405 </td><td style=\"text-align: right;\">                 0.855263</td><td style=\"text-align: right;\">                        27     </td><td style=\"text-align: right;\">                       20     </td><td style=\"text-align: right;\">                    30      </td><td style=\"text-align: right;\">                 1.65789 </td><td style=\"text-align: right;\">                        26.6316</td><td style=\"text-align: right;\">                       20.75  </td><td style=\"text-align: right;\">        130279</td><td style=\"text-align: right;\">          11.1419</td><td style=\"text-align: right;\">           8</td><td style=\"text-align: right;\">          6</td><td style=\"text-align: right;\">         0</td><td style=\"text-align: right;\">       42</td><td style=\"text-align: right;\"> -0.00420563</td><td style=\"text-align: right;\">  0.00531476</td><td style=\"text-align: right;\">      4.62412</td></tr>\n",
       "<tr><td style=\"text-align: right;\">           20</td><td style=\"text-align: right;\">                   0</td><td style=\"text-align: right;\">              28.9333</td><td style=\"text-align: right;\">             20.9667</td><td style=\"text-align: right;\">         0.233333 </td><td style=\"text-align: right;\">              1.4    </td><td style=\"text-align: right;\">                    27.7027 </td><td style=\"text-align: right;\">                 1.25    </td><td style=\"text-align: right;\">                     3.24324</td><td style=\"text-align: right;\">                        27.7895</td><td style=\"text-align: right;\">                       20.4375</td><td style=\"text-align: right;\">                    25.5405 </td><td style=\"text-align: right;\">                 0.855263</td><td style=\"text-align: right;\">                        27     </td><td style=\"text-align: right;\">                       20     </td><td style=\"text-align: right;\">                    30      </td><td style=\"text-align: right;\">                 1.65789 </td><td style=\"text-align: right;\">                        26.6316</td><td style=\"text-align: right;\">                       20.75  </td><td style=\"text-align: right;\">        130279</td><td style=\"text-align: right;\">          11.1419</td><td style=\"text-align: right;\">           8</td><td style=\"text-align: right;\">          6</td><td style=\"text-align: right;\">         0</td><td style=\"text-align: right;\">       42</td><td style=\"text-align: right;\"> -0.00420563</td><td style=\"text-align: right;\">  0.00531476</td><td style=\"text-align: right;\">      5.5311 </td></tr>\n",
       "<tr><td style=\"text-align: right;\">           30</td><td style=\"text-align: right;\">                   0</td><td style=\"text-align: right;\">              24.1   </td><td style=\"text-align: right;\">             17.1333</td><td style=\"text-align: right;\">        13.2      </td><td style=\"text-align: right;\">              1.36667</td><td style=\"text-align: right;\">                    32.2297 </td><td style=\"text-align: right;\">                 2.17105 </td><td style=\"text-align: right;\">                     3.48649</td><td style=\"text-align: right;\">                        26.9474</td><td style=\"text-align: right;\">                       18.4375</td><td style=\"text-align: right;\">                    32.0946 </td><td style=\"text-align: right;\">                 2.17105 </td><td style=\"text-align: right;\">                        25.8947</td><td style=\"text-align: right;\">                       18     </td><td style=\"text-align: right;\">                    32.027  </td><td style=\"text-align: right;\">                 1.71053 </td><td style=\"text-align: right;\">                        27     </td><td style=\"text-align: right;\">                       18.4375</td><td style=\"text-align: right;\">        117841</td><td style=\"text-align: right;\">          10.9988</td><td style=\"text-align: right;\">           5</td><td style=\"text-align: right;\">          7</td><td style=\"text-align: right;\">        39</td><td style=\"text-align: right;\">       57</td><td style=\"text-align: right;\"> -0.00436986</td><td style=\"text-align: right;\">  0.00552503</td><td style=\"text-align: right;\">      6.31132</td></tr>\n",
       "<tr><td style=\"text-align: right;\">           30</td><td style=\"text-align: right;\">                   0</td><td style=\"text-align: right;\">              25.3333</td><td style=\"text-align: right;\">             18.6667</td><td style=\"text-align: right;\">         0.233333 </td><td style=\"text-align: right;\">              1.53333</td><td style=\"text-align: right;\">                    27.027  </td><td style=\"text-align: right;\">                 2.30263 </td><td style=\"text-align: right;\">                     3.0473 </td><td style=\"text-align: right;\">                        27.3684</td><td style=\"text-align: right;\">                       19     </td><td style=\"text-align: right;\">                    26.0135 </td><td style=\"text-align: right;\">                 2.23684 </td><td style=\"text-align: right;\">                        26.2105</td><td style=\"text-align: right;\">                       18.9375</td><td style=\"text-align: right;\">                    24.1216 </td><td style=\"text-align: right;\">                 1.11842 </td><td style=\"text-align: right;\">                        27.4211</td><td style=\"text-align: right;\">                       19     </td><td style=\"text-align: right;\">        123763</td><td style=\"text-align: right;\">          10.9988</td><td style=\"text-align: right;\">          11</td><td style=\"text-align: right;\">          2</td><td style=\"text-align: right;\">        39</td><td style=\"text-align: right;\">       57</td><td style=\"text-align: right;\"> -0.00436986</td><td style=\"text-align: right;\">  0.00552503</td><td style=\"text-align: right;\">      6.30663</td></tr>\n",
       "</tbody>\n",
       "</table>"
      ]
     },
     "metadata": {},
     "output_type": "display_data"
    },
    {
     "data": {
      "text/plain": []
     },
     "execution_count": 105,
     "metadata": {},
     "output_type": "execute_result"
    }
   ],
   "source": [
    "train.head()"
   ]
  },
  {
   "cell_type": "code",
   "execution_count": 152,
   "metadata": {},
   "outputs": [],
   "source": [
    "col=[]\n",
    "for i in range(len(train.columns)):\n",
    "    col.append('a_{}'.format(i))\n",
    "   \n",
    "train.columns=col    \n",
    "valid.columns=col"
   ]
  },
  {
   "cell_type": "code",
   "execution_count": 108,
   "metadata": {},
   "outputs": [
    {
     "data": {
      "text/html": [
       "<table>\n",
       "<thead>\n",
       "<tr><th style=\"text-align: right;\">  a_0</th><th style=\"text-align: right;\">  a_1</th><th style=\"text-align: right;\">     a_2</th><th style=\"text-align: right;\">     a_3</th><th style=\"text-align: right;\">        a_4</th><th style=\"text-align: right;\">      a_5</th><th style=\"text-align: right;\">      a_6</th><th style=\"text-align: right;\">       a_7</th><th style=\"text-align: right;\">      a_8</th><th style=\"text-align: right;\">     a_9</th><th style=\"text-align: right;\">    a_10</th><th style=\"text-align: right;\">     a_11</th><th style=\"text-align: right;\">      a_12</th><th style=\"text-align: right;\">    a_13</th><th style=\"text-align: right;\">    a_14</th><th style=\"text-align: right;\">     a_15</th><th style=\"text-align: right;\">      a_16</th><th style=\"text-align: right;\">    a_17</th><th style=\"text-align: right;\">    a_18</th><th style=\"text-align: right;\">  a_19</th><th style=\"text-align: right;\">    a_20</th><th style=\"text-align: right;\">  a_21</th><th style=\"text-align: right;\">  a_22</th><th style=\"text-align: right;\">  a_23</th><th style=\"text-align: right;\">  a_24</th><th style=\"text-align: right;\">        a_25</th><th style=\"text-align: right;\">        a_26</th><th style=\"text-align: right;\">     a_27</th></tr>\n",
       "</thead>\n",
       "<tbody>\n",
       "<tr><td style=\"text-align: right;\">  nan</td><td style=\"text-align: right;\">  nan</td><td style=\"text-align: right;\">nan     </td><td style=\"text-align: right;\">nan     </td><td style=\"text-align: right;\">nan        </td><td style=\"text-align: right;\">nan      </td><td style=\"text-align: right;\">nan      </td><td style=\"text-align: right;\">nan       </td><td style=\"text-align: right;\">nan      </td><td style=\"text-align: right;\">nan     </td><td style=\"text-align: right;\">nan     </td><td style=\"text-align: right;\">nan      </td><td style=\"text-align: right;\">nan       </td><td style=\"text-align: right;\">nan     </td><td style=\"text-align: right;\">nan     </td><td style=\"text-align: right;\">nan      </td><td style=\"text-align: right;\">nan       </td><td style=\"text-align: right;\">nan     </td><td style=\"text-align: right;\">nan     </td><td style=\"text-align: right;\">   nan</td><td style=\"text-align: right;\">nan     </td><td style=\"text-align: right;\">   nan</td><td style=\"text-align: right;\">   nan</td><td style=\"text-align: right;\">   nan</td><td style=\"text-align: right;\">   nan</td><td style=\"text-align: right;\">nan         </td><td style=\"text-align: right;\">nan         </td><td style=\"text-align: right;\">nan      </td></tr>\n",
       "<tr><td style=\"text-align: right;\">   13</td><td style=\"text-align: right;\">    0</td><td style=\"text-align: right;\"> 26.1   </td><td style=\"text-align: right;\"> 17.2667</td><td style=\"text-align: right;\">  0.0666667</td><td style=\"text-align: right;\">  2      </td><td style=\"text-align: right;\"> 29.1892 </td><td style=\"text-align: right;\">  1.44737 </td><td style=\"text-align: right;\">  3.21622</td><td style=\"text-align: right;\"> 26.4737</td><td style=\"text-align: right;\"> 18     </td><td style=\"text-align: right;\"> 30.4054 </td><td style=\"text-align: right;\">  1.44737 </td><td style=\"text-align: right;\"> 24.9474</td><td style=\"text-align: right;\"> 17.4375</td><td style=\"text-align: right;\"> 26.6892 </td><td style=\"text-align: right;\">  1.44737 </td><td style=\"text-align: right;\"> 26.8947</td><td style=\"text-align: right;\"> 17.4375</td><td style=\"text-align: right;\">110345</td><td style=\"text-align: right;\"> 11.1419</td><td style=\"text-align: right;\">     6</td><td style=\"text-align: right;\">     3</td><td style=\"text-align: right;\">     0</td><td style=\"text-align: right;\">    42</td><td style=\"text-align: right;\"> -0.00420563</td><td style=\"text-align: right;\">  0.00531476</td><td style=\"text-align: right;\">  5.49025</td></tr>\n",
       "<tr><td style=\"text-align: right;\">   20</td><td style=\"text-align: right;\">    0</td><td style=\"text-align: right;\"> 26.3667</td><td style=\"text-align: right;\"> 18.3   </td><td style=\"text-align: right;\">  0.0666667</td><td style=\"text-align: right;\">  1.66667</td><td style=\"text-align: right;\"> 10.473  </td><td style=\"text-align: right;\">  0.526316</td><td style=\"text-align: right;\">  1.94595</td><td style=\"text-align: right;\"> 28.7368</td><td style=\"text-align: right;\"> 18     </td><td style=\"text-align: right;\"> 10.1351 </td><td style=\"text-align: right;\">  0.328947</td><td style=\"text-align: right;\"> 28.1053</td><td style=\"text-align: right;\"> 16.3125</td><td style=\"text-align: right;\">  9.52703</td><td style=\"text-align: right;\">  0.328947</td><td style=\"text-align: right;\"> 29.4737</td><td style=\"text-align: right;\"> 18     </td><td style=\"text-align: right;\">122905</td><td style=\"text-align: right;\"> 11.1419</td><td style=\"text-align: right;\">     7</td><td style=\"text-align: right;\">     6</td><td style=\"text-align: right;\">     0</td><td style=\"text-align: right;\">    42</td><td style=\"text-align: right;\"> -0.00420563</td><td style=\"text-align: right;\">  0.00531476</td><td style=\"text-align: right;\">  6.14546</td></tr>\n",
       "<tr><td style=\"text-align: right;\">   20</td><td style=\"text-align: right;\">    0</td><td style=\"text-align: right;\"> 30.5333</td><td style=\"text-align: right;\"> 18.9   </td><td style=\"text-align: right;\">  0        </td><td style=\"text-align: right;\">  1.7    </td><td style=\"text-align: right;\">  6.14865</td><td style=\"text-align: right;\">  0       </td><td style=\"text-align: right;\">  1.61486</td><td style=\"text-align: right;\"> 31.8947</td><td style=\"text-align: right;\"> 19.9375</td><td style=\"text-align: right;\">  6.08108</td><td style=\"text-align: right;\">  0       </td><td style=\"text-align: right;\"> 30.2105</td><td style=\"text-align: right;\"> 18     </td><td style=\"text-align: right;\">  4.39189</td><td style=\"text-align: right;\">  0       </td><td style=\"text-align: right;\"> 31.7368</td><td style=\"text-align: right;\"> 18.875 </td><td style=\"text-align: right;\">128337</td><td style=\"text-align: right;\"> 11.1419</td><td style=\"text-align: right;\">     3</td><td style=\"text-align: right;\">     3</td><td style=\"text-align: right;\">     0</td><td style=\"text-align: right;\">    42</td><td style=\"text-align: right;\"> -0.00420563</td><td style=\"text-align: right;\">  0.00531476</td><td style=\"text-align: right;\">  6.13666</td></tr>\n",
       "<tr><td style=\"text-align: right;\">   20</td><td style=\"text-align: right;\">    0</td><td style=\"text-align: right;\"> 28.9333</td><td style=\"text-align: right;\"> 20.9667</td><td style=\"text-align: right;\">  0.233333 </td><td style=\"text-align: right;\">  1.4    </td><td style=\"text-align: right;\"> 27.7027 </td><td style=\"text-align: right;\">  1.25    </td><td style=\"text-align: right;\">  3.24324</td><td style=\"text-align: right;\"> 27.7895</td><td style=\"text-align: right;\"> 20.4375</td><td style=\"text-align: right;\"> 25.5405 </td><td style=\"text-align: right;\">  0.855263</td><td style=\"text-align: right;\"> 27     </td><td style=\"text-align: right;\"> 20     </td><td style=\"text-align: right;\"> 30      </td><td style=\"text-align: right;\">  1.65789 </td><td style=\"text-align: right;\"> 26.6316</td><td style=\"text-align: right;\"> 20.75  </td><td style=\"text-align: right;\">130279</td><td style=\"text-align: right;\"> 11.1419</td><td style=\"text-align: right;\">     8</td><td style=\"text-align: right;\">     6</td><td style=\"text-align: right;\">     0</td><td style=\"text-align: right;\">    42</td><td style=\"text-align: right;\"> -0.00420563</td><td style=\"text-align: right;\">  0.00531476</td><td style=\"text-align: right;\">  5.81884</td></tr>\n",
       "<tr><td style=\"text-align: right;\">   30</td><td style=\"text-align: right;\">    0</td><td style=\"text-align: right;\"> 24.1   </td><td style=\"text-align: right;\"> 17.1333</td><td style=\"text-align: right;\"> 13.2      </td><td style=\"text-align: right;\">  1.36667</td><td style=\"text-align: right;\"> 32.2297 </td><td style=\"text-align: right;\">  2.17105 </td><td style=\"text-align: right;\">  3.48649</td><td style=\"text-align: right;\"> 26.9474</td><td style=\"text-align: right;\"> 18.4375</td><td style=\"text-align: right;\"> 32.0946 </td><td style=\"text-align: right;\">  2.17105 </td><td style=\"text-align: right;\"> 25.8947</td><td style=\"text-align: right;\"> 18     </td><td style=\"text-align: right;\"> 32.027  </td><td style=\"text-align: right;\">  1.71053 </td><td style=\"text-align: right;\"> 27     </td><td style=\"text-align: right;\"> 18.4375</td><td style=\"text-align: right;\">117841</td><td style=\"text-align: right;\"> 10.9988</td><td style=\"text-align: right;\">     5</td><td style=\"text-align: right;\">     7</td><td style=\"text-align: right;\">    39</td><td style=\"text-align: right;\">    57</td><td style=\"text-align: right;\"> -0.00436986</td><td style=\"text-align: right;\">  0.00552503</td><td style=\"text-align: right;\">  7.19634</td></tr>\n",
       "<tr><td style=\"text-align: right;\">   30</td><td style=\"text-align: right;\">    0</td><td style=\"text-align: right;\"> 25.3333</td><td style=\"text-align: right;\"> 18.6667</td><td style=\"text-align: right;\">  0.233333 </td><td style=\"text-align: right;\">  1.53333</td><td style=\"text-align: right;\"> 27.027  </td><td style=\"text-align: right;\">  2.30263 </td><td style=\"text-align: right;\">  3.0473 </td><td style=\"text-align: right;\"> 27.3684</td><td style=\"text-align: right;\"> 19     </td><td style=\"text-align: right;\"> 26.0135 </td><td style=\"text-align: right;\">  2.23684 </td><td style=\"text-align: right;\"> 26.2105</td><td style=\"text-align: right;\"> 18.9375</td><td style=\"text-align: right;\"> 24.1216 </td><td style=\"text-align: right;\">  1.11842 </td><td style=\"text-align: right;\"> 27.4211</td><td style=\"text-align: right;\"> 19     </td><td style=\"text-align: right;\">123763</td><td style=\"text-align: right;\"> 10.9988</td><td style=\"text-align: right;\">    11</td><td style=\"text-align: right;\">     2</td><td style=\"text-align: right;\">    39</td><td style=\"text-align: right;\">    57</td><td style=\"text-align: right;\"> -0.00436986</td><td style=\"text-align: right;\">  0.00552503</td><td style=\"text-align: right;\">  6.9384 </td></tr>\n",
       "<tr><td style=\"text-align: right;\">   23</td><td style=\"text-align: right;\">    0</td><td style=\"text-align: right;\"> 26.3667</td><td style=\"text-align: right;\"> 18.3   </td><td style=\"text-align: right;\">  0.0666667</td><td style=\"text-align: right;\">  1.66667</td><td style=\"text-align: right;\"> 10.473  </td><td style=\"text-align: right;\">  0.526316</td><td style=\"text-align: right;\">  1.94595</td><td style=\"text-align: right;\"> 28.7368</td><td style=\"text-align: right;\"> 18     </td><td style=\"text-align: right;\"> 10.1351 </td><td style=\"text-align: right;\">  0.328947</td><td style=\"text-align: right;\"> 28.1053</td><td style=\"text-align: right;\"> 16.3125</td><td style=\"text-align: right;\">  9.52703</td><td style=\"text-align: right;\">  0.328947</td><td style=\"text-align: right;\"> 29.4737</td><td style=\"text-align: right;\"> 18     </td><td style=\"text-align: right;\">122905</td><td style=\"text-align: right;\"> 10.9988</td><td style=\"text-align: right;\">     6</td><td style=\"text-align: right;\">     6</td><td style=\"text-align: right;\">    39</td><td style=\"text-align: right;\">    57</td><td style=\"text-align: right;\"> -0.00436986</td><td style=\"text-align: right;\">  0.00552503</td><td style=\"text-align: right;\">  5.88782</td></tr>\n",
       "<tr><td style=\"text-align: right;\">   30</td><td style=\"text-align: right;\">    1</td><td style=\"text-align: right;\"> 30.3   </td><td style=\"text-align: right;\"> 16.7   </td><td style=\"text-align: right;\">  0        </td><td style=\"text-align: right;\">  1.83333</td><td style=\"text-align: right;\">  3.31081</td><td style=\"text-align: right;\">  0       </td><td style=\"text-align: right;\">  1.33108</td><td style=\"text-align: right;\"> 31.5789</td><td style=\"text-align: right;\"> 19.75  </td><td style=\"text-align: right;\">  1.95946</td><td style=\"text-align: right;\">  0       </td><td style=\"text-align: right;\"> 28.8421</td><td style=\"text-align: right;\"> 18     </td><td style=\"text-align: right;\">  3.10811</td><td style=\"text-align: right;\">  0       </td><td style=\"text-align: right;\"> 30.6316</td><td style=\"text-align: right;\"> 18.5625</td><td style=\"text-align: right;\">113784</td><td style=\"text-align: right;\"> 10.9988</td><td style=\"text-align: right;\">     9</td><td style=\"text-align: right;\">     4</td><td style=\"text-align: right;\">    39</td><td style=\"text-align: right;\">    57</td><td style=\"text-align: right;\"> -0.00436986</td><td style=\"text-align: right;\">  0.00552503</td><td style=\"text-align: right;\">  7.11891</td></tr>\n",
       "<tr><td style=\"text-align: right;\">   30</td><td style=\"text-align: right;\">    0</td><td style=\"text-align: right;\"> 30.5333</td><td style=\"text-align: right;\"> 18.9   </td><td style=\"text-align: right;\">  0        </td><td style=\"text-align: right;\">  1.7    </td><td style=\"text-align: right;\">  6.14865</td><td style=\"text-align: right;\">  0       </td><td style=\"text-align: right;\">  1.61486</td><td style=\"text-align: right;\"> 31.8947</td><td style=\"text-align: right;\"> 19.9375</td><td style=\"text-align: right;\">  6.08108</td><td style=\"text-align: right;\">  0       </td><td style=\"text-align: right;\"> 30.2105</td><td style=\"text-align: right;\"> 18     </td><td style=\"text-align: right;\">  4.39189</td><td style=\"text-align: right;\">  0       </td><td style=\"text-align: right;\"> 31.7368</td><td style=\"text-align: right;\"> 18.875 </td><td style=\"text-align: right;\">123984</td><td style=\"text-align: right;\"> 10.9988</td><td style=\"text-align: right;\">     5</td><td style=\"text-align: right;\">     3</td><td style=\"text-align: right;\">    39</td><td style=\"text-align: right;\">    57</td><td style=\"text-align: right;\"> -0.00436986</td><td style=\"text-align: right;\">  0.00552503</td><td style=\"text-align: right;\">  7.03204</td></tr>\n",
       "</tbody>\n",
       "</table>"
      ]
     },
     "metadata": {},
     "output_type": "display_data"
    },
    {
     "data": {
      "text/plain": []
     },
     "execution_count": 108,
     "metadata": {},
     "output_type": "execute_result"
    }
   ],
   "source": [
    "valid.head()"
   ]
  },
  {
   "cell_type": "code",
   "execution_count": 159,
   "metadata": {},
   "outputs": [
    {
     "data": {
      "text/html": [
       "<table>\n",
       "<thead>\n",
       "<tr><th style=\"text-align: right;\">  a_0</th><th style=\"text-align: right;\">  a_1</th><th style=\"text-align: right;\">    a_2</th><th style=\"text-align: right;\">    a_3</th><th style=\"text-align: right;\">       a_4</th><th style=\"text-align: right;\">    a_5</th><th style=\"text-align: right;\">     a_6</th><th style=\"text-align: right;\">     a_7</th><th style=\"text-align: right;\">    a_8</th><th style=\"text-align: right;\">    a_9</th><th style=\"text-align: right;\">   a_10</th><th style=\"text-align: right;\">    a_11</th><th style=\"text-align: right;\">    a_12</th><th style=\"text-align: right;\">   a_13</th><th style=\"text-align: right;\">   a_14</th><th style=\"text-align: right;\">    a_15</th><th style=\"text-align: right;\">    a_16</th><th style=\"text-align: right;\">   a_17</th><th style=\"text-align: right;\">   a_18</th><th style=\"text-align: right;\">  a_19</th><th style=\"text-align: right;\">   a_20</th><th style=\"text-align: right;\">  a_21</th><th style=\"text-align: right;\">  a_22</th><th style=\"text-align: right;\">  a_23</th><th style=\"text-align: right;\">  a_24</th><th style=\"text-align: right;\">       a_25</th><th style=\"text-align: right;\">      a_26</th><th style=\"text-align: right;\">   a_27</th></tr>\n",
       "</thead>\n",
       "<tbody>\n",
       "<tr><td style=\"text-align: right;\">   13</td><td style=\"text-align: right;\">    0</td><td style=\"text-align: right;\">26.1   </td><td style=\"text-align: right;\">17.2667</td><td style=\"text-align: right;\"> 0.0666667</td><td style=\"text-align: right;\">2      </td><td style=\"text-align: right;\">29.1892 </td><td style=\"text-align: right;\">1.44737 </td><td style=\"text-align: right;\">3.21622</td><td style=\"text-align: right;\">26.4737</td><td style=\"text-align: right;\">18     </td><td style=\"text-align: right;\">30.4054 </td><td style=\"text-align: right;\">1.44737 </td><td style=\"text-align: right;\">24.9474</td><td style=\"text-align: right;\">17.4375</td><td style=\"text-align: right;\">26.6892 </td><td style=\"text-align: right;\">1.44737 </td><td style=\"text-align: right;\">26.8947</td><td style=\"text-align: right;\">17.4375</td><td style=\"text-align: right;\">110345</td><td style=\"text-align: right;\">11.1419</td><td style=\"text-align: right;\">     6</td><td style=\"text-align: right;\">     3</td><td style=\"text-align: right;\">     0</td><td style=\"text-align: right;\">    42</td><td style=\"text-align: right;\">-0.00420563</td><td style=\"text-align: right;\">0.00531476</td><td style=\"text-align: right;\">5.49025</td></tr>\n",
       "<tr><td style=\"text-align: right;\">   20</td><td style=\"text-align: right;\">    0</td><td style=\"text-align: right;\">26.3667</td><td style=\"text-align: right;\">18.3   </td><td style=\"text-align: right;\"> 0.0666667</td><td style=\"text-align: right;\">1.66667</td><td style=\"text-align: right;\">10.473  </td><td style=\"text-align: right;\">0.526316</td><td style=\"text-align: right;\">1.94595</td><td style=\"text-align: right;\">28.7368</td><td style=\"text-align: right;\">18     </td><td style=\"text-align: right;\">10.1351 </td><td style=\"text-align: right;\">0.328947</td><td style=\"text-align: right;\">28.1053</td><td style=\"text-align: right;\">16.3125</td><td style=\"text-align: right;\"> 9.52703</td><td style=\"text-align: right;\">0.328947</td><td style=\"text-align: right;\">29.4737</td><td style=\"text-align: right;\">18     </td><td style=\"text-align: right;\">122905</td><td style=\"text-align: right;\">11.1419</td><td style=\"text-align: right;\">     7</td><td style=\"text-align: right;\">     6</td><td style=\"text-align: right;\">     0</td><td style=\"text-align: right;\">    42</td><td style=\"text-align: right;\">-0.00420563</td><td style=\"text-align: right;\">0.00531476</td><td style=\"text-align: right;\">6.14546</td></tr>\n",
       "<tr><td style=\"text-align: right;\">   20</td><td style=\"text-align: right;\">    0</td><td style=\"text-align: right;\">30.5333</td><td style=\"text-align: right;\">18.9   </td><td style=\"text-align: right;\"> 0        </td><td style=\"text-align: right;\">1.7    </td><td style=\"text-align: right;\"> 6.14865</td><td style=\"text-align: right;\">0       </td><td style=\"text-align: right;\">1.61486</td><td style=\"text-align: right;\">31.8947</td><td style=\"text-align: right;\">19.9375</td><td style=\"text-align: right;\"> 6.08108</td><td style=\"text-align: right;\">0       </td><td style=\"text-align: right;\">30.2105</td><td style=\"text-align: right;\">18     </td><td style=\"text-align: right;\"> 4.39189</td><td style=\"text-align: right;\">0       </td><td style=\"text-align: right;\">31.7368</td><td style=\"text-align: right;\">18.875 </td><td style=\"text-align: right;\">128337</td><td style=\"text-align: right;\">11.1419</td><td style=\"text-align: right;\">     3</td><td style=\"text-align: right;\">     3</td><td style=\"text-align: right;\">     0</td><td style=\"text-align: right;\">    42</td><td style=\"text-align: right;\">-0.00420563</td><td style=\"text-align: right;\">0.00531476</td><td style=\"text-align: right;\">6.13666</td></tr>\n",
       "<tr><td style=\"text-align: right;\">   20</td><td style=\"text-align: right;\">    0</td><td style=\"text-align: right;\">28.9333</td><td style=\"text-align: right;\">20.9667</td><td style=\"text-align: right;\"> 0.233333 </td><td style=\"text-align: right;\">1.4    </td><td style=\"text-align: right;\">27.7027 </td><td style=\"text-align: right;\">1.25    </td><td style=\"text-align: right;\">3.24324</td><td style=\"text-align: right;\">27.7895</td><td style=\"text-align: right;\">20.4375</td><td style=\"text-align: right;\">25.5405 </td><td style=\"text-align: right;\">0.855263</td><td style=\"text-align: right;\">27     </td><td style=\"text-align: right;\">20     </td><td style=\"text-align: right;\">30      </td><td style=\"text-align: right;\">1.65789 </td><td style=\"text-align: right;\">26.6316</td><td style=\"text-align: right;\">20.75  </td><td style=\"text-align: right;\">130279</td><td style=\"text-align: right;\">11.1419</td><td style=\"text-align: right;\">     8</td><td style=\"text-align: right;\">     6</td><td style=\"text-align: right;\">     0</td><td style=\"text-align: right;\">    42</td><td style=\"text-align: right;\">-0.00420563</td><td style=\"text-align: right;\">0.00531476</td><td style=\"text-align: right;\">5.81884</td></tr>\n",
       "<tr><td style=\"text-align: right;\">   30</td><td style=\"text-align: right;\">    0</td><td style=\"text-align: right;\">24.1   </td><td style=\"text-align: right;\">17.1333</td><td style=\"text-align: right;\">13.2      </td><td style=\"text-align: right;\">1.36667</td><td style=\"text-align: right;\">32.2297 </td><td style=\"text-align: right;\">2.17105 </td><td style=\"text-align: right;\">3.48649</td><td style=\"text-align: right;\">26.9474</td><td style=\"text-align: right;\">18.4375</td><td style=\"text-align: right;\">32.0946 </td><td style=\"text-align: right;\">2.17105 </td><td style=\"text-align: right;\">25.8947</td><td style=\"text-align: right;\">18     </td><td style=\"text-align: right;\">32.027  </td><td style=\"text-align: right;\">1.71053 </td><td style=\"text-align: right;\">27     </td><td style=\"text-align: right;\">18.4375</td><td style=\"text-align: right;\">117841</td><td style=\"text-align: right;\">10.9988</td><td style=\"text-align: right;\">     5</td><td style=\"text-align: right;\">     7</td><td style=\"text-align: right;\">    39</td><td style=\"text-align: right;\">    57</td><td style=\"text-align: right;\">-0.00436986</td><td style=\"text-align: right;\">0.00552503</td><td style=\"text-align: right;\">7.19634</td></tr>\n",
       "<tr><td style=\"text-align: right;\">   30</td><td style=\"text-align: right;\">    0</td><td style=\"text-align: right;\">25.3333</td><td style=\"text-align: right;\">18.6667</td><td style=\"text-align: right;\"> 0.233333 </td><td style=\"text-align: right;\">1.53333</td><td style=\"text-align: right;\">27.027  </td><td style=\"text-align: right;\">2.30263 </td><td style=\"text-align: right;\">3.0473 </td><td style=\"text-align: right;\">27.3684</td><td style=\"text-align: right;\">19     </td><td style=\"text-align: right;\">26.0135 </td><td style=\"text-align: right;\">2.23684 </td><td style=\"text-align: right;\">26.2105</td><td style=\"text-align: right;\">18.9375</td><td style=\"text-align: right;\">24.1216 </td><td style=\"text-align: right;\">1.11842 </td><td style=\"text-align: right;\">27.4211</td><td style=\"text-align: right;\">19     </td><td style=\"text-align: right;\">123763</td><td style=\"text-align: right;\">10.9988</td><td style=\"text-align: right;\">    11</td><td style=\"text-align: right;\">     2</td><td style=\"text-align: right;\">    39</td><td style=\"text-align: right;\">    57</td><td style=\"text-align: right;\">-0.00436986</td><td style=\"text-align: right;\">0.00552503</td><td style=\"text-align: right;\">6.9384 </td></tr>\n",
       "<tr><td style=\"text-align: right;\">   23</td><td style=\"text-align: right;\">    0</td><td style=\"text-align: right;\">26.3667</td><td style=\"text-align: right;\">18.3   </td><td style=\"text-align: right;\"> 0.0666667</td><td style=\"text-align: right;\">1.66667</td><td style=\"text-align: right;\">10.473  </td><td style=\"text-align: right;\">0.526316</td><td style=\"text-align: right;\">1.94595</td><td style=\"text-align: right;\">28.7368</td><td style=\"text-align: right;\">18     </td><td style=\"text-align: right;\">10.1351 </td><td style=\"text-align: right;\">0.328947</td><td style=\"text-align: right;\">28.1053</td><td style=\"text-align: right;\">16.3125</td><td style=\"text-align: right;\"> 9.52703</td><td style=\"text-align: right;\">0.328947</td><td style=\"text-align: right;\">29.4737</td><td style=\"text-align: right;\">18     </td><td style=\"text-align: right;\">122905</td><td style=\"text-align: right;\">10.9988</td><td style=\"text-align: right;\">     6</td><td style=\"text-align: right;\">     6</td><td style=\"text-align: right;\">    39</td><td style=\"text-align: right;\">    57</td><td style=\"text-align: right;\">-0.00436986</td><td style=\"text-align: right;\">0.00552503</td><td style=\"text-align: right;\">5.88782</td></tr>\n",
       "<tr><td style=\"text-align: right;\">   30</td><td style=\"text-align: right;\">    1</td><td style=\"text-align: right;\">30.3   </td><td style=\"text-align: right;\">16.7   </td><td style=\"text-align: right;\"> 0        </td><td style=\"text-align: right;\">1.83333</td><td style=\"text-align: right;\"> 3.31081</td><td style=\"text-align: right;\">0       </td><td style=\"text-align: right;\">1.33108</td><td style=\"text-align: right;\">31.5789</td><td style=\"text-align: right;\">19.75  </td><td style=\"text-align: right;\"> 1.95946</td><td style=\"text-align: right;\">0       </td><td style=\"text-align: right;\">28.8421</td><td style=\"text-align: right;\">18     </td><td style=\"text-align: right;\"> 3.10811</td><td style=\"text-align: right;\">0       </td><td style=\"text-align: right;\">30.6316</td><td style=\"text-align: right;\">18.5625</td><td style=\"text-align: right;\">113784</td><td style=\"text-align: right;\">10.9988</td><td style=\"text-align: right;\">     9</td><td style=\"text-align: right;\">     4</td><td style=\"text-align: right;\">    39</td><td style=\"text-align: right;\">    57</td><td style=\"text-align: right;\">-0.00436986</td><td style=\"text-align: right;\">0.00552503</td><td style=\"text-align: right;\">7.11891</td></tr>\n",
       "<tr><td style=\"text-align: right;\">   30</td><td style=\"text-align: right;\">    0</td><td style=\"text-align: right;\">30.5333</td><td style=\"text-align: right;\">18.9   </td><td style=\"text-align: right;\"> 0        </td><td style=\"text-align: right;\">1.7    </td><td style=\"text-align: right;\"> 6.14865</td><td style=\"text-align: right;\">0       </td><td style=\"text-align: right;\">1.61486</td><td style=\"text-align: right;\">31.8947</td><td style=\"text-align: right;\">19.9375</td><td style=\"text-align: right;\"> 6.08108</td><td style=\"text-align: right;\">0       </td><td style=\"text-align: right;\">30.2105</td><td style=\"text-align: right;\">18     </td><td style=\"text-align: right;\"> 4.39189</td><td style=\"text-align: right;\">0       </td><td style=\"text-align: right;\">31.7368</td><td style=\"text-align: right;\">18.875 </td><td style=\"text-align: right;\">123984</td><td style=\"text-align: right;\">10.9988</td><td style=\"text-align: right;\">     5</td><td style=\"text-align: right;\">     3</td><td style=\"text-align: right;\">    39</td><td style=\"text-align: right;\">    57</td><td style=\"text-align: right;\">-0.00436986</td><td style=\"text-align: right;\">0.00552503</td><td style=\"text-align: right;\">7.03204</td></tr>\n",
       "<tr><td style=\"text-align: right;\">   30</td><td style=\"text-align: right;\">    0</td><td style=\"text-align: right;\">31.9667</td><td style=\"text-align: right;\">17.6   </td><td style=\"text-align: right;\"> 0        </td><td style=\"text-align: right;\">1.33333</td><td style=\"text-align: right;\">23.5811 </td><td style=\"text-align: right;\">2.23684 </td><td style=\"text-align: right;\">2.79054</td><td style=\"text-align: right;\">30.3158</td><td style=\"text-align: right;\">21     </td><td style=\"text-align: right;\">24.0541 </td><td style=\"text-align: right;\">2.23684 </td><td style=\"text-align: right;\">29.1579</td><td style=\"text-align: right;\">18.875 </td><td style=\"text-align: right;\">25      </td><td style=\"text-align: right;\">2.31579 </td><td style=\"text-align: right;\">30.6842</td><td style=\"text-align: right;\">20.4375</td><td style=\"text-align: right;\">137688</td><td style=\"text-align: right;\">10.9988</td><td style=\"text-align: right;\">     3</td><td style=\"text-align: right;\">     7</td><td style=\"text-align: right;\">    39</td><td style=\"text-align: right;\">    57</td><td style=\"text-align: right;\">-0.00436986</td><td style=\"text-align: right;\">0.00552503</td><td style=\"text-align: right;\">6.69592</td></tr>\n",
       "</tbody>\n",
       "</table>"
      ]
     },
     "metadata": {},
     "output_type": "display_data"
    },
    {
     "data": {
      "text/plain": []
     },
     "execution_count": 159,
     "metadata": {},
     "output_type": "execute_result"
    }
   ],
   "source": [
    "valid[1:,:]#첫번째 행에 생긴 nan을 제거"
   ]
  },
  {
   "cell_type": "code",
   "execution_count": 153,
   "metadata": {},
   "outputs": [],
   "source": [
    "# Set the predictors and response; set the response as a factor:\n",
    "predictors = train.columns\n",
    "response = 'a_27'"
   ]
  },
  {
   "cell_type": "code",
   "execution_count": 193,
   "metadata": {},
   "outputs": [
    {
     "name": "stdout",
     "output_type": "stream",
     "text": [
      "gbm Model Build progress: |███████████████████████████████████████████████| 100%\n"
     ]
    }
   ],
   "source": [
    "# Build and train the model:\n",
    "pros_gbm = H2OGradientBoostingEstimator( seed=1111 )\n",
    "                                        \n",
    "pros_gbm.train(x=predictors, y=response, training_frame=train)\n"
   ]
  },
  {
   "cell_type": "code",
   "execution_count": 194,
   "metadata": {},
   "outputs": [
    {
     "name": "stdout",
     "output_type": "stream",
     "text": [
      "gbm prediction progress: |████████████████████████████████████████████████| 100%\n"
     ]
    }
   ],
   "source": [
    "\n",
    "# Generate predictions on a test set (if necessary):\n",
    "predictions  = pros_gbm .predict(valid[1:,:])"
   ]
  },
  {
   "cell_type": "code",
   "execution_count": 165,
   "metadata": {},
   "outputs": [
    {
     "data": {
      "text/plain": [
       "72"
      ]
     },
     "execution_count": 165,
     "metadata": {},
     "output_type": "execute_result"
    }
   ],
   "source": [
    "len(y_beauty_smallfold)"
   ]
  },
  {
   "cell_type": "code",
   "execution_count": 163,
   "metadata": {},
   "outputs": [
    {
     "data": {
      "text/plain": [
       "73"
      ]
     },
     "execution_count": 163,
     "metadata": {},
     "output_type": "execute_result"
    }
   ],
   "source": [
    "len(valid)"
   ]
  },
  {
   "cell_type": "code",
   "execution_count": 195,
   "metadata": {},
   "outputs": [],
   "source": [
    "a=h2o.as_list(predictions)"
   ]
  },
  {
   "cell_type": "code",
   "execution_count": 180,
   "metadata": {},
   "outputs": [
    {
     "data": {
      "text/plain": [
       "215     5.490254\n",
       "572     6.145460\n",
       "920     6.136662\n",
       "1256    5.818835\n",
       "335     7.196336\n",
       "          ...   \n",
       "7423    6.993408\n",
       "7015    5.428126\n",
       "7353    4.939136\n",
       "7108    5.780717\n",
       "7407    7.127991\n",
       "Name: new주문량, Length: 72, dtype: float64"
      ]
     },
     "execution_count": 180,
     "metadata": {},
     "output_type": "execute_result"
    }
   ],
   "source": [
    "y_beauty_smallfold"
   ]
  },
  {
   "cell_type": "code",
   "execution_count": 196,
   "metadata": {},
   "outputs": [
    {
     "data": {
      "text/plain": [
       "11.569696270019447"
      ]
     },
     "execution_count": 196,
     "metadata": {},
     "output_type": "execute_result"
    }
   ],
   "source": [
    "mape = mean_absolute_percentage_error(y_beauty_smallfold, a)\n",
    "mape"
   ]
  },
  {
   "cell_type": "code",
   "execution_count": 204,
   "metadata": {},
   "outputs": [
    {
     "name": "stdout",
     "output_type": "stream",
     "text": [
      "Parse progress: |█████████████████████████████████████████████████████████| 100%\n",
      "Parse progress: |█████████████████████████████████████████████████████████| 100%\n",
      "Parse progress: |█████████████████████████████████████████████████████████| 100%\n",
      "Parse progress: |█████████████████████████████████████████████████████████| 100%\n",
      "Parse progress: |█████████████████████████████████████████████████████████| 100%\n",
      "Parse progress: |█████████████████████████████████████████████████████████| 100%\n",
      "Parse progress: |█████████████████████████████████████████████████████████| 100%\n",
      "Parse progress: |█████████████████████████████████████████████████████████| 100%\n",
      "Parse progress: |█████████████████████████████████████████████████████████| 100%\n",
      "Parse progress: |█████████████████████████████████████████████████████████| 100%\n",
      "Parse progress: |█████████████████████████████████████████████████████████| 100%\n",
      "Parse progress: |█████████████████████████████████████████████████████████| 100%\n",
      "Parse progress: |█████████████████████████████████████████████████████████| 100%\n",
      "Parse progress: |█████████████████████████████████████████████████████████| 100%\n",
      "Parse progress: |█████████████████████████████████████████████████████████| 100%\n",
      "Parse progress: |█████████████████████████████████████████████████████████| 100%\n",
      "Parse progress: |█████████████████████████████████████████████████████████| 100%\n",
      "Parse progress: |█████████████████████████████████████████████████████████| 100%\n",
      "Parse progress: |█████████████████████████████████████████████████████████| 100%\n",
      "Parse progress: |█████████████████████████████████████████████████████████| 100%\n",
      "Parse progress: |█████████████████████████████████████████████████████████| 100%\n",
      "Parse progress: |█████████████████████████████████████████████████████████| 100%\n"
     ]
    }
   ],
   "source": [
    "for i in category_list:\n",
    "  # train  \n",
    "  globals()['x_{}_bigfold'.format(i)] = h2o.H2OFrame(globals()['{}_bigfold'.format(i)][automl_feature])\n",
    "  globals()['x_{}_bigfold'.format(i)].columns=col\n",
    "\n",
    "  # valid\n",
    "  globals()['x_{}_smallfold'.format(i)] =h2o.H2OFrame( globals()['{}_smallfold'.format(i)][automl_feature])\n",
    "  globals()['x_{}_smallfold'.format(i)].columns=col\n",
    "  # traget\n",
    "  globals()['y_{}_smallfold'.format(i)] = globals()['{}_smallfold'.format(i)]['new주문량']\n"
   ]
  },
  {
   "cell_type": "code",
   "execution_count": 211,
   "metadata": {
    "scrolled": true
   },
   "outputs": [
    {
     "name": "stdout",
     "output_type": "stream",
     "text": [
      "gbm Model Build progress: |███████████████████████████████████████████████| 100%\n",
      "inner\n",
      "gbm prediction progress: |████████████████████████████████████████████████| 100%\n",
      "gbm Model Build progress: |███████████████████████████████████████████████| 100%\n",
      "cloth\n",
      "gbm prediction progress: |████████████████████████████████████████████████| 100%\n",
      "gbm Model Build progress: |███████████████████████████████████████████████| 100%\n",
      "elec\n",
      "gbm prediction progress: |████████████████████████████████████████████████| 100%\n",
      "gbm Model Build progress: |███████████████████████████████████████████████| 100%\n",
      "living\n",
      "gbm prediction progress: |████████████████████████████████████████████████| 100%\n",
      "gbm Model Build progress: |███████████████████████████████████████████████| 100%\n",
      "food\n",
      "gbm prediction progress: |████████████████████████████████████████████████| 100%\n",
      "gbm Model Build progress: |███████████████████████████████████████████████| 100%\n",
      "health\n",
      "gbm prediction progress: |████████████████████████████████████████████████| 100%\n",
      "gbm Model Build progress: |███████████████████████████████████████████████| 100%\n",
      "bedding\n",
      "gbm prediction progress: |████████████████████████████████████████████████| 100%\n",
      "gbm Model Build progress: |███████████████████████████████████████████████| 100%\n",
      "furniture\n",
      "gbm prediction progress: |████████████████████████████████████████████████| 100%\n",
      "gbm Model Build progress: |███████████████████████████████████████████████| 100%\n",
      "beauty\n",
      "gbm prediction progress: |████████████████████████████████████████████████| 100%\n",
      "gbm Model Build progress: |███████████████████████████████████████████████| 100%\n",
      "etc\n",
      "gbm prediction progress: |████████████████████████████████████████████████| 100%\n",
      "gbm Model Build progress: |███████████████████████████████████████████████| 100%\n",
      "life\n",
      "gbm prediction progress: |████████████████████████████████████████████████| 100%\n"
     ]
    }
   ],
   "source": [
    "# Set the predictors and response; set the response as a factor:\n",
    "predictors = train.columns\n",
    "response = 'a_27'\n",
    "\n",
    "mape_score_3gal = []\n",
    "for i in category_list:\n",
    "  category_data = globals()['x_{}_bigfold'.format(i)]\n",
    "\n",
    "  pros_gbm = H2OGradientBoostingEstimator(seed=1111)  \n",
    "  pros_gbm.train(x=predictors, y=response, training_frame=category_data)  \n",
    "         # bigfold로 훈련시킴\n",
    "  test_data = globals()['x_{}_smallfold'.format(i)][1:,:]\n",
    "  print(i)\n",
    "  test_label =  globals()['y_{}_smallfold'.format(i)]\n",
    "  predictions = pros_gbm.predict(test_data) \n",
    "  mape_score_3gal.append(mean_absolute_percentage_error(test_label, h2o.as_list(predictions))) # smallfold 데이터로 예측"
   ]
  },
  {
   "cell_type": "code",
   "execution_count": 212,
   "metadata": {},
   "outputs": [
    {
     "name": "stdout",
     "output_type": "stream",
     "text": [
      "GB MAPE score of test inner : 19.445490206046188\n",
      "GB MAPE score of test cloth : 27.84415869219343\n",
      "GB MAPE score of test elec : 69.11613009338534\n",
      "GB MAPE score of test living : 27.73151744484228\n",
      "GB MAPE score of test food : 7.98659929697134\n",
      "GB MAPE score of test health : 18.5448063317454\n",
      "GB MAPE score of test bedding : 16.812954988468327\n",
      "GB MAPE score of test furniture : 53.64432197359284\n",
      "GB MAPE score of test beauty : 11.569696270019447\n",
      "GB MAPE score of test etc : 71.20284568110597\n",
      "GB MAPE score of test life : 40.104776460974456\n"
     ]
    }
   ],
   "source": [
    "for i in range(len(category_list)):\n",
    "  print(\"GB MAPE score of test\",category_list[i],\":\",mape_score_3gal[i])"
   ]
  },
  {
   "cell_type": "markdown",
   "metadata": {},
   "source": [
    "# Random Forest_AUTOML"
   ]
  },
  {
   "cell_type": "code",
   "execution_count": 213,
   "metadata": {},
   "outputs": [
    {
     "name": "stdout",
     "output_type": "stream",
     "text": [
      "Checking whether there is an H2O instance running at http://localhost:54321 . connected.\n"
     ]
    },
    {
     "data": {
      "text/html": [
       "<div style=\"overflow:auto\"><table style=\"width:50%\"><tr><td>H2O_cluster_uptime:</td>\n",
       "<td>2 days 13 hours 37 mins</td></tr>\n",
       "<tr><td>H2O_cluster_timezone:</td>\n",
       "<td>Asia/Seoul</td></tr>\n",
       "<tr><td>H2O_data_parsing_timezone:</td>\n",
       "<td>UTC</td></tr>\n",
       "<tr><td>H2O_cluster_version:</td>\n",
       "<td>3.30.0.7</td></tr>\n",
       "<tr><td>H2O_cluster_version_age:</td>\n",
       "<td>2 months and 1 day </td></tr>\n",
       "<tr><td>H2O_cluster_name:</td>\n",
       "<td>H2O_from_python_占쎌삢占쎄쉭占쎌넎_s8b2y9</td></tr>\n",
       "<tr><td>H2O_cluster_total_nodes:</td>\n",
       "<td>1</td></tr>\n",
       "<tr><td>H2O_cluster_free_memory:</td>\n",
       "<td>2.250 Gb</td></tr>\n",
       "<tr><td>H2O_cluster_total_cores:</td>\n",
       "<td>8</td></tr>\n",
       "<tr><td>H2O_cluster_allowed_cores:</td>\n",
       "<td>8</td></tr>\n",
       "<tr><td>H2O_cluster_status:</td>\n",
       "<td>locked, healthy</td></tr>\n",
       "<tr><td>H2O_connection_url:</td>\n",
       "<td>http://localhost:54321</td></tr>\n",
       "<tr><td>H2O_connection_proxy:</td>\n",
       "<td>{\"http\": null, \"https\": null, \"no\": \"192.168.99.100\"}</td></tr>\n",
       "<tr><td>H2O_internal_security:</td>\n",
       "<td>False</td></tr>\n",
       "<tr><td>H2O_API_Extensions:</td>\n",
       "<td>Amazon S3, Algos, AutoML, Core V3, TargetEncoder, Core V4</td></tr>\n",
       "<tr><td>Python_version:</td>\n",
       "<td>3.7.7 final</td></tr></table></div>"
      ],
      "text/plain": [
       "--------------------------  ---------------------------------------------------------\n",
       "H2O_cluster_uptime:         2 days 13 hours 37 mins\n",
       "H2O_cluster_timezone:       Asia/Seoul\n",
       "H2O_data_parsing_timezone:  UTC\n",
       "H2O_cluster_version:        3.30.0.7\n",
       "H2O_cluster_version_age:    2 months and 1 day\n",
       "H2O_cluster_name:           H2O_from_python_占쎌삢占쎄쉭占쎌넎_s8b2y9\n",
       "H2O_cluster_total_nodes:    1\n",
       "H2O_cluster_free_memory:    2.250 Gb\n",
       "H2O_cluster_total_cores:    8\n",
       "H2O_cluster_allowed_cores:  8\n",
       "H2O_cluster_status:         locked, healthy\n",
       "H2O_connection_url:         http://localhost:54321\n",
       "H2O_connection_proxy:       {\"http\": null, \"https\": null, \"no\": \"192.168.99.100\"}\n",
       "H2O_internal_security:      False\n",
       "H2O_API_Extensions:         Amazon S3, Algos, AutoML, Core V3, TargetEncoder, Core V4\n",
       "Python_version:             3.7.7 final\n",
       "--------------------------  ---------------------------------------------------------"
      ]
     },
     "metadata": {},
     "output_type": "display_data"
    }
   ],
   "source": [
    "import h2o\n",
    "from h2o.estimators import H2ORandomForestEstimator\n",
    "h2o.init()"
   ]
  },
  {
   "cell_type": "code",
   "execution_count": 219,
   "metadata": {},
   "outputs": [
    {
     "name": "stdout",
     "output_type": "stream",
     "text": [
      "drf Model Build progress: |███████████████████████████████████████████████| 100%\n",
      "drf prediction progress: |████████████████████████████████████████████████| 100%\n",
      "drf Model Build progress: |███████████████████████████████████████████████| 100%\n",
      "drf prediction progress: |████████████████████████████████████████████████| 100%\n",
      "drf Model Build progress: |███████████████████████████████████████████████| 100%\n",
      "drf prediction progress: |████████████████████████████████████████████████| 100%\n",
      "drf Model Build progress: |███████████████████████████████████████████████| 100%\n",
      "drf prediction progress: |████████████████████████████████████████████████| 100%\n",
      "drf Model Build progress: |███████████████████████████████████████████████| 100%\n",
      "drf prediction progress: |████████████████████████████████████████████████| 100%\n",
      "drf Model Build progress: |███████████████████████████████████████████████| 100%\n",
      "drf prediction progress: |████████████████████████████████████████████████| 100%\n",
      "drf Model Build progress: |███████████████████████████████████████████████| 100%\n",
      "drf prediction progress: |████████████████████████████████████████████████| 100%\n",
      "drf Model Build progress: |███████████████████████████████████████████████| 100%\n",
      "drf prediction progress: |████████████████████████████████████████████████| 100%\n",
      "drf Model Build progress: |███████████████████████████████████████████████| 100%\n",
      "drf prediction progress: |████████████████████████████████████████████████| 100%\n",
      "drf Model Build progress: |███████████████████████████████████████████████| 100%\n",
      "drf prediction progress: |████████████████████████████████████████████████| 100%\n",
      "drf Model Build progress: |███████████████████████████████████████████████| 100%\n",
      "drf prediction progress: |████████████████████████████████████████████████| 100%\n"
     ]
    }
   ],
   "source": [
    "for i in category_list:\n",
    "  category_data = globals()['x_{}_bigfold'.format(i)]\n",
    "\n",
    "  cars_drf = H2ORandomForestEstimator()\n",
    "                            \n",
    "  cars_drf.train(x=predictors, y=response, training_frame=category_data)  \n",
    "         # bigfold로 훈련시킴\n",
    "  test_data = globals()['x_{}_smallfold'.format(i)][1:,:]\n",
    "  test_label =  globals()['y_{}_smallfold'.format(i)]\n",
    "  predictions = cars_drf.predict(test_data) \n",
    "  mape_score_3gal.append(mean_absolute_percentage_error(test_label, h2o.as_list(predictions))) # smallfold 데이터로 예측"
   ]
  },
  {
   "cell_type": "code",
   "execution_count": 220,
   "metadata": {},
   "outputs": [
    {
     "name": "stdout",
     "output_type": "stream",
     "text": [
      "RF_automl MAPE score of test inner : 19.593582140282916\n",
      "RF_automl MAPE score of test cloth : 27.866840510362383\n",
      "RF_automl MAPE score of test elec : 69.94063170960011\n",
      "RF_automl MAPE score of test living : 27.552901056399836\n",
      "RF_automl MAPE score of test food : 8.075594674654242\n",
      "RF_automl MAPE score of test health : 18.50649098630209\n",
      "RF_automl MAPE score of test bedding : 16.888047654391123\n",
      "RF_automl MAPE score of test furniture : 53.99692914547229\n",
      "RF_automl MAPE score of test beauty : 11.483056823504354\n",
      "RF_automl MAPE score of test etc : 71.57758872860921\n",
      "RF_automl MAPE score of test life : 39.37394720958795\n"
     ]
    }
   ],
   "source": [
    "for i in range(len(category_list)):\n",
    "  print(\"RF_automl MAPE score of test\",category_list[i],\":\",mape_score_3gal[i])"
   ]
  },
  {
   "cell_type": "code",
   "execution_count": null,
   "metadata": {},
   "outputs": [],
   "source": []
  },
  {
   "cell_type": "code",
   "execution_count": null,
   "metadata": {},
   "outputs": [],
   "source": []
  },
  {
   "cell_type": "code",
   "execution_count": null,
   "metadata": {},
   "outputs": [],
   "source": []
  },
  {
   "cell_type": "code",
   "execution_count": null,
   "metadata": {},
   "outputs": [],
   "source": []
  },
  {
   "cell_type": "code",
   "execution_count": null,
   "metadata": {},
   "outputs": [],
   "source": []
  },
  {
   "cell_type": "code",
   "execution_count": null,
   "metadata": {},
   "outputs": [],
   "source": []
  },
  {
   "cell_type": "code",
   "execution_count": null,
   "metadata": {},
   "outputs": [],
   "source": []
  }
 ],
 "metadata": {
  "kernelspec": {
   "display_name": "Python 3",
   "language": "python",
   "name": "python3"
  },
  "language_info": {
   "codemirror_mode": {
    "name": "ipython",
    "version": 3
   },
   "file_extension": ".py",
   "mimetype": "text/x-python",
   "name": "python",
   "nbconvert_exporter": "python",
   "pygments_lexer": "ipython3",
   "version": "3.7.7"
  }
 },
 "nbformat": 4,
 "nbformat_minor": 4
}
