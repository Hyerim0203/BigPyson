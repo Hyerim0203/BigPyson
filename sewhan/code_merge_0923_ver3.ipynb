{
 "cells": [
  {
   "cell_type": "code",
   "execution_count": 79,
   "metadata": {},
   "outputs": [],
   "source": [
    "import matplotlib.pyplot as plt\n",
    "import numpy as np\n",
    "import pandas as pd\n",
    "import datetime as dt\n",
    "import seaborn as sns\n",
    "from scipy import stats\n",
    "import math\n",
    "import sklearn\n",
    "from sklearn.ensemble import RandomForestRegressor,  GradientBoostingRegressor\n",
    "from xgboost import XGBRegressor\n",
    "import xgboost as xgb\n",
    "import lightgbm as lgb\n",
    "from sklearn.svm import SVR\n",
    "from sklearn.ensemble import RandomForestRegressor\n",
    "from sklearn.datasets import make_regression\n",
    "from sklearn.model_selection import GridSearchCV\n"
   ]
  },
  {
   "cell_type": "code",
   "execution_count": 2,
   "metadata": {},
   "outputs": [
    {
     "name": "stdout",
     "output_type": "stream",
     "text": [
      "C:\\Users\\장세환\\Desktop\\BigPyson\\sewhan\n"
     ]
    }
   ],
   "source": [
    "import os\n",
    "print(os.getcwd())"
   ]
  },
  {
   "cell_type": "code",
   "execution_count": 3,
   "metadata": {},
   "outputs": [
    {
     "name": "stdout",
     "output_type": "stream",
     "text": [
      "E:\\bigcontest\n"
     ]
    }
   ],
   "source": [
    "os.chdir(\"E:/bigcontest\")\n",
    "print(os.getcwd())"
   ]
  },
  {
   "cell_type": "code",
   "execution_count": 64,
   "metadata": {},
   "outputs": [],
   "source": [
    "train = pd.read_excel('./train_0924.xlsx')\n"
   ]
  },
  {
   "cell_type": "code",
   "execution_count": 65,
   "metadata": {},
   "outputs": [
    {
     "data": {
      "text/plain": [
       "Index(['노출(분)', 'holiday(includeSS)', '계절', '분류', 'Active Users', 'new판매단가',\n",
       "       'new주문량', 'prime_time', 'prime_day', 'top_code', 'top_cat', 'x1_cat',\n",
       "       'x2_cat', 'top_real_weather', '실제_최고기온', '실제_최저기온', '실제_강수량', '실제_평균풍속',\n",
       "       '세일', '판매단가', '주문량', '예보_최고기온', '예보_최저기온', '예보_강수확률', '예보_강수량', '예보_풍속',\n",
       "       '무이자', '일시불', '상품군'],\n",
       "      dtype='object')"
      ]
     },
     "execution_count": 65,
     "metadata": {},
     "output_type": "execute_result"
    }
   ],
   "source": [
    "train.columns"
   ]
  },
  {
   "cell_type": "code",
   "execution_count": 66,
   "metadata": {},
   "outputs": [],
   "source": [
    "train=train.drop(['주문량','판매단가'],axis=1)"
   ]
  },
  {
   "cell_type": "code",
   "execution_count": 67,
   "metadata": {},
   "outputs": [
    {
     "data": {
      "text/plain": [
       "Index(['노출(분)', 'holiday(includeSS)', '계절', '분류', 'Active Users', 'new판매단가',\n",
       "       'new주문량', 'prime_time', 'prime_day', 'top_code', 'top_cat', 'x1_cat',\n",
       "       'x2_cat', 'top_real_weather', '실제_최고기온', '실제_최저기온', '실제_강수량', '실제_평균풍속',\n",
       "       '세일', '예보_최고기온', '예보_최저기온', '예보_강수확률', '예보_강수량', '예보_풍속', '무이자', '일시불',\n",
       "       '상품군'],\n",
       "      dtype='object')"
      ]
     },
     "execution_count": 67,
     "metadata": {},
     "output_type": "execute_result"
    }
   ],
   "source": [
    "train.columns"
   ]
  },
  {
   "cell_type": "code",
   "execution_count": 68,
   "metadata": {},
   "outputs": [],
   "source": [
    "# 빈도수인코딩(위의 원핫+pca와 비교해보기)\n",
    "def add_frequency_encoding(data,column): \n",
    "    #데이터프레임,열을 받아서 빈도수인코딩열을 추가해줌\n",
    "    enc_nom = (data.groupby(column).size())/len(data)\n",
    "    data['freq_encode_{}'.format(column)] = data[column].apply(lambda x:enc_nom[x])\n",
    "    print(\"freq_encode column was added\")"
   ]
  },
  {
   "cell_type": "code",
   "execution_count": 69,
   "metadata": {},
   "outputs": [
    {
     "name": "stdout",
     "output_type": "stream",
     "text": [
      "freq_encode column was added\n"
     ]
    }
   ],
   "source": [
    "add_frequency_encoding(train,'분류')"
   ]
  },
  {
   "cell_type": "code",
   "execution_count": 70,
   "metadata": {},
   "outputs": [],
   "source": [
    "train=train.drop(['분류'],axis=1)"
   ]
  },
  {
   "cell_type": "code",
   "execution_count": 71,
   "metadata": {},
   "outputs": [
    {
     "name": "stdout",
     "output_type": "stream",
     "text": [
      "freq_encode column was added\n"
     ]
    }
   ],
   "source": [
    "add_frequency_encoding(train,'상품군')"
   ]
  },
  {
   "cell_type": "code",
   "execution_count": 72,
   "metadata": {},
   "outputs": [
    {
     "data": {
      "text/plain": [
       "Index(['노출(분)', 'holiday(includeSS)', '계절', 'Active Users', 'new판매단가',\n",
       "       'new주문량', 'prime_time', 'prime_day', 'top_code', 'top_cat', 'x1_cat',\n",
       "       'x2_cat', 'top_real_weather', '실제_최고기온', '실제_최저기온', '실제_강수량', '실제_평균풍속',\n",
       "       '세일', '예보_최고기온', '예보_최저기온', '예보_강수확률', '예보_강수량', '예보_풍속', '무이자', '일시불',\n",
       "       '상품군', 'freq_encode_분류', 'freq_encode_상품군'],\n",
       "      dtype='object')"
      ]
     },
     "execution_count": 72,
     "metadata": {},
     "output_type": "execute_result"
    }
   ],
   "source": [
    "train.columns"
   ]
  },
  {
   "cell_type": "code",
   "execution_count": 73,
   "metadata": {},
   "outputs": [],
   "source": [
    "catlist = train['상품군'].unique()"
   ]
  },
  {
   "cell_type": "code",
   "execution_count": null,
   "metadata": {},
   "outputs": [],
   "source": []
  },
  {
   "cell_type": "code",
   "execution_count": null,
   "metadata": {},
   "outputs": [],
   "source": [
    "pd.Series(mape_score)[0]\n",
    "def weigted_mean(x):\n",
    "    a=0\n",
    "    for i in range(len(x)):\n",
    "        a+=x[i]*  \n",
    "        "
   ]
  },
  {
   "cell_type": "code",
   "execution_count": 74,
   "metadata": {},
   "outputs": [],
   "source": [
    "def mean_absolute_percentage_error(y_true, y_pred): \n",
    "    y_true, y_pred = np.array(y_true), np.array(y_pred)\n",
    "    return np.mean(np.abs((y_true - y_pred) / y_true)) * 100"
   ]
  },
  {
   "cell_type": "code",
   "execution_count": 75,
   "metadata": {},
   "outputs": [],
   "source": [
    "np.random.seed(1111)# 랜덤시드  1111"
   ]
  },
  {
   "cell_type": "code",
   "execution_count": 263,
   "metadata": {},
   "outputs": [],
   "source": [
    "#모든 카테고리에 대해 따로따로 자동 변수생성\n",
    "category_list = train['상품군'].unique().tolist()\n",
    "for i in category_list:\n",
    "    #카테고리에 해당하는 주문량제외 train데이터 할당   -> 주문량 포함되어있음\n",
    "    globals()['x_{}'.format(i)] = train.loc[train['상품군']==i].drop(['상품군','new주문량'],axis=1)\n",
    "    #카테고리에 해당하는 train의 주문량을 할당\n",
    "    globals()['y_{}'.format(i)] = train['new주문량'].loc[train['상품군']==i]"
   ]
  },
  {
   "cell_type": "code",
   "execution_count": 264,
   "metadata": {},
   "outputs": [],
   "source": [
    "\n",
    "from sklearn.model_selection import train_test_split\n",
    "for i in category_list:\n",
    "    x_for_split = globals()['x_{}'.format(i)]\n",
    "    y_for_split = globals()['y_{}'.format(i)]\n",
    "    globals()['x_train_{}'.format(i)], globals()['x_test_{}'.format(i)], globals()['y_train_{}'.format(i)], globals()['y_test_{}'.format(i)] = train_test_split(x_for_split, y_for_split, test_size=0.33, random_state=1234)\n"
   ]
  },
  {
   "cell_type": "code",
   "execution_count": 133,
   "metadata": {},
   "outputs": [],
   "source": [
    "model_gb = GradientBoostingRegressor(n_estimators=3000, learning_rate=0.05,\n",
    "                                   max_depth=4, max_features='sqrt',\n",
    "                                   min_samples_leaf=15, min_samples_split=10, \n",
    "                                   loss='huber', random_state =5)"
   ]
  },
  {
   "cell_type": "code",
   "execution_count": 134,
   "metadata": {},
   "outputs": [],
   "source": [
    "model_xgb = xgb.XGBRegressor(colsample_bytree=0.4603, gamma=0.0468, \n",
    "                             learning_rate=0.05, max_depth=3, \n",
    "                             min_child_weight=1.7817, n_estimators=2200,\n",
    "                             reg_alpha=0.4640, reg_lambda=0.8571,\n",
    "                             subsample=0.5213, silent=1,\n",
    "                             random_state =7, nthread = -1)"
   ]
  },
  {
   "cell_type": "code",
   "execution_count": 135,
   "metadata": {},
   "outputs": [],
   "source": [
    "model_lgb = lgb.LGBMRegressor(objective='regression',num_leaves=5,\n",
    "                              learning_rate=0.05, n_estimators=720,\n",
    "                              max_bin = 55, bagging_fraction = 0.8,\n",
    "                              bagging_freq = 5, feature_fraction = 0.2319,\n",
    "                              feature_fraction_seed=9, bagging_seed=9,\n",
    "                              min_data_in_leaf =6, min_sum_hessian_in_leaf = 11)"
   ]
  },
  {
   "cell_type": "code",
   "execution_count": 105,
   "metadata": {},
   "outputs": [
    {
     "data": {
      "text/plain": [
       "Index(['노출(분)', 'holiday(includeSS)', '계절', 'Active Users', 'new판매단가',\n",
       "       'new주문량', 'prime_time', 'prime_day', 'top_code', 'top_cat', 'x1_cat',\n",
       "       'x2_cat', 'top_real_weather', '실제_최고기온', '실제_최저기온', '실제_강수량', '실제_평균풍속',\n",
       "       '세일', '예보_최고기온', '예보_최저기온', '예보_강수확률', '예보_강수량', '예보_풍속', '무이자', '일시불',\n",
       "       'freq_encode_분류', 'freq_encode_상품군'],\n",
       "      dtype='object')"
      ]
     },
     "execution_count": 105,
     "metadata": {},
     "output_type": "execute_result"
    }
   ],
   "source": [
    "x_train_inner.columns"
   ]
  },
  {
   "cell_type": "markdown",
   "metadata": {},
   "source": [
    "# 모델별 비교-> gb,lgbm,xgb"
   ]
  },
  {
   "cell_type": "markdown",
   "metadata": {},
   "source": [
    "## XGB"
   ]
  },
  {
   "cell_type": "code",
   "execution_count": 136,
   "metadata": {},
   "outputs": [],
   "source": [
    "# new주문량 뺴기\n",
    "mape_score = []\n",
    "for i in category_list:\n",
    "  category_data = globals()['x_train_{}'.format(i) ]\n",
    "  category_label =  globals()['y_train_{}'.format(i)]\n",
    "  model_xgb.fit(category_data,category_label) # train데이터로 fitting 되어잇음.\n",
    "  test_data = globals()['x_test_{}'.format(i)]\n",
    "  test_label =  globals()['y_test_{}'.format(i)]\n",
    "  predictions = model_xgb.predict(test_data) \n",
    "  mape_score.append(mean_absolute_percentage_error(test_label, predictions))"
   ]
  },
  {
   "cell_type": "code",
   "execution_count": 153,
   "metadata": {},
   "outputs": [
    {
     "name": "stdout",
     "output_type": "stream",
     "text": [
      "XGB MAPE score of test inner : 10.264982917881479\n",
      "XGB MAPE score of test cloth : 12.691091863557247\n",
      "XGB MAPE score of test elec : 37.23229466248753\n",
      "XGB MAPE score of test living : 14.394525169051024\n",
      "XGB MAPE score of test food : 5.88060381978181\n",
      "XGB MAPE score of test health : 8.69817850197806\n",
      "XGB MAPE score of test bedding : 14.87630062357046\n",
      "XGB MAPE score of test furniture : 38.976340029684934\n",
      "XGB MAPE score of test beauty : 7.852487434229907\n",
      "XGB MAPE score of test etc : 30.997682031420915\n",
      "XGB MAPE score of test life : 19.124805474972625\n"
     ]
    }
   ],
   "source": [
    "\n",
    "for i in range(len(category_list)):\n",
    "  print(\"XGB MAPE score of test\",category_list[i],\":\",mape_score[i])"
   ]
  },
  {
   "cell_type": "code",
   "execution_count": 154,
   "metadata": {},
   "outputs": [
    {
     "data": {
      "text/plain": [
       "12.995708205799197"
      ]
     },
     "execution_count": 154,
     "metadata": {},
     "output_type": "execute_result"
    }
   ],
   "source": [
    "final_score = []\n",
    "for i in range(len(category_list)):\n",
    "  catsize = len(globals()['x_train_{}'.format(category_list[i])]) # 각 카테고리 사이즈\n",
    "  final_score.append(mape_score[i]*(catsize/len(train))) #각 카테고리별 가중치를 곱함(가중평균 위함)\n",
    "sum(final_score)"
   ]
  },
  {
   "cell_type": "markdown",
   "metadata": {},
   "source": [
    "## LGBM"
   ]
  },
  {
   "cell_type": "code",
   "execution_count": 142,
   "metadata": {},
   "outputs": [],
   "source": [
    "col=[]\n",
    "for i in range(len(x_train_inner.columns)):\n",
    "    col.append('a_{}'.format(i))"
   ]
  },
  {
   "cell_type": "code",
   "execution_count": 155,
   "metadata": {},
   "outputs": [],
   "source": [
    "mape_score = []\n",
    "for i in category_list:\n",
    "  category_data = globals()['x_train_{}'.format(i) ]\n",
    "  category_data.columns=col\n",
    "  category_label =  globals()['y_train_{}'.format(i)]\n",
    "  model_lgb.fit(category_data,category_label) # train데이터로 fitting 되어잇음.\n",
    "  test_data = globals()['x_test_{}'.format(i)]\n",
    "  test_data.columns=col\n",
    "  test_label =  globals()['y_test_{}'.format(i)]\n",
    "  predictions = model_lgb.predict(test_data) \n",
    "  mape_score.append(mean_absolute_percentage_error(test_label, predictions))"
   ]
  },
  {
   "cell_type": "code",
   "execution_count": 156,
   "metadata": {},
   "outputs": [
    {
     "name": "stdout",
     "output_type": "stream",
     "text": [
      "LGBM MAPE score of test inner : 9.300450446836377\n",
      "LGBM MAPE score of test cloth : 11.421715664538123\n",
      "LGBM MAPE score of test elec : 34.41322535344514\n",
      "LGBM MAPE score of test living : 12.961269235410802\n",
      "LGBM MAPE score of test food : 5.018544763962276\n",
      "LGBM MAPE score of test health : 8.761649624616561\n",
      "LGBM MAPE score of test bedding : 13.303948752946438\n",
      "LGBM MAPE score of test furniture : 34.05926444118213\n",
      "LGBM MAPE score of test beauty : 7.636968235122403\n",
      "LGBM MAPE score of test etc : 28.767065270473406\n",
      "LGBM MAPE score of test life : 18.38084106113687\n"
     ]
    }
   ],
   "source": [
    "\n",
    "for i in range(len(category_list)):\n",
    "  print(\"LGBM MAPE score of test\",category_list[i],\":\",mape_score[i])"
   ]
  },
  {
   "cell_type": "code",
   "execution_count": 157,
   "metadata": {},
   "outputs": [
    {
     "data": {
      "text/plain": [
       "11.864046244845092"
      ]
     },
     "execution_count": 157,
     "metadata": {},
     "output_type": "execute_result"
    }
   ],
   "source": [
    "final_score = []\n",
    "for i in range(len(category_list)):\n",
    "  catsize = len(globals()['x_train_{}'.format(category_list[i])]) # 각 카테고리 사이즈\n",
    "  final_score.append(mape_score[i]*(catsize/len(train))) #각 카테고리별 가중치를 곱함(가중평균 위함)\n",
    "sum(final_score)"
   ]
  },
  {
   "cell_type": "markdown",
   "metadata": {},
   "source": [
    "## GB"
   ]
  },
  {
   "cell_type": "code",
   "execution_count": 158,
   "metadata": {},
   "outputs": [],
   "source": [
    "mape_score = []\n",
    "for i in category_list:\n",
    "  category_data = globals()['x_train_{}'.format(i)]\n",
    "  category_label =  globals()['y_train_{}'.format(i)]\n",
    "  model_gb.fit(category_data,category_label) # train데이터로 fitting 되어잇음.\n",
    "  test_data = globals()['x_test_{}'.format(i)]\n",
    "  test_label =  globals()['y_test_{}'.format(i)]\n",
    "  predictions = model_gb.predict(test_data) \n",
    "  mape_score.append(mean_absolute_percentage_error(test_label, predictions))"
   ]
  },
  {
   "cell_type": "code",
   "execution_count": 159,
   "metadata": {},
   "outputs": [
    {
     "name": "stdout",
     "output_type": "stream",
     "text": [
      "GB MAPE score of test inner : 10.264982917881479\n",
      "GB MAPE score of test cloth : 12.691091863557247\n",
      "GB MAPE score of test elec : 37.23229466248753\n",
      "GB MAPE score of test living : 14.394525169051024\n",
      "GB MAPE score of test food : 5.88060381978181\n",
      "GB MAPE score of test health : 8.69817850197806\n",
      "GB MAPE score of test bedding : 14.87630062357046\n",
      "GB MAPE score of test furniture : 38.976340029684934\n",
      "GB MAPE score of test beauty : 7.852487434229907\n",
      "GB MAPE score of test etc : 30.997682031420915\n",
      "GB MAPE score of test life : 19.124805474972625\n"
     ]
    }
   ],
   "source": [
    "\n",
    "for i in range(len(category_list)):\n",
    "  print(\"GB MAPE score of test\",category_list[i],\":\",mape_score[i])"
   ]
  },
  {
   "cell_type": "code",
   "execution_count": 160,
   "metadata": {},
   "outputs": [
    {
     "data": {
      "text/plain": [
       "12.995708205799197"
      ]
     },
     "execution_count": 160,
     "metadata": {},
     "output_type": "execute_result"
    }
   ],
   "source": [
    "final_score = []\n",
    "for i in range(len(category_list)):\n",
    "  catsize = len(globals()['x_train_{}'.format(category_list[i])]) # 각 카테고리 사이즈\n",
    "  final_score.append(mape_score[i]*(catsize/len(train))) #각 카테고리별 가중치를 곱함(가중평균 위함)\n",
    "sum(final_score)"
   ]
  },
  {
   "cell_type": "code",
   "execution_count": null,
   "metadata": {},
   "outputs": [],
   "source": []
  },
  {
   "cell_type": "code",
   "execution_count": null,
   "metadata": {},
   "outputs": [],
   "source": [
    "ensemble = xgb_pred*0.25 + lgb_pred*0.25 + regr *0.5  "
   ]
  },
  {
   "cell_type": "code",
   "execution_count": null,
   "metadata": {},
   "outputs": [],
   "source": []
  },
  {
   "cell_type": "code",
   "execution_count": null,
   "metadata": {},
   "outputs": [],
   "source": []
  },
  {
   "cell_type": "code",
   "execution_count": null,
   "metadata": {},
   "outputs": [],
   "source": []
  },
  {
   "cell_type": "markdown",
   "metadata": {},
   "source": [
    "# 피쳐당 하나하나 비교"
   ]
  },
  {
   "cell_type": "code",
   "execution_count": 161,
   "metadata": {},
   "outputs": [
    {
     "data": {
      "text/plain": [
       "['inner',\n",
       " 'cloth',\n",
       " 'elec',\n",
       " 'living',\n",
       " 'food',\n",
       " 'health',\n",
       " 'bedding',\n",
       " 'furniture',\n",
       " 'beauty',\n",
       " 'etc',\n",
       " 'life']"
      ]
     },
     "execution_count": 161,
     "metadata": {},
     "output_type": "execute_result"
    }
   ],
   "source": [
    "category_list"
   ]
  },
  {
   "cell_type": "code",
   "execution_count": null,
   "metadata": {},
   "outputs": [],
   "source": [
    "fearture=['노출(분)', 'holiday(includeSS)', '계절', 'Active Users', 'new판매단가',\n",
    "       'new주문량', 'prime_time', 'prime_day', 'top_code', 'top_cat', 'x1_cat',\n",
    "       'x2_cat', 'top_real_weather', '실제_최고기온', '실제_최저기온', '실제_강수량', '실제_평균풍속',\n",
    "       '세일', '예보_최고기온', '예보_최저기온', '예보_강수확률', '예보_강수량', '예보_풍속', '무이자', '일시불',\n",
    "       '상품군', 'freq_encode_분류', 'freq_encode_상품군']"
   ]
  },
  {
   "cell_type": "markdown",
   "metadata": {},
   "source": [
    "# beauty"
   ]
  },
  {
   "cell_type": "code",
   "execution_count": 176,
   "metadata": {},
   "outputs": [],
   "source": [
    "beauty_fearture=['노출(분)', 'holiday(includeSS)', '계절', 'Active Users', 'new판매단가',\n",
    "       'new주문량', 'prime_time', 'prime_day', 'top_code', 'top_cat', 'x1_cat',\n",
    "       'x2_cat', '실제_최고기온', '실제_최저기온', '실제_강수량', '실제_평균풍속',\n",
    "       '세일', '예보_최고기온', '예보_최저기온', '예보_강수확률', '예보_강수량', '예보_풍속', '무이자', '일시불',\n",
    "       '상품군', 'freq_encode_상품군']"
   ]
  },
  {
   "cell_type": "code",
   "execution_count": 199,
   "metadata": {},
   "outputs": [],
   "source": [
    "x_train_beauty=x_train_beauty[['노출(분)', 'holiday(includeSS)', '계절', 'Active Users', 'new판매단가',\n",
    "        'prime_time', 'prime_day', 'top_code', 'top_cat', 'x1_cat',\n",
    "       'x2_cat', '실제_최고기온', '실제_최저기온', '실제_강수량', '실제_평균풍속',\n",
    "       '세일', '예보_최고기온', '예보_최저기온', '예보_강수확률', '예보_강수량', '예보_풍속', '무이자', '일시불',\n",
    "        'freq_encode_상품군']]"
   ]
  },
  {
   "cell_type": "code",
   "execution_count": 200,
   "metadata": {},
   "outputs": [],
   "source": [
    "x_test_beauty=x_test_beauty[['노출(분)', 'holiday(includeSS)', '계절', 'Active Users', 'new판매단가',\n",
    "        'prime_time', 'prime_day', 'top_code', 'top_cat', 'x1_cat',\n",
    "       'x2_cat', '실제_최고기온', '실제_최저기온', '실제_강수량', '실제_평균풍속',\n",
    "       '세일', '예보_최고기온', '예보_최저기온', '예보_강수확률', '예보_강수량', '예보_풍속', '무이자', '일시불',\n",
    "        'freq_encode_상품군']]"
   ]
  },
  {
   "cell_type": "code",
   "execution_count": 202,
   "metadata": {},
   "outputs": [],
   "source": [
    "col=[]\n",
    "for i in range(len(x_test_beauty.columns)):\n",
    "    col.append('a_{}'.format(i))"
   ]
  },
  {
   "cell_type": "code",
   "execution_count": 203,
   "metadata": {},
   "outputs": [],
   "source": [
    "x_train_beauty.columns=col\n",
    "x_test_beauty.columns=col"
   ]
  },
  {
   "cell_type": "code",
   "execution_count": 204,
   "metadata": {},
   "outputs": [
    {
     "data": {
      "text/plain": [
       "7.749007752215681"
      ]
     },
     "execution_count": 204,
     "metadata": {},
     "output_type": "execute_result"
    }
   ],
   "source": [
    "model_lgb.fit(x_train_beauty,y_train_beauty) \n",
    "predictions = model_lgb.predict(x_test_beauty) \n",
    "mean_absolute_percentage_error(y_test_beauty, predictions)"
   ]
  },
  {
   "cell_type": "markdown",
   "metadata": {},
   "source": [
    "# bedding"
   ]
  },
  {
   "cell_type": "code",
   "execution_count": 163,
   "metadata": {},
   "outputs": [],
   "source": [
    "bedding_fearture=['노출(분)', 'holiday(includeSS)', '계절', 'Active Users', 'new판매단가',\n",
    "       'new주문량', 'prime_time', 'prime_day', 'top_code', 'top_cat', 'x1_cat',\n",
    "       'x2_cat', '실제_최고기온', '실제_최저기온', '실제_강수량', '실제_평균풍속',\n",
    "       '세일', '예보_강수확률', '예보_강수량', '예보_풍속', '무이자', '일시불',\n",
    "       '상품군', 'freq_encode_분류', 'freq_encode_상품군']"
   ]
  },
  {
   "cell_type": "code",
   "execution_count": 233,
   "metadata": {},
   "outputs": [],
   "source": [
    "x_train_bedding=x_train_bedding[['노출(분)', 'holiday(includeSS)', '계절', 'Active Users', 'new판매단가',\n",
    "        'prime_time', 'prime_day', 'top_code', 'top_cat', 'x1_cat',\n",
    "       'x2_cat', '실제_최고기온', '실제_최저기온', '실제_강수량', '실제_평균풍속',\n",
    "       '세일', '예보_강수확률', '예보_강수량', '예보_풍속', '무이자', '일시불',\n",
    "       'freq_encode_분류', 'freq_encode_상품군']]\n",
    "x_test_bedding=x_test_bedding[['노출(분)', 'holiday(includeSS)', '계절', 'Active Users', 'new판매단가',\n",
    "        'prime_time', 'prime_day', 'top_code', 'top_cat', 'x1_cat',\n",
    "       'x2_cat', '실제_최고기온', '실제_최저기온', '실제_강수량', '실제_평균풍속',\n",
    "       '세일', '예보_강수확률', '예보_강수량', '예보_풍속', '무이자', '일시불',\n",
    "        'freq_encode_분류', 'freq_encode_상품군']]"
   ]
  },
  {
   "cell_type": "code",
   "execution_count": 234,
   "metadata": {},
   "outputs": [],
   "source": [
    "col=[]\n",
    "for i in range(len(x_test_bedding.columns)):\n",
    "    col.append('a_{}'.format(i))"
   ]
  },
  {
   "cell_type": "code",
   "execution_count": 236,
   "metadata": {},
   "outputs": [],
   "source": [
    "x_train_bedding.columns=col\n",
    "x_test_bedding.columns=col"
   ]
  },
  {
   "cell_type": "code",
   "execution_count": 237,
   "metadata": {},
   "outputs": [
    {
     "data": {
      "text/plain": [
       "13.138407560999282"
      ]
     },
     "execution_count": 237,
     "metadata": {},
     "output_type": "execute_result"
    }
   ],
   "source": [
    "model_lgb.fit(x_train_bedding,y_train_bedding) \n",
    "predictions = model_lgb.predict(x_test_bedding) \n",
    "mean_absolute_percentage_error(y_test_bedding, predictions)"
   ]
  },
  {
   "cell_type": "markdown",
   "metadata": {},
   "source": [
    "# cloth"
   ]
  },
  {
   "cell_type": "code",
   "execution_count": 164,
   "metadata": {},
   "outputs": [],
   "source": [
    "cloth_fearture=['노출(분)', 'holiday(includeSS)', '계절', 'Active Users', 'new판매단가',\n",
    "       'new주문량', 'prime_time', 'prime_day', 'top_code', 'top_cat', 'x1_cat',\n",
    "       'x2_cat', 'top_real_weather', '실제_최고기온', '실제_최저기온', '실제_강수량', '실제_평균풍속',\n",
    "       '세일', '무이자', '일시불',\n",
    "       '상품군', 'freq_encode_상품군']"
   ]
  },
  {
   "cell_type": "code",
   "execution_count": 243,
   "metadata": {},
   "outputs": [],
   "source": [
    "x_train_cloth=x_train_cloth[['노출(분)', 'holiday(includeSS)', '계절', 'Active Users', 'new판매단가',\n",
    "        'prime_time', 'prime_day', 'top_code', 'top_cat', 'x1_cat',\n",
    "       'x2_cat', 'top_real_weather', '실제_최고기온', '실제_최저기온', '실제_강수량', '실제_평균풍속',\n",
    "       '세일', '무이자', '일시불',\n",
    "       'freq_encode_상품군']]\n",
    "x_test_cloth=x_test_cloth[['노출(분)', 'holiday(includeSS)', '계절', 'Active Users', 'new판매단가',\n",
    "        'prime_time', 'prime_day', 'top_code', 'top_cat', 'x1_cat',\n",
    "       'x2_cat', 'top_real_weather', '실제_최고기온', '실제_최저기온', '실제_강수량', '실제_평균풍속',\n",
    "       '세일', '무이자', '일시불',\n",
    "        'freq_encode_상품군']]"
   ]
  },
  {
   "cell_type": "code",
   "execution_count": 244,
   "metadata": {},
   "outputs": [],
   "source": [
    "col=[]\n",
    "for i in range(len(x_test_cloth.columns)):\n",
    "    col.append('a_{}'.format(i))"
   ]
  },
  {
   "cell_type": "code",
   "execution_count": 245,
   "metadata": {},
   "outputs": [],
   "source": [
    "x_train_cloth.columns=col\n",
    "x_test_cloth.columns=col"
   ]
  },
  {
   "cell_type": "code",
   "execution_count": 246,
   "metadata": {},
   "outputs": [
    {
     "data": {
      "text/plain": [
       "11.43392744026325"
      ]
     },
     "execution_count": 246,
     "metadata": {},
     "output_type": "execute_result"
    }
   ],
   "source": [
    "model_lgb.fit(x_train_cloth,y_train_cloth) \n",
    "predictions = model_lgb.predict(x_test_cloth) \n",
    "mean_absolute_percentage_error(y_test_cloth, predictions)"
   ]
  },
  {
   "cell_type": "markdown",
   "metadata": {},
   "source": [
    "# elec"
   ]
  },
  {
   "cell_type": "code",
   "execution_count": 247,
   "metadata": {},
   "outputs": [],
   "source": [
    "elec_fearture=['노출(분)', 'holiday(includeSS)', '계절', 'Active Users', 'new판매단가',\n",
    "       'new주문량', 'prime_time', 'prime_day', 'top_code'\n",
    "       , '실제_최고기온', '실제_최저기온', '실제_강수량', '실제_평균풍속',\n",
    "       '세일', '무이자', '일시불',\n",
    "       '상품군', 'freq_encode_분류', 'freq_encode_상품군']"
   ]
  },
  {
   "cell_type": "code",
   "execution_count": 255,
   "metadata": {},
   "outputs": [],
   "source": [
    "x_train_elec=x_train_elec[['노출(분)', 'holiday(includeSS)', '계절', 'Active Users', 'new판매단가',\n",
    "        'prime_time', 'prime_day', 'top_code'\n",
    "       , '실제_최고기온', '실제_최저기온', '실제_강수량', '실제_평균풍속',\n",
    "       '세일', '무이자', '일시불',\n",
    "        'freq_encode_분류', 'freq_encode_상품군']]\n",
    "x_test_elec=x_test_elec[['노출(분)', 'holiday(includeSS)', '계절', 'Active Users', 'new판매단가',\n",
    "       'prime_time', 'prime_day', 'top_code'\n",
    "       , '실제_최고기온', '실제_최저기온', '실제_강수량', '실제_평균풍속',\n",
    "       '세일', '무이자', '일시불',\n",
    "     'freq_encode_분류', 'freq_encode_상품군']]"
   ]
  },
  {
   "cell_type": "code",
   "execution_count": 256,
   "metadata": {},
   "outputs": [],
   "source": [
    "col=[]\n",
    "for i in range(len(x_test_elec.columns)):\n",
    "    col.append('a_{}'.format(i))"
   ]
  },
  {
   "cell_type": "code",
   "execution_count": 257,
   "metadata": {},
   "outputs": [],
   "source": [
    "x_train_elec.columns=col\n",
    "x_test_elec.columns=col"
   ]
  },
  {
   "cell_type": "code",
   "execution_count": 258,
   "metadata": {},
   "outputs": [
    {
     "data": {
      "text/plain": [
       "34.135196466518416"
      ]
     },
     "execution_count": 258,
     "metadata": {},
     "output_type": "execute_result"
    }
   ],
   "source": [
    "model_lgb.fit(x_train_elec,y_train_elec) \n",
    "predictions = model_lgb.predict(x_test_elec) \n",
    "mean_absolute_percentage_error(y_test_elec, predictions)"
   ]
  },
  {
   "cell_type": "markdown",
   "metadata": {},
   "source": [
    "# etc"
   ]
  },
  {
   "cell_type": "code",
   "execution_count": 259,
   "metadata": {},
   "outputs": [],
   "source": [
    "etc_fearture=['노출(분)', 'holiday(includeSS)', '계절', 'Active Users', 'new판매단가',\n",
    "        'prime_time', 'prime_day', 'top_code', 'top_cat', 'x1_cat',\n",
    "       'x2_cat', '실제_최고기온', '실제_최저기온', '실제_강수량', '실제_평균풍속',\n",
    "       '세일', '예보_최고기온', '예보_최저기온', '예보_강수확률', '예보_강수량', '예보_풍속', '무이자', '일시불',\n",
    "       'freq_encode_분류', 'freq_encode_상품군']"
   ]
  },
  {
   "cell_type": "code",
   "execution_count": 265,
   "metadata": {},
   "outputs": [],
   "source": [
    "x_train_etc=x_train_etc[['노출(분)', 'holiday(includeSS)', '계절', 'Active Users', 'new판매단가',\n",
    "       'prime_time', 'prime_day', 'top_code', 'top_cat', 'x1_cat',\n",
    "       'x2_cat', '실제_최고기온', '실제_최저기온', '실제_강수량', '실제_평균풍속',\n",
    "       '세일', '예보_최고기온', '예보_최저기온', '예보_강수확률', '예보_강수량', '예보_풍속', '무이자', '일시불',\n",
    "       'freq_encode_분류', 'freq_encode_상품군']]\n",
    "x_test_etc=x_test_etc[['노출(분)', 'holiday(includeSS)', '계절', 'Active Users', 'new판매단가',\n",
    "    'prime_time', 'prime_day', 'top_code', 'top_cat', 'x1_cat',\n",
    "       'x2_cat', '실제_최고기온', '실제_최저기온', '실제_강수량', '실제_평균풍속',\n",
    "       '세일', '예보_최고기온', '예보_최저기온', '예보_강수확률', '예보_강수량', '예보_풍속', '무이자', '일시불',\n",
    "        'freq_encode_분류', 'freq_encode_상품군']]"
   ]
  },
  {
   "cell_type": "code",
   "execution_count": 266,
   "metadata": {},
   "outputs": [],
   "source": [
    "col=[]\n",
    "for i in range(len(x_test_etc.columns)):\n",
    "    col.append('a_{}'.format(i))"
   ]
  },
  {
   "cell_type": "code",
   "execution_count": 267,
   "metadata": {},
   "outputs": [],
   "source": [
    "x_train_etc.columns=col\n",
    "x_test_etc.columns=col"
   ]
  },
  {
   "cell_type": "code",
   "execution_count": 268,
   "metadata": {},
   "outputs": [
    {
     "data": {
      "text/plain": [
       "28.424446033939727"
      ]
     },
     "execution_count": 268,
     "metadata": {},
     "output_type": "execute_result"
    }
   ],
   "source": [
    "model_lgb.fit(x_train_etc,y_train_etc) \n",
    "predictions = model_lgb.predict(x_test_etc) \n",
    "mean_absolute_percentage_error(y_test_etc, predictions)"
   ]
  },
  {
   "cell_type": "markdown",
   "metadata": {},
   "source": [
    "# food"
   ]
  },
  {
   "cell_type": "code",
   "execution_count": 269,
   "metadata": {},
   "outputs": [],
   "source": [
    "food_fearture=['노출(분)', 'holiday(includeSS)', '계절', 'Active Users', 'new판매단가',\n",
    "       'new주문량', 'prime_time', 'prime_day', 'top_code', 'top_cat', 'x1_cat',\n",
    "       'x2_cat', 'top_real_weather', '실제_최고기온', '실제_최저기온', '실제_강수량', '실제_평균풍속',\n",
    "       '세일', '예보_최고기온', '예보_최저기온', '예보_강수확률', '예보_강수량', '예보_풍속', '무이자', '일시불',\n",
    "       '상품군', 'freq_encode_분류', 'freq_encode_상품군']"
   ]
  },
  {
   "cell_type": "code",
   "execution_count": 270,
   "metadata": {},
   "outputs": [],
   "source": [
    "x_train_food=x_train_food[['노출(분)', 'holiday(includeSS)', '계절', 'Active Users', 'new판매단가',\n",
    "     'prime_time', 'prime_day', 'top_code', 'top_cat', 'x1_cat',\n",
    "       'x2_cat', 'top_real_weather', '실제_최고기온', '실제_최저기온', '실제_강수량', '실제_평균풍속',\n",
    "       '세일', '예보_최고기온', '예보_최저기온', '예보_강수확률', '예보_강수량', '예보_풍속', '무이자', '일시불',\n",
    "    'freq_encode_분류', 'freq_encode_상품군']]\n",
    "x_test_food=x_test_food[['노출(분)', 'holiday(includeSS)', '계절', 'Active Users', 'new판매단가',\n",
    "      'prime_time', 'prime_day', 'top_code', 'top_cat', 'x1_cat',\n",
    "       'x2_cat', 'top_real_weather', '실제_최고기온', '실제_최저기온', '실제_강수량', '실제_평균풍속',\n",
    "       '세일', '예보_최고기온', '예보_최저기온', '예보_강수확률', '예보_강수량', '예보_풍속', '무이자', '일시불',\n",
    "       'freq_encode_분류', 'freq_encode_상품군']]"
   ]
  },
  {
   "cell_type": "code",
   "execution_count": 271,
   "metadata": {},
   "outputs": [],
   "source": [
    "col=[]\n",
    "for i in range(len(x_test_food.columns)):\n",
    "    col.append('a_{}'.format(i))"
   ]
  },
  {
   "cell_type": "code",
   "execution_count": 272,
   "metadata": {},
   "outputs": [],
   "source": [
    "x_train_food.columns=col\n",
    "x_test_food.columns=col"
   ]
  },
  {
   "cell_type": "code",
   "execution_count": 273,
   "metadata": {},
   "outputs": [
    {
     "data": {
      "text/plain": [
       "5.018544763962276"
      ]
     },
     "execution_count": 273,
     "metadata": {},
     "output_type": "execute_result"
    }
   ],
   "source": [
    "model_lgb.fit(x_train_food,y_train_food) \n",
    "predictions = model_lgb.predict(x_test_food) \n",
    "mean_absolute_percentage_error(y_test_food, predictions)"
   ]
  },
  {
   "cell_type": "markdown",
   "metadata": {},
   "source": [
    "# furniture"
   ]
  },
  {
   "cell_type": "code",
   "execution_count": 274,
   "metadata": {},
   "outputs": [],
   "source": [
    "fearture=['노출(분)', 'holiday(includeSS)', '계절', 'Active Users', 'new판매단가',\n",
    "       'prime_time', 'prime_day', 'top_code', 'top_cat', 'x1_cat',\n",
    "       'x2_cat', 'top_real_weather', '실제_최고기온', '실제_최저기온', '실제_강수량', '실제_평균풍속',\n",
    "       '세일', '무이자', '일시불',\n",
    "       '상품군', 'freq_encode_분류', 'freq_encode_상품군']"
   ]
  },
  {
   "cell_type": "code",
   "execution_count": 275,
   "metadata": {},
   "outputs": [],
   "source": [
    "x_train_furniture=x_train_furniture[['노출(분)', 'holiday(includeSS)', '계절', 'Active Users', 'new판매단가',\n",
    "       'prime_time', 'prime_day', 'top_code', 'top_cat', 'x1_cat',\n",
    "       'x2_cat', 'top_real_weather', '실제_최고기온', '실제_최저기온', '실제_강수량', '실제_평균풍속',\n",
    "       '세일', '무이자', '일시불',\n",
    "      'freq_encode_분류', 'freq_encode_상품군']]\n",
    "x_test_furniture=x_test_furniture[['노출(분)', 'holiday(includeSS)', '계절', 'Active Users', 'new판매단가',\n",
    "       'prime_time', 'prime_day', 'top_code', 'top_cat', 'x1_cat',\n",
    "       'x2_cat', 'top_real_weather', '실제_최고기온', '실제_최저기온', '실제_강수량', '실제_평균풍속',\n",
    "       '세일', '무이자', '일시불',\n",
    "        'freq_encode_분류', 'freq_encode_상품군']]"
   ]
  },
  {
   "cell_type": "code",
   "execution_count": 276,
   "metadata": {},
   "outputs": [],
   "source": [
    "col=[]\n",
    "for i in range(len(x_test_furniture.columns)):\n",
    "    col.append('a_{}'.format(i))"
   ]
  },
  {
   "cell_type": "code",
   "execution_count": 277,
   "metadata": {},
   "outputs": [],
   "source": [
    "x_train_furniture.columns=col\n",
    "x_test_furniture.columns=col"
   ]
  },
  {
   "cell_type": "code",
   "execution_count": 278,
   "metadata": {},
   "outputs": [
    {
     "data": {
      "text/plain": [
       "32.965028348327714"
      ]
     },
     "execution_count": 278,
     "metadata": {},
     "output_type": "execute_result"
    }
   ],
   "source": [
    "model_lgb.fit(x_train_furniture,y_train_furniture) \n",
    "predictions = model_lgb.predict(x_test_furniture) \n",
    "mean_absolute_percentage_error(y_test_furniture, predictions)"
   ]
  },
  {
   "cell_type": "markdown",
   "metadata": {},
   "source": [
    "# health"
   ]
  },
  {
   "cell_type": "code",
   "execution_count": 279,
   "metadata": {},
   "outputs": [],
   "source": [
    "health_fearture=['노출(분)', 'holiday(includeSS)', '계절', 'Active Users', 'new판매단가',\n",
    "       'new주문량', 'prime_time', 'prime_day', 'top_code', 'top_cat', 'x1_cat',\n",
    "       'x2_cat', '실제_최고기온', '실제_최저기온', '실제_강수량', '실제_평균풍속',\n",
    "       '세일', '예보_최고기온', '예보_최저기온', '예보_강수확률', '예보_강수량', '예보_풍속', '무이자', '일시불',\n",
    "       '상품군', 'freq_encode_분류', 'freq_encode_상품군']"
   ]
  },
  {
   "cell_type": "code",
   "execution_count": 280,
   "metadata": {},
   "outputs": [],
   "source": [
    "x_train_health=x_train_health[['노출(분)', 'holiday(includeSS)', '계절', 'Active Users', 'new판매단가',\n",
    "       'prime_time', 'prime_day', 'top_code', 'top_cat', 'x1_cat',\n",
    "       'x2_cat', '실제_최고기온', '실제_최저기온', '실제_강수량', '실제_평균풍속',\n",
    "       '세일', '예보_최고기온', '예보_최저기온', '예보_강수확률', '예보_강수량', '예보_풍속', '무이자', '일시불',\n",
    "     'freq_encode_분류', 'freq_encode_상품군']]\n",
    "x_test_health=x_test_health[['노출(분)', 'holiday(includeSS)', '계절', 'Active Users', 'new판매단가',\n",
    "       'prime_time', 'prime_day', 'top_code', 'top_cat', 'x1_cat',\n",
    "       'x2_cat', '실제_최고기온', '실제_최저기온', '실제_강수량', '실제_평균풍속',\n",
    "       '세일', '예보_최고기온', '예보_최저기온', '예보_강수확률', '예보_강수량', '예보_풍속', '무이자', '일시불',\n",
    "       'freq_encode_분류', 'freq_encode_상품군']]"
   ]
  },
  {
   "cell_type": "code",
   "execution_count": 281,
   "metadata": {},
   "outputs": [],
   "source": [
    "col=[]\n",
    "for i in range(len(x_test_health.columns)):\n",
    "    col.append('a_{}'.format(i))"
   ]
  },
  {
   "cell_type": "code",
   "execution_count": 282,
   "metadata": {},
   "outputs": [],
   "source": [
    "x_train_health.columns=col\n",
    "x_test_health.columns=col"
   ]
  },
  {
   "cell_type": "code",
   "execution_count": 283,
   "metadata": {},
   "outputs": [
    {
     "data": {
      "text/plain": [
       "8.788956373465773"
      ]
     },
     "execution_count": 283,
     "metadata": {},
     "output_type": "execute_result"
    }
   ],
   "source": [
    "model_lgb.fit(x_train_health,y_train_health) \n",
    "predictions = model_lgb.predict(x_test_health) \n",
    "mean_absolute_percentage_error(y_test_health, predictions)"
   ]
  },
  {
   "cell_type": "markdown",
   "metadata": {},
   "source": [
    "# inner"
   ]
  },
  {
   "cell_type": "code",
   "execution_count": 170,
   "metadata": {},
   "outputs": [],
   "source": [
    "inner_fearture=['노출(분)', 'holiday(includeSS)', '계절', 'Active Users', 'new판매단가',\n",
    "       'new주문량', 'prime_time', 'prime_day', 'top_code', 'x1_cat',\n",
    "       'x2_cat', 'top_real_weather', '실제_최고기온', '실제_최저기온', '실제_강수량', '실제_평균풍속',\n",
    "       '세일', '예보_최고기온', '예보_최저기온', '예보_강수확률', '예보_강수량', '예보_풍속', '무이자', '일시불',\n",
    "       '상품군', 'freq_encode_분류', 'freq_encode_상품군']\n",
    "  "
   ]
  },
  {
   "cell_type": "code",
   "execution_count": 284,
   "metadata": {},
   "outputs": [],
   "source": [
    "x_train_inner=x_train_inner[['노출(분)', 'holiday(includeSS)', '계절', 'Active Users', 'new판매단가',\n",
    "       'prime_time', 'prime_day', 'top_code', 'x1_cat',\n",
    "       'x2_cat', 'top_real_weather', '실제_최고기온', '실제_최저기온', '실제_강수량', '실제_평균풍속',\n",
    "       '세일', '예보_최고기온', '예보_최저기온', '예보_강수확률', '예보_강수량', '예보_풍속', '무이자', '일시불',\n",
    "        'freq_encode_분류', 'freq_encode_상품군']]\n",
    "x_test_inner=x_test_inner[['노출(분)', 'holiday(includeSS)', '계절', 'Active Users', 'new판매단가',\n",
    "       'prime_time', 'prime_day', 'top_code', 'x1_cat',\n",
    "       'x2_cat', 'top_real_weather', '실제_최고기온', '실제_최저기온', '실제_강수량', '실제_평균풍속',\n",
    "       '세일', '예보_최고기온', '예보_최저기온', '예보_강수확률', '예보_강수량', '예보_풍속', '무이자', '일시불',\n",
    "       'freq_encode_분류', 'freq_encode_상품군']]"
   ]
  },
  {
   "cell_type": "code",
   "execution_count": 285,
   "metadata": {},
   "outputs": [],
   "source": [
    "col=[]\n",
    "for i in range(len(x_test_inner.columns)):\n",
    "    col.append('a_{}'.format(i))"
   ]
  },
  {
   "cell_type": "code",
   "execution_count": 286,
   "metadata": {},
   "outputs": [],
   "source": [
    "x_train_inner.columns=col\n",
    "x_test_inner.columns=col"
   ]
  },
  {
   "cell_type": "code",
   "execution_count": 287,
   "metadata": {},
   "outputs": [
    {
     "data": {
      "text/plain": [
       "9.322561808396506"
      ]
     },
     "execution_count": 287,
     "metadata": {},
     "output_type": "execute_result"
    }
   ],
   "source": [
    "model_lgb.fit(x_train_inner,y_train_inner) \n",
    "predictions = model_lgb.predict(x_test_inner) \n",
    "mean_absolute_percentage_error(y_test_inner, predictions)\n"
   ]
  },
  {
   "cell_type": "markdown",
   "metadata": {},
   "source": [
    "# life"
   ]
  },
  {
   "cell_type": "code",
   "execution_count": 288,
   "metadata": {},
   "outputs": [],
   "source": [
    "life_fearture=['노출(분)', 'holiday(includeSS)', '계절', 'Active Users', 'new판매단가',\n",
    "       'prime_time', 'prime_day', 'top_cat', 'x1_cat',\n",
    "       'x2_cat', 'top_real_weather', '실제_최고기온', '실제_최저기온', '실제_강수량', '실제_평균풍속',\n",
    "       '세일', '예보_최고기온', '예보_최저기온', '예보_강수확률', '예보_강수량', '예보_풍속', '무이자', '일시불',\n",
    "       'freq_encode_분류', 'freq_encode_상품군']"
   ]
  },
  {
   "cell_type": "code",
   "execution_count": 289,
   "metadata": {},
   "outputs": [],
   "source": [
    "x_train_life=x_train_life[['노출(분)', 'holiday(includeSS)', '계절', 'Active Users', 'new판매단가',\n",
    "       'prime_time', 'prime_day', 'top_cat', 'x1_cat',\n",
    "       'x2_cat', 'top_real_weather', '실제_최고기온', '실제_최저기온', '실제_강수량', '실제_평균풍속',\n",
    "       '세일', '예보_최고기온', '예보_최저기온', '예보_강수확률', '예보_강수량', '예보_풍속', '무이자', '일시불',\n",
    "        'freq_encode_분류', 'freq_encode_상품군']]\n",
    "x_test_life=x_test_life[['노출(분)', 'holiday(includeSS)', '계절', 'Active Users', 'new판매단가',\n",
    "        'prime_time', 'prime_day', 'top_cat', 'x1_cat',\n",
    "       'x2_cat', 'top_real_weather', '실제_최고기온', '실제_최저기온', '실제_강수량', '실제_평균풍속',\n",
    "       '세일', '예보_최고기온', '예보_최저기온', '예보_강수확률', '예보_강수량', '예보_풍속', '무이자', '일시불',\n",
    "       'freq_encode_분류', 'freq_encode_상품군']]"
   ]
  },
  {
   "cell_type": "code",
   "execution_count": 290,
   "metadata": {},
   "outputs": [],
   "source": [
    "col=[]\n",
    "for i in range(len(x_test_life.columns)):\n",
    "    col.append('a_{}'.format(i))"
   ]
  },
  {
   "cell_type": "code",
   "execution_count": 291,
   "metadata": {},
   "outputs": [],
   "source": [
    "x_train_life.columns=col\n",
    "x_test_life.columns=col"
   ]
  },
  {
   "cell_type": "code",
   "execution_count": 292,
   "metadata": {},
   "outputs": [
    {
     "data": {
      "text/plain": [
       "18.208165448697812"
      ]
     },
     "execution_count": 292,
     "metadata": {},
     "output_type": "execute_result"
    }
   ],
   "source": [
    "model_lgb.fit(x_train_life,y_train_life) \n",
    "predictions = model_lgb.predict(x_test_life) \n",
    "mean_absolute_percentage_error(y_test_life, predictions)"
   ]
  },
  {
   "cell_type": "markdown",
   "metadata": {},
   "source": [
    "# living"
   ]
  },
  {
   "cell_type": "code",
   "execution_count": 293,
   "metadata": {},
   "outputs": [],
   "source": [
    "living_fearture=['노출(분)', 'holiday(includeSS)', '계절', 'Active Users', 'new판매단가',\n",
    "       'new주문량', 'prime_time', 'prime_day',\n",
    "        '무이자', '일시불',\n",
    "       '상품군', 'freq_encode_상품군']"
   ]
  },
  {
   "cell_type": "code",
   "execution_count": 294,
   "metadata": {},
   "outputs": [],
   "source": [
    "x_train_living=x_train_living[['노출(분)', 'holiday(includeSS)', '계절', 'Active Users', 'new판매단가',\n",
    "        'prime_time', 'prime_day',\n",
    "        '무이자', '일시불',\n",
    "        'freq_encode_상품군']]\n",
    "x_test_living=x_test_living[['노출(분)', 'holiday(includeSS)', '계절', 'Active Users', 'new판매단가',\n",
    "        'prime_time', 'prime_day',\n",
    "        '무이자', '일시불',\n",
    "       'freq_encode_상품군']]"
   ]
  },
  {
   "cell_type": "code",
   "execution_count": 297,
   "metadata": {},
   "outputs": [],
   "source": [
    "col=[]\n",
    "for i in range(len(x_test_living.columns)):\n",
    "    col.append('a_{}'.format(i))"
   ]
  },
  {
   "cell_type": "code",
   "execution_count": 299,
   "metadata": {},
   "outputs": [],
   "source": [
    "x_train_living.columns=col\n",
    "x_test_living.columns=col"
   ]
  },
  {
   "cell_type": "code",
   "execution_count": 301,
   "metadata": {},
   "outputs": [
    {
     "data": {
      "text/plain": [
       "12.250431657891667"
      ]
     },
     "execution_count": 301,
     "metadata": {},
     "output_type": "execute_result"
    }
   ],
   "source": [
    "model_lgb.fit(x_train_living,y_train_living) \n",
    "predictions = model_lgb.predict(x_test_living) \n",
    "mean_absolute_percentage_error(y_test_living, predictions)"
   ]
  },
  {
   "cell_type": "code",
   "execution_count": null,
   "metadata": {},
   "outputs": [],
   "source": []
  },
  {
   "cell_type": "code",
   "execution_count": null,
   "metadata": {},
   "outputs": [],
   "source": []
  },
  {
   "cell_type": "code",
   "execution_count": null,
   "metadata": {},
   "outputs": [],
   "source": []
  },
  {
   "cell_type": "code",
   "execution_count": null,
   "metadata": {},
   "outputs": [],
   "source": []
  },
  {
   "cell_type": "code",
   "execution_count": null,
   "metadata": {},
   "outputs": [],
   "source": []
  },
  {
   "cell_type": "code",
   "execution_count": null,
   "metadata": {},
   "outputs": [],
   "source": []
  },
  {
   "cell_type": "code",
   "execution_count": null,
   "metadata": {},
   "outputs": [],
   "source": []
  },
  {
   "cell_type": "code",
   "execution_count": null,
   "metadata": {},
   "outputs": [],
   "source": []
  },
  {
   "cell_type": "code",
   "execution_count": null,
   "metadata": {},
   "outputs": [],
   "source": []
  },
  {
   "cell_type": "code",
   "execution_count": null,
   "metadata": {},
   "outputs": [],
   "source": []
  },
  {
   "cell_type": "code",
   "execution_count": null,
   "metadata": {},
   "outputs": [],
   "source": []
  },
  {
   "cell_type": "code",
   "execution_count": null,
   "metadata": {},
   "outputs": [],
   "source": []
  },
  {
   "cell_type": "code",
   "execution_count": null,
   "metadata": {},
   "outputs": [],
   "source": []
  },
  {
   "cell_type": "code",
   "execution_count": null,
   "metadata": {},
   "outputs": [],
   "source": []
  },
  {
   "cell_type": "code",
   "execution_count": null,
   "metadata": {},
   "outputs": [],
   "source": []
  },
  {
   "cell_type": "code",
   "execution_count": null,
   "metadata": {},
   "outputs": [],
   "source": []
  },
  {
   "cell_type": "code",
   "execution_count": null,
   "metadata": {},
   "outputs": [],
   "source": []
  },
  {
   "cell_type": "code",
   "execution_count": null,
   "metadata": {},
   "outputs": [],
   "source": []
  },
  {
   "cell_type": "code",
   "execution_count": null,
   "metadata": {},
   "outputs": [],
   "source": []
  },
  {
   "cell_type": "code",
   "execution_count": null,
   "metadata": {},
   "outputs": [],
   "source": []
  },
  {
   "cell_type": "code",
   "execution_count": null,
   "metadata": {},
   "outputs": [],
   "source": []
  },
  {
   "cell_type": "code",
   "execution_count": null,
   "metadata": {},
   "outputs": [],
   "source": []
  },
  {
   "cell_type": "code",
   "execution_count": null,
   "metadata": {},
   "outputs": [],
   "source": []
  },
  {
   "cell_type": "code",
   "execution_count": null,
   "metadata": {},
   "outputs": [],
   "source": []
  }
 ],
 "metadata": {
  "kernelspec": {
   "display_name": "Python 3",
   "language": "python",
   "name": "python3"
  },
  "language_info": {
   "codemirror_mode": {
    "name": "ipython",
    "version": 3
   },
   "file_extension": ".py",
   "mimetype": "text/x-python",
   "name": "python",
   "nbconvert_exporter": "python",
   "pygments_lexer": "ipython3",
   "version": "3.7.7"
  }
 },
 "nbformat": 4,
 "nbformat_minor": 4
}
